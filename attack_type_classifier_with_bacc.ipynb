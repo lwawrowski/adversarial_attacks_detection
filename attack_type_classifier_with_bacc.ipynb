{
 "cells": [
  {
   "cell_type": "code",
   "execution_count": 42,
   "metadata": {
    "collapsed": true
   },
   "outputs": [],
   "source": [
    "import pandas as pd\n",
    "import numpy as np\n",
    "import copy\n",
    "from typing import List\n",
    "\n",
    "import xgboost as xgb\n",
    "from tqdm import tqdm\n",
    "from sklearn.pipeline import Pipeline\n",
    "from sklearn.preprocessing import LabelEncoder\n",
    "from sklearn.ensemble import RandomForestClassifier\n",
    "from sklearn.metrics import balanced_accuracy_score, cohen_kappa_score, precision_score, recall_score, f1_score, confusion_matrix\n",
    "from sklearn.model_selection import StratifiedKFold\n",
    "\n",
    "import warnings\n",
    "warnings.filterwarnings(\"ignore\")"
   ]
  },
  {
   "cell_type": "markdown",
   "metadata": {},
   "source": []
  },
  {
   "cell_type": "code",
   "execution_count": 43,
   "metadata": {},
   "outputs": [],
   "source": [
    "d = pd.read_csv(\"results/attacks_diagnoses.csv\")\n",
    "d = d[(d[\"dataset\"] != \"mfeat-morphological\") & (d[\"attack\"] != \"lpf\")]"
   ]
  },
  {
   "cell_type": "code",
   "execution_count": 44,
   "metadata": {},
   "outputs": [],
   "source": [
    "def multiclass_false_negative_rate(y_true: List[str], y_pred: List[str]) -> float:\n",
    "    \"\"\"\n",
    "    Calculates the average False Negative Rate (FNR) across all classes in a\n",
    "    multiclass classification.\n",
    "\n",
    "    The False Negative Rate (FNR) for a class is the proportion of actual\n",
    "    positive cases for that class that were incorrectly identified as negative.\n",
    "    FNR = False Negatives / (False Negatives + True Positives)\n",
    "\n",
    "    This function computes the FNR for each class and then returns the average\n",
    "    of these values.\n",
    "\n",
    "    Args:\n",
    "        y_true (List[str]): A list of true labels.\n",
    "        y_pred (List[str]): A list of predicted labels.\n",
    "\n",
    "    Returns:\n",
    "        float: The average False Negative Rate across all classes.\n",
    "               Returns 0.0 if there are no classes with true positives.\n",
    "    \"\"\"\n",
    "    if len(y_true) != len(y_pred):\n",
    "        raise ValueError(\"Input arrays y_true and y_pred must have the same length.\")\n",
    "\n",
    "    unique_classes = np.unique(y_true)\n",
    "    fnr_values = []\n",
    "\n",
    "    for c in unique_classes:\n",
    "        # Identify instances where the true label is the current class 'c'\n",
    "        actual_positives = np.array(y_true) == c\n",
    "\n",
    "        # Find true positives (y_true == c AND y_pred == c)\n",
    "        true_positives = np.sum((np.array(y_pred) == c) & actual_positives)\n",
    "\n",
    "        # Find false negatives (y_true == c AND y_pred != c)\n",
    "        false_negatives = np.sum((np.array(y_pred) != c) & actual_positives)\n",
    "\n",
    "        # Calculate FNR for the current class\n",
    "        total_positives = true_positives + false_negatives\n",
    "        if total_positives == 0:\n",
    "            fnr = 0.0\n",
    "        else:\n",
    "            fnr = false_negatives / total_positives\n",
    "\n",
    "        fnr_values.append(fnr)\n",
    "\n",
    "    # Calculate the average FNR\n",
    "    if not fnr_values:\n",
    "        return 0.0\n",
    "    return np.mean(fnr_values)"
   ]
  },
  {
   "cell_type": "code",
   "execution_count": 45,
   "metadata": {},
   "outputs": [],
   "source": [
    "def q0(x: float) -> float:\n",
    "    return x.quantile(0)\n",
    "\n",
    "\n",
    "def q25(x: float) -> float:\n",
    "    return x.quantile(0.25)\n",
    "\n",
    "\n",
    "def q50(x: float) -> float:\n",
    "    return x.quantile(0.5)\n",
    "\n",
    "\n",
    "def q75(x: float) -> float:\n",
    "    return x.quantile(0.75)\n",
    "\n",
    "\n",
    "def q1(x: float) -> float:\n",
    "    return x.quantile(1)\n",
    "\n",
    "\n",
    "def minmax(x: float) -> float:\n",
    "    return x.max() - x.min()\n",
    "\n",
    "def false_negative_rate(y_true, y_pred):\n",
    "    if confusion_matrix(y_true, y_pred).shape == (2, 2):\n",
    "        tn, fp, fn, tp = confusion_matrix(y_true, y_pred).ravel()\n",
    "        return fn / (fn + tp)\n",
    "    else:\n",
    "        return np.nan\n",
    "\n",
    "attrs_con = d\n",
    "cols_to_drop = [\"approx\", \"target\", \"pred\", \"error\", \"name\",\n",
    "                    \"overall_mean_target\", \"scores\",\n",
    "                    \"mean_target_in_neighborhood\",\n",
    "                    \"mean_approx_in_neighborhood\",\n",
    "                    \"neighborhood_size_div_model_avg\",\n",
    "                    \"neighborhood_size_pct\",\n",
    "                    \"r_centered_entropy\",\n",
    "                \"entropy\",\n",
    "                    \"logk_r_centered_entropy\"]\n",
    "\n",
    "attrs_cols = attrs_con.drop(columns=cols_to_drop)\n",
    "attrs_agg = attrs_cols \\\n",
    "    .groupby([\"dataset\", \"model\", \"attack\", \n",
    "              \"n_test\", \"n_classes\"]) \\\n",
    "    .agg(['mean', q0, q25, q50, q75, q1, minmax])\n",
    "attrs_agg_correct_cols = copy.deepcopy(attrs_agg)\n",
    "attrs_agg_correct_cols.columns = list(attrs_agg_correct_cols.columns.map('_'.join))\n",
    "attrs_agg_correct_cols = attrs_agg_correct_cols.reset_index()"
   ]
  },
  {
   "cell_type": "code",
   "execution_count": 46,
   "metadata": {},
   "outputs": [],
   "source": [
    "d_nn = pd.read_csv(\"results/attacks_diagnoses_nn.csv\")\n",
    "\n",
    "attrs_cols = d_nn.drop(columns=cols_to_drop)\n",
    "attrs_agg = attrs_cols \\\n",
    "    .groupby([\"dataset\", \"model\", \"attack\", \n",
    "              \"n_test\", \"n_classes\"]) \\\n",
    "    .agg(['mean', q0, q25, q50, q75, q1, minmax])\n",
    "attrs_agg_correct_cols_nn = copy.deepcopy(attrs_agg)\n",
    "attrs_agg_correct_cols_nn.columns = list(attrs_agg_correct_cols_nn.columns.map('_'.join))\n",
    "attrs_agg_correct_cols_nn = attrs_agg_correct_cols_nn.reset_index()"
   ]
  },
  {
   "cell_type": "code",
   "execution_count": 47,
   "metadata": {},
   "outputs": [],
   "source": [
    "attrs_agg_correct_cols = pd.concat([attrs_agg_correct_cols, attrs_agg_correct_cols_nn])"
   ]
  },
  {
   "cell_type": "code",
   "execution_count": 48,
   "metadata": {},
   "outputs": [
    {
     "data": {
      "text/plain": [
       "(array(['bim', 'fgm', 'hsj', 'noise', 'org', 'per', 'pgd', 'zoo'],\n",
       "       dtype=object),\n",
       " array([22, 22, 64, 22, 88, 66, 22, 66]))"
      ]
     },
     "execution_count": 48,
     "metadata": {},
     "output_type": "execute_result"
    }
   ],
   "source": [
    "np.unique(attrs_agg_correct_cols[\"attack\"], return_counts=True)"
   ]
  },
  {
   "cell_type": "code",
   "execution_count": 49,
   "metadata": {},
   "outputs": [
    {
     "data": {
      "application/vnd.microsoft.datawrangler.viewer.v0+json": {
       "columns": [
        {
         "name": "index",
         "rawType": "int64",
         "type": "integer"
        },
        {
         "name": "dataset",
         "rawType": "object",
         "type": "string"
        },
        {
         "name": "model",
         "rawType": "object",
         "type": "string"
        },
        {
         "name": "counts",
         "rawType": "int64",
         "type": "integer"
        }
       ],
       "ref": "97137418-64c4-4193-9fa3-76ff8424d0f6",
       "rows": [
        [
         "0",
         "Bioresponse",
         "lin",
         "4"
        ],
        [
         "1",
         "Bioresponse",
         "nn",
         "5"
        ],
        [
         "2",
         "Bioresponse",
         "svm",
         "4"
        ],
        [
         "3",
         "Bioresponse",
         "xgb",
         "4"
        ],
        [
         "4",
         "churn",
         "lin",
         "4"
        ],
        [
         "5",
         "churn",
         "nn",
         "5"
        ],
        [
         "6",
         "churn",
         "svm",
         "4"
        ],
        [
         "7",
         "churn",
         "xgb",
         "4"
        ],
        [
         "8",
         "cmc",
         "lin",
         "4"
        ],
        [
         "9",
         "cmc",
         "nn",
         "5"
        ],
        [
         "10",
         "cmc",
         "svm",
         "4"
        ],
        [
         "11",
         "cmc",
         "xgb",
         "4"
        ],
        [
         "12",
         "cnae-9",
         "lin",
         "4"
        ],
        [
         "13",
         "cnae-9",
         "nn",
         "5"
        ],
        [
         "14",
         "cnae-9",
         "svm",
         "4"
        ],
        [
         "15",
         "cnae-9",
         "xgb",
         "4"
        ],
        [
         "16",
         "dna",
         "lin",
         "4"
        ],
        [
         "17",
         "dna",
         "nn",
         "5"
        ],
        [
         "18",
         "dna",
         "svm",
         "4"
        ],
        [
         "19",
         "dna",
         "xgb",
         "4"
        ],
        [
         "20",
         "har",
         "lin",
         "4"
        ],
        [
         "21",
         "har",
         "nn",
         "5"
        ],
        [
         "22",
         "har",
         "svm",
         "4"
        ],
        [
         "23",
         "har",
         "xgb",
         "4"
        ],
        [
         "24",
         "madelon",
         "lin",
         "4"
        ],
        [
         "25",
         "madelon",
         "nn",
         "5"
        ],
        [
         "26",
         "madelon",
         "svm",
         "4"
        ],
        [
         "27",
         "madelon",
         "xgb",
         "3"
        ],
        [
         "28",
         "mfeat-factors",
         "lin",
         "4"
        ],
        [
         "29",
         "mfeat-factors",
         "nn",
         "5"
        ],
        [
         "30",
         "mfeat-factors",
         "svm",
         "4"
        ],
        [
         "31",
         "mfeat-factors",
         "xgb",
         "4"
        ],
        [
         "32",
         "mfeat-fourier",
         "lin",
         "4"
        ],
        [
         "33",
         "mfeat-fourier",
         "nn",
         "5"
        ],
        [
         "34",
         "mfeat-fourier",
         "svm",
         "4"
        ],
        [
         "35",
         "mfeat-fourier",
         "xgb",
         "4"
        ],
        [
         "36",
         "mfeat-karhunen",
         "lin",
         "4"
        ],
        [
         "37",
         "mfeat-karhunen",
         "nn",
         "5"
        ],
        [
         "38",
         "mfeat-karhunen",
         "svm",
         "4"
        ],
        [
         "39",
         "mfeat-karhunen",
         "xgb",
         "4"
        ],
        [
         "40",
         "mfeat-zernike",
         "lin",
         "4"
        ],
        [
         "41",
         "mfeat-zernike",
         "nn",
         "5"
        ],
        [
         "42",
         "mfeat-zernike",
         "svm",
         "4"
        ],
        [
         "43",
         "mfeat-zernike",
         "xgb",
         "4"
        ],
        [
         "44",
         "nomao",
         "lin",
         "4"
        ],
        [
         "45",
         "nomao",
         "nn",
         "5"
        ],
        [
         "46",
         "nomao",
         "svm",
         "4"
        ],
        [
         "47",
         "nomao",
         "xgb",
         "4"
        ],
        [
         "48",
         "optdigits",
         "lin",
         "4"
        ],
        [
         "49",
         "optdigits",
         "nn",
         "5"
        ]
       ],
       "shape": {
        "columns": 3,
        "rows": 88
       }
      },
      "text/html": [
       "<div>\n",
       "<style scoped>\n",
       "    .dataframe tbody tr th:only-of-type {\n",
       "        vertical-align: middle;\n",
       "    }\n",
       "\n",
       "    .dataframe tbody tr th {\n",
       "        vertical-align: top;\n",
       "    }\n",
       "\n",
       "    .dataframe thead th {\n",
       "        text-align: right;\n",
       "    }\n",
       "</style>\n",
       "<table border=\"1\" class=\"dataframe\">\n",
       "  <thead>\n",
       "    <tr style=\"text-align: right;\">\n",
       "      <th></th>\n",
       "      <th>dataset</th>\n",
       "      <th>model</th>\n",
       "      <th>counts</th>\n",
       "    </tr>\n",
       "  </thead>\n",
       "  <tbody>\n",
       "    <tr>\n",
       "      <th>0</th>\n",
       "      <td>Bioresponse</td>\n",
       "      <td>lin</td>\n",
       "      <td>4</td>\n",
       "    </tr>\n",
       "    <tr>\n",
       "      <th>1</th>\n",
       "      <td>Bioresponse</td>\n",
       "      <td>nn</td>\n",
       "      <td>5</td>\n",
       "    </tr>\n",
       "    <tr>\n",
       "      <th>2</th>\n",
       "      <td>Bioresponse</td>\n",
       "      <td>svm</td>\n",
       "      <td>4</td>\n",
       "    </tr>\n",
       "    <tr>\n",
       "      <th>3</th>\n",
       "      <td>Bioresponse</td>\n",
       "      <td>xgb</td>\n",
       "      <td>4</td>\n",
       "    </tr>\n",
       "    <tr>\n",
       "      <th>4</th>\n",
       "      <td>churn</td>\n",
       "      <td>lin</td>\n",
       "      <td>4</td>\n",
       "    </tr>\n",
       "    <tr>\n",
       "      <th>...</th>\n",
       "      <td>...</td>\n",
       "      <td>...</td>\n",
       "      <td>...</td>\n",
       "    </tr>\n",
       "    <tr>\n",
       "      <th>83</th>\n",
       "      <td>wdbc</td>\n",
       "      <td>xgb</td>\n",
       "      <td>4</td>\n",
       "    </tr>\n",
       "    <tr>\n",
       "      <th>84</th>\n",
       "      <td>wilt</td>\n",
       "      <td>lin</td>\n",
       "      <td>4</td>\n",
       "    </tr>\n",
       "    <tr>\n",
       "      <th>85</th>\n",
       "      <td>wilt</td>\n",
       "      <td>nn</td>\n",
       "      <td>5</td>\n",
       "    </tr>\n",
       "    <tr>\n",
       "      <th>86</th>\n",
       "      <td>wilt</td>\n",
       "      <td>svm</td>\n",
       "      <td>4</td>\n",
       "    </tr>\n",
       "    <tr>\n",
       "      <th>87</th>\n",
       "      <td>wilt</td>\n",
       "      <td>xgb</td>\n",
       "      <td>4</td>\n",
       "    </tr>\n",
       "  </tbody>\n",
       "</table>\n",
       "<p>88 rows × 3 columns</p>\n",
       "</div>"
      ],
      "text/plain": [
       "        dataset model  counts\n",
       "0   Bioresponse   lin       4\n",
       "1   Bioresponse    nn       5\n",
       "2   Bioresponse   svm       4\n",
       "3   Bioresponse   xgb       4\n",
       "4         churn   lin       4\n",
       "..          ...   ...     ...\n",
       "83         wdbc   xgb       4\n",
       "84         wilt   lin       4\n",
       "85         wilt    nn       5\n",
       "86         wilt   svm       4\n",
       "87         wilt   xgb       4\n",
       "\n",
       "[88 rows x 3 columns]"
      ]
     },
     "execution_count": 49,
     "metadata": {},
     "output_type": "execute_result"
    }
   ],
   "source": [
    "data_counts = attrs_agg_correct_cols[[\"dataset\", \"model\", \"attack\"]].groupby([\"dataset\", \"model\"]).size().reset_index(name='counts')\n",
    "data_counts"
   ]
  },
  {
   "cell_type": "code",
   "execution_count": 50,
   "metadata": {},
   "outputs": [
    {
     "data": {
      "application/vnd.microsoft.datawrangler.viewer.v0+json": {
       "columns": [
        {
         "name": "index",
         "rawType": "int64",
         "type": "integer"
        },
        {
         "name": "dataset",
         "rawType": "object",
         "type": "string"
        },
        {
         "name": "attack",
         "rawType": "object",
         "type": "string"
        },
        {
         "name": "counts",
         "rawType": "int64",
         "type": "integer"
        }
       ],
       "ref": "7792e061-3496-4994-b1c2-3bdc7b77902c",
       "rows": [
        [
         "0",
         "Bioresponse",
         "bim",
         "1"
        ],
        [
         "1",
         "Bioresponse",
         "fgm",
         "1"
        ],
        [
         "2",
         "Bioresponse",
         "hsj",
         "3"
        ],
        [
         "3",
         "Bioresponse",
         "noise",
         "1"
        ],
        [
         "4",
         "Bioresponse",
         "org",
         "4"
        ],
        [
         "5",
         "Bioresponse",
         "per",
         "3"
        ],
        [
         "6",
         "Bioresponse",
         "pgd",
         "1"
        ],
        [
         "7",
         "Bioresponse",
         "zoo",
         "3"
        ],
        [
         "8",
         "churn",
         "bim",
         "1"
        ],
        [
         "9",
         "churn",
         "fgm",
         "1"
        ],
        [
         "10",
         "churn",
         "hsj",
         "3"
        ],
        [
         "11",
         "churn",
         "noise",
         "1"
        ],
        [
         "12",
         "churn",
         "org",
         "4"
        ],
        [
         "13",
         "churn",
         "per",
         "3"
        ],
        [
         "14",
         "churn",
         "pgd",
         "1"
        ],
        [
         "15",
         "churn",
         "zoo",
         "3"
        ],
        [
         "16",
         "cmc",
         "bim",
         "1"
        ],
        [
         "17",
         "cmc",
         "fgm",
         "1"
        ],
        [
         "18",
         "cmc",
         "hsj",
         "3"
        ],
        [
         "19",
         "cmc",
         "noise",
         "1"
        ],
        [
         "20",
         "cmc",
         "org",
         "4"
        ],
        [
         "21",
         "cmc",
         "per",
         "3"
        ],
        [
         "22",
         "cmc",
         "pgd",
         "1"
        ],
        [
         "23",
         "cmc",
         "zoo",
         "3"
        ],
        [
         "24",
         "cnae-9",
         "bim",
         "1"
        ],
        [
         "25",
         "cnae-9",
         "fgm",
         "1"
        ],
        [
         "26",
         "cnae-9",
         "hsj",
         "3"
        ],
        [
         "27",
         "cnae-9",
         "noise",
         "1"
        ],
        [
         "28",
         "cnae-9",
         "org",
         "4"
        ],
        [
         "29",
         "cnae-9",
         "per",
         "3"
        ],
        [
         "30",
         "cnae-9",
         "pgd",
         "1"
        ],
        [
         "31",
         "cnae-9",
         "zoo",
         "3"
        ],
        [
         "32",
         "dna",
         "bim",
         "1"
        ],
        [
         "33",
         "dna",
         "fgm",
         "1"
        ],
        [
         "34",
         "dna",
         "hsj",
         "3"
        ],
        [
         "35",
         "dna",
         "noise",
         "1"
        ],
        [
         "36",
         "dna",
         "org",
         "4"
        ],
        [
         "37",
         "dna",
         "per",
         "3"
        ],
        [
         "38",
         "dna",
         "pgd",
         "1"
        ],
        [
         "39",
         "dna",
         "zoo",
         "3"
        ],
        [
         "40",
         "har",
         "bim",
         "1"
        ],
        [
         "41",
         "har",
         "fgm",
         "1"
        ],
        [
         "42",
         "har",
         "hsj",
         "3"
        ],
        [
         "43",
         "har",
         "noise",
         "1"
        ],
        [
         "44",
         "har",
         "org",
         "4"
        ],
        [
         "45",
         "har",
         "per",
         "3"
        ],
        [
         "46",
         "har",
         "pgd",
         "1"
        ],
        [
         "47",
         "har",
         "zoo",
         "3"
        ],
        [
         "48",
         "madelon",
         "bim",
         "1"
        ],
        [
         "49",
         "madelon",
         "fgm",
         "1"
        ]
       ],
       "shape": {
        "columns": 3,
        "rows": 176
       }
      },
      "text/html": [
       "<div>\n",
       "<style scoped>\n",
       "    .dataframe tbody tr th:only-of-type {\n",
       "        vertical-align: middle;\n",
       "    }\n",
       "\n",
       "    .dataframe tbody tr th {\n",
       "        vertical-align: top;\n",
       "    }\n",
       "\n",
       "    .dataframe thead th {\n",
       "        text-align: right;\n",
       "    }\n",
       "</style>\n",
       "<table border=\"1\" class=\"dataframe\">\n",
       "  <thead>\n",
       "    <tr style=\"text-align: right;\">\n",
       "      <th></th>\n",
       "      <th>dataset</th>\n",
       "      <th>attack</th>\n",
       "      <th>counts</th>\n",
       "    </tr>\n",
       "  </thead>\n",
       "  <tbody>\n",
       "    <tr>\n",
       "      <th>0</th>\n",
       "      <td>Bioresponse</td>\n",
       "      <td>bim</td>\n",
       "      <td>1</td>\n",
       "    </tr>\n",
       "    <tr>\n",
       "      <th>1</th>\n",
       "      <td>Bioresponse</td>\n",
       "      <td>fgm</td>\n",
       "      <td>1</td>\n",
       "    </tr>\n",
       "    <tr>\n",
       "      <th>2</th>\n",
       "      <td>Bioresponse</td>\n",
       "      <td>hsj</td>\n",
       "      <td>3</td>\n",
       "    </tr>\n",
       "    <tr>\n",
       "      <th>3</th>\n",
       "      <td>Bioresponse</td>\n",
       "      <td>noise</td>\n",
       "      <td>1</td>\n",
       "    </tr>\n",
       "    <tr>\n",
       "      <th>4</th>\n",
       "      <td>Bioresponse</td>\n",
       "      <td>org</td>\n",
       "      <td>4</td>\n",
       "    </tr>\n",
       "    <tr>\n",
       "      <th>...</th>\n",
       "      <td>...</td>\n",
       "      <td>...</td>\n",
       "      <td>...</td>\n",
       "    </tr>\n",
       "    <tr>\n",
       "      <th>171</th>\n",
       "      <td>wilt</td>\n",
       "      <td>noise</td>\n",
       "      <td>1</td>\n",
       "    </tr>\n",
       "    <tr>\n",
       "      <th>172</th>\n",
       "      <td>wilt</td>\n",
       "      <td>org</td>\n",
       "      <td>4</td>\n",
       "    </tr>\n",
       "    <tr>\n",
       "      <th>173</th>\n",
       "      <td>wilt</td>\n",
       "      <td>per</td>\n",
       "      <td>3</td>\n",
       "    </tr>\n",
       "    <tr>\n",
       "      <th>174</th>\n",
       "      <td>wilt</td>\n",
       "      <td>pgd</td>\n",
       "      <td>1</td>\n",
       "    </tr>\n",
       "    <tr>\n",
       "      <th>175</th>\n",
       "      <td>wilt</td>\n",
       "      <td>zoo</td>\n",
       "      <td>3</td>\n",
       "    </tr>\n",
       "  </tbody>\n",
       "</table>\n",
       "<p>176 rows × 3 columns</p>\n",
       "</div>"
      ],
      "text/plain": [
       "         dataset attack  counts\n",
       "0    Bioresponse    bim       1\n",
       "1    Bioresponse    fgm       1\n",
       "2    Bioresponse    hsj       3\n",
       "3    Bioresponse  noise       1\n",
       "4    Bioresponse    org       4\n",
       "..           ...    ...     ...\n",
       "171         wilt  noise       1\n",
       "172         wilt    org       4\n",
       "173         wilt    per       3\n",
       "174         wilt    pgd       1\n",
       "175         wilt    zoo       3\n",
       "\n",
       "[176 rows x 3 columns]"
      ]
     },
     "execution_count": 50,
     "metadata": {},
     "output_type": "execute_result"
    }
   ],
   "source": [
    "data_counts_model_type = attrs_agg_correct_cols[[\"dataset\", \"model\", \"attack\"]].groupby([\"dataset\", \"attack\"]).size().reset_index(name='counts')\n",
    "data_counts_model_type"
   ]
  },
  {
   "cell_type": "code",
   "execution_count": 51,
   "metadata": {},
   "outputs": [
    {
     "data": {
      "text/html": [
       "<style>#sk-container-id-2 {\n",
       "  /* Definition of color scheme common for light and dark mode */\n",
       "  --sklearn-color-text: #000;\n",
       "  --sklearn-color-text-muted: #666;\n",
       "  --sklearn-color-line: gray;\n",
       "  /* Definition of color scheme for unfitted estimators */\n",
       "  --sklearn-color-unfitted-level-0: #fff5e6;\n",
       "  --sklearn-color-unfitted-level-1: #f6e4d2;\n",
       "  --sklearn-color-unfitted-level-2: #ffe0b3;\n",
       "  --sklearn-color-unfitted-level-3: chocolate;\n",
       "  /* Definition of color scheme for fitted estimators */\n",
       "  --sklearn-color-fitted-level-0: #f0f8ff;\n",
       "  --sklearn-color-fitted-level-1: #d4ebff;\n",
       "  --sklearn-color-fitted-level-2: #b3dbfd;\n",
       "  --sklearn-color-fitted-level-3: cornflowerblue;\n",
       "\n",
       "  /* Specific color for light theme */\n",
       "  --sklearn-color-text-on-default-background: var(--sg-text-color, var(--theme-code-foreground, var(--jp-content-font-color1, black)));\n",
       "  --sklearn-color-background: var(--sg-background-color, var(--theme-background, var(--jp-layout-color0, white)));\n",
       "  --sklearn-color-border-box: var(--sg-text-color, var(--theme-code-foreground, var(--jp-content-font-color1, black)));\n",
       "  --sklearn-color-icon: #696969;\n",
       "\n",
       "  @media (prefers-color-scheme: dark) {\n",
       "    /* Redefinition of color scheme for dark theme */\n",
       "    --sklearn-color-text-on-default-background: var(--sg-text-color, var(--theme-code-foreground, var(--jp-content-font-color1, white)));\n",
       "    --sklearn-color-background: var(--sg-background-color, var(--theme-background, var(--jp-layout-color0, #111)));\n",
       "    --sklearn-color-border-box: var(--sg-text-color, var(--theme-code-foreground, var(--jp-content-font-color1, white)));\n",
       "    --sklearn-color-icon: #878787;\n",
       "  }\n",
       "}\n",
       "\n",
       "#sk-container-id-2 {\n",
       "  color: var(--sklearn-color-text);\n",
       "}\n",
       "\n",
       "#sk-container-id-2 pre {\n",
       "  padding: 0;\n",
       "}\n",
       "\n",
       "#sk-container-id-2 input.sk-hidden--visually {\n",
       "  border: 0;\n",
       "  clip: rect(1px 1px 1px 1px);\n",
       "  clip: rect(1px, 1px, 1px, 1px);\n",
       "  height: 1px;\n",
       "  margin: -1px;\n",
       "  overflow: hidden;\n",
       "  padding: 0;\n",
       "  position: absolute;\n",
       "  width: 1px;\n",
       "}\n",
       "\n",
       "#sk-container-id-2 div.sk-dashed-wrapped {\n",
       "  border: 1px dashed var(--sklearn-color-line);\n",
       "  margin: 0 0.4em 0.5em 0.4em;\n",
       "  box-sizing: border-box;\n",
       "  padding-bottom: 0.4em;\n",
       "  background-color: var(--sklearn-color-background);\n",
       "}\n",
       "\n",
       "#sk-container-id-2 div.sk-container {\n",
       "  /* jupyter's `normalize.less` sets `[hidden] { display: none; }`\n",
       "     but bootstrap.min.css set `[hidden] { display: none !important; }`\n",
       "     so we also need the `!important` here to be able to override the\n",
       "     default hidden behavior on the sphinx rendered scikit-learn.org.\n",
       "     See: https://github.com/scikit-learn/scikit-learn/issues/21755 */\n",
       "  display: inline-block !important;\n",
       "  position: relative;\n",
       "}\n",
       "\n",
       "#sk-container-id-2 div.sk-text-repr-fallback {\n",
       "  display: none;\n",
       "}\n",
       "\n",
       "div.sk-parallel-item,\n",
       "div.sk-serial,\n",
       "div.sk-item {\n",
       "  /* draw centered vertical line to link estimators */\n",
       "  background-image: linear-gradient(var(--sklearn-color-text-on-default-background), var(--sklearn-color-text-on-default-background));\n",
       "  background-size: 2px 100%;\n",
       "  background-repeat: no-repeat;\n",
       "  background-position: center center;\n",
       "}\n",
       "\n",
       "/* Parallel-specific style estimator block */\n",
       "\n",
       "#sk-container-id-2 div.sk-parallel-item::after {\n",
       "  content: \"\";\n",
       "  width: 100%;\n",
       "  border-bottom: 2px solid var(--sklearn-color-text-on-default-background);\n",
       "  flex-grow: 1;\n",
       "}\n",
       "\n",
       "#sk-container-id-2 div.sk-parallel {\n",
       "  display: flex;\n",
       "  align-items: stretch;\n",
       "  justify-content: center;\n",
       "  background-color: var(--sklearn-color-background);\n",
       "  position: relative;\n",
       "}\n",
       "\n",
       "#sk-container-id-2 div.sk-parallel-item {\n",
       "  display: flex;\n",
       "  flex-direction: column;\n",
       "}\n",
       "\n",
       "#sk-container-id-2 div.sk-parallel-item:first-child::after {\n",
       "  align-self: flex-end;\n",
       "  width: 50%;\n",
       "}\n",
       "\n",
       "#sk-container-id-2 div.sk-parallel-item:last-child::after {\n",
       "  align-self: flex-start;\n",
       "  width: 50%;\n",
       "}\n",
       "\n",
       "#sk-container-id-2 div.sk-parallel-item:only-child::after {\n",
       "  width: 0;\n",
       "}\n",
       "\n",
       "/* Serial-specific style estimator block */\n",
       "\n",
       "#sk-container-id-2 div.sk-serial {\n",
       "  display: flex;\n",
       "  flex-direction: column;\n",
       "  align-items: center;\n",
       "  background-color: var(--sklearn-color-background);\n",
       "  padding-right: 1em;\n",
       "  padding-left: 1em;\n",
       "}\n",
       "\n",
       "\n",
       "/* Toggleable style: style used for estimator/Pipeline/ColumnTransformer box that is\n",
       "clickable and can be expanded/collapsed.\n",
       "- Pipeline and ColumnTransformer use this feature and define the default style\n",
       "- Estimators will overwrite some part of the style using the `sk-estimator` class\n",
       "*/\n",
       "\n",
       "/* Pipeline and ColumnTransformer style (default) */\n",
       "\n",
       "#sk-container-id-2 div.sk-toggleable {\n",
       "  /* Default theme specific background. It is overwritten whether we have a\n",
       "  specific estimator or a Pipeline/ColumnTransformer */\n",
       "  background-color: var(--sklearn-color-background);\n",
       "}\n",
       "\n",
       "/* Toggleable label */\n",
       "#sk-container-id-2 label.sk-toggleable__label {\n",
       "  cursor: pointer;\n",
       "  display: flex;\n",
       "  width: 100%;\n",
       "  margin-bottom: 0;\n",
       "  padding: 0.5em;\n",
       "  box-sizing: border-box;\n",
       "  text-align: center;\n",
       "  align-items: start;\n",
       "  justify-content: space-between;\n",
       "  gap: 0.5em;\n",
       "}\n",
       "\n",
       "#sk-container-id-2 label.sk-toggleable__label .caption {\n",
       "  font-size: 0.6rem;\n",
       "  font-weight: lighter;\n",
       "  color: var(--sklearn-color-text-muted);\n",
       "}\n",
       "\n",
       "#sk-container-id-2 label.sk-toggleable__label-arrow:before {\n",
       "  /* Arrow on the left of the label */\n",
       "  content: \"▸\";\n",
       "  float: left;\n",
       "  margin-right: 0.25em;\n",
       "  color: var(--sklearn-color-icon);\n",
       "}\n",
       "\n",
       "#sk-container-id-2 label.sk-toggleable__label-arrow:hover:before {\n",
       "  color: var(--sklearn-color-text);\n",
       "}\n",
       "\n",
       "/* Toggleable content - dropdown */\n",
       "\n",
       "#sk-container-id-2 div.sk-toggleable__content {\n",
       "  display: none;\n",
       "  text-align: left;\n",
       "  /* unfitted */\n",
       "  background-color: var(--sklearn-color-unfitted-level-0);\n",
       "}\n",
       "\n",
       "#sk-container-id-2 div.sk-toggleable__content.fitted {\n",
       "  /* fitted */\n",
       "  background-color: var(--sklearn-color-fitted-level-0);\n",
       "}\n",
       "\n",
       "#sk-container-id-2 div.sk-toggleable__content pre {\n",
       "  margin: 0.2em;\n",
       "  border-radius: 0.25em;\n",
       "  color: var(--sklearn-color-text);\n",
       "  /* unfitted */\n",
       "  background-color: var(--sklearn-color-unfitted-level-0);\n",
       "}\n",
       "\n",
       "#sk-container-id-2 div.sk-toggleable__content.fitted pre {\n",
       "  /* unfitted */\n",
       "  background-color: var(--sklearn-color-fitted-level-0);\n",
       "}\n",
       "\n",
       "#sk-container-id-2 input.sk-toggleable__control:checked~div.sk-toggleable__content {\n",
       "  /* Expand drop-down */\n",
       "  display: block;\n",
       "  width: 100%;\n",
       "  overflow: visible;\n",
       "}\n",
       "\n",
       "#sk-container-id-2 input.sk-toggleable__control:checked~label.sk-toggleable__label-arrow:before {\n",
       "  content: \"▾\";\n",
       "}\n",
       "\n",
       "/* Pipeline/ColumnTransformer-specific style */\n",
       "\n",
       "#sk-container-id-2 div.sk-label input.sk-toggleable__control:checked~label.sk-toggleable__label {\n",
       "  color: var(--sklearn-color-text);\n",
       "  background-color: var(--sklearn-color-unfitted-level-2);\n",
       "}\n",
       "\n",
       "#sk-container-id-2 div.sk-label.fitted input.sk-toggleable__control:checked~label.sk-toggleable__label {\n",
       "  background-color: var(--sklearn-color-fitted-level-2);\n",
       "}\n",
       "\n",
       "/* Estimator-specific style */\n",
       "\n",
       "/* Colorize estimator box */\n",
       "#sk-container-id-2 div.sk-estimator input.sk-toggleable__control:checked~label.sk-toggleable__label {\n",
       "  /* unfitted */\n",
       "  background-color: var(--sklearn-color-unfitted-level-2);\n",
       "}\n",
       "\n",
       "#sk-container-id-2 div.sk-estimator.fitted input.sk-toggleable__control:checked~label.sk-toggleable__label {\n",
       "  /* fitted */\n",
       "  background-color: var(--sklearn-color-fitted-level-2);\n",
       "}\n",
       "\n",
       "#sk-container-id-2 div.sk-label label.sk-toggleable__label,\n",
       "#sk-container-id-2 div.sk-label label {\n",
       "  /* The background is the default theme color */\n",
       "  color: var(--sklearn-color-text-on-default-background);\n",
       "}\n",
       "\n",
       "/* On hover, darken the color of the background */\n",
       "#sk-container-id-2 div.sk-label:hover label.sk-toggleable__label {\n",
       "  color: var(--sklearn-color-text);\n",
       "  background-color: var(--sklearn-color-unfitted-level-2);\n",
       "}\n",
       "\n",
       "/* Label box, darken color on hover, fitted */\n",
       "#sk-container-id-2 div.sk-label.fitted:hover label.sk-toggleable__label.fitted {\n",
       "  color: var(--sklearn-color-text);\n",
       "  background-color: var(--sklearn-color-fitted-level-2);\n",
       "}\n",
       "\n",
       "/* Estimator label */\n",
       "\n",
       "#sk-container-id-2 div.sk-label label {\n",
       "  font-family: monospace;\n",
       "  font-weight: bold;\n",
       "  display: inline-block;\n",
       "  line-height: 1.2em;\n",
       "}\n",
       "\n",
       "#sk-container-id-2 div.sk-label-container {\n",
       "  text-align: center;\n",
       "}\n",
       "\n",
       "/* Estimator-specific */\n",
       "#sk-container-id-2 div.sk-estimator {\n",
       "  font-family: monospace;\n",
       "  border: 1px dotted var(--sklearn-color-border-box);\n",
       "  border-radius: 0.25em;\n",
       "  box-sizing: border-box;\n",
       "  margin-bottom: 0.5em;\n",
       "  /* unfitted */\n",
       "  background-color: var(--sklearn-color-unfitted-level-0);\n",
       "}\n",
       "\n",
       "#sk-container-id-2 div.sk-estimator.fitted {\n",
       "  /* fitted */\n",
       "  background-color: var(--sklearn-color-fitted-level-0);\n",
       "}\n",
       "\n",
       "/* on hover */\n",
       "#sk-container-id-2 div.sk-estimator:hover {\n",
       "  /* unfitted */\n",
       "  background-color: var(--sklearn-color-unfitted-level-2);\n",
       "}\n",
       "\n",
       "#sk-container-id-2 div.sk-estimator.fitted:hover {\n",
       "  /* fitted */\n",
       "  background-color: var(--sklearn-color-fitted-level-2);\n",
       "}\n",
       "\n",
       "/* Specification for estimator info (e.g. \"i\" and \"?\") */\n",
       "\n",
       "/* Common style for \"i\" and \"?\" */\n",
       "\n",
       ".sk-estimator-doc-link,\n",
       "a:link.sk-estimator-doc-link,\n",
       "a:visited.sk-estimator-doc-link {\n",
       "  float: right;\n",
       "  font-size: smaller;\n",
       "  line-height: 1em;\n",
       "  font-family: monospace;\n",
       "  background-color: var(--sklearn-color-background);\n",
       "  border-radius: 1em;\n",
       "  height: 1em;\n",
       "  width: 1em;\n",
       "  text-decoration: none !important;\n",
       "  margin-left: 0.5em;\n",
       "  text-align: center;\n",
       "  /* unfitted */\n",
       "  border: var(--sklearn-color-unfitted-level-1) 1pt solid;\n",
       "  color: var(--sklearn-color-unfitted-level-1);\n",
       "}\n",
       "\n",
       ".sk-estimator-doc-link.fitted,\n",
       "a:link.sk-estimator-doc-link.fitted,\n",
       "a:visited.sk-estimator-doc-link.fitted {\n",
       "  /* fitted */\n",
       "  border: var(--sklearn-color-fitted-level-1) 1pt solid;\n",
       "  color: var(--sklearn-color-fitted-level-1);\n",
       "}\n",
       "\n",
       "/* On hover */\n",
       "div.sk-estimator:hover .sk-estimator-doc-link:hover,\n",
       ".sk-estimator-doc-link:hover,\n",
       "div.sk-label-container:hover .sk-estimator-doc-link:hover,\n",
       ".sk-estimator-doc-link:hover {\n",
       "  /* unfitted */\n",
       "  background-color: var(--sklearn-color-unfitted-level-3);\n",
       "  color: var(--sklearn-color-background);\n",
       "  text-decoration: none;\n",
       "}\n",
       "\n",
       "div.sk-estimator.fitted:hover .sk-estimator-doc-link.fitted:hover,\n",
       ".sk-estimator-doc-link.fitted:hover,\n",
       "div.sk-label-container:hover .sk-estimator-doc-link.fitted:hover,\n",
       ".sk-estimator-doc-link.fitted:hover {\n",
       "  /* fitted */\n",
       "  background-color: var(--sklearn-color-fitted-level-3);\n",
       "  color: var(--sklearn-color-background);\n",
       "  text-decoration: none;\n",
       "}\n",
       "\n",
       "/* Span, style for the box shown on hovering the info icon */\n",
       ".sk-estimator-doc-link span {\n",
       "  display: none;\n",
       "  z-index: 9999;\n",
       "  position: relative;\n",
       "  font-weight: normal;\n",
       "  right: .2ex;\n",
       "  padding: .5ex;\n",
       "  margin: .5ex;\n",
       "  width: min-content;\n",
       "  min-width: 20ex;\n",
       "  max-width: 50ex;\n",
       "  color: var(--sklearn-color-text);\n",
       "  box-shadow: 2pt 2pt 4pt #999;\n",
       "  /* unfitted */\n",
       "  background: var(--sklearn-color-unfitted-level-0);\n",
       "  border: .5pt solid var(--sklearn-color-unfitted-level-3);\n",
       "}\n",
       "\n",
       ".sk-estimator-doc-link.fitted span {\n",
       "  /* fitted */\n",
       "  background: var(--sklearn-color-fitted-level-0);\n",
       "  border: var(--sklearn-color-fitted-level-3);\n",
       "}\n",
       "\n",
       ".sk-estimator-doc-link:hover span {\n",
       "  display: block;\n",
       "}\n",
       "\n",
       "/* \"?\"-specific style due to the `<a>` HTML tag */\n",
       "\n",
       "#sk-container-id-2 a.estimator_doc_link {\n",
       "  float: right;\n",
       "  font-size: 1rem;\n",
       "  line-height: 1em;\n",
       "  font-family: monospace;\n",
       "  background-color: var(--sklearn-color-background);\n",
       "  border-radius: 1rem;\n",
       "  height: 1rem;\n",
       "  width: 1rem;\n",
       "  text-decoration: none;\n",
       "  /* unfitted */\n",
       "  color: var(--sklearn-color-unfitted-level-1);\n",
       "  border: var(--sklearn-color-unfitted-level-1) 1pt solid;\n",
       "}\n",
       "\n",
       "#sk-container-id-2 a.estimator_doc_link.fitted {\n",
       "  /* fitted */\n",
       "  border: var(--sklearn-color-fitted-level-1) 1pt solid;\n",
       "  color: var(--sklearn-color-fitted-level-1);\n",
       "}\n",
       "\n",
       "/* On hover */\n",
       "#sk-container-id-2 a.estimator_doc_link:hover {\n",
       "  /* unfitted */\n",
       "  background-color: var(--sklearn-color-unfitted-level-3);\n",
       "  color: var(--sklearn-color-background);\n",
       "  text-decoration: none;\n",
       "}\n",
       "\n",
       "#sk-container-id-2 a.estimator_doc_link.fitted:hover {\n",
       "  /* fitted */\n",
       "  background-color: var(--sklearn-color-fitted-level-3);\n",
       "}\n",
       "\n",
       ".estimator-table summary {\n",
       "    padding: .5rem;\n",
       "    font-family: monospace;\n",
       "    cursor: pointer;\n",
       "}\n",
       "\n",
       ".estimator-table details[open] {\n",
       "    padding-left: 0.1rem;\n",
       "    padding-right: 0.1rem;\n",
       "    padding-bottom: 0.3rem;\n",
       "}\n",
       "\n",
       ".estimator-table .parameters-table {\n",
       "    margin-left: auto !important;\n",
       "    margin-right: auto !important;\n",
       "}\n",
       "\n",
       ".estimator-table .parameters-table tr:nth-child(odd) {\n",
       "    background-color: #fff;\n",
       "}\n",
       "\n",
       ".estimator-table .parameters-table tr:nth-child(even) {\n",
       "    background-color: #f6f6f6;\n",
       "}\n",
       "\n",
       ".estimator-table .parameters-table tr:hover {\n",
       "    background-color: #e0e0e0;\n",
       "}\n",
       "\n",
       ".estimator-table table td {\n",
       "    border: 1px solid rgba(106, 105, 104, 0.232);\n",
       "}\n",
       "\n",
       ".user-set td {\n",
       "    color:rgb(255, 94, 0);\n",
       "    text-align: left;\n",
       "}\n",
       "\n",
       ".user-set td.value pre {\n",
       "    color:rgb(255, 94, 0) !important;\n",
       "    background-color: transparent !important;\n",
       "}\n",
       "\n",
       ".default td {\n",
       "    color: black;\n",
       "    text-align: left;\n",
       "}\n",
       "\n",
       ".user-set td i,\n",
       ".default td i {\n",
       "    color: black;\n",
       "}\n",
       "\n",
       ".copy-paste-icon {\n",
       "    background-image: url(data:image/svg+xml;base64,PHN2ZyB4bWxucz0iaHR0cDovL3d3dy53My5vcmcvMjAwMC9zdmciIHZpZXdCb3g9IjAgMCA0NDggNTEyIj48IS0tIUZvbnQgQXdlc29tZSBGcmVlIDYuNy4yIGJ5IEBmb250YXdlc29tZSAtIGh0dHBzOi8vZm9udGF3ZXNvbWUuY29tIExpY2Vuc2UgLSBodHRwczovL2ZvbnRhd2Vzb21lLmNvbS9saWNlbnNlL2ZyZWUgQ29weXJpZ2h0IDIwMjUgRm9udGljb25zLCBJbmMuLS0+PHBhdGggZD0iTTIwOCAwTDMzMi4xIDBjMTIuNyAwIDI0LjkgNS4xIDMzLjkgMTQuMWw2Ny45IDY3LjljOSA5IDE0LjEgMjEuMiAxNC4xIDMzLjlMNDQ4IDMzNmMwIDI2LjUtMjEuNSA0OC00OCA0OGwtMTkyIDBjLTI2LjUgMC00OC0yMS41LTQ4LTQ4bDAtMjg4YzAtMjYuNSAyMS41LTQ4IDQ4LTQ4ek00OCAxMjhsODAgMCAwIDY0LTY0IDAgMCAyNTYgMTkyIDAgMC0zMiA2NCAwIDAgNDhjMCAyNi41LTIxLjUgNDgtNDggNDhMNDggNTEyYy0yNi41IDAtNDgtMjEuNS00OC00OEwwIDE3NmMwLTI2LjUgMjEuNS00OCA0OC00OHoiLz48L3N2Zz4=);\n",
       "    background-repeat: no-repeat;\n",
       "    background-size: 14px 14px;\n",
       "    background-position: 0;\n",
       "    display: inline-block;\n",
       "    width: 14px;\n",
       "    height: 14px;\n",
       "    cursor: pointer;\n",
       "}\n",
       "</style><body><div id=\"sk-container-id-2\" class=\"sk-top-container\"><div class=\"sk-text-repr-fallback\"><pre>RandomForestClassifier(random_state=123)</pre><b>In a Jupyter environment, please rerun this cell to show the HTML representation or trust the notebook. <br />On GitHub, the HTML representation is unable to render, please try loading this page with nbviewer.org.</b></div><div class=\"sk-container\" hidden><div class=\"sk-item\"><div class=\"sk-estimator fitted sk-toggleable\"><input class=\"sk-toggleable__control sk-hidden--visually\" id=\"sk-estimator-id-2\" type=\"checkbox\" checked><label for=\"sk-estimator-id-2\" class=\"sk-toggleable__label fitted sk-toggleable__label-arrow\"><div><div>RandomForestClassifier</div></div><div><a class=\"sk-estimator-doc-link fitted\" rel=\"noreferrer\" target=\"_blank\" href=\"https://scikit-learn.org/1.7/modules/generated/sklearn.ensemble.RandomForestClassifier.html\">?<span>Documentation for RandomForestClassifier</span></a><span class=\"sk-estimator-doc-link fitted\">i<span>Fitted</span></span></div></label><div class=\"sk-toggleable__content fitted\" data-param-prefix=\"\">\n",
       "        <div class=\"estimator-table\">\n",
       "            <details>\n",
       "                <summary>Parameters</summary>\n",
       "                <table class=\"parameters-table\">\n",
       "                  <tbody>\n",
       "                    \n",
       "        <tr class=\"default\">\n",
       "            <td><i class=\"copy-paste-icon\"\n",
       "                 onclick=\"copyToClipboard('n_estimators',\n",
       "                          this.parentElement.nextElementSibling)\"\n",
       "            ></i></td>\n",
       "            <td class=\"param\">n_estimators&nbsp;</td>\n",
       "            <td class=\"value\">100</td>\n",
       "        </tr>\n",
       "    \n",
       "\n",
       "        <tr class=\"default\">\n",
       "            <td><i class=\"copy-paste-icon\"\n",
       "                 onclick=\"copyToClipboard('criterion',\n",
       "                          this.parentElement.nextElementSibling)\"\n",
       "            ></i></td>\n",
       "            <td class=\"param\">criterion&nbsp;</td>\n",
       "            <td class=\"value\">&#x27;gini&#x27;</td>\n",
       "        </tr>\n",
       "    \n",
       "\n",
       "        <tr class=\"default\">\n",
       "            <td><i class=\"copy-paste-icon\"\n",
       "                 onclick=\"copyToClipboard('max_depth',\n",
       "                          this.parentElement.nextElementSibling)\"\n",
       "            ></i></td>\n",
       "            <td class=\"param\">max_depth&nbsp;</td>\n",
       "            <td class=\"value\">None</td>\n",
       "        </tr>\n",
       "    \n",
       "\n",
       "        <tr class=\"default\">\n",
       "            <td><i class=\"copy-paste-icon\"\n",
       "                 onclick=\"copyToClipboard('min_samples_split',\n",
       "                          this.parentElement.nextElementSibling)\"\n",
       "            ></i></td>\n",
       "            <td class=\"param\">min_samples_split&nbsp;</td>\n",
       "            <td class=\"value\">2</td>\n",
       "        </tr>\n",
       "    \n",
       "\n",
       "        <tr class=\"default\">\n",
       "            <td><i class=\"copy-paste-icon\"\n",
       "                 onclick=\"copyToClipboard('min_samples_leaf',\n",
       "                          this.parentElement.nextElementSibling)\"\n",
       "            ></i></td>\n",
       "            <td class=\"param\">min_samples_leaf&nbsp;</td>\n",
       "            <td class=\"value\">1</td>\n",
       "        </tr>\n",
       "    \n",
       "\n",
       "        <tr class=\"default\">\n",
       "            <td><i class=\"copy-paste-icon\"\n",
       "                 onclick=\"copyToClipboard('min_weight_fraction_leaf',\n",
       "                          this.parentElement.nextElementSibling)\"\n",
       "            ></i></td>\n",
       "            <td class=\"param\">min_weight_fraction_leaf&nbsp;</td>\n",
       "            <td class=\"value\">0.0</td>\n",
       "        </tr>\n",
       "    \n",
       "\n",
       "        <tr class=\"default\">\n",
       "            <td><i class=\"copy-paste-icon\"\n",
       "                 onclick=\"copyToClipboard('max_features',\n",
       "                          this.parentElement.nextElementSibling)\"\n",
       "            ></i></td>\n",
       "            <td class=\"param\">max_features&nbsp;</td>\n",
       "            <td class=\"value\">&#x27;sqrt&#x27;</td>\n",
       "        </tr>\n",
       "    \n",
       "\n",
       "        <tr class=\"default\">\n",
       "            <td><i class=\"copy-paste-icon\"\n",
       "                 onclick=\"copyToClipboard('max_leaf_nodes',\n",
       "                          this.parentElement.nextElementSibling)\"\n",
       "            ></i></td>\n",
       "            <td class=\"param\">max_leaf_nodes&nbsp;</td>\n",
       "            <td class=\"value\">None</td>\n",
       "        </tr>\n",
       "    \n",
       "\n",
       "        <tr class=\"default\">\n",
       "            <td><i class=\"copy-paste-icon\"\n",
       "                 onclick=\"copyToClipboard('min_impurity_decrease',\n",
       "                          this.parentElement.nextElementSibling)\"\n",
       "            ></i></td>\n",
       "            <td class=\"param\">min_impurity_decrease&nbsp;</td>\n",
       "            <td class=\"value\">0.0</td>\n",
       "        </tr>\n",
       "    \n",
       "\n",
       "        <tr class=\"default\">\n",
       "            <td><i class=\"copy-paste-icon\"\n",
       "                 onclick=\"copyToClipboard('bootstrap',\n",
       "                          this.parentElement.nextElementSibling)\"\n",
       "            ></i></td>\n",
       "            <td class=\"param\">bootstrap&nbsp;</td>\n",
       "            <td class=\"value\">True</td>\n",
       "        </tr>\n",
       "    \n",
       "\n",
       "        <tr class=\"default\">\n",
       "            <td><i class=\"copy-paste-icon\"\n",
       "                 onclick=\"copyToClipboard('oob_score',\n",
       "                          this.parentElement.nextElementSibling)\"\n",
       "            ></i></td>\n",
       "            <td class=\"param\">oob_score&nbsp;</td>\n",
       "            <td class=\"value\">False</td>\n",
       "        </tr>\n",
       "    \n",
       "\n",
       "        <tr class=\"default\">\n",
       "            <td><i class=\"copy-paste-icon\"\n",
       "                 onclick=\"copyToClipboard('n_jobs',\n",
       "                          this.parentElement.nextElementSibling)\"\n",
       "            ></i></td>\n",
       "            <td class=\"param\">n_jobs&nbsp;</td>\n",
       "            <td class=\"value\">None</td>\n",
       "        </tr>\n",
       "    \n",
       "\n",
       "        <tr class=\"user-set\">\n",
       "            <td><i class=\"copy-paste-icon\"\n",
       "                 onclick=\"copyToClipboard('random_state',\n",
       "                          this.parentElement.nextElementSibling)\"\n",
       "            ></i></td>\n",
       "            <td class=\"param\">random_state&nbsp;</td>\n",
       "            <td class=\"value\">123</td>\n",
       "        </tr>\n",
       "    \n",
       "\n",
       "        <tr class=\"default\">\n",
       "            <td><i class=\"copy-paste-icon\"\n",
       "                 onclick=\"copyToClipboard('verbose',\n",
       "                          this.parentElement.nextElementSibling)\"\n",
       "            ></i></td>\n",
       "            <td class=\"param\">verbose&nbsp;</td>\n",
       "            <td class=\"value\">0</td>\n",
       "        </tr>\n",
       "    \n",
       "\n",
       "        <tr class=\"default\">\n",
       "            <td><i class=\"copy-paste-icon\"\n",
       "                 onclick=\"copyToClipboard('warm_start',\n",
       "                          this.parentElement.nextElementSibling)\"\n",
       "            ></i></td>\n",
       "            <td class=\"param\">warm_start&nbsp;</td>\n",
       "            <td class=\"value\">False</td>\n",
       "        </tr>\n",
       "    \n",
       "\n",
       "        <tr class=\"default\">\n",
       "            <td><i class=\"copy-paste-icon\"\n",
       "                 onclick=\"copyToClipboard('class_weight',\n",
       "                          this.parentElement.nextElementSibling)\"\n",
       "            ></i></td>\n",
       "            <td class=\"param\">class_weight&nbsp;</td>\n",
       "            <td class=\"value\">None</td>\n",
       "        </tr>\n",
       "    \n",
       "\n",
       "        <tr class=\"default\">\n",
       "            <td><i class=\"copy-paste-icon\"\n",
       "                 onclick=\"copyToClipboard('ccp_alpha',\n",
       "                          this.parentElement.nextElementSibling)\"\n",
       "            ></i></td>\n",
       "            <td class=\"param\">ccp_alpha&nbsp;</td>\n",
       "            <td class=\"value\">0.0</td>\n",
       "        </tr>\n",
       "    \n",
       "\n",
       "        <tr class=\"default\">\n",
       "            <td><i class=\"copy-paste-icon\"\n",
       "                 onclick=\"copyToClipboard('max_samples',\n",
       "                          this.parentElement.nextElementSibling)\"\n",
       "            ></i></td>\n",
       "            <td class=\"param\">max_samples&nbsp;</td>\n",
       "            <td class=\"value\">None</td>\n",
       "        </tr>\n",
       "    \n",
       "\n",
       "        <tr class=\"default\">\n",
       "            <td><i class=\"copy-paste-icon\"\n",
       "                 onclick=\"copyToClipboard('monotonic_cst',\n",
       "                          this.parentElement.nextElementSibling)\"\n",
       "            ></i></td>\n",
       "            <td class=\"param\">monotonic_cst&nbsp;</td>\n",
       "            <td class=\"value\">None</td>\n",
       "        </tr>\n",
       "    \n",
       "                  </tbody>\n",
       "                </table>\n",
       "            </details>\n",
       "        </div>\n",
       "    </div></div></div></div></div><script>function copyToClipboard(text, element) {\n",
       "    // Get the parameter prefix from the closest toggleable content\n",
       "    const toggleableContent = element.closest('.sk-toggleable__content');\n",
       "    const paramPrefix = toggleableContent ? toggleableContent.dataset.paramPrefix : '';\n",
       "    const fullParamName = paramPrefix ? `${paramPrefix}${text}` : text;\n",
       "\n",
       "    const originalStyle = element.style;\n",
       "    const computedStyle = window.getComputedStyle(element);\n",
       "    const originalWidth = computedStyle.width;\n",
       "    const originalHTML = element.innerHTML.replace('Copied!', '');\n",
       "\n",
       "    navigator.clipboard.writeText(fullParamName)\n",
       "        .then(() => {\n",
       "            element.style.width = originalWidth;\n",
       "            element.style.color = 'green';\n",
       "            element.innerHTML = \"Copied!\";\n",
       "\n",
       "            setTimeout(() => {\n",
       "                element.innerHTML = originalHTML;\n",
       "                element.style = originalStyle;\n",
       "            }, 2000);\n",
       "        })\n",
       "        .catch(err => {\n",
       "            console.error('Failed to copy:', err);\n",
       "            element.style.color = 'red';\n",
       "            element.innerHTML = \"Failed!\";\n",
       "            setTimeout(() => {\n",
       "                element.innerHTML = originalHTML;\n",
       "                element.style = originalStyle;\n",
       "            }, 2000);\n",
       "        });\n",
       "    return false;\n",
       "}\n",
       "\n",
       "document.querySelectorAll('.fa-regular.fa-copy').forEach(function(element) {\n",
       "    const toggleableContent = element.closest('.sk-toggleable__content');\n",
       "    const paramPrefix = toggleableContent ? toggleableContent.dataset.paramPrefix : '';\n",
       "    const paramName = element.parentElement.nextElementSibling.textContent.trim();\n",
       "    const fullParamName = paramPrefix ? `${paramPrefix}${paramName}` : paramName;\n",
       "\n",
       "    element.setAttribute('title', fullParamName);\n",
       "});\n",
       "</script></body>"
      ],
      "text/plain": [
       "RandomForestClassifier(random_state=123)"
      ]
     },
     "execution_count": 51,
     "metadata": {},
     "output_type": "execute_result"
    }
   ],
   "source": [
    "le = LabelEncoder()\n",
    "x_train = attrs_agg_correct_cols.drop(columns=[\"dataset\", \"model\", \"attack\"])\n",
    "y_train = attrs_agg_correct_cols[\"attack\"]\n",
    "y_train_enc = le.fit_transform(y_train)\n",
    "model = RandomForestClassifier(random_state=123)\n",
    "model.fit(x_train, y_train_enc)"
   ]
  },
  {
   "cell_type": "code",
   "execution_count": 52,
   "metadata": {},
   "outputs": [],
   "source": [
    "fi_dict = {'var': x_train.columns, 'fi': model.feature_importances_}\n",
    "fi_df = pd.DataFrame(fi_dict)\n",
    "fi_df[\"fi_rank\"] = fi_df[\"fi\"].rank(ascending=False)"
   ]
  },
  {
   "cell_type": "code",
   "execution_count": 53,
   "metadata": {},
   "outputs": [],
   "source": [
    "attrs_agg_correct_cols.to_csv(\"results/attr_attacks_type_agr_nn_bacc.csv\", index=False)"
   ]
  },
  {
   "cell_type": "code",
   "execution_count": 54,
   "metadata": {},
   "outputs": [],
   "source": [
    "def create_hyperparams_grid(model, param_grid, exp_function, crit=\"kappa\"):\n",
    "\n",
    "    quality_measure = []\n",
    "    params_list = []\n",
    "    results_table = []\n",
    "    results_fi = []\n",
    "\n",
    "    for param1 in param_grid[list(param_grid.keys())[0]]:\n",
    "        for param2 in param_grid[list(param_grid.keys())[1]]:\n",
    "            for param3 in param_grid[list(param_grid.keys())[2]]:\n",
    "                params = {list(param_grid.keys())[0]: param1,\n",
    "                          list(param_grid.keys())[1]: param2,\n",
    "                          list(param_grid.keys())[2]: param3}\n",
    "\n",
    "                model.set_params(**params)\n",
    "                summary, fi = exp_function(model=model)\n",
    "                results_table.append(summary)\n",
    "                results_fi.append(fi)\n",
    "                params_list.append(params)\n",
    "                crit_value = np.mean(summary[\"kappa\"])\n",
    "                quality_measure.append(crit_value)\n",
    "                print(f\"{crit} = {crit_value}, params: {params}\")\n",
    "\n",
    "    best_params_idx = np.argmax(quality_measure)\n",
    "    best_params = params_list[best_params_idx]\n",
    "\n",
    "    print(f\"Params: {best_params} give best {crit} equal {quality_measure[best_params_idx]}\")\n",
    "\n",
    "    return results_table[best_params_idx], results_fi[best_params_idx]"
   ]
  },
  {
   "cell_type": "markdown",
   "metadata": {},
   "source": [
    "# Leave-one-data-set-out"
   ]
  },
  {
   "cell_type": "code",
   "execution_count": 55,
   "metadata": {},
   "outputs": [],
   "source": [
    "def leave_dataset_out(model=xgb.XGBClassifier(random_state=123), params=None):\n",
    "\n",
    "    datasets = np.unique(attrs_agg_correct_cols[\"dataset\"])\n",
    "    kappa_list = []\n",
    "    bacc_list = []\n",
    "    precision_list = []\n",
    "    recall_list = []\n",
    "    f1_list = []\n",
    "    fnr_list = []\n",
    "    fi_all = pd.DataFrame()\n",
    "\n",
    "    for dataset in tqdm(datasets):\n",
    "\n",
    "        train = attrs_agg_correct_cols[attrs_agg_correct_cols[\"dataset\"] != dataset]\n",
    "        test = attrs_agg_correct_cols[attrs_agg_correct_cols[\"dataset\"] == dataset]\n",
    "\n",
    "        x_train = train.drop(columns=[\"dataset\", \"model\", \"attack\"])\n",
    "        y_train = train[\"attack\"]\n",
    "\n",
    "        x_test = test.drop(columns=[\"dataset\", \"model\", \"attack\"])\n",
    "        y_test = test[\"attack\"]\n",
    "\n",
    "        le = LabelEncoder()\n",
    "        y_train_enc = le.fit_transform(y_train)\n",
    "        y_test_enc = le.transform(y_test)\n",
    "\n",
    "        if params is not None:\n",
    "            model.set_params(**params)\n",
    "        model.fit(x_train, y_train_enc)\n",
    "\n",
    "        fi_dict = {'var': x_train.columns, 'fi': model.feature_importances_}\n",
    "        fi_df = pd.DataFrame(fi_dict)\n",
    "        fi_df[\"fi_rank\"] = fi_df[\"fi\"].rank(ascending=False)\n",
    "        fi_df[\"dataset\"] = dataset\n",
    "        fi_all = pd.concat([fi_all, fi_df])\n",
    "\n",
    "        preds = model.predict(x_test)\n",
    "        bacc_list.append(balanced_accuracy_score(y_test_enc, preds))\n",
    "        kappa_list.append(cohen_kappa_score(y_test_enc, preds))\n",
    "        precision_list.append(precision_score(y_test_enc, preds, average='weighted'))\n",
    "        recall_list.append(recall_score(y_test_enc, preds, average='weighted'))\n",
    "        f1_list.append(f1_score(y_test_enc, preds, average='weighted'))\n",
    "        fnr_list.append(multiclass_false_negative_rate(y_test_enc, preds))\n",
    "\n",
    "    results_dict = {'dataset': datasets, 'bacc': bacc_list, 'kappa': kappa_list, 'precision': precision_list,\n",
    "                    'recall': recall_list, 'f1': f1_list, 'fnr': fnr_list}\n",
    "\n",
    "    results_df = pd.DataFrame(results_dict)\n",
    "    return results_df, fi_all"
   ]
  },
  {
   "cell_type": "markdown",
   "metadata": {},
   "source": [
    "## XGBoost"
   ]
  },
  {
   "cell_type": "markdown",
   "metadata": {},
   "source": [
    "### Default parameters"
   ]
  },
  {
   "cell_type": "code",
   "execution_count": 56,
   "metadata": {},
   "outputs": [
    {
     "name": "stderr",
     "output_type": "stream",
     "text": [
      "100%|██████████| 22/22 [00:12<00:00,  1.73it/s]\n"
     ]
    },
    {
     "data": {
      "application/vnd.microsoft.datawrangler.viewer.v0+json": {
       "columns": [
        {
         "name": "index",
         "rawType": "int64",
         "type": "integer"
        },
        {
         "name": "dataset",
         "rawType": "object",
         "type": "string"
        },
        {
         "name": "bacc",
         "rawType": "float64",
         "type": "float"
        },
        {
         "name": "kappa",
         "rawType": "float64",
         "type": "float"
        },
        {
         "name": "precision",
         "rawType": "float64",
         "type": "float"
        },
        {
         "name": "recall",
         "rawType": "float64",
         "type": "float"
        },
        {
         "name": "f1",
         "rawType": "float64",
         "type": "float"
        },
        {
         "name": "fnr",
         "rawType": "float64",
         "type": "float"
        }
       ],
       "ref": "a471c042-7533-4e05-8fdf-dcdc7405bd6b",
       "rows": [
        [
         "0",
         "Bioresponse",
         "0.8333333333333333",
         "0.8571428571428572",
         "0.8627450980392156",
         "0.8823529411764706",
         "0.8588235294117648",
         "0.16666666666666666"
        ],
        [
         "1",
         "churn",
         "0.6666666666666666",
         "0.71900826446281",
         "0.7529411764705882",
         "0.7647058823529411",
         "0.7284313725490196",
         "0.3333333333333333"
        ],
        [
         "2",
         "cmc",
         "0.875",
         "0.9297520661157025",
         "0.9117647058823529",
         "0.9411764705882353",
         "0.9215686274509803",
         "0.125"
        ],
        [
         "3",
         "cnae-9",
         "0.75",
         "0.7178423236514523",
         "0.7176470588235294",
         "0.7647058823529411",
         "0.7307189542483661",
         "0.25"
        ],
        [
         "4",
         "dna",
         "0.5416666666666666",
         "0.6502057613168725",
         "0.7470588235294118",
         "0.7058823529411765",
         "0.7071895424836602",
         "0.45833333333333337"
        ],
        [
         "5",
         "har",
         "0.7916666666666666",
         "0.6473029045643153",
         "0.6",
         "0.7058823529411765",
         "0.646125116713352",
         "0.20833333333333331"
        ],
        [
         "6",
         "madelon",
         "0.5",
         "0.34246575342465757",
         "0.38482142857142854",
         "0.4375",
         "0.3443452380952381",
         "0.5"
        ],
        [
         "7",
         "mfeat-factors",
         "0.875",
         "0.9297520661157025",
         "0.9117647058823529",
         "0.9411764705882353",
         "0.9215686274509803",
         "0.125"
        ],
        [
         "8",
         "mfeat-fourier",
         "0.9166666666666666",
         "0.859504132231405",
         "0.8823529411764706",
         "0.8823529411764706",
         "0.8823529411764706",
         "0.08333333333333333"
        ],
        [
         "9",
         "mfeat-karhunen",
         "1.0",
         "1.0",
         "1.0",
         "1.0",
         "1.0",
         "0.0"
        ],
        [
         "10",
         "mfeat-zernike",
         "0.875",
         "0.9297520661157025",
         "0.9117647058823529",
         "0.9411764705882353",
         "0.9215686274509803",
         "0.125"
        ],
        [
         "11",
         "nomao",
         "0.49999999999999994",
         "0.5732217573221756",
         "0.5901960784313726",
         "0.6470588235294118",
         "0.5982259570494866",
         "0.49999999999999994"
        ],
        [
         "12",
         "optdigits",
         "1.0",
         "1.0",
         "1.0",
         "1.0",
         "1.0",
         "0.0"
        ],
        [
         "13",
         "pendigits",
         "0.6666666666666666",
         "0.5785123966942148",
         "0.625",
         "0.6470588235294118",
         "0.5766488413547237",
         "0.3333333333333333"
        ],
        [
         "14",
         "phoneme",
         "0.5416666666666666",
         "0.5082644628099173",
         "0.5563725490196079",
         "0.5882352941176471",
         "0.5080213903743316",
         "0.4583333333333333"
        ],
        [
         "15",
         "qsar-biodeg",
         "0.875",
         "0.7892561983471074",
         "0.7088235294117647",
         "0.8235294117647058",
         "0.7542016806722689",
         "0.125"
        ],
        [
         "16",
         "satimage",
         "0.6041666666666667",
         "0.6244131455399061",
         "0.78125",
         "0.6875",
         "0.6770833333333333",
         "0.3958333333333333"
        ],
        [
         "17",
         "semeion",
         "0.75",
         "0.7154811715481172",
         "0.810924369747899",
         "0.7647058823529411",
         "0.7338680926916221",
         "0.25"
        ],
        [
         "18",
         "spambase",
         "1.0",
         "1.0",
         "1.0",
         "1.0",
         "1.0",
         "0.0"
        ],
        [
         "19",
         "wall-robot-navigation",
         "0.5416666666666666",
         "0.6487603305785123",
         "0.7205882352941176",
         "0.7058823529411765",
         "0.704201680672269",
         "0.45833333333333326"
        ],
        [
         "20",
         "wdbc",
         "0.375",
         "0.5082644628099173",
         "0.5735294117647058",
         "0.5882352941176471",
         "0.5747899159663866",
         "0.625"
        ],
        [
         "21",
         "wilt",
         "0.3854166666666667",
         "0.37295081967213106",
         "0.39999999999999997",
         "0.47058823529411764",
         "0.4264705882352941",
         "0.6145833333333333"
        ]
       ],
       "shape": {
        "columns": 7,
        "rows": 22
       }
      },
      "text/html": [
       "<div>\n",
       "<style scoped>\n",
       "    .dataframe tbody tr th:only-of-type {\n",
       "        vertical-align: middle;\n",
       "    }\n",
       "\n",
       "    .dataframe tbody tr th {\n",
       "        vertical-align: top;\n",
       "    }\n",
       "\n",
       "    .dataframe thead th {\n",
       "        text-align: right;\n",
       "    }\n",
       "</style>\n",
       "<table border=\"1\" class=\"dataframe\">\n",
       "  <thead>\n",
       "    <tr style=\"text-align: right;\">\n",
       "      <th></th>\n",
       "      <th>dataset</th>\n",
       "      <th>bacc</th>\n",
       "      <th>kappa</th>\n",
       "      <th>precision</th>\n",
       "      <th>recall</th>\n",
       "      <th>f1</th>\n",
       "      <th>fnr</th>\n",
       "    </tr>\n",
       "  </thead>\n",
       "  <tbody>\n",
       "    <tr>\n",
       "      <th>0</th>\n",
       "      <td>Bioresponse</td>\n",
       "      <td>0.833333</td>\n",
       "      <td>0.857143</td>\n",
       "      <td>0.862745</td>\n",
       "      <td>0.882353</td>\n",
       "      <td>0.858824</td>\n",
       "      <td>0.166667</td>\n",
       "    </tr>\n",
       "    <tr>\n",
       "      <th>1</th>\n",
       "      <td>churn</td>\n",
       "      <td>0.666667</td>\n",
       "      <td>0.719008</td>\n",
       "      <td>0.752941</td>\n",
       "      <td>0.764706</td>\n",
       "      <td>0.728431</td>\n",
       "      <td>0.333333</td>\n",
       "    </tr>\n",
       "    <tr>\n",
       "      <th>2</th>\n",
       "      <td>cmc</td>\n",
       "      <td>0.875000</td>\n",
       "      <td>0.929752</td>\n",
       "      <td>0.911765</td>\n",
       "      <td>0.941176</td>\n",
       "      <td>0.921569</td>\n",
       "      <td>0.125000</td>\n",
       "    </tr>\n",
       "    <tr>\n",
       "      <th>3</th>\n",
       "      <td>cnae-9</td>\n",
       "      <td>0.750000</td>\n",
       "      <td>0.717842</td>\n",
       "      <td>0.717647</td>\n",
       "      <td>0.764706</td>\n",
       "      <td>0.730719</td>\n",
       "      <td>0.250000</td>\n",
       "    </tr>\n",
       "    <tr>\n",
       "      <th>4</th>\n",
       "      <td>dna</td>\n",
       "      <td>0.541667</td>\n",
       "      <td>0.650206</td>\n",
       "      <td>0.747059</td>\n",
       "      <td>0.705882</td>\n",
       "      <td>0.707190</td>\n",
       "      <td>0.458333</td>\n",
       "    </tr>\n",
       "    <tr>\n",
       "      <th>5</th>\n",
       "      <td>har</td>\n",
       "      <td>0.791667</td>\n",
       "      <td>0.647303</td>\n",
       "      <td>0.600000</td>\n",
       "      <td>0.705882</td>\n",
       "      <td>0.646125</td>\n",
       "      <td>0.208333</td>\n",
       "    </tr>\n",
       "    <tr>\n",
       "      <th>6</th>\n",
       "      <td>madelon</td>\n",
       "      <td>0.500000</td>\n",
       "      <td>0.342466</td>\n",
       "      <td>0.384821</td>\n",
       "      <td>0.437500</td>\n",
       "      <td>0.344345</td>\n",
       "      <td>0.500000</td>\n",
       "    </tr>\n",
       "    <tr>\n",
       "      <th>7</th>\n",
       "      <td>mfeat-factors</td>\n",
       "      <td>0.875000</td>\n",
       "      <td>0.929752</td>\n",
       "      <td>0.911765</td>\n",
       "      <td>0.941176</td>\n",
       "      <td>0.921569</td>\n",
       "      <td>0.125000</td>\n",
       "    </tr>\n",
       "    <tr>\n",
       "      <th>8</th>\n",
       "      <td>mfeat-fourier</td>\n",
       "      <td>0.916667</td>\n",
       "      <td>0.859504</td>\n",
       "      <td>0.882353</td>\n",
       "      <td>0.882353</td>\n",
       "      <td>0.882353</td>\n",
       "      <td>0.083333</td>\n",
       "    </tr>\n",
       "    <tr>\n",
       "      <th>9</th>\n",
       "      <td>mfeat-karhunen</td>\n",
       "      <td>1.000000</td>\n",
       "      <td>1.000000</td>\n",
       "      <td>1.000000</td>\n",
       "      <td>1.000000</td>\n",
       "      <td>1.000000</td>\n",
       "      <td>0.000000</td>\n",
       "    </tr>\n",
       "    <tr>\n",
       "      <th>10</th>\n",
       "      <td>mfeat-zernike</td>\n",
       "      <td>0.875000</td>\n",
       "      <td>0.929752</td>\n",
       "      <td>0.911765</td>\n",
       "      <td>0.941176</td>\n",
       "      <td>0.921569</td>\n",
       "      <td>0.125000</td>\n",
       "    </tr>\n",
       "    <tr>\n",
       "      <th>11</th>\n",
       "      <td>nomao</td>\n",
       "      <td>0.500000</td>\n",
       "      <td>0.573222</td>\n",
       "      <td>0.590196</td>\n",
       "      <td>0.647059</td>\n",
       "      <td>0.598226</td>\n",
       "      <td>0.500000</td>\n",
       "    </tr>\n",
       "    <tr>\n",
       "      <th>12</th>\n",
       "      <td>optdigits</td>\n",
       "      <td>1.000000</td>\n",
       "      <td>1.000000</td>\n",
       "      <td>1.000000</td>\n",
       "      <td>1.000000</td>\n",
       "      <td>1.000000</td>\n",
       "      <td>0.000000</td>\n",
       "    </tr>\n",
       "    <tr>\n",
       "      <th>13</th>\n",
       "      <td>pendigits</td>\n",
       "      <td>0.666667</td>\n",
       "      <td>0.578512</td>\n",
       "      <td>0.625000</td>\n",
       "      <td>0.647059</td>\n",
       "      <td>0.576649</td>\n",
       "      <td>0.333333</td>\n",
       "    </tr>\n",
       "    <tr>\n",
       "      <th>14</th>\n",
       "      <td>phoneme</td>\n",
       "      <td>0.541667</td>\n",
       "      <td>0.508264</td>\n",
       "      <td>0.556373</td>\n",
       "      <td>0.588235</td>\n",
       "      <td>0.508021</td>\n",
       "      <td>0.458333</td>\n",
       "    </tr>\n",
       "    <tr>\n",
       "      <th>15</th>\n",
       "      <td>qsar-biodeg</td>\n",
       "      <td>0.875000</td>\n",
       "      <td>0.789256</td>\n",
       "      <td>0.708824</td>\n",
       "      <td>0.823529</td>\n",
       "      <td>0.754202</td>\n",
       "      <td>0.125000</td>\n",
       "    </tr>\n",
       "    <tr>\n",
       "      <th>16</th>\n",
       "      <td>satimage</td>\n",
       "      <td>0.604167</td>\n",
       "      <td>0.624413</td>\n",
       "      <td>0.781250</td>\n",
       "      <td>0.687500</td>\n",
       "      <td>0.677083</td>\n",
       "      <td>0.395833</td>\n",
       "    </tr>\n",
       "    <tr>\n",
       "      <th>17</th>\n",
       "      <td>semeion</td>\n",
       "      <td>0.750000</td>\n",
       "      <td>0.715481</td>\n",
       "      <td>0.810924</td>\n",
       "      <td>0.764706</td>\n",
       "      <td>0.733868</td>\n",
       "      <td>0.250000</td>\n",
       "    </tr>\n",
       "    <tr>\n",
       "      <th>18</th>\n",
       "      <td>spambase</td>\n",
       "      <td>1.000000</td>\n",
       "      <td>1.000000</td>\n",
       "      <td>1.000000</td>\n",
       "      <td>1.000000</td>\n",
       "      <td>1.000000</td>\n",
       "      <td>0.000000</td>\n",
       "    </tr>\n",
       "    <tr>\n",
       "      <th>19</th>\n",
       "      <td>wall-robot-navigation</td>\n",
       "      <td>0.541667</td>\n",
       "      <td>0.648760</td>\n",
       "      <td>0.720588</td>\n",
       "      <td>0.705882</td>\n",
       "      <td>0.704202</td>\n",
       "      <td>0.458333</td>\n",
       "    </tr>\n",
       "    <tr>\n",
       "      <th>20</th>\n",
       "      <td>wdbc</td>\n",
       "      <td>0.375000</td>\n",
       "      <td>0.508264</td>\n",
       "      <td>0.573529</td>\n",
       "      <td>0.588235</td>\n",
       "      <td>0.574790</td>\n",
       "      <td>0.625000</td>\n",
       "    </tr>\n",
       "    <tr>\n",
       "      <th>21</th>\n",
       "      <td>wilt</td>\n",
       "      <td>0.385417</td>\n",
       "      <td>0.372951</td>\n",
       "      <td>0.400000</td>\n",
       "      <td>0.470588</td>\n",
       "      <td>0.426471</td>\n",
       "      <td>0.614583</td>\n",
       "    </tr>\n",
       "  </tbody>\n",
       "</table>\n",
       "</div>"
      ],
      "text/plain": [
       "                  dataset      bacc     kappa  precision    recall        f1  \\\n",
       "0             Bioresponse  0.833333  0.857143   0.862745  0.882353  0.858824   \n",
       "1                   churn  0.666667  0.719008   0.752941  0.764706  0.728431   \n",
       "2                     cmc  0.875000  0.929752   0.911765  0.941176  0.921569   \n",
       "3                  cnae-9  0.750000  0.717842   0.717647  0.764706  0.730719   \n",
       "4                     dna  0.541667  0.650206   0.747059  0.705882  0.707190   \n",
       "5                     har  0.791667  0.647303   0.600000  0.705882  0.646125   \n",
       "6                 madelon  0.500000  0.342466   0.384821  0.437500  0.344345   \n",
       "7           mfeat-factors  0.875000  0.929752   0.911765  0.941176  0.921569   \n",
       "8           mfeat-fourier  0.916667  0.859504   0.882353  0.882353  0.882353   \n",
       "9          mfeat-karhunen  1.000000  1.000000   1.000000  1.000000  1.000000   \n",
       "10          mfeat-zernike  0.875000  0.929752   0.911765  0.941176  0.921569   \n",
       "11                  nomao  0.500000  0.573222   0.590196  0.647059  0.598226   \n",
       "12              optdigits  1.000000  1.000000   1.000000  1.000000  1.000000   \n",
       "13              pendigits  0.666667  0.578512   0.625000  0.647059  0.576649   \n",
       "14                phoneme  0.541667  0.508264   0.556373  0.588235  0.508021   \n",
       "15            qsar-biodeg  0.875000  0.789256   0.708824  0.823529  0.754202   \n",
       "16               satimage  0.604167  0.624413   0.781250  0.687500  0.677083   \n",
       "17                semeion  0.750000  0.715481   0.810924  0.764706  0.733868   \n",
       "18               spambase  1.000000  1.000000   1.000000  1.000000  1.000000   \n",
       "19  wall-robot-navigation  0.541667  0.648760   0.720588  0.705882  0.704202   \n",
       "20                   wdbc  0.375000  0.508264   0.573529  0.588235  0.574790   \n",
       "21                   wilt  0.385417  0.372951   0.400000  0.470588  0.426471   \n",
       "\n",
       "         fnr  \n",
       "0   0.166667  \n",
       "1   0.333333  \n",
       "2   0.125000  \n",
       "3   0.250000  \n",
       "4   0.458333  \n",
       "5   0.208333  \n",
       "6   0.500000  \n",
       "7   0.125000  \n",
       "8   0.083333  \n",
       "9   0.000000  \n",
       "10  0.125000  \n",
       "11  0.500000  \n",
       "12  0.000000  \n",
       "13  0.333333  \n",
       "14  0.458333  \n",
       "15  0.125000  \n",
       "16  0.395833  \n",
       "17  0.250000  \n",
       "18  0.000000  \n",
       "19  0.458333  \n",
       "20  0.625000  \n",
       "21  0.614583  "
      ]
     },
     "execution_count": 56,
     "metadata": {},
     "output_type": "execute_result"
    }
   ],
   "source": [
    "one_dataset_out_xgb, one_dataset_out_fi_xgb = leave_dataset_out()\n",
    "one_dataset_out_xgb"
   ]
  },
  {
   "cell_type": "markdown",
   "metadata": {},
   "source": [
    "### Hyperparameters tuning"
   ]
  },
  {
   "cell_type": "code",
   "execution_count": 57,
   "metadata": {},
   "outputs": [
    {
     "name": "stderr",
     "output_type": "stream",
     "text": [
      "100%|██████████| 22/22 [01:20<00:00,  3.67s/it]\n"
     ]
    }
   ],
   "source": [
    "retrain = False\n",
    "\n",
    "if retrain:\n",
    "    model=xgb.XGBClassifier(random_state=123)\n",
    "\n",
    "    param_grid = {\n",
    "        'max_depth': [6, 9, 12],\n",
    "        'learning_rate': [0.1, 0.3, 0.5],\n",
    "        'n_estimators': [100, 200, 500]\n",
    "    }\n",
    "\n",
    "    one_dataset_out_xgb, one_dataset_out_fi_xgb = create_hyperparams_grid(model=model, param_grid=param_grid, exp_function=leave_dataset_out, crit=\"kappa\")\n",
    "    one_dataset_out_xgb\n",
    "else:\n",
    "    # Params: {'max_depth': 6, 'learning_rate': 0.3, 'n_estimators': 500} give best kappa equal 0.7297931298863016\n",
    "    params = {'max_depth': 6, 'learning_rate': 0.3, 'n_estimators': 500, 'random_state': 123}\n",
    "    one_dataset_out_xgb, one_dataset_out_fi_xgb = leave_dataset_out(model=xgb.XGBClassifier(random_state=123), params=params)"
   ]
  },
  {
   "cell_type": "code",
   "execution_count": 58,
   "metadata": {},
   "outputs": [
    {
     "data": {
      "application/vnd.microsoft.datawrangler.viewer.v0+json": {
       "columns": [
        {
         "name": "index",
         "rawType": "object",
         "type": "string"
        },
        {
         "name": "bacc",
         "rawType": "float64",
         "type": "float"
        },
        {
         "name": "kappa",
         "rawType": "float64",
         "type": "float"
        }
       ],
       "ref": "a5a55958-c7be-4089-a7e4-b684578df177",
       "rows": [
        [
         "mean",
         "0.7367424242424242",
         "0.7297931298863016"
        ],
        [
         "std",
         "0.19034932192646328",
         "0.20112677433972828"
        ]
       ],
       "shape": {
        "columns": 2,
        "rows": 2
       }
      },
      "text/html": [
       "<div>\n",
       "<style scoped>\n",
       "    .dataframe tbody tr th:only-of-type {\n",
       "        vertical-align: middle;\n",
       "    }\n",
       "\n",
       "    .dataframe tbody tr th {\n",
       "        vertical-align: top;\n",
       "    }\n",
       "\n",
       "    .dataframe thead th {\n",
       "        text-align: right;\n",
       "    }\n",
       "</style>\n",
       "<table border=\"1\" class=\"dataframe\">\n",
       "  <thead>\n",
       "    <tr style=\"text-align: right;\">\n",
       "      <th></th>\n",
       "      <th>bacc</th>\n",
       "      <th>kappa</th>\n",
       "    </tr>\n",
       "  </thead>\n",
       "  <tbody>\n",
       "    <tr>\n",
       "      <th>mean</th>\n",
       "      <td>0.736742</td>\n",
       "      <td>0.729793</td>\n",
       "    </tr>\n",
       "    <tr>\n",
       "      <th>std</th>\n",
       "      <td>0.190349</td>\n",
       "      <td>0.201127</td>\n",
       "    </tr>\n",
       "  </tbody>\n",
       "</table>\n",
       "</div>"
      ],
      "text/plain": [
       "          bacc     kappa\n",
       "mean  0.736742  0.729793\n",
       "std   0.190349  0.201127"
      ]
     },
     "execution_count": 58,
     "metadata": {},
     "output_type": "execute_result"
    }
   ],
   "source": [
    "one_dataset_out_xgb[[\"bacc\", \"kappa\"]].agg(['mean', 'std'])"
   ]
  },
  {
   "cell_type": "code",
   "execution_count": 59,
   "metadata": {},
   "outputs": [
    {
     "name": "stdout",
     "output_type": "stream",
     "text": [
      "\\begin{tabular}{lllll}\n",
      "\\toprule\n",
      "bacc & precision & recall & f1 & fnr \\\\\n",
      "\\midrule\n",
      "0.74 (0.19) & 0.76 (0.18) & 0.77 (0.17) & 0.74 (0.19) & 0.26 (0.19) \\\\\n",
      "\\bottomrule\n",
      "\\end{tabular}\n",
      "\n"
     ]
    }
   ],
   "source": [
    "def format_mean_std(dataset):   \n",
    "    metrics = [\"bacc\", \"precision\", \"recall\", \"f1\", \"fnr\"] \n",
    "    stats = dataset[metrics].agg(['mean', 'std']).round(2)\n",
    "    formatted = {col: f\"{stats.loc['mean',col]:.2f} ({stats.loc['std',col]:.2f})\" for col in metrics}\n",
    "    df = pd.DataFrame([formatted])\n",
    "    print(df.to_latex(index=False, header=True, escape=False))\n",
    "\n",
    "format_mean_std(one_dataset_out_xgb)"
   ]
  },
  {
   "cell_type": "code",
   "execution_count": 60,
   "metadata": {},
   "outputs": [
    {
     "data": {
      "application/vnd.microsoft.datawrangler.viewer.v0+json": {
       "columns": [
        {
         "name": "var",
         "rawType": "object",
         "type": "string"
        },
        {
         "name": "fi_rank_mean",
         "rawType": "float64",
         "type": "float"
        }
       ],
       "ref": "67cd801f-59ff-46d0-80a0-3c6746998a77",
       "rows": [
        [
         "uncertainty_q25",
         "2.227272727272727"
        ],
        [
         "bacc_test_mean",
         "3.4545454545454546"
        ],
        [
         "uncertainty_minmax",
         "4.318181818181818"
        ],
        [
         "uncertainty_q75",
         "5.954545454545454"
        ],
        [
         "uncertainty_mean",
         "7.5"
        ],
        [
         "target_targets_consistency_in_neighborhood_q75",
         "7.863636363636363"
        ],
        [
         "target_diversity_in_neighborhood_q1",
         "9.318181818181818"
        ],
        [
         "uncertainty_q0",
         "9.318181818181818"
        ],
        [
         "uncertainty_q50",
         "10.0"
        ],
        [
         "target_approx_consistency_in_neighborhood_q25",
         "12.636363636363637"
        ],
        [
         "approx_diversity_in_neighborhood_q75",
         "13.636363636363637"
        ],
        [
         "approx_diversity_in_neighborhood_q50",
         "13.863636363636363"
        ],
        [
         "target_approx_consistency_in_neighborhood_mean",
         "15.0"
        ],
        [
         "target_approx_consistency_in_neighborhood_q1",
         "17.136363636363637"
        ],
        [
         "neighborhood_size_mean",
         "17.181818181818183"
        ],
        [
         "target_targets_consistency_in_neighborhood_mean",
         "18.136363636363637"
        ],
        [
         "neighborhood_size_q0",
         "20.727272727272727"
        ],
        [
         "uncertainty_q1",
         "21.318181818181817"
        ],
        [
         "target_diversity_in_neighborhood_mean",
         "21.454545454545453"
        ],
        [
         "approx_diversity_in_neighborhood_q0",
         "21.636363636363637"
        ]
       ],
       "shape": {
        "columns": 1,
        "rows": 20
       }
      },
      "text/html": [
       "<div>\n",
       "<style scoped>\n",
       "    .dataframe tbody tr th:only-of-type {\n",
       "        vertical-align: middle;\n",
       "    }\n",
       "\n",
       "    .dataframe tbody tr th {\n",
       "        vertical-align: top;\n",
       "    }\n",
       "\n",
       "    .dataframe thead th {\n",
       "        text-align: right;\n",
       "    }\n",
       "</style>\n",
       "<table border=\"1\" class=\"dataframe\">\n",
       "  <thead>\n",
       "    <tr style=\"text-align: right;\">\n",
       "      <th></th>\n",
       "      <th>fi_rank_mean</th>\n",
       "    </tr>\n",
       "    <tr>\n",
       "      <th>var</th>\n",
       "      <th></th>\n",
       "    </tr>\n",
       "  </thead>\n",
       "  <tbody>\n",
       "    <tr>\n",
       "      <th>uncertainty_q25</th>\n",
       "      <td>2.227273</td>\n",
       "    </tr>\n",
       "    <tr>\n",
       "      <th>bacc_test_mean</th>\n",
       "      <td>3.454545</td>\n",
       "    </tr>\n",
       "    <tr>\n",
       "      <th>uncertainty_minmax</th>\n",
       "      <td>4.318182</td>\n",
       "    </tr>\n",
       "    <tr>\n",
       "      <th>uncertainty_q75</th>\n",
       "      <td>5.954545</td>\n",
       "    </tr>\n",
       "    <tr>\n",
       "      <th>uncertainty_mean</th>\n",
       "      <td>7.500000</td>\n",
       "    </tr>\n",
       "    <tr>\n",
       "      <th>target_targets_consistency_in_neighborhood_q75</th>\n",
       "      <td>7.863636</td>\n",
       "    </tr>\n",
       "    <tr>\n",
       "      <th>target_diversity_in_neighborhood_q1</th>\n",
       "      <td>9.318182</td>\n",
       "    </tr>\n",
       "    <tr>\n",
       "      <th>uncertainty_q0</th>\n",
       "      <td>9.318182</td>\n",
       "    </tr>\n",
       "    <tr>\n",
       "      <th>uncertainty_q50</th>\n",
       "      <td>10.000000</td>\n",
       "    </tr>\n",
       "    <tr>\n",
       "      <th>target_approx_consistency_in_neighborhood_q25</th>\n",
       "      <td>12.636364</td>\n",
       "    </tr>\n",
       "    <tr>\n",
       "      <th>approx_diversity_in_neighborhood_q75</th>\n",
       "      <td>13.636364</td>\n",
       "    </tr>\n",
       "    <tr>\n",
       "      <th>approx_diversity_in_neighborhood_q50</th>\n",
       "      <td>13.863636</td>\n",
       "    </tr>\n",
       "    <tr>\n",
       "      <th>target_approx_consistency_in_neighborhood_mean</th>\n",
       "      <td>15.000000</td>\n",
       "    </tr>\n",
       "    <tr>\n",
       "      <th>target_approx_consistency_in_neighborhood_q1</th>\n",
       "      <td>17.136364</td>\n",
       "    </tr>\n",
       "    <tr>\n",
       "      <th>neighborhood_size_mean</th>\n",
       "      <td>17.181818</td>\n",
       "    </tr>\n",
       "    <tr>\n",
       "      <th>target_targets_consistency_in_neighborhood_mean</th>\n",
       "      <td>18.136364</td>\n",
       "    </tr>\n",
       "    <tr>\n",
       "      <th>neighborhood_size_q0</th>\n",
       "      <td>20.727273</td>\n",
       "    </tr>\n",
       "    <tr>\n",
       "      <th>uncertainty_q1</th>\n",
       "      <td>21.318182</td>\n",
       "    </tr>\n",
       "    <tr>\n",
       "      <th>target_diversity_in_neighborhood_mean</th>\n",
       "      <td>21.454545</td>\n",
       "    </tr>\n",
       "    <tr>\n",
       "      <th>approx_diversity_in_neighborhood_q0</th>\n",
       "      <td>21.636364</td>\n",
       "    </tr>\n",
       "  </tbody>\n",
       "</table>\n",
       "</div>"
      ],
      "text/plain": [
       "                                                 fi_rank_mean\n",
       "var                                                          \n",
       "uncertainty_q25                                      2.227273\n",
       "bacc_test_mean                                       3.454545\n",
       "uncertainty_minmax                                   4.318182\n",
       "uncertainty_q75                                      5.954545\n",
       "uncertainty_mean                                     7.500000\n",
       "target_targets_consistency_in_neighborhood_q75       7.863636\n",
       "target_diversity_in_neighborhood_q1                  9.318182\n",
       "uncertainty_q0                                       9.318182\n",
       "uncertainty_q50                                     10.000000\n",
       "target_approx_consistency_in_neighborhood_q25       12.636364\n",
       "approx_diversity_in_neighborhood_q75                13.636364\n",
       "approx_diversity_in_neighborhood_q50                13.863636\n",
       "target_approx_consistency_in_neighborhood_mean      15.000000\n",
       "target_approx_consistency_in_neighborhood_q1        17.136364\n",
       "neighborhood_size_mean                              17.181818\n",
       "target_targets_consistency_in_neighborhood_mean     18.136364\n",
       "neighborhood_size_q0                                20.727273\n",
       "uncertainty_q1                                      21.318182\n",
       "target_diversity_in_neighborhood_mean               21.454545\n",
       "approx_diversity_in_neighborhood_q0                 21.636364"
      ]
     },
     "execution_count": 60,
     "metadata": {},
     "output_type": "execute_result"
    }
   ],
   "source": [
    "fi_agg = one_dataset_out_fi_xgb[[\"var\", \"fi_rank\"]].groupby([\"var\"]).agg(['mean'])\n",
    "fi_agg.columns = fi_agg.columns.to_flat_index()\n",
    "fi_agg.columns = list(fi_agg.columns.map('_'.join))\n",
    "fi_agg.nsmallest(n=20, columns=[\"fi_rank_mean\"])"
   ]
  },
  {
   "cell_type": "markdown",
   "metadata": {},
   "source": [
    "## Random forest"
   ]
  },
  {
   "cell_type": "markdown",
   "metadata": {},
   "source": [
    "### Default parameters"
   ]
  },
  {
   "cell_type": "code",
   "execution_count": 61,
   "metadata": {},
   "outputs": [
    {
     "name": "stderr",
     "output_type": "stream",
     "text": [
      "100%|██████████| 22/22 [00:07<00:00,  3.07it/s]\n"
     ]
    },
    {
     "data": {
      "application/vnd.microsoft.datawrangler.viewer.v0+json": {
       "columns": [
        {
         "name": "index",
         "rawType": "int64",
         "type": "integer"
        },
        {
         "name": "dataset",
         "rawType": "object",
         "type": "string"
        },
        {
         "name": "bacc",
         "rawType": "float64",
         "type": "float"
        },
        {
         "name": "kappa",
         "rawType": "float64",
         "type": "float"
        },
        {
         "name": "precision",
         "rawType": "float64",
         "type": "float"
        },
        {
         "name": "recall",
         "rawType": "float64",
         "type": "float"
        },
        {
         "name": "f1",
         "rawType": "float64",
         "type": "float"
        },
        {
         "name": "fnr",
         "rawType": "float64",
         "type": "float"
        }
       ],
       "ref": "7c69f28e-17f6-45c1-85d7-a99ffec9f97e",
       "rows": [
        [
         "0",
         "Bioresponse",
         "0.5833333333333333",
         "0.5714285714285714",
         "0.5980392156862745",
         "0.6470588235294118",
         "0.5988795518207284",
         "0.41666666666666663"
        ],
        [
         "1",
         "churn",
         "0.6666666666666666",
         "0.71900826446281",
         "0.7529411764705882",
         "0.7647058823529411",
         "0.7284313725490196",
         "0.33333333333333337"
        ],
        [
         "2",
         "cmc",
         "1.0",
         "1.0",
         "1.0",
         "1.0",
         "1.0",
         "0.0"
        ],
        [
         "3",
         "cnae-9",
         "0.7083333333333333",
         "0.6473029045643153",
         "0.776470588235294",
         "0.7058823529411765",
         "0.6601307189542484",
         "0.29166666666666663"
        ],
        [
         "4",
         "dna",
         "0.6666666666666666",
         "0.7178423236514523",
         "0.7519607843137254",
         "0.7647058823529411",
         "0.730999066293184",
         "0.3333333333333333"
        ],
        [
         "5",
         "har",
         "0.625",
         "0.5062240663900415",
         "0.4647058823529412",
         "0.5882352941176471",
         "0.5130718954248366",
         "0.375"
        ],
        [
         "6",
         "madelon",
         "0.5416666666666666",
         "0.3013100436681223",
         "0.3298611111111111",
         "0.375",
         "0.2746212121212121",
         "0.4583333333333333"
        ],
        [
         "7",
         "mfeat-factors",
         "0.875",
         "0.9297520661157025",
         "0.9117647058823529",
         "0.9411764705882353",
         "0.9215686274509803",
         "0.125"
        ],
        [
         "8",
         "mfeat-fourier",
         "0.7916666666666666",
         "0.7892561983471074",
         "0.8411764705882353",
         "0.8235294117647058",
         "0.7892156862745098",
         "0.20833333333333331"
        ],
        [
         "9",
         "mfeat-karhunen",
         "1.0",
         "1.0",
         "1.0",
         "1.0",
         "1.0",
         "0.0"
        ],
        [
         "10",
         "mfeat-zernike",
         "1.0",
         "1.0",
         "1.0",
         "1.0",
         "1.0",
         "0.0"
        ],
        [
         "11",
         "nomao",
         "0.5416666666666666",
         "0.6443514644351465",
         "0.634313725490196",
         "0.7058823529411765",
         "0.6486461251167134",
         "0.4583333333333333"
        ],
        [
         "12",
         "optdigits",
         "1.0",
         "1.0",
         "1.0",
         "1.0",
         "1.0",
         "0.0"
        ],
        [
         "13",
         "pendigits",
         "0.6666666666666666",
         "0.5785123966942148",
         "0.625",
         "0.6470588235294118",
         "0.5766488413547237",
         "0.3333333333333333"
        ],
        [
         "14",
         "phoneme",
         "0.5416666666666666",
         "0.5082644628099173",
         "0.5563725490196079",
         "0.5882352941176471",
         "0.5080213903743316",
         "0.4583333333333333"
        ],
        [
         "15",
         "qsar-biodeg",
         "0.7083333333333333",
         "0.6487603305785123",
         "0.634453781512605",
         "0.7058823529411765",
         "0.6392156862745098",
         "0.29166666666666663"
        ],
        [
         "16",
         "satimage",
         "0.8541666666666666",
         "0.7746478873239436",
         "0.83125",
         "0.8125",
         "0.7989583333333332",
         "0.14583333333333331"
        ],
        [
         "17",
         "semeion",
         "0.75",
         "0.7154811715481171",
         "0.810924369747899",
         "0.7647058823529411",
         "0.7338680926916221",
         "0.25"
        ],
        [
         "18",
         "spambase",
         "1.0",
         "1.0",
         "1.0",
         "1.0",
         "1.0",
         "0.0"
        ],
        [
         "19",
         "wall-robot-navigation",
         "0.7083333333333333",
         "0.6487603305785123",
         "0.6764705882352942",
         "0.7058823529411765",
         "0.6812324929971989",
         "0.2916666666666667"
        ],
        [
         "20",
         "wdbc",
         "0.41666666666666663",
         "0.43568464730290457",
         "0.5117647058823529",
         "0.5294117647058824",
         "0.5150326797385621",
         "0.5833333333333333"
        ],
        [
         "21",
         "wilt",
         "0.35416666666666663",
         "0.32000000000000006",
         "0.4362745098039216",
         "0.4117647058823529",
         "0.3837535014005602",
         "0.6458333333333333"
        ]
       ],
       "shape": {
        "columns": 7,
        "rows": 22
       }
      },
      "text/html": [
       "<div>\n",
       "<style scoped>\n",
       "    .dataframe tbody tr th:only-of-type {\n",
       "        vertical-align: middle;\n",
       "    }\n",
       "\n",
       "    .dataframe tbody tr th {\n",
       "        vertical-align: top;\n",
       "    }\n",
       "\n",
       "    .dataframe thead th {\n",
       "        text-align: right;\n",
       "    }\n",
       "</style>\n",
       "<table border=\"1\" class=\"dataframe\">\n",
       "  <thead>\n",
       "    <tr style=\"text-align: right;\">\n",
       "      <th></th>\n",
       "      <th>dataset</th>\n",
       "      <th>bacc</th>\n",
       "      <th>kappa</th>\n",
       "      <th>precision</th>\n",
       "      <th>recall</th>\n",
       "      <th>f1</th>\n",
       "      <th>fnr</th>\n",
       "    </tr>\n",
       "  </thead>\n",
       "  <tbody>\n",
       "    <tr>\n",
       "      <th>0</th>\n",
       "      <td>Bioresponse</td>\n",
       "      <td>0.583333</td>\n",
       "      <td>0.571429</td>\n",
       "      <td>0.598039</td>\n",
       "      <td>0.647059</td>\n",
       "      <td>0.598880</td>\n",
       "      <td>0.416667</td>\n",
       "    </tr>\n",
       "    <tr>\n",
       "      <th>1</th>\n",
       "      <td>churn</td>\n",
       "      <td>0.666667</td>\n",
       "      <td>0.719008</td>\n",
       "      <td>0.752941</td>\n",
       "      <td>0.764706</td>\n",
       "      <td>0.728431</td>\n",
       "      <td>0.333333</td>\n",
       "    </tr>\n",
       "    <tr>\n",
       "      <th>2</th>\n",
       "      <td>cmc</td>\n",
       "      <td>1.000000</td>\n",
       "      <td>1.000000</td>\n",
       "      <td>1.000000</td>\n",
       "      <td>1.000000</td>\n",
       "      <td>1.000000</td>\n",
       "      <td>0.000000</td>\n",
       "    </tr>\n",
       "    <tr>\n",
       "      <th>3</th>\n",
       "      <td>cnae-9</td>\n",
       "      <td>0.708333</td>\n",
       "      <td>0.647303</td>\n",
       "      <td>0.776471</td>\n",
       "      <td>0.705882</td>\n",
       "      <td>0.660131</td>\n",
       "      <td>0.291667</td>\n",
       "    </tr>\n",
       "    <tr>\n",
       "      <th>4</th>\n",
       "      <td>dna</td>\n",
       "      <td>0.666667</td>\n",
       "      <td>0.717842</td>\n",
       "      <td>0.751961</td>\n",
       "      <td>0.764706</td>\n",
       "      <td>0.730999</td>\n",
       "      <td>0.333333</td>\n",
       "    </tr>\n",
       "    <tr>\n",
       "      <th>5</th>\n",
       "      <td>har</td>\n",
       "      <td>0.625000</td>\n",
       "      <td>0.506224</td>\n",
       "      <td>0.464706</td>\n",
       "      <td>0.588235</td>\n",
       "      <td>0.513072</td>\n",
       "      <td>0.375000</td>\n",
       "    </tr>\n",
       "    <tr>\n",
       "      <th>6</th>\n",
       "      <td>madelon</td>\n",
       "      <td>0.541667</td>\n",
       "      <td>0.301310</td>\n",
       "      <td>0.329861</td>\n",
       "      <td>0.375000</td>\n",
       "      <td>0.274621</td>\n",
       "      <td>0.458333</td>\n",
       "    </tr>\n",
       "    <tr>\n",
       "      <th>7</th>\n",
       "      <td>mfeat-factors</td>\n",
       "      <td>0.875000</td>\n",
       "      <td>0.929752</td>\n",
       "      <td>0.911765</td>\n",
       "      <td>0.941176</td>\n",
       "      <td>0.921569</td>\n",
       "      <td>0.125000</td>\n",
       "    </tr>\n",
       "    <tr>\n",
       "      <th>8</th>\n",
       "      <td>mfeat-fourier</td>\n",
       "      <td>0.791667</td>\n",
       "      <td>0.789256</td>\n",
       "      <td>0.841176</td>\n",
       "      <td>0.823529</td>\n",
       "      <td>0.789216</td>\n",
       "      <td>0.208333</td>\n",
       "    </tr>\n",
       "    <tr>\n",
       "      <th>9</th>\n",
       "      <td>mfeat-karhunen</td>\n",
       "      <td>1.000000</td>\n",
       "      <td>1.000000</td>\n",
       "      <td>1.000000</td>\n",
       "      <td>1.000000</td>\n",
       "      <td>1.000000</td>\n",
       "      <td>0.000000</td>\n",
       "    </tr>\n",
       "    <tr>\n",
       "      <th>10</th>\n",
       "      <td>mfeat-zernike</td>\n",
       "      <td>1.000000</td>\n",
       "      <td>1.000000</td>\n",
       "      <td>1.000000</td>\n",
       "      <td>1.000000</td>\n",
       "      <td>1.000000</td>\n",
       "      <td>0.000000</td>\n",
       "    </tr>\n",
       "    <tr>\n",
       "      <th>11</th>\n",
       "      <td>nomao</td>\n",
       "      <td>0.541667</td>\n",
       "      <td>0.644351</td>\n",
       "      <td>0.634314</td>\n",
       "      <td>0.705882</td>\n",
       "      <td>0.648646</td>\n",
       "      <td>0.458333</td>\n",
       "    </tr>\n",
       "    <tr>\n",
       "      <th>12</th>\n",
       "      <td>optdigits</td>\n",
       "      <td>1.000000</td>\n",
       "      <td>1.000000</td>\n",
       "      <td>1.000000</td>\n",
       "      <td>1.000000</td>\n",
       "      <td>1.000000</td>\n",
       "      <td>0.000000</td>\n",
       "    </tr>\n",
       "    <tr>\n",
       "      <th>13</th>\n",
       "      <td>pendigits</td>\n",
       "      <td>0.666667</td>\n",
       "      <td>0.578512</td>\n",
       "      <td>0.625000</td>\n",
       "      <td>0.647059</td>\n",
       "      <td>0.576649</td>\n",
       "      <td>0.333333</td>\n",
       "    </tr>\n",
       "    <tr>\n",
       "      <th>14</th>\n",
       "      <td>phoneme</td>\n",
       "      <td>0.541667</td>\n",
       "      <td>0.508264</td>\n",
       "      <td>0.556373</td>\n",
       "      <td>0.588235</td>\n",
       "      <td>0.508021</td>\n",
       "      <td>0.458333</td>\n",
       "    </tr>\n",
       "    <tr>\n",
       "      <th>15</th>\n",
       "      <td>qsar-biodeg</td>\n",
       "      <td>0.708333</td>\n",
       "      <td>0.648760</td>\n",
       "      <td>0.634454</td>\n",
       "      <td>0.705882</td>\n",
       "      <td>0.639216</td>\n",
       "      <td>0.291667</td>\n",
       "    </tr>\n",
       "    <tr>\n",
       "      <th>16</th>\n",
       "      <td>satimage</td>\n",
       "      <td>0.854167</td>\n",
       "      <td>0.774648</td>\n",
       "      <td>0.831250</td>\n",
       "      <td>0.812500</td>\n",
       "      <td>0.798958</td>\n",
       "      <td>0.145833</td>\n",
       "    </tr>\n",
       "    <tr>\n",
       "      <th>17</th>\n",
       "      <td>semeion</td>\n",
       "      <td>0.750000</td>\n",
       "      <td>0.715481</td>\n",
       "      <td>0.810924</td>\n",
       "      <td>0.764706</td>\n",
       "      <td>0.733868</td>\n",
       "      <td>0.250000</td>\n",
       "    </tr>\n",
       "    <tr>\n",
       "      <th>18</th>\n",
       "      <td>spambase</td>\n",
       "      <td>1.000000</td>\n",
       "      <td>1.000000</td>\n",
       "      <td>1.000000</td>\n",
       "      <td>1.000000</td>\n",
       "      <td>1.000000</td>\n",
       "      <td>0.000000</td>\n",
       "    </tr>\n",
       "    <tr>\n",
       "      <th>19</th>\n",
       "      <td>wall-robot-navigation</td>\n",
       "      <td>0.708333</td>\n",
       "      <td>0.648760</td>\n",
       "      <td>0.676471</td>\n",
       "      <td>0.705882</td>\n",
       "      <td>0.681232</td>\n",
       "      <td>0.291667</td>\n",
       "    </tr>\n",
       "    <tr>\n",
       "      <th>20</th>\n",
       "      <td>wdbc</td>\n",
       "      <td>0.416667</td>\n",
       "      <td>0.435685</td>\n",
       "      <td>0.511765</td>\n",
       "      <td>0.529412</td>\n",
       "      <td>0.515033</td>\n",
       "      <td>0.583333</td>\n",
       "    </tr>\n",
       "    <tr>\n",
       "      <th>21</th>\n",
       "      <td>wilt</td>\n",
       "      <td>0.354167</td>\n",
       "      <td>0.320000</td>\n",
       "      <td>0.436275</td>\n",
       "      <td>0.411765</td>\n",
       "      <td>0.383754</td>\n",
       "      <td>0.645833</td>\n",
       "    </tr>\n",
       "  </tbody>\n",
       "</table>\n",
       "</div>"
      ],
      "text/plain": [
       "                  dataset      bacc     kappa  precision    recall        f1  \\\n",
       "0             Bioresponse  0.583333  0.571429   0.598039  0.647059  0.598880   \n",
       "1                   churn  0.666667  0.719008   0.752941  0.764706  0.728431   \n",
       "2                     cmc  1.000000  1.000000   1.000000  1.000000  1.000000   \n",
       "3                  cnae-9  0.708333  0.647303   0.776471  0.705882  0.660131   \n",
       "4                     dna  0.666667  0.717842   0.751961  0.764706  0.730999   \n",
       "5                     har  0.625000  0.506224   0.464706  0.588235  0.513072   \n",
       "6                 madelon  0.541667  0.301310   0.329861  0.375000  0.274621   \n",
       "7           mfeat-factors  0.875000  0.929752   0.911765  0.941176  0.921569   \n",
       "8           mfeat-fourier  0.791667  0.789256   0.841176  0.823529  0.789216   \n",
       "9          mfeat-karhunen  1.000000  1.000000   1.000000  1.000000  1.000000   \n",
       "10          mfeat-zernike  1.000000  1.000000   1.000000  1.000000  1.000000   \n",
       "11                  nomao  0.541667  0.644351   0.634314  0.705882  0.648646   \n",
       "12              optdigits  1.000000  1.000000   1.000000  1.000000  1.000000   \n",
       "13              pendigits  0.666667  0.578512   0.625000  0.647059  0.576649   \n",
       "14                phoneme  0.541667  0.508264   0.556373  0.588235  0.508021   \n",
       "15            qsar-biodeg  0.708333  0.648760   0.634454  0.705882  0.639216   \n",
       "16               satimage  0.854167  0.774648   0.831250  0.812500  0.798958   \n",
       "17                semeion  0.750000  0.715481   0.810924  0.764706  0.733868   \n",
       "18               spambase  1.000000  1.000000   1.000000  1.000000  1.000000   \n",
       "19  wall-robot-navigation  0.708333  0.648760   0.676471  0.705882  0.681232   \n",
       "20                   wdbc  0.416667  0.435685   0.511765  0.529412  0.515033   \n",
       "21                   wilt  0.354167  0.320000   0.436275  0.411765  0.383754   \n",
       "\n",
       "         fnr  \n",
       "0   0.416667  \n",
       "1   0.333333  \n",
       "2   0.000000  \n",
       "3   0.291667  \n",
       "4   0.333333  \n",
       "5   0.375000  \n",
       "6   0.458333  \n",
       "7   0.125000  \n",
       "8   0.208333  \n",
       "9   0.000000  \n",
       "10  0.000000  \n",
       "11  0.458333  \n",
       "12  0.000000  \n",
       "13  0.333333  \n",
       "14  0.458333  \n",
       "15  0.291667  \n",
       "16  0.145833  \n",
       "17  0.250000  \n",
       "18  0.000000  \n",
       "19  0.291667  \n",
       "20  0.583333  \n",
       "21  0.645833  "
      ]
     },
     "execution_count": 61,
     "metadata": {},
     "output_type": "execute_result"
    }
   ],
   "source": [
    "one_dataset_out_rf, one_dataset_out_fi_rf = leave_dataset_out(model=RandomForestClassifier(random_state=123))\n",
    "one_dataset_out_rf"
   ]
  },
  {
   "cell_type": "markdown",
   "metadata": {},
   "source": [
    "### Hyperparameters tuning"
   ]
  },
  {
   "cell_type": "code",
   "execution_count": 62,
   "metadata": {},
   "outputs": [
    {
     "name": "stderr",
     "output_type": "stream",
     "text": [
      "100%|██████████| 22/22 [00:30<00:00,  1.38s/it]\n"
     ]
    }
   ],
   "source": [
    "retrain = False\n",
    "\n",
    "if retrain:\n",
    "\n",
    "    model=RandomForestClassifier(random_state=123)\n",
    "\n",
    "    param_grid = {\n",
    "        'max_depth': [50, 80, 110],\n",
    "        'min_samples_split': [2, 5, 8],\n",
    "        'n_estimators': [100, 200, 500]\n",
    "    }\n",
    "\n",
    "    one_dataset_out_rf, one_dataset_out_fi_rf = create_hyperparams_grid(model=model, param_grid=param_grid, exp_function=leave_dataset_out, crit=\"kappa\")\n",
    "else:\n",
    "    # Params: {'max_depth': 50, 'min_samples_split': 2, 'n_estimators': 500} give best kappa equal 0.7182473851325019\n",
    "    params = {'max_depth': 50, 'min_samples_split': 2, 'n_estimators': 500, 'random_state': 123}\n",
    "    one_dataset_out_rf, one_dataset_out_fi_rf = leave_dataset_out(model=RandomForestClassifier(random_state=123), params=params)"
   ]
  },
  {
   "cell_type": "code",
   "execution_count": 63,
   "metadata": {},
   "outputs": [
    {
     "data": {
      "application/vnd.microsoft.datawrangler.viewer.v0+json": {
       "columns": [
        {
         "name": "index",
         "rawType": "object",
         "type": "string"
        },
        {
         "name": "bacc",
         "rawType": "float64",
         "type": "float"
        },
        {
         "name": "kappa",
         "rawType": "float64",
         "type": "float"
        }
       ],
       "ref": "c6c9cf50-a47f-4581-8cea-57e52b456c56",
       "rows": [
        [
         "mean",
         "0.7405303030303029",
         "0.7182473851325019"
        ],
        [
         "std",
         "0.18708367279188376",
         "0.21215478913077288"
        ]
       ],
       "shape": {
        "columns": 2,
        "rows": 2
       }
      },
      "text/html": [
       "<div>\n",
       "<style scoped>\n",
       "    .dataframe tbody tr th:only-of-type {\n",
       "        vertical-align: middle;\n",
       "    }\n",
       "\n",
       "    .dataframe tbody tr th {\n",
       "        vertical-align: top;\n",
       "    }\n",
       "\n",
       "    .dataframe thead th {\n",
       "        text-align: right;\n",
       "    }\n",
       "</style>\n",
       "<table border=\"1\" class=\"dataframe\">\n",
       "  <thead>\n",
       "    <tr style=\"text-align: right;\">\n",
       "      <th></th>\n",
       "      <th>bacc</th>\n",
       "      <th>kappa</th>\n",
       "    </tr>\n",
       "  </thead>\n",
       "  <tbody>\n",
       "    <tr>\n",
       "      <th>mean</th>\n",
       "      <td>0.740530</td>\n",
       "      <td>0.718247</td>\n",
       "    </tr>\n",
       "    <tr>\n",
       "      <th>std</th>\n",
       "      <td>0.187084</td>\n",
       "      <td>0.212155</td>\n",
       "    </tr>\n",
       "  </tbody>\n",
       "</table>\n",
       "</div>"
      ],
      "text/plain": [
       "          bacc     kappa\n",
       "mean  0.740530  0.718247\n",
       "std   0.187084  0.212155"
      ]
     },
     "execution_count": 63,
     "metadata": {},
     "output_type": "execute_result"
    }
   ],
   "source": [
    "one_dataset_out_rf[[\"bacc\", \"kappa\"]].agg(['mean', 'std'])"
   ]
  },
  {
   "cell_type": "code",
   "execution_count": 64,
   "metadata": {},
   "outputs": [
    {
     "name": "stdout",
     "output_type": "stream",
     "text": [
      "\\begin{tabular}{lllll}\n",
      "\\toprule\n",
      "bacc & precision & recall & f1 & fnr \\\\\n",
      "\\midrule\n",
      "0.74 (0.19) & 0.74 (0.20) & 0.76 (0.18) & 0.72 (0.21) & 0.26 (0.19) \\\\\n",
      "\\bottomrule\n",
      "\\end{tabular}\n",
      "\n"
     ]
    }
   ],
   "source": [
    "format_mean_std(one_dataset_out_rf)"
   ]
  },
  {
   "cell_type": "code",
   "execution_count": 65,
   "metadata": {},
   "outputs": [
    {
     "data": {
      "application/vnd.microsoft.datawrangler.viewer.v0+json": {
       "columns": [
        {
         "name": "var",
         "rawType": "object",
         "type": "string"
        },
        {
         "name": "fi_rank_mean",
         "rawType": "float64",
         "type": "float"
        }
       ],
       "ref": "2c9e937a-fc6c-4fb9-ba5d-4e4944144f63",
       "rows": [
        [
         "bacc_test_q0",
         "1.1818181818181819"
        ],
        [
         "bacc_test_q75",
         "3.1363636363636362"
        ],
        [
         "bacc_test_mean",
         "3.772727272727273"
        ],
        [
         "bacc_test_q50",
         "3.8636363636363638"
        ],
        [
         "bacc_test_q1",
         "4.5"
        ],
        [
         "bacc_test_q25",
         "4.545454545454546"
        ],
        [
         "uncertainty_mean",
         "7.2272727272727275"
        ],
        [
         "uncertainty_minmax",
         "8.863636363636363"
        ],
        [
         "uncertainty_q75",
         "9.318181818181818"
        ],
        [
         "uncertainty_q50",
         "9.681818181818182"
        ],
        [
         "uncertainty_q25",
         "10.0"
        ],
        [
         "uncertainty_q1",
         "12.045454545454545"
        ],
        [
         "uncertainty_q0",
         "12.863636363636363"
        ],
        [
         "target_approx_consistency_in_neighborhood_mean",
         "14.0"
        ],
        [
         "target_approx_consistency_in_neighborhood_q50",
         "15.681818181818182"
        ],
        [
         "target_approx_consistency_in_neighborhood_q25",
         "15.727272727272727"
        ],
        [
         "target_targets_consistency_in_neighborhood_mean",
         "17.59090909090909"
        ],
        [
         "approx_diversity_in_neighborhood_q25",
         "20.681818181818183"
        ],
        [
         "target_diversity_in_neighborhood_mean",
         "20.772727272727273"
        ],
        [
         "approx_diversity_in_neighborhood_mean",
         "21.227272727272727"
        ]
       ],
       "shape": {
        "columns": 1,
        "rows": 20
       }
      },
      "text/html": [
       "<div>\n",
       "<style scoped>\n",
       "    .dataframe tbody tr th:only-of-type {\n",
       "        vertical-align: middle;\n",
       "    }\n",
       "\n",
       "    .dataframe tbody tr th {\n",
       "        vertical-align: top;\n",
       "    }\n",
       "\n",
       "    .dataframe thead th {\n",
       "        text-align: right;\n",
       "    }\n",
       "</style>\n",
       "<table border=\"1\" class=\"dataframe\">\n",
       "  <thead>\n",
       "    <tr style=\"text-align: right;\">\n",
       "      <th></th>\n",
       "      <th>fi_rank_mean</th>\n",
       "    </tr>\n",
       "    <tr>\n",
       "      <th>var</th>\n",
       "      <th></th>\n",
       "    </tr>\n",
       "  </thead>\n",
       "  <tbody>\n",
       "    <tr>\n",
       "      <th>bacc_test_q0</th>\n",
       "      <td>1.181818</td>\n",
       "    </tr>\n",
       "    <tr>\n",
       "      <th>bacc_test_q75</th>\n",
       "      <td>3.136364</td>\n",
       "    </tr>\n",
       "    <tr>\n",
       "      <th>bacc_test_mean</th>\n",
       "      <td>3.772727</td>\n",
       "    </tr>\n",
       "    <tr>\n",
       "      <th>bacc_test_q50</th>\n",
       "      <td>3.863636</td>\n",
       "    </tr>\n",
       "    <tr>\n",
       "      <th>bacc_test_q1</th>\n",
       "      <td>4.500000</td>\n",
       "    </tr>\n",
       "    <tr>\n",
       "      <th>bacc_test_q25</th>\n",
       "      <td>4.545455</td>\n",
       "    </tr>\n",
       "    <tr>\n",
       "      <th>uncertainty_mean</th>\n",
       "      <td>7.227273</td>\n",
       "    </tr>\n",
       "    <tr>\n",
       "      <th>uncertainty_minmax</th>\n",
       "      <td>8.863636</td>\n",
       "    </tr>\n",
       "    <tr>\n",
       "      <th>uncertainty_q75</th>\n",
       "      <td>9.318182</td>\n",
       "    </tr>\n",
       "    <tr>\n",
       "      <th>uncertainty_q50</th>\n",
       "      <td>9.681818</td>\n",
       "    </tr>\n",
       "    <tr>\n",
       "      <th>uncertainty_q25</th>\n",
       "      <td>10.000000</td>\n",
       "    </tr>\n",
       "    <tr>\n",
       "      <th>uncertainty_q1</th>\n",
       "      <td>12.045455</td>\n",
       "    </tr>\n",
       "    <tr>\n",
       "      <th>uncertainty_q0</th>\n",
       "      <td>12.863636</td>\n",
       "    </tr>\n",
       "    <tr>\n",
       "      <th>target_approx_consistency_in_neighborhood_mean</th>\n",
       "      <td>14.000000</td>\n",
       "    </tr>\n",
       "    <tr>\n",
       "      <th>target_approx_consistency_in_neighborhood_q50</th>\n",
       "      <td>15.681818</td>\n",
       "    </tr>\n",
       "    <tr>\n",
       "      <th>target_approx_consistency_in_neighborhood_q25</th>\n",
       "      <td>15.727273</td>\n",
       "    </tr>\n",
       "    <tr>\n",
       "      <th>target_targets_consistency_in_neighborhood_mean</th>\n",
       "      <td>17.590909</td>\n",
       "    </tr>\n",
       "    <tr>\n",
       "      <th>approx_diversity_in_neighborhood_q25</th>\n",
       "      <td>20.681818</td>\n",
       "    </tr>\n",
       "    <tr>\n",
       "      <th>target_diversity_in_neighborhood_mean</th>\n",
       "      <td>20.772727</td>\n",
       "    </tr>\n",
       "    <tr>\n",
       "      <th>approx_diversity_in_neighborhood_mean</th>\n",
       "      <td>21.227273</td>\n",
       "    </tr>\n",
       "  </tbody>\n",
       "</table>\n",
       "</div>"
      ],
      "text/plain": [
       "                                                 fi_rank_mean\n",
       "var                                                          \n",
       "bacc_test_q0                                         1.181818\n",
       "bacc_test_q75                                        3.136364\n",
       "bacc_test_mean                                       3.772727\n",
       "bacc_test_q50                                        3.863636\n",
       "bacc_test_q1                                         4.500000\n",
       "bacc_test_q25                                        4.545455\n",
       "uncertainty_mean                                     7.227273\n",
       "uncertainty_minmax                                   8.863636\n",
       "uncertainty_q75                                      9.318182\n",
       "uncertainty_q50                                      9.681818\n",
       "uncertainty_q25                                     10.000000\n",
       "uncertainty_q1                                      12.045455\n",
       "uncertainty_q0                                      12.863636\n",
       "target_approx_consistency_in_neighborhood_mean      14.000000\n",
       "target_approx_consistency_in_neighborhood_q50       15.681818\n",
       "target_approx_consistency_in_neighborhood_q25       15.727273\n",
       "target_targets_consistency_in_neighborhood_mean     17.590909\n",
       "approx_diversity_in_neighborhood_q25                20.681818\n",
       "target_diversity_in_neighborhood_mean               20.772727\n",
       "approx_diversity_in_neighborhood_mean               21.227273"
      ]
     },
     "execution_count": 65,
     "metadata": {},
     "output_type": "execute_result"
    }
   ],
   "source": [
    "fi_agg = one_dataset_out_fi_rf[[\"var\", \"fi_rank\"]].groupby([\"var\"]).agg(['mean'])\n",
    "fi_agg.columns = fi_agg.columns.to_flat_index()\n",
    "fi_agg.columns = list(fi_agg.columns.map('_'.join))\n",
    "fi_agg.nsmallest(n=20, columns=[\"fi_rank_mean\"])"
   ]
  },
  {
   "cell_type": "markdown",
   "metadata": {},
   "source": [
    "# Leave-one-model-out"
   ]
  },
  {
   "cell_type": "code",
   "execution_count": 66,
   "metadata": {},
   "outputs": [],
   "source": [
    "def leave_model_out(model=xgb.XGBClassifier(random_state=123)):\n",
    "\n",
    "    models = np.unique(attrs_agg_correct_cols[\"model\"])\n",
    "    kappa_list = []\n",
    "    bacc_list = []\n",
    "    precision_list = []\n",
    "    recall_list = []\n",
    "    f1_list = []\n",
    "    fnr_list = []\n",
    "    fi_all = pd.DataFrame()\n",
    "\n",
    "    for selected_model in models:\n",
    "\n",
    "        train = attrs_agg_correct_cols[attrs_agg_correct_cols[\"model\"] != selected_model]\n",
    "        test = attrs_agg_correct_cols[attrs_agg_correct_cols[\"model\"] == selected_model]\n",
    "\n",
    "        y = attrs_agg_correct_cols[\"attack\"]\n",
    "\n",
    "        x_train = train.drop(columns=[\"dataset\", \"model\", \"attack\"])\n",
    "        y_train = train[\"attack\"]\n",
    "\n",
    "        x_test = test.drop(columns=[\"dataset\", \"model\", \"attack\"])\n",
    "        y_test = test[\"attack\"]\n",
    "\n",
    "        le = LabelEncoder()\n",
    "        # le.fit(y)\n",
    "        y_train_enc = le.fit_transform(y_train)\n",
    "        # y_test_enc = le.transform(y_test)\n",
    "\n",
    "        model.fit(x_train, y_train_enc)\n",
    "\n",
    "        fi_dict = {'var': x_train.columns, 'fi': model.feature_importances_}\n",
    "        fi_df = pd.DataFrame(fi_dict)\n",
    "        fi_df[\"fi_rank\"] = fi_df[\"fi\"].rank(ascending=False)\n",
    "        fi_df[\"model\"] = selected_model\n",
    "        fi_all = pd.concat([fi_all, fi_df])\n",
    "\n",
    "        preds = model.predict(x_test)\n",
    "        bacc_list.append(balanced_accuracy_score(y_test, le.inverse_transform(preds)))\n",
    "        kappa_list.append(cohen_kappa_score(y_test, le.inverse_transform(preds)))\n",
    "        precision_list.append(precision_score(y_test, le.inverse_transform(preds), average='weighted'))\n",
    "        recall_list.append(recall_score(y_test, le.inverse_transform(preds), average='weighted'))\n",
    "        f1_list.append(f1_score(y_test, le.inverse_transform(preds), average='weighted'))\n",
    "        fnr_list.append(multiclass_false_negative_rate(y_test, le.inverse_transform(preds)))\n",
    "\n",
    "    results_dict = {'model': models, 'bacc': bacc_list, 'kappa': kappa_list, 'precision': precision_list,\n",
    "                    'recall': recall_list, 'f1': f1_list, 'fnr': fnr_list}\n",
    "\n",
    "    results_df = pd.DataFrame(results_dict)\n",
    "    return results_df, fi_all"
   ]
  },
  {
   "cell_type": "markdown",
   "metadata": {},
   "source": [
    "## XGBoost"
   ]
  },
  {
   "cell_type": "code",
   "execution_count": 67,
   "metadata": {},
   "outputs": [
    {
     "data": {
      "application/vnd.microsoft.datawrangler.viewer.v0+json": {
       "columns": [
        {
         "name": "index",
         "rawType": "int64",
         "type": "integer"
        },
        {
         "name": "model",
         "rawType": "object",
         "type": "string"
        },
        {
         "name": "bacc",
         "rawType": "float64",
         "type": "float"
        },
        {
         "name": "kappa",
         "rawType": "float64",
         "type": "float"
        },
        {
         "name": "precision",
         "rawType": "float64",
         "type": "float"
        },
        {
         "name": "recall",
         "rawType": "float64",
         "type": "float"
        },
        {
         "name": "f1",
         "rawType": "float64",
         "type": "float"
        },
        {
         "name": "fnr",
         "rawType": "float64",
         "type": "float"
        }
       ],
       "ref": "51819e62-7532-4876-8cf6-4397d2bef4f8",
       "rows": [
        [
         "0",
         "lin",
         "0.8295454545454546",
         "0.7727272727272727",
         "0.8409090909090909",
         "0.8295454545454546",
         "0.8312686068084738",
         "0.17045454545454544"
        ],
        [
         "1",
         "nn",
         "0.18181818181818182",
         "0.1461100569259962",
         "0.17391304347826086",
         "0.18181818181818182",
         "0.17777777777777776",
         "0.8181818181818181"
        ],
        [
         "2",
         "svm",
         "0.7386363636363636",
         "0.6515151515151515",
         "0.7586904761904761",
         "0.7386363636363636",
         "0.7379936471425833",
         "0.26136363636363635"
        ],
        [
         "3",
         "xgb",
         "0.5499999999999999",
         "0.4126527677929547",
         "0.5403346868463147",
         "0.5581395348837209",
         "0.5198058823692676",
         "0.45"
        ]
       ],
       "shape": {
        "columns": 7,
        "rows": 4
       }
      },
      "text/html": [
       "<div>\n",
       "<style scoped>\n",
       "    .dataframe tbody tr th:only-of-type {\n",
       "        vertical-align: middle;\n",
       "    }\n",
       "\n",
       "    .dataframe tbody tr th {\n",
       "        vertical-align: top;\n",
       "    }\n",
       "\n",
       "    .dataframe thead th {\n",
       "        text-align: right;\n",
       "    }\n",
       "</style>\n",
       "<table border=\"1\" class=\"dataframe\">\n",
       "  <thead>\n",
       "    <tr style=\"text-align: right;\">\n",
       "      <th></th>\n",
       "      <th>model</th>\n",
       "      <th>bacc</th>\n",
       "      <th>kappa</th>\n",
       "      <th>precision</th>\n",
       "      <th>recall</th>\n",
       "      <th>f1</th>\n",
       "      <th>fnr</th>\n",
       "    </tr>\n",
       "  </thead>\n",
       "  <tbody>\n",
       "    <tr>\n",
       "      <th>0</th>\n",
       "      <td>lin</td>\n",
       "      <td>0.829545</td>\n",
       "      <td>0.772727</td>\n",
       "      <td>0.840909</td>\n",
       "      <td>0.829545</td>\n",
       "      <td>0.831269</td>\n",
       "      <td>0.170455</td>\n",
       "    </tr>\n",
       "    <tr>\n",
       "      <th>1</th>\n",
       "      <td>nn</td>\n",
       "      <td>0.181818</td>\n",
       "      <td>0.146110</td>\n",
       "      <td>0.173913</td>\n",
       "      <td>0.181818</td>\n",
       "      <td>0.177778</td>\n",
       "      <td>0.818182</td>\n",
       "    </tr>\n",
       "    <tr>\n",
       "      <th>2</th>\n",
       "      <td>svm</td>\n",
       "      <td>0.738636</td>\n",
       "      <td>0.651515</td>\n",
       "      <td>0.758690</td>\n",
       "      <td>0.738636</td>\n",
       "      <td>0.737994</td>\n",
       "      <td>0.261364</td>\n",
       "    </tr>\n",
       "    <tr>\n",
       "      <th>3</th>\n",
       "      <td>xgb</td>\n",
       "      <td>0.550000</td>\n",
       "      <td>0.412653</td>\n",
       "      <td>0.540335</td>\n",
       "      <td>0.558140</td>\n",
       "      <td>0.519806</td>\n",
       "      <td>0.450000</td>\n",
       "    </tr>\n",
       "  </tbody>\n",
       "</table>\n",
       "</div>"
      ],
      "text/plain": [
       "  model      bacc     kappa  precision    recall        f1       fnr\n",
       "0   lin  0.829545  0.772727   0.840909  0.829545  0.831269  0.170455\n",
       "1    nn  0.181818  0.146110   0.173913  0.181818  0.177778  0.818182\n",
       "2   svm  0.738636  0.651515   0.758690  0.738636  0.737994  0.261364\n",
       "3   xgb  0.550000  0.412653   0.540335  0.558140  0.519806  0.450000"
      ]
     },
     "execution_count": 67,
     "metadata": {},
     "output_type": "execute_result"
    }
   ],
   "source": [
    "one_model_out_xgb, one_model_out_fi_xgb = leave_model_out()\n",
    "one_model_out_xgb"
   ]
  },
  {
   "cell_type": "code",
   "execution_count": 68,
   "metadata": {},
   "outputs": [
    {
     "data": {
      "application/vnd.microsoft.datawrangler.viewer.v0+json": {
       "columns": [
        {
         "name": "index",
         "rawType": "object",
         "type": "string"
        },
        {
         "name": "bacc",
         "rawType": "float64",
         "type": "float"
        },
        {
         "name": "kappa",
         "rawType": "float64",
         "type": "float"
        }
       ],
       "ref": "1aba66a2-267d-4dd8-a359-88dc4c2eb7c2",
       "rows": [
        [
         "mean",
         "0.575",
         "0.49575131224034374"
        ],
        [
         "std",
         "0.28681421982568245",
         "0.2769671652141895"
        ]
       ],
       "shape": {
        "columns": 2,
        "rows": 2
       }
      },
      "text/html": [
       "<div>\n",
       "<style scoped>\n",
       "    .dataframe tbody tr th:only-of-type {\n",
       "        vertical-align: middle;\n",
       "    }\n",
       "\n",
       "    .dataframe tbody tr th {\n",
       "        vertical-align: top;\n",
       "    }\n",
       "\n",
       "    .dataframe thead th {\n",
       "        text-align: right;\n",
       "    }\n",
       "</style>\n",
       "<table border=\"1\" class=\"dataframe\">\n",
       "  <thead>\n",
       "    <tr style=\"text-align: right;\">\n",
       "      <th></th>\n",
       "      <th>bacc</th>\n",
       "      <th>kappa</th>\n",
       "    </tr>\n",
       "  </thead>\n",
       "  <tbody>\n",
       "    <tr>\n",
       "      <th>mean</th>\n",
       "      <td>0.575000</td>\n",
       "      <td>0.495751</td>\n",
       "    </tr>\n",
       "    <tr>\n",
       "      <th>std</th>\n",
       "      <td>0.286814</td>\n",
       "      <td>0.276967</td>\n",
       "    </tr>\n",
       "  </tbody>\n",
       "</table>\n",
       "</div>"
      ],
      "text/plain": [
       "          bacc     kappa\n",
       "mean  0.575000  0.495751\n",
       "std   0.286814  0.276967"
      ]
     },
     "execution_count": 68,
     "metadata": {},
     "output_type": "execute_result"
    }
   ],
   "source": [
    "one_model_out_xgb[[\"bacc\", \"kappa\"]].agg(['mean', 'std'])"
   ]
  },
  {
   "cell_type": "code",
   "execution_count": 69,
   "metadata": {},
   "outputs": [
    {
     "name": "stdout",
     "output_type": "stream",
     "text": [
      "\\begin{tabular}{lllll}\n",
      "\\toprule\n",
      "bacc & precision & recall & f1 & fnr \\\\\n",
      "\\midrule\n",
      "0.57 (0.29) & 0.58 (0.30) & 0.58 (0.29) & 0.57 (0.29) & 0.42 (0.29) \\\\\n",
      "\\bottomrule\n",
      "\\end{tabular}\n",
      "\n"
     ]
    }
   ],
   "source": [
    "format_mean_std(one_model_out_xgb)"
   ]
  },
  {
   "cell_type": "markdown",
   "metadata": {},
   "source": [
    "## Random forest"
   ]
  },
  {
   "cell_type": "code",
   "execution_count": 70,
   "metadata": {},
   "outputs": [
    {
     "data": {
      "application/vnd.microsoft.datawrangler.viewer.v0+json": {
       "columns": [
        {
         "name": "index",
         "rawType": "int64",
         "type": "integer"
        },
        {
         "name": "model",
         "rawType": "object",
         "type": "string"
        },
        {
         "name": "bacc",
         "rawType": "float64",
         "type": "float"
        },
        {
         "name": "kappa",
         "rawType": "float64",
         "type": "float"
        },
        {
         "name": "precision",
         "rawType": "float64",
         "type": "float"
        },
        {
         "name": "recall",
         "rawType": "float64",
         "type": "float"
        },
        {
         "name": "f1",
         "rawType": "float64",
         "type": "float"
        },
        {
         "name": "fnr",
         "rawType": "float64",
         "type": "float"
        }
       ],
       "ref": "5cd65101-00fd-445c-b7cd-85da04da7697",
       "rows": [
        [
         "0",
         "lin",
         "0.8295454545454546",
         "0.7727272727272727",
         "0.8450136819702035",
         "0.8295454545454546",
         "0.8322163947163947",
         "0.17045454545454544"
        ],
        [
         "1",
         "nn",
         "0.19090909090909092",
         "0.1539923954372624",
         "0.175",
         "0.19090909090909092",
         "0.1826086956521739",
         "0.809090909090909"
        ],
        [
         "2",
         "svm",
         "0.7727272727272727",
         "0.6992481203007519",
         "0.8036011904761904",
         "0.7727272727272727",
         "0.7818885682032026",
         "0.22727272727272724"
        ],
        [
         "3",
         "xgb",
         "0.6306818181818182",
         "0.522393407380867",
         "0.6891692723601067",
         "0.6395348837209303",
         "0.6162909958258794",
         "0.3693181818181818"
        ]
       ],
       "shape": {
        "columns": 7,
        "rows": 4
       }
      },
      "text/html": [
       "<div>\n",
       "<style scoped>\n",
       "    .dataframe tbody tr th:only-of-type {\n",
       "        vertical-align: middle;\n",
       "    }\n",
       "\n",
       "    .dataframe tbody tr th {\n",
       "        vertical-align: top;\n",
       "    }\n",
       "\n",
       "    .dataframe thead th {\n",
       "        text-align: right;\n",
       "    }\n",
       "</style>\n",
       "<table border=\"1\" class=\"dataframe\">\n",
       "  <thead>\n",
       "    <tr style=\"text-align: right;\">\n",
       "      <th></th>\n",
       "      <th>model</th>\n",
       "      <th>bacc</th>\n",
       "      <th>kappa</th>\n",
       "      <th>precision</th>\n",
       "      <th>recall</th>\n",
       "      <th>f1</th>\n",
       "      <th>fnr</th>\n",
       "    </tr>\n",
       "  </thead>\n",
       "  <tbody>\n",
       "    <tr>\n",
       "      <th>0</th>\n",
       "      <td>lin</td>\n",
       "      <td>0.829545</td>\n",
       "      <td>0.772727</td>\n",
       "      <td>0.845014</td>\n",
       "      <td>0.829545</td>\n",
       "      <td>0.832216</td>\n",
       "      <td>0.170455</td>\n",
       "    </tr>\n",
       "    <tr>\n",
       "      <th>1</th>\n",
       "      <td>nn</td>\n",
       "      <td>0.190909</td>\n",
       "      <td>0.153992</td>\n",
       "      <td>0.175000</td>\n",
       "      <td>0.190909</td>\n",
       "      <td>0.182609</td>\n",
       "      <td>0.809091</td>\n",
       "    </tr>\n",
       "    <tr>\n",
       "      <th>2</th>\n",
       "      <td>svm</td>\n",
       "      <td>0.772727</td>\n",
       "      <td>0.699248</td>\n",
       "      <td>0.803601</td>\n",
       "      <td>0.772727</td>\n",
       "      <td>0.781889</td>\n",
       "      <td>0.227273</td>\n",
       "    </tr>\n",
       "    <tr>\n",
       "      <th>3</th>\n",
       "      <td>xgb</td>\n",
       "      <td>0.630682</td>\n",
       "      <td>0.522393</td>\n",
       "      <td>0.689169</td>\n",
       "      <td>0.639535</td>\n",
       "      <td>0.616291</td>\n",
       "      <td>0.369318</td>\n",
       "    </tr>\n",
       "  </tbody>\n",
       "</table>\n",
       "</div>"
      ],
      "text/plain": [
       "  model      bacc     kappa  precision    recall        f1       fnr\n",
       "0   lin  0.829545  0.772727   0.845014  0.829545  0.832216  0.170455\n",
       "1    nn  0.190909  0.153992   0.175000  0.190909  0.182609  0.809091\n",
       "2   svm  0.772727  0.699248   0.803601  0.772727  0.781889  0.227273\n",
       "3   xgb  0.630682  0.522393   0.689169  0.639535  0.616291  0.369318"
      ]
     },
     "execution_count": 70,
     "metadata": {},
     "output_type": "execute_result"
    }
   ],
   "source": [
    "one_model_out_rf, one_model_out_fi_rf = leave_model_out(model=RandomForestClassifier(random_state=123))\n",
    "one_model_out_rf"
   ]
  },
  {
   "cell_type": "code",
   "execution_count": 71,
   "metadata": {},
   "outputs": [
    {
     "data": {
      "application/vnd.microsoft.datawrangler.viewer.v0+json": {
       "columns": [
        {
         "name": "index",
         "rawType": "object",
         "type": "string"
        },
        {
         "name": "bacc",
         "rawType": "float64",
         "type": "float"
        },
        {
         "name": "kappa",
         "rawType": "float64",
         "type": "float"
        }
       ],
       "ref": "728b7677-4175-4cfd-85de-35ecfd972df4",
       "rows": [
        [
         "mean",
         "0.6059659090909091",
         "0.5370902989615385"
        ],
        [
         "std",
         "0.28906758380981057",
         "0.27616416900929486"
        ]
       ],
       "shape": {
        "columns": 2,
        "rows": 2
       }
      },
      "text/html": [
       "<div>\n",
       "<style scoped>\n",
       "    .dataframe tbody tr th:only-of-type {\n",
       "        vertical-align: middle;\n",
       "    }\n",
       "\n",
       "    .dataframe tbody tr th {\n",
       "        vertical-align: top;\n",
       "    }\n",
       "\n",
       "    .dataframe thead th {\n",
       "        text-align: right;\n",
       "    }\n",
       "</style>\n",
       "<table border=\"1\" class=\"dataframe\">\n",
       "  <thead>\n",
       "    <tr style=\"text-align: right;\">\n",
       "      <th></th>\n",
       "      <th>bacc</th>\n",
       "      <th>kappa</th>\n",
       "    </tr>\n",
       "  </thead>\n",
       "  <tbody>\n",
       "    <tr>\n",
       "      <th>mean</th>\n",
       "      <td>0.605966</td>\n",
       "      <td>0.537090</td>\n",
       "    </tr>\n",
       "    <tr>\n",
       "      <th>std</th>\n",
       "      <td>0.289068</td>\n",
       "      <td>0.276164</td>\n",
       "    </tr>\n",
       "  </tbody>\n",
       "</table>\n",
       "</div>"
      ],
      "text/plain": [
       "          bacc     kappa\n",
       "mean  0.605966  0.537090\n",
       "std   0.289068  0.276164"
      ]
     },
     "execution_count": 71,
     "metadata": {},
     "output_type": "execute_result"
    }
   ],
   "source": [
    "one_model_out_rf[[\"bacc\", \"kappa\"]].agg(['mean', 'std'])"
   ]
  },
  {
   "cell_type": "code",
   "execution_count": 72,
   "metadata": {},
   "outputs": [
    {
     "name": "stdout",
     "output_type": "stream",
     "text": [
      "\\begin{tabular}{lllll}\n",
      "\\toprule\n",
      "bacc & precision & recall & f1 & fnr \\\\\n",
      "\\midrule\n",
      "0.61 (0.29) & 0.63 (0.31) & 0.61 (0.29) & 0.60 (0.30) & 0.39 (0.29) \\\\\n",
      "\\bottomrule\n",
      "\\end{tabular}\n",
      "\n"
     ]
    }
   ],
   "source": [
    "format_mean_std(one_model_out_rf)"
   ]
  },
  {
   "cell_type": "markdown",
   "metadata": {},
   "source": [
    "# 10-fold cross validation"
   ]
  },
  {
   "cell_type": "code",
   "execution_count": 73,
   "metadata": {},
   "outputs": [],
   "source": [
    "def cross_validation(model=xgb.XGBClassifier(random_state=123)):\n",
    "\n",
    "    kappa_list = []\n",
    "    bacc_list = []\n",
    "    precision_list = []\n",
    "    recall_list = []\n",
    "    f1_list = []\n",
    "    fnr_list = []\n",
    "    iter_cv = []\n",
    "    fi_all = pd.DataFrame()\n",
    "\n",
    "    le = LabelEncoder()\n",
    "    x = attrs_agg_correct_cols.drop(columns=[\"dataset\", \"model\", \"attack\"])\n",
    "    y = attrs_agg_correct_cols[\"attack\"]\n",
    "    y_enc = le.fit_transform(y)\n",
    "\n",
    "    skf = StratifiedKFold(n_splits=10)\n",
    "    cv = 0\n",
    "    for train, test in skf.split(x, y_enc):\n",
    "\n",
    "        x_train = x.iloc[train]\n",
    "        y_train = y_enc[train]\n",
    "\n",
    "        x_test = x.iloc[test]\n",
    "        y_test = y_enc[test]\n",
    "\n",
    "        model.fit(x_train, y_train)\n",
    "\n",
    "        fi_dict = {'var': x_train.columns, 'fi': model.feature_importances_}\n",
    "        fi_df = pd.DataFrame(fi_dict)\n",
    "        fi_df[\"fi_rank\"] = fi_df[\"fi\"].rank(ascending=False)\n",
    "        fi_df[\"cv\"] = cv\n",
    "        fi_all = pd.concat([fi_all, fi_df])\n",
    "\n",
    "        preds = model.predict(x_test)\n",
    "        bacc_list.append(balanced_accuracy_score(y_test, preds))\n",
    "        kappa_list.append(cohen_kappa_score(y_test, preds))\n",
    "        precision_list.append(precision_score(y_test, preds, average='weighted'))\n",
    "        recall_list.append(recall_score(y_test, preds, average='weighted'))\n",
    "        f1_list.append(f1_score(y_test, preds, average='weighted'))\n",
    "        fnr_list.append(multiclass_false_negative_rate(y_test, preds))\n",
    "        iter_cv.append(cv)\n",
    "        cv = cv + 1\n",
    "\n",
    "    results_dict = {'cv': iter_cv, 'bacc': bacc_list, 'kappa': kappa_list, 'precision': precision_list,\n",
    "                    'recall': recall_list, 'f1': f1_list, 'fnr': fnr_list}\n",
    "    results_df = pd.DataFrame(results_dict)\n",
    "    return results_df, fi_all"
   ]
  },
  {
   "cell_type": "markdown",
   "metadata": {},
   "source": [
    "## XGBoost"
   ]
  },
  {
   "cell_type": "code",
   "execution_count": 74,
   "metadata": {},
   "outputs": [
    {
     "data": {
      "application/vnd.microsoft.datawrangler.viewer.v0+json": {
       "columns": [
        {
         "name": "index",
         "rawType": "int64",
         "type": "integer"
        },
        {
         "name": "cv",
         "rawType": "int64",
         "type": "integer"
        },
        {
         "name": "bacc",
         "rawType": "float64",
         "type": "float"
        },
        {
         "name": "kappa",
         "rawType": "float64",
         "type": "float"
        },
        {
         "name": "precision",
         "rawType": "float64",
         "type": "float"
        },
        {
         "name": "recall",
         "rawType": "float64",
         "type": "float"
        },
        {
         "name": "f1",
         "rawType": "float64",
         "type": "float"
        },
        {
         "name": "fnr",
         "rawType": "float64",
         "type": "float"
        }
       ],
       "ref": "0929e9b4-4b03-414c-b73f-ab8d5d6b3737",
       "rows": [
        [
         "0",
         "0",
         "0.7797619047619048",
         "0.810316139767055",
         "0.8736044657097288",
         "0.8421052631578947",
         "0.8387121650279545",
         "0.22023809523809523"
        ],
        [
         "1",
         "1",
         "0.7123015873015872",
         "0.6551155115511551",
         "0.7390350877192982",
         "0.7105263157894737",
         "0.7035376903797956",
         "0.2876984126984127"
        ],
        [
         "2",
         "2",
         "0.5714285714285714",
         "0.5456140350877193",
         "0.6104013104013104",
         "0.6216216216216216",
         "0.5876876876876876",
         "0.4285714285714286"
        ],
        [
         "3",
         "3",
         "0.6964285714285714",
         "0.772207563764292",
         "0.8121621621621622",
         "0.8108108108108109",
         "0.7948519948519949",
         "0.30357142857142855"
        ],
        [
         "4",
         "4",
         "0.8958333333333333",
         "0.935483870967742",
         "0.9549549549549549",
         "0.9459459459459459",
         "0.9459459459459459",
         "0.10416666666666666"
        ],
        [
         "5",
         "5",
         "0.5863095238095238",
         "0.6754385964912282",
         "0.7256756756756757",
         "0.7297297297297297",
         "0.7156404524825577",
         "0.41369047619047616"
        ],
        [
         "6",
         "6",
         "0.6438492063492063",
         "0.5817391304347826",
         "0.6859073359073359",
         "0.6486486486486487",
         "0.6562687445040386",
         "0.3561507936507936"
        ],
        [
         "7",
         "7",
         "0.6240079365079365",
         "0.6118881118881119",
         "0.7297297297297297",
         "0.6756756756756757",
         "0.6806571277159513",
         "0.3759920634920635"
        ],
        [
         "8",
         "8",
         "0.7807539682539683",
         "0.7736013986013985",
         "0.8234234234234235",
         "0.8108108108108109",
         "0.8126535626535626",
         "0.21924603174603174"
        ],
        [
         "9",
         "9",
         "0.3005952380952381",
         "0.3849518810148732",
         "0.495945945945946",
         "0.4864864864864865",
         "0.4805662805662805",
         "0.6994047619047619"
        ]
       ],
       "shape": {
        "columns": 7,
        "rows": 10
       }
      },
      "text/html": [
       "<div>\n",
       "<style scoped>\n",
       "    .dataframe tbody tr th:only-of-type {\n",
       "        vertical-align: middle;\n",
       "    }\n",
       "\n",
       "    .dataframe tbody tr th {\n",
       "        vertical-align: top;\n",
       "    }\n",
       "\n",
       "    .dataframe thead th {\n",
       "        text-align: right;\n",
       "    }\n",
       "</style>\n",
       "<table border=\"1\" class=\"dataframe\">\n",
       "  <thead>\n",
       "    <tr style=\"text-align: right;\">\n",
       "      <th></th>\n",
       "      <th>cv</th>\n",
       "      <th>bacc</th>\n",
       "      <th>kappa</th>\n",
       "      <th>precision</th>\n",
       "      <th>recall</th>\n",
       "      <th>f1</th>\n",
       "      <th>fnr</th>\n",
       "    </tr>\n",
       "  </thead>\n",
       "  <tbody>\n",
       "    <tr>\n",
       "      <th>0</th>\n",
       "      <td>0</td>\n",
       "      <td>0.779762</td>\n",
       "      <td>0.810316</td>\n",
       "      <td>0.873604</td>\n",
       "      <td>0.842105</td>\n",
       "      <td>0.838712</td>\n",
       "      <td>0.220238</td>\n",
       "    </tr>\n",
       "    <tr>\n",
       "      <th>1</th>\n",
       "      <td>1</td>\n",
       "      <td>0.712302</td>\n",
       "      <td>0.655116</td>\n",
       "      <td>0.739035</td>\n",
       "      <td>0.710526</td>\n",
       "      <td>0.703538</td>\n",
       "      <td>0.287698</td>\n",
       "    </tr>\n",
       "    <tr>\n",
       "      <th>2</th>\n",
       "      <td>2</td>\n",
       "      <td>0.571429</td>\n",
       "      <td>0.545614</td>\n",
       "      <td>0.610401</td>\n",
       "      <td>0.621622</td>\n",
       "      <td>0.587688</td>\n",
       "      <td>0.428571</td>\n",
       "    </tr>\n",
       "    <tr>\n",
       "      <th>3</th>\n",
       "      <td>3</td>\n",
       "      <td>0.696429</td>\n",
       "      <td>0.772208</td>\n",
       "      <td>0.812162</td>\n",
       "      <td>0.810811</td>\n",
       "      <td>0.794852</td>\n",
       "      <td>0.303571</td>\n",
       "    </tr>\n",
       "    <tr>\n",
       "      <th>4</th>\n",
       "      <td>4</td>\n",
       "      <td>0.895833</td>\n",
       "      <td>0.935484</td>\n",
       "      <td>0.954955</td>\n",
       "      <td>0.945946</td>\n",
       "      <td>0.945946</td>\n",
       "      <td>0.104167</td>\n",
       "    </tr>\n",
       "    <tr>\n",
       "      <th>5</th>\n",
       "      <td>5</td>\n",
       "      <td>0.586310</td>\n",
       "      <td>0.675439</td>\n",
       "      <td>0.725676</td>\n",
       "      <td>0.729730</td>\n",
       "      <td>0.715640</td>\n",
       "      <td>0.413690</td>\n",
       "    </tr>\n",
       "    <tr>\n",
       "      <th>6</th>\n",
       "      <td>6</td>\n",
       "      <td>0.643849</td>\n",
       "      <td>0.581739</td>\n",
       "      <td>0.685907</td>\n",
       "      <td>0.648649</td>\n",
       "      <td>0.656269</td>\n",
       "      <td>0.356151</td>\n",
       "    </tr>\n",
       "    <tr>\n",
       "      <th>7</th>\n",
       "      <td>7</td>\n",
       "      <td>0.624008</td>\n",
       "      <td>0.611888</td>\n",
       "      <td>0.729730</td>\n",
       "      <td>0.675676</td>\n",
       "      <td>0.680657</td>\n",
       "      <td>0.375992</td>\n",
       "    </tr>\n",
       "    <tr>\n",
       "      <th>8</th>\n",
       "      <td>8</td>\n",
       "      <td>0.780754</td>\n",
       "      <td>0.773601</td>\n",
       "      <td>0.823423</td>\n",
       "      <td>0.810811</td>\n",
       "      <td>0.812654</td>\n",
       "      <td>0.219246</td>\n",
       "    </tr>\n",
       "    <tr>\n",
       "      <th>9</th>\n",
       "      <td>9</td>\n",
       "      <td>0.300595</td>\n",
       "      <td>0.384952</td>\n",
       "      <td>0.495946</td>\n",
       "      <td>0.486486</td>\n",
       "      <td>0.480566</td>\n",
       "      <td>0.699405</td>\n",
       "    </tr>\n",
       "  </tbody>\n",
       "</table>\n",
       "</div>"
      ],
      "text/plain": [
       "   cv      bacc     kappa  precision    recall        f1       fnr\n",
       "0   0  0.779762  0.810316   0.873604  0.842105  0.838712  0.220238\n",
       "1   1  0.712302  0.655116   0.739035  0.710526  0.703538  0.287698\n",
       "2   2  0.571429  0.545614   0.610401  0.621622  0.587688  0.428571\n",
       "3   3  0.696429  0.772208   0.812162  0.810811  0.794852  0.303571\n",
       "4   4  0.895833  0.935484   0.954955  0.945946  0.945946  0.104167\n",
       "5   5  0.586310  0.675439   0.725676  0.729730  0.715640  0.413690\n",
       "6   6  0.643849  0.581739   0.685907  0.648649  0.656269  0.356151\n",
       "7   7  0.624008  0.611888   0.729730  0.675676  0.680657  0.375992\n",
       "8   8  0.780754  0.773601   0.823423  0.810811  0.812654  0.219246\n",
       "9   9  0.300595  0.384952   0.495946  0.486486  0.480566  0.699405"
      ]
     },
     "execution_count": 74,
     "metadata": {},
     "output_type": "execute_result"
    }
   ],
   "source": [
    "cv_xgb, cv_fi_xgb = cross_validation()\n",
    "cv_xgb"
   ]
  },
  {
   "cell_type": "code",
   "execution_count": 75,
   "metadata": {},
   "outputs": [
    {
     "data": {
      "application/vnd.microsoft.datawrangler.viewer.v0+json": {
       "columns": [
        {
         "name": "index",
         "rawType": "object",
         "type": "string"
        },
        {
         "name": "bacc",
         "rawType": "float64",
         "type": "float"
        },
        {
         "name": "kappa",
         "rawType": "float64",
         "type": "float"
        }
       ],
       "ref": "52dd05ec-e815-401a-b1fa-557f24005ca3",
       "rows": [
        [
         "mean",
         "0.6591269841269841",
         "0.6746356239568357"
        ],
        [
         "std",
         "0.16076204463809454",
         "0.15609023315586953"
        ]
       ],
       "shape": {
        "columns": 2,
        "rows": 2
       }
      },
      "text/html": [
       "<div>\n",
       "<style scoped>\n",
       "    .dataframe tbody tr th:only-of-type {\n",
       "        vertical-align: middle;\n",
       "    }\n",
       "\n",
       "    .dataframe tbody tr th {\n",
       "        vertical-align: top;\n",
       "    }\n",
       "\n",
       "    .dataframe thead th {\n",
       "        text-align: right;\n",
       "    }\n",
       "</style>\n",
       "<table border=\"1\" class=\"dataframe\">\n",
       "  <thead>\n",
       "    <tr style=\"text-align: right;\">\n",
       "      <th></th>\n",
       "      <th>bacc</th>\n",
       "      <th>kappa</th>\n",
       "    </tr>\n",
       "  </thead>\n",
       "  <tbody>\n",
       "    <tr>\n",
       "      <th>mean</th>\n",
       "      <td>0.659127</td>\n",
       "      <td>0.674636</td>\n",
       "    </tr>\n",
       "    <tr>\n",
       "      <th>std</th>\n",
       "      <td>0.160762</td>\n",
       "      <td>0.156090</td>\n",
       "    </tr>\n",
       "  </tbody>\n",
       "</table>\n",
       "</div>"
      ],
      "text/plain": [
       "          bacc     kappa\n",
       "mean  0.659127  0.674636\n",
       "std   0.160762  0.156090"
      ]
     },
     "execution_count": 75,
     "metadata": {},
     "output_type": "execute_result"
    }
   ],
   "source": [
    "cv_xgb[[\"bacc\", \"kappa\"]].agg(['mean', 'std'])"
   ]
  },
  {
   "cell_type": "code",
   "execution_count": 76,
   "metadata": {},
   "outputs": [
    {
     "name": "stdout",
     "output_type": "stream",
     "text": [
      "\\begin{tabular}{lllll}\n",
      "\\toprule\n",
      "bacc & precision & recall & f1 & fnr \\\\\n",
      "\\midrule\n",
      "0.66 (0.16) & 0.75 (0.13) & 0.73 (0.13) & 0.72 (0.13) & 0.34 (0.16) \\\\\n",
      "\\bottomrule\n",
      "\\end{tabular}\n",
      "\n"
     ]
    }
   ],
   "source": [
    "format_mean_std(cv_xgb)"
   ]
  },
  {
   "cell_type": "markdown",
   "metadata": {},
   "source": [
    "## Random forest"
   ]
  },
  {
   "cell_type": "code",
   "execution_count": 77,
   "metadata": {},
   "outputs": [
    {
     "data": {
      "application/vnd.microsoft.datawrangler.viewer.v0+json": {
       "columns": [
        {
         "name": "index",
         "rawType": "int64",
         "type": "integer"
        },
        {
         "name": "cv",
         "rawType": "int64",
         "type": "integer"
        },
        {
         "name": "bacc",
         "rawType": "float64",
         "type": "float"
        },
        {
         "name": "kappa",
         "rawType": "float64",
         "type": "float"
        },
        {
         "name": "precision",
         "rawType": "float64",
         "type": "float"
        },
        {
         "name": "recall",
         "rawType": "float64",
         "type": "float"
        },
        {
         "name": "f1",
         "rawType": "float64",
         "type": "float"
        },
        {
         "name": "fnr",
         "rawType": "float64",
         "type": "float"
        }
       ],
       "ref": "7f9dbb8c-e0f2-4667-98ee-f8433da36fbc",
       "rows": [
        [
         "0",
         "0",
         "0.6994047619047619",
         "0.683069224353628",
         "0.7680489101541733",
         "0.7368421052631579",
         "0.7345893141945773",
         "0.3005952380952381"
        ],
        [
         "1",
         "1",
         "0.7093253968253969",
         "0.685430463576159",
         "0.7203947368421052",
         "0.7368421052631579",
         "0.7256410256410256",
         "0.29067460317460314"
        ],
        [
         "2",
         "2",
         "0.5758928571428572",
         "0.5483870967741935",
         "0.6572481572481573",
         "0.6216216216216216",
         "0.6065142065142066",
         "0.4241071428571428"
        ],
        [
         "3",
         "3",
         "0.6785714285714286",
         "0.7394366197183099",
         "0.794894894894895",
         "0.7837837837837838",
         "0.7668180785827845",
         "0.3214285714285714"
        ],
        [
         "4",
         "4",
         "0.8333333333333333",
         "0.9031413612565445",
         "0.9279279279279278",
         "0.918918918918919",
         "0.9171171171171172",
         "0.16666666666666666"
        ],
        [
         "5",
         "5",
         "0.6279761904761905",
         "0.707638279192274",
         "0.7617760617760618",
         "0.7567567567567568",
         "0.7523964892385944",
         "0.37202380952380953"
        ],
        [
         "6",
         "6",
         "0.6498015873015872",
         "0.5831889081455806",
         "0.6650727650727651",
         "0.6486486486486487",
         "0.6184056276935533",
         "0.3501984126984127"
        ],
        [
         "7",
         "7",
         "0.5615079365079365",
         "0.5780701754385965",
         "0.7104247104247104",
         "0.6486486486486487",
         "0.6522440993029229",
         "0.4384920634920635"
        ],
        [
         "8",
         "8",
         "0.7599206349206349",
         "0.7412587412587412",
         "0.7882882882882882",
         "0.7837837837837838",
         "0.7797297297297298",
         "0.24007936507936506"
        ],
        [
         "9",
         "9",
         "0.4672619047619047",
         "0.44969378827646544",
         "0.45713790713790714",
         "0.5405405405405406",
         "0.48421668421668423",
         "0.5327380952380952"
        ]
       ],
       "shape": {
        "columns": 7,
        "rows": 10
       }
      },
      "text/html": [
       "<div>\n",
       "<style scoped>\n",
       "    .dataframe tbody tr th:only-of-type {\n",
       "        vertical-align: middle;\n",
       "    }\n",
       "\n",
       "    .dataframe tbody tr th {\n",
       "        vertical-align: top;\n",
       "    }\n",
       "\n",
       "    .dataframe thead th {\n",
       "        text-align: right;\n",
       "    }\n",
       "</style>\n",
       "<table border=\"1\" class=\"dataframe\">\n",
       "  <thead>\n",
       "    <tr style=\"text-align: right;\">\n",
       "      <th></th>\n",
       "      <th>cv</th>\n",
       "      <th>bacc</th>\n",
       "      <th>kappa</th>\n",
       "      <th>precision</th>\n",
       "      <th>recall</th>\n",
       "      <th>f1</th>\n",
       "      <th>fnr</th>\n",
       "    </tr>\n",
       "  </thead>\n",
       "  <tbody>\n",
       "    <tr>\n",
       "      <th>0</th>\n",
       "      <td>0</td>\n",
       "      <td>0.699405</td>\n",
       "      <td>0.683069</td>\n",
       "      <td>0.768049</td>\n",
       "      <td>0.736842</td>\n",
       "      <td>0.734589</td>\n",
       "      <td>0.300595</td>\n",
       "    </tr>\n",
       "    <tr>\n",
       "      <th>1</th>\n",
       "      <td>1</td>\n",
       "      <td>0.709325</td>\n",
       "      <td>0.685430</td>\n",
       "      <td>0.720395</td>\n",
       "      <td>0.736842</td>\n",
       "      <td>0.725641</td>\n",
       "      <td>0.290675</td>\n",
       "    </tr>\n",
       "    <tr>\n",
       "      <th>2</th>\n",
       "      <td>2</td>\n",
       "      <td>0.575893</td>\n",
       "      <td>0.548387</td>\n",
       "      <td>0.657248</td>\n",
       "      <td>0.621622</td>\n",
       "      <td>0.606514</td>\n",
       "      <td>0.424107</td>\n",
       "    </tr>\n",
       "    <tr>\n",
       "      <th>3</th>\n",
       "      <td>3</td>\n",
       "      <td>0.678571</td>\n",
       "      <td>0.739437</td>\n",
       "      <td>0.794895</td>\n",
       "      <td>0.783784</td>\n",
       "      <td>0.766818</td>\n",
       "      <td>0.321429</td>\n",
       "    </tr>\n",
       "    <tr>\n",
       "      <th>4</th>\n",
       "      <td>4</td>\n",
       "      <td>0.833333</td>\n",
       "      <td>0.903141</td>\n",
       "      <td>0.927928</td>\n",
       "      <td>0.918919</td>\n",
       "      <td>0.917117</td>\n",
       "      <td>0.166667</td>\n",
       "    </tr>\n",
       "    <tr>\n",
       "      <th>5</th>\n",
       "      <td>5</td>\n",
       "      <td>0.627976</td>\n",
       "      <td>0.707638</td>\n",
       "      <td>0.761776</td>\n",
       "      <td>0.756757</td>\n",
       "      <td>0.752396</td>\n",
       "      <td>0.372024</td>\n",
       "    </tr>\n",
       "    <tr>\n",
       "      <th>6</th>\n",
       "      <td>6</td>\n",
       "      <td>0.649802</td>\n",
       "      <td>0.583189</td>\n",
       "      <td>0.665073</td>\n",
       "      <td>0.648649</td>\n",
       "      <td>0.618406</td>\n",
       "      <td>0.350198</td>\n",
       "    </tr>\n",
       "    <tr>\n",
       "      <th>7</th>\n",
       "      <td>7</td>\n",
       "      <td>0.561508</td>\n",
       "      <td>0.578070</td>\n",
       "      <td>0.710425</td>\n",
       "      <td>0.648649</td>\n",
       "      <td>0.652244</td>\n",
       "      <td>0.438492</td>\n",
       "    </tr>\n",
       "    <tr>\n",
       "      <th>8</th>\n",
       "      <td>8</td>\n",
       "      <td>0.759921</td>\n",
       "      <td>0.741259</td>\n",
       "      <td>0.788288</td>\n",
       "      <td>0.783784</td>\n",
       "      <td>0.779730</td>\n",
       "      <td>0.240079</td>\n",
       "    </tr>\n",
       "    <tr>\n",
       "      <th>9</th>\n",
       "      <td>9</td>\n",
       "      <td>0.467262</td>\n",
       "      <td>0.449694</td>\n",
       "      <td>0.457138</td>\n",
       "      <td>0.540541</td>\n",
       "      <td>0.484217</td>\n",
       "      <td>0.532738</td>\n",
       "    </tr>\n",
       "  </tbody>\n",
       "</table>\n",
       "</div>"
      ],
      "text/plain": [
       "   cv      bacc     kappa  precision    recall        f1       fnr\n",
       "0   0  0.699405  0.683069   0.768049  0.736842  0.734589  0.300595\n",
       "1   1  0.709325  0.685430   0.720395  0.736842  0.725641  0.290675\n",
       "2   2  0.575893  0.548387   0.657248  0.621622  0.606514  0.424107\n",
       "3   3  0.678571  0.739437   0.794895  0.783784  0.766818  0.321429\n",
       "4   4  0.833333  0.903141   0.927928  0.918919  0.917117  0.166667\n",
       "5   5  0.627976  0.707638   0.761776  0.756757  0.752396  0.372024\n",
       "6   6  0.649802  0.583189   0.665073  0.648649  0.618406  0.350198\n",
       "7   7  0.561508  0.578070   0.710425  0.648649  0.652244  0.438492\n",
       "8   8  0.759921  0.741259   0.788288  0.783784  0.779730  0.240079\n",
       "9   9  0.467262  0.449694   0.457138  0.540541  0.484217  0.532738"
      ]
     },
     "execution_count": 77,
     "metadata": {},
     "output_type": "execute_result"
    }
   ],
   "source": [
    "cv_rf, cv_fi_rf = cross_validation(model=RandomForestClassifier(random_state=123))\n",
    "cv_rf"
   ]
  },
  {
   "cell_type": "code",
   "execution_count": 78,
   "metadata": {},
   "outputs": [
    {
     "data": {
      "application/vnd.microsoft.datawrangler.viewer.v0+json": {
       "columns": [
        {
         "name": "index",
         "rawType": "object",
         "type": "string"
        },
        {
         "name": "bacc",
         "rawType": "float64",
         "type": "float"
        },
        {
         "name": "kappa",
         "rawType": "float64",
         "type": "float"
        }
       ],
       "ref": "dd8b8bc1-df30-47c3-8366-1a8685050225",
       "rows": [
        [
         "mean",
         "0.6562996031746031",
         "0.6619314657990493"
        ],
        [
         "std",
         "0.10502617650280262",
         "0.1268159040194741"
        ]
       ],
       "shape": {
        "columns": 2,
        "rows": 2
       }
      },
      "text/html": [
       "<div>\n",
       "<style scoped>\n",
       "    .dataframe tbody tr th:only-of-type {\n",
       "        vertical-align: middle;\n",
       "    }\n",
       "\n",
       "    .dataframe tbody tr th {\n",
       "        vertical-align: top;\n",
       "    }\n",
       "\n",
       "    .dataframe thead th {\n",
       "        text-align: right;\n",
       "    }\n",
       "</style>\n",
       "<table border=\"1\" class=\"dataframe\">\n",
       "  <thead>\n",
       "    <tr style=\"text-align: right;\">\n",
       "      <th></th>\n",
       "      <th>bacc</th>\n",
       "      <th>kappa</th>\n",
       "    </tr>\n",
       "  </thead>\n",
       "  <tbody>\n",
       "    <tr>\n",
       "      <th>mean</th>\n",
       "      <td>0.656300</td>\n",
       "      <td>0.661931</td>\n",
       "    </tr>\n",
       "    <tr>\n",
       "      <th>std</th>\n",
       "      <td>0.105026</td>\n",
       "      <td>0.126816</td>\n",
       "    </tr>\n",
       "  </tbody>\n",
       "</table>\n",
       "</div>"
      ],
      "text/plain": [
       "          bacc     kappa\n",
       "mean  0.656300  0.661931\n",
       "std   0.105026  0.126816"
      ]
     },
     "execution_count": 78,
     "metadata": {},
     "output_type": "execute_result"
    }
   ],
   "source": [
    "cv_rf[[\"bacc\", \"kappa\"]].agg(['mean', 'std'])"
   ]
  },
  {
   "cell_type": "code",
   "execution_count": 79,
   "metadata": {},
   "outputs": [
    {
     "name": "stdout",
     "output_type": "stream",
     "text": [
      "\\begin{tabular}{lllll}\n",
      "\\toprule\n",
      "bacc & precision & recall & f1 & fnr \\\\\n",
      "\\midrule\n",
      "0.66 (0.11) & 0.73 (0.12) & 0.72 (0.11) & 0.70 (0.12) & 0.34 (0.11) \\\\\n",
      "\\bottomrule\n",
      "\\end{tabular}\n",
      "\n"
     ]
    }
   ],
   "source": [
    "format_mean_std(cv_rf)"
   ]
  },
  {
   "cell_type": "markdown",
   "metadata": {
    "collapsed": false
   },
   "source": [
    "## Save data"
   ]
  },
  {
   "cell_type": "code",
   "execution_count": 80,
   "metadata": {
    "collapsed": false
   },
   "outputs": [],
   "source": [
    "def preprocess_output(df, scenario, mod):\n",
    "    df[\"scenario\"] = scenario\n",
    "    df[\"model_class\"] = mod\n",
    "\n",
    "    return df\n",
    "\n",
    "one_dataset_out_rf = preprocess_output(one_dataset_out_rf, \"one-data-set-out\", \"RF\")\n",
    "one_dataset_out_xgb = preprocess_output(one_dataset_out_xgb, \"one-data-set-out\", \"XGB\")\n",
    "one_model_out_rf = preprocess_output(one_model_out_rf, \"one-model-out\", \"RF\")\n",
    "one_model_out_xgb = preprocess_output(one_model_out_xgb, \"one-model-out\", \"XGB\")\n",
    "cv_rf = preprocess_output(cv_rf, \"10-fold cross-validation\", \"RF\")\n",
    "cv_xgb = preprocess_output(cv_xgb, \"10-fold cross-validation\", \"XGB\")\n",
    "\n",
    "all_bacc = pd.concat([one_dataset_out_rf, one_dataset_out_xgb,\n",
    "                      one_model_out_rf, one_model_out_xgb,\n",
    "                      cv_rf, cv_xgb])"
   ]
  },
  {
   "cell_type": "code",
   "execution_count": 81,
   "metadata": {
    "collapsed": false
   },
   "outputs": [],
   "source": [
    "all_bacc.to_csv(\"results/isolation_bacc_with_bacc.csv\", index=False)"
   ]
  },
  {
   "cell_type": "code",
   "execution_count": 82,
   "metadata": {
    "collapsed": false
   },
   "outputs": [],
   "source": [
    "one_dataset_out_fi_rf = preprocess_output(one_dataset_out_fi_rf, \"one-data-set-out\", \"RF\")\n",
    "one_dataset_out_fi_xgb = preprocess_output(one_dataset_out_fi_xgb, \"one-data-set-out\", \"XGB\")\n",
    "one_model_out_fi_rf = preprocess_output(one_model_out_fi_rf, \"one-model-out\", \"RF\")\n",
    "one_model_out_fi_xgb = preprocess_output(one_model_out_fi_xgb, \"one-model-out\", \"XGB\")\n",
    "cv_fi_rf = preprocess_output(cv_fi_rf, \"10-fold cross-validation\", \"RF\")\n",
    "cv_fi_xgb = preprocess_output(cv_fi_xgb, \"10-fold cross-validation\", \"XGB\")\n",
    "\n",
    "all_fi = pd.concat([one_dataset_out_fi_rf, one_dataset_out_fi_xgb,\n",
    "                      one_model_out_fi_rf, one_model_out_fi_xgb,\n",
    "                      cv_fi_rf, cv_fi_xgb])\n",
    "\n",
    "all_fi.to_csv(\"results/isolation_fi_with_bacc.csv\", index=False)"
   ]
  }
 ],
 "metadata": {
  "kernelspec": {
   "display_name": "venv",
   "language": "python",
   "name": "python3"
  },
  "language_info": {
   "codemirror_mode": {
    "name": "ipython",
    "version": 3
   },
   "file_extension": ".py",
   "mimetype": "text/x-python",
   "name": "python",
   "nbconvert_exporter": "python",
   "pygments_lexer": "ipython3",
   "version": "3.13.3"
  }
 },
 "nbformat": 4,
 "nbformat_minor": 1
}
