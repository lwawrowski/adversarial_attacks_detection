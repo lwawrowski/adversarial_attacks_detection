{
 "cells": [
  {
   "cell_type": "code",
   "execution_count": 1,
   "metadata": {
    "collapsed": true
   },
   "outputs": [],
   "source": [
    "import pandas as pd\n",
    "import numpy as np\n",
    "import copy\n",
    "\n",
    "import xgboost as xgb\n",
    "from tqdm import tqdm\n",
    "from sklearn.pipeline import Pipeline\n",
    "from sklearn.preprocessing import LabelEncoder\n",
    "from sklearn.ensemble import RandomForestClassifier\n",
    "from sklearn.metrics import balanced_accuracy_score, cohen_kappa_score, precision_score, recall_score, f1_score, confusion_matrix\n",
    "from sklearn.model_selection import StratifiedKFold\n",
    "\n",
    "import warnings\n",
    "warnings.filterwarnings(\"ignore\")"
   ]
  },
  {
   "cell_type": "markdown",
   "metadata": {},
   "source": []
  },
  {
   "cell_type": "code",
   "execution_count": 2,
   "metadata": {},
   "outputs": [],
   "source": [
    "d = pd.read_csv(\"results/attacks_diagnoses.csv\")\n",
    "d = d[(d[\"dataset\"] != \"mfeat-morphological\") & (d[\"attack\"] != \"lpf\")]\n",
    "d[\"attack_binary\"] = np.where(d[\"attack\"]==\"org\", 0, 1)"
   ]
  },
  {
   "cell_type": "code",
   "execution_count": 3,
   "metadata": {},
   "outputs": [],
   "source": [
    "def q0(x: float) -> float:\n",
    "    return x.quantile(0)\n",
    "\n",
    "\n",
    "def q25(x: float) -> float:\n",
    "    return x.quantile(0.25)\n",
    "\n",
    "\n",
    "def q50(x: float) -> float:\n",
    "    return x.quantile(0.5)\n",
    "\n",
    "\n",
    "def q75(x: float) -> float:\n",
    "    return x.quantile(0.75)\n",
    "\n",
    "\n",
    "def q1(x: float) -> float:\n",
    "    return x.quantile(1)\n",
    "\n",
    "\n",
    "def minmax(x: float) -> float:\n",
    "    return x.max() - x.min()\n",
    "\n",
    "def false_negative_rate(y_true, y_pred):\n",
    "    if confusion_matrix(y_true, y_pred).shape == (2, 2):\n",
    "        tn, fp, fn, tp = confusion_matrix(y_true, y_pred).ravel()\n",
    "        return fn / (fn + tp)\n",
    "    else:\n",
    "        return np.nan\n",
    "\n",
    "attrs_con = d\n",
    "cols_to_drop = [\"approx\", \"target\", \"pred\", \"error\", \"name\",\n",
    "                    \"overall_mean_target\", \"scores\",\n",
    "                    \"mean_target_in_neighborhood\",\n",
    "                    \"mean_approx_in_neighborhood\",\n",
    "                    \"neighborhood_size_div_model_avg\",\n",
    "                    \"neighborhood_size_pct\",\n",
    "                    \"r_centered_entropy\",\n",
    "                \"entropy\",\n",
    "                    \"logk_r_centered_entropy\",\n",
    "                    \"bacc_test\"]\n",
    "\n",
    "attrs_cols = attrs_con.drop(columns=cols_to_drop)\n",
    "attrs_agg = attrs_cols \\\n",
    "    .groupby([\"dataset\", \"model\", \"attack\",\n",
    "              \"n_test\", \"n_classes\", \"attack_binary\"]) \\\n",
    "    .agg(['mean', q0, q25, q50, q75, q1, minmax])\n",
    "attrs_agg_correct_cols = copy.deepcopy(attrs_agg)\n",
    "attrs_agg_correct_cols.columns = list(attrs_agg_correct_cols.columns.map('_'.join))\n",
    "attrs_agg_correct_cols = attrs_agg_correct_cols.reset_index()"
   ]
  },
  {
   "cell_type": "code",
   "execution_count": 4,
   "metadata": {},
   "outputs": [],
   "source": [
    "d_nn = pd.read_csv(\"results/attacks_diagnoses_nn.csv\")\n",
    "d_nn[\"attack_binary\"] = np.where(d_nn[\"attack\"]==\"org\", 0, 1)\n",
    "\n",
    "attrs_cols = d_nn.drop(columns=cols_to_drop)\n",
    "attrs_agg = attrs_cols \\\n",
    "    .groupby([\"dataset\", \"model\", \"attack\",\n",
    "              \"n_test\", \"n_classes\", \"attack_binary\"]) \\\n",
    "    .agg(['mean', q0, q25, q50, q75, q1, minmax])\n",
    "attrs_agg_correct_cols_nn = copy.deepcopy(attrs_agg)\n",
    "attrs_agg_correct_cols_nn.columns = list(attrs_agg_correct_cols_nn.columns.map('_'.join))\n",
    "attrs_agg_correct_cols_nn = attrs_agg_correct_cols_nn.reset_index()"
   ]
  },
  {
   "cell_type": "code",
   "execution_count": 50,
   "metadata": {},
   "outputs": [],
   "source": [
    "attrs_agg_correct_cols_nn.to_csv(\"results/attrs_agg_correct_cols_nn.csv\", index=False)"
   ]
  },
  {
   "cell_type": "code",
   "execution_count": 5,
   "metadata": {},
   "outputs": [],
   "source": [
    "attrs_agg_correct_cols = pd.concat([attrs_agg_correct_cols, attrs_agg_correct_cols_nn])"
   ]
  },
  {
   "cell_type": "code",
   "execution_count": 6,
   "metadata": {},
   "outputs": [
    {
     "data": {
      "text/plain": [
       "(array([0, 1]), array([ 88, 284]))"
      ]
     },
     "execution_count": 6,
     "metadata": {},
     "output_type": "execute_result"
    }
   ],
   "source": [
    "np.unique(attrs_agg_correct_cols[\"attack_binary\"], return_counts=True)"
   ]
  },
  {
   "cell_type": "code",
   "execution_count": 7,
   "metadata": {},
   "outputs": [
    {
     "data": {
      "application/vnd.microsoft.datawrangler.viewer.v0+json": {
       "columns": [
        {
         "name": "index",
         "rawType": "int64",
         "type": "integer"
        },
        {
         "name": "dataset",
         "rawType": "object",
         "type": "string"
        },
        {
         "name": "model",
         "rawType": "object",
         "type": "string"
        },
        {
         "name": "counts",
         "rawType": "int64",
         "type": "integer"
        }
       ],
       "ref": "f17bc9f2-11eb-46a5-a5ac-211842e25ffe",
       "rows": [
        [
         "0",
         "Bioresponse",
         "lin",
         "4"
        ],
        [
         "1",
         "Bioresponse",
         "nn",
         "5"
        ],
        [
         "2",
         "Bioresponse",
         "svm",
         "4"
        ],
        [
         "3",
         "Bioresponse",
         "xgb",
         "4"
        ],
        [
         "4",
         "churn",
         "lin",
         "4"
        ],
        [
         "5",
         "churn",
         "nn",
         "5"
        ],
        [
         "6",
         "churn",
         "svm",
         "4"
        ],
        [
         "7",
         "churn",
         "xgb",
         "4"
        ],
        [
         "8",
         "cmc",
         "lin",
         "4"
        ],
        [
         "9",
         "cmc",
         "nn",
         "5"
        ],
        [
         "10",
         "cmc",
         "svm",
         "4"
        ],
        [
         "11",
         "cmc",
         "xgb",
         "4"
        ],
        [
         "12",
         "cnae-9",
         "lin",
         "4"
        ],
        [
         "13",
         "cnae-9",
         "nn",
         "5"
        ],
        [
         "14",
         "cnae-9",
         "svm",
         "4"
        ],
        [
         "15",
         "cnae-9",
         "xgb",
         "4"
        ],
        [
         "16",
         "dna",
         "lin",
         "4"
        ],
        [
         "17",
         "dna",
         "nn",
         "5"
        ],
        [
         "18",
         "dna",
         "svm",
         "4"
        ],
        [
         "19",
         "dna",
         "xgb",
         "4"
        ],
        [
         "20",
         "har",
         "lin",
         "4"
        ],
        [
         "21",
         "har",
         "nn",
         "5"
        ],
        [
         "22",
         "har",
         "svm",
         "4"
        ],
        [
         "23",
         "har",
         "xgb",
         "4"
        ],
        [
         "24",
         "madelon",
         "lin",
         "4"
        ],
        [
         "25",
         "madelon",
         "nn",
         "5"
        ],
        [
         "26",
         "madelon",
         "svm",
         "4"
        ],
        [
         "27",
         "madelon",
         "xgb",
         "3"
        ],
        [
         "28",
         "mfeat-factors",
         "lin",
         "4"
        ],
        [
         "29",
         "mfeat-factors",
         "nn",
         "5"
        ],
        [
         "30",
         "mfeat-factors",
         "svm",
         "4"
        ],
        [
         "31",
         "mfeat-factors",
         "xgb",
         "4"
        ],
        [
         "32",
         "mfeat-fourier",
         "lin",
         "4"
        ],
        [
         "33",
         "mfeat-fourier",
         "nn",
         "5"
        ],
        [
         "34",
         "mfeat-fourier",
         "svm",
         "4"
        ],
        [
         "35",
         "mfeat-fourier",
         "xgb",
         "4"
        ],
        [
         "36",
         "mfeat-karhunen",
         "lin",
         "4"
        ],
        [
         "37",
         "mfeat-karhunen",
         "nn",
         "5"
        ],
        [
         "38",
         "mfeat-karhunen",
         "svm",
         "4"
        ],
        [
         "39",
         "mfeat-karhunen",
         "xgb",
         "4"
        ],
        [
         "40",
         "mfeat-zernike",
         "lin",
         "4"
        ],
        [
         "41",
         "mfeat-zernike",
         "nn",
         "5"
        ],
        [
         "42",
         "mfeat-zernike",
         "svm",
         "4"
        ],
        [
         "43",
         "mfeat-zernike",
         "xgb",
         "4"
        ],
        [
         "44",
         "nomao",
         "lin",
         "4"
        ],
        [
         "45",
         "nomao",
         "nn",
         "5"
        ],
        [
         "46",
         "nomao",
         "svm",
         "4"
        ],
        [
         "47",
         "nomao",
         "xgb",
         "4"
        ],
        [
         "48",
         "optdigits",
         "lin",
         "4"
        ],
        [
         "49",
         "optdigits",
         "nn",
         "5"
        ]
       ],
       "shape": {
        "columns": 3,
        "rows": 88
       }
      },
      "text/html": [
       "<div>\n",
       "<style scoped>\n",
       "    .dataframe tbody tr th:only-of-type {\n",
       "        vertical-align: middle;\n",
       "    }\n",
       "\n",
       "    .dataframe tbody tr th {\n",
       "        vertical-align: top;\n",
       "    }\n",
       "\n",
       "    .dataframe thead th {\n",
       "        text-align: right;\n",
       "    }\n",
       "</style>\n",
       "<table border=\"1\" class=\"dataframe\">\n",
       "  <thead>\n",
       "    <tr style=\"text-align: right;\">\n",
       "      <th></th>\n",
       "      <th>dataset</th>\n",
       "      <th>model</th>\n",
       "      <th>counts</th>\n",
       "    </tr>\n",
       "  </thead>\n",
       "  <tbody>\n",
       "    <tr>\n",
       "      <th>0</th>\n",
       "      <td>Bioresponse</td>\n",
       "      <td>lin</td>\n",
       "      <td>4</td>\n",
       "    </tr>\n",
       "    <tr>\n",
       "      <th>1</th>\n",
       "      <td>Bioresponse</td>\n",
       "      <td>nn</td>\n",
       "      <td>5</td>\n",
       "    </tr>\n",
       "    <tr>\n",
       "      <th>2</th>\n",
       "      <td>Bioresponse</td>\n",
       "      <td>svm</td>\n",
       "      <td>4</td>\n",
       "    </tr>\n",
       "    <tr>\n",
       "      <th>3</th>\n",
       "      <td>Bioresponse</td>\n",
       "      <td>xgb</td>\n",
       "      <td>4</td>\n",
       "    </tr>\n",
       "    <tr>\n",
       "      <th>4</th>\n",
       "      <td>churn</td>\n",
       "      <td>lin</td>\n",
       "      <td>4</td>\n",
       "    </tr>\n",
       "    <tr>\n",
       "      <th>...</th>\n",
       "      <td>...</td>\n",
       "      <td>...</td>\n",
       "      <td>...</td>\n",
       "    </tr>\n",
       "    <tr>\n",
       "      <th>83</th>\n",
       "      <td>wdbc</td>\n",
       "      <td>xgb</td>\n",
       "      <td>4</td>\n",
       "    </tr>\n",
       "    <tr>\n",
       "      <th>84</th>\n",
       "      <td>wilt</td>\n",
       "      <td>lin</td>\n",
       "      <td>4</td>\n",
       "    </tr>\n",
       "    <tr>\n",
       "      <th>85</th>\n",
       "      <td>wilt</td>\n",
       "      <td>nn</td>\n",
       "      <td>5</td>\n",
       "    </tr>\n",
       "    <tr>\n",
       "      <th>86</th>\n",
       "      <td>wilt</td>\n",
       "      <td>svm</td>\n",
       "      <td>4</td>\n",
       "    </tr>\n",
       "    <tr>\n",
       "      <th>87</th>\n",
       "      <td>wilt</td>\n",
       "      <td>xgb</td>\n",
       "      <td>4</td>\n",
       "    </tr>\n",
       "  </tbody>\n",
       "</table>\n",
       "<p>88 rows × 3 columns</p>\n",
       "</div>"
      ],
      "text/plain": [
       "        dataset model  counts\n",
       "0   Bioresponse   lin       4\n",
       "1   Bioresponse    nn       5\n",
       "2   Bioresponse   svm       4\n",
       "3   Bioresponse   xgb       4\n",
       "4         churn   lin       4\n",
       "..          ...   ...     ...\n",
       "83         wdbc   xgb       4\n",
       "84         wilt   lin       4\n",
       "85         wilt    nn       5\n",
       "86         wilt   svm       4\n",
       "87         wilt   xgb       4\n",
       "\n",
       "[88 rows x 3 columns]"
      ]
     },
     "execution_count": 7,
     "metadata": {},
     "output_type": "execute_result"
    }
   ],
   "source": [
    "data_counts = attrs_agg_correct_cols[[\"dataset\", \"model\", \"attack\"]].groupby([\"dataset\", \"model\"]).size().reset_index(name='counts')\n",
    "data_counts"
   ]
  },
  {
   "cell_type": "code",
   "execution_count": 8,
   "metadata": {},
   "outputs": [
    {
     "data": {
      "application/vnd.microsoft.datawrangler.viewer.v0+json": {
       "columns": [
        {
         "name": "index",
         "rawType": "int64",
         "type": "integer"
        },
        {
         "name": "dataset",
         "rawType": "object",
         "type": "string"
        },
        {
         "name": "attack",
         "rawType": "object",
         "type": "string"
        },
        {
         "name": "counts",
         "rawType": "int64",
         "type": "integer"
        }
       ],
       "ref": "7a676381-582e-4c38-925b-5e37884b16ae",
       "rows": [
        [
         "0",
         "Bioresponse",
         "bim",
         "1"
        ],
        [
         "1",
         "Bioresponse",
         "fgm",
         "1"
        ],
        [
         "2",
         "Bioresponse",
         "hsj",
         "3"
        ],
        [
         "3",
         "Bioresponse",
         "noise",
         "1"
        ],
        [
         "4",
         "Bioresponse",
         "org",
         "4"
        ],
        [
         "5",
         "Bioresponse",
         "per",
         "3"
        ],
        [
         "6",
         "Bioresponse",
         "pgd",
         "1"
        ],
        [
         "7",
         "Bioresponse",
         "zoo",
         "3"
        ],
        [
         "8",
         "churn",
         "bim",
         "1"
        ],
        [
         "9",
         "churn",
         "fgm",
         "1"
        ],
        [
         "10",
         "churn",
         "hsj",
         "3"
        ],
        [
         "11",
         "churn",
         "noise",
         "1"
        ],
        [
         "12",
         "churn",
         "org",
         "4"
        ],
        [
         "13",
         "churn",
         "per",
         "3"
        ],
        [
         "14",
         "churn",
         "pgd",
         "1"
        ],
        [
         "15",
         "churn",
         "zoo",
         "3"
        ],
        [
         "16",
         "cmc",
         "bim",
         "1"
        ],
        [
         "17",
         "cmc",
         "fgm",
         "1"
        ],
        [
         "18",
         "cmc",
         "hsj",
         "3"
        ],
        [
         "19",
         "cmc",
         "noise",
         "1"
        ],
        [
         "20",
         "cmc",
         "org",
         "4"
        ],
        [
         "21",
         "cmc",
         "per",
         "3"
        ],
        [
         "22",
         "cmc",
         "pgd",
         "1"
        ],
        [
         "23",
         "cmc",
         "zoo",
         "3"
        ],
        [
         "24",
         "cnae-9",
         "bim",
         "1"
        ],
        [
         "25",
         "cnae-9",
         "fgm",
         "1"
        ],
        [
         "26",
         "cnae-9",
         "hsj",
         "3"
        ],
        [
         "27",
         "cnae-9",
         "noise",
         "1"
        ],
        [
         "28",
         "cnae-9",
         "org",
         "4"
        ],
        [
         "29",
         "cnae-9",
         "per",
         "3"
        ],
        [
         "30",
         "cnae-9",
         "pgd",
         "1"
        ],
        [
         "31",
         "cnae-9",
         "zoo",
         "3"
        ],
        [
         "32",
         "dna",
         "bim",
         "1"
        ],
        [
         "33",
         "dna",
         "fgm",
         "1"
        ],
        [
         "34",
         "dna",
         "hsj",
         "3"
        ],
        [
         "35",
         "dna",
         "noise",
         "1"
        ],
        [
         "36",
         "dna",
         "org",
         "4"
        ],
        [
         "37",
         "dna",
         "per",
         "3"
        ],
        [
         "38",
         "dna",
         "pgd",
         "1"
        ],
        [
         "39",
         "dna",
         "zoo",
         "3"
        ],
        [
         "40",
         "har",
         "bim",
         "1"
        ],
        [
         "41",
         "har",
         "fgm",
         "1"
        ],
        [
         "42",
         "har",
         "hsj",
         "3"
        ],
        [
         "43",
         "har",
         "noise",
         "1"
        ],
        [
         "44",
         "har",
         "org",
         "4"
        ],
        [
         "45",
         "har",
         "per",
         "3"
        ],
        [
         "46",
         "har",
         "pgd",
         "1"
        ],
        [
         "47",
         "har",
         "zoo",
         "3"
        ],
        [
         "48",
         "madelon",
         "bim",
         "1"
        ],
        [
         "49",
         "madelon",
         "fgm",
         "1"
        ]
       ],
       "shape": {
        "columns": 3,
        "rows": 176
       }
      },
      "text/html": [
       "<div>\n",
       "<style scoped>\n",
       "    .dataframe tbody tr th:only-of-type {\n",
       "        vertical-align: middle;\n",
       "    }\n",
       "\n",
       "    .dataframe tbody tr th {\n",
       "        vertical-align: top;\n",
       "    }\n",
       "\n",
       "    .dataframe thead th {\n",
       "        text-align: right;\n",
       "    }\n",
       "</style>\n",
       "<table border=\"1\" class=\"dataframe\">\n",
       "  <thead>\n",
       "    <tr style=\"text-align: right;\">\n",
       "      <th></th>\n",
       "      <th>dataset</th>\n",
       "      <th>attack</th>\n",
       "      <th>counts</th>\n",
       "    </tr>\n",
       "  </thead>\n",
       "  <tbody>\n",
       "    <tr>\n",
       "      <th>0</th>\n",
       "      <td>Bioresponse</td>\n",
       "      <td>bim</td>\n",
       "      <td>1</td>\n",
       "    </tr>\n",
       "    <tr>\n",
       "      <th>1</th>\n",
       "      <td>Bioresponse</td>\n",
       "      <td>fgm</td>\n",
       "      <td>1</td>\n",
       "    </tr>\n",
       "    <tr>\n",
       "      <th>2</th>\n",
       "      <td>Bioresponse</td>\n",
       "      <td>hsj</td>\n",
       "      <td>3</td>\n",
       "    </tr>\n",
       "    <tr>\n",
       "      <th>3</th>\n",
       "      <td>Bioresponse</td>\n",
       "      <td>noise</td>\n",
       "      <td>1</td>\n",
       "    </tr>\n",
       "    <tr>\n",
       "      <th>4</th>\n",
       "      <td>Bioresponse</td>\n",
       "      <td>org</td>\n",
       "      <td>4</td>\n",
       "    </tr>\n",
       "    <tr>\n",
       "      <th>...</th>\n",
       "      <td>...</td>\n",
       "      <td>...</td>\n",
       "      <td>...</td>\n",
       "    </tr>\n",
       "    <tr>\n",
       "      <th>171</th>\n",
       "      <td>wilt</td>\n",
       "      <td>noise</td>\n",
       "      <td>1</td>\n",
       "    </tr>\n",
       "    <tr>\n",
       "      <th>172</th>\n",
       "      <td>wilt</td>\n",
       "      <td>org</td>\n",
       "      <td>4</td>\n",
       "    </tr>\n",
       "    <tr>\n",
       "      <th>173</th>\n",
       "      <td>wilt</td>\n",
       "      <td>per</td>\n",
       "      <td>3</td>\n",
       "    </tr>\n",
       "    <tr>\n",
       "      <th>174</th>\n",
       "      <td>wilt</td>\n",
       "      <td>pgd</td>\n",
       "      <td>1</td>\n",
       "    </tr>\n",
       "    <tr>\n",
       "      <th>175</th>\n",
       "      <td>wilt</td>\n",
       "      <td>zoo</td>\n",
       "      <td>3</td>\n",
       "    </tr>\n",
       "  </tbody>\n",
       "</table>\n",
       "<p>176 rows × 3 columns</p>\n",
       "</div>"
      ],
      "text/plain": [
       "         dataset attack  counts\n",
       "0    Bioresponse    bim       1\n",
       "1    Bioresponse    fgm       1\n",
       "2    Bioresponse    hsj       3\n",
       "3    Bioresponse  noise       1\n",
       "4    Bioresponse    org       4\n",
       "..           ...    ...     ...\n",
       "171         wilt  noise       1\n",
       "172         wilt    org       4\n",
       "173         wilt    per       3\n",
       "174         wilt    pgd       1\n",
       "175         wilt    zoo       3\n",
       "\n",
       "[176 rows x 3 columns]"
      ]
     },
     "execution_count": 8,
     "metadata": {},
     "output_type": "execute_result"
    }
   ],
   "source": [
    "data_counts_model_type = attrs_agg_correct_cols[[\"dataset\", \"model\", \"attack\"]].groupby([\"dataset\", \"attack\"]).size().reset_index(name='counts')\n",
    "data_counts_model_type"
   ]
  },
  {
   "cell_type": "code",
   "execution_count": 9,
   "metadata": {},
   "outputs": [
    {
     "data": {
      "text/html": [
       "<style>#sk-container-id-1 {\n",
       "  /* Definition of color scheme common for light and dark mode */\n",
       "  --sklearn-color-text: #000;\n",
       "  --sklearn-color-text-muted: #666;\n",
       "  --sklearn-color-line: gray;\n",
       "  /* Definition of color scheme for unfitted estimators */\n",
       "  --sklearn-color-unfitted-level-0: #fff5e6;\n",
       "  --sklearn-color-unfitted-level-1: #f6e4d2;\n",
       "  --sklearn-color-unfitted-level-2: #ffe0b3;\n",
       "  --sklearn-color-unfitted-level-3: chocolate;\n",
       "  /* Definition of color scheme for fitted estimators */\n",
       "  --sklearn-color-fitted-level-0: #f0f8ff;\n",
       "  --sklearn-color-fitted-level-1: #d4ebff;\n",
       "  --sklearn-color-fitted-level-2: #b3dbfd;\n",
       "  --sklearn-color-fitted-level-3: cornflowerblue;\n",
       "\n",
       "  /* Specific color for light theme */\n",
       "  --sklearn-color-text-on-default-background: var(--sg-text-color, var(--theme-code-foreground, var(--jp-content-font-color1, black)));\n",
       "  --sklearn-color-background: var(--sg-background-color, var(--theme-background, var(--jp-layout-color0, white)));\n",
       "  --sklearn-color-border-box: var(--sg-text-color, var(--theme-code-foreground, var(--jp-content-font-color1, black)));\n",
       "  --sklearn-color-icon: #696969;\n",
       "\n",
       "  @media (prefers-color-scheme: dark) {\n",
       "    /* Redefinition of color scheme for dark theme */\n",
       "    --sklearn-color-text-on-default-background: var(--sg-text-color, var(--theme-code-foreground, var(--jp-content-font-color1, white)));\n",
       "    --sklearn-color-background: var(--sg-background-color, var(--theme-background, var(--jp-layout-color0, #111)));\n",
       "    --sklearn-color-border-box: var(--sg-text-color, var(--theme-code-foreground, var(--jp-content-font-color1, white)));\n",
       "    --sklearn-color-icon: #878787;\n",
       "  }\n",
       "}\n",
       "\n",
       "#sk-container-id-1 {\n",
       "  color: var(--sklearn-color-text);\n",
       "}\n",
       "\n",
       "#sk-container-id-1 pre {\n",
       "  padding: 0;\n",
       "}\n",
       "\n",
       "#sk-container-id-1 input.sk-hidden--visually {\n",
       "  border: 0;\n",
       "  clip: rect(1px 1px 1px 1px);\n",
       "  clip: rect(1px, 1px, 1px, 1px);\n",
       "  height: 1px;\n",
       "  margin: -1px;\n",
       "  overflow: hidden;\n",
       "  padding: 0;\n",
       "  position: absolute;\n",
       "  width: 1px;\n",
       "}\n",
       "\n",
       "#sk-container-id-1 div.sk-dashed-wrapped {\n",
       "  border: 1px dashed var(--sklearn-color-line);\n",
       "  margin: 0 0.4em 0.5em 0.4em;\n",
       "  box-sizing: border-box;\n",
       "  padding-bottom: 0.4em;\n",
       "  background-color: var(--sklearn-color-background);\n",
       "}\n",
       "\n",
       "#sk-container-id-1 div.sk-container {\n",
       "  /* jupyter's `normalize.less` sets `[hidden] { display: none; }`\n",
       "     but bootstrap.min.css set `[hidden] { display: none !important; }`\n",
       "     so we also need the `!important` here to be able to override the\n",
       "     default hidden behavior on the sphinx rendered scikit-learn.org.\n",
       "     See: https://github.com/scikit-learn/scikit-learn/issues/21755 */\n",
       "  display: inline-block !important;\n",
       "  position: relative;\n",
       "}\n",
       "\n",
       "#sk-container-id-1 div.sk-text-repr-fallback {\n",
       "  display: none;\n",
       "}\n",
       "\n",
       "div.sk-parallel-item,\n",
       "div.sk-serial,\n",
       "div.sk-item {\n",
       "  /* draw centered vertical line to link estimators */\n",
       "  background-image: linear-gradient(var(--sklearn-color-text-on-default-background), var(--sklearn-color-text-on-default-background));\n",
       "  background-size: 2px 100%;\n",
       "  background-repeat: no-repeat;\n",
       "  background-position: center center;\n",
       "}\n",
       "\n",
       "/* Parallel-specific style estimator block */\n",
       "\n",
       "#sk-container-id-1 div.sk-parallel-item::after {\n",
       "  content: \"\";\n",
       "  width: 100%;\n",
       "  border-bottom: 2px solid var(--sklearn-color-text-on-default-background);\n",
       "  flex-grow: 1;\n",
       "}\n",
       "\n",
       "#sk-container-id-1 div.sk-parallel {\n",
       "  display: flex;\n",
       "  align-items: stretch;\n",
       "  justify-content: center;\n",
       "  background-color: var(--sklearn-color-background);\n",
       "  position: relative;\n",
       "}\n",
       "\n",
       "#sk-container-id-1 div.sk-parallel-item {\n",
       "  display: flex;\n",
       "  flex-direction: column;\n",
       "}\n",
       "\n",
       "#sk-container-id-1 div.sk-parallel-item:first-child::after {\n",
       "  align-self: flex-end;\n",
       "  width: 50%;\n",
       "}\n",
       "\n",
       "#sk-container-id-1 div.sk-parallel-item:last-child::after {\n",
       "  align-self: flex-start;\n",
       "  width: 50%;\n",
       "}\n",
       "\n",
       "#sk-container-id-1 div.sk-parallel-item:only-child::after {\n",
       "  width: 0;\n",
       "}\n",
       "\n",
       "/* Serial-specific style estimator block */\n",
       "\n",
       "#sk-container-id-1 div.sk-serial {\n",
       "  display: flex;\n",
       "  flex-direction: column;\n",
       "  align-items: center;\n",
       "  background-color: var(--sklearn-color-background);\n",
       "  padding-right: 1em;\n",
       "  padding-left: 1em;\n",
       "}\n",
       "\n",
       "\n",
       "/* Toggleable style: style used for estimator/Pipeline/ColumnTransformer box that is\n",
       "clickable and can be expanded/collapsed.\n",
       "- Pipeline and ColumnTransformer use this feature and define the default style\n",
       "- Estimators will overwrite some part of the style using the `sk-estimator` class\n",
       "*/\n",
       "\n",
       "/* Pipeline and ColumnTransformer style (default) */\n",
       "\n",
       "#sk-container-id-1 div.sk-toggleable {\n",
       "  /* Default theme specific background. It is overwritten whether we have a\n",
       "  specific estimator or a Pipeline/ColumnTransformer */\n",
       "  background-color: var(--sklearn-color-background);\n",
       "}\n",
       "\n",
       "/* Toggleable label */\n",
       "#sk-container-id-1 label.sk-toggleable__label {\n",
       "  cursor: pointer;\n",
       "  display: flex;\n",
       "  width: 100%;\n",
       "  margin-bottom: 0;\n",
       "  padding: 0.5em;\n",
       "  box-sizing: border-box;\n",
       "  text-align: center;\n",
       "  align-items: start;\n",
       "  justify-content: space-between;\n",
       "  gap: 0.5em;\n",
       "}\n",
       "\n",
       "#sk-container-id-1 label.sk-toggleable__label .caption {\n",
       "  font-size: 0.6rem;\n",
       "  font-weight: lighter;\n",
       "  color: var(--sklearn-color-text-muted);\n",
       "}\n",
       "\n",
       "#sk-container-id-1 label.sk-toggleable__label-arrow:before {\n",
       "  /* Arrow on the left of the label */\n",
       "  content: \"▸\";\n",
       "  float: left;\n",
       "  margin-right: 0.25em;\n",
       "  color: var(--sklearn-color-icon);\n",
       "}\n",
       "\n",
       "#sk-container-id-1 label.sk-toggleable__label-arrow:hover:before {\n",
       "  color: var(--sklearn-color-text);\n",
       "}\n",
       "\n",
       "/* Toggleable content - dropdown */\n",
       "\n",
       "#sk-container-id-1 div.sk-toggleable__content {\n",
       "  display: none;\n",
       "  text-align: left;\n",
       "  /* unfitted */\n",
       "  background-color: var(--sklearn-color-unfitted-level-0);\n",
       "}\n",
       "\n",
       "#sk-container-id-1 div.sk-toggleable__content.fitted {\n",
       "  /* fitted */\n",
       "  background-color: var(--sklearn-color-fitted-level-0);\n",
       "}\n",
       "\n",
       "#sk-container-id-1 div.sk-toggleable__content pre {\n",
       "  margin: 0.2em;\n",
       "  border-radius: 0.25em;\n",
       "  color: var(--sklearn-color-text);\n",
       "  /* unfitted */\n",
       "  background-color: var(--sklearn-color-unfitted-level-0);\n",
       "}\n",
       "\n",
       "#sk-container-id-1 div.sk-toggleable__content.fitted pre {\n",
       "  /* unfitted */\n",
       "  background-color: var(--sklearn-color-fitted-level-0);\n",
       "}\n",
       "\n",
       "#sk-container-id-1 input.sk-toggleable__control:checked~div.sk-toggleable__content {\n",
       "  /* Expand drop-down */\n",
       "  display: block;\n",
       "  width: 100%;\n",
       "  overflow: visible;\n",
       "}\n",
       "\n",
       "#sk-container-id-1 input.sk-toggleable__control:checked~label.sk-toggleable__label-arrow:before {\n",
       "  content: \"▾\";\n",
       "}\n",
       "\n",
       "/* Pipeline/ColumnTransformer-specific style */\n",
       "\n",
       "#sk-container-id-1 div.sk-label input.sk-toggleable__control:checked~label.sk-toggleable__label {\n",
       "  color: var(--sklearn-color-text);\n",
       "  background-color: var(--sklearn-color-unfitted-level-2);\n",
       "}\n",
       "\n",
       "#sk-container-id-1 div.sk-label.fitted input.sk-toggleable__control:checked~label.sk-toggleable__label {\n",
       "  background-color: var(--sklearn-color-fitted-level-2);\n",
       "}\n",
       "\n",
       "/* Estimator-specific style */\n",
       "\n",
       "/* Colorize estimator box */\n",
       "#sk-container-id-1 div.sk-estimator input.sk-toggleable__control:checked~label.sk-toggleable__label {\n",
       "  /* unfitted */\n",
       "  background-color: var(--sklearn-color-unfitted-level-2);\n",
       "}\n",
       "\n",
       "#sk-container-id-1 div.sk-estimator.fitted input.sk-toggleable__control:checked~label.sk-toggleable__label {\n",
       "  /* fitted */\n",
       "  background-color: var(--sklearn-color-fitted-level-2);\n",
       "}\n",
       "\n",
       "#sk-container-id-1 div.sk-label label.sk-toggleable__label,\n",
       "#sk-container-id-1 div.sk-label label {\n",
       "  /* The background is the default theme color */\n",
       "  color: var(--sklearn-color-text-on-default-background);\n",
       "}\n",
       "\n",
       "/* On hover, darken the color of the background */\n",
       "#sk-container-id-1 div.sk-label:hover label.sk-toggleable__label {\n",
       "  color: var(--sklearn-color-text);\n",
       "  background-color: var(--sklearn-color-unfitted-level-2);\n",
       "}\n",
       "\n",
       "/* Label box, darken color on hover, fitted */\n",
       "#sk-container-id-1 div.sk-label.fitted:hover label.sk-toggleable__label.fitted {\n",
       "  color: var(--sklearn-color-text);\n",
       "  background-color: var(--sklearn-color-fitted-level-2);\n",
       "}\n",
       "\n",
       "/* Estimator label */\n",
       "\n",
       "#sk-container-id-1 div.sk-label label {\n",
       "  font-family: monospace;\n",
       "  font-weight: bold;\n",
       "  display: inline-block;\n",
       "  line-height: 1.2em;\n",
       "}\n",
       "\n",
       "#sk-container-id-1 div.sk-label-container {\n",
       "  text-align: center;\n",
       "}\n",
       "\n",
       "/* Estimator-specific */\n",
       "#sk-container-id-1 div.sk-estimator {\n",
       "  font-family: monospace;\n",
       "  border: 1px dotted var(--sklearn-color-border-box);\n",
       "  border-radius: 0.25em;\n",
       "  box-sizing: border-box;\n",
       "  margin-bottom: 0.5em;\n",
       "  /* unfitted */\n",
       "  background-color: var(--sklearn-color-unfitted-level-0);\n",
       "}\n",
       "\n",
       "#sk-container-id-1 div.sk-estimator.fitted {\n",
       "  /* fitted */\n",
       "  background-color: var(--sklearn-color-fitted-level-0);\n",
       "}\n",
       "\n",
       "/* on hover */\n",
       "#sk-container-id-1 div.sk-estimator:hover {\n",
       "  /* unfitted */\n",
       "  background-color: var(--sklearn-color-unfitted-level-2);\n",
       "}\n",
       "\n",
       "#sk-container-id-1 div.sk-estimator.fitted:hover {\n",
       "  /* fitted */\n",
       "  background-color: var(--sklearn-color-fitted-level-2);\n",
       "}\n",
       "\n",
       "/* Specification for estimator info (e.g. \"i\" and \"?\") */\n",
       "\n",
       "/* Common style for \"i\" and \"?\" */\n",
       "\n",
       ".sk-estimator-doc-link,\n",
       "a:link.sk-estimator-doc-link,\n",
       "a:visited.sk-estimator-doc-link {\n",
       "  float: right;\n",
       "  font-size: smaller;\n",
       "  line-height: 1em;\n",
       "  font-family: monospace;\n",
       "  background-color: var(--sklearn-color-background);\n",
       "  border-radius: 1em;\n",
       "  height: 1em;\n",
       "  width: 1em;\n",
       "  text-decoration: none !important;\n",
       "  margin-left: 0.5em;\n",
       "  text-align: center;\n",
       "  /* unfitted */\n",
       "  border: var(--sklearn-color-unfitted-level-1) 1pt solid;\n",
       "  color: var(--sklearn-color-unfitted-level-1);\n",
       "}\n",
       "\n",
       ".sk-estimator-doc-link.fitted,\n",
       "a:link.sk-estimator-doc-link.fitted,\n",
       "a:visited.sk-estimator-doc-link.fitted {\n",
       "  /* fitted */\n",
       "  border: var(--sklearn-color-fitted-level-1) 1pt solid;\n",
       "  color: var(--sklearn-color-fitted-level-1);\n",
       "}\n",
       "\n",
       "/* On hover */\n",
       "div.sk-estimator:hover .sk-estimator-doc-link:hover,\n",
       ".sk-estimator-doc-link:hover,\n",
       "div.sk-label-container:hover .sk-estimator-doc-link:hover,\n",
       ".sk-estimator-doc-link:hover {\n",
       "  /* unfitted */\n",
       "  background-color: var(--sklearn-color-unfitted-level-3);\n",
       "  color: var(--sklearn-color-background);\n",
       "  text-decoration: none;\n",
       "}\n",
       "\n",
       "div.sk-estimator.fitted:hover .sk-estimator-doc-link.fitted:hover,\n",
       ".sk-estimator-doc-link.fitted:hover,\n",
       "div.sk-label-container:hover .sk-estimator-doc-link.fitted:hover,\n",
       ".sk-estimator-doc-link.fitted:hover {\n",
       "  /* fitted */\n",
       "  background-color: var(--sklearn-color-fitted-level-3);\n",
       "  color: var(--sklearn-color-background);\n",
       "  text-decoration: none;\n",
       "}\n",
       "\n",
       "/* Span, style for the box shown on hovering the info icon */\n",
       ".sk-estimator-doc-link span {\n",
       "  display: none;\n",
       "  z-index: 9999;\n",
       "  position: relative;\n",
       "  font-weight: normal;\n",
       "  right: .2ex;\n",
       "  padding: .5ex;\n",
       "  margin: .5ex;\n",
       "  width: min-content;\n",
       "  min-width: 20ex;\n",
       "  max-width: 50ex;\n",
       "  color: var(--sklearn-color-text);\n",
       "  box-shadow: 2pt 2pt 4pt #999;\n",
       "  /* unfitted */\n",
       "  background: var(--sklearn-color-unfitted-level-0);\n",
       "  border: .5pt solid var(--sklearn-color-unfitted-level-3);\n",
       "}\n",
       "\n",
       ".sk-estimator-doc-link.fitted span {\n",
       "  /* fitted */\n",
       "  background: var(--sklearn-color-fitted-level-0);\n",
       "  border: var(--sklearn-color-fitted-level-3);\n",
       "}\n",
       "\n",
       ".sk-estimator-doc-link:hover span {\n",
       "  display: block;\n",
       "}\n",
       "\n",
       "/* \"?\"-specific style due to the `<a>` HTML tag */\n",
       "\n",
       "#sk-container-id-1 a.estimator_doc_link {\n",
       "  float: right;\n",
       "  font-size: 1rem;\n",
       "  line-height: 1em;\n",
       "  font-family: monospace;\n",
       "  background-color: var(--sklearn-color-background);\n",
       "  border-radius: 1rem;\n",
       "  height: 1rem;\n",
       "  width: 1rem;\n",
       "  text-decoration: none;\n",
       "  /* unfitted */\n",
       "  color: var(--sklearn-color-unfitted-level-1);\n",
       "  border: var(--sklearn-color-unfitted-level-1) 1pt solid;\n",
       "}\n",
       "\n",
       "#sk-container-id-1 a.estimator_doc_link.fitted {\n",
       "  /* fitted */\n",
       "  border: var(--sklearn-color-fitted-level-1) 1pt solid;\n",
       "  color: var(--sklearn-color-fitted-level-1);\n",
       "}\n",
       "\n",
       "/* On hover */\n",
       "#sk-container-id-1 a.estimator_doc_link:hover {\n",
       "  /* unfitted */\n",
       "  background-color: var(--sklearn-color-unfitted-level-3);\n",
       "  color: var(--sklearn-color-background);\n",
       "  text-decoration: none;\n",
       "}\n",
       "\n",
       "#sk-container-id-1 a.estimator_doc_link.fitted:hover {\n",
       "  /* fitted */\n",
       "  background-color: var(--sklearn-color-fitted-level-3);\n",
       "}\n",
       "\n",
       ".estimator-table summary {\n",
       "    padding: .5rem;\n",
       "    font-family: monospace;\n",
       "    cursor: pointer;\n",
       "}\n",
       "\n",
       ".estimator-table details[open] {\n",
       "    padding-left: 0.1rem;\n",
       "    padding-right: 0.1rem;\n",
       "    padding-bottom: 0.3rem;\n",
       "}\n",
       "\n",
       ".estimator-table .parameters-table {\n",
       "    margin-left: auto !important;\n",
       "    margin-right: auto !important;\n",
       "}\n",
       "\n",
       ".estimator-table .parameters-table tr:nth-child(odd) {\n",
       "    background-color: #fff;\n",
       "}\n",
       "\n",
       ".estimator-table .parameters-table tr:nth-child(even) {\n",
       "    background-color: #f6f6f6;\n",
       "}\n",
       "\n",
       ".estimator-table .parameters-table tr:hover {\n",
       "    background-color: #e0e0e0;\n",
       "}\n",
       "\n",
       ".estimator-table table td {\n",
       "    border: 1px solid rgba(106, 105, 104, 0.232);\n",
       "}\n",
       "\n",
       ".user-set td {\n",
       "    color:rgb(255, 94, 0);\n",
       "    text-align: left;\n",
       "}\n",
       "\n",
       ".user-set td.value pre {\n",
       "    color:rgb(255, 94, 0) !important;\n",
       "    background-color: transparent !important;\n",
       "}\n",
       "\n",
       ".default td {\n",
       "    color: black;\n",
       "    text-align: left;\n",
       "}\n",
       "\n",
       ".user-set td i,\n",
       ".default td i {\n",
       "    color: black;\n",
       "}\n",
       "\n",
       ".copy-paste-icon {\n",
       "    background-image: url(data:image/svg+xml;base64,PHN2ZyB4bWxucz0iaHR0cDovL3d3dy53My5vcmcvMjAwMC9zdmciIHZpZXdCb3g9IjAgMCA0NDggNTEyIj48IS0tIUZvbnQgQXdlc29tZSBGcmVlIDYuNy4yIGJ5IEBmb250YXdlc29tZSAtIGh0dHBzOi8vZm9udGF3ZXNvbWUuY29tIExpY2Vuc2UgLSBodHRwczovL2ZvbnRhd2Vzb21lLmNvbS9saWNlbnNlL2ZyZWUgQ29weXJpZ2h0IDIwMjUgRm9udGljb25zLCBJbmMuLS0+PHBhdGggZD0iTTIwOCAwTDMzMi4xIDBjMTIuNyAwIDI0LjkgNS4xIDMzLjkgMTQuMWw2Ny45IDY3LjljOSA5IDE0LjEgMjEuMiAxNC4xIDMzLjlMNDQ4IDMzNmMwIDI2LjUtMjEuNSA0OC00OCA0OGwtMTkyIDBjLTI2LjUgMC00OC0yMS41LTQ4LTQ4bDAtMjg4YzAtMjYuNSAyMS41LTQ4IDQ4LTQ4ek00OCAxMjhsODAgMCAwIDY0LTY0IDAgMCAyNTYgMTkyIDAgMC0zMiA2NCAwIDAgNDhjMCAyNi41LTIxLjUgNDgtNDggNDhMNDggNTEyYy0yNi41IDAtNDgtMjEuNS00OC00OEwwIDE3NmMwLTI2LjUgMjEuNS00OCA0OC00OHoiLz48L3N2Zz4=);\n",
       "    background-repeat: no-repeat;\n",
       "    background-size: 14px 14px;\n",
       "    background-position: 0;\n",
       "    display: inline-block;\n",
       "    width: 14px;\n",
       "    height: 14px;\n",
       "    cursor: pointer;\n",
       "}\n",
       "</style><body><div id=\"sk-container-id-1\" class=\"sk-top-container\"><div class=\"sk-text-repr-fallback\"><pre>RandomForestClassifier(random_state=123)</pre><b>In a Jupyter environment, please rerun this cell to show the HTML representation or trust the notebook. <br />On GitHub, the HTML representation is unable to render, please try loading this page with nbviewer.org.</b></div><div class=\"sk-container\" hidden><div class=\"sk-item\"><div class=\"sk-estimator fitted sk-toggleable\"><input class=\"sk-toggleable__control sk-hidden--visually\" id=\"sk-estimator-id-1\" type=\"checkbox\" checked><label for=\"sk-estimator-id-1\" class=\"sk-toggleable__label fitted sk-toggleable__label-arrow\"><div><div>RandomForestClassifier</div></div><div><a class=\"sk-estimator-doc-link fitted\" rel=\"noreferrer\" target=\"_blank\" href=\"https://scikit-learn.org/1.7/modules/generated/sklearn.ensemble.RandomForestClassifier.html\">?<span>Documentation for RandomForestClassifier</span></a><span class=\"sk-estimator-doc-link fitted\">i<span>Fitted</span></span></div></label><div class=\"sk-toggleable__content fitted\" data-param-prefix=\"\">\n",
       "        <div class=\"estimator-table\">\n",
       "            <details>\n",
       "                <summary>Parameters</summary>\n",
       "                <table class=\"parameters-table\">\n",
       "                  <tbody>\n",
       "                    \n",
       "        <tr class=\"default\">\n",
       "            <td><i class=\"copy-paste-icon\"\n",
       "                 onclick=\"copyToClipboard('n_estimators',\n",
       "                          this.parentElement.nextElementSibling)\"\n",
       "            ></i></td>\n",
       "            <td class=\"param\">n_estimators&nbsp;</td>\n",
       "            <td class=\"value\">100</td>\n",
       "        </tr>\n",
       "    \n",
       "\n",
       "        <tr class=\"default\">\n",
       "            <td><i class=\"copy-paste-icon\"\n",
       "                 onclick=\"copyToClipboard('criterion',\n",
       "                          this.parentElement.nextElementSibling)\"\n",
       "            ></i></td>\n",
       "            <td class=\"param\">criterion&nbsp;</td>\n",
       "            <td class=\"value\">&#x27;gini&#x27;</td>\n",
       "        </tr>\n",
       "    \n",
       "\n",
       "        <tr class=\"default\">\n",
       "            <td><i class=\"copy-paste-icon\"\n",
       "                 onclick=\"copyToClipboard('max_depth',\n",
       "                          this.parentElement.nextElementSibling)\"\n",
       "            ></i></td>\n",
       "            <td class=\"param\">max_depth&nbsp;</td>\n",
       "            <td class=\"value\">None</td>\n",
       "        </tr>\n",
       "    \n",
       "\n",
       "        <tr class=\"default\">\n",
       "            <td><i class=\"copy-paste-icon\"\n",
       "                 onclick=\"copyToClipboard('min_samples_split',\n",
       "                          this.parentElement.nextElementSibling)\"\n",
       "            ></i></td>\n",
       "            <td class=\"param\">min_samples_split&nbsp;</td>\n",
       "            <td class=\"value\">2</td>\n",
       "        </tr>\n",
       "    \n",
       "\n",
       "        <tr class=\"default\">\n",
       "            <td><i class=\"copy-paste-icon\"\n",
       "                 onclick=\"copyToClipboard('min_samples_leaf',\n",
       "                          this.parentElement.nextElementSibling)\"\n",
       "            ></i></td>\n",
       "            <td class=\"param\">min_samples_leaf&nbsp;</td>\n",
       "            <td class=\"value\">1</td>\n",
       "        </tr>\n",
       "    \n",
       "\n",
       "        <tr class=\"default\">\n",
       "            <td><i class=\"copy-paste-icon\"\n",
       "                 onclick=\"copyToClipboard('min_weight_fraction_leaf',\n",
       "                          this.parentElement.nextElementSibling)\"\n",
       "            ></i></td>\n",
       "            <td class=\"param\">min_weight_fraction_leaf&nbsp;</td>\n",
       "            <td class=\"value\">0.0</td>\n",
       "        </tr>\n",
       "    \n",
       "\n",
       "        <tr class=\"default\">\n",
       "            <td><i class=\"copy-paste-icon\"\n",
       "                 onclick=\"copyToClipboard('max_features',\n",
       "                          this.parentElement.nextElementSibling)\"\n",
       "            ></i></td>\n",
       "            <td class=\"param\">max_features&nbsp;</td>\n",
       "            <td class=\"value\">&#x27;sqrt&#x27;</td>\n",
       "        </tr>\n",
       "    \n",
       "\n",
       "        <tr class=\"default\">\n",
       "            <td><i class=\"copy-paste-icon\"\n",
       "                 onclick=\"copyToClipboard('max_leaf_nodes',\n",
       "                          this.parentElement.nextElementSibling)\"\n",
       "            ></i></td>\n",
       "            <td class=\"param\">max_leaf_nodes&nbsp;</td>\n",
       "            <td class=\"value\">None</td>\n",
       "        </tr>\n",
       "    \n",
       "\n",
       "        <tr class=\"default\">\n",
       "            <td><i class=\"copy-paste-icon\"\n",
       "                 onclick=\"copyToClipboard('min_impurity_decrease',\n",
       "                          this.parentElement.nextElementSibling)\"\n",
       "            ></i></td>\n",
       "            <td class=\"param\">min_impurity_decrease&nbsp;</td>\n",
       "            <td class=\"value\">0.0</td>\n",
       "        </tr>\n",
       "    \n",
       "\n",
       "        <tr class=\"default\">\n",
       "            <td><i class=\"copy-paste-icon\"\n",
       "                 onclick=\"copyToClipboard('bootstrap',\n",
       "                          this.parentElement.nextElementSibling)\"\n",
       "            ></i></td>\n",
       "            <td class=\"param\">bootstrap&nbsp;</td>\n",
       "            <td class=\"value\">True</td>\n",
       "        </tr>\n",
       "    \n",
       "\n",
       "        <tr class=\"default\">\n",
       "            <td><i class=\"copy-paste-icon\"\n",
       "                 onclick=\"copyToClipboard('oob_score',\n",
       "                          this.parentElement.nextElementSibling)\"\n",
       "            ></i></td>\n",
       "            <td class=\"param\">oob_score&nbsp;</td>\n",
       "            <td class=\"value\">False</td>\n",
       "        </tr>\n",
       "    \n",
       "\n",
       "        <tr class=\"default\">\n",
       "            <td><i class=\"copy-paste-icon\"\n",
       "                 onclick=\"copyToClipboard('n_jobs',\n",
       "                          this.parentElement.nextElementSibling)\"\n",
       "            ></i></td>\n",
       "            <td class=\"param\">n_jobs&nbsp;</td>\n",
       "            <td class=\"value\">None</td>\n",
       "        </tr>\n",
       "    \n",
       "\n",
       "        <tr class=\"user-set\">\n",
       "            <td><i class=\"copy-paste-icon\"\n",
       "                 onclick=\"copyToClipboard('random_state',\n",
       "                          this.parentElement.nextElementSibling)\"\n",
       "            ></i></td>\n",
       "            <td class=\"param\">random_state&nbsp;</td>\n",
       "            <td class=\"value\">123</td>\n",
       "        </tr>\n",
       "    \n",
       "\n",
       "        <tr class=\"default\">\n",
       "            <td><i class=\"copy-paste-icon\"\n",
       "                 onclick=\"copyToClipboard('verbose',\n",
       "                          this.parentElement.nextElementSibling)\"\n",
       "            ></i></td>\n",
       "            <td class=\"param\">verbose&nbsp;</td>\n",
       "            <td class=\"value\">0</td>\n",
       "        </tr>\n",
       "    \n",
       "\n",
       "        <tr class=\"default\">\n",
       "            <td><i class=\"copy-paste-icon\"\n",
       "                 onclick=\"copyToClipboard('warm_start',\n",
       "                          this.parentElement.nextElementSibling)\"\n",
       "            ></i></td>\n",
       "            <td class=\"param\">warm_start&nbsp;</td>\n",
       "            <td class=\"value\">False</td>\n",
       "        </tr>\n",
       "    \n",
       "\n",
       "        <tr class=\"default\">\n",
       "            <td><i class=\"copy-paste-icon\"\n",
       "                 onclick=\"copyToClipboard('class_weight',\n",
       "                          this.parentElement.nextElementSibling)\"\n",
       "            ></i></td>\n",
       "            <td class=\"param\">class_weight&nbsp;</td>\n",
       "            <td class=\"value\">None</td>\n",
       "        </tr>\n",
       "    \n",
       "\n",
       "        <tr class=\"default\">\n",
       "            <td><i class=\"copy-paste-icon\"\n",
       "                 onclick=\"copyToClipboard('ccp_alpha',\n",
       "                          this.parentElement.nextElementSibling)\"\n",
       "            ></i></td>\n",
       "            <td class=\"param\">ccp_alpha&nbsp;</td>\n",
       "            <td class=\"value\">0.0</td>\n",
       "        </tr>\n",
       "    \n",
       "\n",
       "        <tr class=\"default\">\n",
       "            <td><i class=\"copy-paste-icon\"\n",
       "                 onclick=\"copyToClipboard('max_samples',\n",
       "                          this.parentElement.nextElementSibling)\"\n",
       "            ></i></td>\n",
       "            <td class=\"param\">max_samples&nbsp;</td>\n",
       "            <td class=\"value\">None</td>\n",
       "        </tr>\n",
       "    \n",
       "\n",
       "        <tr class=\"default\">\n",
       "            <td><i class=\"copy-paste-icon\"\n",
       "                 onclick=\"copyToClipboard('monotonic_cst',\n",
       "                          this.parentElement.nextElementSibling)\"\n",
       "            ></i></td>\n",
       "            <td class=\"param\">monotonic_cst&nbsp;</td>\n",
       "            <td class=\"value\">None</td>\n",
       "        </tr>\n",
       "    \n",
       "                  </tbody>\n",
       "                </table>\n",
       "            </details>\n",
       "        </div>\n",
       "    </div></div></div></div></div><script>function copyToClipboard(text, element) {\n",
       "    // Get the parameter prefix from the closest toggleable content\n",
       "    const toggleableContent = element.closest('.sk-toggleable__content');\n",
       "    const paramPrefix = toggleableContent ? toggleableContent.dataset.paramPrefix : '';\n",
       "    const fullParamName = paramPrefix ? `${paramPrefix}${text}` : text;\n",
       "\n",
       "    const originalStyle = element.style;\n",
       "    const computedStyle = window.getComputedStyle(element);\n",
       "    const originalWidth = computedStyle.width;\n",
       "    const originalHTML = element.innerHTML.replace('Copied!', '');\n",
       "\n",
       "    navigator.clipboard.writeText(fullParamName)\n",
       "        .then(() => {\n",
       "            element.style.width = originalWidth;\n",
       "            element.style.color = 'green';\n",
       "            element.innerHTML = \"Copied!\";\n",
       "\n",
       "            setTimeout(() => {\n",
       "                element.innerHTML = originalHTML;\n",
       "                element.style = originalStyle;\n",
       "            }, 2000);\n",
       "        })\n",
       "        .catch(err => {\n",
       "            console.error('Failed to copy:', err);\n",
       "            element.style.color = 'red';\n",
       "            element.innerHTML = \"Failed!\";\n",
       "            setTimeout(() => {\n",
       "                element.innerHTML = originalHTML;\n",
       "                element.style = originalStyle;\n",
       "            }, 2000);\n",
       "        });\n",
       "    return false;\n",
       "}\n",
       "\n",
       "document.querySelectorAll('.fa-regular.fa-copy').forEach(function(element) {\n",
       "    const toggleableContent = element.closest('.sk-toggleable__content');\n",
       "    const paramPrefix = toggleableContent ? toggleableContent.dataset.paramPrefix : '';\n",
       "    const paramName = element.parentElement.nextElementSibling.textContent.trim();\n",
       "    const fullParamName = paramPrefix ? `${paramPrefix}${paramName}` : paramName;\n",
       "\n",
       "    element.setAttribute('title', fullParamName);\n",
       "});\n",
       "</script></body>"
      ],
      "text/plain": [
       "RandomForestClassifier(random_state=123)"
      ]
     },
     "execution_count": 9,
     "metadata": {},
     "output_type": "execute_result"
    }
   ],
   "source": [
    "le = LabelEncoder()\n",
    "x_train = attrs_agg_correct_cols.drop(columns=[\"dataset\", \"model\", \"attack\", \"attack_binary\"])\n",
    "y_train = attrs_agg_correct_cols[\"attack_binary\"]\n",
    "y_train_enc = le.fit_transform(y_train)\n",
    "model = RandomForestClassifier(random_state=123)\n",
    "model.fit(x_train, y_train_enc)"
   ]
  },
  {
   "cell_type": "code",
   "execution_count": 10,
   "metadata": {},
   "outputs": [],
   "source": [
    "fi_dict = {'var': x_train.columns, 'fi': model.feature_importances_}\n",
    "fi_df = pd.DataFrame(fi_dict)\n",
    "fi_df[\"fi_rank\"] = fi_df[\"fi\"].rank(ascending=False)"
   ]
  },
  {
   "cell_type": "code",
   "execution_count": 11,
   "metadata": {},
   "outputs": [],
   "source": [
    "attrs_agg_correct_cols.to_csv(\"results/attr_attacks_binary_agr_nn_bacc.csv\", index=False)"
   ]
  },
  {
   "cell_type": "code",
   "execution_count": 12,
   "metadata": {},
   "outputs": [],
   "source": [
    "def create_hyperparams_grid(model, param_grid, exp_function, crit=\"kappa\"):\n",
    "\n",
    "    quality_measure = []\n",
    "    params_list = []\n",
    "    results_table = []\n",
    "    results_fi = []\n",
    "\n",
    "    for param1 in param_grid[list(param_grid.keys())[0]]:\n",
    "        for param2 in param_grid[list(param_grid.keys())[1]]:\n",
    "            for param3 in param_grid[list(param_grid.keys())[2]]:\n",
    "                params = {list(param_grid.keys())[0]: param1,\n",
    "                          list(param_grid.keys())[1]: param2,\n",
    "                          list(param_grid.keys())[2]: param3}\n",
    "\n",
    "                model.set_params(**params)\n",
    "                summary, fi = exp_function(model=model)\n",
    "                results_table.append(summary)\n",
    "                results_fi.append(fi)\n",
    "                params_list.append(params)\n",
    "                crit_value = np.mean(summary[\"kappa\"])\n",
    "                quality_measure.append(crit_value)\n",
    "                print(f\"{crit} = {crit_value}, params: {params}\")\n",
    "\n",
    "    best_params_idx = np.argmax(quality_measure)\n",
    "    best_params = params_list[best_params_idx]\n",
    "\n",
    "    print(f\"Params: {best_params} give best {crit} equal {quality_measure[best_params_idx]}\")\n",
    "\n",
    "    return results_table[best_params_idx], results_fi[best_params_idx]"
   ]
  },
  {
   "cell_type": "markdown",
   "metadata": {},
   "source": [
    "# Leave-one-data-set-out"
   ]
  },
  {
   "cell_type": "code",
   "execution_count": 13,
   "metadata": {},
   "outputs": [],
   "source": [
    "def leave_dataset_out(model=xgb.XGBClassifier(random_state=123)):\n",
    "\n",
    "    datasets = np.unique(attrs_agg_correct_cols[\"dataset\"])\n",
    "    kappa_list = []\n",
    "    bacc_list = []\n",
    "    precision_list = []\n",
    "    recall_list = []\n",
    "    f1_list = []\n",
    "    fnr_list = []\n",
    "    fi_all = pd.DataFrame()\n",
    "\n",
    "    for dataset in tqdm(datasets):\n",
    "\n",
    "        train = attrs_agg_correct_cols[attrs_agg_correct_cols[\"dataset\"] != dataset]\n",
    "        test = attrs_agg_correct_cols[attrs_agg_correct_cols[\"dataset\"] == dataset]\n",
    "\n",
    "        x_train = train.drop(columns=[\"dataset\", \"model\", \"attack\", \"attack_binary\"])\n",
    "        y_train = train[\"attack_binary\"]\n",
    "\n",
    "        x_test = test.drop(columns=[\"dataset\", \"model\", \"attack\", \"attack_binary\"])\n",
    "        y_test = test[\"attack_binary\"]\n",
    "\n",
    "        le = LabelEncoder()\n",
    "        y_train_enc = le.fit_transform(y_train)\n",
    "        y_test_enc = le.transform(y_test)\n",
    "\n",
    "        model.fit(x_train, y_train_enc)\n",
    "\n",
    "        fi_dict = {'var': x_train.columns, 'fi': model.feature_importances_}\n",
    "        fi_df = pd.DataFrame(fi_dict)\n",
    "        fi_df[\"fi_rank\"] = fi_df[\"fi\"].rank(ascending=False)\n",
    "        fi_df[\"dataset\"] = dataset\n",
    "        fi_all = pd.concat([fi_all, fi_df])\n",
    "\n",
    "        preds = model.predict(x_test)\n",
    "        bacc_list.append(balanced_accuracy_score(y_test_enc, preds))\n",
    "        kappa_list.append(cohen_kappa_score(y_test_enc, preds))\n",
    "        precision_list.append(precision_score(y_test_enc, preds))\n",
    "        recall_list.append(recall_score(y_test_enc, preds))\n",
    "        f1_list.append(f1_score(y_test_enc, preds))\n",
    "        fnr_list.append(false_negative_rate(y_test_enc, preds))\n",
    "\n",
    "    results_dict = {'dataset': datasets, 'bacc': bacc_list, 'kappa': kappa_list, 'precision': precision_list,\n",
    "                    'recall': recall_list, 'f1': f1_list, 'fnr': fnr_list}\n",
    "    results_df = pd.DataFrame(results_dict)\n",
    "    return results_df, fi_all"
   ]
  },
  {
   "cell_type": "markdown",
   "metadata": {},
   "source": [
    "## XGBoost"
   ]
  },
  {
   "cell_type": "markdown",
   "metadata": {},
   "source": [
    "### Default parameters"
   ]
  },
  {
   "cell_type": "code",
   "execution_count": 14,
   "metadata": {},
   "outputs": [
    {
     "name": "stderr",
     "output_type": "stream",
     "text": [
      "100%|██████████| 22/22 [00:08<00:00,  2.74it/s]\n"
     ]
    },
    {
     "data": {
      "application/vnd.microsoft.datawrangler.viewer.v0+json": {
       "columns": [
        {
         "name": "index",
         "rawType": "int64",
         "type": "integer"
        },
        {
         "name": "dataset",
         "rawType": "object",
         "type": "string"
        },
        {
         "name": "bacc",
         "rawType": "float64",
         "type": "float"
        },
        {
         "name": "kappa",
         "rawType": "float64",
         "type": "float"
        },
        {
         "name": "precision",
         "rawType": "float64",
         "type": "float"
        },
        {
         "name": "recall",
         "rawType": "float64",
         "type": "float"
        },
        {
         "name": "f1",
         "rawType": "float64",
         "type": "float"
        },
        {
         "name": "fnr",
         "rawType": "float64",
         "type": "float"
        }
       ],
       "ref": "986f1307-48ec-4260-9680-132da600656b",
       "rows": [
        [
         "0",
         "Bioresponse",
         "0.9615384615384616",
         "0.8495575221238938",
         "1.0",
         "0.9230769230769231",
         "0.96",
         "0.07692307692307693"
        ],
        [
         "1",
         "churn",
         "1.0",
         "1.0",
         "1.0",
         "1.0",
         "1.0",
         "0.0"
        ],
        [
         "2",
         "cmc",
         "1.0",
         "1.0",
         "1.0",
         "1.0",
         "1.0",
         "0.0"
        ],
        [
         "3",
         "cnae-9",
         "0.625",
         "0.33766233766233766",
         "0.8125",
         "1.0",
         "0.896551724137931",
         "0.0"
        ],
        [
         "4",
         "dna",
         "0.9615384615384616",
         "0.8495575221238938",
         "1.0",
         "0.9230769230769231",
         "0.96",
         "0.07692307692307693"
        ],
        [
         "5",
         "har",
         "0.8846153846153846",
         "0.6106870229007633",
         "1.0",
         "0.7692307692307693",
         "0.8695652173913043",
         "0.23076923076923078"
        ],
        [
         "6",
         "madelon",
         "0.5",
         "0.0",
         "0.75",
         "1.0",
         "0.8571428571428571",
         "0.0"
        ],
        [
         "7",
         "mfeat-factors",
         "1.0",
         "1.0",
         "1.0",
         "1.0",
         "1.0",
         "0.0"
        ],
        [
         "8",
         "mfeat-fourier",
         "1.0",
         "1.0",
         "1.0",
         "1.0",
         "1.0",
         "0.0"
        ],
        [
         "9",
         "mfeat-karhunen",
         "1.0",
         "1.0",
         "1.0",
         "1.0",
         "1.0",
         "0.0"
        ],
        [
         "10",
         "mfeat-zernike",
         "1.0",
         "1.0",
         "1.0",
         "1.0",
         "1.0",
         "0.0"
        ],
        [
         "11",
         "nomao",
         "1.0",
         "1.0",
         "1.0",
         "1.0",
         "1.0",
         "0.0"
        ],
        [
         "12",
         "optdigits",
         "1.0",
         "1.0",
         "1.0",
         "1.0",
         "1.0",
         "0.0"
        ],
        [
         "13",
         "pendigits",
         "1.0",
         "1.0",
         "1.0",
         "1.0",
         "1.0",
         "0.0"
        ],
        [
         "14",
         "phoneme",
         "0.625",
         "0.33766233766233766",
         "0.8125",
         "1.0",
         "0.896551724137931",
         "0.0"
        ],
        [
         "15",
         "qsar-biodeg",
         "1.0",
         "1.0",
         "1.0",
         "1.0",
         "1.0",
         "0.0"
        ],
        [
         "16",
         "satimage",
         "1.0",
         "1.0",
         "1.0",
         "1.0",
         "1.0",
         "0.0"
        ],
        [
         "17",
         "semeion",
         "0.8461538461538461",
         "0.5142857142857142",
         "1.0",
         "0.6923076923076923",
         "0.8181818181818182",
         "0.3076923076923077"
        ],
        [
         "18",
         "spambase",
         "1.0",
         "1.0",
         "1.0",
         "1.0",
         "1.0",
         "0.0"
        ],
        [
         "19",
         "wall-robot-navigation",
         "1.0",
         "1.0",
         "1.0",
         "1.0",
         "1.0",
         "0.0"
        ],
        [
         "20",
         "wdbc",
         "0.9615384615384616",
         "0.8495575221238938",
         "1.0",
         "0.9230769230769231",
         "0.96",
         "0.07692307692307693"
        ],
        [
         "21",
         "wilt",
         "0.625",
         "0.33766233766233766",
         "0.8125",
         "1.0",
         "0.896551724137931",
         "0.0"
        ]
       ],
       "shape": {
        "columns": 7,
        "rows": 22
       }
      },
      "text/html": [
       "<div>\n",
       "<style scoped>\n",
       "    .dataframe tbody tr th:only-of-type {\n",
       "        vertical-align: middle;\n",
       "    }\n",
       "\n",
       "    .dataframe tbody tr th {\n",
       "        vertical-align: top;\n",
       "    }\n",
       "\n",
       "    .dataframe thead th {\n",
       "        text-align: right;\n",
       "    }\n",
       "</style>\n",
       "<table border=\"1\" class=\"dataframe\">\n",
       "  <thead>\n",
       "    <tr style=\"text-align: right;\">\n",
       "      <th></th>\n",
       "      <th>dataset</th>\n",
       "      <th>bacc</th>\n",
       "      <th>kappa</th>\n",
       "      <th>precision</th>\n",
       "      <th>recall</th>\n",
       "      <th>f1</th>\n",
       "      <th>fnr</th>\n",
       "    </tr>\n",
       "  </thead>\n",
       "  <tbody>\n",
       "    <tr>\n",
       "      <th>0</th>\n",
       "      <td>Bioresponse</td>\n",
       "      <td>0.961538</td>\n",
       "      <td>0.849558</td>\n",
       "      <td>1.0000</td>\n",
       "      <td>0.923077</td>\n",
       "      <td>0.960000</td>\n",
       "      <td>0.076923</td>\n",
       "    </tr>\n",
       "    <tr>\n",
       "      <th>1</th>\n",
       "      <td>churn</td>\n",
       "      <td>1.000000</td>\n",
       "      <td>1.000000</td>\n",
       "      <td>1.0000</td>\n",
       "      <td>1.000000</td>\n",
       "      <td>1.000000</td>\n",
       "      <td>0.000000</td>\n",
       "    </tr>\n",
       "    <tr>\n",
       "      <th>2</th>\n",
       "      <td>cmc</td>\n",
       "      <td>1.000000</td>\n",
       "      <td>1.000000</td>\n",
       "      <td>1.0000</td>\n",
       "      <td>1.000000</td>\n",
       "      <td>1.000000</td>\n",
       "      <td>0.000000</td>\n",
       "    </tr>\n",
       "    <tr>\n",
       "      <th>3</th>\n",
       "      <td>cnae-9</td>\n",
       "      <td>0.625000</td>\n",
       "      <td>0.337662</td>\n",
       "      <td>0.8125</td>\n",
       "      <td>1.000000</td>\n",
       "      <td>0.896552</td>\n",
       "      <td>0.000000</td>\n",
       "    </tr>\n",
       "    <tr>\n",
       "      <th>4</th>\n",
       "      <td>dna</td>\n",
       "      <td>0.961538</td>\n",
       "      <td>0.849558</td>\n",
       "      <td>1.0000</td>\n",
       "      <td>0.923077</td>\n",
       "      <td>0.960000</td>\n",
       "      <td>0.076923</td>\n",
       "    </tr>\n",
       "    <tr>\n",
       "      <th>5</th>\n",
       "      <td>har</td>\n",
       "      <td>0.884615</td>\n",
       "      <td>0.610687</td>\n",
       "      <td>1.0000</td>\n",
       "      <td>0.769231</td>\n",
       "      <td>0.869565</td>\n",
       "      <td>0.230769</td>\n",
       "    </tr>\n",
       "    <tr>\n",
       "      <th>6</th>\n",
       "      <td>madelon</td>\n",
       "      <td>0.500000</td>\n",
       "      <td>0.000000</td>\n",
       "      <td>0.7500</td>\n",
       "      <td>1.000000</td>\n",
       "      <td>0.857143</td>\n",
       "      <td>0.000000</td>\n",
       "    </tr>\n",
       "    <tr>\n",
       "      <th>7</th>\n",
       "      <td>mfeat-factors</td>\n",
       "      <td>1.000000</td>\n",
       "      <td>1.000000</td>\n",
       "      <td>1.0000</td>\n",
       "      <td>1.000000</td>\n",
       "      <td>1.000000</td>\n",
       "      <td>0.000000</td>\n",
       "    </tr>\n",
       "    <tr>\n",
       "      <th>8</th>\n",
       "      <td>mfeat-fourier</td>\n",
       "      <td>1.000000</td>\n",
       "      <td>1.000000</td>\n",
       "      <td>1.0000</td>\n",
       "      <td>1.000000</td>\n",
       "      <td>1.000000</td>\n",
       "      <td>0.000000</td>\n",
       "    </tr>\n",
       "    <tr>\n",
       "      <th>9</th>\n",
       "      <td>mfeat-karhunen</td>\n",
       "      <td>1.000000</td>\n",
       "      <td>1.000000</td>\n",
       "      <td>1.0000</td>\n",
       "      <td>1.000000</td>\n",
       "      <td>1.000000</td>\n",
       "      <td>0.000000</td>\n",
       "    </tr>\n",
       "    <tr>\n",
       "      <th>10</th>\n",
       "      <td>mfeat-zernike</td>\n",
       "      <td>1.000000</td>\n",
       "      <td>1.000000</td>\n",
       "      <td>1.0000</td>\n",
       "      <td>1.000000</td>\n",
       "      <td>1.000000</td>\n",
       "      <td>0.000000</td>\n",
       "    </tr>\n",
       "    <tr>\n",
       "      <th>11</th>\n",
       "      <td>nomao</td>\n",
       "      <td>1.000000</td>\n",
       "      <td>1.000000</td>\n",
       "      <td>1.0000</td>\n",
       "      <td>1.000000</td>\n",
       "      <td>1.000000</td>\n",
       "      <td>0.000000</td>\n",
       "    </tr>\n",
       "    <tr>\n",
       "      <th>12</th>\n",
       "      <td>optdigits</td>\n",
       "      <td>1.000000</td>\n",
       "      <td>1.000000</td>\n",
       "      <td>1.0000</td>\n",
       "      <td>1.000000</td>\n",
       "      <td>1.000000</td>\n",
       "      <td>0.000000</td>\n",
       "    </tr>\n",
       "    <tr>\n",
       "      <th>13</th>\n",
       "      <td>pendigits</td>\n",
       "      <td>1.000000</td>\n",
       "      <td>1.000000</td>\n",
       "      <td>1.0000</td>\n",
       "      <td>1.000000</td>\n",
       "      <td>1.000000</td>\n",
       "      <td>0.000000</td>\n",
       "    </tr>\n",
       "    <tr>\n",
       "      <th>14</th>\n",
       "      <td>phoneme</td>\n",
       "      <td>0.625000</td>\n",
       "      <td>0.337662</td>\n",
       "      <td>0.8125</td>\n",
       "      <td>1.000000</td>\n",
       "      <td>0.896552</td>\n",
       "      <td>0.000000</td>\n",
       "    </tr>\n",
       "    <tr>\n",
       "      <th>15</th>\n",
       "      <td>qsar-biodeg</td>\n",
       "      <td>1.000000</td>\n",
       "      <td>1.000000</td>\n",
       "      <td>1.0000</td>\n",
       "      <td>1.000000</td>\n",
       "      <td>1.000000</td>\n",
       "      <td>0.000000</td>\n",
       "    </tr>\n",
       "    <tr>\n",
       "      <th>16</th>\n",
       "      <td>satimage</td>\n",
       "      <td>1.000000</td>\n",
       "      <td>1.000000</td>\n",
       "      <td>1.0000</td>\n",
       "      <td>1.000000</td>\n",
       "      <td>1.000000</td>\n",
       "      <td>0.000000</td>\n",
       "    </tr>\n",
       "    <tr>\n",
       "      <th>17</th>\n",
       "      <td>semeion</td>\n",
       "      <td>0.846154</td>\n",
       "      <td>0.514286</td>\n",
       "      <td>1.0000</td>\n",
       "      <td>0.692308</td>\n",
       "      <td>0.818182</td>\n",
       "      <td>0.307692</td>\n",
       "    </tr>\n",
       "    <tr>\n",
       "      <th>18</th>\n",
       "      <td>spambase</td>\n",
       "      <td>1.000000</td>\n",
       "      <td>1.000000</td>\n",
       "      <td>1.0000</td>\n",
       "      <td>1.000000</td>\n",
       "      <td>1.000000</td>\n",
       "      <td>0.000000</td>\n",
       "    </tr>\n",
       "    <tr>\n",
       "      <th>19</th>\n",
       "      <td>wall-robot-navigation</td>\n",
       "      <td>1.000000</td>\n",
       "      <td>1.000000</td>\n",
       "      <td>1.0000</td>\n",
       "      <td>1.000000</td>\n",
       "      <td>1.000000</td>\n",
       "      <td>0.000000</td>\n",
       "    </tr>\n",
       "    <tr>\n",
       "      <th>20</th>\n",
       "      <td>wdbc</td>\n",
       "      <td>0.961538</td>\n",
       "      <td>0.849558</td>\n",
       "      <td>1.0000</td>\n",
       "      <td>0.923077</td>\n",
       "      <td>0.960000</td>\n",
       "      <td>0.076923</td>\n",
       "    </tr>\n",
       "    <tr>\n",
       "      <th>21</th>\n",
       "      <td>wilt</td>\n",
       "      <td>0.625000</td>\n",
       "      <td>0.337662</td>\n",
       "      <td>0.8125</td>\n",
       "      <td>1.000000</td>\n",
       "      <td>0.896552</td>\n",
       "      <td>0.000000</td>\n",
       "    </tr>\n",
       "  </tbody>\n",
       "</table>\n",
       "</div>"
      ],
      "text/plain": [
       "                  dataset      bacc     kappa  precision    recall        f1  \\\n",
       "0             Bioresponse  0.961538  0.849558     1.0000  0.923077  0.960000   \n",
       "1                   churn  1.000000  1.000000     1.0000  1.000000  1.000000   \n",
       "2                     cmc  1.000000  1.000000     1.0000  1.000000  1.000000   \n",
       "3                  cnae-9  0.625000  0.337662     0.8125  1.000000  0.896552   \n",
       "4                     dna  0.961538  0.849558     1.0000  0.923077  0.960000   \n",
       "5                     har  0.884615  0.610687     1.0000  0.769231  0.869565   \n",
       "6                 madelon  0.500000  0.000000     0.7500  1.000000  0.857143   \n",
       "7           mfeat-factors  1.000000  1.000000     1.0000  1.000000  1.000000   \n",
       "8           mfeat-fourier  1.000000  1.000000     1.0000  1.000000  1.000000   \n",
       "9          mfeat-karhunen  1.000000  1.000000     1.0000  1.000000  1.000000   \n",
       "10          mfeat-zernike  1.000000  1.000000     1.0000  1.000000  1.000000   \n",
       "11                  nomao  1.000000  1.000000     1.0000  1.000000  1.000000   \n",
       "12              optdigits  1.000000  1.000000     1.0000  1.000000  1.000000   \n",
       "13              pendigits  1.000000  1.000000     1.0000  1.000000  1.000000   \n",
       "14                phoneme  0.625000  0.337662     0.8125  1.000000  0.896552   \n",
       "15            qsar-biodeg  1.000000  1.000000     1.0000  1.000000  1.000000   \n",
       "16               satimage  1.000000  1.000000     1.0000  1.000000  1.000000   \n",
       "17                semeion  0.846154  0.514286     1.0000  0.692308  0.818182   \n",
       "18               spambase  1.000000  1.000000     1.0000  1.000000  1.000000   \n",
       "19  wall-robot-navigation  1.000000  1.000000     1.0000  1.000000  1.000000   \n",
       "20                   wdbc  0.961538  0.849558     1.0000  0.923077  0.960000   \n",
       "21                   wilt  0.625000  0.337662     0.8125  1.000000  0.896552   \n",
       "\n",
       "         fnr  \n",
       "0   0.076923  \n",
       "1   0.000000  \n",
       "2   0.000000  \n",
       "3   0.000000  \n",
       "4   0.076923  \n",
       "5   0.230769  \n",
       "6   0.000000  \n",
       "7   0.000000  \n",
       "8   0.000000  \n",
       "9   0.000000  \n",
       "10  0.000000  \n",
       "11  0.000000  \n",
       "12  0.000000  \n",
       "13  0.000000  \n",
       "14  0.000000  \n",
       "15  0.000000  \n",
       "16  0.000000  \n",
       "17  0.307692  \n",
       "18  0.000000  \n",
       "19  0.000000  \n",
       "20  0.076923  \n",
       "21  0.000000  "
      ]
     },
     "execution_count": 14,
     "metadata": {},
     "output_type": "execute_result"
    }
   ],
   "source": [
    "one_dataset_out_xgb, one_dataset_out_fi_xgb = leave_dataset_out()\n",
    "one_dataset_out_xgb"
   ]
  },
  {
   "cell_type": "code",
   "execution_count": 15,
   "metadata": {
    "collapsed": false
   },
   "outputs": [
    {
     "name": "stdout",
     "output_type": "stream",
     "text": [
      "\\begin{tabular}{lrrrrrr}\n",
      "\\toprule\n",
      "dataset & bacc & kappa & precision & recall & f1 & fnr \\\\\n",
      "\\midrule\n",
      "Bioresponse & 1.0 & 0.8 & 1.0 & 0.9 & 1.0 & 0.1 \\\\\n",
      "churn & 1.0 & 1.0 & 1.0 & 1.0 & 1.0 & 0.0 \\\\\n",
      "cmc & 1.0 & 1.0 & 1.0 & 1.0 & 1.0 & 0.0 \\\\\n",
      "cnae-9 & 0.6 & 0.3 & 0.8 & 1.0 & 0.9 & 0.0 \\\\\n",
      "dna & 1.0 & 0.8 & 1.0 & 0.9 & 1.0 & 0.1 \\\\\n",
      "har & 0.9 & 0.6 & 1.0 & 0.8 & 0.9 & 0.2 \\\\\n",
      "madelon & 0.5 & 0.0 & 0.8 & 1.0 & 0.9 & 0.0 \\\\\n",
      "mfeat-factors & 1.0 & 1.0 & 1.0 & 1.0 & 1.0 & 0.0 \\\\\n",
      "mfeat-fourier & 1.0 & 1.0 & 1.0 & 1.0 & 1.0 & 0.0 \\\\\n",
      "mfeat-karhunen & 1.0 & 1.0 & 1.0 & 1.0 & 1.0 & 0.0 \\\\\n",
      "mfeat-zernike & 1.0 & 1.0 & 1.0 & 1.0 & 1.0 & 0.0 \\\\\n",
      "nomao & 1.0 & 1.0 & 1.0 & 1.0 & 1.0 & 0.0 \\\\\n",
      "optdigits & 1.0 & 1.0 & 1.0 & 1.0 & 1.0 & 0.0 \\\\\n",
      "pendigits & 1.0 & 1.0 & 1.0 & 1.0 & 1.0 & 0.0 \\\\\n",
      "phoneme & 0.6 & 0.3 & 0.8 & 1.0 & 0.9 & 0.0 \\\\\n",
      "qsar-biodeg & 1.0 & 1.0 & 1.0 & 1.0 & 1.0 & 0.0 \\\\\n",
      "satimage & 1.0 & 1.0 & 1.0 & 1.0 & 1.0 & 0.0 \\\\\n",
      "semeion & 0.8 & 0.5 & 1.0 & 0.7 & 0.8 & 0.3 \\\\\n",
      "spambase & 1.0 & 1.0 & 1.0 & 1.0 & 1.0 & 0.0 \\\\\n",
      "wall-robot-navigation & 1.0 & 1.0 & 1.0 & 1.0 & 1.0 & 0.0 \\\\\n",
      "wdbc & 1.0 & 0.8 & 1.0 & 0.9 & 1.0 & 0.1 \\\\\n",
      "wilt & 0.6 & 0.3 & 0.8 & 1.0 & 0.9 & 0.0 \\\\\n",
      "\\bottomrule\n",
      "\\end{tabular}\n",
      "\n"
     ]
    }
   ],
   "source": [
    "print(one_dataset_out_xgb.to_latex(index=False,\n",
    "                  formatters={\"name\": str.upper},\n",
    "                  float_format=\"{:.1f}\".format,\n",
    "))"
   ]
  },
  {
   "cell_type": "markdown",
   "metadata": {},
   "source": [
    "### Hyperparameters tuning"
   ]
  },
  {
   "cell_type": "code",
   "execution_count": 16,
   "metadata": {},
   "outputs": [
    {
     "name": "stderr",
     "output_type": "stream",
     "text": [
      "100%|██████████| 22/22 [00:08<00:00,  2.65it/s]\n"
     ]
    },
    {
     "name": "stdout",
     "output_type": "stream",
     "text": [
      "kappa = 0.8049589809154892, params: {'max_depth': 6, 'learning_rate': 0.1, 'n_estimators': 100}\n"
     ]
    },
    {
     "name": "stderr",
     "output_type": "stream",
     "text": [
      "100%|██████████| 22/22 [00:11<00:00,  1.84it/s]\n"
     ]
    },
    {
     "name": "stdout",
     "output_type": "stream",
     "text": [
      "kappa = 0.7981206864665754, params: {'max_depth': 6, 'learning_rate': 0.1, 'n_estimators': 200}\n"
     ]
    },
    {
     "name": "stderr",
     "output_type": "stream",
     "text": [
      "100%|██████████| 22/22 [00:18<00:00,  1.18it/s]\n"
     ]
    },
    {
     "name": "stdout",
     "output_type": "stream",
     "text": [
      "kappa = 0.7909508195832221, params: {'max_depth': 6, 'learning_rate': 0.1, 'n_estimators': 500}\n"
     ]
    },
    {
     "name": "stderr",
     "output_type": "stream",
     "text": [
      "100%|██████████| 22/22 [00:05<00:00,  4.24it/s]\n"
     ]
    },
    {
     "name": "stdout",
     "output_type": "stream",
     "text": [
      "kappa = 0.8039378325702351, params: {'max_depth': 6, 'learning_rate': 0.3, 'n_estimators': 100}\n"
     ]
    },
    {
     "name": "stderr",
     "output_type": "stream",
     "text": [
      "100%|██████████| 22/22 [00:09<00:00,  2.38it/s]\n"
     ]
    },
    {
     "name": "stdout",
     "output_type": "stream",
     "text": [
      "kappa = 0.809235393808974, params: {'max_depth': 6, 'learning_rate': 0.3, 'n_estimators': 200}\n"
     ]
    },
    {
     "name": "stderr",
     "output_type": "stream",
     "text": [
      "100%|██████████| 22/22 [00:22<00:00,  1.00s/it]\n"
     ]
    },
    {
     "name": "stdout",
     "output_type": "stream",
     "text": [
      "kappa = 0.7823864055897475, params: {'max_depth': 6, 'learning_rate': 0.3, 'n_estimators': 500}\n"
     ]
    },
    {
     "name": "stderr",
     "output_type": "stream",
     "text": [
      "100%|██████████| 22/22 [00:08<00:00,  2.52it/s]\n"
     ]
    },
    {
     "name": "stdout",
     "output_type": "stream",
     "text": [
      "kappa = 0.7708638238390051, params: {'max_depth': 6, 'learning_rate': 0.5, 'n_estimators': 100}\n"
     ]
    },
    {
     "name": "stderr",
     "output_type": "stream",
     "text": [
      "100%|██████████| 22/22 [00:20<00:00,  1.10it/s]\n"
     ]
    },
    {
     "name": "stdout",
     "output_type": "stream",
     "text": [
      "kappa = 0.7716060853234237, params: {'max_depth': 6, 'learning_rate': 0.5, 'n_estimators': 200}\n"
     ]
    },
    {
     "name": "stderr",
     "output_type": "stream",
     "text": [
      "100%|██████████| 22/22 [00:18<00:00,  1.16it/s]\n"
     ]
    },
    {
     "name": "stdout",
     "output_type": "stream",
     "text": [
      "kappa = 0.7475704126828411, params: {'max_depth': 6, 'learning_rate': 0.5, 'n_estimators': 500}\n"
     ]
    },
    {
     "name": "stderr",
     "output_type": "stream",
     "text": [
      "100%|██████████| 22/22 [00:07<00:00,  3.07it/s]\n"
     ]
    },
    {
     "name": "stdout",
     "output_type": "stream",
     "text": [
      "kappa = 0.8234856971716127, params: {'max_depth': 9, 'learning_rate': 0.1, 'n_estimators': 100}\n"
     ]
    },
    {
     "name": "stderr",
     "output_type": "stream",
     "text": [
      "100%|██████████| 22/22 [00:09<00:00,  2.23it/s]\n"
     ]
    },
    {
     "name": "stdout",
     "output_type": "stream",
     "text": [
      "kappa = 0.7981206864665754, params: {'max_depth': 9, 'learning_rate': 0.1, 'n_estimators': 200}\n"
     ]
    },
    {
     "name": "stderr",
     "output_type": "stream",
     "text": [
      "100%|██████████| 22/22 [00:18<00:00,  1.20it/s]\n"
     ]
    },
    {
     "name": "stdout",
     "output_type": "stream",
     "text": [
      "kappa = 0.7901065311283143, params: {'max_depth': 9, 'learning_rate': 0.1, 'n_estimators': 500}\n"
     ]
    },
    {
     "name": "stderr",
     "output_type": "stream",
     "text": [
      "100%|██████████| 22/22 [00:06<00:00,  3.26it/s]\n"
     ]
    },
    {
     "name": "stdout",
     "output_type": "stream",
     "text": [
      "kappa = 0.801118993637095, params: {'max_depth': 9, 'learning_rate': 0.3, 'n_estimators': 100}\n"
     ]
    },
    {
     "name": "stderr",
     "output_type": "stream",
     "text": [
      "100%|██████████| 22/22 [00:11<00:00,  1.98it/s]\n"
     ]
    },
    {
     "name": "stdout",
     "output_type": "stream",
     "text": [
      "kappa = 0.7884513334284513, params: {'max_depth': 9, 'learning_rate': 0.3, 'n_estimators': 200}\n"
     ]
    },
    {
     "name": "stderr",
     "output_type": "stream",
     "text": [
      "100%|██████████| 22/22 [00:26<00:00,  1.22s/it]\n"
     ]
    },
    {
     "name": "stdout",
     "output_type": "stream",
     "text": [
      "kappa = 0.8024337430530452, params: {'max_depth': 9, 'learning_rate': 0.3, 'n_estimators': 500}\n"
     ]
    },
    {
     "name": "stderr",
     "output_type": "stream",
     "text": [
      "100%|██████████| 22/22 [00:11<00:00,  1.90it/s]\n"
     ]
    },
    {
     "name": "stdout",
     "output_type": "stream",
     "text": [
      "kappa = 0.7687128906802125, params: {'max_depth': 9, 'learning_rate': 0.5, 'n_estimators': 100}\n"
     ]
    },
    {
     "name": "stderr",
     "output_type": "stream",
     "text": [
      "100%|██████████| 22/22 [00:12<00:00,  1.76it/s]\n"
     ]
    },
    {
     "name": "stdout",
     "output_type": "stream",
     "text": [
      "kappa = 0.7669602705260058, params: {'max_depth': 9, 'learning_rate': 0.5, 'n_estimators': 200}\n"
     ]
    },
    {
     "name": "stderr",
     "output_type": "stream",
     "text": [
      "100%|██████████| 22/22 [00:20<00:00,  1.08it/s]\n"
     ]
    },
    {
     "name": "stdout",
     "output_type": "stream",
     "text": [
      "kappa = 0.7555922580940669, params: {'max_depth': 9, 'learning_rate': 0.5, 'n_estimators': 500}\n"
     ]
    },
    {
     "name": "stderr",
     "output_type": "stream",
     "text": [
      "100%|██████████| 22/22 [00:09<00:00,  2.41it/s]\n"
     ]
    },
    {
     "name": "stdout",
     "output_type": "stream",
     "text": [
      "kappa = 0.8234856971716127, params: {'max_depth': 12, 'learning_rate': 0.1, 'n_estimators': 100}\n"
     ]
    },
    {
     "name": "stderr",
     "output_type": "stream",
     "text": [
      "100%|██████████| 22/22 [00:11<00:00,  1.84it/s]\n"
     ]
    },
    {
     "name": "stdout",
     "output_type": "stream",
     "text": [
      "kappa = 0.7981206864665754, params: {'max_depth': 12, 'learning_rate': 0.1, 'n_estimators': 200}\n"
     ]
    },
    {
     "name": "stderr",
     "output_type": "stream",
     "text": [
      "100%|██████████| 22/22 [00:25<00:00,  1.15s/it]\n"
     ]
    },
    {
     "name": "stdout",
     "output_type": "stream",
     "text": [
      "kappa = 0.7901065311283143, params: {'max_depth': 12, 'learning_rate': 0.1, 'n_estimators': 500}\n"
     ]
    },
    {
     "name": "stderr",
     "output_type": "stream",
     "text": [
      "100%|██████████| 22/22 [00:09<00:00,  2.32it/s]\n"
     ]
    },
    {
     "name": "stdout",
     "output_type": "stream",
     "text": [
      "kappa = 0.801118993637095, params: {'max_depth': 12, 'learning_rate': 0.3, 'n_estimators': 100}\n"
     ]
    },
    {
     "name": "stderr",
     "output_type": "stream",
     "text": [
      "100%|██████████| 22/22 [00:18<00:00,  1.17it/s]\n"
     ]
    },
    {
     "name": "stdout",
     "output_type": "stream",
     "text": [
      "kappa = 0.7884513334284513, params: {'max_depth': 12, 'learning_rate': 0.3, 'n_estimators': 200}\n"
     ]
    },
    {
     "name": "stderr",
     "output_type": "stream",
     "text": [
      "100%|██████████| 22/22 [00:28<00:00,  1.28s/it]\n"
     ]
    },
    {
     "name": "stdout",
     "output_type": "stream",
     "text": [
      "kappa = 0.8024337430530452, params: {'max_depth': 12, 'learning_rate': 0.3, 'n_estimators': 500}\n"
     ]
    },
    {
     "name": "stderr",
     "output_type": "stream",
     "text": [
      "100%|██████████| 22/22 [00:05<00:00,  4.25it/s]\n"
     ]
    },
    {
     "name": "stdout",
     "output_type": "stream",
     "text": [
      "kappa = 0.7687128906802125, params: {'max_depth': 12, 'learning_rate': 0.5, 'n_estimators': 100}\n"
     ]
    },
    {
     "name": "stderr",
     "output_type": "stream",
     "text": [
      "100%|██████████| 22/22 [00:06<00:00,  3.41it/s]\n"
     ]
    },
    {
     "name": "stdout",
     "output_type": "stream",
     "text": [
      "kappa = 0.7669602705260058, params: {'max_depth': 12, 'learning_rate': 0.5, 'n_estimators': 200}\n"
     ]
    },
    {
     "name": "stderr",
     "output_type": "stream",
     "text": [
      "100%|██████████| 22/22 [00:11<00:00,  1.92it/s]"
     ]
    },
    {
     "name": "stdout",
     "output_type": "stream",
     "text": [
      "kappa = 0.7555922580940669, params: {'max_depth': 12, 'learning_rate': 0.5, 'n_estimators': 500}\n",
      "Params: {'max_depth': 9, 'learning_rate': 0.1, 'n_estimators': 100} give best kappa equal 0.8234856971716127\n"
     ]
    },
    {
     "name": "stderr",
     "output_type": "stream",
     "text": [
      "\n"
     ]
    },
    {
     "data": {
      "application/vnd.microsoft.datawrangler.viewer.v0+json": {
       "columns": [
        {
         "name": "index",
         "rawType": "int64",
         "type": "integer"
        },
        {
         "name": "dataset",
         "rawType": "object",
         "type": "string"
        },
        {
         "name": "bacc",
         "rawType": "float64",
         "type": "float"
        },
        {
         "name": "kappa",
         "rawType": "float64",
         "type": "float"
        },
        {
         "name": "precision",
         "rawType": "float64",
         "type": "float"
        },
        {
         "name": "recall",
         "rawType": "float64",
         "type": "float"
        },
        {
         "name": "f1",
         "rawType": "float64",
         "type": "float"
        },
        {
         "name": "fnr",
         "rawType": "float64",
         "type": "float"
        }
       ],
       "ref": "81f608b8-5406-4c92-b478-82b588ece2dd",
       "rows": [
        [
         "0",
         "Bioresponse",
         "0.9615384615384616",
         "0.8495575221238938",
         "1.0",
         "0.9230769230769231",
         "0.96",
         "0.07692307692307693"
        ],
        [
         "1",
         "churn",
         "1.0",
         "1.0",
         "1.0",
         "1.0",
         "1.0",
         "0.0"
        ],
        [
         "2",
         "cmc",
         "1.0",
         "1.0",
         "1.0",
         "1.0",
         "1.0",
         "0.0"
        ],
        [
         "3",
         "cnae-9",
         "0.7115384615384616",
         "0.4631578947368421",
         "0.8571428571428571",
         "0.9230769230769231",
         "0.8888888888888888",
         "0.07692307692307693"
        ],
        [
         "4",
         "dna",
         "0.9615384615384616",
         "0.8495575221238938",
         "1.0",
         "0.9230769230769231",
         "0.96",
         "0.07692307692307693"
        ],
        [
         "5",
         "har",
         "0.9615384615384616",
         "0.8495575221238938",
         "1.0",
         "0.9230769230769231",
         "0.96",
         "0.07692307692307693"
        ],
        [
         "6",
         "madelon",
         "0.5",
         "0.0",
         "0.75",
         "1.0",
         "0.8571428571428571",
         "0.0"
        ],
        [
         "7",
         "mfeat-factors",
         "1.0",
         "1.0",
         "1.0",
         "1.0",
         "1.0",
         "0.0"
        ],
        [
         "8",
         "mfeat-fourier",
         "1.0",
         "1.0",
         "1.0",
         "1.0",
         "1.0",
         "0.0"
        ],
        [
         "9",
         "mfeat-karhunen",
         "1.0",
         "1.0",
         "1.0",
         "1.0",
         "1.0",
         "0.0"
        ],
        [
         "10",
         "mfeat-zernike",
         "1.0",
         "1.0",
         "1.0",
         "1.0",
         "1.0",
         "0.0"
        ],
        [
         "11",
         "nomao",
         "1.0",
         "1.0",
         "1.0",
         "1.0",
         "1.0",
         "0.0"
        ],
        [
         "12",
         "optdigits",
         "1.0",
         "1.0",
         "1.0",
         "1.0",
         "1.0",
         "0.0"
        ],
        [
         "13",
         "pendigits",
         "1.0",
         "1.0",
         "1.0",
         "1.0",
         "1.0",
         "0.0"
        ],
        [
         "14",
         "phoneme",
         "0.625",
         "0.33766233766233766",
         "0.8125",
         "1.0",
         "0.896551724137931",
         "0.0"
        ],
        [
         "15",
         "qsar-biodeg",
         "1.0",
         "1.0",
         "1.0",
         "1.0",
         "1.0",
         "0.0"
        ],
        [
         "16",
         "satimage",
         "1.0",
         "1.0",
         "1.0",
         "1.0",
         "1.0",
         "0.0"
        ],
        [
         "17",
         "semeion",
         "0.8076923076923077",
         "0.4295302013422819",
         "1.0",
         "0.6153846153846154",
         "0.7619047619047619",
         "0.38461538461538464"
        ],
        [
         "18",
         "spambase",
         "1.0",
         "1.0",
         "1.0",
         "1.0",
         "1.0",
         "0.0"
        ],
        [
         "19",
         "wall-robot-navigation",
         "1.0",
         "1.0",
         "1.0",
         "1.0",
         "1.0",
         "0.0"
        ],
        [
         "20",
         "wdbc",
         "1.0",
         "1.0",
         "1.0",
         "1.0",
         "1.0",
         "0.0"
        ],
        [
         "21",
         "wilt",
         "0.625",
         "0.33766233766233766",
         "0.8125",
         "1.0",
         "0.896551724137931",
         "0.0"
        ]
       ],
       "shape": {
        "columns": 7,
        "rows": 22
       }
      },
      "text/html": [
       "<div>\n",
       "<style scoped>\n",
       "    .dataframe tbody tr th:only-of-type {\n",
       "        vertical-align: middle;\n",
       "    }\n",
       "\n",
       "    .dataframe tbody tr th {\n",
       "        vertical-align: top;\n",
       "    }\n",
       "\n",
       "    .dataframe thead th {\n",
       "        text-align: right;\n",
       "    }\n",
       "</style>\n",
       "<table border=\"1\" class=\"dataframe\">\n",
       "  <thead>\n",
       "    <tr style=\"text-align: right;\">\n",
       "      <th></th>\n",
       "      <th>dataset</th>\n",
       "      <th>bacc</th>\n",
       "      <th>kappa</th>\n",
       "      <th>precision</th>\n",
       "      <th>recall</th>\n",
       "      <th>f1</th>\n",
       "      <th>fnr</th>\n",
       "    </tr>\n",
       "  </thead>\n",
       "  <tbody>\n",
       "    <tr>\n",
       "      <th>0</th>\n",
       "      <td>Bioresponse</td>\n",
       "      <td>0.961538</td>\n",
       "      <td>0.849558</td>\n",
       "      <td>1.000000</td>\n",
       "      <td>0.923077</td>\n",
       "      <td>0.960000</td>\n",
       "      <td>0.076923</td>\n",
       "    </tr>\n",
       "    <tr>\n",
       "      <th>1</th>\n",
       "      <td>churn</td>\n",
       "      <td>1.000000</td>\n",
       "      <td>1.000000</td>\n",
       "      <td>1.000000</td>\n",
       "      <td>1.000000</td>\n",
       "      <td>1.000000</td>\n",
       "      <td>0.000000</td>\n",
       "    </tr>\n",
       "    <tr>\n",
       "      <th>2</th>\n",
       "      <td>cmc</td>\n",
       "      <td>1.000000</td>\n",
       "      <td>1.000000</td>\n",
       "      <td>1.000000</td>\n",
       "      <td>1.000000</td>\n",
       "      <td>1.000000</td>\n",
       "      <td>0.000000</td>\n",
       "    </tr>\n",
       "    <tr>\n",
       "      <th>3</th>\n",
       "      <td>cnae-9</td>\n",
       "      <td>0.711538</td>\n",
       "      <td>0.463158</td>\n",
       "      <td>0.857143</td>\n",
       "      <td>0.923077</td>\n",
       "      <td>0.888889</td>\n",
       "      <td>0.076923</td>\n",
       "    </tr>\n",
       "    <tr>\n",
       "      <th>4</th>\n",
       "      <td>dna</td>\n",
       "      <td>0.961538</td>\n",
       "      <td>0.849558</td>\n",
       "      <td>1.000000</td>\n",
       "      <td>0.923077</td>\n",
       "      <td>0.960000</td>\n",
       "      <td>0.076923</td>\n",
       "    </tr>\n",
       "    <tr>\n",
       "      <th>5</th>\n",
       "      <td>har</td>\n",
       "      <td>0.961538</td>\n",
       "      <td>0.849558</td>\n",
       "      <td>1.000000</td>\n",
       "      <td>0.923077</td>\n",
       "      <td>0.960000</td>\n",
       "      <td>0.076923</td>\n",
       "    </tr>\n",
       "    <tr>\n",
       "      <th>6</th>\n",
       "      <td>madelon</td>\n",
       "      <td>0.500000</td>\n",
       "      <td>0.000000</td>\n",
       "      <td>0.750000</td>\n",
       "      <td>1.000000</td>\n",
       "      <td>0.857143</td>\n",
       "      <td>0.000000</td>\n",
       "    </tr>\n",
       "    <tr>\n",
       "      <th>7</th>\n",
       "      <td>mfeat-factors</td>\n",
       "      <td>1.000000</td>\n",
       "      <td>1.000000</td>\n",
       "      <td>1.000000</td>\n",
       "      <td>1.000000</td>\n",
       "      <td>1.000000</td>\n",
       "      <td>0.000000</td>\n",
       "    </tr>\n",
       "    <tr>\n",
       "      <th>8</th>\n",
       "      <td>mfeat-fourier</td>\n",
       "      <td>1.000000</td>\n",
       "      <td>1.000000</td>\n",
       "      <td>1.000000</td>\n",
       "      <td>1.000000</td>\n",
       "      <td>1.000000</td>\n",
       "      <td>0.000000</td>\n",
       "    </tr>\n",
       "    <tr>\n",
       "      <th>9</th>\n",
       "      <td>mfeat-karhunen</td>\n",
       "      <td>1.000000</td>\n",
       "      <td>1.000000</td>\n",
       "      <td>1.000000</td>\n",
       "      <td>1.000000</td>\n",
       "      <td>1.000000</td>\n",
       "      <td>0.000000</td>\n",
       "    </tr>\n",
       "    <tr>\n",
       "      <th>10</th>\n",
       "      <td>mfeat-zernike</td>\n",
       "      <td>1.000000</td>\n",
       "      <td>1.000000</td>\n",
       "      <td>1.000000</td>\n",
       "      <td>1.000000</td>\n",
       "      <td>1.000000</td>\n",
       "      <td>0.000000</td>\n",
       "    </tr>\n",
       "    <tr>\n",
       "      <th>11</th>\n",
       "      <td>nomao</td>\n",
       "      <td>1.000000</td>\n",
       "      <td>1.000000</td>\n",
       "      <td>1.000000</td>\n",
       "      <td>1.000000</td>\n",
       "      <td>1.000000</td>\n",
       "      <td>0.000000</td>\n",
       "    </tr>\n",
       "    <tr>\n",
       "      <th>12</th>\n",
       "      <td>optdigits</td>\n",
       "      <td>1.000000</td>\n",
       "      <td>1.000000</td>\n",
       "      <td>1.000000</td>\n",
       "      <td>1.000000</td>\n",
       "      <td>1.000000</td>\n",
       "      <td>0.000000</td>\n",
       "    </tr>\n",
       "    <tr>\n",
       "      <th>13</th>\n",
       "      <td>pendigits</td>\n",
       "      <td>1.000000</td>\n",
       "      <td>1.000000</td>\n",
       "      <td>1.000000</td>\n",
       "      <td>1.000000</td>\n",
       "      <td>1.000000</td>\n",
       "      <td>0.000000</td>\n",
       "    </tr>\n",
       "    <tr>\n",
       "      <th>14</th>\n",
       "      <td>phoneme</td>\n",
       "      <td>0.625000</td>\n",
       "      <td>0.337662</td>\n",
       "      <td>0.812500</td>\n",
       "      <td>1.000000</td>\n",
       "      <td>0.896552</td>\n",
       "      <td>0.000000</td>\n",
       "    </tr>\n",
       "    <tr>\n",
       "      <th>15</th>\n",
       "      <td>qsar-biodeg</td>\n",
       "      <td>1.000000</td>\n",
       "      <td>1.000000</td>\n",
       "      <td>1.000000</td>\n",
       "      <td>1.000000</td>\n",
       "      <td>1.000000</td>\n",
       "      <td>0.000000</td>\n",
       "    </tr>\n",
       "    <tr>\n",
       "      <th>16</th>\n",
       "      <td>satimage</td>\n",
       "      <td>1.000000</td>\n",
       "      <td>1.000000</td>\n",
       "      <td>1.000000</td>\n",
       "      <td>1.000000</td>\n",
       "      <td>1.000000</td>\n",
       "      <td>0.000000</td>\n",
       "    </tr>\n",
       "    <tr>\n",
       "      <th>17</th>\n",
       "      <td>semeion</td>\n",
       "      <td>0.807692</td>\n",
       "      <td>0.429530</td>\n",
       "      <td>1.000000</td>\n",
       "      <td>0.615385</td>\n",
       "      <td>0.761905</td>\n",
       "      <td>0.384615</td>\n",
       "    </tr>\n",
       "    <tr>\n",
       "      <th>18</th>\n",
       "      <td>spambase</td>\n",
       "      <td>1.000000</td>\n",
       "      <td>1.000000</td>\n",
       "      <td>1.000000</td>\n",
       "      <td>1.000000</td>\n",
       "      <td>1.000000</td>\n",
       "      <td>0.000000</td>\n",
       "    </tr>\n",
       "    <tr>\n",
       "      <th>19</th>\n",
       "      <td>wall-robot-navigation</td>\n",
       "      <td>1.000000</td>\n",
       "      <td>1.000000</td>\n",
       "      <td>1.000000</td>\n",
       "      <td>1.000000</td>\n",
       "      <td>1.000000</td>\n",
       "      <td>0.000000</td>\n",
       "    </tr>\n",
       "    <tr>\n",
       "      <th>20</th>\n",
       "      <td>wdbc</td>\n",
       "      <td>1.000000</td>\n",
       "      <td>1.000000</td>\n",
       "      <td>1.000000</td>\n",
       "      <td>1.000000</td>\n",
       "      <td>1.000000</td>\n",
       "      <td>0.000000</td>\n",
       "    </tr>\n",
       "    <tr>\n",
       "      <th>21</th>\n",
       "      <td>wilt</td>\n",
       "      <td>0.625000</td>\n",
       "      <td>0.337662</td>\n",
       "      <td>0.812500</td>\n",
       "      <td>1.000000</td>\n",
       "      <td>0.896552</td>\n",
       "      <td>0.000000</td>\n",
       "    </tr>\n",
       "  </tbody>\n",
       "</table>\n",
       "</div>"
      ],
      "text/plain": [
       "                  dataset      bacc     kappa  precision    recall        f1  \\\n",
       "0             Bioresponse  0.961538  0.849558   1.000000  0.923077  0.960000   \n",
       "1                   churn  1.000000  1.000000   1.000000  1.000000  1.000000   \n",
       "2                     cmc  1.000000  1.000000   1.000000  1.000000  1.000000   \n",
       "3                  cnae-9  0.711538  0.463158   0.857143  0.923077  0.888889   \n",
       "4                     dna  0.961538  0.849558   1.000000  0.923077  0.960000   \n",
       "5                     har  0.961538  0.849558   1.000000  0.923077  0.960000   \n",
       "6                 madelon  0.500000  0.000000   0.750000  1.000000  0.857143   \n",
       "7           mfeat-factors  1.000000  1.000000   1.000000  1.000000  1.000000   \n",
       "8           mfeat-fourier  1.000000  1.000000   1.000000  1.000000  1.000000   \n",
       "9          mfeat-karhunen  1.000000  1.000000   1.000000  1.000000  1.000000   \n",
       "10          mfeat-zernike  1.000000  1.000000   1.000000  1.000000  1.000000   \n",
       "11                  nomao  1.000000  1.000000   1.000000  1.000000  1.000000   \n",
       "12              optdigits  1.000000  1.000000   1.000000  1.000000  1.000000   \n",
       "13              pendigits  1.000000  1.000000   1.000000  1.000000  1.000000   \n",
       "14                phoneme  0.625000  0.337662   0.812500  1.000000  0.896552   \n",
       "15            qsar-biodeg  1.000000  1.000000   1.000000  1.000000  1.000000   \n",
       "16               satimage  1.000000  1.000000   1.000000  1.000000  1.000000   \n",
       "17                semeion  0.807692  0.429530   1.000000  0.615385  0.761905   \n",
       "18               spambase  1.000000  1.000000   1.000000  1.000000  1.000000   \n",
       "19  wall-robot-navigation  1.000000  1.000000   1.000000  1.000000  1.000000   \n",
       "20                   wdbc  1.000000  1.000000   1.000000  1.000000  1.000000   \n",
       "21                   wilt  0.625000  0.337662   0.812500  1.000000  0.896552   \n",
       "\n",
       "         fnr  \n",
       "0   0.076923  \n",
       "1   0.000000  \n",
       "2   0.000000  \n",
       "3   0.076923  \n",
       "4   0.076923  \n",
       "5   0.076923  \n",
       "6   0.000000  \n",
       "7   0.000000  \n",
       "8   0.000000  \n",
       "9   0.000000  \n",
       "10  0.000000  \n",
       "11  0.000000  \n",
       "12  0.000000  \n",
       "13  0.000000  \n",
       "14  0.000000  \n",
       "15  0.000000  \n",
       "16  0.000000  \n",
       "17  0.384615  \n",
       "18  0.000000  \n",
       "19  0.000000  \n",
       "20  0.000000  \n",
       "21  0.000000  "
      ]
     },
     "execution_count": 16,
     "metadata": {},
     "output_type": "execute_result"
    }
   ],
   "source": [
    "model=xgb.XGBClassifier(random_state=123)\n",
    "\n",
    "param_grid = {\n",
    "    'max_depth': [6, 9, 12],\n",
    "    'learning_rate': [0.1, 0.3, 0.5],\n",
    "    'n_estimators': [100, 200, 500]\n",
    "}\n",
    "\n",
    "one_dataset_out_xgb, one_dataset_out_fi_xgb = create_hyperparams_grid(model=model, param_grid=param_grid, exp_function=leave_dataset_out, crit=\"kappa\")\n",
    "one_dataset_out_xgb"
   ]
  },
  {
   "cell_type": "code",
   "execution_count": 17,
   "metadata": {},
   "outputs": [
    {
     "data": {
      "application/vnd.microsoft.datawrangler.viewer.v0+json": {
       "columns": [
        {
         "name": "index",
         "rawType": "object",
         "type": "string"
        },
        {
         "name": "bacc",
         "rawType": "float64",
         "type": "float"
        },
        {
         "name": "precision",
         "rawType": "float64",
         "type": "float"
        },
        {
         "name": "recall",
         "rawType": "float64",
         "type": "float"
        },
        {
         "name": "f1",
         "rawType": "float64",
         "type": "float"
        },
        {
         "name": "fnr",
         "rawType": "float64",
         "type": "float"
        }
       ],
       "ref": "31a9e932-1a13-480c-a9d7-d1fc5c1f56b5",
       "rows": [
        [
         "mean",
         "0.92",
         "0.97",
         "0.97",
         "0.96",
         "0.03"
        ],
        [
         "std",
         "0.15",
         "0.08",
         "0.08",
         "0.06",
         "0.08"
        ]
       ],
       "shape": {
        "columns": 5,
        "rows": 2
       }
      },
      "text/html": [
       "<div>\n",
       "<style scoped>\n",
       "    .dataframe tbody tr th:only-of-type {\n",
       "        vertical-align: middle;\n",
       "    }\n",
       "\n",
       "    .dataframe tbody tr th {\n",
       "        vertical-align: top;\n",
       "    }\n",
       "\n",
       "    .dataframe thead th {\n",
       "        text-align: right;\n",
       "    }\n",
       "</style>\n",
       "<table border=\"1\" class=\"dataframe\">\n",
       "  <thead>\n",
       "    <tr style=\"text-align: right;\">\n",
       "      <th></th>\n",
       "      <th>bacc</th>\n",
       "      <th>precision</th>\n",
       "      <th>recall</th>\n",
       "      <th>f1</th>\n",
       "      <th>fnr</th>\n",
       "    </tr>\n",
       "  </thead>\n",
       "  <tbody>\n",
       "    <tr>\n",
       "      <th>mean</th>\n",
       "      <td>0.92</td>\n",
       "      <td>0.97</td>\n",
       "      <td>0.97</td>\n",
       "      <td>0.96</td>\n",
       "      <td>0.03</td>\n",
       "    </tr>\n",
       "    <tr>\n",
       "      <th>std</th>\n",
       "      <td>0.15</td>\n",
       "      <td>0.08</td>\n",
       "      <td>0.08</td>\n",
       "      <td>0.06</td>\n",
       "      <td>0.08</td>\n",
       "    </tr>\n",
       "  </tbody>\n",
       "</table>\n",
       "</div>"
      ],
      "text/plain": [
       "      bacc  precision  recall    f1   fnr\n",
       "mean  0.92       0.97    0.97  0.96  0.03\n",
       "std   0.15       0.08    0.08  0.06  0.08"
      ]
     },
     "execution_count": 17,
     "metadata": {},
     "output_type": "execute_result"
    }
   ],
   "source": [
    "one_dataset_out_xgb[[\"bacc\", \"precision\", \"recall\", \"f1\", \"fnr\"]].agg(['mean', 'std']).round(2)"
   ]
  },
  {
   "cell_type": "code",
   "execution_count": 18,
   "metadata": {},
   "outputs": [
    {
     "name": "stdout",
     "output_type": "stream",
     "text": [
      "\\begin{tabular}{lllll}\n",
      "\\toprule\n",
      "bacc & precision & recall & f1 & fnr \\\\\n",
      "\\midrule\n",
      "0.92 (0.15) & 0.97 (0.08) & 0.97 (0.08) & 0.96 (0.06) & 0.03 (0.08) \\\\\n",
      "\\bottomrule\n",
      "\\end{tabular}\n",
      "\n"
     ]
    }
   ],
   "source": [
    "def format_mean_std(dataset):   \n",
    "    metrics = [\"bacc\", \"precision\", \"recall\", \"f1\", \"fnr\"] \n",
    "    stats = dataset[metrics].agg(['mean', 'std']).round(2)\n",
    "    formatted = {col: f\"{stats.loc['mean',col]:.2f} ({stats.loc['std',col]:.2f})\" for col in metrics}\n",
    "    df = pd.DataFrame([formatted])\n",
    "    print(df.to_latex(index=False, header=True, escape=False))\n",
    "\n",
    "format_mean_std(one_dataset_out_xgb)"
   ]
  },
  {
   "cell_type": "code",
   "execution_count": 19,
   "metadata": {},
   "outputs": [
    {
     "data": {
      "application/vnd.microsoft.datawrangler.viewer.v0+json": {
       "columns": [
        {
         "name": "var",
         "rawType": "object",
         "type": "string"
        },
        {
         "name": "fi_rank_mean",
         "rawType": "float64",
         "type": "float"
        }
       ],
       "ref": "04a3c668-64dc-4f81-a892-b585371e0c74",
       "rows": [
        [
         "target_approx_consistency_in_neighborhood_mean",
         "1.5454545454545454"
        ],
        [
         "n_classes",
         "2.3181818181818183"
        ],
        [
         "pred_targets_consistency_in_neighborhood_q25",
         "3.0"
        ],
        [
         "target_targets_consistency_in_neighborhood_mean",
         "5.090909090909091"
        ],
        [
         "uncertainty_q25",
         "5.909090909090909"
        ],
        [
         "pred_targets_consistency_in_neighborhood_mean",
         "6.7272727272727275"
        ],
        [
         "uncertainty_q1",
         "11.454545454545455"
        ],
        [
         "pred_targets_consistency_in_neighborhood_q0",
         "11.772727272727273"
        ],
        [
         "neighborhood_size_minmax",
         "13.636363636363637"
        ],
        [
         "target_approx_consistency_in_neighborhood_q50",
         "14.318181818181818"
        ],
        [
         "uncertainty_q50",
         "14.340909090909092"
        ],
        [
         "target_approx_consistency_in_neighborhood_q0",
         "16.40909090909091"
        ],
        [
         "target_targets_consistency_in_neighborhood_q50",
         "16.5"
        ],
        [
         "target_diversity_in_neighborhood_q50",
         "16.772727272727273"
        ],
        [
         "neighborhood_size_mean",
         "18.136363636363637"
        ],
        [
         "target_diversity_in_neighborhood_minmax",
         "19.40909090909091"
        ],
        [
         "target_targets_consistency_in_neighborhood_q0",
         "20.636363636363637"
        ],
        [
         "uncertainty_q75",
         "20.818181818181817"
        ],
        [
         "approx_diversity_in_neighborhood_q75",
         "22.90909090909091"
        ],
        [
         "target_diversity_in_neighborhood_q75",
         "24.818181818181817"
        ]
       ],
       "shape": {
        "columns": 1,
        "rows": 20
       }
      },
      "text/html": [
       "<div>\n",
       "<style scoped>\n",
       "    .dataframe tbody tr th:only-of-type {\n",
       "        vertical-align: middle;\n",
       "    }\n",
       "\n",
       "    .dataframe tbody tr th {\n",
       "        vertical-align: top;\n",
       "    }\n",
       "\n",
       "    .dataframe thead th {\n",
       "        text-align: right;\n",
       "    }\n",
       "</style>\n",
       "<table border=\"1\" class=\"dataframe\">\n",
       "  <thead>\n",
       "    <tr style=\"text-align: right;\">\n",
       "      <th></th>\n",
       "      <th>fi_rank_mean</th>\n",
       "    </tr>\n",
       "    <tr>\n",
       "      <th>var</th>\n",
       "      <th></th>\n",
       "    </tr>\n",
       "  </thead>\n",
       "  <tbody>\n",
       "    <tr>\n",
       "      <th>target_approx_consistency_in_neighborhood_mean</th>\n",
       "      <td>1.545455</td>\n",
       "    </tr>\n",
       "    <tr>\n",
       "      <th>n_classes</th>\n",
       "      <td>2.318182</td>\n",
       "    </tr>\n",
       "    <tr>\n",
       "      <th>pred_targets_consistency_in_neighborhood_q25</th>\n",
       "      <td>3.000000</td>\n",
       "    </tr>\n",
       "    <tr>\n",
       "      <th>target_targets_consistency_in_neighborhood_mean</th>\n",
       "      <td>5.090909</td>\n",
       "    </tr>\n",
       "    <tr>\n",
       "      <th>uncertainty_q25</th>\n",
       "      <td>5.909091</td>\n",
       "    </tr>\n",
       "    <tr>\n",
       "      <th>pred_targets_consistency_in_neighborhood_mean</th>\n",
       "      <td>6.727273</td>\n",
       "    </tr>\n",
       "    <tr>\n",
       "      <th>uncertainty_q1</th>\n",
       "      <td>11.454545</td>\n",
       "    </tr>\n",
       "    <tr>\n",
       "      <th>pred_targets_consistency_in_neighborhood_q0</th>\n",
       "      <td>11.772727</td>\n",
       "    </tr>\n",
       "    <tr>\n",
       "      <th>neighborhood_size_minmax</th>\n",
       "      <td>13.636364</td>\n",
       "    </tr>\n",
       "    <tr>\n",
       "      <th>target_approx_consistency_in_neighborhood_q50</th>\n",
       "      <td>14.318182</td>\n",
       "    </tr>\n",
       "    <tr>\n",
       "      <th>uncertainty_q50</th>\n",
       "      <td>14.340909</td>\n",
       "    </tr>\n",
       "    <tr>\n",
       "      <th>target_approx_consistency_in_neighborhood_q0</th>\n",
       "      <td>16.409091</td>\n",
       "    </tr>\n",
       "    <tr>\n",
       "      <th>target_targets_consistency_in_neighborhood_q50</th>\n",
       "      <td>16.500000</td>\n",
       "    </tr>\n",
       "    <tr>\n",
       "      <th>target_diversity_in_neighborhood_q50</th>\n",
       "      <td>16.772727</td>\n",
       "    </tr>\n",
       "    <tr>\n",
       "      <th>neighborhood_size_mean</th>\n",
       "      <td>18.136364</td>\n",
       "    </tr>\n",
       "    <tr>\n",
       "      <th>target_diversity_in_neighborhood_minmax</th>\n",
       "      <td>19.409091</td>\n",
       "    </tr>\n",
       "    <tr>\n",
       "      <th>target_targets_consistency_in_neighborhood_q0</th>\n",
       "      <td>20.636364</td>\n",
       "    </tr>\n",
       "    <tr>\n",
       "      <th>uncertainty_q75</th>\n",
       "      <td>20.818182</td>\n",
       "    </tr>\n",
       "    <tr>\n",
       "      <th>approx_diversity_in_neighborhood_q75</th>\n",
       "      <td>22.909091</td>\n",
       "    </tr>\n",
       "    <tr>\n",
       "      <th>target_diversity_in_neighborhood_q75</th>\n",
       "      <td>24.818182</td>\n",
       "    </tr>\n",
       "  </tbody>\n",
       "</table>\n",
       "</div>"
      ],
      "text/plain": [
       "                                                 fi_rank_mean\n",
       "var                                                          \n",
       "target_approx_consistency_in_neighborhood_mean       1.545455\n",
       "n_classes                                            2.318182\n",
       "pred_targets_consistency_in_neighborhood_q25         3.000000\n",
       "target_targets_consistency_in_neighborhood_mean      5.090909\n",
       "uncertainty_q25                                      5.909091\n",
       "pred_targets_consistency_in_neighborhood_mean        6.727273\n",
       "uncertainty_q1                                      11.454545\n",
       "pred_targets_consistency_in_neighborhood_q0         11.772727\n",
       "neighborhood_size_minmax                            13.636364\n",
       "target_approx_consistency_in_neighborhood_q50       14.318182\n",
       "uncertainty_q50                                     14.340909\n",
       "target_approx_consistency_in_neighborhood_q0        16.409091\n",
       "target_targets_consistency_in_neighborhood_q50      16.500000\n",
       "target_diversity_in_neighborhood_q50                16.772727\n",
       "neighborhood_size_mean                              18.136364\n",
       "target_diversity_in_neighborhood_minmax             19.409091\n",
       "target_targets_consistency_in_neighborhood_q0       20.636364\n",
       "uncertainty_q75                                     20.818182\n",
       "approx_diversity_in_neighborhood_q75                22.909091\n",
       "target_diversity_in_neighborhood_q75                24.818182"
      ]
     },
     "execution_count": 19,
     "metadata": {},
     "output_type": "execute_result"
    }
   ],
   "source": [
    "fi_agg = one_dataset_out_fi_xgb[[\"var\", \"fi_rank\"]].groupby([\"var\"]).agg(['mean'])\n",
    "fi_agg.columns = fi_agg.columns.to_flat_index()\n",
    "fi_agg.columns = list(fi_agg.columns.map('_'.join))\n",
    "fi_agg.nsmallest(n=20, columns=[\"fi_rank_mean\"])"
   ]
  },
  {
   "cell_type": "markdown",
   "metadata": {},
   "source": [
    "## Random forest"
   ]
  },
  {
   "cell_type": "markdown",
   "metadata": {},
   "source": [
    "### Default parameters"
   ]
  },
  {
   "cell_type": "code",
   "execution_count": 20,
   "metadata": {},
   "outputs": [
    {
     "name": "stderr",
     "output_type": "stream",
     "text": [
      "100%|██████████| 22/22 [00:07<00:00,  2.80it/s]\n"
     ]
    },
    {
     "data": {
      "application/vnd.microsoft.datawrangler.viewer.v0+json": {
       "columns": [
        {
         "name": "index",
         "rawType": "int64",
         "type": "integer"
        },
        {
         "name": "dataset",
         "rawType": "object",
         "type": "string"
        },
        {
         "name": "bacc",
         "rawType": "float64",
         "type": "float"
        },
        {
         "name": "kappa",
         "rawType": "float64",
         "type": "float"
        },
        {
         "name": "precision",
         "rawType": "float64",
         "type": "float"
        },
        {
         "name": "recall",
         "rawType": "float64",
         "type": "float"
        },
        {
         "name": "f1",
         "rawType": "float64",
         "type": "float"
        },
        {
         "name": "fnr",
         "rawType": "float64",
         "type": "float"
        }
       ],
       "ref": "173c3593-4b9b-444b-9597-b2d7813b784c",
       "rows": [
        [
         "0",
         "Bioresponse",
         "0.5",
         "0.0",
         "0.7647058823529411",
         "1.0",
         "0.8666666666666667",
         "0.0"
        ],
        [
         "1",
         "churn",
         "0.625",
         "0.33766233766233766",
         "0.8125",
         "1.0",
         "0.896551724137931",
         "0.0"
        ],
        [
         "2",
         "cmc",
         "1.0",
         "1.0",
         "1.0",
         "1.0",
         "1.0",
         "0.0"
        ],
        [
         "3",
         "cnae-9",
         "0.9615384615384616",
         "0.8495575221238938",
         "1.0",
         "0.9230769230769231",
         "0.96",
         "0.07692307692307693"
        ],
        [
         "4",
         "dna",
         "0.9615384615384616",
         "0.8495575221238938",
         "1.0",
         "0.9230769230769231",
         "0.96",
         "0.07692307692307693"
        ],
        [
         "5",
         "har",
         "0.9230769230769231",
         "0.721311475409836",
         "1.0",
         "0.8461538461538461",
         "0.9166666666666666",
         "0.15384615384615385"
        ],
        [
         "6",
         "madelon",
         "0.5",
         "0.0",
         "0.75",
         "1.0",
         "0.8571428571428571",
         "0.0"
        ],
        [
         "7",
         "mfeat-factors",
         "1.0",
         "1.0",
         "1.0",
         "1.0",
         "1.0",
         "0.0"
        ],
        [
         "8",
         "mfeat-fourier",
         "0.875",
         "0.8210526315789474",
         "0.9285714285714286",
         "1.0",
         "0.9629629629629629",
         "0.0"
        ],
        [
         "9",
         "mfeat-karhunen",
         "1.0",
         "1.0",
         "1.0",
         "1.0",
         "1.0",
         "0.0"
        ],
        [
         "10",
         "mfeat-zernike",
         "1.0",
         "1.0",
         "1.0",
         "1.0",
         "1.0",
         "0.0"
        ],
        [
         "11",
         "nomao",
         "1.0",
         "1.0",
         "1.0",
         "1.0",
         "1.0",
         "0.0"
        ],
        [
         "12",
         "optdigits",
         "1.0",
         "1.0",
         "1.0",
         "1.0",
         "1.0",
         "0.0"
        ],
        [
         "13",
         "pendigits",
         "1.0",
         "1.0",
         "1.0",
         "1.0",
         "1.0",
         "0.0"
        ],
        [
         "14",
         "phoneme",
         "0.5",
         "0.0",
         "0.7647058823529411",
         "1.0",
         "0.8666666666666667",
         "0.0"
        ],
        [
         "15",
         "qsar-biodeg",
         "0.625",
         "0.33766233766233766",
         "0.8125",
         "1.0",
         "0.896551724137931",
         "0.0"
        ],
        [
         "16",
         "satimage",
         "1.0",
         "1.0",
         "1.0",
         "1.0",
         "1.0",
         "0.0"
        ],
        [
         "17",
         "semeion",
         "0.8076923076923077",
         "0.4295302013422819",
         "1.0",
         "0.6153846153846154",
         "0.7619047619047619",
         "0.38461538461538464"
        ],
        [
         "18",
         "spambase",
         "1.0",
         "1.0",
         "1.0",
         "1.0",
         "1.0",
         "0.0"
        ],
        [
         "19",
         "wall-robot-navigation",
         "1.0",
         "1.0",
         "1.0",
         "1.0",
         "1.0",
         "0.0"
        ],
        [
         "20",
         "wdbc",
         "1.0",
         "1.0",
         "1.0",
         "1.0",
         "1.0",
         "0.0"
        ],
        [
         "21",
         "wilt",
         "0.5096153846153846",
         "0.019230769230769162",
         "0.7692307692307693",
         "0.7692307692307693",
         "0.7692307692307693",
         "0.23076923076923078"
        ]
       ],
       "shape": {
        "columns": 7,
        "rows": 22
       }
      },
      "text/html": [
       "<div>\n",
       "<style scoped>\n",
       "    .dataframe tbody tr th:only-of-type {\n",
       "        vertical-align: middle;\n",
       "    }\n",
       "\n",
       "    .dataframe tbody tr th {\n",
       "        vertical-align: top;\n",
       "    }\n",
       "\n",
       "    .dataframe thead th {\n",
       "        text-align: right;\n",
       "    }\n",
       "</style>\n",
       "<table border=\"1\" class=\"dataframe\">\n",
       "  <thead>\n",
       "    <tr style=\"text-align: right;\">\n",
       "      <th></th>\n",
       "      <th>dataset</th>\n",
       "      <th>bacc</th>\n",
       "      <th>kappa</th>\n",
       "      <th>precision</th>\n",
       "      <th>recall</th>\n",
       "      <th>f1</th>\n",
       "      <th>fnr</th>\n",
       "    </tr>\n",
       "  </thead>\n",
       "  <tbody>\n",
       "    <tr>\n",
       "      <th>0</th>\n",
       "      <td>Bioresponse</td>\n",
       "      <td>0.500000</td>\n",
       "      <td>0.000000</td>\n",
       "      <td>0.764706</td>\n",
       "      <td>1.000000</td>\n",
       "      <td>0.866667</td>\n",
       "      <td>0.000000</td>\n",
       "    </tr>\n",
       "    <tr>\n",
       "      <th>1</th>\n",
       "      <td>churn</td>\n",
       "      <td>0.625000</td>\n",
       "      <td>0.337662</td>\n",
       "      <td>0.812500</td>\n",
       "      <td>1.000000</td>\n",
       "      <td>0.896552</td>\n",
       "      <td>0.000000</td>\n",
       "    </tr>\n",
       "    <tr>\n",
       "      <th>2</th>\n",
       "      <td>cmc</td>\n",
       "      <td>1.000000</td>\n",
       "      <td>1.000000</td>\n",
       "      <td>1.000000</td>\n",
       "      <td>1.000000</td>\n",
       "      <td>1.000000</td>\n",
       "      <td>0.000000</td>\n",
       "    </tr>\n",
       "    <tr>\n",
       "      <th>3</th>\n",
       "      <td>cnae-9</td>\n",
       "      <td>0.961538</td>\n",
       "      <td>0.849558</td>\n",
       "      <td>1.000000</td>\n",
       "      <td>0.923077</td>\n",
       "      <td>0.960000</td>\n",
       "      <td>0.076923</td>\n",
       "    </tr>\n",
       "    <tr>\n",
       "      <th>4</th>\n",
       "      <td>dna</td>\n",
       "      <td>0.961538</td>\n",
       "      <td>0.849558</td>\n",
       "      <td>1.000000</td>\n",
       "      <td>0.923077</td>\n",
       "      <td>0.960000</td>\n",
       "      <td>0.076923</td>\n",
       "    </tr>\n",
       "    <tr>\n",
       "      <th>5</th>\n",
       "      <td>har</td>\n",
       "      <td>0.923077</td>\n",
       "      <td>0.721311</td>\n",
       "      <td>1.000000</td>\n",
       "      <td>0.846154</td>\n",
       "      <td>0.916667</td>\n",
       "      <td>0.153846</td>\n",
       "    </tr>\n",
       "    <tr>\n",
       "      <th>6</th>\n",
       "      <td>madelon</td>\n",
       "      <td>0.500000</td>\n",
       "      <td>0.000000</td>\n",
       "      <td>0.750000</td>\n",
       "      <td>1.000000</td>\n",
       "      <td>0.857143</td>\n",
       "      <td>0.000000</td>\n",
       "    </tr>\n",
       "    <tr>\n",
       "      <th>7</th>\n",
       "      <td>mfeat-factors</td>\n",
       "      <td>1.000000</td>\n",
       "      <td>1.000000</td>\n",
       "      <td>1.000000</td>\n",
       "      <td>1.000000</td>\n",
       "      <td>1.000000</td>\n",
       "      <td>0.000000</td>\n",
       "    </tr>\n",
       "    <tr>\n",
       "      <th>8</th>\n",
       "      <td>mfeat-fourier</td>\n",
       "      <td>0.875000</td>\n",
       "      <td>0.821053</td>\n",
       "      <td>0.928571</td>\n",
       "      <td>1.000000</td>\n",
       "      <td>0.962963</td>\n",
       "      <td>0.000000</td>\n",
       "    </tr>\n",
       "    <tr>\n",
       "      <th>9</th>\n",
       "      <td>mfeat-karhunen</td>\n",
       "      <td>1.000000</td>\n",
       "      <td>1.000000</td>\n",
       "      <td>1.000000</td>\n",
       "      <td>1.000000</td>\n",
       "      <td>1.000000</td>\n",
       "      <td>0.000000</td>\n",
       "    </tr>\n",
       "    <tr>\n",
       "      <th>10</th>\n",
       "      <td>mfeat-zernike</td>\n",
       "      <td>1.000000</td>\n",
       "      <td>1.000000</td>\n",
       "      <td>1.000000</td>\n",
       "      <td>1.000000</td>\n",
       "      <td>1.000000</td>\n",
       "      <td>0.000000</td>\n",
       "    </tr>\n",
       "    <tr>\n",
       "      <th>11</th>\n",
       "      <td>nomao</td>\n",
       "      <td>1.000000</td>\n",
       "      <td>1.000000</td>\n",
       "      <td>1.000000</td>\n",
       "      <td>1.000000</td>\n",
       "      <td>1.000000</td>\n",
       "      <td>0.000000</td>\n",
       "    </tr>\n",
       "    <tr>\n",
       "      <th>12</th>\n",
       "      <td>optdigits</td>\n",
       "      <td>1.000000</td>\n",
       "      <td>1.000000</td>\n",
       "      <td>1.000000</td>\n",
       "      <td>1.000000</td>\n",
       "      <td>1.000000</td>\n",
       "      <td>0.000000</td>\n",
       "    </tr>\n",
       "    <tr>\n",
       "      <th>13</th>\n",
       "      <td>pendigits</td>\n",
       "      <td>1.000000</td>\n",
       "      <td>1.000000</td>\n",
       "      <td>1.000000</td>\n",
       "      <td>1.000000</td>\n",
       "      <td>1.000000</td>\n",
       "      <td>0.000000</td>\n",
       "    </tr>\n",
       "    <tr>\n",
       "      <th>14</th>\n",
       "      <td>phoneme</td>\n",
       "      <td>0.500000</td>\n",
       "      <td>0.000000</td>\n",
       "      <td>0.764706</td>\n",
       "      <td>1.000000</td>\n",
       "      <td>0.866667</td>\n",
       "      <td>0.000000</td>\n",
       "    </tr>\n",
       "    <tr>\n",
       "      <th>15</th>\n",
       "      <td>qsar-biodeg</td>\n",
       "      <td>0.625000</td>\n",
       "      <td>0.337662</td>\n",
       "      <td>0.812500</td>\n",
       "      <td>1.000000</td>\n",
       "      <td>0.896552</td>\n",
       "      <td>0.000000</td>\n",
       "    </tr>\n",
       "    <tr>\n",
       "      <th>16</th>\n",
       "      <td>satimage</td>\n",
       "      <td>1.000000</td>\n",
       "      <td>1.000000</td>\n",
       "      <td>1.000000</td>\n",
       "      <td>1.000000</td>\n",
       "      <td>1.000000</td>\n",
       "      <td>0.000000</td>\n",
       "    </tr>\n",
       "    <tr>\n",
       "      <th>17</th>\n",
       "      <td>semeion</td>\n",
       "      <td>0.807692</td>\n",
       "      <td>0.429530</td>\n",
       "      <td>1.000000</td>\n",
       "      <td>0.615385</td>\n",
       "      <td>0.761905</td>\n",
       "      <td>0.384615</td>\n",
       "    </tr>\n",
       "    <tr>\n",
       "      <th>18</th>\n",
       "      <td>spambase</td>\n",
       "      <td>1.000000</td>\n",
       "      <td>1.000000</td>\n",
       "      <td>1.000000</td>\n",
       "      <td>1.000000</td>\n",
       "      <td>1.000000</td>\n",
       "      <td>0.000000</td>\n",
       "    </tr>\n",
       "    <tr>\n",
       "      <th>19</th>\n",
       "      <td>wall-robot-navigation</td>\n",
       "      <td>1.000000</td>\n",
       "      <td>1.000000</td>\n",
       "      <td>1.000000</td>\n",
       "      <td>1.000000</td>\n",
       "      <td>1.000000</td>\n",
       "      <td>0.000000</td>\n",
       "    </tr>\n",
       "    <tr>\n",
       "      <th>20</th>\n",
       "      <td>wdbc</td>\n",
       "      <td>1.000000</td>\n",
       "      <td>1.000000</td>\n",
       "      <td>1.000000</td>\n",
       "      <td>1.000000</td>\n",
       "      <td>1.000000</td>\n",
       "      <td>0.000000</td>\n",
       "    </tr>\n",
       "    <tr>\n",
       "      <th>21</th>\n",
       "      <td>wilt</td>\n",
       "      <td>0.509615</td>\n",
       "      <td>0.019231</td>\n",
       "      <td>0.769231</td>\n",
       "      <td>0.769231</td>\n",
       "      <td>0.769231</td>\n",
       "      <td>0.230769</td>\n",
       "    </tr>\n",
       "  </tbody>\n",
       "</table>\n",
       "</div>"
      ],
      "text/plain": [
       "                  dataset      bacc     kappa  precision    recall        f1  \\\n",
       "0             Bioresponse  0.500000  0.000000   0.764706  1.000000  0.866667   \n",
       "1                   churn  0.625000  0.337662   0.812500  1.000000  0.896552   \n",
       "2                     cmc  1.000000  1.000000   1.000000  1.000000  1.000000   \n",
       "3                  cnae-9  0.961538  0.849558   1.000000  0.923077  0.960000   \n",
       "4                     dna  0.961538  0.849558   1.000000  0.923077  0.960000   \n",
       "5                     har  0.923077  0.721311   1.000000  0.846154  0.916667   \n",
       "6                 madelon  0.500000  0.000000   0.750000  1.000000  0.857143   \n",
       "7           mfeat-factors  1.000000  1.000000   1.000000  1.000000  1.000000   \n",
       "8           mfeat-fourier  0.875000  0.821053   0.928571  1.000000  0.962963   \n",
       "9          mfeat-karhunen  1.000000  1.000000   1.000000  1.000000  1.000000   \n",
       "10          mfeat-zernike  1.000000  1.000000   1.000000  1.000000  1.000000   \n",
       "11                  nomao  1.000000  1.000000   1.000000  1.000000  1.000000   \n",
       "12              optdigits  1.000000  1.000000   1.000000  1.000000  1.000000   \n",
       "13              pendigits  1.000000  1.000000   1.000000  1.000000  1.000000   \n",
       "14                phoneme  0.500000  0.000000   0.764706  1.000000  0.866667   \n",
       "15            qsar-biodeg  0.625000  0.337662   0.812500  1.000000  0.896552   \n",
       "16               satimage  1.000000  1.000000   1.000000  1.000000  1.000000   \n",
       "17                semeion  0.807692  0.429530   1.000000  0.615385  0.761905   \n",
       "18               spambase  1.000000  1.000000   1.000000  1.000000  1.000000   \n",
       "19  wall-robot-navigation  1.000000  1.000000   1.000000  1.000000  1.000000   \n",
       "20                   wdbc  1.000000  1.000000   1.000000  1.000000  1.000000   \n",
       "21                   wilt  0.509615  0.019231   0.769231  0.769231  0.769231   \n",
       "\n",
       "         fnr  \n",
       "0   0.000000  \n",
       "1   0.000000  \n",
       "2   0.000000  \n",
       "3   0.076923  \n",
       "4   0.076923  \n",
       "5   0.153846  \n",
       "6   0.000000  \n",
       "7   0.000000  \n",
       "8   0.000000  \n",
       "9   0.000000  \n",
       "10  0.000000  \n",
       "11  0.000000  \n",
       "12  0.000000  \n",
       "13  0.000000  \n",
       "14  0.000000  \n",
       "15  0.000000  \n",
       "16  0.000000  \n",
       "17  0.384615  \n",
       "18  0.000000  \n",
       "19  0.000000  \n",
       "20  0.000000  \n",
       "21  0.230769  "
      ]
     },
     "execution_count": 20,
     "metadata": {},
     "output_type": "execute_result"
    }
   ],
   "source": [
    "one_dataset_out_rf, one_dataset_out_fi_rf = leave_dataset_out(model=RandomForestClassifier(random_state=123))\n",
    "one_dataset_out_rf"
   ]
  },
  {
   "cell_type": "markdown",
   "metadata": {},
   "source": [
    "### Hyperparameters tuning"
   ]
  },
  {
   "cell_type": "code",
   "execution_count": 21,
   "metadata": {},
   "outputs": [
    {
     "name": "stderr",
     "output_type": "stream",
     "text": [
      "100%|██████████| 22/22 [00:05<00:00,  4.21it/s]\n"
     ]
    },
    {
     "name": "stdout",
     "output_type": "stream",
     "text": [
      "kappa = 0.6984347635061045, params: {'max_depth': 50, 'min_samples_split': 2, 'n_estimators': 100}\n"
     ]
    },
    {
     "name": "stderr",
     "output_type": "stream",
     "text": [
      "100%|██████████| 22/22 [00:10<00:00,  2.14it/s]\n"
     ]
    },
    {
     "name": "stdout",
     "output_type": "stream",
     "text": [
      "kappa = 0.6632669948306928, params: {'max_depth': 50, 'min_samples_split': 2, 'n_estimators': 200}\n"
     ]
    },
    {
     "name": "stderr",
     "output_type": "stream",
     "text": [
      "100%|██████████| 22/22 [00:33<00:00,  1.54s/it]\n"
     ]
    },
    {
     "name": "stdout",
     "output_type": "stream",
     "text": [
      "kappa = 0.6786152829062536, params: {'max_depth': 50, 'min_samples_split': 2, 'n_estimators': 500}\n"
     ]
    },
    {
     "name": "stderr",
     "output_type": "stream",
     "text": [
      "100%|██████████| 22/22 [00:11<00:00,  1.86it/s]\n"
     ]
    },
    {
     "name": "stdout",
     "output_type": "stream",
     "text": [
      "kappa = 0.6697134847848255, params: {'max_depth': 50, 'min_samples_split': 5, 'n_estimators': 100}\n"
     ]
    },
    {
     "name": "stderr",
     "output_type": "stream",
     "text": [
      "100%|██████████| 22/22 [00:12<00:00,  1.73it/s]\n"
     ]
    },
    {
     "name": "stdout",
     "output_type": "stream",
     "text": [
      "kappa = 0.6794880653839305, params: {'max_depth': 50, 'min_samples_split': 5, 'n_estimators': 200}\n"
     ]
    },
    {
     "name": "stderr",
     "output_type": "stream",
     "text": [
      "100%|██████████| 22/22 [00:25<00:00,  1.14s/it]\n"
     ]
    },
    {
     "name": "stdout",
     "output_type": "stream",
     "text": [
      "kappa = 0.6786152829062536, params: {'max_depth': 50, 'min_samples_split': 5, 'n_estimators': 500}\n"
     ]
    },
    {
     "name": "stderr",
     "output_type": "stream",
     "text": [
      "100%|██████████| 22/22 [00:05<00:00,  4.37it/s]\n"
     ]
    },
    {
     "name": "stdout",
     "output_type": "stream",
     "text": [
      "kappa = 0.6939635709818144, params: {'max_depth': 50, 'min_samples_split': 8, 'n_estimators': 100}\n"
     ]
    },
    {
     "name": "stderr",
     "output_type": "stream",
     "text": [
      "100%|██████████| 22/22 [00:09<00:00,  2.23it/s]\n"
     ]
    },
    {
     "name": "stdout",
     "output_type": "stream",
     "text": [
      "kappa = 0.6632669948306928, params: {'max_depth': 50, 'min_samples_split': 8, 'n_estimators': 200}\n"
     ]
    },
    {
     "name": "stderr",
     "output_type": "stream",
     "text": [
      "100%|██████████| 22/22 [00:17<00:00,  1.25it/s]\n"
     ]
    },
    {
     "name": "stdout",
     "output_type": "stream",
     "text": [
      "kappa = 0.6632669948306928, params: {'max_depth': 50, 'min_samples_split': 8, 'n_estimators': 500}\n"
     ]
    },
    {
     "name": "stderr",
     "output_type": "stream",
     "text": [
      "100%|██████████| 22/22 [00:04<00:00,  5.16it/s]\n"
     ]
    },
    {
     "name": "stdout",
     "output_type": "stream",
     "text": [
      "kappa = 0.6984347635061045, params: {'max_depth': 80, 'min_samples_split': 2, 'n_estimators': 100}\n"
     ]
    },
    {
     "name": "stderr",
     "output_type": "stream",
     "text": [
      "100%|██████████| 22/22 [00:09<00:00,  2.39it/s]\n"
     ]
    },
    {
     "name": "stdout",
     "output_type": "stream",
     "text": [
      "kappa = 0.6632669948306928, params: {'max_depth': 80, 'min_samples_split': 2, 'n_estimators': 200}\n"
     ]
    },
    {
     "name": "stderr",
     "output_type": "stream",
     "text": [
      "100%|██████████| 22/22 [00:30<00:00,  1.41s/it]\n"
     ]
    },
    {
     "name": "stdout",
     "output_type": "stream",
     "text": [
      "kappa = 0.6786152829062536, params: {'max_depth': 80, 'min_samples_split': 2, 'n_estimators': 500}\n"
     ]
    },
    {
     "name": "stderr",
     "output_type": "stream",
     "text": [
      "100%|██████████| 22/22 [00:05<00:00,  3.74it/s]\n"
     ]
    },
    {
     "name": "stdout",
     "output_type": "stream",
     "text": [
      "kappa = 0.6697134847848255, params: {'max_depth': 80, 'min_samples_split': 5, 'n_estimators': 100}\n"
     ]
    },
    {
     "name": "stderr",
     "output_type": "stream",
     "text": [
      "100%|██████████| 22/22 [00:08<00:00,  2.47it/s]\n"
     ]
    },
    {
     "name": "stdout",
     "output_type": "stream",
     "text": [
      "kappa = 0.6794880653839305, params: {'max_depth': 80, 'min_samples_split': 5, 'n_estimators': 200}\n"
     ]
    },
    {
     "name": "stderr",
     "output_type": "stream",
     "text": [
      "100%|██████████| 22/22 [00:19<00:00,  1.11it/s]\n"
     ]
    },
    {
     "name": "stdout",
     "output_type": "stream",
     "text": [
      "kappa = 0.6786152829062536, params: {'max_depth': 80, 'min_samples_split': 5, 'n_estimators': 500}\n"
     ]
    },
    {
     "name": "stderr",
     "output_type": "stream",
     "text": [
      "100%|██████████| 22/22 [00:04<00:00,  4.50it/s]\n"
     ]
    },
    {
     "name": "stdout",
     "output_type": "stream",
     "text": [
      "kappa = 0.6939635709818144, params: {'max_depth': 80, 'min_samples_split': 8, 'n_estimators': 100}\n"
     ]
    },
    {
     "name": "stderr",
     "output_type": "stream",
     "text": [
      "100%|██████████| 22/22 [00:08<00:00,  2.67it/s]\n"
     ]
    },
    {
     "name": "stdout",
     "output_type": "stream",
     "text": [
      "kappa = 0.6632669948306928, params: {'max_depth': 80, 'min_samples_split': 8, 'n_estimators': 200}\n"
     ]
    },
    {
     "name": "stderr",
     "output_type": "stream",
     "text": [
      "100%|██████████| 22/22 [00:21<00:00,  1.00it/s]\n"
     ]
    },
    {
     "name": "stdout",
     "output_type": "stream",
     "text": [
      "kappa = 0.6632669948306928, params: {'max_depth': 80, 'min_samples_split': 8, 'n_estimators': 500}\n"
     ]
    },
    {
     "name": "stderr",
     "output_type": "stream",
     "text": [
      "100%|██████████| 22/22 [00:05<00:00,  4.21it/s]\n"
     ]
    },
    {
     "name": "stdout",
     "output_type": "stream",
     "text": [
      "kappa = 0.6984347635061045, params: {'max_depth': 110, 'min_samples_split': 2, 'n_estimators': 100}\n"
     ]
    },
    {
     "name": "stderr",
     "output_type": "stream",
     "text": [
      "100%|██████████| 22/22 [00:10<00:00,  2.15it/s]\n"
     ]
    },
    {
     "name": "stdout",
     "output_type": "stream",
     "text": [
      "kappa = 0.6632669948306928, params: {'max_depth': 110, 'min_samples_split': 2, 'n_estimators': 200}\n"
     ]
    },
    {
     "name": "stderr",
     "output_type": "stream",
     "text": [
      "100%|██████████| 22/22 [00:33<00:00,  1.51s/it]\n"
     ]
    },
    {
     "name": "stdout",
     "output_type": "stream",
     "text": [
      "kappa = 0.6786152829062536, params: {'max_depth': 110, 'min_samples_split': 2, 'n_estimators': 500}\n"
     ]
    },
    {
     "name": "stderr",
     "output_type": "stream",
     "text": [
      "100%|██████████| 22/22 [00:05<00:00,  3.76it/s]\n"
     ]
    },
    {
     "name": "stdout",
     "output_type": "stream",
     "text": [
      "kappa = 0.6697134847848255, params: {'max_depth': 110, 'min_samples_split': 5, 'n_estimators': 100}\n"
     ]
    },
    {
     "name": "stderr",
     "output_type": "stream",
     "text": [
      "100%|██████████| 22/22 [00:10<00:00,  2.10it/s]\n"
     ]
    },
    {
     "name": "stdout",
     "output_type": "stream",
     "text": [
      "kappa = 0.6794880653839305, params: {'max_depth': 110, 'min_samples_split': 5, 'n_estimators': 200}\n"
     ]
    },
    {
     "name": "stderr",
     "output_type": "stream",
     "text": [
      "100%|██████████| 22/22 [00:23<00:00,  1.08s/it]\n"
     ]
    },
    {
     "name": "stdout",
     "output_type": "stream",
     "text": [
      "kappa = 0.6786152829062536, params: {'max_depth': 110, 'min_samples_split': 5, 'n_estimators': 500}\n"
     ]
    },
    {
     "name": "stderr",
     "output_type": "stream",
     "text": [
      "100%|██████████| 22/22 [00:05<00:00,  4.27it/s]\n"
     ]
    },
    {
     "name": "stdout",
     "output_type": "stream",
     "text": [
      "kappa = 0.6939635709818144, params: {'max_depth': 110, 'min_samples_split': 8, 'n_estimators': 100}\n"
     ]
    },
    {
     "name": "stderr",
     "output_type": "stream",
     "text": [
      "100%|██████████| 22/22 [00:09<00:00,  2.43it/s]\n"
     ]
    },
    {
     "name": "stdout",
     "output_type": "stream",
     "text": [
      "kappa = 0.6632669948306928, params: {'max_depth': 110, 'min_samples_split': 8, 'n_estimators': 200}\n"
     ]
    },
    {
     "name": "stderr",
     "output_type": "stream",
     "text": [
      "100%|██████████| 22/22 [00:21<00:00,  1.03it/s]"
     ]
    },
    {
     "name": "stdout",
     "output_type": "stream",
     "text": [
      "kappa = 0.6632669948306928, params: {'max_depth': 110, 'min_samples_split': 8, 'n_estimators': 500}\n",
      "Params: {'max_depth': 50, 'min_samples_split': 2, 'n_estimators': 100} give best kappa equal 0.6984347635061045\n"
     ]
    },
    {
     "name": "stderr",
     "output_type": "stream",
     "text": [
      "\n"
     ]
    }
   ],
   "source": [
    "model=RandomForestClassifier(random_state=123)\n",
    "\n",
    "param_grid = {\n",
    "    'max_depth': [50, 80, 110],\n",
    "    'min_samples_split': [2, 5, 8],\n",
    "    'n_estimators': [100, 200, 500]\n",
    "}\n",
    "\n",
    "one_dataset_out_rf, one_dataset_out_fi_rf = create_hyperparams_grid(model=model, param_grid=param_grid, exp_function=leave_dataset_out, crit=\"kappa\")"
   ]
  },
  {
   "cell_type": "code",
   "execution_count": 22,
   "metadata": {},
   "outputs": [
    {
     "data": {
      "application/vnd.microsoft.datawrangler.viewer.v0+json": {
       "columns": [
        {
         "name": "index",
         "rawType": "object",
         "type": "string"
        },
        {
         "name": "bacc",
         "rawType": "float64",
         "type": "float"
        },
        {
         "name": "precision",
         "rawType": "float64",
         "type": "float"
        },
        {
         "name": "recall",
         "rawType": "float64",
         "type": "float"
        },
        {
         "name": "f1",
         "rawType": "float64",
         "type": "float"
        },
        {
         "name": "fnr",
         "rawType": "float64",
         "type": "float"
        }
       ],
       "ref": "37d6c2ff-e713-4c5b-8a8f-07097f321a20",
       "rows": [
        [
         "mean",
         "0.854020979020979",
         "0.9364642710230946",
         "0.9580419580419582",
         "0.9415611272507824",
         "0.04195804195804196"
        ],
        [
         "std",
         "0.20288312595230334",
         "0.10073214539630189",
         "0.0970900147540029",
         "0.07674774280798274",
         "0.09709001475400293"
        ]
       ],
       "shape": {
        "columns": 5,
        "rows": 2
       }
      },
      "text/html": [
       "<div>\n",
       "<style scoped>\n",
       "    .dataframe tbody tr th:only-of-type {\n",
       "        vertical-align: middle;\n",
       "    }\n",
       "\n",
       "    .dataframe tbody tr th {\n",
       "        vertical-align: top;\n",
       "    }\n",
       "\n",
       "    .dataframe thead th {\n",
       "        text-align: right;\n",
       "    }\n",
       "</style>\n",
       "<table border=\"1\" class=\"dataframe\">\n",
       "  <thead>\n",
       "    <tr style=\"text-align: right;\">\n",
       "      <th></th>\n",
       "      <th>bacc</th>\n",
       "      <th>precision</th>\n",
       "      <th>recall</th>\n",
       "      <th>f1</th>\n",
       "      <th>fnr</th>\n",
       "    </tr>\n",
       "  </thead>\n",
       "  <tbody>\n",
       "    <tr>\n",
       "      <th>mean</th>\n",
       "      <td>0.854021</td>\n",
       "      <td>0.936464</td>\n",
       "      <td>0.958042</td>\n",
       "      <td>0.941561</td>\n",
       "      <td>0.041958</td>\n",
       "    </tr>\n",
       "    <tr>\n",
       "      <th>std</th>\n",
       "      <td>0.202883</td>\n",
       "      <td>0.100732</td>\n",
       "      <td>0.097090</td>\n",
       "      <td>0.076748</td>\n",
       "      <td>0.097090</td>\n",
       "    </tr>\n",
       "  </tbody>\n",
       "</table>\n",
       "</div>"
      ],
      "text/plain": [
       "          bacc  precision    recall        f1       fnr\n",
       "mean  0.854021   0.936464  0.958042  0.941561  0.041958\n",
       "std   0.202883   0.100732  0.097090  0.076748  0.097090"
      ]
     },
     "execution_count": 22,
     "metadata": {},
     "output_type": "execute_result"
    }
   ],
   "source": [
    "one_dataset_out_rf[[\"bacc\", \"precision\", \"recall\", \"f1\", \"fnr\"]].agg(['mean', 'std'])"
   ]
  },
  {
   "cell_type": "code",
   "execution_count": 23,
   "metadata": {},
   "outputs": [
    {
     "name": "stdout",
     "output_type": "stream",
     "text": [
      "\\begin{tabular}{lllll}\n",
      "\\toprule\n",
      "bacc & precision & recall & f1 & fnr \\\\\n",
      "\\midrule\n",
      "0.85 (0.20) & 0.94 (0.10) & 0.96 (0.10) & 0.94 (0.08) & 0.04 (0.10) \\\\\n",
      "\\bottomrule\n",
      "\\end{tabular}\n",
      "\n"
     ]
    }
   ],
   "source": [
    "format_mean_std(one_dataset_out_rf)"
   ]
  },
  {
   "cell_type": "code",
   "execution_count": 24,
   "metadata": {},
   "outputs": [
    {
     "data": {
      "application/vnd.microsoft.datawrangler.viewer.v0+json": {
       "columns": [
        {
         "name": "var",
         "rawType": "object",
         "type": "string"
        },
        {
         "name": "fi_rank_mean",
         "rawType": "float64",
         "type": "float"
        }
       ],
       "ref": "45586973-f411-475e-921e-21e321b48671",
       "rows": [
        [
         "target_approx_consistency_in_neighborhood_q50",
         "1.0454545454545454"
        ],
        [
         "target_approx_consistency_in_neighborhood_q25",
         "1.9545454545454546"
        ],
        [
         "target_approx_consistency_in_neighborhood_mean",
         "3.3181818181818183"
        ],
        [
         "pred_targets_consistency_in_neighborhood_mean",
         "5.454545454545454"
        ],
        [
         "pred_targets_consistency_in_neighborhood_q50",
         "7.181818181818182"
        ],
        [
         "pred_targets_consistency_in_neighborhood_q25",
         "7.545454545454546"
        ],
        [
         "target_diversity_in_neighborhood_q75",
         "8.0"
        ],
        [
         "pred_targets_consistency_in_neighborhood_minmax",
         "8.545454545454545"
        ],
        [
         "pred_targets_consistency_in_neighborhood_q0",
         "10.363636363636363"
        ],
        [
         "target_targets_consistency_in_neighborhood_q50",
         "10.545454545454545"
        ],
        [
         "target_diversity_in_neighborhood_mean",
         "11.0"
        ],
        [
         "target_approx_consistency_in_neighborhood_q75",
         "11.727272727272727"
        ],
        [
         "uncertainty_q25",
         "12.818181818181818"
        ],
        [
         "approx_diversity_in_neighborhood_mean",
         "14.045454545454545"
        ],
        [
         "approx_diversity_in_neighborhood_q50",
         "15.318181818181818"
        ],
        [
         "target_targets_consistency_in_neighborhood_q25",
         "15.727272727272727"
        ],
        [
         "target_diversity_in_neighborhood_q50",
         "15.909090909090908"
        ],
        [
         "target_targets_consistency_in_neighborhood_mean",
         "16.772727272727273"
        ],
        [
         "uncertainty_q75",
         "17.90909090909091"
        ],
        [
         "approx_diversity_in_neighborhood_q75",
         "19.636363636363637"
        ]
       ],
       "shape": {
        "columns": 1,
        "rows": 20
       }
      },
      "text/html": [
       "<div>\n",
       "<style scoped>\n",
       "    .dataframe tbody tr th:only-of-type {\n",
       "        vertical-align: middle;\n",
       "    }\n",
       "\n",
       "    .dataframe tbody tr th {\n",
       "        vertical-align: top;\n",
       "    }\n",
       "\n",
       "    .dataframe thead th {\n",
       "        text-align: right;\n",
       "    }\n",
       "</style>\n",
       "<table border=\"1\" class=\"dataframe\">\n",
       "  <thead>\n",
       "    <tr style=\"text-align: right;\">\n",
       "      <th></th>\n",
       "      <th>fi_rank_mean</th>\n",
       "    </tr>\n",
       "    <tr>\n",
       "      <th>var</th>\n",
       "      <th></th>\n",
       "    </tr>\n",
       "  </thead>\n",
       "  <tbody>\n",
       "    <tr>\n",
       "      <th>target_approx_consistency_in_neighborhood_q50</th>\n",
       "      <td>1.045455</td>\n",
       "    </tr>\n",
       "    <tr>\n",
       "      <th>target_approx_consistency_in_neighborhood_q25</th>\n",
       "      <td>1.954545</td>\n",
       "    </tr>\n",
       "    <tr>\n",
       "      <th>target_approx_consistency_in_neighborhood_mean</th>\n",
       "      <td>3.318182</td>\n",
       "    </tr>\n",
       "    <tr>\n",
       "      <th>pred_targets_consistency_in_neighborhood_mean</th>\n",
       "      <td>5.454545</td>\n",
       "    </tr>\n",
       "    <tr>\n",
       "      <th>pred_targets_consistency_in_neighborhood_q50</th>\n",
       "      <td>7.181818</td>\n",
       "    </tr>\n",
       "    <tr>\n",
       "      <th>pred_targets_consistency_in_neighborhood_q25</th>\n",
       "      <td>7.545455</td>\n",
       "    </tr>\n",
       "    <tr>\n",
       "      <th>target_diversity_in_neighborhood_q75</th>\n",
       "      <td>8.000000</td>\n",
       "    </tr>\n",
       "    <tr>\n",
       "      <th>pred_targets_consistency_in_neighborhood_minmax</th>\n",
       "      <td>8.545455</td>\n",
       "    </tr>\n",
       "    <tr>\n",
       "      <th>pred_targets_consistency_in_neighborhood_q0</th>\n",
       "      <td>10.363636</td>\n",
       "    </tr>\n",
       "    <tr>\n",
       "      <th>target_targets_consistency_in_neighborhood_q50</th>\n",
       "      <td>10.545455</td>\n",
       "    </tr>\n",
       "    <tr>\n",
       "      <th>target_diversity_in_neighborhood_mean</th>\n",
       "      <td>11.000000</td>\n",
       "    </tr>\n",
       "    <tr>\n",
       "      <th>target_approx_consistency_in_neighborhood_q75</th>\n",
       "      <td>11.727273</td>\n",
       "    </tr>\n",
       "    <tr>\n",
       "      <th>uncertainty_q25</th>\n",
       "      <td>12.818182</td>\n",
       "    </tr>\n",
       "    <tr>\n",
       "      <th>approx_diversity_in_neighborhood_mean</th>\n",
       "      <td>14.045455</td>\n",
       "    </tr>\n",
       "    <tr>\n",
       "      <th>approx_diversity_in_neighborhood_q50</th>\n",
       "      <td>15.318182</td>\n",
       "    </tr>\n",
       "    <tr>\n",
       "      <th>target_targets_consistency_in_neighborhood_q25</th>\n",
       "      <td>15.727273</td>\n",
       "    </tr>\n",
       "    <tr>\n",
       "      <th>target_diversity_in_neighborhood_q50</th>\n",
       "      <td>15.909091</td>\n",
       "    </tr>\n",
       "    <tr>\n",
       "      <th>target_targets_consistency_in_neighborhood_mean</th>\n",
       "      <td>16.772727</td>\n",
       "    </tr>\n",
       "    <tr>\n",
       "      <th>uncertainty_q75</th>\n",
       "      <td>17.909091</td>\n",
       "    </tr>\n",
       "    <tr>\n",
       "      <th>approx_diversity_in_neighborhood_q75</th>\n",
       "      <td>19.636364</td>\n",
       "    </tr>\n",
       "  </tbody>\n",
       "</table>\n",
       "</div>"
      ],
      "text/plain": [
       "                                                 fi_rank_mean\n",
       "var                                                          \n",
       "target_approx_consistency_in_neighborhood_q50        1.045455\n",
       "target_approx_consistency_in_neighborhood_q25        1.954545\n",
       "target_approx_consistency_in_neighborhood_mean       3.318182\n",
       "pred_targets_consistency_in_neighborhood_mean        5.454545\n",
       "pred_targets_consistency_in_neighborhood_q50         7.181818\n",
       "pred_targets_consistency_in_neighborhood_q25         7.545455\n",
       "target_diversity_in_neighborhood_q75                 8.000000\n",
       "pred_targets_consistency_in_neighborhood_minmax      8.545455\n",
       "pred_targets_consistency_in_neighborhood_q0         10.363636\n",
       "target_targets_consistency_in_neighborhood_q50      10.545455\n",
       "target_diversity_in_neighborhood_mean               11.000000\n",
       "target_approx_consistency_in_neighborhood_q75       11.727273\n",
       "uncertainty_q25                                     12.818182\n",
       "approx_diversity_in_neighborhood_mean               14.045455\n",
       "approx_diversity_in_neighborhood_q50                15.318182\n",
       "target_targets_consistency_in_neighborhood_q25      15.727273\n",
       "target_diversity_in_neighborhood_q50                15.909091\n",
       "target_targets_consistency_in_neighborhood_mean     16.772727\n",
       "uncertainty_q75                                     17.909091\n",
       "approx_diversity_in_neighborhood_q75                19.636364"
      ]
     },
     "execution_count": 24,
     "metadata": {},
     "output_type": "execute_result"
    }
   ],
   "source": [
    "fi_agg = one_dataset_out_fi_rf[[\"var\", \"fi_rank\"]].groupby([\"var\"]).agg(['mean'])\n",
    "fi_agg.columns = fi_agg.columns.to_flat_index()\n",
    "fi_agg.columns = list(fi_agg.columns.map('_'.join))\n",
    "fi_agg.nsmallest(n=20, columns=[\"fi_rank_mean\"])"
   ]
  },
  {
   "cell_type": "markdown",
   "metadata": {},
   "source": [
    "# Leave-one-model-out"
   ]
  },
  {
   "cell_type": "code",
   "execution_count": 25,
   "metadata": {},
   "outputs": [],
   "source": [
    "def leave_model_out(model=xgb.XGBClassifier(random_state=123)):\n",
    "\n",
    "    models = np.unique(attrs_agg_correct_cols[\"model\"])\n",
    "    kappa_list = []\n",
    "    bacc_list = []\n",
    "    precision_list = []\n",
    "    recall_list = []\n",
    "    f1_list = []\n",
    "    fnr_list = []\n",
    "    fi_all = pd.DataFrame()\n",
    "\n",
    "    for selected_model in models:\n",
    "\n",
    "        train = attrs_agg_correct_cols[attrs_agg_correct_cols[\"model\"] != selected_model]\n",
    "        test = attrs_agg_correct_cols[attrs_agg_correct_cols[\"model\"] == selected_model]\n",
    "\n",
    "        x_train = train.drop(columns=[\"dataset\", \"model\", \"attack\", \"attack_binary\"])\n",
    "        y_train = train[\"attack_binary\"]\n",
    "\n",
    "        x_test = test.drop(columns=[\"dataset\", \"model\", \"attack\", \"attack_binary\"])\n",
    "        y_test = test[\"attack_binary\"]\n",
    "\n",
    "        le = LabelEncoder()\n",
    "        y_train_enc = le.fit_transform(y_train)\n",
    "        y_test_enc = le.transform(y_test)\n",
    "\n",
    "        model.fit(x_train, y_train_enc)\n",
    "\n",
    "        fi_dict = {'var': x_train.columns, 'fi': model.feature_importances_}\n",
    "        fi_df = pd.DataFrame(fi_dict)\n",
    "        fi_df[\"fi_rank\"] = fi_df[\"fi\"].rank(ascending=False)\n",
    "        fi_df[\"model\"] = selected_model\n",
    "        fi_all = pd.concat([fi_all, fi_df])\n",
    "\n",
    "        preds = model.predict(x_test)\n",
    "        bacc_list.append(balanced_accuracy_score(y_test_enc, preds))\n",
    "        kappa_list.append(cohen_kappa_score(y_test_enc, preds))\n",
    "        precision_list.append(precision_score(y_test_enc, preds))\n",
    "        recall_list.append(recall_score(y_test_enc, preds))\n",
    "        f1_list.append(f1_score(y_test_enc, preds))\n",
    "        fnr_list.append(false_negative_rate(y_test_enc, preds))\n",
    "\n",
    "    results_dict = {'model': models, 'bacc': bacc_list, 'kappa': kappa_list, 'precision': precision_list,\n",
    "                    'recall': recall_list, 'f1': f1_list, 'fnr': fnr_list}\n",
    "    results_df = pd.DataFrame(results_dict)\n",
    "    return results_df, fi_all"
   ]
  },
  {
   "cell_type": "markdown",
   "metadata": {},
   "source": [
    "## XGBoost"
   ]
  },
  {
   "cell_type": "code",
   "execution_count": 26,
   "metadata": {},
   "outputs": [
    {
     "data": {
      "application/vnd.microsoft.datawrangler.viewer.v0+json": {
       "columns": [
        {
         "name": "index",
         "rawType": "int64",
         "type": "integer"
        },
        {
         "name": "model",
         "rawType": "object",
         "type": "string"
        },
        {
         "name": "bacc",
         "rawType": "float64",
         "type": "float"
        },
        {
         "name": "kappa",
         "rawType": "float64",
         "type": "float"
        },
        {
         "name": "precision",
         "rawType": "float64",
         "type": "float"
        },
        {
         "name": "recall",
         "rawType": "float64",
         "type": "float"
        },
        {
         "name": "f1",
         "rawType": "float64",
         "type": "float"
        },
        {
         "name": "fnr",
         "rawType": "float64",
         "type": "float"
        }
       ],
       "ref": "d7c114ec-6c0f-4261-847d-65dd555023a4",
       "rows": [
        [
         "0",
         "lin",
         "0.9318181818181819",
         "0.8507462686567164",
         "0.9692307692307692",
         "0.9545454545454546",
         "0.9618320610687023",
         "0.045454545454545456"
        ],
        [
         "1",
         "nn",
         "0.7727272727272727",
         "0.5454545454545454",
         "0.9090909090909091",
         "0.9090909090909091",
         "0.9090909090909091",
         "0.09090909090909091"
        ],
        [
         "2",
         "svm",
         "0.9393939393939394",
         "0.8787878787878788",
         "0.9696969696969697",
         "0.9696969696969697",
         "0.9696969696969697",
         "0.030303030303030304"
        ],
        [
         "3",
         "xgb",
         "0.9453125",
         "0.8064308681672026",
         "1.0",
         "0.890625",
         "0.9421487603305785",
         "0.109375"
        ]
       ],
       "shape": {
        "columns": 7,
        "rows": 4
       }
      },
      "text/html": [
       "<div>\n",
       "<style scoped>\n",
       "    .dataframe tbody tr th:only-of-type {\n",
       "        vertical-align: middle;\n",
       "    }\n",
       "\n",
       "    .dataframe tbody tr th {\n",
       "        vertical-align: top;\n",
       "    }\n",
       "\n",
       "    .dataframe thead th {\n",
       "        text-align: right;\n",
       "    }\n",
       "</style>\n",
       "<table border=\"1\" class=\"dataframe\">\n",
       "  <thead>\n",
       "    <tr style=\"text-align: right;\">\n",
       "      <th></th>\n",
       "      <th>model</th>\n",
       "      <th>bacc</th>\n",
       "      <th>kappa</th>\n",
       "      <th>precision</th>\n",
       "      <th>recall</th>\n",
       "      <th>f1</th>\n",
       "      <th>fnr</th>\n",
       "    </tr>\n",
       "  </thead>\n",
       "  <tbody>\n",
       "    <tr>\n",
       "      <th>0</th>\n",
       "      <td>lin</td>\n",
       "      <td>0.931818</td>\n",
       "      <td>0.850746</td>\n",
       "      <td>0.969231</td>\n",
       "      <td>0.954545</td>\n",
       "      <td>0.961832</td>\n",
       "      <td>0.045455</td>\n",
       "    </tr>\n",
       "    <tr>\n",
       "      <th>1</th>\n",
       "      <td>nn</td>\n",
       "      <td>0.772727</td>\n",
       "      <td>0.545455</td>\n",
       "      <td>0.909091</td>\n",
       "      <td>0.909091</td>\n",
       "      <td>0.909091</td>\n",
       "      <td>0.090909</td>\n",
       "    </tr>\n",
       "    <tr>\n",
       "      <th>2</th>\n",
       "      <td>svm</td>\n",
       "      <td>0.939394</td>\n",
       "      <td>0.878788</td>\n",
       "      <td>0.969697</td>\n",
       "      <td>0.969697</td>\n",
       "      <td>0.969697</td>\n",
       "      <td>0.030303</td>\n",
       "    </tr>\n",
       "    <tr>\n",
       "      <th>3</th>\n",
       "      <td>xgb</td>\n",
       "      <td>0.945312</td>\n",
       "      <td>0.806431</td>\n",
       "      <td>1.000000</td>\n",
       "      <td>0.890625</td>\n",
       "      <td>0.942149</td>\n",
       "      <td>0.109375</td>\n",
       "    </tr>\n",
       "  </tbody>\n",
       "</table>\n",
       "</div>"
      ],
      "text/plain": [
       "  model      bacc     kappa  precision    recall        f1       fnr\n",
       "0   lin  0.931818  0.850746   0.969231  0.954545  0.961832  0.045455\n",
       "1    nn  0.772727  0.545455   0.909091  0.909091  0.909091  0.090909\n",
       "2   svm  0.939394  0.878788   0.969697  0.969697  0.969697  0.030303\n",
       "3   xgb  0.945312  0.806431   1.000000  0.890625  0.942149  0.109375"
      ]
     },
     "execution_count": 26,
     "metadata": {},
     "output_type": "execute_result"
    }
   ],
   "source": [
    "one_model_out_xgb, one_model_out_fi_xgb = leave_model_out()\n",
    "one_model_out_xgb"
   ]
  },
  {
   "cell_type": "code",
   "execution_count": 27,
   "metadata": {},
   "outputs": [
    {
     "data": {
      "application/vnd.microsoft.datawrangler.viewer.v0+json": {
       "columns": [
        {
         "name": "index",
         "rawType": "object",
         "type": "string"
        },
        {
         "name": "bacc",
         "rawType": "float64",
         "type": "float"
        },
        {
         "name": "precision",
         "rawType": "float64",
         "type": "float"
        },
        {
         "name": "recall",
         "rawType": "float64",
         "type": "float"
        },
        {
         "name": "f1",
         "rawType": "float64",
         "type": "float"
        },
        {
         "name": "fnr",
         "rawType": "float64",
         "type": "float"
        }
       ],
       "ref": "539a986c-5c9d-4bca-baa8-6c55c41ef72a",
       "rows": [
        [
         "mean",
         "0.8973129734848485",
         "0.9620046620046621",
         "0.9309895833333334",
         "0.9456921750467899",
         "0.06901041666666666"
        ],
        [
         "std",
         "0.0832405519621772",
         "0.03810030262379381",
         "0.03724688957445661",
         "0.02701193899261221",
         "0.03724688957445659"
        ]
       ],
       "shape": {
        "columns": 5,
        "rows": 2
       }
      },
      "text/html": [
       "<div>\n",
       "<style scoped>\n",
       "    .dataframe tbody tr th:only-of-type {\n",
       "        vertical-align: middle;\n",
       "    }\n",
       "\n",
       "    .dataframe tbody tr th {\n",
       "        vertical-align: top;\n",
       "    }\n",
       "\n",
       "    .dataframe thead th {\n",
       "        text-align: right;\n",
       "    }\n",
       "</style>\n",
       "<table border=\"1\" class=\"dataframe\">\n",
       "  <thead>\n",
       "    <tr style=\"text-align: right;\">\n",
       "      <th></th>\n",
       "      <th>bacc</th>\n",
       "      <th>precision</th>\n",
       "      <th>recall</th>\n",
       "      <th>f1</th>\n",
       "      <th>fnr</th>\n",
       "    </tr>\n",
       "  </thead>\n",
       "  <tbody>\n",
       "    <tr>\n",
       "      <th>mean</th>\n",
       "      <td>0.897313</td>\n",
       "      <td>0.962005</td>\n",
       "      <td>0.930990</td>\n",
       "      <td>0.945692</td>\n",
       "      <td>0.069010</td>\n",
       "    </tr>\n",
       "    <tr>\n",
       "      <th>std</th>\n",
       "      <td>0.083241</td>\n",
       "      <td>0.038100</td>\n",
       "      <td>0.037247</td>\n",
       "      <td>0.027012</td>\n",
       "      <td>0.037247</td>\n",
       "    </tr>\n",
       "  </tbody>\n",
       "</table>\n",
       "</div>"
      ],
      "text/plain": [
       "          bacc  precision    recall        f1       fnr\n",
       "mean  0.897313   0.962005  0.930990  0.945692  0.069010\n",
       "std   0.083241   0.038100  0.037247  0.027012  0.037247"
      ]
     },
     "execution_count": 27,
     "metadata": {},
     "output_type": "execute_result"
    }
   ],
   "source": [
    "one_model_out_xgb[[\"bacc\", \"precision\", \"recall\", \"f1\", \"fnr\"]].agg(['mean', 'std'])"
   ]
  },
  {
   "cell_type": "code",
   "execution_count": 28,
   "metadata": {},
   "outputs": [
    {
     "name": "stdout",
     "output_type": "stream",
     "text": [
      "\\begin{tabular}{lllll}\n",
      "\\toprule\n",
      "bacc & precision & recall & f1 & fnr \\\\\n",
      "\\midrule\n",
      "0.90 (0.08) & 0.96 (0.04) & 0.93 (0.04) & 0.95 (0.03) & 0.07 (0.04) \\\\\n",
      "\\bottomrule\n",
      "\\end{tabular}\n",
      "\n"
     ]
    }
   ],
   "source": [
    "format_mean_std(one_model_out_xgb)"
   ]
  },
  {
   "cell_type": "markdown",
   "metadata": {},
   "source": [
    "## Random forest"
   ]
  },
  {
   "cell_type": "code",
   "execution_count": 29,
   "metadata": {},
   "outputs": [
    {
     "data": {
      "application/vnd.microsoft.datawrangler.viewer.v0+json": {
       "columns": [
        {
         "name": "index",
         "rawType": "int64",
         "type": "integer"
        },
        {
         "name": "model",
         "rawType": "object",
         "type": "string"
        },
        {
         "name": "bacc",
         "rawType": "float64",
         "type": "float"
        },
        {
         "name": "kappa",
         "rawType": "float64",
         "type": "float"
        },
        {
         "name": "precision",
         "rawType": "float64",
         "type": "float"
        },
        {
         "name": "recall",
         "rawType": "float64",
         "type": "float"
        },
        {
         "name": "f1",
         "rawType": "float64",
         "type": "float"
        },
        {
         "name": "fnr",
         "rawType": "float64",
         "type": "float"
        }
       ],
       "ref": "7e228cf8-d142-458f-8938-a0add1bc40fb",
       "rows": [
        [
         "0",
         "lin",
         "0.9318181818181819",
         "0.8507462686567164",
         "0.9692307692307692",
         "0.9545454545454546",
         "0.9618320610687023",
         "0.045454545454545456"
        ],
        [
         "1",
         "nn",
         "0.9261363636363636",
         "0.8823529411764706",
         "0.9666666666666667",
         "0.9886363636363636",
         "0.9775280898876404",
         "0.011363636363636364"
        ],
        [
         "2",
         "svm",
         "0.9545454545454546",
         "0.9375",
         "0.9705882352941176",
         "1.0",
         "0.9850746268656716",
         "0.0"
        ],
        [
         "3",
         "xgb",
         "0.9069602272727273",
         "0.7271573604060914",
         "0.9821428571428571",
         "0.859375",
         "0.9166666666666666",
         "0.140625"
        ]
       ],
       "shape": {
        "columns": 7,
        "rows": 4
       }
      },
      "text/html": [
       "<div>\n",
       "<style scoped>\n",
       "    .dataframe tbody tr th:only-of-type {\n",
       "        vertical-align: middle;\n",
       "    }\n",
       "\n",
       "    .dataframe tbody tr th {\n",
       "        vertical-align: top;\n",
       "    }\n",
       "\n",
       "    .dataframe thead th {\n",
       "        text-align: right;\n",
       "    }\n",
       "</style>\n",
       "<table border=\"1\" class=\"dataframe\">\n",
       "  <thead>\n",
       "    <tr style=\"text-align: right;\">\n",
       "      <th></th>\n",
       "      <th>model</th>\n",
       "      <th>bacc</th>\n",
       "      <th>kappa</th>\n",
       "      <th>precision</th>\n",
       "      <th>recall</th>\n",
       "      <th>f1</th>\n",
       "      <th>fnr</th>\n",
       "    </tr>\n",
       "  </thead>\n",
       "  <tbody>\n",
       "    <tr>\n",
       "      <th>0</th>\n",
       "      <td>lin</td>\n",
       "      <td>0.931818</td>\n",
       "      <td>0.850746</td>\n",
       "      <td>0.969231</td>\n",
       "      <td>0.954545</td>\n",
       "      <td>0.961832</td>\n",
       "      <td>0.045455</td>\n",
       "    </tr>\n",
       "    <tr>\n",
       "      <th>1</th>\n",
       "      <td>nn</td>\n",
       "      <td>0.926136</td>\n",
       "      <td>0.882353</td>\n",
       "      <td>0.966667</td>\n",
       "      <td>0.988636</td>\n",
       "      <td>0.977528</td>\n",
       "      <td>0.011364</td>\n",
       "    </tr>\n",
       "    <tr>\n",
       "      <th>2</th>\n",
       "      <td>svm</td>\n",
       "      <td>0.954545</td>\n",
       "      <td>0.937500</td>\n",
       "      <td>0.970588</td>\n",
       "      <td>1.000000</td>\n",
       "      <td>0.985075</td>\n",
       "      <td>0.000000</td>\n",
       "    </tr>\n",
       "    <tr>\n",
       "      <th>3</th>\n",
       "      <td>xgb</td>\n",
       "      <td>0.906960</td>\n",
       "      <td>0.727157</td>\n",
       "      <td>0.982143</td>\n",
       "      <td>0.859375</td>\n",
       "      <td>0.916667</td>\n",
       "      <td>0.140625</td>\n",
       "    </tr>\n",
       "  </tbody>\n",
       "</table>\n",
       "</div>"
      ],
      "text/plain": [
       "  model      bacc     kappa  precision    recall        f1       fnr\n",
       "0   lin  0.931818  0.850746   0.969231  0.954545  0.961832  0.045455\n",
       "1    nn  0.926136  0.882353   0.966667  0.988636  0.977528  0.011364\n",
       "2   svm  0.954545  0.937500   0.970588  1.000000  0.985075  0.000000\n",
       "3   xgb  0.906960  0.727157   0.982143  0.859375  0.916667  0.140625"
      ]
     },
     "execution_count": 29,
     "metadata": {},
     "output_type": "execute_result"
    }
   ],
   "source": [
    "one_model_out_rf, one_model_out_fi_rf = leave_model_out(model=RandomForestClassifier(random_state=123))\n",
    "one_model_out_rf"
   ]
  },
  {
   "cell_type": "code",
   "execution_count": 30,
   "metadata": {},
   "outputs": [
    {
     "data": {
      "application/vnd.microsoft.datawrangler.viewer.v0+json": {
       "columns": [
        {
         "name": "index",
         "rawType": "object",
         "type": "string"
        },
        {
         "name": "bacc",
         "rawType": "float64",
         "type": "float"
        },
        {
         "name": "kappa",
         "rawType": "float64",
         "type": "float"
        }
       ],
       "ref": "3ca69bc7-498d-4075-b5fc-ec310b9bc3d1",
       "rows": [
        [
         "mean",
         "0.9298650568181819",
         "0.8494391425598196"
        ],
        [
         "std",
         "0.01959141902800356",
         "0.08905536775475181"
        ]
       ],
       "shape": {
        "columns": 2,
        "rows": 2
       }
      },
      "text/html": [
       "<div>\n",
       "<style scoped>\n",
       "    .dataframe tbody tr th:only-of-type {\n",
       "        vertical-align: middle;\n",
       "    }\n",
       "\n",
       "    .dataframe tbody tr th {\n",
       "        vertical-align: top;\n",
       "    }\n",
       "\n",
       "    .dataframe thead th {\n",
       "        text-align: right;\n",
       "    }\n",
       "</style>\n",
       "<table border=\"1\" class=\"dataframe\">\n",
       "  <thead>\n",
       "    <tr style=\"text-align: right;\">\n",
       "      <th></th>\n",
       "      <th>bacc</th>\n",
       "      <th>kappa</th>\n",
       "    </tr>\n",
       "  </thead>\n",
       "  <tbody>\n",
       "    <tr>\n",
       "      <th>mean</th>\n",
       "      <td>0.929865</td>\n",
       "      <td>0.849439</td>\n",
       "    </tr>\n",
       "    <tr>\n",
       "      <th>std</th>\n",
       "      <td>0.019591</td>\n",
       "      <td>0.089055</td>\n",
       "    </tr>\n",
       "  </tbody>\n",
       "</table>\n",
       "</div>"
      ],
      "text/plain": [
       "          bacc     kappa\n",
       "mean  0.929865  0.849439\n",
       "std   0.019591  0.089055"
      ]
     },
     "execution_count": 30,
     "metadata": {},
     "output_type": "execute_result"
    }
   ],
   "source": [
    "one_model_out_rf[[\"bacc\", \"kappa\"]].agg(['mean', 'std'])"
   ]
  },
  {
   "cell_type": "code",
   "execution_count": 31,
   "metadata": {},
   "outputs": [
    {
     "name": "stdout",
     "output_type": "stream",
     "text": [
      "\\begin{tabular}{lllll}\n",
      "\\toprule\n",
      "bacc & precision & recall & f1 & fnr \\\\\n",
      "\\midrule\n",
      "0.93 (0.02) & 0.97 (0.01) & 0.95 (0.06) & 0.96 (0.03) & 0.05 (0.06) \\\\\n",
      "\\bottomrule\n",
      "\\end{tabular}\n",
      "\n"
     ]
    }
   ],
   "source": [
    "format_mean_std(one_model_out_rf)"
   ]
  },
  {
   "cell_type": "markdown",
   "metadata": {},
   "source": [
    "# 10-fold cross validation"
   ]
  },
  {
   "cell_type": "code",
   "execution_count": 32,
   "metadata": {},
   "outputs": [],
   "source": [
    "def cross_validation(model=xgb.XGBClassifier(random_state=123)):\n",
    "\n",
    "    kappa_list = []\n",
    "    bacc_list = []\n",
    "    precision_list = []\n",
    "    recall_list = []\n",
    "    f1_list = []\n",
    "    fnr_list = []\n",
    "    iter_cv = []\n",
    "    fi_all = pd.DataFrame()\n",
    "\n",
    "    le = LabelEncoder()\n",
    "    x = attrs_agg_correct_cols.drop(columns=[\"dataset\", \"model\", \"attack\", \"attack_binary\"])\n",
    "    y = attrs_agg_correct_cols[\"attack_binary\"]\n",
    "    y_enc = le.fit_transform(y)\n",
    "\n",
    "    skf = StratifiedKFold(n_splits=10, random_state=None)\n",
    "    cv = 0\n",
    "    for train, test in skf.split(x, y_enc):\n",
    "\n",
    "        x_train = x.iloc[train]\n",
    "        y_train = y_enc[train]\n",
    "\n",
    "        x_test = x.iloc[test]\n",
    "        y_test = y_enc[test]\n",
    "\n",
    "        model.fit(x_train, y_train)\n",
    "\n",
    "        fi_dict = {'var': x_train.columns, 'fi': model.feature_importances_}\n",
    "        fi_df = pd.DataFrame(fi_dict)\n",
    "        fi_df[\"fi_rank\"] = fi_df[\"fi\"].rank(ascending=False)\n",
    "        fi_df[\"cv\"] = cv\n",
    "        fi_all = pd.concat([fi_all, fi_df])\n",
    "\n",
    "        preds = model.predict(x_test)\n",
    "        bacc_list.append(balanced_accuracy_score(y_test, preds))\n",
    "        kappa_list.append(cohen_kappa_score(y_test, preds))\n",
    "        precision_list.append(precision_score(y_test, preds))\n",
    "        recall_list.append(recall_score(y_test, preds))\n",
    "        f1_list.append(f1_score(y_test, preds))\n",
    "        fnr_list.append(false_negative_rate(y_test, preds))\n",
    "        iter_cv.append(cv)\n",
    "        cv = cv + 1\n",
    "\n",
    "    results_dict = {'cv': iter_cv, 'bacc': bacc_list, 'kappa': kappa_list, 'precision': precision_list,\n",
    "                    'recall': recall_list, 'f1': f1_list, 'fnr': fnr_list}\n",
    "    results_df = pd.DataFrame(results_dict)\n",
    "    return results_df, fi_all"
   ]
  },
  {
   "cell_type": "markdown",
   "metadata": {},
   "source": [
    "## XGBoost"
   ]
  },
  {
   "cell_type": "code",
   "execution_count": 33,
   "metadata": {},
   "outputs": [
    {
     "data": {
      "application/vnd.microsoft.datawrangler.viewer.v0+json": {
       "columns": [
        {
         "name": "index",
         "rawType": "int64",
         "type": "integer"
        },
        {
         "name": "cv",
         "rawType": "int64",
         "type": "integer"
        },
        {
         "name": "bacc",
         "rawType": "float64",
         "type": "float"
        },
        {
         "name": "kappa",
         "rawType": "float64",
         "type": "float"
        },
        {
         "name": "precision",
         "rawType": "float64",
         "type": "float"
        },
        {
         "name": "recall",
         "rawType": "float64",
         "type": "float"
        },
        {
         "name": "f1",
         "rawType": "float64",
         "type": "float"
        },
        {
         "name": "fnr",
         "rawType": "float64",
         "type": "float"
        }
       ],
       "ref": "91f42775-50c1-47c1-b2ea-5009645949a0",
       "rows": [
        [
         "0",
         "0",
         "0.9827586206896552",
         "0.929889298892989",
         "1.0",
         "0.9655172413793104",
         "0.9824561403508771",
         "0.034482758620689655"
        ],
        [
         "1",
         "1",
         "0.9310344827586207",
         "0.7475083056478405",
         "1.0",
         "0.8620689655172413",
         "0.9259259259259259",
         "0.13793103448275862"
        ],
        [
         "2",
         "2",
         "0.8125",
         "0.7231920199501247",
         "0.90625",
         "1.0",
         "0.9508196721311475",
         "0.0"
        ],
        [
         "3",
         "3",
         "1.0",
         "1.0",
         "1.0",
         "1.0",
         "1.0",
         "0.0"
        ],
        [
         "4",
         "4",
         "0.9821428571428572",
         "0.9292543021032504",
         "1.0",
         "0.9642857142857143",
         "0.9818181818181818",
         "0.03571428571428571"
        ],
        [
         "5",
         "5",
         "0.7638888888888888",
         "0.44407345575959933",
         "0.9130434782608695",
         "0.75",
         "0.8235294117647058",
         "0.25"
        ],
        [
         "6",
         "6",
         "0.7440476190476191",
         "0.4538745387453875",
         "0.8846153846153846",
         "0.8214285714285714",
         "0.8518518518518519",
         "0.17857142857142858"
        ],
        [
         "7",
         "7",
         "0.9444444444444444",
         "0.9237113402061856",
         "0.9655172413793104",
         "1.0",
         "0.9824561403508771",
         "0.0"
        ],
        [
         "8",
         "8",
         "0.8888888888888888",
         "0.8412017167381974",
         "0.9333333333333333",
         "1.0",
         "0.9655172413793104",
         "0.0"
        ],
        [
         "9",
         "9",
         "0.8888888888888888",
         "0.8412017167381974",
         "0.9333333333333333",
         "1.0",
         "0.9655172413793104",
         "0.0"
        ]
       ],
       "shape": {
        "columns": 7,
        "rows": 10
       }
      },
      "text/html": [
       "<div>\n",
       "<style scoped>\n",
       "    .dataframe tbody tr th:only-of-type {\n",
       "        vertical-align: middle;\n",
       "    }\n",
       "\n",
       "    .dataframe tbody tr th {\n",
       "        vertical-align: top;\n",
       "    }\n",
       "\n",
       "    .dataframe thead th {\n",
       "        text-align: right;\n",
       "    }\n",
       "</style>\n",
       "<table border=\"1\" class=\"dataframe\">\n",
       "  <thead>\n",
       "    <tr style=\"text-align: right;\">\n",
       "      <th></th>\n",
       "      <th>cv</th>\n",
       "      <th>bacc</th>\n",
       "      <th>kappa</th>\n",
       "      <th>precision</th>\n",
       "      <th>recall</th>\n",
       "      <th>f1</th>\n",
       "      <th>fnr</th>\n",
       "    </tr>\n",
       "  </thead>\n",
       "  <tbody>\n",
       "    <tr>\n",
       "      <th>0</th>\n",
       "      <td>0</td>\n",
       "      <td>0.982759</td>\n",
       "      <td>0.929889</td>\n",
       "      <td>1.000000</td>\n",
       "      <td>0.965517</td>\n",
       "      <td>0.982456</td>\n",
       "      <td>0.034483</td>\n",
       "    </tr>\n",
       "    <tr>\n",
       "      <th>1</th>\n",
       "      <td>1</td>\n",
       "      <td>0.931034</td>\n",
       "      <td>0.747508</td>\n",
       "      <td>1.000000</td>\n",
       "      <td>0.862069</td>\n",
       "      <td>0.925926</td>\n",
       "      <td>0.137931</td>\n",
       "    </tr>\n",
       "    <tr>\n",
       "      <th>2</th>\n",
       "      <td>2</td>\n",
       "      <td>0.812500</td>\n",
       "      <td>0.723192</td>\n",
       "      <td>0.906250</td>\n",
       "      <td>1.000000</td>\n",
       "      <td>0.950820</td>\n",
       "      <td>0.000000</td>\n",
       "    </tr>\n",
       "    <tr>\n",
       "      <th>3</th>\n",
       "      <td>3</td>\n",
       "      <td>1.000000</td>\n",
       "      <td>1.000000</td>\n",
       "      <td>1.000000</td>\n",
       "      <td>1.000000</td>\n",
       "      <td>1.000000</td>\n",
       "      <td>0.000000</td>\n",
       "    </tr>\n",
       "    <tr>\n",
       "      <th>4</th>\n",
       "      <td>4</td>\n",
       "      <td>0.982143</td>\n",
       "      <td>0.929254</td>\n",
       "      <td>1.000000</td>\n",
       "      <td>0.964286</td>\n",
       "      <td>0.981818</td>\n",
       "      <td>0.035714</td>\n",
       "    </tr>\n",
       "    <tr>\n",
       "      <th>5</th>\n",
       "      <td>5</td>\n",
       "      <td>0.763889</td>\n",
       "      <td>0.444073</td>\n",
       "      <td>0.913043</td>\n",
       "      <td>0.750000</td>\n",
       "      <td>0.823529</td>\n",
       "      <td>0.250000</td>\n",
       "    </tr>\n",
       "    <tr>\n",
       "      <th>6</th>\n",
       "      <td>6</td>\n",
       "      <td>0.744048</td>\n",
       "      <td>0.453875</td>\n",
       "      <td>0.884615</td>\n",
       "      <td>0.821429</td>\n",
       "      <td>0.851852</td>\n",
       "      <td>0.178571</td>\n",
       "    </tr>\n",
       "    <tr>\n",
       "      <th>7</th>\n",
       "      <td>7</td>\n",
       "      <td>0.944444</td>\n",
       "      <td>0.923711</td>\n",
       "      <td>0.965517</td>\n",
       "      <td>1.000000</td>\n",
       "      <td>0.982456</td>\n",
       "      <td>0.000000</td>\n",
       "    </tr>\n",
       "    <tr>\n",
       "      <th>8</th>\n",
       "      <td>8</td>\n",
       "      <td>0.888889</td>\n",
       "      <td>0.841202</td>\n",
       "      <td>0.933333</td>\n",
       "      <td>1.000000</td>\n",
       "      <td>0.965517</td>\n",
       "      <td>0.000000</td>\n",
       "    </tr>\n",
       "    <tr>\n",
       "      <th>9</th>\n",
       "      <td>9</td>\n",
       "      <td>0.888889</td>\n",
       "      <td>0.841202</td>\n",
       "      <td>0.933333</td>\n",
       "      <td>1.000000</td>\n",
       "      <td>0.965517</td>\n",
       "      <td>0.000000</td>\n",
       "    </tr>\n",
       "  </tbody>\n",
       "</table>\n",
       "</div>"
      ],
      "text/plain": [
       "   cv      bacc     kappa  precision    recall        f1       fnr\n",
       "0   0  0.982759  0.929889   1.000000  0.965517  0.982456  0.034483\n",
       "1   1  0.931034  0.747508   1.000000  0.862069  0.925926  0.137931\n",
       "2   2  0.812500  0.723192   0.906250  1.000000  0.950820  0.000000\n",
       "3   3  1.000000  1.000000   1.000000  1.000000  1.000000  0.000000\n",
       "4   4  0.982143  0.929254   1.000000  0.964286  0.981818  0.035714\n",
       "5   5  0.763889  0.444073   0.913043  0.750000  0.823529  0.250000\n",
       "6   6  0.744048  0.453875   0.884615  0.821429  0.851852  0.178571\n",
       "7   7  0.944444  0.923711   0.965517  1.000000  0.982456  0.000000\n",
       "8   8  0.888889  0.841202   0.933333  1.000000  0.965517  0.000000\n",
       "9   9  0.888889  0.841202   0.933333  1.000000  0.965517  0.000000"
      ]
     },
     "execution_count": 33,
     "metadata": {},
     "output_type": "execute_result"
    }
   ],
   "source": [
    "cv_xgb, cv_fi_xgb = cross_validation()\n",
    "cv_xgb"
   ]
  },
  {
   "cell_type": "code",
   "execution_count": 34,
   "metadata": {},
   "outputs": [
    {
     "data": {
      "application/vnd.microsoft.datawrangler.viewer.v0+json": {
       "columns": [
        {
         "name": "index",
         "rawType": "object",
         "type": "string"
        },
        {
         "name": "bacc",
         "rawType": "float64",
         "type": "float"
        },
        {
         "name": "precision",
         "rawType": "float64",
         "type": "float"
        },
        {
         "name": "recall",
         "rawType": "float64",
         "type": "float"
        },
        {
         "name": "f1",
         "rawType": "float64",
         "type": "float"
        },
        {
         "name": "fnr",
         "rawType": "float64",
         "type": "float"
        }
       ],
       "ref": "28356036-25d9-461b-99c5-a01aa68cd979",
       "rows": [
        [
         "mean",
         "0.8938594690749863",
         "0.9536092770922231",
         "0.9363300492610837",
         "0.9429891806952186",
         "0.06366995073891626"
        ],
        [
         "std",
         "0.09244119338655295",
         "0.0449951435062642",
         "0.091492968734542",
         "0.05945806557042248",
         "0.09149296873454199"
        ]
       ],
       "shape": {
        "columns": 5,
        "rows": 2
       }
      },
      "text/html": [
       "<div>\n",
       "<style scoped>\n",
       "    .dataframe tbody tr th:only-of-type {\n",
       "        vertical-align: middle;\n",
       "    }\n",
       "\n",
       "    .dataframe tbody tr th {\n",
       "        vertical-align: top;\n",
       "    }\n",
       "\n",
       "    .dataframe thead th {\n",
       "        text-align: right;\n",
       "    }\n",
       "</style>\n",
       "<table border=\"1\" class=\"dataframe\">\n",
       "  <thead>\n",
       "    <tr style=\"text-align: right;\">\n",
       "      <th></th>\n",
       "      <th>bacc</th>\n",
       "      <th>precision</th>\n",
       "      <th>recall</th>\n",
       "      <th>f1</th>\n",
       "      <th>fnr</th>\n",
       "    </tr>\n",
       "  </thead>\n",
       "  <tbody>\n",
       "    <tr>\n",
       "      <th>mean</th>\n",
       "      <td>0.893859</td>\n",
       "      <td>0.953609</td>\n",
       "      <td>0.936330</td>\n",
       "      <td>0.942989</td>\n",
       "      <td>0.063670</td>\n",
       "    </tr>\n",
       "    <tr>\n",
       "      <th>std</th>\n",
       "      <td>0.092441</td>\n",
       "      <td>0.044995</td>\n",
       "      <td>0.091493</td>\n",
       "      <td>0.059458</td>\n",
       "      <td>0.091493</td>\n",
       "    </tr>\n",
       "  </tbody>\n",
       "</table>\n",
       "</div>"
      ],
      "text/plain": [
       "          bacc  precision    recall        f1       fnr\n",
       "mean  0.893859   0.953609  0.936330  0.942989  0.063670\n",
       "std   0.092441   0.044995  0.091493  0.059458  0.091493"
      ]
     },
     "execution_count": 34,
     "metadata": {},
     "output_type": "execute_result"
    }
   ],
   "source": [
    "cv_xgb[[\"bacc\", \"precision\", \"recall\", \"f1\", \"fnr\"]].agg(['mean', 'std'])"
   ]
  },
  {
   "cell_type": "code",
   "execution_count": 35,
   "metadata": {},
   "outputs": [
    {
     "name": "stdout",
     "output_type": "stream",
     "text": [
      "\\begin{tabular}{lllll}\n",
      "\\toprule\n",
      "bacc & precision & recall & f1 & fnr \\\\\n",
      "\\midrule\n",
      "0.89 (0.09) & 0.95 (0.04) & 0.94 (0.09) & 0.94 (0.06) & 0.06 (0.09) \\\\\n",
      "\\bottomrule\n",
      "\\end{tabular}\n",
      "\n"
     ]
    }
   ],
   "source": [
    "format_mean_std(cv_xgb)"
   ]
  },
  {
   "cell_type": "markdown",
   "metadata": {},
   "source": [
    "## Random forest"
   ]
  },
  {
   "cell_type": "code",
   "execution_count": 36,
   "metadata": {},
   "outputs": [
    {
     "data": {
      "application/vnd.microsoft.datawrangler.viewer.v0+json": {
       "columns": [
        {
         "name": "index",
         "rawType": "int64",
         "type": "integer"
        },
        {
         "name": "cv",
         "rawType": "int64",
         "type": "integer"
        },
        {
         "name": "bacc",
         "rawType": "float64",
         "type": "float"
        },
        {
         "name": "kappa",
         "rawType": "float64",
         "type": "float"
        },
        {
         "name": "precision",
         "rawType": "float64",
         "type": "float"
        },
        {
         "name": "recall",
         "rawType": "float64",
         "type": "float"
        },
        {
         "name": "f1",
         "rawType": "float64",
         "type": "float"
        },
        {
         "name": "fnr",
         "rawType": "float64",
         "type": "float"
        }
       ],
       "ref": "ba560ee9-af60-4341-a604-1d431d79c05d",
       "rows": [
        [
         "0",
         "0",
         "0.9272030651340997",
         "0.8544061302681992",
         "0.9655172413793104",
         "0.9655172413793104",
         "0.9655172413793104",
         "0.034482758620689655"
        ],
        [
         "1",
         "1",
         "0.8620689655172413",
         "0.5542521994134897",
         "1.0",
         "0.7241379310344828",
         "0.84",
         "0.27586206896551724"
        ],
        [
         "2",
         "2",
         "0.8125",
         "0.7231920199501247",
         "0.90625",
         "1.0",
         "0.9508196721311475",
         "0.0"
        ],
        [
         "3",
         "3",
         "0.9827586206896552",
         "0.9237113402061856",
         "1.0",
         "0.9655172413793104",
         "0.9824561403508771",
         "0.034482758620689655"
        ],
        [
         "4",
         "4",
         "0.9821428571428572",
         "0.9292543021032504",
         "1.0",
         "0.9642857142857143",
         "0.9818181818181818",
         "0.03571428571428571"
        ],
        [
         "5",
         "5",
         "0.6527777777777778",
         "0.27450980392156854",
         "0.84",
         "0.75",
         "0.7924528301886793",
         "0.25"
        ],
        [
         "6",
         "6",
         "0.7817460317460317",
         "0.4896551724137932",
         "0.9166666666666666",
         "0.7857142857142857",
         "0.8461538461538461",
         "0.21428571428571427"
        ],
        [
         "7",
         "7",
         "0.8888888888888888",
         "0.8412017167381974",
         "0.9333333333333333",
         "1.0",
         "0.9655172413793104",
         "0.0"
        ],
        [
         "8",
         "8",
         "0.8888888888888888",
         "0.8412017167381974",
         "0.9333333333333333",
         "1.0",
         "0.9655172413793104",
         "0.0"
        ],
        [
         "9",
         "9",
         "1.0",
         "1.0",
         "1.0",
         "1.0",
         "1.0",
         "0.0"
        ]
       ],
       "shape": {
        "columns": 7,
        "rows": 10
       }
      },
      "text/html": [
       "<div>\n",
       "<style scoped>\n",
       "    .dataframe tbody tr th:only-of-type {\n",
       "        vertical-align: middle;\n",
       "    }\n",
       "\n",
       "    .dataframe tbody tr th {\n",
       "        vertical-align: top;\n",
       "    }\n",
       "\n",
       "    .dataframe thead th {\n",
       "        text-align: right;\n",
       "    }\n",
       "</style>\n",
       "<table border=\"1\" class=\"dataframe\">\n",
       "  <thead>\n",
       "    <tr style=\"text-align: right;\">\n",
       "      <th></th>\n",
       "      <th>cv</th>\n",
       "      <th>bacc</th>\n",
       "      <th>kappa</th>\n",
       "      <th>precision</th>\n",
       "      <th>recall</th>\n",
       "      <th>f1</th>\n",
       "      <th>fnr</th>\n",
       "    </tr>\n",
       "  </thead>\n",
       "  <tbody>\n",
       "    <tr>\n",
       "      <th>0</th>\n",
       "      <td>0</td>\n",
       "      <td>0.927203</td>\n",
       "      <td>0.854406</td>\n",
       "      <td>0.965517</td>\n",
       "      <td>0.965517</td>\n",
       "      <td>0.965517</td>\n",
       "      <td>0.034483</td>\n",
       "    </tr>\n",
       "    <tr>\n",
       "      <th>1</th>\n",
       "      <td>1</td>\n",
       "      <td>0.862069</td>\n",
       "      <td>0.554252</td>\n",
       "      <td>1.000000</td>\n",
       "      <td>0.724138</td>\n",
       "      <td>0.840000</td>\n",
       "      <td>0.275862</td>\n",
       "    </tr>\n",
       "    <tr>\n",
       "      <th>2</th>\n",
       "      <td>2</td>\n",
       "      <td>0.812500</td>\n",
       "      <td>0.723192</td>\n",
       "      <td>0.906250</td>\n",
       "      <td>1.000000</td>\n",
       "      <td>0.950820</td>\n",
       "      <td>0.000000</td>\n",
       "    </tr>\n",
       "    <tr>\n",
       "      <th>3</th>\n",
       "      <td>3</td>\n",
       "      <td>0.982759</td>\n",
       "      <td>0.923711</td>\n",
       "      <td>1.000000</td>\n",
       "      <td>0.965517</td>\n",
       "      <td>0.982456</td>\n",
       "      <td>0.034483</td>\n",
       "    </tr>\n",
       "    <tr>\n",
       "      <th>4</th>\n",
       "      <td>4</td>\n",
       "      <td>0.982143</td>\n",
       "      <td>0.929254</td>\n",
       "      <td>1.000000</td>\n",
       "      <td>0.964286</td>\n",
       "      <td>0.981818</td>\n",
       "      <td>0.035714</td>\n",
       "    </tr>\n",
       "    <tr>\n",
       "      <th>5</th>\n",
       "      <td>5</td>\n",
       "      <td>0.652778</td>\n",
       "      <td>0.274510</td>\n",
       "      <td>0.840000</td>\n",
       "      <td>0.750000</td>\n",
       "      <td>0.792453</td>\n",
       "      <td>0.250000</td>\n",
       "    </tr>\n",
       "    <tr>\n",
       "      <th>6</th>\n",
       "      <td>6</td>\n",
       "      <td>0.781746</td>\n",
       "      <td>0.489655</td>\n",
       "      <td>0.916667</td>\n",
       "      <td>0.785714</td>\n",
       "      <td>0.846154</td>\n",
       "      <td>0.214286</td>\n",
       "    </tr>\n",
       "    <tr>\n",
       "      <th>7</th>\n",
       "      <td>7</td>\n",
       "      <td>0.888889</td>\n",
       "      <td>0.841202</td>\n",
       "      <td>0.933333</td>\n",
       "      <td>1.000000</td>\n",
       "      <td>0.965517</td>\n",
       "      <td>0.000000</td>\n",
       "    </tr>\n",
       "    <tr>\n",
       "      <th>8</th>\n",
       "      <td>8</td>\n",
       "      <td>0.888889</td>\n",
       "      <td>0.841202</td>\n",
       "      <td>0.933333</td>\n",
       "      <td>1.000000</td>\n",
       "      <td>0.965517</td>\n",
       "      <td>0.000000</td>\n",
       "    </tr>\n",
       "    <tr>\n",
       "      <th>9</th>\n",
       "      <td>9</td>\n",
       "      <td>1.000000</td>\n",
       "      <td>1.000000</td>\n",
       "      <td>1.000000</td>\n",
       "      <td>1.000000</td>\n",
       "      <td>1.000000</td>\n",
       "      <td>0.000000</td>\n",
       "    </tr>\n",
       "  </tbody>\n",
       "</table>\n",
       "</div>"
      ],
      "text/plain": [
       "   cv      bacc     kappa  precision    recall        f1       fnr\n",
       "0   0  0.927203  0.854406   0.965517  0.965517  0.965517  0.034483\n",
       "1   1  0.862069  0.554252   1.000000  0.724138  0.840000  0.275862\n",
       "2   2  0.812500  0.723192   0.906250  1.000000  0.950820  0.000000\n",
       "3   3  0.982759  0.923711   1.000000  0.965517  0.982456  0.034483\n",
       "4   4  0.982143  0.929254   1.000000  0.964286  0.981818  0.035714\n",
       "5   5  0.652778  0.274510   0.840000  0.750000  0.792453  0.250000\n",
       "6   6  0.781746  0.489655   0.916667  0.785714  0.846154  0.214286\n",
       "7   7  0.888889  0.841202   0.933333  1.000000  0.965517  0.000000\n",
       "8   8  0.888889  0.841202   0.933333  1.000000  0.965517  0.000000\n",
       "9   9  1.000000  1.000000   1.000000  1.000000  1.000000  0.000000"
      ]
     },
     "execution_count": 36,
     "metadata": {},
     "output_type": "execute_result"
    }
   ],
   "source": [
    "cv_rf, cv_fi_rf = cross_validation(model=RandomForestClassifier(random_state=123))\n",
    "cv_rf"
   ]
  },
  {
   "cell_type": "code",
   "execution_count": 37,
   "metadata": {},
   "outputs": [
    {
     "data": {
      "application/vnd.microsoft.datawrangler.viewer.v0+json": {
       "columns": [
        {
         "name": "index",
         "rawType": "object",
         "type": "string"
        },
        {
         "name": "bacc",
         "rawType": "float64",
         "type": "float"
        },
        {
         "name": "precision",
         "rawType": "float64",
         "type": "float"
        },
        {
         "name": "recall",
         "rawType": "float64",
         "type": "float"
        },
        {
         "name": "f1",
         "rawType": "float64",
         "type": "float"
        },
        {
         "name": "fnr",
         "rawType": "float64",
         "type": "float"
        }
       ],
       "ref": "2aa5b731-aee0-4876-bb1e-6fdc3b91c539",
       "rows": [
        [
         "mean",
         "0.8778975095785441",
         "0.9495100574712645",
         "0.9155172413793103",
         "0.9290252394780663",
         "0.08448275862068966"
        ],
        [
         "std",
         "0.10744300780099092",
         "0.053664713742806014",
         "0.11391932568831555",
         "0.07348057380305517",
         "0.11391932568831553"
        ]
       ],
       "shape": {
        "columns": 5,
        "rows": 2
       }
      },
      "text/html": [
       "<div>\n",
       "<style scoped>\n",
       "    .dataframe tbody tr th:only-of-type {\n",
       "        vertical-align: middle;\n",
       "    }\n",
       "\n",
       "    .dataframe tbody tr th {\n",
       "        vertical-align: top;\n",
       "    }\n",
       "\n",
       "    .dataframe thead th {\n",
       "        text-align: right;\n",
       "    }\n",
       "</style>\n",
       "<table border=\"1\" class=\"dataframe\">\n",
       "  <thead>\n",
       "    <tr style=\"text-align: right;\">\n",
       "      <th></th>\n",
       "      <th>bacc</th>\n",
       "      <th>precision</th>\n",
       "      <th>recall</th>\n",
       "      <th>f1</th>\n",
       "      <th>fnr</th>\n",
       "    </tr>\n",
       "  </thead>\n",
       "  <tbody>\n",
       "    <tr>\n",
       "      <th>mean</th>\n",
       "      <td>0.877898</td>\n",
       "      <td>0.949510</td>\n",
       "      <td>0.915517</td>\n",
       "      <td>0.929025</td>\n",
       "      <td>0.084483</td>\n",
       "    </tr>\n",
       "    <tr>\n",
       "      <th>std</th>\n",
       "      <td>0.107443</td>\n",
       "      <td>0.053665</td>\n",
       "      <td>0.113919</td>\n",
       "      <td>0.073481</td>\n",
       "      <td>0.113919</td>\n",
       "    </tr>\n",
       "  </tbody>\n",
       "</table>\n",
       "</div>"
      ],
      "text/plain": [
       "          bacc  precision    recall        f1       fnr\n",
       "mean  0.877898   0.949510  0.915517  0.929025  0.084483\n",
       "std   0.107443   0.053665  0.113919  0.073481  0.113919"
      ]
     },
     "execution_count": 37,
     "metadata": {},
     "output_type": "execute_result"
    }
   ],
   "source": [
    "cv_rf[[\"bacc\", \"precision\", \"recall\", \"f1\", \"fnr\"]].agg(['mean', 'std'])"
   ]
  },
  {
   "cell_type": "code",
   "execution_count": 38,
   "metadata": {},
   "outputs": [
    {
     "name": "stdout",
     "output_type": "stream",
     "text": [
      "\\begin{tabular}{lllll}\n",
      "\\toprule\n",
      "bacc & precision & recall & f1 & fnr \\\\\n",
      "\\midrule\n",
      "0.88 (0.11) & 0.95 (0.05) & 0.92 (0.11) & 0.93 (0.07) & 0.08 (0.11) \\\\\n",
      "\\bottomrule\n",
      "\\end{tabular}\n",
      "\n"
     ]
    }
   ],
   "source": [
    "format_mean_std(cv_rf)"
   ]
  },
  {
   "cell_type": "markdown",
   "metadata": {
    "collapsed": false
   },
   "source": [
    "# Leave-one-attack-out"
   ]
  },
  {
   "cell_type": "code",
   "execution_count": 39,
   "metadata": {},
   "outputs": [
    {
     "data": {
      "text/plain": [
       "array(['bim', 'fgm', 'hsj', 'noise', 'org', 'per', 'pgd', 'zoo'],\n",
       "      dtype=object)"
      ]
     },
     "execution_count": 39,
     "metadata": {},
     "output_type": "execute_result"
    }
   ],
   "source": [
    "np.unique(attrs_agg_correct_cols[\"attack\"])"
   ]
  },
  {
   "cell_type": "code",
   "execution_count": 40,
   "metadata": {
    "collapsed": false
   },
   "outputs": [],
   "source": [
    "def leave_attack_out(model=xgb.XGBClassifier(random_state=123)):\n",
    "\n",
    "    # attacks = np.unique(attrs_agg_correct_cols[\"attack\"])\n",
    "    attacks = ['bim', 'fgm', 'hsj', 'noise', 'per', 'pgd', 'zoo'] # [\"hsj\", \"per\", \"zoo\"]\n",
    "    kappa_list = []\n",
    "    bacc_list = []\n",
    "    precision_list = []\n",
    "    recall_list = []\n",
    "    f1_list = []\n",
    "    fnr_list = []\n",
    "    fi_all = pd.DataFrame()\n",
    "\n",
    "    for selected_attack in attacks:\n",
    "\n",
    "        train = attrs_agg_correct_cols[attrs_agg_correct_cols[\"attack\"] != selected_attack]\n",
    "        test = attrs_agg_correct_cols[attrs_agg_correct_cols[\"attack\"] == selected_attack]\n",
    "\n",
    "        # y = attrs_agg_correct_cols[\"attack_binary\"]\n",
    "\n",
    "        x_train = train.drop(columns=[\"dataset\", \"model\", \"attack\", \"attack_binary\"])\n",
    "        y_train = train[\"attack_binary\"]\n",
    "\n",
    "        x_test = test.drop(columns=[\"dataset\", \"model\", \"attack\", \"attack_binary\"])\n",
    "        y_test = test[\"attack_binary\"]\n",
    "\n",
    "        le = LabelEncoder()\n",
    "        # y_enc = le.fit(y)\n",
    "        y_train_enc = le.fit_transform(y_train)\n",
    "        y_test_enc = le.transform(y_test)\n",
    "\n",
    "        model.fit(x_train, y_train_enc)\n",
    "\n",
    "        fi_dict = {'var': x_train.columns, 'fi': model.feature_importances_}\n",
    "        fi_df = pd.DataFrame(fi_dict)\n",
    "        fi_df[\"fi_rank\"] = fi_df[\"fi\"].rank(ascending=False)\n",
    "        fi_df[\"attack\"] = selected_attack\n",
    "        fi_all = pd.concat([fi_all, fi_df])\n",
    "\n",
    "        preds = model.predict(x_test)\n",
    "        bacc_list.append(balanced_accuracy_score(y_test_enc, preds))\n",
    "        kappa_list.append(cohen_kappa_score(y_test_enc, preds))\n",
    "        precision_list.append(precision_score(y_test_enc, preds))\n",
    "        recall_list.append(recall_score(y_test_enc, preds))\n",
    "        f1_list.append(f1_score(y_test_enc, preds))\n",
    "        fnr_list.append(false_negative_rate(y_test_enc, preds))\n",
    "\n",
    "    results_dict = {'attack': attacks, 'bacc': bacc_list, 'kappa': kappa_list, 'precision': precision_list,\n",
    "                    'recall': recall_list, 'f1': f1_list, 'fnr': fnr_list}\n",
    "    results_df = pd.DataFrame(results_dict)\n",
    "    return results_df, fi_all"
   ]
  },
  {
   "cell_type": "markdown",
   "metadata": {
    "collapsed": false
   },
   "source": [
    "## XGBoost"
   ]
  },
  {
   "cell_type": "code",
   "execution_count": 41,
   "metadata": {
    "collapsed": false
   },
   "outputs": [
    {
     "data": {
      "application/vnd.microsoft.datawrangler.viewer.v0+json": {
       "columns": [
        {
         "name": "index",
         "rawType": "int64",
         "type": "integer"
        },
        {
         "name": "attack",
         "rawType": "object",
         "type": "string"
        },
        {
         "name": "bacc",
         "rawType": "float64",
         "type": "float"
        },
        {
         "name": "kappa",
         "rawType": "float64",
         "type": "float"
        },
        {
         "name": "precision",
         "rawType": "float64",
         "type": "float"
        },
        {
         "name": "recall",
         "rawType": "float64",
         "type": "float"
        },
        {
         "name": "f1",
         "rawType": "float64",
         "type": "float"
        },
        {
         "name": "fnr",
         "rawType": "float64",
         "type": "float"
        }
       ],
       "ref": "6a681e97-072d-4c1b-8fb7-b98059562f51",
       "rows": [
        [
         "0",
         "bim",
         "1.0",
         null,
         "1.0",
         "1.0",
         "1.0",
         null
        ],
        [
         "1",
         "fgm",
         "1.0",
         null,
         "1.0",
         "1.0",
         "1.0",
         null
        ],
        [
         "2",
         "hsj",
         "0.96875",
         "0.0",
         "1.0",
         "0.96875",
         "0.9841269841269841",
         "0.03125"
        ],
        [
         "3",
         "noise",
         "1.0",
         null,
         "1.0",
         "1.0",
         "1.0",
         null
        ],
        [
         "4",
         "per",
         "0.9242424242424242",
         "0.0",
         "1.0",
         "0.9242424242424242",
         "0.9606299212598425",
         "0.07575757575757576"
        ],
        [
         "5",
         "pgd",
         "1.0",
         null,
         "1.0",
         "1.0",
         "1.0",
         null
        ],
        [
         "6",
         "zoo",
         "0.8787878787878788",
         "0.0",
         "1.0",
         "0.8787878787878788",
         "0.9354838709677419",
         "0.12121212121212122"
        ]
       ],
       "shape": {
        "columns": 7,
        "rows": 7
       }
      },
      "text/html": [
       "<div>\n",
       "<style scoped>\n",
       "    .dataframe tbody tr th:only-of-type {\n",
       "        vertical-align: middle;\n",
       "    }\n",
       "\n",
       "    .dataframe tbody tr th {\n",
       "        vertical-align: top;\n",
       "    }\n",
       "\n",
       "    .dataframe thead th {\n",
       "        text-align: right;\n",
       "    }\n",
       "</style>\n",
       "<table border=\"1\" class=\"dataframe\">\n",
       "  <thead>\n",
       "    <tr style=\"text-align: right;\">\n",
       "      <th></th>\n",
       "      <th>attack</th>\n",
       "      <th>bacc</th>\n",
       "      <th>kappa</th>\n",
       "      <th>precision</th>\n",
       "      <th>recall</th>\n",
       "      <th>f1</th>\n",
       "      <th>fnr</th>\n",
       "    </tr>\n",
       "  </thead>\n",
       "  <tbody>\n",
       "    <tr>\n",
       "      <th>0</th>\n",
       "      <td>bim</td>\n",
       "      <td>1.000000</td>\n",
       "      <td>NaN</td>\n",
       "      <td>1.0</td>\n",
       "      <td>1.000000</td>\n",
       "      <td>1.000000</td>\n",
       "      <td>NaN</td>\n",
       "    </tr>\n",
       "    <tr>\n",
       "      <th>1</th>\n",
       "      <td>fgm</td>\n",
       "      <td>1.000000</td>\n",
       "      <td>NaN</td>\n",
       "      <td>1.0</td>\n",
       "      <td>1.000000</td>\n",
       "      <td>1.000000</td>\n",
       "      <td>NaN</td>\n",
       "    </tr>\n",
       "    <tr>\n",
       "      <th>2</th>\n",
       "      <td>hsj</td>\n",
       "      <td>0.968750</td>\n",
       "      <td>0.0</td>\n",
       "      <td>1.0</td>\n",
       "      <td>0.968750</td>\n",
       "      <td>0.984127</td>\n",
       "      <td>0.031250</td>\n",
       "    </tr>\n",
       "    <tr>\n",
       "      <th>3</th>\n",
       "      <td>noise</td>\n",
       "      <td>1.000000</td>\n",
       "      <td>NaN</td>\n",
       "      <td>1.0</td>\n",
       "      <td>1.000000</td>\n",
       "      <td>1.000000</td>\n",
       "      <td>NaN</td>\n",
       "    </tr>\n",
       "    <tr>\n",
       "      <th>4</th>\n",
       "      <td>per</td>\n",
       "      <td>0.924242</td>\n",
       "      <td>0.0</td>\n",
       "      <td>1.0</td>\n",
       "      <td>0.924242</td>\n",
       "      <td>0.960630</td>\n",
       "      <td>0.075758</td>\n",
       "    </tr>\n",
       "    <tr>\n",
       "      <th>5</th>\n",
       "      <td>pgd</td>\n",
       "      <td>1.000000</td>\n",
       "      <td>NaN</td>\n",
       "      <td>1.0</td>\n",
       "      <td>1.000000</td>\n",
       "      <td>1.000000</td>\n",
       "      <td>NaN</td>\n",
       "    </tr>\n",
       "    <tr>\n",
       "      <th>6</th>\n",
       "      <td>zoo</td>\n",
       "      <td>0.878788</td>\n",
       "      <td>0.0</td>\n",
       "      <td>1.0</td>\n",
       "      <td>0.878788</td>\n",
       "      <td>0.935484</td>\n",
       "      <td>0.121212</td>\n",
       "    </tr>\n",
       "  </tbody>\n",
       "</table>\n",
       "</div>"
      ],
      "text/plain": [
       "  attack      bacc  kappa  precision    recall        f1       fnr\n",
       "0    bim  1.000000    NaN        1.0  1.000000  1.000000       NaN\n",
       "1    fgm  1.000000    NaN        1.0  1.000000  1.000000       NaN\n",
       "2    hsj  0.968750    0.0        1.0  0.968750  0.984127  0.031250\n",
       "3  noise  1.000000    NaN        1.0  1.000000  1.000000       NaN\n",
       "4    per  0.924242    0.0        1.0  0.924242  0.960630  0.075758\n",
       "5    pgd  1.000000    NaN        1.0  1.000000  1.000000       NaN\n",
       "6    zoo  0.878788    0.0        1.0  0.878788  0.935484  0.121212"
      ]
     },
     "execution_count": 41,
     "metadata": {},
     "output_type": "execute_result"
    }
   ],
   "source": [
    "one_attack_out_xgb, one_attack_out_fi_xgb = leave_attack_out()\n",
    "one_attack_out_xgb"
   ]
  },
  {
   "cell_type": "code",
   "execution_count": 42,
   "metadata": {
    "collapsed": false
   },
   "outputs": [
    {
     "data": {
      "application/vnd.microsoft.datawrangler.viewer.v0+json": {
       "columns": [
        {
         "name": "index",
         "rawType": "object",
         "type": "string"
        },
        {
         "name": "bacc",
         "rawType": "float64",
         "type": "float"
        },
        {
         "name": "precision",
         "rawType": "float64",
         "type": "float"
        },
        {
         "name": "recall",
         "rawType": "float64",
         "type": "float"
        },
        {
         "name": "f1",
         "rawType": "float64",
         "type": "float"
        },
        {
         "name": "fnr",
         "rawType": "float64",
         "type": "float"
        }
       ],
       "ref": "fbb03979-6c84-4c14-96b7-6732c021c915",
       "rows": [
        [
         "mean",
         "0.9673971861471861",
         "1.0",
         "0.9673971861471861",
         "0.9828915394792241",
         "0.07607323232323232"
        ],
        [
         "std",
         "0.048248569608431886",
         "0.0",
         "0.048248569608431886",
         "0.025545354073626104",
         "0.0449818912735634"
        ]
       ],
       "shape": {
        "columns": 5,
        "rows": 2
       }
      },
      "text/html": [
       "<div>\n",
       "<style scoped>\n",
       "    .dataframe tbody tr th:only-of-type {\n",
       "        vertical-align: middle;\n",
       "    }\n",
       "\n",
       "    .dataframe tbody tr th {\n",
       "        vertical-align: top;\n",
       "    }\n",
       "\n",
       "    .dataframe thead th {\n",
       "        text-align: right;\n",
       "    }\n",
       "</style>\n",
       "<table border=\"1\" class=\"dataframe\">\n",
       "  <thead>\n",
       "    <tr style=\"text-align: right;\">\n",
       "      <th></th>\n",
       "      <th>bacc</th>\n",
       "      <th>precision</th>\n",
       "      <th>recall</th>\n",
       "      <th>f1</th>\n",
       "      <th>fnr</th>\n",
       "    </tr>\n",
       "  </thead>\n",
       "  <tbody>\n",
       "    <tr>\n",
       "      <th>mean</th>\n",
       "      <td>0.967397</td>\n",
       "      <td>1.0</td>\n",
       "      <td>0.967397</td>\n",
       "      <td>0.982892</td>\n",
       "      <td>0.076073</td>\n",
       "    </tr>\n",
       "    <tr>\n",
       "      <th>std</th>\n",
       "      <td>0.048249</td>\n",
       "      <td>0.0</td>\n",
       "      <td>0.048249</td>\n",
       "      <td>0.025545</td>\n",
       "      <td>0.044982</td>\n",
       "    </tr>\n",
       "  </tbody>\n",
       "</table>\n",
       "</div>"
      ],
      "text/plain": [
       "          bacc  precision    recall        f1       fnr\n",
       "mean  0.967397        1.0  0.967397  0.982892  0.076073\n",
       "std   0.048249        0.0  0.048249  0.025545  0.044982"
      ]
     },
     "execution_count": 42,
     "metadata": {},
     "output_type": "execute_result"
    }
   ],
   "source": [
    "one_attack_out_xgb[[\"bacc\", \"precision\", \"recall\", \"f1\", \"fnr\"]].agg(['mean', 'std'])"
   ]
  },
  {
   "cell_type": "code",
   "execution_count": 43,
   "metadata": {},
   "outputs": [
    {
     "name": "stdout",
     "output_type": "stream",
     "text": [
      "\\begin{tabular}{lllll}\n",
      "\\toprule\n",
      "bacc & precision & recall & f1 & fnr \\\\\n",
      "\\midrule\n",
      "0.97 (0.05) & 1.00 (0.00) & 0.97 (0.05) & 0.98 (0.03) & 0.08 (0.04) \\\\\n",
      "\\bottomrule\n",
      "\\end{tabular}\n",
      "\n"
     ]
    }
   ],
   "source": [
    "format_mean_std(one_attack_out_xgb)"
   ]
  },
  {
   "cell_type": "markdown",
   "metadata": {
    "collapsed": false
   },
   "source": [
    "## Random forest"
   ]
  },
  {
   "cell_type": "code",
   "execution_count": 44,
   "metadata": {
    "collapsed": false
   },
   "outputs": [
    {
     "data": {
      "application/vnd.microsoft.datawrangler.viewer.v0+json": {
       "columns": [
        {
         "name": "index",
         "rawType": "int64",
         "type": "integer"
        },
        {
         "name": "attack",
         "rawType": "object",
         "type": "string"
        },
        {
         "name": "bacc",
         "rawType": "float64",
         "type": "float"
        },
        {
         "name": "kappa",
         "rawType": "float64",
         "type": "float"
        },
        {
         "name": "precision",
         "rawType": "float64",
         "type": "float"
        },
        {
         "name": "recall",
         "rawType": "float64",
         "type": "float"
        },
        {
         "name": "f1",
         "rawType": "float64",
         "type": "float"
        },
        {
         "name": "fnr",
         "rawType": "float64",
         "type": "float"
        }
       ],
       "ref": "d9224c26-09f5-4472-8880-315a4b19bfeb",
       "rows": [
        [
         "0",
         "bim",
         "1.0",
         null,
         "1.0",
         "1.0",
         "1.0",
         null
        ],
        [
         "1",
         "fgm",
         "1.0",
         null,
         "1.0",
         "1.0",
         "1.0",
         null
        ],
        [
         "2",
         "hsj",
         "0.984375",
         "0.0",
         "1.0",
         "0.984375",
         "0.9921259842519685",
         "0.015625"
        ],
        [
         "3",
         "noise",
         "1.0",
         null,
         "1.0",
         "1.0",
         "1.0",
         null
        ],
        [
         "4",
         "per",
         "0.8787878787878788",
         "0.0",
         "1.0",
         "0.8787878787878788",
         "0.9354838709677419",
         "0.12121212121212122"
        ],
        [
         "5",
         "pgd",
         "1.0",
         null,
         "1.0",
         "1.0",
         "1.0",
         null
        ],
        [
         "6",
         "zoo",
         "0.8939393939393939",
         "0.0",
         "1.0",
         "0.8939393939393939",
         "0.944",
         "0.10606060606060606"
        ]
       ],
       "shape": {
        "columns": 7,
        "rows": 7
       }
      },
      "text/html": [
       "<div>\n",
       "<style scoped>\n",
       "    .dataframe tbody tr th:only-of-type {\n",
       "        vertical-align: middle;\n",
       "    }\n",
       "\n",
       "    .dataframe tbody tr th {\n",
       "        vertical-align: top;\n",
       "    }\n",
       "\n",
       "    .dataframe thead th {\n",
       "        text-align: right;\n",
       "    }\n",
       "</style>\n",
       "<table border=\"1\" class=\"dataframe\">\n",
       "  <thead>\n",
       "    <tr style=\"text-align: right;\">\n",
       "      <th></th>\n",
       "      <th>attack</th>\n",
       "      <th>bacc</th>\n",
       "      <th>kappa</th>\n",
       "      <th>precision</th>\n",
       "      <th>recall</th>\n",
       "      <th>f1</th>\n",
       "      <th>fnr</th>\n",
       "    </tr>\n",
       "  </thead>\n",
       "  <tbody>\n",
       "    <tr>\n",
       "      <th>0</th>\n",
       "      <td>bim</td>\n",
       "      <td>1.000000</td>\n",
       "      <td>NaN</td>\n",
       "      <td>1.0</td>\n",
       "      <td>1.000000</td>\n",
       "      <td>1.000000</td>\n",
       "      <td>NaN</td>\n",
       "    </tr>\n",
       "    <tr>\n",
       "      <th>1</th>\n",
       "      <td>fgm</td>\n",
       "      <td>1.000000</td>\n",
       "      <td>NaN</td>\n",
       "      <td>1.0</td>\n",
       "      <td>1.000000</td>\n",
       "      <td>1.000000</td>\n",
       "      <td>NaN</td>\n",
       "    </tr>\n",
       "    <tr>\n",
       "      <th>2</th>\n",
       "      <td>hsj</td>\n",
       "      <td>0.984375</td>\n",
       "      <td>0.0</td>\n",
       "      <td>1.0</td>\n",
       "      <td>0.984375</td>\n",
       "      <td>0.992126</td>\n",
       "      <td>0.015625</td>\n",
       "    </tr>\n",
       "    <tr>\n",
       "      <th>3</th>\n",
       "      <td>noise</td>\n",
       "      <td>1.000000</td>\n",
       "      <td>NaN</td>\n",
       "      <td>1.0</td>\n",
       "      <td>1.000000</td>\n",
       "      <td>1.000000</td>\n",
       "      <td>NaN</td>\n",
       "    </tr>\n",
       "    <tr>\n",
       "      <th>4</th>\n",
       "      <td>per</td>\n",
       "      <td>0.878788</td>\n",
       "      <td>0.0</td>\n",
       "      <td>1.0</td>\n",
       "      <td>0.878788</td>\n",
       "      <td>0.935484</td>\n",
       "      <td>0.121212</td>\n",
       "    </tr>\n",
       "    <tr>\n",
       "      <th>5</th>\n",
       "      <td>pgd</td>\n",
       "      <td>1.000000</td>\n",
       "      <td>NaN</td>\n",
       "      <td>1.0</td>\n",
       "      <td>1.000000</td>\n",
       "      <td>1.000000</td>\n",
       "      <td>NaN</td>\n",
       "    </tr>\n",
       "    <tr>\n",
       "      <th>6</th>\n",
       "      <td>zoo</td>\n",
       "      <td>0.893939</td>\n",
       "      <td>0.0</td>\n",
       "      <td>1.0</td>\n",
       "      <td>0.893939</td>\n",
       "      <td>0.944000</td>\n",
       "      <td>0.106061</td>\n",
       "    </tr>\n",
       "  </tbody>\n",
       "</table>\n",
       "</div>"
      ],
      "text/plain": [
       "  attack      bacc  kappa  precision    recall        f1       fnr\n",
       "0    bim  1.000000    NaN        1.0  1.000000  1.000000       NaN\n",
       "1    fgm  1.000000    NaN        1.0  1.000000  1.000000       NaN\n",
       "2    hsj  0.984375    0.0        1.0  0.984375  0.992126  0.015625\n",
       "3  noise  1.000000    NaN        1.0  1.000000  1.000000       NaN\n",
       "4    per  0.878788    0.0        1.0  0.878788  0.935484  0.121212\n",
       "5    pgd  1.000000    NaN        1.0  1.000000  1.000000       NaN\n",
       "6    zoo  0.893939    0.0        1.0  0.893939  0.944000  0.106061"
      ]
     },
     "execution_count": 44,
     "metadata": {},
     "output_type": "execute_result"
    }
   ],
   "source": [
    "one_attack_out_rf, one_attack_out_fi_rf = leave_attack_out(model=RandomForestClassifier(random_state=123))\n",
    "one_attack_out_rf"
   ]
  },
  {
   "cell_type": "code",
   "execution_count": 45,
   "metadata": {
    "collapsed": false
   },
   "outputs": [
    {
     "data": {
      "application/vnd.microsoft.datawrangler.viewer.v0+json": {
       "columns": [
        {
         "name": "index",
         "rawType": "object",
         "type": "string"
        },
        {
         "name": "bacc",
         "rawType": "float64",
         "type": "float"
        },
        {
         "name": "precision",
         "rawType": "float64",
         "type": "float"
        },
        {
         "name": "recall",
         "rawType": "float64",
         "type": "float"
        },
        {
         "name": "f1",
         "rawType": "float64",
         "type": "float"
        },
        {
         "name": "fnr",
         "rawType": "float64",
         "type": "float"
        }
       ],
       "ref": "a49d5ebf-ada2-40d4-8a72-f636a30356aa",
       "rows": [
        [
         "mean",
         "0.9653003246753247",
         "1.0",
         "0.9653003246753247",
         "0.9816585507456729",
         "0.0809659090909091"
        ],
        [
         "std",
         "0.0544011317869703",
         "0.0",
         "0.0544011317869703",
         "0.028883298819167225",
         "0.05709174987217053"
        ]
       ],
       "shape": {
        "columns": 5,
        "rows": 2
       }
      },
      "text/html": [
       "<div>\n",
       "<style scoped>\n",
       "    .dataframe tbody tr th:only-of-type {\n",
       "        vertical-align: middle;\n",
       "    }\n",
       "\n",
       "    .dataframe tbody tr th {\n",
       "        vertical-align: top;\n",
       "    }\n",
       "\n",
       "    .dataframe thead th {\n",
       "        text-align: right;\n",
       "    }\n",
       "</style>\n",
       "<table border=\"1\" class=\"dataframe\">\n",
       "  <thead>\n",
       "    <tr style=\"text-align: right;\">\n",
       "      <th></th>\n",
       "      <th>bacc</th>\n",
       "      <th>precision</th>\n",
       "      <th>recall</th>\n",
       "      <th>f1</th>\n",
       "      <th>fnr</th>\n",
       "    </tr>\n",
       "  </thead>\n",
       "  <tbody>\n",
       "    <tr>\n",
       "      <th>mean</th>\n",
       "      <td>0.965300</td>\n",
       "      <td>1.0</td>\n",
       "      <td>0.965300</td>\n",
       "      <td>0.981659</td>\n",
       "      <td>0.080966</td>\n",
       "    </tr>\n",
       "    <tr>\n",
       "      <th>std</th>\n",
       "      <td>0.054401</td>\n",
       "      <td>0.0</td>\n",
       "      <td>0.054401</td>\n",
       "      <td>0.028883</td>\n",
       "      <td>0.057092</td>\n",
       "    </tr>\n",
       "  </tbody>\n",
       "</table>\n",
       "</div>"
      ],
      "text/plain": [
       "          bacc  precision    recall        f1       fnr\n",
       "mean  0.965300        1.0  0.965300  0.981659  0.080966\n",
       "std   0.054401        0.0  0.054401  0.028883  0.057092"
      ]
     },
     "execution_count": 45,
     "metadata": {},
     "output_type": "execute_result"
    }
   ],
   "source": [
    "one_attack_out_rf[[\"bacc\", \"precision\", \"recall\", \"f1\", \"fnr\"]].agg(['mean', 'std'])"
   ]
  },
  {
   "cell_type": "code",
   "execution_count": 46,
   "metadata": {},
   "outputs": [
    {
     "name": "stdout",
     "output_type": "stream",
     "text": [
      "\\begin{tabular}{lllll}\n",
      "\\toprule\n",
      "bacc & precision & recall & f1 & fnr \\\\\n",
      "\\midrule\n",
      "0.97 (0.05) & 1.00 (0.00) & 0.97 (0.05) & 0.98 (0.03) & 0.08 (0.06) \\\\\n",
      "\\bottomrule\n",
      "\\end{tabular}\n",
      "\n"
     ]
    }
   ],
   "source": [
    "format_mean_std(one_attack_out_rf)"
   ]
  },
  {
   "cell_type": "markdown",
   "metadata": {
    "collapsed": false
   },
   "source": [
    "## Save data"
   ]
  },
  {
   "cell_type": "code",
   "execution_count": 47,
   "metadata": {
    "collapsed": false
   },
   "outputs": [],
   "source": [
    "def preprocess_output(df, scenario, mod):\n",
    "    df[\"scenario\"] = scenario\n",
    "    df[\"model_class\"] = mod\n",
    "\n",
    "    return df\n",
    "\n",
    "one_attack_out_rf = preprocess_output(one_attack_out_rf, \"one-attack-out\", \"RF\")\n",
    "one_attack_out_xgb = preprocess_output(one_attack_out_xgb, \"one-attack-out\", \"XGB\")\n",
    "one_dataset_out_rf = preprocess_output(one_dataset_out_rf, \"one-data-set-out\", \"RF\")\n",
    "one_dataset_out_xgb = preprocess_output(one_dataset_out_xgb, \"one-data-set-out\", \"XGB\")\n",
    "one_model_out_rf = preprocess_output(one_model_out_rf, \"one-model-out\", \"RF\")\n",
    "one_model_out_xgb = preprocess_output(one_model_out_xgb, \"one-model-out\", \"XGB\")\n",
    "cv_rf = preprocess_output(cv_rf, \"10-fold cross-validation\", \"RF\")\n",
    "cv_xgb = preprocess_output(cv_xgb, \"10-fold cross-validation\", \"XGB\")\n",
    "\n",
    "all_bacc = pd.concat([one_attack_out_rf, one_attack_out_xgb,\n",
    "                      one_dataset_out_rf, one_dataset_out_xgb,\n",
    "                      one_model_out_rf, one_model_out_xgb,\n",
    "                      cv_rf, cv_xgb])"
   ]
  },
  {
   "cell_type": "code",
   "execution_count": 48,
   "metadata": {
    "collapsed": false
   },
   "outputs": [],
   "source": [
    "all_bacc.to_csv(\"results/detection_bacc_without_bacc.csv\", index=False)"
   ]
  },
  {
   "cell_type": "code",
   "execution_count": 49,
   "metadata": {
    "collapsed": false
   },
   "outputs": [],
   "source": [
    "one_attack_out_fi_rf = preprocess_output(one_attack_out_fi_rf, \"one-attack-out\", \"RF\")\n",
    "one_attack_out_fi_xgb = preprocess_output(one_attack_out_fi_xgb, \"one-attack-out\", \"XGB\")\n",
    "one_dataset_out_fi_rf = preprocess_output(one_dataset_out_fi_rf, \"one-data-set-out\", \"RF\")\n",
    "one_dataset_out_fi_xgb = preprocess_output(one_dataset_out_fi_xgb, \"one-data-set-out\", \"XGB\")\n",
    "one_model_out_fi_rf = preprocess_output(one_model_out_fi_rf, \"one-model-out\", \"RF\")\n",
    "one_model_out_fi_xgb = preprocess_output(one_model_out_fi_xgb, \"one-model-out\", \"XGB\")\n",
    "cv_fi_rf = preprocess_output(cv_fi_rf, \"10-fold cross-validation\", \"RF\")\n",
    "cv_fi_xgb = preprocess_output(cv_fi_xgb, \"10-fold cross-validation\", \"XGB\")\n",
    "\n",
    "all_fi = pd.concat([one_attack_out_fi_rf, one_attack_out_fi_xgb,\n",
    "                      one_dataset_out_fi_rf, one_dataset_out_fi_xgb,\n",
    "                      one_model_out_fi_rf, one_model_out_fi_xgb,\n",
    "                      cv_fi_rf, cv_fi_xgb])\n",
    "\n",
    "all_fi.to_csv(\"results/detection_fi_without_bacc.csv\", index=False)"
   ]
  }
 ],
 "metadata": {
  "kernelspec": {
   "display_name": "venv",
   "language": "python",
   "name": "python3"
  },
  "language_info": {
   "codemirror_mode": {
    "name": "ipython",
    "version": 3
   },
   "file_extension": ".py",
   "mimetype": "text/x-python",
   "name": "python",
   "nbconvert_exporter": "python",
   "pygments_lexer": "ipython3",
   "version": "3.13.3"
  }
 },
 "nbformat": 4,
 "nbformat_minor": 1
}
