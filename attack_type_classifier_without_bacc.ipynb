{
 "cells": [
  {
   "cell_type": "code",
   "execution_count": 63,
   "metadata": {
    "collapsed": true
   },
   "outputs": [],
   "source": [
    "import pandas as pd\n",
    "import numpy as np\n",
    "import copy\n",
    "from typing import List\n",
    "\n",
    "import xgboost as xgb\n",
    "from tqdm import tqdm\n",
    "from sklearn.pipeline import Pipeline\n",
    "from sklearn.preprocessing import LabelEncoder\n",
    "from sklearn.ensemble import RandomForestClassifier\n",
    "from sklearn.metrics import balanced_accuracy_score, cohen_kappa_score, precision_score, recall_score, f1_score, confusion_matrix\n",
    "from sklearn.model_selection import StratifiedKFold\n",
    "\n",
    "import warnings\n",
    "warnings.filterwarnings(\"ignore\")"
   ]
  },
  {
   "cell_type": "markdown",
   "metadata": {},
   "source": []
  },
  {
   "cell_type": "code",
   "execution_count": 64,
   "metadata": {},
   "outputs": [],
   "source": [
    "d = pd.read_csv(\"results/attacks_diagnoses.csv\")\n",
    "d = d[(d[\"dataset\"] != \"mfeat-morphological\") & (d[\"attack\"] != \"lpf\")]"
   ]
  },
  {
   "cell_type": "code",
   "execution_count": 65,
   "metadata": {},
   "outputs": [],
   "source": [
    "def multiclass_false_negative_rate(y_true: List[str], y_pred: List[str]) -> float:\n",
    "    \"\"\"\n",
    "    Calculates the average False Negative Rate (FNR) across all classes in a\n",
    "    multiclass classification.\n",
    "\n",
    "    The False Negative Rate (FNR) for a class is the proportion of actual\n",
    "    positive cases for that class that were incorrectly identified as negative.\n",
    "    FNR = False Negatives / (False Negatives + True Positives)\n",
    "\n",
    "    This function computes the FNR for each class and then returns the average\n",
    "    of these values.\n",
    "\n",
    "    Args:\n",
    "        y_true (List[str]): A list of true labels.\n",
    "        y_pred (List[str]): A list of predicted labels.\n",
    "\n",
    "    Returns:\n",
    "        float: The average False Negative Rate across all classes.\n",
    "               Returns 0.0 if there are no classes with true positives.\n",
    "    \"\"\"\n",
    "    if len(y_true) != len(y_pred):\n",
    "        raise ValueError(\"Input arrays y_true and y_pred must have the same length.\")\n",
    "\n",
    "    unique_classes = np.unique(y_true)\n",
    "    fnr_values = []\n",
    "\n",
    "    for c in unique_classes:\n",
    "        # Identify instances where the true label is the current class 'c'\n",
    "        actual_positives = np.array(y_true) == c\n",
    "\n",
    "        # Find true positives (y_true == c AND y_pred == c)\n",
    "        true_positives = np.sum((np.array(y_pred) == c) & actual_positives)\n",
    "\n",
    "        # Find false negatives (y_true == c AND y_pred != c)\n",
    "        false_negatives = np.sum((np.array(y_pred) != c) & actual_positives)\n",
    "\n",
    "        # Calculate FNR for the current class\n",
    "        total_positives = true_positives + false_negatives\n",
    "        if total_positives == 0:\n",
    "            fnr = 0.0\n",
    "        else:\n",
    "            fnr = false_negatives / total_positives\n",
    "\n",
    "        fnr_values.append(fnr)\n",
    "\n",
    "    # Calculate the average FNR\n",
    "    if not fnr_values:\n",
    "        return 0.0\n",
    "    return np.mean(fnr_values)"
   ]
  },
  {
   "cell_type": "code",
   "execution_count": 66,
   "metadata": {},
   "outputs": [],
   "source": [
    "def q0(x: float) -> float:\n",
    "    return x.quantile(0)\n",
    "\n",
    "\n",
    "def q25(x: float) -> float:\n",
    "    return x.quantile(0.25)\n",
    "\n",
    "\n",
    "def q50(x: float) -> float:\n",
    "    return x.quantile(0.5)\n",
    "\n",
    "\n",
    "def q75(x: float) -> float:\n",
    "    return x.quantile(0.75)\n",
    "\n",
    "\n",
    "def q1(x: float) -> float:\n",
    "    return x.quantile(1)\n",
    "\n",
    "\n",
    "def minmax(x: float) -> float:\n",
    "    return x.max() - x.min()\n",
    "\n",
    "def false_negative_rate(y_true, y_pred):\n",
    "    if confusion_matrix(y_true, y_pred).shape == (2, 2):\n",
    "        tn, fp, fn, tp = confusion_matrix(y_true, y_pred).ravel()\n",
    "        return fn / (fn + tp)\n",
    "    else:\n",
    "        return np.nan\n",
    "\n",
    "attrs_con = d\n",
    "cols_to_drop = [\"approx\", \"target\", \"pred\", \"error\", \"name\",\n",
    "                    \"overall_mean_target\", \"scores\",\n",
    "                    \"mean_target_in_neighborhood\",\n",
    "                    \"mean_approx_in_neighborhood\",\n",
    "                    \"neighborhood_size_div_model_avg\",\n",
    "                    \"neighborhood_size_pct\",\n",
    "                    \"r_centered_entropy\",\n",
    "                \"entropy\",\n",
    "                    \"logk_r_centered_entropy\",\n",
    "                    \"bacc_test\"]\n",
    "\n",
    "attrs_cols = attrs_con.drop(columns=cols_to_drop)\n",
    "attrs_agg = attrs_cols \\\n",
    "    .groupby([\"dataset\", \"model\", \"attack\", \n",
    "              \"n_test\", \"n_classes\"]) \\\n",
    "    .agg(['mean', q0, q25, q50, q75, q1, minmax])\n",
    "attrs_agg_correct_cols = copy.deepcopy(attrs_agg)\n",
    "attrs_agg_correct_cols.columns = list(attrs_agg_correct_cols.columns.map('_'.join))\n",
    "attrs_agg_correct_cols = attrs_agg_correct_cols.reset_index()"
   ]
  },
  {
   "cell_type": "code",
   "execution_count": 67,
   "metadata": {},
   "outputs": [],
   "source": [
    "d_nn = pd.read_csv(\"results/attacks_diagnoses_nn.csv\")\n",
    "\n",
    "attrs_cols = d_nn.drop(columns=cols_to_drop)\n",
    "attrs_agg = attrs_cols \\\n",
    "    .groupby([\"dataset\", \"model\", \"attack\", \n",
    "              \"n_test\", \"n_classes\"]) \\\n",
    "    .agg(['mean', q0, q25, q50, q75, q1, minmax])\n",
    "attrs_agg_correct_cols_nn = copy.deepcopy(attrs_agg)\n",
    "attrs_agg_correct_cols_nn.columns = list(attrs_agg_correct_cols_nn.columns.map('_'.join))\n",
    "attrs_agg_correct_cols_nn = attrs_agg_correct_cols_nn.reset_index()"
   ]
  },
  {
   "cell_type": "code",
   "execution_count": 68,
   "metadata": {},
   "outputs": [],
   "source": [
    "attrs_agg_correct_cols = pd.concat([attrs_agg_correct_cols, attrs_agg_correct_cols_nn])"
   ]
  },
  {
   "cell_type": "code",
   "execution_count": 69,
   "metadata": {},
   "outputs": [
    {
     "data": {
      "text/plain": [
       "(array(['bim', 'fgm', 'hsj', 'noise', 'org', 'per', 'pgd', 'zoo'],\n",
       "       dtype=object),\n",
       " array([22, 22, 64, 22, 88, 66, 22, 66]))"
      ]
     },
     "execution_count": 69,
     "metadata": {},
     "output_type": "execute_result"
    }
   ],
   "source": [
    "np.unique(attrs_agg_correct_cols[\"attack\"], return_counts=True)"
   ]
  },
  {
   "cell_type": "code",
   "execution_count": 70,
   "metadata": {},
   "outputs": [
    {
     "data": {
      "application/vnd.microsoft.datawrangler.viewer.v0+json": {
       "columns": [
        {
         "name": "index",
         "rawType": "int64",
         "type": "integer"
        },
        {
         "name": "dataset",
         "rawType": "object",
         "type": "string"
        },
        {
         "name": "model",
         "rawType": "object",
         "type": "string"
        },
        {
         "name": "counts",
         "rawType": "int64",
         "type": "integer"
        }
       ],
       "ref": "dc7b6012-1a82-4f86-b1da-4b365228d392",
       "rows": [
        [
         "0",
         "Bioresponse",
         "lin",
         "4"
        ],
        [
         "1",
         "Bioresponse",
         "nn",
         "5"
        ],
        [
         "2",
         "Bioresponse",
         "svm",
         "4"
        ],
        [
         "3",
         "Bioresponse",
         "xgb",
         "4"
        ],
        [
         "4",
         "churn",
         "lin",
         "4"
        ],
        [
         "5",
         "churn",
         "nn",
         "5"
        ],
        [
         "6",
         "churn",
         "svm",
         "4"
        ],
        [
         "7",
         "churn",
         "xgb",
         "4"
        ],
        [
         "8",
         "cmc",
         "lin",
         "4"
        ],
        [
         "9",
         "cmc",
         "nn",
         "5"
        ],
        [
         "10",
         "cmc",
         "svm",
         "4"
        ],
        [
         "11",
         "cmc",
         "xgb",
         "4"
        ],
        [
         "12",
         "cnae-9",
         "lin",
         "4"
        ],
        [
         "13",
         "cnae-9",
         "nn",
         "5"
        ],
        [
         "14",
         "cnae-9",
         "svm",
         "4"
        ],
        [
         "15",
         "cnae-9",
         "xgb",
         "4"
        ],
        [
         "16",
         "dna",
         "lin",
         "4"
        ],
        [
         "17",
         "dna",
         "nn",
         "5"
        ],
        [
         "18",
         "dna",
         "svm",
         "4"
        ],
        [
         "19",
         "dna",
         "xgb",
         "4"
        ],
        [
         "20",
         "har",
         "lin",
         "4"
        ],
        [
         "21",
         "har",
         "nn",
         "5"
        ],
        [
         "22",
         "har",
         "svm",
         "4"
        ],
        [
         "23",
         "har",
         "xgb",
         "4"
        ],
        [
         "24",
         "madelon",
         "lin",
         "4"
        ],
        [
         "25",
         "madelon",
         "nn",
         "5"
        ],
        [
         "26",
         "madelon",
         "svm",
         "4"
        ],
        [
         "27",
         "madelon",
         "xgb",
         "3"
        ],
        [
         "28",
         "mfeat-factors",
         "lin",
         "4"
        ],
        [
         "29",
         "mfeat-factors",
         "nn",
         "5"
        ],
        [
         "30",
         "mfeat-factors",
         "svm",
         "4"
        ],
        [
         "31",
         "mfeat-factors",
         "xgb",
         "4"
        ],
        [
         "32",
         "mfeat-fourier",
         "lin",
         "4"
        ],
        [
         "33",
         "mfeat-fourier",
         "nn",
         "5"
        ],
        [
         "34",
         "mfeat-fourier",
         "svm",
         "4"
        ],
        [
         "35",
         "mfeat-fourier",
         "xgb",
         "4"
        ],
        [
         "36",
         "mfeat-karhunen",
         "lin",
         "4"
        ],
        [
         "37",
         "mfeat-karhunen",
         "nn",
         "5"
        ],
        [
         "38",
         "mfeat-karhunen",
         "svm",
         "4"
        ],
        [
         "39",
         "mfeat-karhunen",
         "xgb",
         "4"
        ],
        [
         "40",
         "mfeat-zernike",
         "lin",
         "4"
        ],
        [
         "41",
         "mfeat-zernike",
         "nn",
         "5"
        ],
        [
         "42",
         "mfeat-zernike",
         "svm",
         "4"
        ],
        [
         "43",
         "mfeat-zernike",
         "xgb",
         "4"
        ],
        [
         "44",
         "nomao",
         "lin",
         "4"
        ],
        [
         "45",
         "nomao",
         "nn",
         "5"
        ],
        [
         "46",
         "nomao",
         "svm",
         "4"
        ],
        [
         "47",
         "nomao",
         "xgb",
         "4"
        ],
        [
         "48",
         "optdigits",
         "lin",
         "4"
        ],
        [
         "49",
         "optdigits",
         "nn",
         "5"
        ]
       ],
       "shape": {
        "columns": 3,
        "rows": 88
       }
      },
      "text/html": [
       "<div>\n",
       "<style scoped>\n",
       "    .dataframe tbody tr th:only-of-type {\n",
       "        vertical-align: middle;\n",
       "    }\n",
       "\n",
       "    .dataframe tbody tr th {\n",
       "        vertical-align: top;\n",
       "    }\n",
       "\n",
       "    .dataframe thead th {\n",
       "        text-align: right;\n",
       "    }\n",
       "</style>\n",
       "<table border=\"1\" class=\"dataframe\">\n",
       "  <thead>\n",
       "    <tr style=\"text-align: right;\">\n",
       "      <th></th>\n",
       "      <th>dataset</th>\n",
       "      <th>model</th>\n",
       "      <th>counts</th>\n",
       "    </tr>\n",
       "  </thead>\n",
       "  <tbody>\n",
       "    <tr>\n",
       "      <th>0</th>\n",
       "      <td>Bioresponse</td>\n",
       "      <td>lin</td>\n",
       "      <td>4</td>\n",
       "    </tr>\n",
       "    <tr>\n",
       "      <th>1</th>\n",
       "      <td>Bioresponse</td>\n",
       "      <td>nn</td>\n",
       "      <td>5</td>\n",
       "    </tr>\n",
       "    <tr>\n",
       "      <th>2</th>\n",
       "      <td>Bioresponse</td>\n",
       "      <td>svm</td>\n",
       "      <td>4</td>\n",
       "    </tr>\n",
       "    <tr>\n",
       "      <th>3</th>\n",
       "      <td>Bioresponse</td>\n",
       "      <td>xgb</td>\n",
       "      <td>4</td>\n",
       "    </tr>\n",
       "    <tr>\n",
       "      <th>4</th>\n",
       "      <td>churn</td>\n",
       "      <td>lin</td>\n",
       "      <td>4</td>\n",
       "    </tr>\n",
       "    <tr>\n",
       "      <th>...</th>\n",
       "      <td>...</td>\n",
       "      <td>...</td>\n",
       "      <td>...</td>\n",
       "    </tr>\n",
       "    <tr>\n",
       "      <th>83</th>\n",
       "      <td>wdbc</td>\n",
       "      <td>xgb</td>\n",
       "      <td>4</td>\n",
       "    </tr>\n",
       "    <tr>\n",
       "      <th>84</th>\n",
       "      <td>wilt</td>\n",
       "      <td>lin</td>\n",
       "      <td>4</td>\n",
       "    </tr>\n",
       "    <tr>\n",
       "      <th>85</th>\n",
       "      <td>wilt</td>\n",
       "      <td>nn</td>\n",
       "      <td>5</td>\n",
       "    </tr>\n",
       "    <tr>\n",
       "      <th>86</th>\n",
       "      <td>wilt</td>\n",
       "      <td>svm</td>\n",
       "      <td>4</td>\n",
       "    </tr>\n",
       "    <tr>\n",
       "      <th>87</th>\n",
       "      <td>wilt</td>\n",
       "      <td>xgb</td>\n",
       "      <td>4</td>\n",
       "    </tr>\n",
       "  </tbody>\n",
       "</table>\n",
       "<p>88 rows × 3 columns</p>\n",
       "</div>"
      ],
      "text/plain": [
       "        dataset model  counts\n",
       "0   Bioresponse   lin       4\n",
       "1   Bioresponse    nn       5\n",
       "2   Bioresponse   svm       4\n",
       "3   Bioresponse   xgb       4\n",
       "4         churn   lin       4\n",
       "..          ...   ...     ...\n",
       "83         wdbc   xgb       4\n",
       "84         wilt   lin       4\n",
       "85         wilt    nn       5\n",
       "86         wilt   svm       4\n",
       "87         wilt   xgb       4\n",
       "\n",
       "[88 rows x 3 columns]"
      ]
     },
     "execution_count": 70,
     "metadata": {},
     "output_type": "execute_result"
    }
   ],
   "source": [
    "data_counts = attrs_agg_correct_cols[[\"dataset\", \"model\", \"attack\"]].groupby([\"dataset\", \"model\"]).size().reset_index(name='counts')\n",
    "data_counts"
   ]
  },
  {
   "cell_type": "code",
   "execution_count": 71,
   "metadata": {},
   "outputs": [
    {
     "data": {
      "application/vnd.microsoft.datawrangler.viewer.v0+json": {
       "columns": [
        {
         "name": "index",
         "rawType": "int64",
         "type": "integer"
        },
        {
         "name": "dataset",
         "rawType": "object",
         "type": "string"
        },
        {
         "name": "attack",
         "rawType": "object",
         "type": "string"
        },
        {
         "name": "counts",
         "rawType": "int64",
         "type": "integer"
        }
       ],
       "ref": "e81cfec7-d325-4828-9dd5-d093e9eadc42",
       "rows": [
        [
         "0",
         "Bioresponse",
         "bim",
         "1"
        ],
        [
         "1",
         "Bioresponse",
         "fgm",
         "1"
        ],
        [
         "2",
         "Bioresponse",
         "hsj",
         "3"
        ],
        [
         "3",
         "Bioresponse",
         "noise",
         "1"
        ],
        [
         "4",
         "Bioresponse",
         "org",
         "4"
        ],
        [
         "5",
         "Bioresponse",
         "per",
         "3"
        ],
        [
         "6",
         "Bioresponse",
         "pgd",
         "1"
        ],
        [
         "7",
         "Bioresponse",
         "zoo",
         "3"
        ],
        [
         "8",
         "churn",
         "bim",
         "1"
        ],
        [
         "9",
         "churn",
         "fgm",
         "1"
        ],
        [
         "10",
         "churn",
         "hsj",
         "3"
        ],
        [
         "11",
         "churn",
         "noise",
         "1"
        ],
        [
         "12",
         "churn",
         "org",
         "4"
        ],
        [
         "13",
         "churn",
         "per",
         "3"
        ],
        [
         "14",
         "churn",
         "pgd",
         "1"
        ],
        [
         "15",
         "churn",
         "zoo",
         "3"
        ],
        [
         "16",
         "cmc",
         "bim",
         "1"
        ],
        [
         "17",
         "cmc",
         "fgm",
         "1"
        ],
        [
         "18",
         "cmc",
         "hsj",
         "3"
        ],
        [
         "19",
         "cmc",
         "noise",
         "1"
        ],
        [
         "20",
         "cmc",
         "org",
         "4"
        ],
        [
         "21",
         "cmc",
         "per",
         "3"
        ],
        [
         "22",
         "cmc",
         "pgd",
         "1"
        ],
        [
         "23",
         "cmc",
         "zoo",
         "3"
        ],
        [
         "24",
         "cnae-9",
         "bim",
         "1"
        ],
        [
         "25",
         "cnae-9",
         "fgm",
         "1"
        ],
        [
         "26",
         "cnae-9",
         "hsj",
         "3"
        ],
        [
         "27",
         "cnae-9",
         "noise",
         "1"
        ],
        [
         "28",
         "cnae-9",
         "org",
         "4"
        ],
        [
         "29",
         "cnae-9",
         "per",
         "3"
        ],
        [
         "30",
         "cnae-9",
         "pgd",
         "1"
        ],
        [
         "31",
         "cnae-9",
         "zoo",
         "3"
        ],
        [
         "32",
         "dna",
         "bim",
         "1"
        ],
        [
         "33",
         "dna",
         "fgm",
         "1"
        ],
        [
         "34",
         "dna",
         "hsj",
         "3"
        ],
        [
         "35",
         "dna",
         "noise",
         "1"
        ],
        [
         "36",
         "dna",
         "org",
         "4"
        ],
        [
         "37",
         "dna",
         "per",
         "3"
        ],
        [
         "38",
         "dna",
         "pgd",
         "1"
        ],
        [
         "39",
         "dna",
         "zoo",
         "3"
        ],
        [
         "40",
         "har",
         "bim",
         "1"
        ],
        [
         "41",
         "har",
         "fgm",
         "1"
        ],
        [
         "42",
         "har",
         "hsj",
         "3"
        ],
        [
         "43",
         "har",
         "noise",
         "1"
        ],
        [
         "44",
         "har",
         "org",
         "4"
        ],
        [
         "45",
         "har",
         "per",
         "3"
        ],
        [
         "46",
         "har",
         "pgd",
         "1"
        ],
        [
         "47",
         "har",
         "zoo",
         "3"
        ],
        [
         "48",
         "madelon",
         "bim",
         "1"
        ],
        [
         "49",
         "madelon",
         "fgm",
         "1"
        ]
       ],
       "shape": {
        "columns": 3,
        "rows": 176
       }
      },
      "text/html": [
       "<div>\n",
       "<style scoped>\n",
       "    .dataframe tbody tr th:only-of-type {\n",
       "        vertical-align: middle;\n",
       "    }\n",
       "\n",
       "    .dataframe tbody tr th {\n",
       "        vertical-align: top;\n",
       "    }\n",
       "\n",
       "    .dataframe thead th {\n",
       "        text-align: right;\n",
       "    }\n",
       "</style>\n",
       "<table border=\"1\" class=\"dataframe\">\n",
       "  <thead>\n",
       "    <tr style=\"text-align: right;\">\n",
       "      <th></th>\n",
       "      <th>dataset</th>\n",
       "      <th>attack</th>\n",
       "      <th>counts</th>\n",
       "    </tr>\n",
       "  </thead>\n",
       "  <tbody>\n",
       "    <tr>\n",
       "      <th>0</th>\n",
       "      <td>Bioresponse</td>\n",
       "      <td>bim</td>\n",
       "      <td>1</td>\n",
       "    </tr>\n",
       "    <tr>\n",
       "      <th>1</th>\n",
       "      <td>Bioresponse</td>\n",
       "      <td>fgm</td>\n",
       "      <td>1</td>\n",
       "    </tr>\n",
       "    <tr>\n",
       "      <th>2</th>\n",
       "      <td>Bioresponse</td>\n",
       "      <td>hsj</td>\n",
       "      <td>3</td>\n",
       "    </tr>\n",
       "    <tr>\n",
       "      <th>3</th>\n",
       "      <td>Bioresponse</td>\n",
       "      <td>noise</td>\n",
       "      <td>1</td>\n",
       "    </tr>\n",
       "    <tr>\n",
       "      <th>4</th>\n",
       "      <td>Bioresponse</td>\n",
       "      <td>org</td>\n",
       "      <td>4</td>\n",
       "    </tr>\n",
       "    <tr>\n",
       "      <th>...</th>\n",
       "      <td>...</td>\n",
       "      <td>...</td>\n",
       "      <td>...</td>\n",
       "    </tr>\n",
       "    <tr>\n",
       "      <th>171</th>\n",
       "      <td>wilt</td>\n",
       "      <td>noise</td>\n",
       "      <td>1</td>\n",
       "    </tr>\n",
       "    <tr>\n",
       "      <th>172</th>\n",
       "      <td>wilt</td>\n",
       "      <td>org</td>\n",
       "      <td>4</td>\n",
       "    </tr>\n",
       "    <tr>\n",
       "      <th>173</th>\n",
       "      <td>wilt</td>\n",
       "      <td>per</td>\n",
       "      <td>3</td>\n",
       "    </tr>\n",
       "    <tr>\n",
       "      <th>174</th>\n",
       "      <td>wilt</td>\n",
       "      <td>pgd</td>\n",
       "      <td>1</td>\n",
       "    </tr>\n",
       "    <tr>\n",
       "      <th>175</th>\n",
       "      <td>wilt</td>\n",
       "      <td>zoo</td>\n",
       "      <td>3</td>\n",
       "    </tr>\n",
       "  </tbody>\n",
       "</table>\n",
       "<p>176 rows × 3 columns</p>\n",
       "</div>"
      ],
      "text/plain": [
       "         dataset attack  counts\n",
       "0    Bioresponse    bim       1\n",
       "1    Bioresponse    fgm       1\n",
       "2    Bioresponse    hsj       3\n",
       "3    Bioresponse  noise       1\n",
       "4    Bioresponse    org       4\n",
       "..           ...    ...     ...\n",
       "171         wilt  noise       1\n",
       "172         wilt    org       4\n",
       "173         wilt    per       3\n",
       "174         wilt    pgd       1\n",
       "175         wilt    zoo       3\n",
       "\n",
       "[176 rows x 3 columns]"
      ]
     },
     "execution_count": 71,
     "metadata": {},
     "output_type": "execute_result"
    }
   ],
   "source": [
    "data_counts_model_type = attrs_agg_correct_cols[[\"dataset\", \"model\", \"attack\"]].groupby([\"dataset\", \"attack\"]).size().reset_index(name='counts')\n",
    "data_counts_model_type"
   ]
  },
  {
   "cell_type": "code",
   "execution_count": 72,
   "metadata": {},
   "outputs": [
    {
     "data": {
      "text/html": [
       "<style>#sk-container-id-3 {\n",
       "  /* Definition of color scheme common for light and dark mode */\n",
       "  --sklearn-color-text: #000;\n",
       "  --sklearn-color-text-muted: #666;\n",
       "  --sklearn-color-line: gray;\n",
       "  /* Definition of color scheme for unfitted estimators */\n",
       "  --sklearn-color-unfitted-level-0: #fff5e6;\n",
       "  --sklearn-color-unfitted-level-1: #f6e4d2;\n",
       "  --sklearn-color-unfitted-level-2: #ffe0b3;\n",
       "  --sklearn-color-unfitted-level-3: chocolate;\n",
       "  /* Definition of color scheme for fitted estimators */\n",
       "  --sklearn-color-fitted-level-0: #f0f8ff;\n",
       "  --sklearn-color-fitted-level-1: #d4ebff;\n",
       "  --sklearn-color-fitted-level-2: #b3dbfd;\n",
       "  --sklearn-color-fitted-level-3: cornflowerblue;\n",
       "\n",
       "  /* Specific color for light theme */\n",
       "  --sklearn-color-text-on-default-background: var(--sg-text-color, var(--theme-code-foreground, var(--jp-content-font-color1, black)));\n",
       "  --sklearn-color-background: var(--sg-background-color, var(--theme-background, var(--jp-layout-color0, white)));\n",
       "  --sklearn-color-border-box: var(--sg-text-color, var(--theme-code-foreground, var(--jp-content-font-color1, black)));\n",
       "  --sklearn-color-icon: #696969;\n",
       "\n",
       "  @media (prefers-color-scheme: dark) {\n",
       "    /* Redefinition of color scheme for dark theme */\n",
       "    --sklearn-color-text-on-default-background: var(--sg-text-color, var(--theme-code-foreground, var(--jp-content-font-color1, white)));\n",
       "    --sklearn-color-background: var(--sg-background-color, var(--theme-background, var(--jp-layout-color0, #111)));\n",
       "    --sklearn-color-border-box: var(--sg-text-color, var(--theme-code-foreground, var(--jp-content-font-color1, white)));\n",
       "    --sklearn-color-icon: #878787;\n",
       "  }\n",
       "}\n",
       "\n",
       "#sk-container-id-3 {\n",
       "  color: var(--sklearn-color-text);\n",
       "}\n",
       "\n",
       "#sk-container-id-3 pre {\n",
       "  padding: 0;\n",
       "}\n",
       "\n",
       "#sk-container-id-3 input.sk-hidden--visually {\n",
       "  border: 0;\n",
       "  clip: rect(1px 1px 1px 1px);\n",
       "  clip: rect(1px, 1px, 1px, 1px);\n",
       "  height: 1px;\n",
       "  margin: -1px;\n",
       "  overflow: hidden;\n",
       "  padding: 0;\n",
       "  position: absolute;\n",
       "  width: 1px;\n",
       "}\n",
       "\n",
       "#sk-container-id-3 div.sk-dashed-wrapped {\n",
       "  border: 1px dashed var(--sklearn-color-line);\n",
       "  margin: 0 0.4em 0.5em 0.4em;\n",
       "  box-sizing: border-box;\n",
       "  padding-bottom: 0.4em;\n",
       "  background-color: var(--sklearn-color-background);\n",
       "}\n",
       "\n",
       "#sk-container-id-3 div.sk-container {\n",
       "  /* jupyter's `normalize.less` sets `[hidden] { display: none; }`\n",
       "     but bootstrap.min.css set `[hidden] { display: none !important; }`\n",
       "     so we also need the `!important` here to be able to override the\n",
       "     default hidden behavior on the sphinx rendered scikit-learn.org.\n",
       "     See: https://github.com/scikit-learn/scikit-learn/issues/21755 */\n",
       "  display: inline-block !important;\n",
       "  position: relative;\n",
       "}\n",
       "\n",
       "#sk-container-id-3 div.sk-text-repr-fallback {\n",
       "  display: none;\n",
       "}\n",
       "\n",
       "div.sk-parallel-item,\n",
       "div.sk-serial,\n",
       "div.sk-item {\n",
       "  /* draw centered vertical line to link estimators */\n",
       "  background-image: linear-gradient(var(--sklearn-color-text-on-default-background), var(--sklearn-color-text-on-default-background));\n",
       "  background-size: 2px 100%;\n",
       "  background-repeat: no-repeat;\n",
       "  background-position: center center;\n",
       "}\n",
       "\n",
       "/* Parallel-specific style estimator block */\n",
       "\n",
       "#sk-container-id-3 div.sk-parallel-item::after {\n",
       "  content: \"\";\n",
       "  width: 100%;\n",
       "  border-bottom: 2px solid var(--sklearn-color-text-on-default-background);\n",
       "  flex-grow: 1;\n",
       "}\n",
       "\n",
       "#sk-container-id-3 div.sk-parallel {\n",
       "  display: flex;\n",
       "  align-items: stretch;\n",
       "  justify-content: center;\n",
       "  background-color: var(--sklearn-color-background);\n",
       "  position: relative;\n",
       "}\n",
       "\n",
       "#sk-container-id-3 div.sk-parallel-item {\n",
       "  display: flex;\n",
       "  flex-direction: column;\n",
       "}\n",
       "\n",
       "#sk-container-id-3 div.sk-parallel-item:first-child::after {\n",
       "  align-self: flex-end;\n",
       "  width: 50%;\n",
       "}\n",
       "\n",
       "#sk-container-id-3 div.sk-parallel-item:last-child::after {\n",
       "  align-self: flex-start;\n",
       "  width: 50%;\n",
       "}\n",
       "\n",
       "#sk-container-id-3 div.sk-parallel-item:only-child::after {\n",
       "  width: 0;\n",
       "}\n",
       "\n",
       "/* Serial-specific style estimator block */\n",
       "\n",
       "#sk-container-id-3 div.sk-serial {\n",
       "  display: flex;\n",
       "  flex-direction: column;\n",
       "  align-items: center;\n",
       "  background-color: var(--sklearn-color-background);\n",
       "  padding-right: 1em;\n",
       "  padding-left: 1em;\n",
       "}\n",
       "\n",
       "\n",
       "/* Toggleable style: style used for estimator/Pipeline/ColumnTransformer box that is\n",
       "clickable and can be expanded/collapsed.\n",
       "- Pipeline and ColumnTransformer use this feature and define the default style\n",
       "- Estimators will overwrite some part of the style using the `sk-estimator` class\n",
       "*/\n",
       "\n",
       "/* Pipeline and ColumnTransformer style (default) */\n",
       "\n",
       "#sk-container-id-3 div.sk-toggleable {\n",
       "  /* Default theme specific background. It is overwritten whether we have a\n",
       "  specific estimator or a Pipeline/ColumnTransformer */\n",
       "  background-color: var(--sklearn-color-background);\n",
       "}\n",
       "\n",
       "/* Toggleable label */\n",
       "#sk-container-id-3 label.sk-toggleable__label {\n",
       "  cursor: pointer;\n",
       "  display: flex;\n",
       "  width: 100%;\n",
       "  margin-bottom: 0;\n",
       "  padding: 0.5em;\n",
       "  box-sizing: border-box;\n",
       "  text-align: center;\n",
       "  align-items: start;\n",
       "  justify-content: space-between;\n",
       "  gap: 0.5em;\n",
       "}\n",
       "\n",
       "#sk-container-id-3 label.sk-toggleable__label .caption {\n",
       "  font-size: 0.6rem;\n",
       "  font-weight: lighter;\n",
       "  color: var(--sklearn-color-text-muted);\n",
       "}\n",
       "\n",
       "#sk-container-id-3 label.sk-toggleable__label-arrow:before {\n",
       "  /* Arrow on the left of the label */\n",
       "  content: \"▸\";\n",
       "  float: left;\n",
       "  margin-right: 0.25em;\n",
       "  color: var(--sklearn-color-icon);\n",
       "}\n",
       "\n",
       "#sk-container-id-3 label.sk-toggleable__label-arrow:hover:before {\n",
       "  color: var(--sklearn-color-text);\n",
       "}\n",
       "\n",
       "/* Toggleable content - dropdown */\n",
       "\n",
       "#sk-container-id-3 div.sk-toggleable__content {\n",
       "  display: none;\n",
       "  text-align: left;\n",
       "  /* unfitted */\n",
       "  background-color: var(--sklearn-color-unfitted-level-0);\n",
       "}\n",
       "\n",
       "#sk-container-id-3 div.sk-toggleable__content.fitted {\n",
       "  /* fitted */\n",
       "  background-color: var(--sklearn-color-fitted-level-0);\n",
       "}\n",
       "\n",
       "#sk-container-id-3 div.sk-toggleable__content pre {\n",
       "  margin: 0.2em;\n",
       "  border-radius: 0.25em;\n",
       "  color: var(--sklearn-color-text);\n",
       "  /* unfitted */\n",
       "  background-color: var(--sklearn-color-unfitted-level-0);\n",
       "}\n",
       "\n",
       "#sk-container-id-3 div.sk-toggleable__content.fitted pre {\n",
       "  /* unfitted */\n",
       "  background-color: var(--sklearn-color-fitted-level-0);\n",
       "}\n",
       "\n",
       "#sk-container-id-3 input.sk-toggleable__control:checked~div.sk-toggleable__content {\n",
       "  /* Expand drop-down */\n",
       "  display: block;\n",
       "  width: 100%;\n",
       "  overflow: visible;\n",
       "}\n",
       "\n",
       "#sk-container-id-3 input.sk-toggleable__control:checked~label.sk-toggleable__label-arrow:before {\n",
       "  content: \"▾\";\n",
       "}\n",
       "\n",
       "/* Pipeline/ColumnTransformer-specific style */\n",
       "\n",
       "#sk-container-id-3 div.sk-label input.sk-toggleable__control:checked~label.sk-toggleable__label {\n",
       "  color: var(--sklearn-color-text);\n",
       "  background-color: var(--sklearn-color-unfitted-level-2);\n",
       "}\n",
       "\n",
       "#sk-container-id-3 div.sk-label.fitted input.sk-toggleable__control:checked~label.sk-toggleable__label {\n",
       "  background-color: var(--sklearn-color-fitted-level-2);\n",
       "}\n",
       "\n",
       "/* Estimator-specific style */\n",
       "\n",
       "/* Colorize estimator box */\n",
       "#sk-container-id-3 div.sk-estimator input.sk-toggleable__control:checked~label.sk-toggleable__label {\n",
       "  /* unfitted */\n",
       "  background-color: var(--sklearn-color-unfitted-level-2);\n",
       "}\n",
       "\n",
       "#sk-container-id-3 div.sk-estimator.fitted input.sk-toggleable__control:checked~label.sk-toggleable__label {\n",
       "  /* fitted */\n",
       "  background-color: var(--sklearn-color-fitted-level-2);\n",
       "}\n",
       "\n",
       "#sk-container-id-3 div.sk-label label.sk-toggleable__label,\n",
       "#sk-container-id-3 div.sk-label label {\n",
       "  /* The background is the default theme color */\n",
       "  color: var(--sklearn-color-text-on-default-background);\n",
       "}\n",
       "\n",
       "/* On hover, darken the color of the background */\n",
       "#sk-container-id-3 div.sk-label:hover label.sk-toggleable__label {\n",
       "  color: var(--sklearn-color-text);\n",
       "  background-color: var(--sklearn-color-unfitted-level-2);\n",
       "}\n",
       "\n",
       "/* Label box, darken color on hover, fitted */\n",
       "#sk-container-id-3 div.sk-label.fitted:hover label.sk-toggleable__label.fitted {\n",
       "  color: var(--sklearn-color-text);\n",
       "  background-color: var(--sklearn-color-fitted-level-2);\n",
       "}\n",
       "\n",
       "/* Estimator label */\n",
       "\n",
       "#sk-container-id-3 div.sk-label label {\n",
       "  font-family: monospace;\n",
       "  font-weight: bold;\n",
       "  display: inline-block;\n",
       "  line-height: 1.2em;\n",
       "}\n",
       "\n",
       "#sk-container-id-3 div.sk-label-container {\n",
       "  text-align: center;\n",
       "}\n",
       "\n",
       "/* Estimator-specific */\n",
       "#sk-container-id-3 div.sk-estimator {\n",
       "  font-family: monospace;\n",
       "  border: 1px dotted var(--sklearn-color-border-box);\n",
       "  border-radius: 0.25em;\n",
       "  box-sizing: border-box;\n",
       "  margin-bottom: 0.5em;\n",
       "  /* unfitted */\n",
       "  background-color: var(--sklearn-color-unfitted-level-0);\n",
       "}\n",
       "\n",
       "#sk-container-id-3 div.sk-estimator.fitted {\n",
       "  /* fitted */\n",
       "  background-color: var(--sklearn-color-fitted-level-0);\n",
       "}\n",
       "\n",
       "/* on hover */\n",
       "#sk-container-id-3 div.sk-estimator:hover {\n",
       "  /* unfitted */\n",
       "  background-color: var(--sklearn-color-unfitted-level-2);\n",
       "}\n",
       "\n",
       "#sk-container-id-3 div.sk-estimator.fitted:hover {\n",
       "  /* fitted */\n",
       "  background-color: var(--sklearn-color-fitted-level-2);\n",
       "}\n",
       "\n",
       "/* Specification for estimator info (e.g. \"i\" and \"?\") */\n",
       "\n",
       "/* Common style for \"i\" and \"?\" */\n",
       "\n",
       ".sk-estimator-doc-link,\n",
       "a:link.sk-estimator-doc-link,\n",
       "a:visited.sk-estimator-doc-link {\n",
       "  float: right;\n",
       "  font-size: smaller;\n",
       "  line-height: 1em;\n",
       "  font-family: monospace;\n",
       "  background-color: var(--sklearn-color-background);\n",
       "  border-radius: 1em;\n",
       "  height: 1em;\n",
       "  width: 1em;\n",
       "  text-decoration: none !important;\n",
       "  margin-left: 0.5em;\n",
       "  text-align: center;\n",
       "  /* unfitted */\n",
       "  border: var(--sklearn-color-unfitted-level-1) 1pt solid;\n",
       "  color: var(--sklearn-color-unfitted-level-1);\n",
       "}\n",
       "\n",
       ".sk-estimator-doc-link.fitted,\n",
       "a:link.sk-estimator-doc-link.fitted,\n",
       "a:visited.sk-estimator-doc-link.fitted {\n",
       "  /* fitted */\n",
       "  border: var(--sklearn-color-fitted-level-1) 1pt solid;\n",
       "  color: var(--sklearn-color-fitted-level-1);\n",
       "}\n",
       "\n",
       "/* On hover */\n",
       "div.sk-estimator:hover .sk-estimator-doc-link:hover,\n",
       ".sk-estimator-doc-link:hover,\n",
       "div.sk-label-container:hover .sk-estimator-doc-link:hover,\n",
       ".sk-estimator-doc-link:hover {\n",
       "  /* unfitted */\n",
       "  background-color: var(--sklearn-color-unfitted-level-3);\n",
       "  color: var(--sklearn-color-background);\n",
       "  text-decoration: none;\n",
       "}\n",
       "\n",
       "div.sk-estimator.fitted:hover .sk-estimator-doc-link.fitted:hover,\n",
       ".sk-estimator-doc-link.fitted:hover,\n",
       "div.sk-label-container:hover .sk-estimator-doc-link.fitted:hover,\n",
       ".sk-estimator-doc-link.fitted:hover {\n",
       "  /* fitted */\n",
       "  background-color: var(--sklearn-color-fitted-level-3);\n",
       "  color: var(--sklearn-color-background);\n",
       "  text-decoration: none;\n",
       "}\n",
       "\n",
       "/* Span, style for the box shown on hovering the info icon */\n",
       ".sk-estimator-doc-link span {\n",
       "  display: none;\n",
       "  z-index: 9999;\n",
       "  position: relative;\n",
       "  font-weight: normal;\n",
       "  right: .2ex;\n",
       "  padding: .5ex;\n",
       "  margin: .5ex;\n",
       "  width: min-content;\n",
       "  min-width: 20ex;\n",
       "  max-width: 50ex;\n",
       "  color: var(--sklearn-color-text);\n",
       "  box-shadow: 2pt 2pt 4pt #999;\n",
       "  /* unfitted */\n",
       "  background: var(--sklearn-color-unfitted-level-0);\n",
       "  border: .5pt solid var(--sklearn-color-unfitted-level-3);\n",
       "}\n",
       "\n",
       ".sk-estimator-doc-link.fitted span {\n",
       "  /* fitted */\n",
       "  background: var(--sklearn-color-fitted-level-0);\n",
       "  border: var(--sklearn-color-fitted-level-3);\n",
       "}\n",
       "\n",
       ".sk-estimator-doc-link:hover span {\n",
       "  display: block;\n",
       "}\n",
       "\n",
       "/* \"?\"-specific style due to the `<a>` HTML tag */\n",
       "\n",
       "#sk-container-id-3 a.estimator_doc_link {\n",
       "  float: right;\n",
       "  font-size: 1rem;\n",
       "  line-height: 1em;\n",
       "  font-family: monospace;\n",
       "  background-color: var(--sklearn-color-background);\n",
       "  border-radius: 1rem;\n",
       "  height: 1rem;\n",
       "  width: 1rem;\n",
       "  text-decoration: none;\n",
       "  /* unfitted */\n",
       "  color: var(--sklearn-color-unfitted-level-1);\n",
       "  border: var(--sklearn-color-unfitted-level-1) 1pt solid;\n",
       "}\n",
       "\n",
       "#sk-container-id-3 a.estimator_doc_link.fitted {\n",
       "  /* fitted */\n",
       "  border: var(--sklearn-color-fitted-level-1) 1pt solid;\n",
       "  color: var(--sklearn-color-fitted-level-1);\n",
       "}\n",
       "\n",
       "/* On hover */\n",
       "#sk-container-id-3 a.estimator_doc_link:hover {\n",
       "  /* unfitted */\n",
       "  background-color: var(--sklearn-color-unfitted-level-3);\n",
       "  color: var(--sklearn-color-background);\n",
       "  text-decoration: none;\n",
       "}\n",
       "\n",
       "#sk-container-id-3 a.estimator_doc_link.fitted:hover {\n",
       "  /* fitted */\n",
       "  background-color: var(--sklearn-color-fitted-level-3);\n",
       "}\n",
       "\n",
       ".estimator-table summary {\n",
       "    padding: .5rem;\n",
       "    font-family: monospace;\n",
       "    cursor: pointer;\n",
       "}\n",
       "\n",
       ".estimator-table details[open] {\n",
       "    padding-left: 0.1rem;\n",
       "    padding-right: 0.1rem;\n",
       "    padding-bottom: 0.3rem;\n",
       "}\n",
       "\n",
       ".estimator-table .parameters-table {\n",
       "    margin-left: auto !important;\n",
       "    margin-right: auto !important;\n",
       "}\n",
       "\n",
       ".estimator-table .parameters-table tr:nth-child(odd) {\n",
       "    background-color: #fff;\n",
       "}\n",
       "\n",
       ".estimator-table .parameters-table tr:nth-child(even) {\n",
       "    background-color: #f6f6f6;\n",
       "}\n",
       "\n",
       ".estimator-table .parameters-table tr:hover {\n",
       "    background-color: #e0e0e0;\n",
       "}\n",
       "\n",
       ".estimator-table table td {\n",
       "    border: 1px solid rgba(106, 105, 104, 0.232);\n",
       "}\n",
       "\n",
       ".user-set td {\n",
       "    color:rgb(255, 94, 0);\n",
       "    text-align: left;\n",
       "}\n",
       "\n",
       ".user-set td.value pre {\n",
       "    color:rgb(255, 94, 0) !important;\n",
       "    background-color: transparent !important;\n",
       "}\n",
       "\n",
       ".default td {\n",
       "    color: black;\n",
       "    text-align: left;\n",
       "}\n",
       "\n",
       ".user-set td i,\n",
       ".default td i {\n",
       "    color: black;\n",
       "}\n",
       "\n",
       ".copy-paste-icon {\n",
       "    background-image: url(data:image/svg+xml;base64,PHN2ZyB4bWxucz0iaHR0cDovL3d3dy53My5vcmcvMjAwMC9zdmciIHZpZXdCb3g9IjAgMCA0NDggNTEyIj48IS0tIUZvbnQgQXdlc29tZSBGcmVlIDYuNy4yIGJ5IEBmb250YXdlc29tZSAtIGh0dHBzOi8vZm9udGF3ZXNvbWUuY29tIExpY2Vuc2UgLSBodHRwczovL2ZvbnRhd2Vzb21lLmNvbS9saWNlbnNlL2ZyZWUgQ29weXJpZ2h0IDIwMjUgRm9udGljb25zLCBJbmMuLS0+PHBhdGggZD0iTTIwOCAwTDMzMi4xIDBjMTIuNyAwIDI0LjkgNS4xIDMzLjkgMTQuMWw2Ny45IDY3LjljOSA5IDE0LjEgMjEuMiAxNC4xIDMzLjlMNDQ4IDMzNmMwIDI2LjUtMjEuNSA0OC00OCA0OGwtMTkyIDBjLTI2LjUgMC00OC0yMS41LTQ4LTQ4bDAtMjg4YzAtMjYuNSAyMS41LTQ4IDQ4LTQ4ek00OCAxMjhsODAgMCAwIDY0LTY0IDAgMCAyNTYgMTkyIDAgMC0zMiA2NCAwIDAgNDhjMCAyNi41LTIxLjUgNDgtNDggNDhMNDggNTEyYy0yNi41IDAtNDgtMjEuNS00OC00OEwwIDE3NmMwLTI2LjUgMjEuNS00OCA0OC00OHoiLz48L3N2Zz4=);\n",
       "    background-repeat: no-repeat;\n",
       "    background-size: 14px 14px;\n",
       "    background-position: 0;\n",
       "    display: inline-block;\n",
       "    width: 14px;\n",
       "    height: 14px;\n",
       "    cursor: pointer;\n",
       "}\n",
       "</style><body><div id=\"sk-container-id-3\" class=\"sk-top-container\"><div class=\"sk-text-repr-fallback\"><pre>RandomForestClassifier(random_state=123)</pre><b>In a Jupyter environment, please rerun this cell to show the HTML representation or trust the notebook. <br />On GitHub, the HTML representation is unable to render, please try loading this page with nbviewer.org.</b></div><div class=\"sk-container\" hidden><div class=\"sk-item\"><div class=\"sk-estimator fitted sk-toggleable\"><input class=\"sk-toggleable__control sk-hidden--visually\" id=\"sk-estimator-id-3\" type=\"checkbox\" checked><label for=\"sk-estimator-id-3\" class=\"sk-toggleable__label fitted sk-toggleable__label-arrow\"><div><div>RandomForestClassifier</div></div><div><a class=\"sk-estimator-doc-link fitted\" rel=\"noreferrer\" target=\"_blank\" href=\"https://scikit-learn.org/1.7/modules/generated/sklearn.ensemble.RandomForestClassifier.html\">?<span>Documentation for RandomForestClassifier</span></a><span class=\"sk-estimator-doc-link fitted\">i<span>Fitted</span></span></div></label><div class=\"sk-toggleable__content fitted\" data-param-prefix=\"\">\n",
       "        <div class=\"estimator-table\">\n",
       "            <details>\n",
       "                <summary>Parameters</summary>\n",
       "                <table class=\"parameters-table\">\n",
       "                  <tbody>\n",
       "                    \n",
       "        <tr class=\"default\">\n",
       "            <td><i class=\"copy-paste-icon\"\n",
       "                 onclick=\"copyToClipboard('n_estimators',\n",
       "                          this.parentElement.nextElementSibling)\"\n",
       "            ></i></td>\n",
       "            <td class=\"param\">n_estimators&nbsp;</td>\n",
       "            <td class=\"value\">100</td>\n",
       "        </tr>\n",
       "    \n",
       "\n",
       "        <tr class=\"default\">\n",
       "            <td><i class=\"copy-paste-icon\"\n",
       "                 onclick=\"copyToClipboard('criterion',\n",
       "                          this.parentElement.nextElementSibling)\"\n",
       "            ></i></td>\n",
       "            <td class=\"param\">criterion&nbsp;</td>\n",
       "            <td class=\"value\">&#x27;gini&#x27;</td>\n",
       "        </tr>\n",
       "    \n",
       "\n",
       "        <tr class=\"default\">\n",
       "            <td><i class=\"copy-paste-icon\"\n",
       "                 onclick=\"copyToClipboard('max_depth',\n",
       "                          this.parentElement.nextElementSibling)\"\n",
       "            ></i></td>\n",
       "            <td class=\"param\">max_depth&nbsp;</td>\n",
       "            <td class=\"value\">None</td>\n",
       "        </tr>\n",
       "    \n",
       "\n",
       "        <tr class=\"default\">\n",
       "            <td><i class=\"copy-paste-icon\"\n",
       "                 onclick=\"copyToClipboard('min_samples_split',\n",
       "                          this.parentElement.nextElementSibling)\"\n",
       "            ></i></td>\n",
       "            <td class=\"param\">min_samples_split&nbsp;</td>\n",
       "            <td class=\"value\">2</td>\n",
       "        </tr>\n",
       "    \n",
       "\n",
       "        <tr class=\"default\">\n",
       "            <td><i class=\"copy-paste-icon\"\n",
       "                 onclick=\"copyToClipboard('min_samples_leaf',\n",
       "                          this.parentElement.nextElementSibling)\"\n",
       "            ></i></td>\n",
       "            <td class=\"param\">min_samples_leaf&nbsp;</td>\n",
       "            <td class=\"value\">1</td>\n",
       "        </tr>\n",
       "    \n",
       "\n",
       "        <tr class=\"default\">\n",
       "            <td><i class=\"copy-paste-icon\"\n",
       "                 onclick=\"copyToClipboard('min_weight_fraction_leaf',\n",
       "                          this.parentElement.nextElementSibling)\"\n",
       "            ></i></td>\n",
       "            <td class=\"param\">min_weight_fraction_leaf&nbsp;</td>\n",
       "            <td class=\"value\">0.0</td>\n",
       "        </tr>\n",
       "    \n",
       "\n",
       "        <tr class=\"default\">\n",
       "            <td><i class=\"copy-paste-icon\"\n",
       "                 onclick=\"copyToClipboard('max_features',\n",
       "                          this.parentElement.nextElementSibling)\"\n",
       "            ></i></td>\n",
       "            <td class=\"param\">max_features&nbsp;</td>\n",
       "            <td class=\"value\">&#x27;sqrt&#x27;</td>\n",
       "        </tr>\n",
       "    \n",
       "\n",
       "        <tr class=\"default\">\n",
       "            <td><i class=\"copy-paste-icon\"\n",
       "                 onclick=\"copyToClipboard('max_leaf_nodes',\n",
       "                          this.parentElement.nextElementSibling)\"\n",
       "            ></i></td>\n",
       "            <td class=\"param\">max_leaf_nodes&nbsp;</td>\n",
       "            <td class=\"value\">None</td>\n",
       "        </tr>\n",
       "    \n",
       "\n",
       "        <tr class=\"default\">\n",
       "            <td><i class=\"copy-paste-icon\"\n",
       "                 onclick=\"copyToClipboard('min_impurity_decrease',\n",
       "                          this.parentElement.nextElementSibling)\"\n",
       "            ></i></td>\n",
       "            <td class=\"param\">min_impurity_decrease&nbsp;</td>\n",
       "            <td class=\"value\">0.0</td>\n",
       "        </tr>\n",
       "    \n",
       "\n",
       "        <tr class=\"default\">\n",
       "            <td><i class=\"copy-paste-icon\"\n",
       "                 onclick=\"copyToClipboard('bootstrap',\n",
       "                          this.parentElement.nextElementSibling)\"\n",
       "            ></i></td>\n",
       "            <td class=\"param\">bootstrap&nbsp;</td>\n",
       "            <td class=\"value\">True</td>\n",
       "        </tr>\n",
       "    \n",
       "\n",
       "        <tr class=\"default\">\n",
       "            <td><i class=\"copy-paste-icon\"\n",
       "                 onclick=\"copyToClipboard('oob_score',\n",
       "                          this.parentElement.nextElementSibling)\"\n",
       "            ></i></td>\n",
       "            <td class=\"param\">oob_score&nbsp;</td>\n",
       "            <td class=\"value\">False</td>\n",
       "        </tr>\n",
       "    \n",
       "\n",
       "        <tr class=\"default\">\n",
       "            <td><i class=\"copy-paste-icon\"\n",
       "                 onclick=\"copyToClipboard('n_jobs',\n",
       "                          this.parentElement.nextElementSibling)\"\n",
       "            ></i></td>\n",
       "            <td class=\"param\">n_jobs&nbsp;</td>\n",
       "            <td class=\"value\">None</td>\n",
       "        </tr>\n",
       "    \n",
       "\n",
       "        <tr class=\"user-set\">\n",
       "            <td><i class=\"copy-paste-icon\"\n",
       "                 onclick=\"copyToClipboard('random_state',\n",
       "                          this.parentElement.nextElementSibling)\"\n",
       "            ></i></td>\n",
       "            <td class=\"param\">random_state&nbsp;</td>\n",
       "            <td class=\"value\">123</td>\n",
       "        </tr>\n",
       "    \n",
       "\n",
       "        <tr class=\"default\">\n",
       "            <td><i class=\"copy-paste-icon\"\n",
       "                 onclick=\"copyToClipboard('verbose',\n",
       "                          this.parentElement.nextElementSibling)\"\n",
       "            ></i></td>\n",
       "            <td class=\"param\">verbose&nbsp;</td>\n",
       "            <td class=\"value\">0</td>\n",
       "        </tr>\n",
       "    \n",
       "\n",
       "        <tr class=\"default\">\n",
       "            <td><i class=\"copy-paste-icon\"\n",
       "                 onclick=\"copyToClipboard('warm_start',\n",
       "                          this.parentElement.nextElementSibling)\"\n",
       "            ></i></td>\n",
       "            <td class=\"param\">warm_start&nbsp;</td>\n",
       "            <td class=\"value\">False</td>\n",
       "        </tr>\n",
       "    \n",
       "\n",
       "        <tr class=\"default\">\n",
       "            <td><i class=\"copy-paste-icon\"\n",
       "                 onclick=\"copyToClipboard('class_weight',\n",
       "                          this.parentElement.nextElementSibling)\"\n",
       "            ></i></td>\n",
       "            <td class=\"param\">class_weight&nbsp;</td>\n",
       "            <td class=\"value\">None</td>\n",
       "        </tr>\n",
       "    \n",
       "\n",
       "        <tr class=\"default\">\n",
       "            <td><i class=\"copy-paste-icon\"\n",
       "                 onclick=\"copyToClipboard('ccp_alpha',\n",
       "                          this.parentElement.nextElementSibling)\"\n",
       "            ></i></td>\n",
       "            <td class=\"param\">ccp_alpha&nbsp;</td>\n",
       "            <td class=\"value\">0.0</td>\n",
       "        </tr>\n",
       "    \n",
       "\n",
       "        <tr class=\"default\">\n",
       "            <td><i class=\"copy-paste-icon\"\n",
       "                 onclick=\"copyToClipboard('max_samples',\n",
       "                          this.parentElement.nextElementSibling)\"\n",
       "            ></i></td>\n",
       "            <td class=\"param\">max_samples&nbsp;</td>\n",
       "            <td class=\"value\">None</td>\n",
       "        </tr>\n",
       "    \n",
       "\n",
       "        <tr class=\"default\">\n",
       "            <td><i class=\"copy-paste-icon\"\n",
       "                 onclick=\"copyToClipboard('monotonic_cst',\n",
       "                          this.parentElement.nextElementSibling)\"\n",
       "            ></i></td>\n",
       "            <td class=\"param\">monotonic_cst&nbsp;</td>\n",
       "            <td class=\"value\">None</td>\n",
       "        </tr>\n",
       "    \n",
       "                  </tbody>\n",
       "                </table>\n",
       "            </details>\n",
       "        </div>\n",
       "    </div></div></div></div></div><script>function copyToClipboard(text, element) {\n",
       "    // Get the parameter prefix from the closest toggleable content\n",
       "    const toggleableContent = element.closest('.sk-toggleable__content');\n",
       "    const paramPrefix = toggleableContent ? toggleableContent.dataset.paramPrefix : '';\n",
       "    const fullParamName = paramPrefix ? `${paramPrefix}${text}` : text;\n",
       "\n",
       "    const originalStyle = element.style;\n",
       "    const computedStyle = window.getComputedStyle(element);\n",
       "    const originalWidth = computedStyle.width;\n",
       "    const originalHTML = element.innerHTML.replace('Copied!', '');\n",
       "\n",
       "    navigator.clipboard.writeText(fullParamName)\n",
       "        .then(() => {\n",
       "            element.style.width = originalWidth;\n",
       "            element.style.color = 'green';\n",
       "            element.innerHTML = \"Copied!\";\n",
       "\n",
       "            setTimeout(() => {\n",
       "                element.innerHTML = originalHTML;\n",
       "                element.style = originalStyle;\n",
       "            }, 2000);\n",
       "        })\n",
       "        .catch(err => {\n",
       "            console.error('Failed to copy:', err);\n",
       "            element.style.color = 'red';\n",
       "            element.innerHTML = \"Failed!\";\n",
       "            setTimeout(() => {\n",
       "                element.innerHTML = originalHTML;\n",
       "                element.style = originalStyle;\n",
       "            }, 2000);\n",
       "        });\n",
       "    return false;\n",
       "}\n",
       "\n",
       "document.querySelectorAll('.fa-regular.fa-copy').forEach(function(element) {\n",
       "    const toggleableContent = element.closest('.sk-toggleable__content');\n",
       "    const paramPrefix = toggleableContent ? toggleableContent.dataset.paramPrefix : '';\n",
       "    const paramName = element.parentElement.nextElementSibling.textContent.trim();\n",
       "    const fullParamName = paramPrefix ? `${paramPrefix}${paramName}` : paramName;\n",
       "\n",
       "    element.setAttribute('title', fullParamName);\n",
       "});\n",
       "</script></body>"
      ],
      "text/plain": [
       "RandomForestClassifier(random_state=123)"
      ]
     },
     "execution_count": 72,
     "metadata": {},
     "output_type": "execute_result"
    }
   ],
   "source": [
    "le = LabelEncoder()\n",
    "x_train = attrs_agg_correct_cols.drop(columns=[\"dataset\", \"model\", \"attack\"])\n",
    "y_train = attrs_agg_correct_cols[\"attack\"]\n",
    "y_train_enc = le.fit_transform(y_train)\n",
    "model = RandomForestClassifier(random_state=123)\n",
    "model.fit(x_train, y_train_enc)"
   ]
  },
  {
   "cell_type": "code",
   "execution_count": 73,
   "metadata": {},
   "outputs": [],
   "source": [
    "fi_dict = {'var': x_train.columns, 'fi': model.feature_importances_}\n",
    "fi_df = pd.DataFrame(fi_dict)\n",
    "fi_df[\"fi_rank\"] = fi_df[\"fi\"].rank(ascending=False)"
   ]
  },
  {
   "cell_type": "code",
   "execution_count": 74,
   "metadata": {},
   "outputs": [],
   "source": [
    "attrs_agg_correct_cols.to_csv(\"results/attr_attacks_type_agr_nn_bacc.csv\", index=False)"
   ]
  },
  {
   "cell_type": "code",
   "execution_count": 75,
   "metadata": {},
   "outputs": [],
   "source": [
    "def create_hyperparams_grid(model, param_grid, exp_function, crit=\"kappa\"):\n",
    "\n",
    "    quality_measure = []\n",
    "    params_list = []\n",
    "    results_table = []\n",
    "    results_fi = []\n",
    "\n",
    "    for param1 in param_grid[list(param_grid.keys())[0]]:\n",
    "        for param2 in param_grid[list(param_grid.keys())[1]]:\n",
    "            for param3 in param_grid[list(param_grid.keys())[2]]:\n",
    "                params = {list(param_grid.keys())[0]: param1,\n",
    "                          list(param_grid.keys())[1]: param2,\n",
    "                          list(param_grid.keys())[2]: param3}\n",
    "\n",
    "                model.set_params(**params)\n",
    "                summary, fi = exp_function(model=model)\n",
    "                results_table.append(summary)\n",
    "                results_fi.append(fi)\n",
    "                params_list.append(params)\n",
    "                crit_value = np.mean(summary[\"kappa\"])\n",
    "                quality_measure.append(crit_value)\n",
    "                print(f\"{crit} = {crit_value}, params: {params}\")\n",
    "\n",
    "    best_params_idx = np.argmax(quality_measure)\n",
    "    best_params = params_list[best_params_idx]\n",
    "\n",
    "    print(f\"Params: {best_params} give best {crit} equal {quality_measure[best_params_idx]}\")\n",
    "\n",
    "    return results_table[best_params_idx], results_fi[best_params_idx]"
   ]
  },
  {
   "cell_type": "markdown",
   "metadata": {},
   "source": [
    "# Leave-one-data-set-out"
   ]
  },
  {
   "cell_type": "code",
   "execution_count": 76,
   "metadata": {},
   "outputs": [],
   "source": [
    "def leave_dataset_out(model=xgb.XGBClassifier(random_state=123), params=None):\n",
    "\n",
    "    datasets = np.unique(attrs_agg_correct_cols[\"dataset\"])\n",
    "    kappa_list = []\n",
    "    bacc_list = []\n",
    "    precision_list = []\n",
    "    recall_list = []\n",
    "    f1_list = []\n",
    "    fnr_list = []\n",
    "    fi_all = pd.DataFrame()\n",
    "\n",
    "    for dataset in tqdm(datasets):\n",
    "\n",
    "        train = attrs_agg_correct_cols[attrs_agg_correct_cols[\"dataset\"] != dataset]\n",
    "        test = attrs_agg_correct_cols[attrs_agg_correct_cols[\"dataset\"] == dataset]\n",
    "\n",
    "        x_train = train.drop(columns=[\"dataset\", \"model\", \"attack\"])\n",
    "        y_train = train[\"attack\"]\n",
    "\n",
    "        x_test = test.drop(columns=[\"dataset\", \"model\", \"attack\"])\n",
    "        y_test = test[\"attack\"]\n",
    "\n",
    "        le = LabelEncoder()\n",
    "        y_train_enc = le.fit_transform(y_train)\n",
    "        y_test_enc = le.transform(y_test)\n",
    "\n",
    "        if params is not None:\n",
    "            model.set_params(**params)\n",
    "        model.fit(x_train, y_train_enc)\n",
    "\n",
    "        fi_dict = {'var': x_train.columns, 'fi': model.feature_importances_}\n",
    "        fi_df = pd.DataFrame(fi_dict)\n",
    "        fi_df[\"fi_rank\"] = fi_df[\"fi\"].rank(ascending=False)\n",
    "        fi_df[\"dataset\"] = dataset\n",
    "        fi_all = pd.concat([fi_all, fi_df])\n",
    "\n",
    "        preds = model.predict(x_test)\n",
    "        bacc_list.append(balanced_accuracy_score(y_test_enc, preds))\n",
    "        kappa_list.append(cohen_kappa_score(y_test_enc, preds))\n",
    "        precision_list.append(precision_score(y_test_enc, preds, average='weighted'))\n",
    "        recall_list.append(recall_score(y_test_enc, preds, average='weighted'))\n",
    "        f1_list.append(f1_score(y_test_enc, preds, average='weighted'))\n",
    "        fnr_list.append(multiclass_false_negative_rate(y_test_enc, preds))\n",
    "\n",
    "    results_dict = {'dataset': datasets, 'bacc': bacc_list, 'kappa': kappa_list, 'precision': precision_list,\n",
    "                    'recall': recall_list, 'f1': f1_list, 'fnr': fnr_list}\n",
    "\n",
    "    results_df = pd.DataFrame(results_dict)\n",
    "    return results_df, fi_all"
   ]
  },
  {
   "cell_type": "markdown",
   "metadata": {},
   "source": [
    "## XGBoost"
   ]
  },
  {
   "cell_type": "markdown",
   "metadata": {},
   "source": [
    "### Default parameters"
   ]
  },
  {
   "cell_type": "code",
   "execution_count": 77,
   "metadata": {},
   "outputs": [
    {
     "name": "stderr",
     "output_type": "stream",
     "text": [
      "100%|██████████| 22/22 [00:26<00:00,  1.20s/it]\n"
     ]
    },
    {
     "data": {
      "application/vnd.microsoft.datawrangler.viewer.v0+json": {
       "columns": [
        {
         "name": "index",
         "rawType": "int64",
         "type": "integer"
        },
        {
         "name": "dataset",
         "rawType": "object",
         "type": "string"
        },
        {
         "name": "bacc",
         "rawType": "float64",
         "type": "float"
        },
        {
         "name": "kappa",
         "rawType": "float64",
         "type": "float"
        },
        {
         "name": "precision",
         "rawType": "float64",
         "type": "float"
        },
        {
         "name": "recall",
         "rawType": "float64",
         "type": "float"
        },
        {
         "name": "f1",
         "rawType": "float64",
         "type": "float"
        },
        {
         "name": "fnr",
         "rawType": "float64",
         "type": "float"
        }
       ],
       "ref": "62f4982a-b386-4fdd-bc1a-057dc16cb1bf",
       "rows": [
        [
         "0",
         "Bioresponse",
         "0.6875",
         "0.44262295081967207",
         "0.6911764705882353",
         "0.5294117647058824",
         "0.5445632798573975",
         "0.3125"
        ],
        [
         "1",
         "churn",
         "0.5416666666666666",
         "0.5082644628099173",
         "0.47058823529411764",
         "0.5882352941176471",
         "0.5019607843137255",
         "0.4583333333333333"
        ],
        [
         "2",
         "cmc",
         "0.875",
         "0.9297520661157025",
         "0.9117647058823529",
         "0.9411764705882353",
         "0.9215686274509803",
         "0.125"
        ],
        [
         "3",
         "cnae-9",
         "0.6041666666666666",
         "0.44715447154471544",
         "0.5210084033613446",
         "0.5294117647058824",
         "0.48235294117647054",
         "0.3958333333333333"
        ],
        [
         "4",
         "dna",
         "0.5833333333333333",
         "0.5767634854771784",
         "0.5588235294117647",
         "0.6470588235294118",
         "0.580718954248366",
         "0.4166666666666667"
        ],
        [
         "5",
         "har",
         "0.6666666666666666",
         "0.5732217573221757",
         "0.6932773109243697",
         "0.6470588235294118",
         "0.6162210338680927",
         "0.3333333333333333"
        ],
        [
         "6",
         "madelon",
         "0.5",
         "0.22123893805309736",
         "0.20833333333333334",
         "0.3125",
         "0.2232142857142857",
         "0.5"
        ],
        [
         "7",
         "mfeat-factors",
         "1.0",
         "1.0",
         "1.0",
         "1.0",
         "1.0",
         "0.0"
        ],
        [
         "8",
         "mfeat-fourier",
         "0.5833333333333333",
         "0.578512396694215",
         "0.5882352941176471",
         "0.6470588235294118",
         "0.592156862745098",
         "0.4166666666666667"
        ],
        [
         "9",
         "mfeat-karhunen",
         "0.875",
         "0.9297520661157025",
         "0.9117647058823529",
         "0.9411764705882353",
         "0.9215686274509803",
         "0.125"
        ],
        [
         "10",
         "mfeat-zernike",
         "0.75",
         "0.859504132231405",
         "0.8235294117647058",
         "0.8823529411764706",
         "0.8431372549019607",
         "0.25"
        ],
        [
         "11",
         "nomao",
         "0.25",
         "0.29166666666666674",
         "0.3235294117647059",
         "0.4117647058823529",
         "0.35294117647058826",
         "0.75"
        ],
        [
         "12",
         "optdigits",
         "1.0",
         "1.0",
         "1.0",
         "1.0",
         "1.0",
         "0.0"
        ],
        [
         "13",
         "pendigits",
         "0.49999999999999994",
         "0.43568464730290457",
         "0.4235294117647059",
         "0.5294117647058824",
         "0.4590102707749767",
         "0.5"
        ],
        [
         "14",
         "phoneme",
         "0.40625",
         "0.23673469387755108",
         "0.3618538324420677",
         "0.35294117647058826",
         "0.25798319327731095",
         "0.59375"
        ],
        [
         "15",
         "qsar-biodeg",
         "0.625",
         "0.502092050209205",
         "0.47058823529411764",
         "0.5882352941176471",
         "0.5179738562091503",
         "0.375"
        ],
        [
         "16",
         "satimage",
         "0.35416666666666663",
         "0.3207547169811321",
         "0.32291666666666663",
         "0.4375",
         "0.3666666666666667",
         "0.6458333333333333"
        ],
        [
         "17",
         "semeion",
         "0.6666666666666666",
         "0.5714285714285714",
         "0.5735294117647058",
         "0.6470588235294118",
         "0.5532212885154062",
         "0.3333333333333333"
        ],
        [
         "18",
         "spambase",
         "1.0",
         "1.0",
         "1.0",
         "1.0",
         "1.0",
         "0.0"
        ],
        [
         "19",
         "wall-robot-navigation",
         "0.375",
         "0.37037037037037035",
         "0.3941176470588235",
         "0.47058823529411764",
         "0.4276377217553688",
         "0.625"
        ],
        [
         "20",
         "wdbc",
         "0.29166666666666663",
         "0.36249999999999993",
         "0.48039215686274506",
         "0.47058823529411764",
         "0.45882352941176474",
         "0.7083333333333333"
        ],
        [
         "21",
         "wilt",
         "0.22916666666666666",
         "0.12301587301587291",
         "0.32941176470588235",
         "0.23529411764705882",
         "0.2598039215686274",
         "0.7708333333333333"
        ]
       ],
       "shape": {
        "columns": 7,
        "rows": 22
       }
      },
      "text/html": [
       "<div>\n",
       "<style scoped>\n",
       "    .dataframe tbody tr th:only-of-type {\n",
       "        vertical-align: middle;\n",
       "    }\n",
       "\n",
       "    .dataframe tbody tr th {\n",
       "        vertical-align: top;\n",
       "    }\n",
       "\n",
       "    .dataframe thead th {\n",
       "        text-align: right;\n",
       "    }\n",
       "</style>\n",
       "<table border=\"1\" class=\"dataframe\">\n",
       "  <thead>\n",
       "    <tr style=\"text-align: right;\">\n",
       "      <th></th>\n",
       "      <th>dataset</th>\n",
       "      <th>bacc</th>\n",
       "      <th>kappa</th>\n",
       "      <th>precision</th>\n",
       "      <th>recall</th>\n",
       "      <th>f1</th>\n",
       "      <th>fnr</th>\n",
       "    </tr>\n",
       "  </thead>\n",
       "  <tbody>\n",
       "    <tr>\n",
       "      <th>0</th>\n",
       "      <td>Bioresponse</td>\n",
       "      <td>0.687500</td>\n",
       "      <td>0.442623</td>\n",
       "      <td>0.691176</td>\n",
       "      <td>0.529412</td>\n",
       "      <td>0.544563</td>\n",
       "      <td>0.312500</td>\n",
       "    </tr>\n",
       "    <tr>\n",
       "      <th>1</th>\n",
       "      <td>churn</td>\n",
       "      <td>0.541667</td>\n",
       "      <td>0.508264</td>\n",
       "      <td>0.470588</td>\n",
       "      <td>0.588235</td>\n",
       "      <td>0.501961</td>\n",
       "      <td>0.458333</td>\n",
       "    </tr>\n",
       "    <tr>\n",
       "      <th>2</th>\n",
       "      <td>cmc</td>\n",
       "      <td>0.875000</td>\n",
       "      <td>0.929752</td>\n",
       "      <td>0.911765</td>\n",
       "      <td>0.941176</td>\n",
       "      <td>0.921569</td>\n",
       "      <td>0.125000</td>\n",
       "    </tr>\n",
       "    <tr>\n",
       "      <th>3</th>\n",
       "      <td>cnae-9</td>\n",
       "      <td>0.604167</td>\n",
       "      <td>0.447154</td>\n",
       "      <td>0.521008</td>\n",
       "      <td>0.529412</td>\n",
       "      <td>0.482353</td>\n",
       "      <td>0.395833</td>\n",
       "    </tr>\n",
       "    <tr>\n",
       "      <th>4</th>\n",
       "      <td>dna</td>\n",
       "      <td>0.583333</td>\n",
       "      <td>0.576763</td>\n",
       "      <td>0.558824</td>\n",
       "      <td>0.647059</td>\n",
       "      <td>0.580719</td>\n",
       "      <td>0.416667</td>\n",
       "    </tr>\n",
       "    <tr>\n",
       "      <th>5</th>\n",
       "      <td>har</td>\n",
       "      <td>0.666667</td>\n",
       "      <td>0.573222</td>\n",
       "      <td>0.693277</td>\n",
       "      <td>0.647059</td>\n",
       "      <td>0.616221</td>\n",
       "      <td>0.333333</td>\n",
       "    </tr>\n",
       "    <tr>\n",
       "      <th>6</th>\n",
       "      <td>madelon</td>\n",
       "      <td>0.500000</td>\n",
       "      <td>0.221239</td>\n",
       "      <td>0.208333</td>\n",
       "      <td>0.312500</td>\n",
       "      <td>0.223214</td>\n",
       "      <td>0.500000</td>\n",
       "    </tr>\n",
       "    <tr>\n",
       "      <th>7</th>\n",
       "      <td>mfeat-factors</td>\n",
       "      <td>1.000000</td>\n",
       "      <td>1.000000</td>\n",
       "      <td>1.000000</td>\n",
       "      <td>1.000000</td>\n",
       "      <td>1.000000</td>\n",
       "      <td>0.000000</td>\n",
       "    </tr>\n",
       "    <tr>\n",
       "      <th>8</th>\n",
       "      <td>mfeat-fourier</td>\n",
       "      <td>0.583333</td>\n",
       "      <td>0.578512</td>\n",
       "      <td>0.588235</td>\n",
       "      <td>0.647059</td>\n",
       "      <td>0.592157</td>\n",
       "      <td>0.416667</td>\n",
       "    </tr>\n",
       "    <tr>\n",
       "      <th>9</th>\n",
       "      <td>mfeat-karhunen</td>\n",
       "      <td>0.875000</td>\n",
       "      <td>0.929752</td>\n",
       "      <td>0.911765</td>\n",
       "      <td>0.941176</td>\n",
       "      <td>0.921569</td>\n",
       "      <td>0.125000</td>\n",
       "    </tr>\n",
       "    <tr>\n",
       "      <th>10</th>\n",
       "      <td>mfeat-zernike</td>\n",
       "      <td>0.750000</td>\n",
       "      <td>0.859504</td>\n",
       "      <td>0.823529</td>\n",
       "      <td>0.882353</td>\n",
       "      <td>0.843137</td>\n",
       "      <td>0.250000</td>\n",
       "    </tr>\n",
       "    <tr>\n",
       "      <th>11</th>\n",
       "      <td>nomao</td>\n",
       "      <td>0.250000</td>\n",
       "      <td>0.291667</td>\n",
       "      <td>0.323529</td>\n",
       "      <td>0.411765</td>\n",
       "      <td>0.352941</td>\n",
       "      <td>0.750000</td>\n",
       "    </tr>\n",
       "    <tr>\n",
       "      <th>12</th>\n",
       "      <td>optdigits</td>\n",
       "      <td>1.000000</td>\n",
       "      <td>1.000000</td>\n",
       "      <td>1.000000</td>\n",
       "      <td>1.000000</td>\n",
       "      <td>1.000000</td>\n",
       "      <td>0.000000</td>\n",
       "    </tr>\n",
       "    <tr>\n",
       "      <th>13</th>\n",
       "      <td>pendigits</td>\n",
       "      <td>0.500000</td>\n",
       "      <td>0.435685</td>\n",
       "      <td>0.423529</td>\n",
       "      <td>0.529412</td>\n",
       "      <td>0.459010</td>\n",
       "      <td>0.500000</td>\n",
       "    </tr>\n",
       "    <tr>\n",
       "      <th>14</th>\n",
       "      <td>phoneme</td>\n",
       "      <td>0.406250</td>\n",
       "      <td>0.236735</td>\n",
       "      <td>0.361854</td>\n",
       "      <td>0.352941</td>\n",
       "      <td>0.257983</td>\n",
       "      <td>0.593750</td>\n",
       "    </tr>\n",
       "    <tr>\n",
       "      <th>15</th>\n",
       "      <td>qsar-biodeg</td>\n",
       "      <td>0.625000</td>\n",
       "      <td>0.502092</td>\n",
       "      <td>0.470588</td>\n",
       "      <td>0.588235</td>\n",
       "      <td>0.517974</td>\n",
       "      <td>0.375000</td>\n",
       "    </tr>\n",
       "    <tr>\n",
       "      <th>16</th>\n",
       "      <td>satimage</td>\n",
       "      <td>0.354167</td>\n",
       "      <td>0.320755</td>\n",
       "      <td>0.322917</td>\n",
       "      <td>0.437500</td>\n",
       "      <td>0.366667</td>\n",
       "      <td>0.645833</td>\n",
       "    </tr>\n",
       "    <tr>\n",
       "      <th>17</th>\n",
       "      <td>semeion</td>\n",
       "      <td>0.666667</td>\n",
       "      <td>0.571429</td>\n",
       "      <td>0.573529</td>\n",
       "      <td>0.647059</td>\n",
       "      <td>0.553221</td>\n",
       "      <td>0.333333</td>\n",
       "    </tr>\n",
       "    <tr>\n",
       "      <th>18</th>\n",
       "      <td>spambase</td>\n",
       "      <td>1.000000</td>\n",
       "      <td>1.000000</td>\n",
       "      <td>1.000000</td>\n",
       "      <td>1.000000</td>\n",
       "      <td>1.000000</td>\n",
       "      <td>0.000000</td>\n",
       "    </tr>\n",
       "    <tr>\n",
       "      <th>19</th>\n",
       "      <td>wall-robot-navigation</td>\n",
       "      <td>0.375000</td>\n",
       "      <td>0.370370</td>\n",
       "      <td>0.394118</td>\n",
       "      <td>0.470588</td>\n",
       "      <td>0.427638</td>\n",
       "      <td>0.625000</td>\n",
       "    </tr>\n",
       "    <tr>\n",
       "      <th>20</th>\n",
       "      <td>wdbc</td>\n",
       "      <td>0.291667</td>\n",
       "      <td>0.362500</td>\n",
       "      <td>0.480392</td>\n",
       "      <td>0.470588</td>\n",
       "      <td>0.458824</td>\n",
       "      <td>0.708333</td>\n",
       "    </tr>\n",
       "    <tr>\n",
       "      <th>21</th>\n",
       "      <td>wilt</td>\n",
       "      <td>0.229167</td>\n",
       "      <td>0.123016</td>\n",
       "      <td>0.329412</td>\n",
       "      <td>0.235294</td>\n",
       "      <td>0.259804</td>\n",
       "      <td>0.770833</td>\n",
       "    </tr>\n",
       "  </tbody>\n",
       "</table>\n",
       "</div>"
      ],
      "text/plain": [
       "                  dataset      bacc     kappa  precision    recall        f1  \\\n",
       "0             Bioresponse  0.687500  0.442623   0.691176  0.529412  0.544563   \n",
       "1                   churn  0.541667  0.508264   0.470588  0.588235  0.501961   \n",
       "2                     cmc  0.875000  0.929752   0.911765  0.941176  0.921569   \n",
       "3                  cnae-9  0.604167  0.447154   0.521008  0.529412  0.482353   \n",
       "4                     dna  0.583333  0.576763   0.558824  0.647059  0.580719   \n",
       "5                     har  0.666667  0.573222   0.693277  0.647059  0.616221   \n",
       "6                 madelon  0.500000  0.221239   0.208333  0.312500  0.223214   \n",
       "7           mfeat-factors  1.000000  1.000000   1.000000  1.000000  1.000000   \n",
       "8           mfeat-fourier  0.583333  0.578512   0.588235  0.647059  0.592157   \n",
       "9          mfeat-karhunen  0.875000  0.929752   0.911765  0.941176  0.921569   \n",
       "10          mfeat-zernike  0.750000  0.859504   0.823529  0.882353  0.843137   \n",
       "11                  nomao  0.250000  0.291667   0.323529  0.411765  0.352941   \n",
       "12              optdigits  1.000000  1.000000   1.000000  1.000000  1.000000   \n",
       "13              pendigits  0.500000  0.435685   0.423529  0.529412  0.459010   \n",
       "14                phoneme  0.406250  0.236735   0.361854  0.352941  0.257983   \n",
       "15            qsar-biodeg  0.625000  0.502092   0.470588  0.588235  0.517974   \n",
       "16               satimage  0.354167  0.320755   0.322917  0.437500  0.366667   \n",
       "17                semeion  0.666667  0.571429   0.573529  0.647059  0.553221   \n",
       "18               spambase  1.000000  1.000000   1.000000  1.000000  1.000000   \n",
       "19  wall-robot-navigation  0.375000  0.370370   0.394118  0.470588  0.427638   \n",
       "20                   wdbc  0.291667  0.362500   0.480392  0.470588  0.458824   \n",
       "21                   wilt  0.229167  0.123016   0.329412  0.235294  0.259804   \n",
       "\n",
       "         fnr  \n",
       "0   0.312500  \n",
       "1   0.458333  \n",
       "2   0.125000  \n",
       "3   0.395833  \n",
       "4   0.416667  \n",
       "5   0.333333  \n",
       "6   0.500000  \n",
       "7   0.000000  \n",
       "8   0.416667  \n",
       "9   0.125000  \n",
       "10  0.250000  \n",
       "11  0.750000  \n",
       "12  0.000000  \n",
       "13  0.500000  \n",
       "14  0.593750  \n",
       "15  0.375000  \n",
       "16  0.645833  \n",
       "17  0.333333  \n",
       "18  0.000000  \n",
       "19  0.625000  \n",
       "20  0.708333  \n",
       "21  0.770833  "
      ]
     },
     "execution_count": 77,
     "metadata": {},
     "output_type": "execute_result"
    }
   ],
   "source": [
    "one_dataset_out_xgb, one_dataset_out_fi_xgb = leave_dataset_out()\n",
    "one_dataset_out_xgb"
   ]
  },
  {
   "cell_type": "markdown",
   "metadata": {},
   "source": [
    "### Hyperparameters tuning"
   ]
  },
  {
   "cell_type": "code",
   "execution_count": 78,
   "metadata": {},
   "outputs": [
    {
     "name": "stderr",
     "output_type": "stream",
     "text": [
      "100%|██████████| 22/22 [00:22<00:00,  1.00s/it]\n"
     ]
    }
   ],
   "source": [
    "retrain = False\n",
    "\n",
    "if retrain:\n",
    "    model=xgb.XGBClassifier(random_state=123)\n",
    "\n",
    "    param_grid = {\n",
    "        'max_depth': [6, 9, 12],\n",
    "        'learning_rate': [0.1, 0.3, 0.5],\n",
    "        'n_estimators': [100, 200, 500]\n",
    "    }\n",
    "\n",
    "    one_dataset_out_xgb, one_dataset_out_fi_xgb = create_hyperparams_grid(model=model, param_grid=param_grid, exp_function=leave_dataset_out, crit=\"kappa\")\n",
    "    one_dataset_out_xgb\n",
    "else:\n",
    "    # Params: {'max_depth': 6, 'learning_rate': 0.5, 'n_estimators': 100} give best kappa equal 0.6037758057986143\n",
    "    params = {'max_depth': 6, 'learning_rate': 0.5, 'n_estimators': 100, 'random_state': 123}\n",
    "    one_dataset_out_xgb, one_dataset_out_fi_xgb = leave_dataset_out(model=xgb.XGBClassifier(random_state=123), params=params)"
   ]
  },
  {
   "cell_type": "code",
   "execution_count": 79,
   "metadata": {},
   "outputs": [
    {
     "data": {
      "application/vnd.microsoft.datawrangler.viewer.v0+json": {
       "columns": [
        {
         "name": "index",
         "rawType": "object",
         "type": "string"
        },
        {
         "name": "bacc",
         "rawType": "float64",
         "type": "float"
        },
        {
         "name": "kappa",
         "rawType": "float64",
         "type": "float"
        }
       ],
       "ref": "3d921a54-5785-4ea6-b614-753b3c5d05c0",
       "rows": [
        [
         "mean",
         "0.6482007575757575",
         "0.6037758057986143"
        ],
        [
         "std",
         "0.24715084085294833",
         "0.27666408590960306"
        ]
       ],
       "shape": {
        "columns": 2,
        "rows": 2
       }
      },
      "text/html": [
       "<div>\n",
       "<style scoped>\n",
       "    .dataframe tbody tr th:only-of-type {\n",
       "        vertical-align: middle;\n",
       "    }\n",
       "\n",
       "    .dataframe tbody tr th {\n",
       "        vertical-align: top;\n",
       "    }\n",
       "\n",
       "    .dataframe thead th {\n",
       "        text-align: right;\n",
       "    }\n",
       "</style>\n",
       "<table border=\"1\" class=\"dataframe\">\n",
       "  <thead>\n",
       "    <tr style=\"text-align: right;\">\n",
       "      <th></th>\n",
       "      <th>bacc</th>\n",
       "      <th>kappa</th>\n",
       "    </tr>\n",
       "  </thead>\n",
       "  <tbody>\n",
       "    <tr>\n",
       "      <th>mean</th>\n",
       "      <td>0.648201</td>\n",
       "      <td>0.603776</td>\n",
       "    </tr>\n",
       "    <tr>\n",
       "      <th>std</th>\n",
       "      <td>0.247151</td>\n",
       "      <td>0.276664</td>\n",
       "    </tr>\n",
       "  </tbody>\n",
       "</table>\n",
       "</div>"
      ],
      "text/plain": [
       "          bacc     kappa\n",
       "mean  0.648201  0.603776\n",
       "std   0.247151  0.276664"
      ]
     },
     "execution_count": 79,
     "metadata": {},
     "output_type": "execute_result"
    }
   ],
   "source": [
    "one_dataset_out_xgb[[\"bacc\", \"kappa\"]].agg(['mean', 'std'])"
   ]
  },
  {
   "cell_type": "code",
   "execution_count": 80,
   "metadata": {},
   "outputs": [
    {
     "name": "stdout",
     "output_type": "stream",
     "text": [
      "\\begin{tabular}{lllll}\n",
      "\\toprule\n",
      "bacc & precision & recall & f1 & fnr \\\\\n",
      "\\midrule\n",
      "0.65 (0.25) & 0.64 (0.25) & 0.67 (0.24) & 0.63 (0.25) & 0.35 (0.25) \\\\\n",
      "\\bottomrule\n",
      "\\end{tabular}\n",
      "\n"
     ]
    }
   ],
   "source": [
    "def format_mean_std(dataset):   \n",
    "    metrics = [\"bacc\", \"precision\", \"recall\", \"f1\", \"fnr\"] \n",
    "    stats = dataset[metrics].agg(['mean', 'std']).round(2)\n",
    "    formatted = {col: f\"{stats.loc['mean',col]:.2f} ({stats.loc['std',col]:.2f})\" for col in metrics}\n",
    "    df = pd.DataFrame([formatted])\n",
    "    print(df.to_latex(index=False, header=True, escape=False))\n",
    "\n",
    "format_mean_std(one_dataset_out_xgb)"
   ]
  },
  {
   "cell_type": "code",
   "execution_count": 81,
   "metadata": {},
   "outputs": [
    {
     "data": {
      "application/vnd.microsoft.datawrangler.viewer.v0+json": {
       "columns": [
        {
         "name": "var",
         "rawType": "object",
         "type": "string"
        },
        {
         "name": "fi_rank_mean",
         "rawType": "float64",
         "type": "float"
        }
       ],
       "ref": "e0cf3b5f-ab52-4af0-93fe-3f9f771299b0",
       "rows": [
        [
         "target_approx_consistency_in_neighborhood_mean",
         "2.0"
        ],
        [
         "target_targets_consistency_in_neighborhood_q50",
         "6.0"
        ],
        [
         "pred_targets_consistency_in_neighborhood_q25",
         "6.636363636363637"
        ],
        [
         "uncertainty_q50",
         "6.7272727272727275"
        ],
        [
         "uncertainty_q25",
         "8.727272727272727"
        ],
        [
         "uncertainty_q0",
         "9.454545454545455"
        ],
        [
         "uncertainty_q75",
         "10.772727272727273"
        ],
        [
         "uncertainty_mean",
         "11.0"
        ],
        [
         "target_targets_consistency_in_neighborhood_mean",
         "11.863636363636363"
        ],
        [
         "pred_targets_consistency_in_neighborhood_minmax",
         "12.818181818181818"
        ],
        [
         "target_approx_consistency_in_neighborhood_q0",
         "14.681818181818182"
        ],
        [
         "pred_targets_consistency_in_neighborhood_mean",
         "14.727272727272727"
        ],
        [
         "target_approx_consistency_in_neighborhood_q50",
         "15.590909090909092"
        ],
        [
         "uncertainty_minmax",
         "15.727272727272727"
        ],
        [
         "approx_diversity_in_neighborhood_q75",
         "18.181818181818183"
        ],
        [
         "neighborhood_size_mean",
         "21.454545454545453"
        ],
        [
         "target_approx_consistency_in_neighborhood_q1",
         "22.272727272727273"
        ],
        [
         "target_diversity_in_neighborhood_q25",
         "23.727272727272727"
        ],
        [
         "uncertainty_q1",
         "24.454545454545453"
        ],
        [
         "target_targets_consistency_in_neighborhood_q25",
         "25.40909090909091"
        ]
       ],
       "shape": {
        "columns": 1,
        "rows": 20
       }
      },
      "text/html": [
       "<div>\n",
       "<style scoped>\n",
       "    .dataframe tbody tr th:only-of-type {\n",
       "        vertical-align: middle;\n",
       "    }\n",
       "\n",
       "    .dataframe tbody tr th {\n",
       "        vertical-align: top;\n",
       "    }\n",
       "\n",
       "    .dataframe thead th {\n",
       "        text-align: right;\n",
       "    }\n",
       "</style>\n",
       "<table border=\"1\" class=\"dataframe\">\n",
       "  <thead>\n",
       "    <tr style=\"text-align: right;\">\n",
       "      <th></th>\n",
       "      <th>fi_rank_mean</th>\n",
       "    </tr>\n",
       "    <tr>\n",
       "      <th>var</th>\n",
       "      <th></th>\n",
       "    </tr>\n",
       "  </thead>\n",
       "  <tbody>\n",
       "    <tr>\n",
       "      <th>target_approx_consistency_in_neighborhood_mean</th>\n",
       "      <td>2.000000</td>\n",
       "    </tr>\n",
       "    <tr>\n",
       "      <th>target_targets_consistency_in_neighborhood_q50</th>\n",
       "      <td>6.000000</td>\n",
       "    </tr>\n",
       "    <tr>\n",
       "      <th>pred_targets_consistency_in_neighborhood_q25</th>\n",
       "      <td>6.636364</td>\n",
       "    </tr>\n",
       "    <tr>\n",
       "      <th>uncertainty_q50</th>\n",
       "      <td>6.727273</td>\n",
       "    </tr>\n",
       "    <tr>\n",
       "      <th>uncertainty_q25</th>\n",
       "      <td>8.727273</td>\n",
       "    </tr>\n",
       "    <tr>\n",
       "      <th>uncertainty_q0</th>\n",
       "      <td>9.454545</td>\n",
       "    </tr>\n",
       "    <tr>\n",
       "      <th>uncertainty_q75</th>\n",
       "      <td>10.772727</td>\n",
       "    </tr>\n",
       "    <tr>\n",
       "      <th>uncertainty_mean</th>\n",
       "      <td>11.000000</td>\n",
       "    </tr>\n",
       "    <tr>\n",
       "      <th>target_targets_consistency_in_neighborhood_mean</th>\n",
       "      <td>11.863636</td>\n",
       "    </tr>\n",
       "    <tr>\n",
       "      <th>pred_targets_consistency_in_neighborhood_minmax</th>\n",
       "      <td>12.818182</td>\n",
       "    </tr>\n",
       "    <tr>\n",
       "      <th>target_approx_consistency_in_neighborhood_q0</th>\n",
       "      <td>14.681818</td>\n",
       "    </tr>\n",
       "    <tr>\n",
       "      <th>pred_targets_consistency_in_neighborhood_mean</th>\n",
       "      <td>14.727273</td>\n",
       "    </tr>\n",
       "    <tr>\n",
       "      <th>target_approx_consistency_in_neighborhood_q50</th>\n",
       "      <td>15.590909</td>\n",
       "    </tr>\n",
       "    <tr>\n",
       "      <th>uncertainty_minmax</th>\n",
       "      <td>15.727273</td>\n",
       "    </tr>\n",
       "    <tr>\n",
       "      <th>approx_diversity_in_neighborhood_q75</th>\n",
       "      <td>18.181818</td>\n",
       "    </tr>\n",
       "    <tr>\n",
       "      <th>neighborhood_size_mean</th>\n",
       "      <td>21.454545</td>\n",
       "    </tr>\n",
       "    <tr>\n",
       "      <th>target_approx_consistency_in_neighborhood_q1</th>\n",
       "      <td>22.272727</td>\n",
       "    </tr>\n",
       "    <tr>\n",
       "      <th>target_diversity_in_neighborhood_q25</th>\n",
       "      <td>23.727273</td>\n",
       "    </tr>\n",
       "    <tr>\n",
       "      <th>uncertainty_q1</th>\n",
       "      <td>24.454545</td>\n",
       "    </tr>\n",
       "    <tr>\n",
       "      <th>target_targets_consistency_in_neighborhood_q25</th>\n",
       "      <td>25.409091</td>\n",
       "    </tr>\n",
       "  </tbody>\n",
       "</table>\n",
       "</div>"
      ],
      "text/plain": [
       "                                                 fi_rank_mean\n",
       "var                                                          \n",
       "target_approx_consistency_in_neighborhood_mean       2.000000\n",
       "target_targets_consistency_in_neighborhood_q50       6.000000\n",
       "pred_targets_consistency_in_neighborhood_q25         6.636364\n",
       "uncertainty_q50                                      6.727273\n",
       "uncertainty_q25                                      8.727273\n",
       "uncertainty_q0                                       9.454545\n",
       "uncertainty_q75                                     10.772727\n",
       "uncertainty_mean                                    11.000000\n",
       "target_targets_consistency_in_neighborhood_mean     11.863636\n",
       "pred_targets_consistency_in_neighborhood_minmax     12.818182\n",
       "target_approx_consistency_in_neighborhood_q0        14.681818\n",
       "pred_targets_consistency_in_neighborhood_mean       14.727273\n",
       "target_approx_consistency_in_neighborhood_q50       15.590909\n",
       "uncertainty_minmax                                  15.727273\n",
       "approx_diversity_in_neighborhood_q75                18.181818\n",
       "neighborhood_size_mean                              21.454545\n",
       "target_approx_consistency_in_neighborhood_q1        22.272727\n",
       "target_diversity_in_neighborhood_q25                23.727273\n",
       "uncertainty_q1                                      24.454545\n",
       "target_targets_consistency_in_neighborhood_q25      25.409091"
      ]
     },
     "execution_count": 81,
     "metadata": {},
     "output_type": "execute_result"
    }
   ],
   "source": [
    "fi_agg = one_dataset_out_fi_xgb[[\"var\", \"fi_rank\"]].groupby([\"var\"]).agg(['mean'])\n",
    "fi_agg.columns = fi_agg.columns.to_flat_index()\n",
    "fi_agg.columns = list(fi_agg.columns.map('_'.join))\n",
    "fi_agg.nsmallest(n=20, columns=[\"fi_rank_mean\"])"
   ]
  },
  {
   "cell_type": "markdown",
   "metadata": {},
   "source": [
    "## Random forest"
   ]
  },
  {
   "cell_type": "markdown",
   "metadata": {},
   "source": [
    "### Default parameters"
   ]
  },
  {
   "cell_type": "code",
   "execution_count": 82,
   "metadata": {},
   "outputs": [
    {
     "name": "stderr",
     "output_type": "stream",
     "text": [
      "100%|██████████| 22/22 [00:14<00:00,  1.47it/s]\n"
     ]
    },
    {
     "data": {
      "application/vnd.microsoft.datawrangler.viewer.v0+json": {
       "columns": [
        {
         "name": "index",
         "rawType": "int64",
         "type": "integer"
        },
        {
         "name": "dataset",
         "rawType": "object",
         "type": "string"
        },
        {
         "name": "bacc",
         "rawType": "float64",
         "type": "float"
        },
        {
         "name": "kappa",
         "rawType": "float64",
         "type": "float"
        },
        {
         "name": "precision",
         "rawType": "float64",
         "type": "float"
        },
        {
         "name": "recall",
         "rawType": "float64",
         "type": "float"
        },
        {
         "name": "f1",
         "rawType": "float64",
         "type": "float"
        },
        {
         "name": "fnr",
         "rawType": "float64",
         "type": "float"
        }
       ],
       "ref": "44f8b16d-5b4f-430f-b3e8-be0cbaddedf9",
       "rows": [
        [
         "0",
         "Bioresponse",
         "0.4583333333333333",
         "0.17073170731707332",
         "0.17647058823529413",
         "0.29411764705882354",
         "0.20392156862745098",
         "0.5416666666666666"
        ],
        [
         "1",
         "churn",
         "0.5",
         "0.4380165289256198",
         "0.3697478991596639",
         "0.5294117647058824",
         "0.41960784313725485",
         "0.5"
        ],
        [
         "2",
         "cmc",
         "1.0",
         "1.0",
         "1.0",
         "1.0",
         "1.0",
         "0.0"
        ],
        [
         "3",
         "cnae-9",
         "0.5416666666666666",
         "0.5102880658436213",
         "0.44313725490196076",
         "0.5882352941176471",
         "0.496265172735761",
         "0.45833333333333326"
        ],
        [
         "4",
         "dna",
         "0.6666666666666666",
         "0.7178423236514523",
         "0.7470588235294118",
         "0.7647058823529411",
         "0.742483660130719",
         "0.3333333333333333"
        ],
        [
         "5",
         "har",
         "0.7083333333333333",
         "0.5",
         "0.5294117647058824",
         "0.5882352941176471",
         "0.5333333333333333",
         "0.2916666666666667"
        ],
        [
         "6",
         "madelon",
         "0.5",
         "0.22807017543859653",
         "0.17708333333333331",
         "0.3125",
         "0.20238095238095238",
         "0.5"
        ],
        [
         "7",
         "mfeat-factors",
         "1.0",
         "1.0",
         "1.0",
         "1.0",
         "1.0",
         "0.0"
        ],
        [
         "8",
         "mfeat-fourier",
         "0.75",
         "0.71900826446281",
         "0.7352941176470589",
         "0.7647058823529411",
         "0.7400560224089636",
         "0.25"
        ],
        [
         "9",
         "mfeat-karhunen",
         "1.0",
         "1.0",
         "1.0",
         "1.0",
         "1.0",
         "0.0"
        ],
        [
         "10",
         "mfeat-zernike",
         "1.0",
         "1.0",
         "1.0",
         "1.0",
         "1.0",
         "0.0"
        ],
        [
         "11",
         "nomao",
         "0.125",
         "0.05150214592274671",
         "0.08556149732620322",
         "0.23529411764705882",
         "0.12549019607843137",
         "0.875"
        ],
        [
         "12",
         "optdigits",
         "1.0",
         "1.0",
         "1.0",
         "1.0",
         "1.0",
         "0.0"
        ],
        [
         "13",
         "pendigits",
         "0.49999999999999994",
         "0.4380165289256198",
         "0.5058823529411764",
         "0.5294117647058824",
         "0.4990196078431373",
         "0.49999999999999994"
        ],
        [
         "14",
         "phoneme",
         "0.40625",
         "0.23673469387755097",
         "0.357843137254902",
         "0.35294117647058826",
         "0.2529411764705883",
         "0.59375"
        ],
        [
         "15",
         "qsar-biodeg",
         "0.59375",
         "0.4403292181069959",
         "0.43529411764705883",
         "0.5294117647058824",
         "0.43999138116785175",
         "0.40625"
        ],
        [
         "16",
         "satimage",
         "0.6875",
         "0.6208530805687205",
         "0.6666666666666666",
         "0.6875",
         "0.65",
         "0.3125"
        ],
        [
         "17",
         "semeion",
         "0.6666666666666666",
         "0.5696202531645569",
         "0.6045751633986929",
         "0.6470588235294118",
         "0.5663650075414781",
         "0.3333333333333333"
        ],
        [
         "18",
         "spambase",
         "1.0",
         "1.0",
         "1.0",
         "1.0",
         "1.0",
         "0.0"
        ],
        [
         "19",
         "wall-robot-navigation",
         "0.41666666666666663",
         "0.2887029288702929",
         "0.22857142857142856",
         "0.4117647058823529",
         "0.2936720142602495",
         "0.5833333333333333"
        ],
        [
         "20",
         "wdbc",
         "0.4166666666666667",
         "0.43568464730290457",
         "0.43823529411764706",
         "0.5294117647058824",
         "0.47805788982259567",
         "0.5833333333333333"
        ],
        [
         "21",
         "wilt",
         "0.09375",
         "0.036437246963562764",
         "0.10084033613445377",
         "0.17647058823529413",
         "0.1283422459893048",
         "0.90625"
        ]
       ],
       "shape": {
        "columns": 7,
        "rows": 22
       }
      },
      "text/html": [
       "<div>\n",
       "<style scoped>\n",
       "    .dataframe tbody tr th:only-of-type {\n",
       "        vertical-align: middle;\n",
       "    }\n",
       "\n",
       "    .dataframe tbody tr th {\n",
       "        vertical-align: top;\n",
       "    }\n",
       "\n",
       "    .dataframe thead th {\n",
       "        text-align: right;\n",
       "    }\n",
       "</style>\n",
       "<table border=\"1\" class=\"dataframe\">\n",
       "  <thead>\n",
       "    <tr style=\"text-align: right;\">\n",
       "      <th></th>\n",
       "      <th>dataset</th>\n",
       "      <th>bacc</th>\n",
       "      <th>kappa</th>\n",
       "      <th>precision</th>\n",
       "      <th>recall</th>\n",
       "      <th>f1</th>\n",
       "      <th>fnr</th>\n",
       "    </tr>\n",
       "  </thead>\n",
       "  <tbody>\n",
       "    <tr>\n",
       "      <th>0</th>\n",
       "      <td>Bioresponse</td>\n",
       "      <td>0.458333</td>\n",
       "      <td>0.170732</td>\n",
       "      <td>0.176471</td>\n",
       "      <td>0.294118</td>\n",
       "      <td>0.203922</td>\n",
       "      <td>0.541667</td>\n",
       "    </tr>\n",
       "    <tr>\n",
       "      <th>1</th>\n",
       "      <td>churn</td>\n",
       "      <td>0.500000</td>\n",
       "      <td>0.438017</td>\n",
       "      <td>0.369748</td>\n",
       "      <td>0.529412</td>\n",
       "      <td>0.419608</td>\n",
       "      <td>0.500000</td>\n",
       "    </tr>\n",
       "    <tr>\n",
       "      <th>2</th>\n",
       "      <td>cmc</td>\n",
       "      <td>1.000000</td>\n",
       "      <td>1.000000</td>\n",
       "      <td>1.000000</td>\n",
       "      <td>1.000000</td>\n",
       "      <td>1.000000</td>\n",
       "      <td>0.000000</td>\n",
       "    </tr>\n",
       "    <tr>\n",
       "      <th>3</th>\n",
       "      <td>cnae-9</td>\n",
       "      <td>0.541667</td>\n",
       "      <td>0.510288</td>\n",
       "      <td>0.443137</td>\n",
       "      <td>0.588235</td>\n",
       "      <td>0.496265</td>\n",
       "      <td>0.458333</td>\n",
       "    </tr>\n",
       "    <tr>\n",
       "      <th>4</th>\n",
       "      <td>dna</td>\n",
       "      <td>0.666667</td>\n",
       "      <td>0.717842</td>\n",
       "      <td>0.747059</td>\n",
       "      <td>0.764706</td>\n",
       "      <td>0.742484</td>\n",
       "      <td>0.333333</td>\n",
       "    </tr>\n",
       "    <tr>\n",
       "      <th>5</th>\n",
       "      <td>har</td>\n",
       "      <td>0.708333</td>\n",
       "      <td>0.500000</td>\n",
       "      <td>0.529412</td>\n",
       "      <td>0.588235</td>\n",
       "      <td>0.533333</td>\n",
       "      <td>0.291667</td>\n",
       "    </tr>\n",
       "    <tr>\n",
       "      <th>6</th>\n",
       "      <td>madelon</td>\n",
       "      <td>0.500000</td>\n",
       "      <td>0.228070</td>\n",
       "      <td>0.177083</td>\n",
       "      <td>0.312500</td>\n",
       "      <td>0.202381</td>\n",
       "      <td>0.500000</td>\n",
       "    </tr>\n",
       "    <tr>\n",
       "      <th>7</th>\n",
       "      <td>mfeat-factors</td>\n",
       "      <td>1.000000</td>\n",
       "      <td>1.000000</td>\n",
       "      <td>1.000000</td>\n",
       "      <td>1.000000</td>\n",
       "      <td>1.000000</td>\n",
       "      <td>0.000000</td>\n",
       "    </tr>\n",
       "    <tr>\n",
       "      <th>8</th>\n",
       "      <td>mfeat-fourier</td>\n",
       "      <td>0.750000</td>\n",
       "      <td>0.719008</td>\n",
       "      <td>0.735294</td>\n",
       "      <td>0.764706</td>\n",
       "      <td>0.740056</td>\n",
       "      <td>0.250000</td>\n",
       "    </tr>\n",
       "    <tr>\n",
       "      <th>9</th>\n",
       "      <td>mfeat-karhunen</td>\n",
       "      <td>1.000000</td>\n",
       "      <td>1.000000</td>\n",
       "      <td>1.000000</td>\n",
       "      <td>1.000000</td>\n",
       "      <td>1.000000</td>\n",
       "      <td>0.000000</td>\n",
       "    </tr>\n",
       "    <tr>\n",
       "      <th>10</th>\n",
       "      <td>mfeat-zernike</td>\n",
       "      <td>1.000000</td>\n",
       "      <td>1.000000</td>\n",
       "      <td>1.000000</td>\n",
       "      <td>1.000000</td>\n",
       "      <td>1.000000</td>\n",
       "      <td>0.000000</td>\n",
       "    </tr>\n",
       "    <tr>\n",
       "      <th>11</th>\n",
       "      <td>nomao</td>\n",
       "      <td>0.125000</td>\n",
       "      <td>0.051502</td>\n",
       "      <td>0.085561</td>\n",
       "      <td>0.235294</td>\n",
       "      <td>0.125490</td>\n",
       "      <td>0.875000</td>\n",
       "    </tr>\n",
       "    <tr>\n",
       "      <th>12</th>\n",
       "      <td>optdigits</td>\n",
       "      <td>1.000000</td>\n",
       "      <td>1.000000</td>\n",
       "      <td>1.000000</td>\n",
       "      <td>1.000000</td>\n",
       "      <td>1.000000</td>\n",
       "      <td>0.000000</td>\n",
       "    </tr>\n",
       "    <tr>\n",
       "      <th>13</th>\n",
       "      <td>pendigits</td>\n",
       "      <td>0.500000</td>\n",
       "      <td>0.438017</td>\n",
       "      <td>0.505882</td>\n",
       "      <td>0.529412</td>\n",
       "      <td>0.499020</td>\n",
       "      <td>0.500000</td>\n",
       "    </tr>\n",
       "    <tr>\n",
       "      <th>14</th>\n",
       "      <td>phoneme</td>\n",
       "      <td>0.406250</td>\n",
       "      <td>0.236735</td>\n",
       "      <td>0.357843</td>\n",
       "      <td>0.352941</td>\n",
       "      <td>0.252941</td>\n",
       "      <td>0.593750</td>\n",
       "    </tr>\n",
       "    <tr>\n",
       "      <th>15</th>\n",
       "      <td>qsar-biodeg</td>\n",
       "      <td>0.593750</td>\n",
       "      <td>0.440329</td>\n",
       "      <td>0.435294</td>\n",
       "      <td>0.529412</td>\n",
       "      <td>0.439991</td>\n",
       "      <td>0.406250</td>\n",
       "    </tr>\n",
       "    <tr>\n",
       "      <th>16</th>\n",
       "      <td>satimage</td>\n",
       "      <td>0.687500</td>\n",
       "      <td>0.620853</td>\n",
       "      <td>0.666667</td>\n",
       "      <td>0.687500</td>\n",
       "      <td>0.650000</td>\n",
       "      <td>0.312500</td>\n",
       "    </tr>\n",
       "    <tr>\n",
       "      <th>17</th>\n",
       "      <td>semeion</td>\n",
       "      <td>0.666667</td>\n",
       "      <td>0.569620</td>\n",
       "      <td>0.604575</td>\n",
       "      <td>0.647059</td>\n",
       "      <td>0.566365</td>\n",
       "      <td>0.333333</td>\n",
       "    </tr>\n",
       "    <tr>\n",
       "      <th>18</th>\n",
       "      <td>spambase</td>\n",
       "      <td>1.000000</td>\n",
       "      <td>1.000000</td>\n",
       "      <td>1.000000</td>\n",
       "      <td>1.000000</td>\n",
       "      <td>1.000000</td>\n",
       "      <td>0.000000</td>\n",
       "    </tr>\n",
       "    <tr>\n",
       "      <th>19</th>\n",
       "      <td>wall-robot-navigation</td>\n",
       "      <td>0.416667</td>\n",
       "      <td>0.288703</td>\n",
       "      <td>0.228571</td>\n",
       "      <td>0.411765</td>\n",
       "      <td>0.293672</td>\n",
       "      <td>0.583333</td>\n",
       "    </tr>\n",
       "    <tr>\n",
       "      <th>20</th>\n",
       "      <td>wdbc</td>\n",
       "      <td>0.416667</td>\n",
       "      <td>0.435685</td>\n",
       "      <td>0.438235</td>\n",
       "      <td>0.529412</td>\n",
       "      <td>0.478058</td>\n",
       "      <td>0.583333</td>\n",
       "    </tr>\n",
       "    <tr>\n",
       "      <th>21</th>\n",
       "      <td>wilt</td>\n",
       "      <td>0.093750</td>\n",
       "      <td>0.036437</td>\n",
       "      <td>0.100840</td>\n",
       "      <td>0.176471</td>\n",
       "      <td>0.128342</td>\n",
       "      <td>0.906250</td>\n",
       "    </tr>\n",
       "  </tbody>\n",
       "</table>\n",
       "</div>"
      ],
      "text/plain": [
       "                  dataset      bacc     kappa  precision    recall        f1  \\\n",
       "0             Bioresponse  0.458333  0.170732   0.176471  0.294118  0.203922   \n",
       "1                   churn  0.500000  0.438017   0.369748  0.529412  0.419608   \n",
       "2                     cmc  1.000000  1.000000   1.000000  1.000000  1.000000   \n",
       "3                  cnae-9  0.541667  0.510288   0.443137  0.588235  0.496265   \n",
       "4                     dna  0.666667  0.717842   0.747059  0.764706  0.742484   \n",
       "5                     har  0.708333  0.500000   0.529412  0.588235  0.533333   \n",
       "6                 madelon  0.500000  0.228070   0.177083  0.312500  0.202381   \n",
       "7           mfeat-factors  1.000000  1.000000   1.000000  1.000000  1.000000   \n",
       "8           mfeat-fourier  0.750000  0.719008   0.735294  0.764706  0.740056   \n",
       "9          mfeat-karhunen  1.000000  1.000000   1.000000  1.000000  1.000000   \n",
       "10          mfeat-zernike  1.000000  1.000000   1.000000  1.000000  1.000000   \n",
       "11                  nomao  0.125000  0.051502   0.085561  0.235294  0.125490   \n",
       "12              optdigits  1.000000  1.000000   1.000000  1.000000  1.000000   \n",
       "13              pendigits  0.500000  0.438017   0.505882  0.529412  0.499020   \n",
       "14                phoneme  0.406250  0.236735   0.357843  0.352941  0.252941   \n",
       "15            qsar-biodeg  0.593750  0.440329   0.435294  0.529412  0.439991   \n",
       "16               satimage  0.687500  0.620853   0.666667  0.687500  0.650000   \n",
       "17                semeion  0.666667  0.569620   0.604575  0.647059  0.566365   \n",
       "18               spambase  1.000000  1.000000   1.000000  1.000000  1.000000   \n",
       "19  wall-robot-navigation  0.416667  0.288703   0.228571  0.411765  0.293672   \n",
       "20                   wdbc  0.416667  0.435685   0.438235  0.529412  0.478058   \n",
       "21                   wilt  0.093750  0.036437   0.100840  0.176471  0.128342   \n",
       "\n",
       "         fnr  \n",
       "0   0.541667  \n",
       "1   0.500000  \n",
       "2   0.000000  \n",
       "3   0.458333  \n",
       "4   0.333333  \n",
       "5   0.291667  \n",
       "6   0.500000  \n",
       "7   0.000000  \n",
       "8   0.250000  \n",
       "9   0.000000  \n",
       "10  0.000000  \n",
       "11  0.875000  \n",
       "12  0.000000  \n",
       "13  0.500000  \n",
       "14  0.593750  \n",
       "15  0.406250  \n",
       "16  0.312500  \n",
       "17  0.333333  \n",
       "18  0.000000  \n",
       "19  0.583333  \n",
       "20  0.583333  \n",
       "21  0.906250  "
      ]
     },
     "execution_count": 82,
     "metadata": {},
     "output_type": "execute_result"
    }
   ],
   "source": [
    "one_dataset_out_rf, one_dataset_out_fi_rf = leave_dataset_out(model=RandomForestClassifier(random_state=123))\n",
    "one_dataset_out_rf"
   ]
  },
  {
   "cell_type": "markdown",
   "metadata": {},
   "source": [
    "### Hyperparameters tuning"
   ]
  },
  {
   "cell_type": "code",
   "execution_count": 83,
   "metadata": {},
   "outputs": [
    {
     "name": "stderr",
     "output_type": "stream",
     "text": [
      "100%|██████████| 22/22 [00:33<00:00,  1.51s/it]\n"
     ]
    }
   ],
   "source": [
    "retrain = False\n",
    "\n",
    "if retrain:\n",
    "\n",
    "    model=RandomForestClassifier(random_state=123)\n",
    "\n",
    "    param_grid = {\n",
    "        'max_depth': [50, 80, 110],\n",
    "        'min_samples_split': [2, 5, 8],\n",
    "        'n_estimators': [100, 200, 500]\n",
    "    }\n",
    "\n",
    "    one_dataset_out_rf, one_dataset_out_fi_rf = create_hyperparams_grid(model=model, param_grid=param_grid, exp_function=leave_dataset_out, crit=\"kappa\")\n",
    "else:\n",
    "    # Params: {'max_depth': 50, 'min_samples_split': 2, 'n_estimators': 200} give best kappa equal 0.5699655896019489\n",
    "    params = {'max_depth': 50, 'min_samples_split': 2, 'n_estimators': 200, 'random_state': 123}\n",
    "    one_dataset_out_rf, one_dataset_out_fi_rf = leave_dataset_out(model=RandomForestClassifier(random_state=123), params=params)"
   ]
  },
  {
   "cell_type": "code",
   "execution_count": 84,
   "metadata": {},
   "outputs": [
    {
     "data": {
      "application/vnd.microsoft.datawrangler.viewer.v0+json": {
       "columns": [
        {
         "name": "index",
         "rawType": "object",
         "type": "string"
        },
        {
         "name": "bacc",
         "rawType": "float64",
         "type": "float"
        },
        {
         "name": "kappa",
         "rawType": "float64",
         "type": "float"
        }
       ],
       "ref": "334b7cd5-d3a7-4388-91e1-fe59abe8b667",
       "rows": [
        [
         "mean",
         "0.6448863636363635",
         "0.5699655896019489"
        ],
        [
         "std",
         "0.27267591106871264",
         "0.32754174441070605"
        ]
       ],
       "shape": {
        "columns": 2,
        "rows": 2
       }
      },
      "text/html": [
       "<div>\n",
       "<style scoped>\n",
       "    .dataframe tbody tr th:only-of-type {\n",
       "        vertical-align: middle;\n",
       "    }\n",
       "\n",
       "    .dataframe tbody tr th {\n",
       "        vertical-align: top;\n",
       "    }\n",
       "\n",
       "    .dataframe thead th {\n",
       "        text-align: right;\n",
       "    }\n",
       "</style>\n",
       "<table border=\"1\" class=\"dataframe\">\n",
       "  <thead>\n",
       "    <tr style=\"text-align: right;\">\n",
       "      <th></th>\n",
       "      <th>bacc</th>\n",
       "      <th>kappa</th>\n",
       "    </tr>\n",
       "  </thead>\n",
       "  <tbody>\n",
       "    <tr>\n",
       "      <th>mean</th>\n",
       "      <td>0.644886</td>\n",
       "      <td>0.569966</td>\n",
       "    </tr>\n",
       "    <tr>\n",
       "      <th>std</th>\n",
       "      <td>0.272676</td>\n",
       "      <td>0.327542</td>\n",
       "    </tr>\n",
       "  </tbody>\n",
       "</table>\n",
       "</div>"
      ],
      "text/plain": [
       "          bacc     kappa\n",
       "mean  0.644886  0.569966\n",
       "std   0.272676  0.327542"
      ]
     },
     "execution_count": 84,
     "metadata": {},
     "output_type": "execute_result"
    }
   ],
   "source": [
    "one_dataset_out_rf[[\"bacc\", \"kappa\"]].agg(['mean', 'std'])"
   ]
  },
  {
   "cell_type": "code",
   "execution_count": 85,
   "metadata": {},
   "outputs": [
    {
     "name": "stdout",
     "output_type": "stream",
     "text": [
      "\\begin{tabular}{lllll}\n",
      "\\toprule\n",
      "bacc & precision & recall & f1 & fnr \\\\\n",
      "\\midrule\n",
      "0.64 (0.27) & 0.59 (0.32) & 0.64 (0.28) & 0.59 (0.31) & 0.36 (0.27) \\\\\n",
      "\\bottomrule\n",
      "\\end{tabular}\n",
      "\n"
     ]
    }
   ],
   "source": [
    "format_mean_std(one_dataset_out_rf)"
   ]
  },
  {
   "cell_type": "code",
   "execution_count": 86,
   "metadata": {},
   "outputs": [
    {
     "data": {
      "application/vnd.microsoft.datawrangler.viewer.v0+json": {
       "columns": [
        {
         "name": "var",
         "rawType": "object",
         "type": "string"
        },
        {
         "name": "fi_rank_mean",
         "rawType": "float64",
         "type": "float"
        }
       ],
       "ref": "c0301081-2ed8-47ed-a094-f1b092e4f0c4",
       "rows": [
        [
         "uncertainty_q50",
         "1.9545454545454546"
        ],
        [
         "uncertainty_q75",
         "2.272727272727273"
        ],
        [
         "uncertainty_q25",
         "2.5454545454545454"
        ],
        [
         "uncertainty_mean",
         "3.227272727272727"
        ],
        [
         "uncertainty_minmax",
         "5.454545454545454"
        ],
        [
         "target_approx_consistency_in_neighborhood_mean",
         "6.636363636363637"
        ],
        [
         "uncertainty_q1",
         "7.2727272727272725"
        ],
        [
         "target_approx_consistency_in_neighborhood_q50",
         "7.318181818181818"
        ],
        [
         "target_approx_consistency_in_neighborhood_q25",
         "8.5"
        ],
        [
         "uncertainty_q0",
         "10.727272727272727"
        ],
        [
         "pred_targets_consistency_in_neighborhood_mean",
         "11.590909090909092"
        ],
        [
         "target_approx_consistency_in_neighborhood_q75",
         "13.181818181818182"
        ],
        [
         "pred_targets_consistency_in_neighborhood_q25",
         "14.227272727272727"
        ],
        [
         "target_targets_consistency_in_neighborhood_mean",
         "15.0"
        ],
        [
         "approx_diversity_in_neighborhood_q50",
         "15.681818181818182"
        ],
        [
         "approx_diversity_in_neighborhood_mean",
         "16.636363636363637"
        ],
        [
         "target_targets_consistency_in_neighborhood_q50",
         "16.863636363636363"
        ],
        [
         "target_diversity_in_neighborhood_mean",
         "17.545454545454547"
        ],
        [
         "approx_diversity_in_neighborhood_q25",
         "19.318181818181817"
        ],
        [
         "pred_targets_consistency_in_neighborhood_q50",
         "20.636363636363637"
        ]
       ],
       "shape": {
        "columns": 1,
        "rows": 20
       }
      },
      "text/html": [
       "<div>\n",
       "<style scoped>\n",
       "    .dataframe tbody tr th:only-of-type {\n",
       "        vertical-align: middle;\n",
       "    }\n",
       "\n",
       "    .dataframe tbody tr th {\n",
       "        vertical-align: top;\n",
       "    }\n",
       "\n",
       "    .dataframe thead th {\n",
       "        text-align: right;\n",
       "    }\n",
       "</style>\n",
       "<table border=\"1\" class=\"dataframe\">\n",
       "  <thead>\n",
       "    <tr style=\"text-align: right;\">\n",
       "      <th></th>\n",
       "      <th>fi_rank_mean</th>\n",
       "    </tr>\n",
       "    <tr>\n",
       "      <th>var</th>\n",
       "      <th></th>\n",
       "    </tr>\n",
       "  </thead>\n",
       "  <tbody>\n",
       "    <tr>\n",
       "      <th>uncertainty_q50</th>\n",
       "      <td>1.954545</td>\n",
       "    </tr>\n",
       "    <tr>\n",
       "      <th>uncertainty_q75</th>\n",
       "      <td>2.272727</td>\n",
       "    </tr>\n",
       "    <tr>\n",
       "      <th>uncertainty_q25</th>\n",
       "      <td>2.545455</td>\n",
       "    </tr>\n",
       "    <tr>\n",
       "      <th>uncertainty_mean</th>\n",
       "      <td>3.227273</td>\n",
       "    </tr>\n",
       "    <tr>\n",
       "      <th>uncertainty_minmax</th>\n",
       "      <td>5.454545</td>\n",
       "    </tr>\n",
       "    <tr>\n",
       "      <th>target_approx_consistency_in_neighborhood_mean</th>\n",
       "      <td>6.636364</td>\n",
       "    </tr>\n",
       "    <tr>\n",
       "      <th>uncertainty_q1</th>\n",
       "      <td>7.272727</td>\n",
       "    </tr>\n",
       "    <tr>\n",
       "      <th>target_approx_consistency_in_neighborhood_q50</th>\n",
       "      <td>7.318182</td>\n",
       "    </tr>\n",
       "    <tr>\n",
       "      <th>target_approx_consistency_in_neighborhood_q25</th>\n",
       "      <td>8.500000</td>\n",
       "    </tr>\n",
       "    <tr>\n",
       "      <th>uncertainty_q0</th>\n",
       "      <td>10.727273</td>\n",
       "    </tr>\n",
       "    <tr>\n",
       "      <th>pred_targets_consistency_in_neighborhood_mean</th>\n",
       "      <td>11.590909</td>\n",
       "    </tr>\n",
       "    <tr>\n",
       "      <th>target_approx_consistency_in_neighborhood_q75</th>\n",
       "      <td>13.181818</td>\n",
       "    </tr>\n",
       "    <tr>\n",
       "      <th>pred_targets_consistency_in_neighborhood_q25</th>\n",
       "      <td>14.227273</td>\n",
       "    </tr>\n",
       "    <tr>\n",
       "      <th>target_targets_consistency_in_neighborhood_mean</th>\n",
       "      <td>15.000000</td>\n",
       "    </tr>\n",
       "    <tr>\n",
       "      <th>approx_diversity_in_neighborhood_q50</th>\n",
       "      <td>15.681818</td>\n",
       "    </tr>\n",
       "    <tr>\n",
       "      <th>approx_diversity_in_neighborhood_mean</th>\n",
       "      <td>16.636364</td>\n",
       "    </tr>\n",
       "    <tr>\n",
       "      <th>target_targets_consistency_in_neighborhood_q50</th>\n",
       "      <td>16.863636</td>\n",
       "    </tr>\n",
       "    <tr>\n",
       "      <th>target_diversity_in_neighborhood_mean</th>\n",
       "      <td>17.545455</td>\n",
       "    </tr>\n",
       "    <tr>\n",
       "      <th>approx_diversity_in_neighborhood_q25</th>\n",
       "      <td>19.318182</td>\n",
       "    </tr>\n",
       "    <tr>\n",
       "      <th>pred_targets_consistency_in_neighborhood_q50</th>\n",
       "      <td>20.636364</td>\n",
       "    </tr>\n",
       "  </tbody>\n",
       "</table>\n",
       "</div>"
      ],
      "text/plain": [
       "                                                 fi_rank_mean\n",
       "var                                                          \n",
       "uncertainty_q50                                      1.954545\n",
       "uncertainty_q75                                      2.272727\n",
       "uncertainty_q25                                      2.545455\n",
       "uncertainty_mean                                     3.227273\n",
       "uncertainty_minmax                                   5.454545\n",
       "target_approx_consistency_in_neighborhood_mean       6.636364\n",
       "uncertainty_q1                                       7.272727\n",
       "target_approx_consistency_in_neighborhood_q50        7.318182\n",
       "target_approx_consistency_in_neighborhood_q25        8.500000\n",
       "uncertainty_q0                                      10.727273\n",
       "pred_targets_consistency_in_neighborhood_mean       11.590909\n",
       "target_approx_consistency_in_neighborhood_q75       13.181818\n",
       "pred_targets_consistency_in_neighborhood_q25        14.227273\n",
       "target_targets_consistency_in_neighborhood_mean     15.000000\n",
       "approx_diversity_in_neighborhood_q50                15.681818\n",
       "approx_diversity_in_neighborhood_mean               16.636364\n",
       "target_targets_consistency_in_neighborhood_q50      16.863636\n",
       "target_diversity_in_neighborhood_mean               17.545455\n",
       "approx_diversity_in_neighborhood_q25                19.318182\n",
       "pred_targets_consistency_in_neighborhood_q50        20.636364"
      ]
     },
     "execution_count": 86,
     "metadata": {},
     "output_type": "execute_result"
    }
   ],
   "source": [
    "fi_agg = one_dataset_out_fi_rf[[\"var\", \"fi_rank\"]].groupby([\"var\"]).agg(['mean'])\n",
    "fi_agg.columns = fi_agg.columns.to_flat_index()\n",
    "fi_agg.columns = list(fi_agg.columns.map('_'.join))\n",
    "fi_agg.nsmallest(n=20, columns=[\"fi_rank_mean\"])"
   ]
  },
  {
   "cell_type": "markdown",
   "metadata": {},
   "source": [
    "# Leave-one-model-out"
   ]
  },
  {
   "cell_type": "code",
   "execution_count": 87,
   "metadata": {},
   "outputs": [],
   "source": [
    "def leave_model_out(model=xgb.XGBClassifier(random_state=123)):\n",
    "\n",
    "    models = np.unique(attrs_agg_correct_cols[\"model\"])\n",
    "    kappa_list = []\n",
    "    bacc_list = []\n",
    "    precision_list = []\n",
    "    recall_list = []\n",
    "    f1_list = []\n",
    "    fnr_list = []\n",
    "    fi_all = pd.DataFrame()\n",
    "\n",
    "    for selected_model in models:\n",
    "\n",
    "        train = attrs_agg_correct_cols[attrs_agg_correct_cols[\"model\"] != selected_model]\n",
    "        test = attrs_agg_correct_cols[attrs_agg_correct_cols[\"model\"] == selected_model]\n",
    "\n",
    "        y = attrs_agg_correct_cols[\"attack\"]\n",
    "\n",
    "        x_train = train.drop(columns=[\"dataset\", \"model\", \"attack\"])\n",
    "        y_train = train[\"attack\"]\n",
    "\n",
    "        x_test = test.drop(columns=[\"dataset\", \"model\", \"attack\"])\n",
    "        y_test = test[\"attack\"]\n",
    "\n",
    "        le = LabelEncoder()\n",
    "        # le.fit(y)\n",
    "        y_train_enc = le.fit_transform(y_train)\n",
    "        # y_test_enc = le.transform(y_test)\n",
    "\n",
    "        model.fit(x_train, y_train_enc)\n",
    "\n",
    "        fi_dict = {'var': x_train.columns, 'fi': model.feature_importances_}\n",
    "        fi_df = pd.DataFrame(fi_dict)\n",
    "        fi_df[\"fi_rank\"] = fi_df[\"fi\"].rank(ascending=False)\n",
    "        fi_df[\"model\"] = selected_model\n",
    "        fi_all = pd.concat([fi_all, fi_df])\n",
    "\n",
    "        preds = model.predict(x_test)\n",
    "        bacc_list.append(balanced_accuracy_score(y_test, le.inverse_transform(preds)))\n",
    "        kappa_list.append(cohen_kappa_score(y_test, le.inverse_transform(preds)))\n",
    "        precision_list.append(precision_score(y_test, le.inverse_transform(preds), average='weighted'))\n",
    "        recall_list.append(recall_score(y_test, le.inverse_transform(preds), average='weighted'))\n",
    "        f1_list.append(f1_score(y_test, le.inverse_transform(preds), average='weighted'))\n",
    "        fnr_list.append(multiclass_false_negative_rate(y_test, le.inverse_transform(preds)))\n",
    "\n",
    "    results_dict = {'model': models, 'bacc': bacc_list, 'kappa': kappa_list, 'precision': precision_list,\n",
    "                    'recall': recall_list, 'f1': f1_list, 'fnr': fnr_list}\n",
    "\n",
    "    results_df = pd.DataFrame(results_dict)\n",
    "    return results_df, fi_all"
   ]
  },
  {
   "cell_type": "markdown",
   "metadata": {},
   "source": [
    "## XGBoost"
   ]
  },
  {
   "cell_type": "code",
   "execution_count": 88,
   "metadata": {},
   "outputs": [
    {
     "data": {
      "application/vnd.microsoft.datawrangler.viewer.v0+json": {
       "columns": [
        {
         "name": "index",
         "rawType": "int64",
         "type": "integer"
        },
        {
         "name": "model",
         "rawType": "object",
         "type": "string"
        },
        {
         "name": "bacc",
         "rawType": "float64",
         "type": "float"
        },
        {
         "name": "kappa",
         "rawType": "float64",
         "type": "float"
        },
        {
         "name": "precision",
         "rawType": "float64",
         "type": "float"
        },
        {
         "name": "recall",
         "rawType": "float64",
         "type": "float"
        },
        {
         "name": "f1",
         "rawType": "float64",
         "type": "float"
        },
        {
         "name": "fnr",
         "rawType": "float64",
         "type": "float"
        }
       ],
       "ref": "335045a5-c997-4ab7-801a-e790420c4a40",
       "rows": [
        [
         "0",
         "lin",
         "0.6818181818181819",
         "0.5757575757575757",
         "0.6926093514328809",
         "0.6818181818181818",
         "0.6732718295218295",
         "0.31818181818181823"
        ],
        [
         "1",
         "nn",
         "0.17272727272727273",
         "0.1283524904214558",
         "0.1357142857142857",
         "0.17272727272727273",
         "0.152",
         "0.8272727272727274"
        ],
        [
         "2",
         "svm",
         "0.6818181818181818",
         "0.5789473684210527",
         "0.7214620992709477",
         "0.6818181818181818",
         "0.6922722928245247",
         "0.3181818181818182"
        ],
        [
         "3",
         "xgb",
         "0.5045454545454545",
         "0.3600283486888731",
         "0.6386627906976744",
         "0.5116279069767442",
         "0.4573493800800627",
         "0.4954545454545455"
        ]
       ],
       "shape": {
        "columns": 7,
        "rows": 4
       }
      },
      "text/html": [
       "<div>\n",
       "<style scoped>\n",
       "    .dataframe tbody tr th:only-of-type {\n",
       "        vertical-align: middle;\n",
       "    }\n",
       "\n",
       "    .dataframe tbody tr th {\n",
       "        vertical-align: top;\n",
       "    }\n",
       "\n",
       "    .dataframe thead th {\n",
       "        text-align: right;\n",
       "    }\n",
       "</style>\n",
       "<table border=\"1\" class=\"dataframe\">\n",
       "  <thead>\n",
       "    <tr style=\"text-align: right;\">\n",
       "      <th></th>\n",
       "      <th>model</th>\n",
       "      <th>bacc</th>\n",
       "      <th>kappa</th>\n",
       "      <th>precision</th>\n",
       "      <th>recall</th>\n",
       "      <th>f1</th>\n",
       "      <th>fnr</th>\n",
       "    </tr>\n",
       "  </thead>\n",
       "  <tbody>\n",
       "    <tr>\n",
       "      <th>0</th>\n",
       "      <td>lin</td>\n",
       "      <td>0.681818</td>\n",
       "      <td>0.575758</td>\n",
       "      <td>0.692609</td>\n",
       "      <td>0.681818</td>\n",
       "      <td>0.673272</td>\n",
       "      <td>0.318182</td>\n",
       "    </tr>\n",
       "    <tr>\n",
       "      <th>1</th>\n",
       "      <td>nn</td>\n",
       "      <td>0.172727</td>\n",
       "      <td>0.128352</td>\n",
       "      <td>0.135714</td>\n",
       "      <td>0.172727</td>\n",
       "      <td>0.152000</td>\n",
       "      <td>0.827273</td>\n",
       "    </tr>\n",
       "    <tr>\n",
       "      <th>2</th>\n",
       "      <td>svm</td>\n",
       "      <td>0.681818</td>\n",
       "      <td>0.578947</td>\n",
       "      <td>0.721462</td>\n",
       "      <td>0.681818</td>\n",
       "      <td>0.692272</td>\n",
       "      <td>0.318182</td>\n",
       "    </tr>\n",
       "    <tr>\n",
       "      <th>3</th>\n",
       "      <td>xgb</td>\n",
       "      <td>0.504545</td>\n",
       "      <td>0.360028</td>\n",
       "      <td>0.638663</td>\n",
       "      <td>0.511628</td>\n",
       "      <td>0.457349</td>\n",
       "      <td>0.495455</td>\n",
       "    </tr>\n",
       "  </tbody>\n",
       "</table>\n",
       "</div>"
      ],
      "text/plain": [
       "  model      bacc     kappa  precision    recall        f1       fnr\n",
       "0   lin  0.681818  0.575758   0.692609  0.681818  0.673272  0.318182\n",
       "1    nn  0.172727  0.128352   0.135714  0.172727  0.152000  0.827273\n",
       "2   svm  0.681818  0.578947   0.721462  0.681818  0.692272  0.318182\n",
       "3   xgb  0.504545  0.360028   0.638663  0.511628  0.457349  0.495455"
      ]
     },
     "execution_count": 88,
     "metadata": {},
     "output_type": "execute_result"
    }
   ],
   "source": [
    "one_model_out_xgb, one_model_out_fi_xgb = leave_model_out()\n",
    "one_model_out_xgb"
   ]
  },
  {
   "cell_type": "code",
   "execution_count": 89,
   "metadata": {},
   "outputs": [
    {
     "data": {
      "application/vnd.microsoft.datawrangler.viewer.v0+json": {
       "columns": [
        {
         "name": "index",
         "rawType": "object",
         "type": "string"
        },
        {
         "name": "bacc",
         "rawType": "float64",
         "type": "float"
        },
        {
         "name": "kappa",
         "rawType": "float64",
         "type": "float"
        }
       ],
       "ref": "61645265-50dd-45ec-8291-42cf49c6c5c5",
       "rows": [
        [
         "mean",
         "0.5102272727272728",
         "0.41077144582223934"
        ],
        [
         "std",
         "0.24001764742280965",
         "0.21435087457201082"
        ]
       ],
       "shape": {
        "columns": 2,
        "rows": 2
       }
      },
      "text/html": [
       "<div>\n",
       "<style scoped>\n",
       "    .dataframe tbody tr th:only-of-type {\n",
       "        vertical-align: middle;\n",
       "    }\n",
       "\n",
       "    .dataframe tbody tr th {\n",
       "        vertical-align: top;\n",
       "    }\n",
       "\n",
       "    .dataframe thead th {\n",
       "        text-align: right;\n",
       "    }\n",
       "</style>\n",
       "<table border=\"1\" class=\"dataframe\">\n",
       "  <thead>\n",
       "    <tr style=\"text-align: right;\">\n",
       "      <th></th>\n",
       "      <th>bacc</th>\n",
       "      <th>kappa</th>\n",
       "    </tr>\n",
       "  </thead>\n",
       "  <tbody>\n",
       "    <tr>\n",
       "      <th>mean</th>\n",
       "      <td>0.510227</td>\n",
       "      <td>0.410771</td>\n",
       "    </tr>\n",
       "    <tr>\n",
       "      <th>std</th>\n",
       "      <td>0.240018</td>\n",
       "      <td>0.214351</td>\n",
       "    </tr>\n",
       "  </tbody>\n",
       "</table>\n",
       "</div>"
      ],
      "text/plain": [
       "          bacc     kappa\n",
       "mean  0.510227  0.410771\n",
       "std   0.240018  0.214351"
      ]
     },
     "execution_count": 89,
     "metadata": {},
     "output_type": "execute_result"
    }
   ],
   "source": [
    "one_model_out_xgb[[\"bacc\", \"kappa\"]].agg(['mean', 'std'])"
   ]
  },
  {
   "cell_type": "code",
   "execution_count": 90,
   "metadata": {},
   "outputs": [
    {
     "name": "stdout",
     "output_type": "stream",
     "text": [
      "\\begin{tabular}{lllll}\n",
      "\\toprule\n",
      "bacc & precision & recall & f1 & fnr \\\\\n",
      "\\midrule\n",
      "0.51 (0.24) & 0.55 (0.28) & 0.51 (0.24) & 0.49 (0.25) & 0.49 (0.24) \\\\\n",
      "\\bottomrule\n",
      "\\end{tabular}\n",
      "\n"
     ]
    }
   ],
   "source": [
    "format_mean_std(one_model_out_xgb)"
   ]
  },
  {
   "cell_type": "markdown",
   "metadata": {},
   "source": [
    "## Random forest"
   ]
  },
  {
   "cell_type": "code",
   "execution_count": 91,
   "metadata": {},
   "outputs": [
    {
     "data": {
      "application/vnd.microsoft.datawrangler.viewer.v0+json": {
       "columns": [
        {
         "name": "index",
         "rawType": "int64",
         "type": "integer"
        },
        {
         "name": "model",
         "rawType": "object",
         "type": "string"
        },
        {
         "name": "bacc",
         "rawType": "float64",
         "type": "float"
        },
        {
         "name": "kappa",
         "rawType": "float64",
         "type": "float"
        },
        {
         "name": "precision",
         "rawType": "float64",
         "type": "float"
        },
        {
         "name": "recall",
         "rawType": "float64",
         "type": "float"
        },
        {
         "name": "f1",
         "rawType": "float64",
         "type": "float"
        },
        {
         "name": "fnr",
         "rawType": "float64",
         "type": "float"
        }
       ],
       "ref": "fa99b68d-18b6-42b0-8408-2af83761b64a",
       "rows": [
        [
         "0",
         "lin",
         "0.6704545454545454",
         "0.5606060606060606",
         "0.6714701361440493",
         "0.6704545454545454",
         "0.664604693552062",
         "0.32954545454545453"
        ],
        [
         "1",
         "nn",
         "0.18181818181818182",
         "0.14448669201520914",
         "0.16666666666666669",
         "0.18181818181818182",
         "0.17391304347826086",
         "0.8181818181818181"
        ],
        [
         "2",
         "svm",
         "0.6704545454545455",
         "0.5606060606060606",
         "0.6716666666666666",
         "0.6704545454545454",
         "0.6653297377181556",
         "0.3295454545454546"
        ],
        [
         "3",
         "xgb",
         "0.4579545454545454",
         "0.28797696184305266",
         "0.49756460854344026",
         "0.46511627906976744",
         "0.3792783212451281",
         "0.5420454545454545"
        ]
       ],
       "shape": {
        "columns": 7,
        "rows": 4
       }
      },
      "text/html": [
       "<div>\n",
       "<style scoped>\n",
       "    .dataframe tbody tr th:only-of-type {\n",
       "        vertical-align: middle;\n",
       "    }\n",
       "\n",
       "    .dataframe tbody tr th {\n",
       "        vertical-align: top;\n",
       "    }\n",
       "\n",
       "    .dataframe thead th {\n",
       "        text-align: right;\n",
       "    }\n",
       "</style>\n",
       "<table border=\"1\" class=\"dataframe\">\n",
       "  <thead>\n",
       "    <tr style=\"text-align: right;\">\n",
       "      <th></th>\n",
       "      <th>model</th>\n",
       "      <th>bacc</th>\n",
       "      <th>kappa</th>\n",
       "      <th>precision</th>\n",
       "      <th>recall</th>\n",
       "      <th>f1</th>\n",
       "      <th>fnr</th>\n",
       "    </tr>\n",
       "  </thead>\n",
       "  <tbody>\n",
       "    <tr>\n",
       "      <th>0</th>\n",
       "      <td>lin</td>\n",
       "      <td>0.670455</td>\n",
       "      <td>0.560606</td>\n",
       "      <td>0.671470</td>\n",
       "      <td>0.670455</td>\n",
       "      <td>0.664605</td>\n",
       "      <td>0.329545</td>\n",
       "    </tr>\n",
       "    <tr>\n",
       "      <th>1</th>\n",
       "      <td>nn</td>\n",
       "      <td>0.181818</td>\n",
       "      <td>0.144487</td>\n",
       "      <td>0.166667</td>\n",
       "      <td>0.181818</td>\n",
       "      <td>0.173913</td>\n",
       "      <td>0.818182</td>\n",
       "    </tr>\n",
       "    <tr>\n",
       "      <th>2</th>\n",
       "      <td>svm</td>\n",
       "      <td>0.670455</td>\n",
       "      <td>0.560606</td>\n",
       "      <td>0.671667</td>\n",
       "      <td>0.670455</td>\n",
       "      <td>0.665330</td>\n",
       "      <td>0.329545</td>\n",
       "    </tr>\n",
       "    <tr>\n",
       "      <th>3</th>\n",
       "      <td>xgb</td>\n",
       "      <td>0.457955</td>\n",
       "      <td>0.287977</td>\n",
       "      <td>0.497565</td>\n",
       "      <td>0.465116</td>\n",
       "      <td>0.379278</td>\n",
       "      <td>0.542045</td>\n",
       "    </tr>\n",
       "  </tbody>\n",
       "</table>\n",
       "</div>"
      ],
      "text/plain": [
       "  model      bacc     kappa  precision    recall        f1       fnr\n",
       "0   lin  0.670455  0.560606   0.671470  0.670455  0.664605  0.329545\n",
       "1    nn  0.181818  0.144487   0.166667  0.181818  0.173913  0.818182\n",
       "2   svm  0.670455  0.560606   0.671667  0.670455  0.665330  0.329545\n",
       "3   xgb  0.457955  0.287977   0.497565  0.465116  0.379278  0.542045"
      ]
     },
     "execution_count": 91,
     "metadata": {},
     "output_type": "execute_result"
    }
   ],
   "source": [
    "one_model_out_rf, one_model_out_fi_rf = leave_model_out(model=RandomForestClassifier(random_state=123))\n",
    "one_model_out_rf"
   ]
  },
  {
   "cell_type": "code",
   "execution_count": 92,
   "metadata": {},
   "outputs": [
    {
     "data": {
      "application/vnd.microsoft.datawrangler.viewer.v0+json": {
       "columns": [
        {
         "name": "index",
         "rawType": "object",
         "type": "string"
        },
        {
         "name": "bacc",
         "rawType": "float64",
         "type": "float"
        },
        {
         "name": "kappa",
         "rawType": "float64",
         "type": "float"
        }
       ],
       "ref": "a1270dab-0223-4f48-a0a2-577dae03e8f1",
       "rows": [
        [
         "mean",
         "0.4951704545454546",
         "0.3884189437675958"
        ],
        [
         "std",
         "0.23167771851177432",
         "0.2072746499922315"
        ]
       ],
       "shape": {
        "columns": 2,
        "rows": 2
       }
      },
      "text/html": [
       "<div>\n",
       "<style scoped>\n",
       "    .dataframe tbody tr th:only-of-type {\n",
       "        vertical-align: middle;\n",
       "    }\n",
       "\n",
       "    .dataframe tbody tr th {\n",
       "        vertical-align: top;\n",
       "    }\n",
       "\n",
       "    .dataframe thead th {\n",
       "        text-align: right;\n",
       "    }\n",
       "</style>\n",
       "<table border=\"1\" class=\"dataframe\">\n",
       "  <thead>\n",
       "    <tr style=\"text-align: right;\">\n",
       "      <th></th>\n",
       "      <th>bacc</th>\n",
       "      <th>kappa</th>\n",
       "    </tr>\n",
       "  </thead>\n",
       "  <tbody>\n",
       "    <tr>\n",
       "      <th>mean</th>\n",
       "      <td>0.495170</td>\n",
       "      <td>0.388419</td>\n",
       "    </tr>\n",
       "    <tr>\n",
       "      <th>std</th>\n",
       "      <td>0.231678</td>\n",
       "      <td>0.207275</td>\n",
       "    </tr>\n",
       "  </tbody>\n",
       "</table>\n",
       "</div>"
      ],
      "text/plain": [
       "          bacc     kappa\n",
       "mean  0.495170  0.388419\n",
       "std   0.231678  0.207275"
      ]
     },
     "execution_count": 92,
     "metadata": {},
     "output_type": "execute_result"
    }
   ],
   "source": [
    "one_model_out_rf[[\"bacc\", \"kappa\"]].agg(['mean', 'std'])"
   ]
  },
  {
   "cell_type": "code",
   "execution_count": 93,
   "metadata": {},
   "outputs": [
    {
     "name": "stdout",
     "output_type": "stream",
     "text": [
      "\\begin{tabular}{lllll}\n",
      "\\toprule\n",
      "bacc & precision & recall & f1 & fnr \\\\\n",
      "\\midrule\n",
      "0.50 (0.23) & 0.50 (0.24) & 0.50 (0.23) & 0.47 (0.24) & 0.50 (0.23) \\\\\n",
      "\\bottomrule\n",
      "\\end{tabular}\n",
      "\n"
     ]
    }
   ],
   "source": [
    "format_mean_std(one_model_out_rf)"
   ]
  },
  {
   "cell_type": "markdown",
   "metadata": {},
   "source": [
    "# 10-fold cross validation"
   ]
  },
  {
   "cell_type": "code",
   "execution_count": 94,
   "metadata": {},
   "outputs": [],
   "source": [
    "def cross_validation(model=xgb.XGBClassifier(random_state=123)):\n",
    "\n",
    "    kappa_list = []\n",
    "    bacc_list = []\n",
    "    precision_list = []\n",
    "    recall_list = []\n",
    "    f1_list = []\n",
    "    fnr_list = []\n",
    "    iter_cv = []\n",
    "    fi_all = pd.DataFrame()\n",
    "\n",
    "    le = LabelEncoder()\n",
    "    x = attrs_agg_correct_cols.drop(columns=[\"dataset\", \"model\", \"attack\"])\n",
    "    y = attrs_agg_correct_cols[\"attack\"]\n",
    "    y_enc = le.fit_transform(y)\n",
    "\n",
    "    skf = StratifiedKFold(n_splits=10)\n",
    "    cv = 0\n",
    "    for train, test in skf.split(x, y_enc):\n",
    "\n",
    "        x_train = x.iloc[train]\n",
    "        y_train = y_enc[train]\n",
    "\n",
    "        x_test = x.iloc[test]\n",
    "        y_test = y_enc[test]\n",
    "\n",
    "        model.fit(x_train, y_train)\n",
    "\n",
    "        fi_dict = {'var': x_train.columns, 'fi': model.feature_importances_}\n",
    "        fi_df = pd.DataFrame(fi_dict)\n",
    "        fi_df[\"fi_rank\"] = fi_df[\"fi\"].rank(ascending=False)\n",
    "        fi_df[\"cv\"] = cv\n",
    "        fi_all = pd.concat([fi_all, fi_df])\n",
    "\n",
    "        preds = model.predict(x_test)\n",
    "        bacc_list.append(balanced_accuracy_score(y_test, preds))\n",
    "        kappa_list.append(cohen_kappa_score(y_test, preds))\n",
    "        precision_list.append(precision_score(y_test, preds, average='weighted'))\n",
    "        recall_list.append(recall_score(y_test, preds, average='weighted'))\n",
    "        f1_list.append(f1_score(y_test, preds, average='weighted'))\n",
    "        fnr_list.append(multiclass_false_negative_rate(y_test, preds))\n",
    "        iter_cv.append(cv)\n",
    "        cv = cv + 1\n",
    "\n",
    "    results_dict = {'cv': iter_cv, 'bacc': bacc_list, 'kappa': kappa_list, 'precision': precision_list,\n",
    "                    'recall': recall_list, 'f1': f1_list, 'fnr': fnr_list}\n",
    "    results_df = pd.DataFrame(results_dict)\n",
    "    return results_df, fi_all"
   ]
  },
  {
   "cell_type": "markdown",
   "metadata": {},
   "source": [
    "## XGBoost"
   ]
  },
  {
   "cell_type": "code",
   "execution_count": 95,
   "metadata": {},
   "outputs": [
    {
     "data": {
      "application/vnd.microsoft.datawrangler.viewer.v0+json": {
       "columns": [
        {
         "name": "index",
         "rawType": "int64",
         "type": "integer"
        },
        {
         "name": "cv",
         "rawType": "int64",
         "type": "integer"
        },
        {
         "name": "bacc",
         "rawType": "float64",
         "type": "float"
        },
        {
         "name": "kappa",
         "rawType": "float64",
         "type": "float"
        },
        {
         "name": "precision",
         "rawType": "float64",
         "type": "float"
        },
        {
         "name": "recall",
         "rawType": "float64",
         "type": "float"
        },
        {
         "name": "f1",
         "rawType": "float64",
         "type": "float"
        },
        {
         "name": "fnr",
         "rawType": "float64",
         "type": "float"
        }
       ],
       "ref": "c672f926-2ea3-4a47-9aee-f10695102122",
       "rows": [
        [
         "0",
         "0",
         "0.7291666666666667",
         "0.6542597187758478",
         "0.6934210526315789",
         "0.7105263157894737",
         "0.6812689618783802",
         "0.2708333333333333"
        ],
        [
         "1",
         "1",
         "0.7132936507936508",
         "0.65625",
         "0.7560672514619884",
         "0.7105263157894737",
         "0.7096934154596692",
         "0.2867063492063492"
        ],
        [
         "2",
         "2",
         "0.4174107142857143",
         "0.2541630148992112",
         "0.35296835296835294",
         "0.3783783783783784",
         "0.3518379341908754",
         "0.5825892857142857"
        ],
        [
         "3",
         "3",
         "0.6875",
         "0.6742957746478873",
         "0.7777777777777778",
         "0.7297297297297297",
         "0.7282723900370959",
         "0.3125"
        ],
        [
         "4",
         "4",
         "0.7529761904761905",
         "0.7741935483870968",
         "0.8346846846846847",
         "0.8108108108108109",
         "0.8120060120060121",
         "0.2470238095238095"
        ],
        [
         "5",
         "5",
         "0.6240079365079365",
         "0.6451612903225806",
         "0.729954954954955",
         "0.7027027027027027",
         "0.6894369541428365",
         "0.37599206349206343"
        ],
        [
         "6",
         "6",
         "0.5426587301587301",
         "0.42036553524804177",
         "0.5712530712530712",
         "0.5135135135135135",
         "0.5107729578317813",
         "0.45734126984126977"
        ],
        [
         "7",
         "7",
         "0.5009920634920635",
         "0.44532627865961205",
         "0.5705276705276705",
         "0.5405405405405406",
         "0.5192347409738713",
         "0.49900793650793646"
        ],
        [
         "8",
         "8",
         "0.7390873015873016",
         "0.7084063047285465",
         "0.7923832923832924",
         "0.7567567567567568",
         "0.7585585585585586",
         "0.2609126984126984"
        ],
        [
         "9",
         "9",
         "0.22619047619047616",
         "0.25088028169014087",
         "0.38907657657657657",
         "0.3783783783783784",
         "0.3499099099099099",
         "0.7738095238095237"
        ]
       ],
       "shape": {
        "columns": 7,
        "rows": 10
       }
      },
      "text/html": [
       "<div>\n",
       "<style scoped>\n",
       "    .dataframe tbody tr th:only-of-type {\n",
       "        vertical-align: middle;\n",
       "    }\n",
       "\n",
       "    .dataframe tbody tr th {\n",
       "        vertical-align: top;\n",
       "    }\n",
       "\n",
       "    .dataframe thead th {\n",
       "        text-align: right;\n",
       "    }\n",
       "</style>\n",
       "<table border=\"1\" class=\"dataframe\">\n",
       "  <thead>\n",
       "    <tr style=\"text-align: right;\">\n",
       "      <th></th>\n",
       "      <th>cv</th>\n",
       "      <th>bacc</th>\n",
       "      <th>kappa</th>\n",
       "      <th>precision</th>\n",
       "      <th>recall</th>\n",
       "      <th>f1</th>\n",
       "      <th>fnr</th>\n",
       "    </tr>\n",
       "  </thead>\n",
       "  <tbody>\n",
       "    <tr>\n",
       "      <th>0</th>\n",
       "      <td>0</td>\n",
       "      <td>0.729167</td>\n",
       "      <td>0.654260</td>\n",
       "      <td>0.693421</td>\n",
       "      <td>0.710526</td>\n",
       "      <td>0.681269</td>\n",
       "      <td>0.270833</td>\n",
       "    </tr>\n",
       "    <tr>\n",
       "      <th>1</th>\n",
       "      <td>1</td>\n",
       "      <td>0.713294</td>\n",
       "      <td>0.656250</td>\n",
       "      <td>0.756067</td>\n",
       "      <td>0.710526</td>\n",
       "      <td>0.709693</td>\n",
       "      <td>0.286706</td>\n",
       "    </tr>\n",
       "    <tr>\n",
       "      <th>2</th>\n",
       "      <td>2</td>\n",
       "      <td>0.417411</td>\n",
       "      <td>0.254163</td>\n",
       "      <td>0.352968</td>\n",
       "      <td>0.378378</td>\n",
       "      <td>0.351838</td>\n",
       "      <td>0.582589</td>\n",
       "    </tr>\n",
       "    <tr>\n",
       "      <th>3</th>\n",
       "      <td>3</td>\n",
       "      <td>0.687500</td>\n",
       "      <td>0.674296</td>\n",
       "      <td>0.777778</td>\n",
       "      <td>0.729730</td>\n",
       "      <td>0.728272</td>\n",
       "      <td>0.312500</td>\n",
       "    </tr>\n",
       "    <tr>\n",
       "      <th>4</th>\n",
       "      <td>4</td>\n",
       "      <td>0.752976</td>\n",
       "      <td>0.774194</td>\n",
       "      <td>0.834685</td>\n",
       "      <td>0.810811</td>\n",
       "      <td>0.812006</td>\n",
       "      <td>0.247024</td>\n",
       "    </tr>\n",
       "    <tr>\n",
       "      <th>5</th>\n",
       "      <td>5</td>\n",
       "      <td>0.624008</td>\n",
       "      <td>0.645161</td>\n",
       "      <td>0.729955</td>\n",
       "      <td>0.702703</td>\n",
       "      <td>0.689437</td>\n",
       "      <td>0.375992</td>\n",
       "    </tr>\n",
       "    <tr>\n",
       "      <th>6</th>\n",
       "      <td>6</td>\n",
       "      <td>0.542659</td>\n",
       "      <td>0.420366</td>\n",
       "      <td>0.571253</td>\n",
       "      <td>0.513514</td>\n",
       "      <td>0.510773</td>\n",
       "      <td>0.457341</td>\n",
       "    </tr>\n",
       "    <tr>\n",
       "      <th>7</th>\n",
       "      <td>7</td>\n",
       "      <td>0.500992</td>\n",
       "      <td>0.445326</td>\n",
       "      <td>0.570528</td>\n",
       "      <td>0.540541</td>\n",
       "      <td>0.519235</td>\n",
       "      <td>0.499008</td>\n",
       "    </tr>\n",
       "    <tr>\n",
       "      <th>8</th>\n",
       "      <td>8</td>\n",
       "      <td>0.739087</td>\n",
       "      <td>0.708406</td>\n",
       "      <td>0.792383</td>\n",
       "      <td>0.756757</td>\n",
       "      <td>0.758559</td>\n",
       "      <td>0.260913</td>\n",
       "    </tr>\n",
       "    <tr>\n",
       "      <th>9</th>\n",
       "      <td>9</td>\n",
       "      <td>0.226190</td>\n",
       "      <td>0.250880</td>\n",
       "      <td>0.389077</td>\n",
       "      <td>0.378378</td>\n",
       "      <td>0.349910</td>\n",
       "      <td>0.773810</td>\n",
       "    </tr>\n",
       "  </tbody>\n",
       "</table>\n",
       "</div>"
      ],
      "text/plain": [
       "   cv      bacc     kappa  precision    recall        f1       fnr\n",
       "0   0  0.729167  0.654260   0.693421  0.710526  0.681269  0.270833\n",
       "1   1  0.713294  0.656250   0.756067  0.710526  0.709693  0.286706\n",
       "2   2  0.417411  0.254163   0.352968  0.378378  0.351838  0.582589\n",
       "3   3  0.687500  0.674296   0.777778  0.729730  0.728272  0.312500\n",
       "4   4  0.752976  0.774194   0.834685  0.810811  0.812006  0.247024\n",
       "5   5  0.624008  0.645161   0.729955  0.702703  0.689437  0.375992\n",
       "6   6  0.542659  0.420366   0.571253  0.513514  0.510773  0.457341\n",
       "7   7  0.500992  0.445326   0.570528  0.540541  0.519235  0.499008\n",
       "8   8  0.739087  0.708406   0.792383  0.756757  0.758559  0.260913\n",
       "9   9  0.226190  0.250880   0.389077  0.378378  0.349910  0.773810"
      ]
     },
     "execution_count": 95,
     "metadata": {},
     "output_type": "execute_result"
    }
   ],
   "source": [
    "cv_xgb, cv_fi_xgb = cross_validation()\n",
    "cv_xgb"
   ]
  },
  {
   "cell_type": "code",
   "execution_count": 96,
   "metadata": {},
   "outputs": [
    {
     "data": {
      "application/vnd.microsoft.datawrangler.viewer.v0+json": {
       "columns": [
        {
         "name": "index",
         "rawType": "object",
         "type": "string"
        },
        {
         "name": "bacc",
         "rawType": "float64",
         "type": "float"
        },
        {
         "name": "kappa",
         "rawType": "float64",
         "type": "float"
        }
       ],
       "ref": "de514dd9-d755-4954-b361-1f8a4fceab8d",
       "rows": [
        [
         "mean",
         "0.593328373015873",
         "0.5483301747358965"
        ],
        [
         "std",
         "0.1719874014828854",
         "0.1905388538996372"
        ]
       ],
       "shape": {
        "columns": 2,
        "rows": 2
       }
      },
      "text/html": [
       "<div>\n",
       "<style scoped>\n",
       "    .dataframe tbody tr th:only-of-type {\n",
       "        vertical-align: middle;\n",
       "    }\n",
       "\n",
       "    .dataframe tbody tr th {\n",
       "        vertical-align: top;\n",
       "    }\n",
       "\n",
       "    .dataframe thead th {\n",
       "        text-align: right;\n",
       "    }\n",
       "</style>\n",
       "<table border=\"1\" class=\"dataframe\">\n",
       "  <thead>\n",
       "    <tr style=\"text-align: right;\">\n",
       "      <th></th>\n",
       "      <th>bacc</th>\n",
       "      <th>kappa</th>\n",
       "    </tr>\n",
       "  </thead>\n",
       "  <tbody>\n",
       "    <tr>\n",
       "      <th>mean</th>\n",
       "      <td>0.593328</td>\n",
       "      <td>0.548330</td>\n",
       "    </tr>\n",
       "    <tr>\n",
       "      <th>std</th>\n",
       "      <td>0.171987</td>\n",
       "      <td>0.190539</td>\n",
       "    </tr>\n",
       "  </tbody>\n",
       "</table>\n",
       "</div>"
      ],
      "text/plain": [
       "          bacc     kappa\n",
       "mean  0.593328  0.548330\n",
       "std   0.171987  0.190539"
      ]
     },
     "execution_count": 96,
     "metadata": {},
     "output_type": "execute_result"
    }
   ],
   "source": [
    "cv_xgb[[\"bacc\", \"kappa\"]].agg(['mean', 'std'])"
   ]
  },
  {
   "cell_type": "code",
   "execution_count": 97,
   "metadata": {},
   "outputs": [
    {
     "name": "stdout",
     "output_type": "stream",
     "text": [
      "\\begin{tabular}{lllll}\n",
      "\\toprule\n",
      "bacc & precision & recall & f1 & fnr \\\\\n",
      "\\midrule\n",
      "0.59 (0.17) & 0.65 (0.17) & 0.62 (0.16) & 0.61 (0.17) & 0.41 (0.17) \\\\\n",
      "\\bottomrule\n",
      "\\end{tabular}\n",
      "\n"
     ]
    }
   ],
   "source": [
    "format_mean_std(cv_xgb)"
   ]
  },
  {
   "cell_type": "markdown",
   "metadata": {},
   "source": [
    "## Random forest"
   ]
  },
  {
   "cell_type": "code",
   "execution_count": 98,
   "metadata": {},
   "outputs": [
    {
     "data": {
      "application/vnd.microsoft.datawrangler.viewer.v0+json": {
       "columns": [
        {
         "name": "index",
         "rawType": "int64",
         "type": "integer"
        },
        {
         "name": "cv",
         "rawType": "int64",
         "type": "integer"
        },
        {
         "name": "bacc",
         "rawType": "float64",
         "type": "float"
        },
        {
         "name": "kappa",
         "rawType": "float64",
         "type": "float"
        },
        {
         "name": "precision",
         "rawType": "float64",
         "type": "float"
        },
        {
         "name": "recall",
         "rawType": "float64",
         "type": "float"
        },
        {
         "name": "f1",
         "rawType": "float64",
         "type": "float"
        },
        {
         "name": "fnr",
         "rawType": "float64",
         "type": "float"
        }
       ],
       "ref": "67bce30e-c397-402d-9fbc-a2e13ec90ad1",
       "rows": [
        [
         "0",
         "0",
         "0.5863095238095237",
         "0.5257903494176372",
         "0.6368421052631579",
         "0.6052631578947368",
         "0.5973432384789725",
         "0.41369047619047616"
        ],
        [
         "1",
         "1",
         "0.628968253968254",
         "0.5621399176954732",
         "0.5914473684210527",
         "0.631578947368421",
         "0.6027235921972763",
         "0.37103174603174605"
        ],
        [
         "2",
         "2",
         "0.38169642857142855",
         "0.1864555848724715",
         "0.3858627858627859",
         "0.32432432432432434",
         "0.30840083781260247",
         "0.6183035714285714"
        ],
        [
         "3",
         "3",
         "0.7232142857142858",
         "0.7392070484581498",
         "0.8272522522522523",
         "0.7837837837837838",
         "0.7826287826287825",
         "0.2767857142857143"
        ],
        [
         "4",
         "4",
         "0.8571428571428572",
         "0.8385689354275742",
         "0.8864864864864864",
         "0.8648648648648649",
         "0.8652878652878653",
         "0.14285714285714285"
        ],
        [
         "5",
         "5",
         "0.6617063492063492",
         "0.6470078057241978",
         "0.7845208845208845",
         "0.7027027027027027",
         "0.7113841113841115",
         "0.33829365079365076"
        ],
        [
         "6",
         "6",
         "0.5009920634920635",
         "0.4183406113537118",
         "0.5243243243243243",
         "0.5135135135135135",
         "0.4906267511530669",
         "0.4990079365079365"
        ],
        [
         "7",
         "7",
         "0.5873015873015872",
         "0.4756421612046059",
         "0.6085585585585586",
         "0.5675675675675675",
         "0.5542014742014743",
         "0.4126984126984127"
        ],
        [
         "8",
         "8",
         "0.7529761904761905",
         "0.73943661971831",
         "0.8418099918099917",
         "0.7837837837837838",
         "0.7751154515860398",
         "0.2470238095238095"
        ],
        [
         "9",
         "9",
         "0.2470238095238095",
         "0.245567375886525",
         "0.3472972972972973",
         "0.3783783783783784",
         "0.324938574938575",
         "0.7529761904761905"
        ]
       ],
       "shape": {
        "columns": 7,
        "rows": 10
       }
      },
      "text/html": [
       "<div>\n",
       "<style scoped>\n",
       "    .dataframe tbody tr th:only-of-type {\n",
       "        vertical-align: middle;\n",
       "    }\n",
       "\n",
       "    .dataframe tbody tr th {\n",
       "        vertical-align: top;\n",
       "    }\n",
       "\n",
       "    .dataframe thead th {\n",
       "        text-align: right;\n",
       "    }\n",
       "</style>\n",
       "<table border=\"1\" class=\"dataframe\">\n",
       "  <thead>\n",
       "    <tr style=\"text-align: right;\">\n",
       "      <th></th>\n",
       "      <th>cv</th>\n",
       "      <th>bacc</th>\n",
       "      <th>kappa</th>\n",
       "      <th>precision</th>\n",
       "      <th>recall</th>\n",
       "      <th>f1</th>\n",
       "      <th>fnr</th>\n",
       "    </tr>\n",
       "  </thead>\n",
       "  <tbody>\n",
       "    <tr>\n",
       "      <th>0</th>\n",
       "      <td>0</td>\n",
       "      <td>0.586310</td>\n",
       "      <td>0.525790</td>\n",
       "      <td>0.636842</td>\n",
       "      <td>0.605263</td>\n",
       "      <td>0.597343</td>\n",
       "      <td>0.413690</td>\n",
       "    </tr>\n",
       "    <tr>\n",
       "      <th>1</th>\n",
       "      <td>1</td>\n",
       "      <td>0.628968</td>\n",
       "      <td>0.562140</td>\n",
       "      <td>0.591447</td>\n",
       "      <td>0.631579</td>\n",
       "      <td>0.602724</td>\n",
       "      <td>0.371032</td>\n",
       "    </tr>\n",
       "    <tr>\n",
       "      <th>2</th>\n",
       "      <td>2</td>\n",
       "      <td>0.381696</td>\n",
       "      <td>0.186456</td>\n",
       "      <td>0.385863</td>\n",
       "      <td>0.324324</td>\n",
       "      <td>0.308401</td>\n",
       "      <td>0.618304</td>\n",
       "    </tr>\n",
       "    <tr>\n",
       "      <th>3</th>\n",
       "      <td>3</td>\n",
       "      <td>0.723214</td>\n",
       "      <td>0.739207</td>\n",
       "      <td>0.827252</td>\n",
       "      <td>0.783784</td>\n",
       "      <td>0.782629</td>\n",
       "      <td>0.276786</td>\n",
       "    </tr>\n",
       "    <tr>\n",
       "      <th>4</th>\n",
       "      <td>4</td>\n",
       "      <td>0.857143</td>\n",
       "      <td>0.838569</td>\n",
       "      <td>0.886486</td>\n",
       "      <td>0.864865</td>\n",
       "      <td>0.865288</td>\n",
       "      <td>0.142857</td>\n",
       "    </tr>\n",
       "    <tr>\n",
       "      <th>5</th>\n",
       "      <td>5</td>\n",
       "      <td>0.661706</td>\n",
       "      <td>0.647008</td>\n",
       "      <td>0.784521</td>\n",
       "      <td>0.702703</td>\n",
       "      <td>0.711384</td>\n",
       "      <td>0.338294</td>\n",
       "    </tr>\n",
       "    <tr>\n",
       "      <th>6</th>\n",
       "      <td>6</td>\n",
       "      <td>0.500992</td>\n",
       "      <td>0.418341</td>\n",
       "      <td>0.524324</td>\n",
       "      <td>0.513514</td>\n",
       "      <td>0.490627</td>\n",
       "      <td>0.499008</td>\n",
       "    </tr>\n",
       "    <tr>\n",
       "      <th>7</th>\n",
       "      <td>7</td>\n",
       "      <td>0.587302</td>\n",
       "      <td>0.475642</td>\n",
       "      <td>0.608559</td>\n",
       "      <td>0.567568</td>\n",
       "      <td>0.554201</td>\n",
       "      <td>0.412698</td>\n",
       "    </tr>\n",
       "    <tr>\n",
       "      <th>8</th>\n",
       "      <td>8</td>\n",
       "      <td>0.752976</td>\n",
       "      <td>0.739437</td>\n",
       "      <td>0.841810</td>\n",
       "      <td>0.783784</td>\n",
       "      <td>0.775115</td>\n",
       "      <td>0.247024</td>\n",
       "    </tr>\n",
       "    <tr>\n",
       "      <th>9</th>\n",
       "      <td>9</td>\n",
       "      <td>0.247024</td>\n",
       "      <td>0.245567</td>\n",
       "      <td>0.347297</td>\n",
       "      <td>0.378378</td>\n",
       "      <td>0.324939</td>\n",
       "      <td>0.752976</td>\n",
       "    </tr>\n",
       "  </tbody>\n",
       "</table>\n",
       "</div>"
      ],
      "text/plain": [
       "   cv      bacc     kappa  precision    recall        f1       fnr\n",
       "0   0  0.586310  0.525790   0.636842  0.605263  0.597343  0.413690\n",
       "1   1  0.628968  0.562140   0.591447  0.631579  0.602724  0.371032\n",
       "2   2  0.381696  0.186456   0.385863  0.324324  0.308401  0.618304\n",
       "3   3  0.723214  0.739207   0.827252  0.783784  0.782629  0.276786\n",
       "4   4  0.857143  0.838569   0.886486  0.864865  0.865288  0.142857\n",
       "5   5  0.661706  0.647008   0.784521  0.702703  0.711384  0.338294\n",
       "6   6  0.500992  0.418341   0.524324  0.513514  0.490627  0.499008\n",
       "7   7  0.587302  0.475642   0.608559  0.567568  0.554201  0.412698\n",
       "8   8  0.752976  0.739437   0.841810  0.783784  0.775115  0.247024\n",
       "9   9  0.247024  0.245567   0.347297  0.378378  0.324939  0.752976"
      ]
     },
     "execution_count": 98,
     "metadata": {},
     "output_type": "execute_result"
    }
   ],
   "source": [
    "cv_rf, cv_fi_rf = cross_validation(model=RandomForestClassifier(random_state=123))\n",
    "cv_rf"
   ]
  },
  {
   "cell_type": "code",
   "execution_count": 99,
   "metadata": {},
   "outputs": [
    {
     "data": {
      "application/vnd.microsoft.datawrangler.viewer.v0+json": {
       "columns": [
        {
         "name": "index",
         "rawType": "object",
         "type": "string"
        },
        {
         "name": "bacc",
         "rawType": "float64",
         "type": "float"
        },
        {
         "name": "kappa",
         "rawType": "float64",
         "type": "float"
        }
       ],
       "ref": "694617fe-7045-45ab-bc28-5aae4a72bae0",
       "rows": [
        [
         "mean",
         "0.592733134920635",
         "0.5378156409758656"
        ],
        [
         "std",
         "0.17988409066899583",
         "0.21378182826853165"
        ]
       ],
       "shape": {
        "columns": 2,
        "rows": 2
       }
      },
      "text/html": [
       "<div>\n",
       "<style scoped>\n",
       "    .dataframe tbody tr th:only-of-type {\n",
       "        vertical-align: middle;\n",
       "    }\n",
       "\n",
       "    .dataframe tbody tr th {\n",
       "        vertical-align: top;\n",
       "    }\n",
       "\n",
       "    .dataframe thead th {\n",
       "        text-align: right;\n",
       "    }\n",
       "</style>\n",
       "<table border=\"1\" class=\"dataframe\">\n",
       "  <thead>\n",
       "    <tr style=\"text-align: right;\">\n",
       "      <th></th>\n",
       "      <th>bacc</th>\n",
       "      <th>kappa</th>\n",
       "    </tr>\n",
       "  </thead>\n",
       "  <tbody>\n",
       "    <tr>\n",
       "      <th>mean</th>\n",
       "      <td>0.592733</td>\n",
       "      <td>0.537816</td>\n",
       "    </tr>\n",
       "    <tr>\n",
       "      <th>std</th>\n",
       "      <td>0.179884</td>\n",
       "      <td>0.213782</td>\n",
       "    </tr>\n",
       "  </tbody>\n",
       "</table>\n",
       "</div>"
      ],
      "text/plain": [
       "          bacc     kappa\n",
       "mean  0.592733  0.537816\n",
       "std   0.179884  0.213782"
      ]
     },
     "execution_count": 99,
     "metadata": {},
     "output_type": "execute_result"
    }
   ],
   "source": [
    "cv_rf[[\"bacc\", \"kappa\"]].agg(['mean', 'std'])"
   ]
  },
  {
   "cell_type": "code",
   "execution_count": 100,
   "metadata": {},
   "outputs": [
    {
     "name": "stdout",
     "output_type": "stream",
     "text": [
      "\\begin{tabular}{lllll}\n",
      "\\toprule\n",
      "bacc & precision & recall & f1 & fnr \\\\\n",
      "\\midrule\n",
      "0.59 (0.18) & 0.64 (0.19) & 0.62 (0.18) & 0.60 (0.19) & 0.41 (0.18) \\\\\n",
      "\\bottomrule\n",
      "\\end{tabular}\n",
      "\n"
     ]
    }
   ],
   "source": [
    "format_mean_std(cv_rf)"
   ]
  },
  {
   "cell_type": "markdown",
   "metadata": {
    "collapsed": false
   },
   "source": [
    "## Save data"
   ]
  },
  {
   "cell_type": "code",
   "execution_count": 101,
   "metadata": {
    "collapsed": false
   },
   "outputs": [],
   "source": [
    "def preprocess_output(df, scenario, mod):\n",
    "    df[\"scenario\"] = scenario\n",
    "    df[\"model_class\"] = mod\n",
    "\n",
    "    return df\n",
    "\n",
    "one_dataset_out_rf = preprocess_output(one_dataset_out_rf, \"one-data-set-out\", \"RF\")\n",
    "one_dataset_out_xgb = preprocess_output(one_dataset_out_xgb, \"one-data-set-out\", \"XGB\")\n",
    "one_model_out_rf = preprocess_output(one_model_out_rf, \"one-model-out\", \"RF\")\n",
    "one_model_out_xgb = preprocess_output(one_model_out_xgb, \"one-model-out\", \"XGB\")\n",
    "cv_rf = preprocess_output(cv_rf, \"10-fold cross-validation\", \"RF\")\n",
    "cv_xgb = preprocess_output(cv_xgb, \"10-fold cross-validation\", \"XGB\")\n",
    "\n",
    "all_bacc = pd.concat([one_dataset_out_rf, one_dataset_out_xgb,\n",
    "                      one_model_out_rf, one_model_out_xgb,\n",
    "                      cv_rf, cv_xgb])"
   ]
  },
  {
   "cell_type": "code",
   "execution_count": 102,
   "metadata": {
    "collapsed": false
   },
   "outputs": [],
   "source": [
    "all_bacc.to_csv(\"results/isolation_bacc_without_bacc.csv\", index=False)"
   ]
  },
  {
   "cell_type": "code",
   "execution_count": 103,
   "metadata": {
    "collapsed": false
   },
   "outputs": [],
   "source": [
    "one_dataset_out_fi_rf = preprocess_output(one_dataset_out_fi_rf, \"one-data-set-out\", \"RF\")\n",
    "one_dataset_out_fi_xgb = preprocess_output(one_dataset_out_fi_xgb, \"one-data-set-out\", \"XGB\")\n",
    "one_model_out_fi_rf = preprocess_output(one_model_out_fi_rf, \"one-model-out\", \"RF\")\n",
    "one_model_out_fi_xgb = preprocess_output(one_model_out_fi_xgb, \"one-model-out\", \"XGB\")\n",
    "cv_fi_rf = preprocess_output(cv_fi_rf, \"10-fold cross-validation\", \"RF\")\n",
    "cv_fi_xgb = preprocess_output(cv_fi_xgb, \"10-fold cross-validation\", \"XGB\")\n",
    "\n",
    "all_fi = pd.concat([one_dataset_out_fi_rf, one_dataset_out_fi_xgb,\n",
    "                      one_model_out_fi_rf, one_model_out_fi_xgb,\n",
    "                      cv_fi_rf, cv_fi_xgb])\n",
    "\n",
    "all_fi.to_csv(\"results/isolation_fi_without_bacc.csv\", index=False)"
   ]
  }
 ],
 "metadata": {
  "kernelspec": {
   "display_name": "venv",
   "language": "python",
   "name": "python3"
  },
  "language_info": {
   "codemirror_mode": {
    "name": "ipython",
    "version": 3
   },
   "file_extension": ".py",
   "mimetype": "text/x-python",
   "name": "python",
   "nbconvert_exporter": "python",
   "pygments_lexer": "ipython3",
   "version": "3.13.3"
  }
 },
 "nbformat": 4,
 "nbformat_minor": 1
}
