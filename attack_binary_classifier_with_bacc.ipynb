{
 "cells": [
  {
   "cell_type": "code",
   "execution_count": 51,
   "metadata": {
    "collapsed": true
   },
   "outputs": [],
   "source": [
    "import pandas as pd\n",
    "import numpy as np\n",
    "import copy\n",
    "\n",
    "import xgboost as xgb\n",
    "from tqdm import tqdm\n",
    "from sklearn.pipeline import Pipeline\n",
    "from sklearn.preprocessing import LabelEncoder\n",
    "from sklearn.ensemble import RandomForestClassifier\n",
    "from sklearn.metrics import balanced_accuracy_score, cohen_kappa_score, precision_score, recall_score, f1_score, confusion_matrix\n",
    "from sklearn.model_selection import StratifiedKFold\n",
    "\n",
    "import warnings\n",
    "warnings.filterwarnings(\"ignore\")"
   ]
  },
  {
   "cell_type": "markdown",
   "metadata": {},
   "source": []
  },
  {
   "cell_type": "code",
   "execution_count": 52,
   "metadata": {},
   "outputs": [],
   "source": [
    "d = pd.read_csv(\"results/attacks_diagnoses.csv\")\n",
    "d = d[(d[\"dataset\"] != \"mfeat-morphological\") & (d[\"attack\"] != \"lpf\")]\n",
    "d[\"attack_binary\"] = np.where(d[\"attack\"]==\"org\", 0, 1)"
   ]
  },
  {
   "cell_type": "code",
   "execution_count": 53,
   "metadata": {},
   "outputs": [],
   "source": [
    "def q0(x: float) -> float:\n",
    "    return x.quantile(0)\n",
    "\n",
    "\n",
    "def q25(x: float) -> float:\n",
    "    return x.quantile(0.25)\n",
    "\n",
    "\n",
    "def q50(x: float) -> float:\n",
    "    return x.quantile(0.5)\n",
    "\n",
    "\n",
    "def q75(x: float) -> float:\n",
    "    return x.quantile(0.75)\n",
    "\n",
    "\n",
    "def q1(x: float) -> float:\n",
    "    return x.quantile(1)\n",
    "\n",
    "\n",
    "def minmax(x: float) -> float:\n",
    "    return x.max() - x.min()\n",
    "\n",
    "def false_negative_rate(y_true, y_pred):\n",
    "    if confusion_matrix(y_true, y_pred).shape == (2, 2):\n",
    "        tn, fp, fn, tp = confusion_matrix(y_true, y_pred).ravel()\n",
    "        return fn / (fn + tp)\n",
    "    else:\n",
    "        return np.nan\n",
    "\n",
    "attrs_con = d\n",
    "cols_to_drop = [\"approx\", \"target\", \"pred\", \"error\", \"name\",\n",
    "                    \"overall_mean_target\", \"scores\",\n",
    "                    \"mean_target_in_neighborhood\",\n",
    "                    \"mean_approx_in_neighborhood\",\n",
    "                    \"neighborhood_size_div_model_avg\",\n",
    "                    \"neighborhood_size_pct\",\n",
    "                    \"r_centered_entropy\",\n",
    "                \"entropy\",\n",
    "                    \"logk_r_centered_entropy\"]\n",
    "\n",
    "attrs_cols = attrs_con.drop(columns=cols_to_drop)\n",
    "attrs_agg = attrs_cols \\\n",
    "    .groupby([\"dataset\", \"model\", \"attack\",\n",
    "              \"n_test\", \"n_classes\", \"attack_binary\"]) \\\n",
    "    .agg(['mean', q0, q25, q50, q75, q1, minmax])\n",
    "attrs_agg_correct_cols = copy.deepcopy(attrs_agg)\n",
    "attrs_agg_correct_cols.columns = list(attrs_agg_correct_cols.columns.map('_'.join))\n",
    "attrs_agg_correct_cols = attrs_agg_correct_cols.reset_index()"
   ]
  },
  {
   "cell_type": "code",
   "execution_count": 54,
   "metadata": {},
   "outputs": [],
   "source": [
    "d_nn = pd.read_csv(\"results/attacks_diagnoses_nn.csv\")\n",
    "d_nn[\"attack_binary\"] = np.where(d_nn[\"attack\"]==\"org\", 0, 1)\n",
    "\n",
    "attrs_cols = d_nn.drop(columns=cols_to_drop)\n",
    "attrs_agg = attrs_cols \\\n",
    "    .groupby([\"dataset\", \"model\", \"attack\",\n",
    "              \"n_test\", \"n_classes\", \"attack_binary\"]) \\\n",
    "    .agg(['mean', q0, q25, q50, q75, q1, minmax])\n",
    "attrs_agg_correct_cols_nn = copy.deepcopy(attrs_agg)\n",
    "attrs_agg_correct_cols_nn.columns = list(attrs_agg_correct_cols_nn.columns.map('_'.join))\n",
    "attrs_agg_correct_cols_nn = attrs_agg_correct_cols_nn.reset_index()"
   ]
  },
  {
   "cell_type": "code",
   "execution_count": 55,
   "metadata": {},
   "outputs": [],
   "source": [
    "attrs_agg_correct_cols = pd.concat([attrs_agg_correct_cols, attrs_agg_correct_cols_nn])"
   ]
  },
  {
   "cell_type": "code",
   "execution_count": 56,
   "metadata": {},
   "outputs": [
    {
     "data": {
      "text/plain": [
       "(array([0, 1]), array([ 88, 284]))"
      ]
     },
     "execution_count": 56,
     "metadata": {},
     "output_type": "execute_result"
    }
   ],
   "source": [
    "np.unique(attrs_agg_correct_cols[\"attack_binary\"], return_counts=True)"
   ]
  },
  {
   "cell_type": "code",
   "execution_count": 57,
   "metadata": {},
   "outputs": [
    {
     "data": {
      "application/vnd.microsoft.datawrangler.viewer.v0+json": {
       "columns": [
        {
         "name": "index",
         "rawType": "int64",
         "type": "integer"
        },
        {
         "name": "dataset",
         "rawType": "object",
         "type": "string"
        },
        {
         "name": "model",
         "rawType": "object",
         "type": "string"
        },
        {
         "name": "counts",
         "rawType": "int64",
         "type": "integer"
        }
       ],
       "ref": "074f17e2-d91c-4f47-84e0-890c338649fe",
       "rows": [
        [
         "0",
         "Bioresponse",
         "lin",
         "4"
        ],
        [
         "1",
         "Bioresponse",
         "nn",
         "5"
        ],
        [
         "2",
         "Bioresponse",
         "svm",
         "4"
        ],
        [
         "3",
         "Bioresponse",
         "xgb",
         "4"
        ],
        [
         "4",
         "churn",
         "lin",
         "4"
        ],
        [
         "5",
         "churn",
         "nn",
         "5"
        ],
        [
         "6",
         "churn",
         "svm",
         "4"
        ],
        [
         "7",
         "churn",
         "xgb",
         "4"
        ],
        [
         "8",
         "cmc",
         "lin",
         "4"
        ],
        [
         "9",
         "cmc",
         "nn",
         "5"
        ],
        [
         "10",
         "cmc",
         "svm",
         "4"
        ],
        [
         "11",
         "cmc",
         "xgb",
         "4"
        ],
        [
         "12",
         "cnae-9",
         "lin",
         "4"
        ],
        [
         "13",
         "cnae-9",
         "nn",
         "5"
        ],
        [
         "14",
         "cnae-9",
         "svm",
         "4"
        ],
        [
         "15",
         "cnae-9",
         "xgb",
         "4"
        ],
        [
         "16",
         "dna",
         "lin",
         "4"
        ],
        [
         "17",
         "dna",
         "nn",
         "5"
        ],
        [
         "18",
         "dna",
         "svm",
         "4"
        ],
        [
         "19",
         "dna",
         "xgb",
         "4"
        ],
        [
         "20",
         "har",
         "lin",
         "4"
        ],
        [
         "21",
         "har",
         "nn",
         "5"
        ],
        [
         "22",
         "har",
         "svm",
         "4"
        ],
        [
         "23",
         "har",
         "xgb",
         "4"
        ],
        [
         "24",
         "madelon",
         "lin",
         "4"
        ],
        [
         "25",
         "madelon",
         "nn",
         "5"
        ],
        [
         "26",
         "madelon",
         "svm",
         "4"
        ],
        [
         "27",
         "madelon",
         "xgb",
         "3"
        ],
        [
         "28",
         "mfeat-factors",
         "lin",
         "4"
        ],
        [
         "29",
         "mfeat-factors",
         "nn",
         "5"
        ],
        [
         "30",
         "mfeat-factors",
         "svm",
         "4"
        ],
        [
         "31",
         "mfeat-factors",
         "xgb",
         "4"
        ],
        [
         "32",
         "mfeat-fourier",
         "lin",
         "4"
        ],
        [
         "33",
         "mfeat-fourier",
         "nn",
         "5"
        ],
        [
         "34",
         "mfeat-fourier",
         "svm",
         "4"
        ],
        [
         "35",
         "mfeat-fourier",
         "xgb",
         "4"
        ],
        [
         "36",
         "mfeat-karhunen",
         "lin",
         "4"
        ],
        [
         "37",
         "mfeat-karhunen",
         "nn",
         "5"
        ],
        [
         "38",
         "mfeat-karhunen",
         "svm",
         "4"
        ],
        [
         "39",
         "mfeat-karhunen",
         "xgb",
         "4"
        ],
        [
         "40",
         "mfeat-zernike",
         "lin",
         "4"
        ],
        [
         "41",
         "mfeat-zernike",
         "nn",
         "5"
        ],
        [
         "42",
         "mfeat-zernike",
         "svm",
         "4"
        ],
        [
         "43",
         "mfeat-zernike",
         "xgb",
         "4"
        ],
        [
         "44",
         "nomao",
         "lin",
         "4"
        ],
        [
         "45",
         "nomao",
         "nn",
         "5"
        ],
        [
         "46",
         "nomao",
         "svm",
         "4"
        ],
        [
         "47",
         "nomao",
         "xgb",
         "4"
        ],
        [
         "48",
         "optdigits",
         "lin",
         "4"
        ],
        [
         "49",
         "optdigits",
         "nn",
         "5"
        ]
       ],
       "shape": {
        "columns": 3,
        "rows": 88
       }
      },
      "text/html": [
       "<div>\n",
       "<style scoped>\n",
       "    .dataframe tbody tr th:only-of-type {\n",
       "        vertical-align: middle;\n",
       "    }\n",
       "\n",
       "    .dataframe tbody tr th {\n",
       "        vertical-align: top;\n",
       "    }\n",
       "\n",
       "    .dataframe thead th {\n",
       "        text-align: right;\n",
       "    }\n",
       "</style>\n",
       "<table border=\"1\" class=\"dataframe\">\n",
       "  <thead>\n",
       "    <tr style=\"text-align: right;\">\n",
       "      <th></th>\n",
       "      <th>dataset</th>\n",
       "      <th>model</th>\n",
       "      <th>counts</th>\n",
       "    </tr>\n",
       "  </thead>\n",
       "  <tbody>\n",
       "    <tr>\n",
       "      <th>0</th>\n",
       "      <td>Bioresponse</td>\n",
       "      <td>lin</td>\n",
       "      <td>4</td>\n",
       "    </tr>\n",
       "    <tr>\n",
       "      <th>1</th>\n",
       "      <td>Bioresponse</td>\n",
       "      <td>nn</td>\n",
       "      <td>5</td>\n",
       "    </tr>\n",
       "    <tr>\n",
       "      <th>2</th>\n",
       "      <td>Bioresponse</td>\n",
       "      <td>svm</td>\n",
       "      <td>4</td>\n",
       "    </tr>\n",
       "    <tr>\n",
       "      <th>3</th>\n",
       "      <td>Bioresponse</td>\n",
       "      <td>xgb</td>\n",
       "      <td>4</td>\n",
       "    </tr>\n",
       "    <tr>\n",
       "      <th>4</th>\n",
       "      <td>churn</td>\n",
       "      <td>lin</td>\n",
       "      <td>4</td>\n",
       "    </tr>\n",
       "    <tr>\n",
       "      <th>...</th>\n",
       "      <td>...</td>\n",
       "      <td>...</td>\n",
       "      <td>...</td>\n",
       "    </tr>\n",
       "    <tr>\n",
       "      <th>83</th>\n",
       "      <td>wdbc</td>\n",
       "      <td>xgb</td>\n",
       "      <td>4</td>\n",
       "    </tr>\n",
       "    <tr>\n",
       "      <th>84</th>\n",
       "      <td>wilt</td>\n",
       "      <td>lin</td>\n",
       "      <td>4</td>\n",
       "    </tr>\n",
       "    <tr>\n",
       "      <th>85</th>\n",
       "      <td>wilt</td>\n",
       "      <td>nn</td>\n",
       "      <td>5</td>\n",
       "    </tr>\n",
       "    <tr>\n",
       "      <th>86</th>\n",
       "      <td>wilt</td>\n",
       "      <td>svm</td>\n",
       "      <td>4</td>\n",
       "    </tr>\n",
       "    <tr>\n",
       "      <th>87</th>\n",
       "      <td>wilt</td>\n",
       "      <td>xgb</td>\n",
       "      <td>4</td>\n",
       "    </tr>\n",
       "  </tbody>\n",
       "</table>\n",
       "<p>88 rows × 3 columns</p>\n",
       "</div>"
      ],
      "text/plain": [
       "        dataset model  counts\n",
       "0   Bioresponse   lin       4\n",
       "1   Bioresponse    nn       5\n",
       "2   Bioresponse   svm       4\n",
       "3   Bioresponse   xgb       4\n",
       "4         churn   lin       4\n",
       "..          ...   ...     ...\n",
       "83         wdbc   xgb       4\n",
       "84         wilt   lin       4\n",
       "85         wilt    nn       5\n",
       "86         wilt   svm       4\n",
       "87         wilt   xgb       4\n",
       "\n",
       "[88 rows x 3 columns]"
      ]
     },
     "execution_count": 57,
     "metadata": {},
     "output_type": "execute_result"
    }
   ],
   "source": [
    "data_counts = attrs_agg_correct_cols[[\"dataset\", \"model\", \"attack\"]].groupby([\"dataset\", \"model\"]).size().reset_index(name='counts')\n",
    "data_counts"
   ]
  },
  {
   "cell_type": "code",
   "execution_count": 58,
   "metadata": {},
   "outputs": [
    {
     "data": {
      "application/vnd.microsoft.datawrangler.viewer.v0+json": {
       "columns": [
        {
         "name": "index",
         "rawType": "int64",
         "type": "integer"
        },
        {
         "name": "dataset",
         "rawType": "object",
         "type": "string"
        },
        {
         "name": "attack",
         "rawType": "object",
         "type": "string"
        },
        {
         "name": "counts",
         "rawType": "int64",
         "type": "integer"
        }
       ],
       "ref": "51682599-dadd-46d6-9da9-5fe59af3c769",
       "rows": [
        [
         "0",
         "Bioresponse",
         "bim",
         "1"
        ],
        [
         "1",
         "Bioresponse",
         "fgm",
         "1"
        ],
        [
         "2",
         "Bioresponse",
         "hsj",
         "3"
        ],
        [
         "3",
         "Bioresponse",
         "noise",
         "1"
        ],
        [
         "4",
         "Bioresponse",
         "org",
         "4"
        ],
        [
         "5",
         "Bioresponse",
         "per",
         "3"
        ],
        [
         "6",
         "Bioresponse",
         "pgd",
         "1"
        ],
        [
         "7",
         "Bioresponse",
         "zoo",
         "3"
        ],
        [
         "8",
         "churn",
         "bim",
         "1"
        ],
        [
         "9",
         "churn",
         "fgm",
         "1"
        ],
        [
         "10",
         "churn",
         "hsj",
         "3"
        ],
        [
         "11",
         "churn",
         "noise",
         "1"
        ],
        [
         "12",
         "churn",
         "org",
         "4"
        ],
        [
         "13",
         "churn",
         "per",
         "3"
        ],
        [
         "14",
         "churn",
         "pgd",
         "1"
        ],
        [
         "15",
         "churn",
         "zoo",
         "3"
        ],
        [
         "16",
         "cmc",
         "bim",
         "1"
        ],
        [
         "17",
         "cmc",
         "fgm",
         "1"
        ],
        [
         "18",
         "cmc",
         "hsj",
         "3"
        ],
        [
         "19",
         "cmc",
         "noise",
         "1"
        ],
        [
         "20",
         "cmc",
         "org",
         "4"
        ],
        [
         "21",
         "cmc",
         "per",
         "3"
        ],
        [
         "22",
         "cmc",
         "pgd",
         "1"
        ],
        [
         "23",
         "cmc",
         "zoo",
         "3"
        ],
        [
         "24",
         "cnae-9",
         "bim",
         "1"
        ],
        [
         "25",
         "cnae-9",
         "fgm",
         "1"
        ],
        [
         "26",
         "cnae-9",
         "hsj",
         "3"
        ],
        [
         "27",
         "cnae-9",
         "noise",
         "1"
        ],
        [
         "28",
         "cnae-9",
         "org",
         "4"
        ],
        [
         "29",
         "cnae-9",
         "per",
         "3"
        ],
        [
         "30",
         "cnae-9",
         "pgd",
         "1"
        ],
        [
         "31",
         "cnae-9",
         "zoo",
         "3"
        ],
        [
         "32",
         "dna",
         "bim",
         "1"
        ],
        [
         "33",
         "dna",
         "fgm",
         "1"
        ],
        [
         "34",
         "dna",
         "hsj",
         "3"
        ],
        [
         "35",
         "dna",
         "noise",
         "1"
        ],
        [
         "36",
         "dna",
         "org",
         "4"
        ],
        [
         "37",
         "dna",
         "per",
         "3"
        ],
        [
         "38",
         "dna",
         "pgd",
         "1"
        ],
        [
         "39",
         "dna",
         "zoo",
         "3"
        ],
        [
         "40",
         "har",
         "bim",
         "1"
        ],
        [
         "41",
         "har",
         "fgm",
         "1"
        ],
        [
         "42",
         "har",
         "hsj",
         "3"
        ],
        [
         "43",
         "har",
         "noise",
         "1"
        ],
        [
         "44",
         "har",
         "org",
         "4"
        ],
        [
         "45",
         "har",
         "per",
         "3"
        ],
        [
         "46",
         "har",
         "pgd",
         "1"
        ],
        [
         "47",
         "har",
         "zoo",
         "3"
        ],
        [
         "48",
         "madelon",
         "bim",
         "1"
        ],
        [
         "49",
         "madelon",
         "fgm",
         "1"
        ]
       ],
       "shape": {
        "columns": 3,
        "rows": 176
       }
      },
      "text/html": [
       "<div>\n",
       "<style scoped>\n",
       "    .dataframe tbody tr th:only-of-type {\n",
       "        vertical-align: middle;\n",
       "    }\n",
       "\n",
       "    .dataframe tbody tr th {\n",
       "        vertical-align: top;\n",
       "    }\n",
       "\n",
       "    .dataframe thead th {\n",
       "        text-align: right;\n",
       "    }\n",
       "</style>\n",
       "<table border=\"1\" class=\"dataframe\">\n",
       "  <thead>\n",
       "    <tr style=\"text-align: right;\">\n",
       "      <th></th>\n",
       "      <th>dataset</th>\n",
       "      <th>attack</th>\n",
       "      <th>counts</th>\n",
       "    </tr>\n",
       "  </thead>\n",
       "  <tbody>\n",
       "    <tr>\n",
       "      <th>0</th>\n",
       "      <td>Bioresponse</td>\n",
       "      <td>bim</td>\n",
       "      <td>1</td>\n",
       "    </tr>\n",
       "    <tr>\n",
       "      <th>1</th>\n",
       "      <td>Bioresponse</td>\n",
       "      <td>fgm</td>\n",
       "      <td>1</td>\n",
       "    </tr>\n",
       "    <tr>\n",
       "      <th>2</th>\n",
       "      <td>Bioresponse</td>\n",
       "      <td>hsj</td>\n",
       "      <td>3</td>\n",
       "    </tr>\n",
       "    <tr>\n",
       "      <th>3</th>\n",
       "      <td>Bioresponse</td>\n",
       "      <td>noise</td>\n",
       "      <td>1</td>\n",
       "    </tr>\n",
       "    <tr>\n",
       "      <th>4</th>\n",
       "      <td>Bioresponse</td>\n",
       "      <td>org</td>\n",
       "      <td>4</td>\n",
       "    </tr>\n",
       "    <tr>\n",
       "      <th>...</th>\n",
       "      <td>...</td>\n",
       "      <td>...</td>\n",
       "      <td>...</td>\n",
       "    </tr>\n",
       "    <tr>\n",
       "      <th>171</th>\n",
       "      <td>wilt</td>\n",
       "      <td>noise</td>\n",
       "      <td>1</td>\n",
       "    </tr>\n",
       "    <tr>\n",
       "      <th>172</th>\n",
       "      <td>wilt</td>\n",
       "      <td>org</td>\n",
       "      <td>4</td>\n",
       "    </tr>\n",
       "    <tr>\n",
       "      <th>173</th>\n",
       "      <td>wilt</td>\n",
       "      <td>per</td>\n",
       "      <td>3</td>\n",
       "    </tr>\n",
       "    <tr>\n",
       "      <th>174</th>\n",
       "      <td>wilt</td>\n",
       "      <td>pgd</td>\n",
       "      <td>1</td>\n",
       "    </tr>\n",
       "    <tr>\n",
       "      <th>175</th>\n",
       "      <td>wilt</td>\n",
       "      <td>zoo</td>\n",
       "      <td>3</td>\n",
       "    </tr>\n",
       "  </tbody>\n",
       "</table>\n",
       "<p>176 rows × 3 columns</p>\n",
       "</div>"
      ],
      "text/plain": [
       "         dataset attack  counts\n",
       "0    Bioresponse    bim       1\n",
       "1    Bioresponse    fgm       1\n",
       "2    Bioresponse    hsj       3\n",
       "3    Bioresponse  noise       1\n",
       "4    Bioresponse    org       4\n",
       "..           ...    ...     ...\n",
       "171         wilt  noise       1\n",
       "172         wilt    org       4\n",
       "173         wilt    per       3\n",
       "174         wilt    pgd       1\n",
       "175         wilt    zoo       3\n",
       "\n",
       "[176 rows x 3 columns]"
      ]
     },
     "execution_count": 58,
     "metadata": {},
     "output_type": "execute_result"
    }
   ],
   "source": [
    "data_counts_model_type = attrs_agg_correct_cols[[\"dataset\", \"model\", \"attack\"]].groupby([\"dataset\", \"attack\"]).size().reset_index(name='counts')\n",
    "data_counts_model_type"
   ]
  },
  {
   "cell_type": "code",
   "execution_count": 59,
   "metadata": {},
   "outputs": [
    {
     "data": {
      "text/html": [
       "<style>#sk-container-id-2 {\n",
       "  /* Definition of color scheme common for light and dark mode */\n",
       "  --sklearn-color-text: #000;\n",
       "  --sklearn-color-text-muted: #666;\n",
       "  --sklearn-color-line: gray;\n",
       "  /* Definition of color scheme for unfitted estimators */\n",
       "  --sklearn-color-unfitted-level-0: #fff5e6;\n",
       "  --sklearn-color-unfitted-level-1: #f6e4d2;\n",
       "  --sklearn-color-unfitted-level-2: #ffe0b3;\n",
       "  --sklearn-color-unfitted-level-3: chocolate;\n",
       "  /* Definition of color scheme for fitted estimators */\n",
       "  --sklearn-color-fitted-level-0: #f0f8ff;\n",
       "  --sklearn-color-fitted-level-1: #d4ebff;\n",
       "  --sklearn-color-fitted-level-2: #b3dbfd;\n",
       "  --sklearn-color-fitted-level-3: cornflowerblue;\n",
       "\n",
       "  /* Specific color for light theme */\n",
       "  --sklearn-color-text-on-default-background: var(--sg-text-color, var(--theme-code-foreground, var(--jp-content-font-color1, black)));\n",
       "  --sklearn-color-background: var(--sg-background-color, var(--theme-background, var(--jp-layout-color0, white)));\n",
       "  --sklearn-color-border-box: var(--sg-text-color, var(--theme-code-foreground, var(--jp-content-font-color1, black)));\n",
       "  --sklearn-color-icon: #696969;\n",
       "\n",
       "  @media (prefers-color-scheme: dark) {\n",
       "    /* Redefinition of color scheme for dark theme */\n",
       "    --sklearn-color-text-on-default-background: var(--sg-text-color, var(--theme-code-foreground, var(--jp-content-font-color1, white)));\n",
       "    --sklearn-color-background: var(--sg-background-color, var(--theme-background, var(--jp-layout-color0, #111)));\n",
       "    --sklearn-color-border-box: var(--sg-text-color, var(--theme-code-foreground, var(--jp-content-font-color1, white)));\n",
       "    --sklearn-color-icon: #878787;\n",
       "  }\n",
       "}\n",
       "\n",
       "#sk-container-id-2 {\n",
       "  color: var(--sklearn-color-text);\n",
       "}\n",
       "\n",
       "#sk-container-id-2 pre {\n",
       "  padding: 0;\n",
       "}\n",
       "\n",
       "#sk-container-id-2 input.sk-hidden--visually {\n",
       "  border: 0;\n",
       "  clip: rect(1px 1px 1px 1px);\n",
       "  clip: rect(1px, 1px, 1px, 1px);\n",
       "  height: 1px;\n",
       "  margin: -1px;\n",
       "  overflow: hidden;\n",
       "  padding: 0;\n",
       "  position: absolute;\n",
       "  width: 1px;\n",
       "}\n",
       "\n",
       "#sk-container-id-2 div.sk-dashed-wrapped {\n",
       "  border: 1px dashed var(--sklearn-color-line);\n",
       "  margin: 0 0.4em 0.5em 0.4em;\n",
       "  box-sizing: border-box;\n",
       "  padding-bottom: 0.4em;\n",
       "  background-color: var(--sklearn-color-background);\n",
       "}\n",
       "\n",
       "#sk-container-id-2 div.sk-container {\n",
       "  /* jupyter's `normalize.less` sets `[hidden] { display: none; }`\n",
       "     but bootstrap.min.css set `[hidden] { display: none !important; }`\n",
       "     so we also need the `!important` here to be able to override the\n",
       "     default hidden behavior on the sphinx rendered scikit-learn.org.\n",
       "     See: https://github.com/scikit-learn/scikit-learn/issues/21755 */\n",
       "  display: inline-block !important;\n",
       "  position: relative;\n",
       "}\n",
       "\n",
       "#sk-container-id-2 div.sk-text-repr-fallback {\n",
       "  display: none;\n",
       "}\n",
       "\n",
       "div.sk-parallel-item,\n",
       "div.sk-serial,\n",
       "div.sk-item {\n",
       "  /* draw centered vertical line to link estimators */\n",
       "  background-image: linear-gradient(var(--sklearn-color-text-on-default-background), var(--sklearn-color-text-on-default-background));\n",
       "  background-size: 2px 100%;\n",
       "  background-repeat: no-repeat;\n",
       "  background-position: center center;\n",
       "}\n",
       "\n",
       "/* Parallel-specific style estimator block */\n",
       "\n",
       "#sk-container-id-2 div.sk-parallel-item::after {\n",
       "  content: \"\";\n",
       "  width: 100%;\n",
       "  border-bottom: 2px solid var(--sklearn-color-text-on-default-background);\n",
       "  flex-grow: 1;\n",
       "}\n",
       "\n",
       "#sk-container-id-2 div.sk-parallel {\n",
       "  display: flex;\n",
       "  align-items: stretch;\n",
       "  justify-content: center;\n",
       "  background-color: var(--sklearn-color-background);\n",
       "  position: relative;\n",
       "}\n",
       "\n",
       "#sk-container-id-2 div.sk-parallel-item {\n",
       "  display: flex;\n",
       "  flex-direction: column;\n",
       "}\n",
       "\n",
       "#sk-container-id-2 div.sk-parallel-item:first-child::after {\n",
       "  align-self: flex-end;\n",
       "  width: 50%;\n",
       "}\n",
       "\n",
       "#sk-container-id-2 div.sk-parallel-item:last-child::after {\n",
       "  align-self: flex-start;\n",
       "  width: 50%;\n",
       "}\n",
       "\n",
       "#sk-container-id-2 div.sk-parallel-item:only-child::after {\n",
       "  width: 0;\n",
       "}\n",
       "\n",
       "/* Serial-specific style estimator block */\n",
       "\n",
       "#sk-container-id-2 div.sk-serial {\n",
       "  display: flex;\n",
       "  flex-direction: column;\n",
       "  align-items: center;\n",
       "  background-color: var(--sklearn-color-background);\n",
       "  padding-right: 1em;\n",
       "  padding-left: 1em;\n",
       "}\n",
       "\n",
       "\n",
       "/* Toggleable style: style used for estimator/Pipeline/ColumnTransformer box that is\n",
       "clickable and can be expanded/collapsed.\n",
       "- Pipeline and ColumnTransformer use this feature and define the default style\n",
       "- Estimators will overwrite some part of the style using the `sk-estimator` class\n",
       "*/\n",
       "\n",
       "/* Pipeline and ColumnTransformer style (default) */\n",
       "\n",
       "#sk-container-id-2 div.sk-toggleable {\n",
       "  /* Default theme specific background. It is overwritten whether we have a\n",
       "  specific estimator or a Pipeline/ColumnTransformer */\n",
       "  background-color: var(--sklearn-color-background);\n",
       "}\n",
       "\n",
       "/* Toggleable label */\n",
       "#sk-container-id-2 label.sk-toggleable__label {\n",
       "  cursor: pointer;\n",
       "  display: flex;\n",
       "  width: 100%;\n",
       "  margin-bottom: 0;\n",
       "  padding: 0.5em;\n",
       "  box-sizing: border-box;\n",
       "  text-align: center;\n",
       "  align-items: start;\n",
       "  justify-content: space-between;\n",
       "  gap: 0.5em;\n",
       "}\n",
       "\n",
       "#sk-container-id-2 label.sk-toggleable__label .caption {\n",
       "  font-size: 0.6rem;\n",
       "  font-weight: lighter;\n",
       "  color: var(--sklearn-color-text-muted);\n",
       "}\n",
       "\n",
       "#sk-container-id-2 label.sk-toggleable__label-arrow:before {\n",
       "  /* Arrow on the left of the label */\n",
       "  content: \"▸\";\n",
       "  float: left;\n",
       "  margin-right: 0.25em;\n",
       "  color: var(--sklearn-color-icon);\n",
       "}\n",
       "\n",
       "#sk-container-id-2 label.sk-toggleable__label-arrow:hover:before {\n",
       "  color: var(--sklearn-color-text);\n",
       "}\n",
       "\n",
       "/* Toggleable content - dropdown */\n",
       "\n",
       "#sk-container-id-2 div.sk-toggleable__content {\n",
       "  display: none;\n",
       "  text-align: left;\n",
       "  /* unfitted */\n",
       "  background-color: var(--sklearn-color-unfitted-level-0);\n",
       "}\n",
       "\n",
       "#sk-container-id-2 div.sk-toggleable__content.fitted {\n",
       "  /* fitted */\n",
       "  background-color: var(--sklearn-color-fitted-level-0);\n",
       "}\n",
       "\n",
       "#sk-container-id-2 div.sk-toggleable__content pre {\n",
       "  margin: 0.2em;\n",
       "  border-radius: 0.25em;\n",
       "  color: var(--sklearn-color-text);\n",
       "  /* unfitted */\n",
       "  background-color: var(--sklearn-color-unfitted-level-0);\n",
       "}\n",
       "\n",
       "#sk-container-id-2 div.sk-toggleable__content.fitted pre {\n",
       "  /* unfitted */\n",
       "  background-color: var(--sklearn-color-fitted-level-0);\n",
       "}\n",
       "\n",
       "#sk-container-id-2 input.sk-toggleable__control:checked~div.sk-toggleable__content {\n",
       "  /* Expand drop-down */\n",
       "  display: block;\n",
       "  width: 100%;\n",
       "  overflow: visible;\n",
       "}\n",
       "\n",
       "#sk-container-id-2 input.sk-toggleable__control:checked~label.sk-toggleable__label-arrow:before {\n",
       "  content: \"▾\";\n",
       "}\n",
       "\n",
       "/* Pipeline/ColumnTransformer-specific style */\n",
       "\n",
       "#sk-container-id-2 div.sk-label input.sk-toggleable__control:checked~label.sk-toggleable__label {\n",
       "  color: var(--sklearn-color-text);\n",
       "  background-color: var(--sklearn-color-unfitted-level-2);\n",
       "}\n",
       "\n",
       "#sk-container-id-2 div.sk-label.fitted input.sk-toggleable__control:checked~label.sk-toggleable__label {\n",
       "  background-color: var(--sklearn-color-fitted-level-2);\n",
       "}\n",
       "\n",
       "/* Estimator-specific style */\n",
       "\n",
       "/* Colorize estimator box */\n",
       "#sk-container-id-2 div.sk-estimator input.sk-toggleable__control:checked~label.sk-toggleable__label {\n",
       "  /* unfitted */\n",
       "  background-color: var(--sklearn-color-unfitted-level-2);\n",
       "}\n",
       "\n",
       "#sk-container-id-2 div.sk-estimator.fitted input.sk-toggleable__control:checked~label.sk-toggleable__label {\n",
       "  /* fitted */\n",
       "  background-color: var(--sklearn-color-fitted-level-2);\n",
       "}\n",
       "\n",
       "#sk-container-id-2 div.sk-label label.sk-toggleable__label,\n",
       "#sk-container-id-2 div.sk-label label {\n",
       "  /* The background is the default theme color */\n",
       "  color: var(--sklearn-color-text-on-default-background);\n",
       "}\n",
       "\n",
       "/* On hover, darken the color of the background */\n",
       "#sk-container-id-2 div.sk-label:hover label.sk-toggleable__label {\n",
       "  color: var(--sklearn-color-text);\n",
       "  background-color: var(--sklearn-color-unfitted-level-2);\n",
       "}\n",
       "\n",
       "/* Label box, darken color on hover, fitted */\n",
       "#sk-container-id-2 div.sk-label.fitted:hover label.sk-toggleable__label.fitted {\n",
       "  color: var(--sklearn-color-text);\n",
       "  background-color: var(--sklearn-color-fitted-level-2);\n",
       "}\n",
       "\n",
       "/* Estimator label */\n",
       "\n",
       "#sk-container-id-2 div.sk-label label {\n",
       "  font-family: monospace;\n",
       "  font-weight: bold;\n",
       "  display: inline-block;\n",
       "  line-height: 1.2em;\n",
       "}\n",
       "\n",
       "#sk-container-id-2 div.sk-label-container {\n",
       "  text-align: center;\n",
       "}\n",
       "\n",
       "/* Estimator-specific */\n",
       "#sk-container-id-2 div.sk-estimator {\n",
       "  font-family: monospace;\n",
       "  border: 1px dotted var(--sklearn-color-border-box);\n",
       "  border-radius: 0.25em;\n",
       "  box-sizing: border-box;\n",
       "  margin-bottom: 0.5em;\n",
       "  /* unfitted */\n",
       "  background-color: var(--sklearn-color-unfitted-level-0);\n",
       "}\n",
       "\n",
       "#sk-container-id-2 div.sk-estimator.fitted {\n",
       "  /* fitted */\n",
       "  background-color: var(--sklearn-color-fitted-level-0);\n",
       "}\n",
       "\n",
       "/* on hover */\n",
       "#sk-container-id-2 div.sk-estimator:hover {\n",
       "  /* unfitted */\n",
       "  background-color: var(--sklearn-color-unfitted-level-2);\n",
       "}\n",
       "\n",
       "#sk-container-id-2 div.sk-estimator.fitted:hover {\n",
       "  /* fitted */\n",
       "  background-color: var(--sklearn-color-fitted-level-2);\n",
       "}\n",
       "\n",
       "/* Specification for estimator info (e.g. \"i\" and \"?\") */\n",
       "\n",
       "/* Common style for \"i\" and \"?\" */\n",
       "\n",
       ".sk-estimator-doc-link,\n",
       "a:link.sk-estimator-doc-link,\n",
       "a:visited.sk-estimator-doc-link {\n",
       "  float: right;\n",
       "  font-size: smaller;\n",
       "  line-height: 1em;\n",
       "  font-family: monospace;\n",
       "  background-color: var(--sklearn-color-background);\n",
       "  border-radius: 1em;\n",
       "  height: 1em;\n",
       "  width: 1em;\n",
       "  text-decoration: none !important;\n",
       "  margin-left: 0.5em;\n",
       "  text-align: center;\n",
       "  /* unfitted */\n",
       "  border: var(--sklearn-color-unfitted-level-1) 1pt solid;\n",
       "  color: var(--sklearn-color-unfitted-level-1);\n",
       "}\n",
       "\n",
       ".sk-estimator-doc-link.fitted,\n",
       "a:link.sk-estimator-doc-link.fitted,\n",
       "a:visited.sk-estimator-doc-link.fitted {\n",
       "  /* fitted */\n",
       "  border: var(--sklearn-color-fitted-level-1) 1pt solid;\n",
       "  color: var(--sklearn-color-fitted-level-1);\n",
       "}\n",
       "\n",
       "/* On hover */\n",
       "div.sk-estimator:hover .sk-estimator-doc-link:hover,\n",
       ".sk-estimator-doc-link:hover,\n",
       "div.sk-label-container:hover .sk-estimator-doc-link:hover,\n",
       ".sk-estimator-doc-link:hover {\n",
       "  /* unfitted */\n",
       "  background-color: var(--sklearn-color-unfitted-level-3);\n",
       "  color: var(--sklearn-color-background);\n",
       "  text-decoration: none;\n",
       "}\n",
       "\n",
       "div.sk-estimator.fitted:hover .sk-estimator-doc-link.fitted:hover,\n",
       ".sk-estimator-doc-link.fitted:hover,\n",
       "div.sk-label-container:hover .sk-estimator-doc-link.fitted:hover,\n",
       ".sk-estimator-doc-link.fitted:hover {\n",
       "  /* fitted */\n",
       "  background-color: var(--sklearn-color-fitted-level-3);\n",
       "  color: var(--sklearn-color-background);\n",
       "  text-decoration: none;\n",
       "}\n",
       "\n",
       "/* Span, style for the box shown on hovering the info icon */\n",
       ".sk-estimator-doc-link span {\n",
       "  display: none;\n",
       "  z-index: 9999;\n",
       "  position: relative;\n",
       "  font-weight: normal;\n",
       "  right: .2ex;\n",
       "  padding: .5ex;\n",
       "  margin: .5ex;\n",
       "  width: min-content;\n",
       "  min-width: 20ex;\n",
       "  max-width: 50ex;\n",
       "  color: var(--sklearn-color-text);\n",
       "  box-shadow: 2pt 2pt 4pt #999;\n",
       "  /* unfitted */\n",
       "  background: var(--sklearn-color-unfitted-level-0);\n",
       "  border: .5pt solid var(--sklearn-color-unfitted-level-3);\n",
       "}\n",
       "\n",
       ".sk-estimator-doc-link.fitted span {\n",
       "  /* fitted */\n",
       "  background: var(--sklearn-color-fitted-level-0);\n",
       "  border: var(--sklearn-color-fitted-level-3);\n",
       "}\n",
       "\n",
       ".sk-estimator-doc-link:hover span {\n",
       "  display: block;\n",
       "}\n",
       "\n",
       "/* \"?\"-specific style due to the `<a>` HTML tag */\n",
       "\n",
       "#sk-container-id-2 a.estimator_doc_link {\n",
       "  float: right;\n",
       "  font-size: 1rem;\n",
       "  line-height: 1em;\n",
       "  font-family: monospace;\n",
       "  background-color: var(--sklearn-color-background);\n",
       "  border-radius: 1rem;\n",
       "  height: 1rem;\n",
       "  width: 1rem;\n",
       "  text-decoration: none;\n",
       "  /* unfitted */\n",
       "  color: var(--sklearn-color-unfitted-level-1);\n",
       "  border: var(--sklearn-color-unfitted-level-1) 1pt solid;\n",
       "}\n",
       "\n",
       "#sk-container-id-2 a.estimator_doc_link.fitted {\n",
       "  /* fitted */\n",
       "  border: var(--sklearn-color-fitted-level-1) 1pt solid;\n",
       "  color: var(--sklearn-color-fitted-level-1);\n",
       "}\n",
       "\n",
       "/* On hover */\n",
       "#sk-container-id-2 a.estimator_doc_link:hover {\n",
       "  /* unfitted */\n",
       "  background-color: var(--sklearn-color-unfitted-level-3);\n",
       "  color: var(--sklearn-color-background);\n",
       "  text-decoration: none;\n",
       "}\n",
       "\n",
       "#sk-container-id-2 a.estimator_doc_link.fitted:hover {\n",
       "  /* fitted */\n",
       "  background-color: var(--sklearn-color-fitted-level-3);\n",
       "}\n",
       "\n",
       ".estimator-table summary {\n",
       "    padding: .5rem;\n",
       "    font-family: monospace;\n",
       "    cursor: pointer;\n",
       "}\n",
       "\n",
       ".estimator-table details[open] {\n",
       "    padding-left: 0.1rem;\n",
       "    padding-right: 0.1rem;\n",
       "    padding-bottom: 0.3rem;\n",
       "}\n",
       "\n",
       ".estimator-table .parameters-table {\n",
       "    margin-left: auto !important;\n",
       "    margin-right: auto !important;\n",
       "}\n",
       "\n",
       ".estimator-table .parameters-table tr:nth-child(odd) {\n",
       "    background-color: #fff;\n",
       "}\n",
       "\n",
       ".estimator-table .parameters-table tr:nth-child(even) {\n",
       "    background-color: #f6f6f6;\n",
       "}\n",
       "\n",
       ".estimator-table .parameters-table tr:hover {\n",
       "    background-color: #e0e0e0;\n",
       "}\n",
       "\n",
       ".estimator-table table td {\n",
       "    border: 1px solid rgba(106, 105, 104, 0.232);\n",
       "}\n",
       "\n",
       ".user-set td {\n",
       "    color:rgb(255, 94, 0);\n",
       "    text-align: left;\n",
       "}\n",
       "\n",
       ".user-set td.value pre {\n",
       "    color:rgb(255, 94, 0) !important;\n",
       "    background-color: transparent !important;\n",
       "}\n",
       "\n",
       ".default td {\n",
       "    color: black;\n",
       "    text-align: left;\n",
       "}\n",
       "\n",
       ".user-set td i,\n",
       ".default td i {\n",
       "    color: black;\n",
       "}\n",
       "\n",
       ".copy-paste-icon {\n",
       "    background-image: url(data:image/svg+xml;base64,PHN2ZyB4bWxucz0iaHR0cDovL3d3dy53My5vcmcvMjAwMC9zdmciIHZpZXdCb3g9IjAgMCA0NDggNTEyIj48IS0tIUZvbnQgQXdlc29tZSBGcmVlIDYuNy4yIGJ5IEBmb250YXdlc29tZSAtIGh0dHBzOi8vZm9udGF3ZXNvbWUuY29tIExpY2Vuc2UgLSBodHRwczovL2ZvbnRhd2Vzb21lLmNvbS9saWNlbnNlL2ZyZWUgQ29weXJpZ2h0IDIwMjUgRm9udGljb25zLCBJbmMuLS0+PHBhdGggZD0iTTIwOCAwTDMzMi4xIDBjMTIuNyAwIDI0LjkgNS4xIDMzLjkgMTQuMWw2Ny45IDY3LjljOSA5IDE0LjEgMjEuMiAxNC4xIDMzLjlMNDQ4IDMzNmMwIDI2LjUtMjEuNSA0OC00OCA0OGwtMTkyIDBjLTI2LjUgMC00OC0yMS41LTQ4LTQ4bDAtMjg4YzAtMjYuNSAyMS41LTQ4IDQ4LTQ4ek00OCAxMjhsODAgMCAwIDY0LTY0IDAgMCAyNTYgMTkyIDAgMC0zMiA2NCAwIDAgNDhjMCAyNi41LTIxLjUgNDgtNDggNDhMNDggNTEyYy0yNi41IDAtNDgtMjEuNS00OC00OEwwIDE3NmMwLTI2LjUgMjEuNS00OCA0OC00OHoiLz48L3N2Zz4=);\n",
       "    background-repeat: no-repeat;\n",
       "    background-size: 14px 14px;\n",
       "    background-position: 0;\n",
       "    display: inline-block;\n",
       "    width: 14px;\n",
       "    height: 14px;\n",
       "    cursor: pointer;\n",
       "}\n",
       "</style><body><div id=\"sk-container-id-2\" class=\"sk-top-container\"><div class=\"sk-text-repr-fallback\"><pre>RandomForestClassifier(random_state=123)</pre><b>In a Jupyter environment, please rerun this cell to show the HTML representation or trust the notebook. <br />On GitHub, the HTML representation is unable to render, please try loading this page with nbviewer.org.</b></div><div class=\"sk-container\" hidden><div class=\"sk-item\"><div class=\"sk-estimator fitted sk-toggleable\"><input class=\"sk-toggleable__control sk-hidden--visually\" id=\"sk-estimator-id-2\" type=\"checkbox\" checked><label for=\"sk-estimator-id-2\" class=\"sk-toggleable__label fitted sk-toggleable__label-arrow\"><div><div>RandomForestClassifier</div></div><div><a class=\"sk-estimator-doc-link fitted\" rel=\"noreferrer\" target=\"_blank\" href=\"https://scikit-learn.org/1.7/modules/generated/sklearn.ensemble.RandomForestClassifier.html\">?<span>Documentation for RandomForestClassifier</span></a><span class=\"sk-estimator-doc-link fitted\">i<span>Fitted</span></span></div></label><div class=\"sk-toggleable__content fitted\" data-param-prefix=\"\">\n",
       "        <div class=\"estimator-table\">\n",
       "            <details>\n",
       "                <summary>Parameters</summary>\n",
       "                <table class=\"parameters-table\">\n",
       "                  <tbody>\n",
       "                    \n",
       "        <tr class=\"default\">\n",
       "            <td><i class=\"copy-paste-icon\"\n",
       "                 onclick=\"copyToClipboard('n_estimators',\n",
       "                          this.parentElement.nextElementSibling)\"\n",
       "            ></i></td>\n",
       "            <td class=\"param\">n_estimators&nbsp;</td>\n",
       "            <td class=\"value\">100</td>\n",
       "        </tr>\n",
       "    \n",
       "\n",
       "        <tr class=\"default\">\n",
       "            <td><i class=\"copy-paste-icon\"\n",
       "                 onclick=\"copyToClipboard('criterion',\n",
       "                          this.parentElement.nextElementSibling)\"\n",
       "            ></i></td>\n",
       "            <td class=\"param\">criterion&nbsp;</td>\n",
       "            <td class=\"value\">&#x27;gini&#x27;</td>\n",
       "        </tr>\n",
       "    \n",
       "\n",
       "        <tr class=\"default\">\n",
       "            <td><i class=\"copy-paste-icon\"\n",
       "                 onclick=\"copyToClipboard('max_depth',\n",
       "                          this.parentElement.nextElementSibling)\"\n",
       "            ></i></td>\n",
       "            <td class=\"param\">max_depth&nbsp;</td>\n",
       "            <td class=\"value\">None</td>\n",
       "        </tr>\n",
       "    \n",
       "\n",
       "        <tr class=\"default\">\n",
       "            <td><i class=\"copy-paste-icon\"\n",
       "                 onclick=\"copyToClipboard('min_samples_split',\n",
       "                          this.parentElement.nextElementSibling)\"\n",
       "            ></i></td>\n",
       "            <td class=\"param\">min_samples_split&nbsp;</td>\n",
       "            <td class=\"value\">2</td>\n",
       "        </tr>\n",
       "    \n",
       "\n",
       "        <tr class=\"default\">\n",
       "            <td><i class=\"copy-paste-icon\"\n",
       "                 onclick=\"copyToClipboard('min_samples_leaf',\n",
       "                          this.parentElement.nextElementSibling)\"\n",
       "            ></i></td>\n",
       "            <td class=\"param\">min_samples_leaf&nbsp;</td>\n",
       "            <td class=\"value\">1</td>\n",
       "        </tr>\n",
       "    \n",
       "\n",
       "        <tr class=\"default\">\n",
       "            <td><i class=\"copy-paste-icon\"\n",
       "                 onclick=\"copyToClipboard('min_weight_fraction_leaf',\n",
       "                          this.parentElement.nextElementSibling)\"\n",
       "            ></i></td>\n",
       "            <td class=\"param\">min_weight_fraction_leaf&nbsp;</td>\n",
       "            <td class=\"value\">0.0</td>\n",
       "        </tr>\n",
       "    \n",
       "\n",
       "        <tr class=\"default\">\n",
       "            <td><i class=\"copy-paste-icon\"\n",
       "                 onclick=\"copyToClipboard('max_features',\n",
       "                          this.parentElement.nextElementSibling)\"\n",
       "            ></i></td>\n",
       "            <td class=\"param\">max_features&nbsp;</td>\n",
       "            <td class=\"value\">&#x27;sqrt&#x27;</td>\n",
       "        </tr>\n",
       "    \n",
       "\n",
       "        <tr class=\"default\">\n",
       "            <td><i class=\"copy-paste-icon\"\n",
       "                 onclick=\"copyToClipboard('max_leaf_nodes',\n",
       "                          this.parentElement.nextElementSibling)\"\n",
       "            ></i></td>\n",
       "            <td class=\"param\">max_leaf_nodes&nbsp;</td>\n",
       "            <td class=\"value\">None</td>\n",
       "        </tr>\n",
       "    \n",
       "\n",
       "        <tr class=\"default\">\n",
       "            <td><i class=\"copy-paste-icon\"\n",
       "                 onclick=\"copyToClipboard('min_impurity_decrease',\n",
       "                          this.parentElement.nextElementSibling)\"\n",
       "            ></i></td>\n",
       "            <td class=\"param\">min_impurity_decrease&nbsp;</td>\n",
       "            <td class=\"value\">0.0</td>\n",
       "        </tr>\n",
       "    \n",
       "\n",
       "        <tr class=\"default\">\n",
       "            <td><i class=\"copy-paste-icon\"\n",
       "                 onclick=\"copyToClipboard('bootstrap',\n",
       "                          this.parentElement.nextElementSibling)\"\n",
       "            ></i></td>\n",
       "            <td class=\"param\">bootstrap&nbsp;</td>\n",
       "            <td class=\"value\">True</td>\n",
       "        </tr>\n",
       "    \n",
       "\n",
       "        <tr class=\"default\">\n",
       "            <td><i class=\"copy-paste-icon\"\n",
       "                 onclick=\"copyToClipboard('oob_score',\n",
       "                          this.parentElement.nextElementSibling)\"\n",
       "            ></i></td>\n",
       "            <td class=\"param\">oob_score&nbsp;</td>\n",
       "            <td class=\"value\">False</td>\n",
       "        </tr>\n",
       "    \n",
       "\n",
       "        <tr class=\"default\">\n",
       "            <td><i class=\"copy-paste-icon\"\n",
       "                 onclick=\"copyToClipboard('n_jobs',\n",
       "                          this.parentElement.nextElementSibling)\"\n",
       "            ></i></td>\n",
       "            <td class=\"param\">n_jobs&nbsp;</td>\n",
       "            <td class=\"value\">None</td>\n",
       "        </tr>\n",
       "    \n",
       "\n",
       "        <tr class=\"user-set\">\n",
       "            <td><i class=\"copy-paste-icon\"\n",
       "                 onclick=\"copyToClipboard('random_state',\n",
       "                          this.parentElement.nextElementSibling)\"\n",
       "            ></i></td>\n",
       "            <td class=\"param\">random_state&nbsp;</td>\n",
       "            <td class=\"value\">123</td>\n",
       "        </tr>\n",
       "    \n",
       "\n",
       "        <tr class=\"default\">\n",
       "            <td><i class=\"copy-paste-icon\"\n",
       "                 onclick=\"copyToClipboard('verbose',\n",
       "                          this.parentElement.nextElementSibling)\"\n",
       "            ></i></td>\n",
       "            <td class=\"param\">verbose&nbsp;</td>\n",
       "            <td class=\"value\">0</td>\n",
       "        </tr>\n",
       "    \n",
       "\n",
       "        <tr class=\"default\">\n",
       "            <td><i class=\"copy-paste-icon\"\n",
       "                 onclick=\"copyToClipboard('warm_start',\n",
       "                          this.parentElement.nextElementSibling)\"\n",
       "            ></i></td>\n",
       "            <td class=\"param\">warm_start&nbsp;</td>\n",
       "            <td class=\"value\">False</td>\n",
       "        </tr>\n",
       "    \n",
       "\n",
       "        <tr class=\"default\">\n",
       "            <td><i class=\"copy-paste-icon\"\n",
       "                 onclick=\"copyToClipboard('class_weight',\n",
       "                          this.parentElement.nextElementSibling)\"\n",
       "            ></i></td>\n",
       "            <td class=\"param\">class_weight&nbsp;</td>\n",
       "            <td class=\"value\">None</td>\n",
       "        </tr>\n",
       "    \n",
       "\n",
       "        <tr class=\"default\">\n",
       "            <td><i class=\"copy-paste-icon\"\n",
       "                 onclick=\"copyToClipboard('ccp_alpha',\n",
       "                          this.parentElement.nextElementSibling)\"\n",
       "            ></i></td>\n",
       "            <td class=\"param\">ccp_alpha&nbsp;</td>\n",
       "            <td class=\"value\">0.0</td>\n",
       "        </tr>\n",
       "    \n",
       "\n",
       "        <tr class=\"default\">\n",
       "            <td><i class=\"copy-paste-icon\"\n",
       "                 onclick=\"copyToClipboard('max_samples',\n",
       "                          this.parentElement.nextElementSibling)\"\n",
       "            ></i></td>\n",
       "            <td class=\"param\">max_samples&nbsp;</td>\n",
       "            <td class=\"value\">None</td>\n",
       "        </tr>\n",
       "    \n",
       "\n",
       "        <tr class=\"default\">\n",
       "            <td><i class=\"copy-paste-icon\"\n",
       "                 onclick=\"copyToClipboard('monotonic_cst',\n",
       "                          this.parentElement.nextElementSibling)\"\n",
       "            ></i></td>\n",
       "            <td class=\"param\">monotonic_cst&nbsp;</td>\n",
       "            <td class=\"value\">None</td>\n",
       "        </tr>\n",
       "    \n",
       "                  </tbody>\n",
       "                </table>\n",
       "            </details>\n",
       "        </div>\n",
       "    </div></div></div></div></div><script>function copyToClipboard(text, element) {\n",
       "    // Get the parameter prefix from the closest toggleable content\n",
       "    const toggleableContent = element.closest('.sk-toggleable__content');\n",
       "    const paramPrefix = toggleableContent ? toggleableContent.dataset.paramPrefix : '';\n",
       "    const fullParamName = paramPrefix ? `${paramPrefix}${text}` : text;\n",
       "\n",
       "    const originalStyle = element.style;\n",
       "    const computedStyle = window.getComputedStyle(element);\n",
       "    const originalWidth = computedStyle.width;\n",
       "    const originalHTML = element.innerHTML.replace('Copied!', '');\n",
       "\n",
       "    navigator.clipboard.writeText(fullParamName)\n",
       "        .then(() => {\n",
       "            element.style.width = originalWidth;\n",
       "            element.style.color = 'green';\n",
       "            element.innerHTML = \"Copied!\";\n",
       "\n",
       "            setTimeout(() => {\n",
       "                element.innerHTML = originalHTML;\n",
       "                element.style = originalStyle;\n",
       "            }, 2000);\n",
       "        })\n",
       "        .catch(err => {\n",
       "            console.error('Failed to copy:', err);\n",
       "            element.style.color = 'red';\n",
       "            element.innerHTML = \"Failed!\";\n",
       "            setTimeout(() => {\n",
       "                element.innerHTML = originalHTML;\n",
       "                element.style = originalStyle;\n",
       "            }, 2000);\n",
       "        });\n",
       "    return false;\n",
       "}\n",
       "\n",
       "document.querySelectorAll('.fa-regular.fa-copy').forEach(function(element) {\n",
       "    const toggleableContent = element.closest('.sk-toggleable__content');\n",
       "    const paramPrefix = toggleableContent ? toggleableContent.dataset.paramPrefix : '';\n",
       "    const paramName = element.parentElement.nextElementSibling.textContent.trim();\n",
       "    const fullParamName = paramPrefix ? `${paramPrefix}${paramName}` : paramName;\n",
       "\n",
       "    element.setAttribute('title', fullParamName);\n",
       "});\n",
       "</script></body>"
      ],
      "text/plain": [
       "RandomForestClassifier(random_state=123)"
      ]
     },
     "execution_count": 59,
     "metadata": {},
     "output_type": "execute_result"
    }
   ],
   "source": [
    "le = LabelEncoder()\n",
    "x_train = attrs_agg_correct_cols.drop(columns=[\"dataset\", \"model\", \"attack\", \"attack_binary\"])\n",
    "y_train = attrs_agg_correct_cols[\"attack_binary\"]\n",
    "y_train_enc = le.fit_transform(y_train)\n",
    "model = RandomForestClassifier(random_state=123)\n",
    "model.fit(x_train, y_train_enc)"
   ]
  },
  {
   "cell_type": "code",
   "execution_count": 60,
   "metadata": {},
   "outputs": [],
   "source": [
    "fi_dict = {'var': x_train.columns, 'fi': model.feature_importances_}\n",
    "fi_df = pd.DataFrame(fi_dict)\n",
    "fi_df[\"fi_rank\"] = fi_df[\"fi\"].rank(ascending=False)"
   ]
  },
  {
   "cell_type": "code",
   "execution_count": 61,
   "metadata": {},
   "outputs": [],
   "source": [
    "attrs_agg_correct_cols.to_csv(\"results/attr_attacks_binary_agr_nn_bacc.csv\", index=False)"
   ]
  },
  {
   "cell_type": "code",
   "execution_count": 62,
   "metadata": {},
   "outputs": [],
   "source": [
    "def create_hyperparams_grid(model, param_grid, exp_function, crit=\"kappa\"):\n",
    "\n",
    "    quality_measure = []\n",
    "    params_list = []\n",
    "    results_table = []\n",
    "    results_fi = []\n",
    "\n",
    "    for param1 in param_grid[list(param_grid.keys())[0]]:\n",
    "        for param2 in param_grid[list(param_grid.keys())[1]]:\n",
    "            for param3 in param_grid[list(param_grid.keys())[2]]:\n",
    "                params = {list(param_grid.keys())[0]: param1,\n",
    "                          list(param_grid.keys())[1]: param2,\n",
    "                          list(param_grid.keys())[2]: param3}\n",
    "\n",
    "                model.set_params(**params)\n",
    "                summary, fi = exp_function(model=model)\n",
    "                results_table.append(summary)\n",
    "                results_fi.append(fi)\n",
    "                params_list.append(params)\n",
    "                crit_value = np.mean(summary[\"kappa\"])\n",
    "                quality_measure.append(crit_value)\n",
    "                print(f\"{crit} = {crit_value}, params: {params}\")\n",
    "\n",
    "    best_params_idx = np.argmax(quality_measure)\n",
    "    best_params = params_list[best_params_idx]\n",
    "\n",
    "    print(f\"Params: {best_params} give best {crit} equal {quality_measure[best_params_idx]}\")\n",
    "\n",
    "    return results_table[best_params_idx], results_fi[best_params_idx]"
   ]
  },
  {
   "cell_type": "markdown",
   "metadata": {},
   "source": [
    "# Leave-one-data-set-out"
   ]
  },
  {
   "cell_type": "code",
   "execution_count": 63,
   "metadata": {},
   "outputs": [],
   "source": [
    "def leave_dataset_out(model=xgb.XGBClassifier(random_state=123)):\n",
    "\n",
    "    datasets = np.unique(attrs_agg_correct_cols[\"dataset\"])\n",
    "    kappa_list = []\n",
    "    bacc_list = []\n",
    "    precision_list = []\n",
    "    recall_list = []\n",
    "    f1_list = []\n",
    "    fnr_list = []\n",
    "    fi_all = pd.DataFrame()\n",
    "\n",
    "    for dataset in tqdm(datasets):\n",
    "\n",
    "        train = attrs_agg_correct_cols[attrs_agg_correct_cols[\"dataset\"] != dataset]\n",
    "        test = attrs_agg_correct_cols[attrs_agg_correct_cols[\"dataset\"] == dataset]\n",
    "\n",
    "        x_train = train.drop(columns=[\"dataset\", \"model\", \"attack\", \"attack_binary\"])\n",
    "        y_train = train[\"attack_binary\"]\n",
    "\n",
    "        x_test = test.drop(columns=[\"dataset\", \"model\", \"attack\", \"attack_binary\"])\n",
    "        y_test = test[\"attack_binary\"]\n",
    "\n",
    "        le = LabelEncoder()\n",
    "        y_train_enc = le.fit_transform(y_train)\n",
    "        y_test_enc = le.transform(y_test)\n",
    "\n",
    "        model.fit(x_train, y_train_enc)\n",
    "\n",
    "        fi_dict = {'var': x_train.columns, 'fi': model.feature_importances_}\n",
    "        fi_df = pd.DataFrame(fi_dict)\n",
    "        fi_df[\"fi_rank\"] = fi_df[\"fi\"].rank(ascending=False)\n",
    "        fi_df[\"dataset\"] = dataset\n",
    "        fi_all = pd.concat([fi_all, fi_df])\n",
    "\n",
    "        preds = model.predict(x_test)\n",
    "        bacc_list.append(balanced_accuracy_score(y_test_enc, preds))\n",
    "        kappa_list.append(cohen_kappa_score(y_test_enc, preds))\n",
    "        precision_list.append(precision_score(y_test_enc, preds))\n",
    "        recall_list.append(recall_score(y_test_enc, preds))\n",
    "        f1_list.append(f1_score(y_test_enc, preds))\n",
    "        fnr_list.append(false_negative_rate(y_test_enc, preds))\n",
    "\n",
    "    results_dict = {'dataset': datasets, 'bacc': bacc_list, 'kappa': kappa_list, 'precision': precision_list,\n",
    "                    'recall': recall_list, 'f1': f1_list, 'fnr': fnr_list}\n",
    "    results_df = pd.DataFrame(results_dict)\n",
    "    return results_df, fi_all"
   ]
  },
  {
   "cell_type": "markdown",
   "metadata": {},
   "source": [
    "## XGBoost"
   ]
  },
  {
   "cell_type": "markdown",
   "metadata": {},
   "source": [
    "### Default parameters"
   ]
  },
  {
   "cell_type": "code",
   "execution_count": 64,
   "metadata": {},
   "outputs": [
    {
     "name": "stderr",
     "output_type": "stream",
     "text": [
      "100%|██████████| 22/22 [00:05<00:00,  4.23it/s]\n"
     ]
    },
    {
     "data": {
      "application/vnd.microsoft.datawrangler.viewer.v0+json": {
       "columns": [
        {
         "name": "index",
         "rawType": "int64",
         "type": "integer"
        },
        {
         "name": "dataset",
         "rawType": "object",
         "type": "string"
        },
        {
         "name": "bacc",
         "rawType": "float64",
         "type": "float"
        },
        {
         "name": "kappa",
         "rawType": "float64",
         "type": "float"
        },
        {
         "name": "precision",
         "rawType": "float64",
         "type": "float"
        },
        {
         "name": "recall",
         "rawType": "float64",
         "type": "float"
        },
        {
         "name": "f1",
         "rawType": "float64",
         "type": "float"
        },
        {
         "name": "fnr",
         "rawType": "float64",
         "type": "float"
        }
       ],
       "ref": "3476596b-5d8e-4d79-b218-826f7314eabc",
       "rows": [
        [
         "0",
         "Bioresponse",
         "0.9230769230769231",
         "0.721311475409836",
         "1.0",
         "0.8461538461538461",
         "0.9166666666666666",
         "0.15384615384615385"
        ],
        [
         "1",
         "churn",
         "1.0",
         "1.0",
         "1.0",
         "1.0",
         "1.0",
         "0.0"
        ],
        [
         "2",
         "cmc",
         "1.0",
         "1.0",
         "1.0",
         "1.0",
         "1.0",
         "0.0"
        ],
        [
         "3",
         "cnae-9",
         "0.9615384615384616",
         "0.8495575221238938",
         "1.0",
         "0.9230769230769231",
         "0.96",
         "0.07692307692307693"
        ],
        [
         "4",
         "dna",
         "0.9615384615384616",
         "0.8495575221238938",
         "1.0",
         "0.9230769230769231",
         "0.96",
         "0.07692307692307693"
        ],
        [
         "5",
         "har",
         "1.0",
         "1.0",
         "1.0",
         "1.0",
         "1.0",
         "0.0"
        ],
        [
         "6",
         "madelon",
         "0.5",
         "0.0",
         "0.75",
         "1.0",
         "0.8571428571428571",
         "0.0"
        ],
        [
         "7",
         "mfeat-factors",
         "1.0",
         "1.0",
         "1.0",
         "1.0",
         "1.0",
         "0.0"
        ],
        [
         "8",
         "mfeat-fourier",
         "1.0",
         "1.0",
         "1.0",
         "1.0",
         "1.0",
         "0.0"
        ],
        [
         "9",
         "mfeat-karhunen",
         "1.0",
         "1.0",
         "1.0",
         "1.0",
         "1.0",
         "0.0"
        ],
        [
         "10",
         "mfeat-zernike",
         "1.0",
         "1.0",
         "1.0",
         "1.0",
         "1.0",
         "0.0"
        ],
        [
         "11",
         "nomao",
         "1.0",
         "1.0",
         "1.0",
         "1.0",
         "1.0",
         "0.0"
        ],
        [
         "12",
         "optdigits",
         "1.0",
         "1.0",
         "1.0",
         "1.0",
         "1.0",
         "0.0"
        ],
        [
         "13",
         "pendigits",
         "1.0",
         "1.0",
         "1.0",
         "1.0",
         "1.0",
         "0.0"
        ],
        [
         "14",
         "phoneme",
         "1.0",
         "1.0",
         "1.0",
         "1.0",
         "1.0",
         "0.0"
        ],
        [
         "15",
         "qsar-biodeg",
         "1.0",
         "1.0",
         "1.0",
         "1.0",
         "1.0",
         "0.0"
        ],
        [
         "16",
         "satimage",
         "1.0",
         "1.0",
         "1.0",
         "1.0",
         "1.0",
         "0.0"
        ],
        [
         "17",
         "semeion",
         "0.9230769230769231",
         "0.721311475409836",
         "1.0",
         "0.8461538461538461",
         "0.9166666666666666",
         "0.15384615384615385"
        ],
        [
         "18",
         "spambase",
         "1.0",
         "1.0",
         "1.0",
         "1.0",
         "1.0",
         "0.0"
        ],
        [
         "19",
         "wall-robot-navigation",
         "1.0",
         "1.0",
         "1.0",
         "1.0",
         "1.0",
         "0.0"
        ],
        [
         "20",
         "wdbc",
         "1.0",
         "1.0",
         "1.0",
         "1.0",
         "1.0",
         "0.0"
        ],
        [
         "21",
         "wilt",
         "0.8365384615384616",
         "0.6730769230769231",
         "0.9230769230769231",
         "0.9230769230769231",
         "0.9230769230769231",
         "0.07692307692307693"
        ]
       ],
       "shape": {
        "columns": 7,
        "rows": 22
       }
      },
      "text/html": [
       "<div>\n",
       "<style scoped>\n",
       "    .dataframe tbody tr th:only-of-type {\n",
       "        vertical-align: middle;\n",
       "    }\n",
       "\n",
       "    .dataframe tbody tr th {\n",
       "        vertical-align: top;\n",
       "    }\n",
       "\n",
       "    .dataframe thead th {\n",
       "        text-align: right;\n",
       "    }\n",
       "</style>\n",
       "<table border=\"1\" class=\"dataframe\">\n",
       "  <thead>\n",
       "    <tr style=\"text-align: right;\">\n",
       "      <th></th>\n",
       "      <th>dataset</th>\n",
       "      <th>bacc</th>\n",
       "      <th>kappa</th>\n",
       "      <th>precision</th>\n",
       "      <th>recall</th>\n",
       "      <th>f1</th>\n",
       "      <th>fnr</th>\n",
       "    </tr>\n",
       "  </thead>\n",
       "  <tbody>\n",
       "    <tr>\n",
       "      <th>0</th>\n",
       "      <td>Bioresponse</td>\n",
       "      <td>0.923077</td>\n",
       "      <td>0.721311</td>\n",
       "      <td>1.000000</td>\n",
       "      <td>0.846154</td>\n",
       "      <td>0.916667</td>\n",
       "      <td>0.153846</td>\n",
       "    </tr>\n",
       "    <tr>\n",
       "      <th>1</th>\n",
       "      <td>churn</td>\n",
       "      <td>1.000000</td>\n",
       "      <td>1.000000</td>\n",
       "      <td>1.000000</td>\n",
       "      <td>1.000000</td>\n",
       "      <td>1.000000</td>\n",
       "      <td>0.000000</td>\n",
       "    </tr>\n",
       "    <tr>\n",
       "      <th>2</th>\n",
       "      <td>cmc</td>\n",
       "      <td>1.000000</td>\n",
       "      <td>1.000000</td>\n",
       "      <td>1.000000</td>\n",
       "      <td>1.000000</td>\n",
       "      <td>1.000000</td>\n",
       "      <td>0.000000</td>\n",
       "    </tr>\n",
       "    <tr>\n",
       "      <th>3</th>\n",
       "      <td>cnae-9</td>\n",
       "      <td>0.961538</td>\n",
       "      <td>0.849558</td>\n",
       "      <td>1.000000</td>\n",
       "      <td>0.923077</td>\n",
       "      <td>0.960000</td>\n",
       "      <td>0.076923</td>\n",
       "    </tr>\n",
       "    <tr>\n",
       "      <th>4</th>\n",
       "      <td>dna</td>\n",
       "      <td>0.961538</td>\n",
       "      <td>0.849558</td>\n",
       "      <td>1.000000</td>\n",
       "      <td>0.923077</td>\n",
       "      <td>0.960000</td>\n",
       "      <td>0.076923</td>\n",
       "    </tr>\n",
       "    <tr>\n",
       "      <th>5</th>\n",
       "      <td>har</td>\n",
       "      <td>1.000000</td>\n",
       "      <td>1.000000</td>\n",
       "      <td>1.000000</td>\n",
       "      <td>1.000000</td>\n",
       "      <td>1.000000</td>\n",
       "      <td>0.000000</td>\n",
       "    </tr>\n",
       "    <tr>\n",
       "      <th>6</th>\n",
       "      <td>madelon</td>\n",
       "      <td>0.500000</td>\n",
       "      <td>0.000000</td>\n",
       "      <td>0.750000</td>\n",
       "      <td>1.000000</td>\n",
       "      <td>0.857143</td>\n",
       "      <td>0.000000</td>\n",
       "    </tr>\n",
       "    <tr>\n",
       "      <th>7</th>\n",
       "      <td>mfeat-factors</td>\n",
       "      <td>1.000000</td>\n",
       "      <td>1.000000</td>\n",
       "      <td>1.000000</td>\n",
       "      <td>1.000000</td>\n",
       "      <td>1.000000</td>\n",
       "      <td>0.000000</td>\n",
       "    </tr>\n",
       "    <tr>\n",
       "      <th>8</th>\n",
       "      <td>mfeat-fourier</td>\n",
       "      <td>1.000000</td>\n",
       "      <td>1.000000</td>\n",
       "      <td>1.000000</td>\n",
       "      <td>1.000000</td>\n",
       "      <td>1.000000</td>\n",
       "      <td>0.000000</td>\n",
       "    </tr>\n",
       "    <tr>\n",
       "      <th>9</th>\n",
       "      <td>mfeat-karhunen</td>\n",
       "      <td>1.000000</td>\n",
       "      <td>1.000000</td>\n",
       "      <td>1.000000</td>\n",
       "      <td>1.000000</td>\n",
       "      <td>1.000000</td>\n",
       "      <td>0.000000</td>\n",
       "    </tr>\n",
       "    <tr>\n",
       "      <th>10</th>\n",
       "      <td>mfeat-zernike</td>\n",
       "      <td>1.000000</td>\n",
       "      <td>1.000000</td>\n",
       "      <td>1.000000</td>\n",
       "      <td>1.000000</td>\n",
       "      <td>1.000000</td>\n",
       "      <td>0.000000</td>\n",
       "    </tr>\n",
       "    <tr>\n",
       "      <th>11</th>\n",
       "      <td>nomao</td>\n",
       "      <td>1.000000</td>\n",
       "      <td>1.000000</td>\n",
       "      <td>1.000000</td>\n",
       "      <td>1.000000</td>\n",
       "      <td>1.000000</td>\n",
       "      <td>0.000000</td>\n",
       "    </tr>\n",
       "    <tr>\n",
       "      <th>12</th>\n",
       "      <td>optdigits</td>\n",
       "      <td>1.000000</td>\n",
       "      <td>1.000000</td>\n",
       "      <td>1.000000</td>\n",
       "      <td>1.000000</td>\n",
       "      <td>1.000000</td>\n",
       "      <td>0.000000</td>\n",
       "    </tr>\n",
       "    <tr>\n",
       "      <th>13</th>\n",
       "      <td>pendigits</td>\n",
       "      <td>1.000000</td>\n",
       "      <td>1.000000</td>\n",
       "      <td>1.000000</td>\n",
       "      <td>1.000000</td>\n",
       "      <td>1.000000</td>\n",
       "      <td>0.000000</td>\n",
       "    </tr>\n",
       "    <tr>\n",
       "      <th>14</th>\n",
       "      <td>phoneme</td>\n",
       "      <td>1.000000</td>\n",
       "      <td>1.000000</td>\n",
       "      <td>1.000000</td>\n",
       "      <td>1.000000</td>\n",
       "      <td>1.000000</td>\n",
       "      <td>0.000000</td>\n",
       "    </tr>\n",
       "    <tr>\n",
       "      <th>15</th>\n",
       "      <td>qsar-biodeg</td>\n",
       "      <td>1.000000</td>\n",
       "      <td>1.000000</td>\n",
       "      <td>1.000000</td>\n",
       "      <td>1.000000</td>\n",
       "      <td>1.000000</td>\n",
       "      <td>0.000000</td>\n",
       "    </tr>\n",
       "    <tr>\n",
       "      <th>16</th>\n",
       "      <td>satimage</td>\n",
       "      <td>1.000000</td>\n",
       "      <td>1.000000</td>\n",
       "      <td>1.000000</td>\n",
       "      <td>1.000000</td>\n",
       "      <td>1.000000</td>\n",
       "      <td>0.000000</td>\n",
       "    </tr>\n",
       "    <tr>\n",
       "      <th>17</th>\n",
       "      <td>semeion</td>\n",
       "      <td>0.923077</td>\n",
       "      <td>0.721311</td>\n",
       "      <td>1.000000</td>\n",
       "      <td>0.846154</td>\n",
       "      <td>0.916667</td>\n",
       "      <td>0.153846</td>\n",
       "    </tr>\n",
       "    <tr>\n",
       "      <th>18</th>\n",
       "      <td>spambase</td>\n",
       "      <td>1.000000</td>\n",
       "      <td>1.000000</td>\n",
       "      <td>1.000000</td>\n",
       "      <td>1.000000</td>\n",
       "      <td>1.000000</td>\n",
       "      <td>0.000000</td>\n",
       "    </tr>\n",
       "    <tr>\n",
       "      <th>19</th>\n",
       "      <td>wall-robot-navigation</td>\n",
       "      <td>1.000000</td>\n",
       "      <td>1.000000</td>\n",
       "      <td>1.000000</td>\n",
       "      <td>1.000000</td>\n",
       "      <td>1.000000</td>\n",
       "      <td>0.000000</td>\n",
       "    </tr>\n",
       "    <tr>\n",
       "      <th>20</th>\n",
       "      <td>wdbc</td>\n",
       "      <td>1.000000</td>\n",
       "      <td>1.000000</td>\n",
       "      <td>1.000000</td>\n",
       "      <td>1.000000</td>\n",
       "      <td>1.000000</td>\n",
       "      <td>0.000000</td>\n",
       "    </tr>\n",
       "    <tr>\n",
       "      <th>21</th>\n",
       "      <td>wilt</td>\n",
       "      <td>0.836538</td>\n",
       "      <td>0.673077</td>\n",
       "      <td>0.923077</td>\n",
       "      <td>0.923077</td>\n",
       "      <td>0.923077</td>\n",
       "      <td>0.076923</td>\n",
       "    </tr>\n",
       "  </tbody>\n",
       "</table>\n",
       "</div>"
      ],
      "text/plain": [
       "                  dataset      bacc     kappa  precision    recall        f1  \\\n",
       "0             Bioresponse  0.923077  0.721311   1.000000  0.846154  0.916667   \n",
       "1                   churn  1.000000  1.000000   1.000000  1.000000  1.000000   \n",
       "2                     cmc  1.000000  1.000000   1.000000  1.000000  1.000000   \n",
       "3                  cnae-9  0.961538  0.849558   1.000000  0.923077  0.960000   \n",
       "4                     dna  0.961538  0.849558   1.000000  0.923077  0.960000   \n",
       "5                     har  1.000000  1.000000   1.000000  1.000000  1.000000   \n",
       "6                 madelon  0.500000  0.000000   0.750000  1.000000  0.857143   \n",
       "7           mfeat-factors  1.000000  1.000000   1.000000  1.000000  1.000000   \n",
       "8           mfeat-fourier  1.000000  1.000000   1.000000  1.000000  1.000000   \n",
       "9          mfeat-karhunen  1.000000  1.000000   1.000000  1.000000  1.000000   \n",
       "10          mfeat-zernike  1.000000  1.000000   1.000000  1.000000  1.000000   \n",
       "11                  nomao  1.000000  1.000000   1.000000  1.000000  1.000000   \n",
       "12              optdigits  1.000000  1.000000   1.000000  1.000000  1.000000   \n",
       "13              pendigits  1.000000  1.000000   1.000000  1.000000  1.000000   \n",
       "14                phoneme  1.000000  1.000000   1.000000  1.000000  1.000000   \n",
       "15            qsar-biodeg  1.000000  1.000000   1.000000  1.000000  1.000000   \n",
       "16               satimage  1.000000  1.000000   1.000000  1.000000  1.000000   \n",
       "17                semeion  0.923077  0.721311   1.000000  0.846154  0.916667   \n",
       "18               spambase  1.000000  1.000000   1.000000  1.000000  1.000000   \n",
       "19  wall-robot-navigation  1.000000  1.000000   1.000000  1.000000  1.000000   \n",
       "20                   wdbc  1.000000  1.000000   1.000000  1.000000  1.000000   \n",
       "21                   wilt  0.836538  0.673077   0.923077  0.923077  0.923077   \n",
       "\n",
       "         fnr  \n",
       "0   0.153846  \n",
       "1   0.000000  \n",
       "2   0.000000  \n",
       "3   0.076923  \n",
       "4   0.076923  \n",
       "5   0.000000  \n",
       "6   0.000000  \n",
       "7   0.000000  \n",
       "8   0.000000  \n",
       "9   0.000000  \n",
       "10  0.000000  \n",
       "11  0.000000  \n",
       "12  0.000000  \n",
       "13  0.000000  \n",
       "14  0.000000  \n",
       "15  0.000000  \n",
       "16  0.000000  \n",
       "17  0.153846  \n",
       "18  0.000000  \n",
       "19  0.000000  \n",
       "20  0.000000  \n",
       "21  0.076923  "
      ]
     },
     "execution_count": 64,
     "metadata": {},
     "output_type": "execute_result"
    }
   ],
   "source": [
    "one_dataset_out_xgb, one_dataset_out_fi_xgb = leave_dataset_out()\n",
    "one_dataset_out_xgb"
   ]
  },
  {
   "cell_type": "code",
   "execution_count": 65,
   "metadata": {
    "collapsed": false
   },
   "outputs": [
    {
     "name": "stdout",
     "output_type": "stream",
     "text": [
      "\\begin{tabular}{lrrrrrr}\n",
      "\\toprule\n",
      "dataset & bacc & kappa & precision & recall & f1 & fnr \\\\\n",
      "\\midrule\n",
      "Bioresponse & 0.9 & 0.7 & 1.0 & 0.8 & 0.9 & 0.2 \\\\\n",
      "churn & 1.0 & 1.0 & 1.0 & 1.0 & 1.0 & 0.0 \\\\\n",
      "cmc & 1.0 & 1.0 & 1.0 & 1.0 & 1.0 & 0.0 \\\\\n",
      "cnae-9 & 1.0 & 0.8 & 1.0 & 0.9 & 1.0 & 0.1 \\\\\n",
      "dna & 1.0 & 0.8 & 1.0 & 0.9 & 1.0 & 0.1 \\\\\n",
      "har & 1.0 & 1.0 & 1.0 & 1.0 & 1.0 & 0.0 \\\\\n",
      "madelon & 0.5 & 0.0 & 0.8 & 1.0 & 0.9 & 0.0 \\\\\n",
      "mfeat-factors & 1.0 & 1.0 & 1.0 & 1.0 & 1.0 & 0.0 \\\\\n",
      "mfeat-fourier & 1.0 & 1.0 & 1.0 & 1.0 & 1.0 & 0.0 \\\\\n",
      "mfeat-karhunen & 1.0 & 1.0 & 1.0 & 1.0 & 1.0 & 0.0 \\\\\n",
      "mfeat-zernike & 1.0 & 1.0 & 1.0 & 1.0 & 1.0 & 0.0 \\\\\n",
      "nomao & 1.0 & 1.0 & 1.0 & 1.0 & 1.0 & 0.0 \\\\\n",
      "optdigits & 1.0 & 1.0 & 1.0 & 1.0 & 1.0 & 0.0 \\\\\n",
      "pendigits & 1.0 & 1.0 & 1.0 & 1.0 & 1.0 & 0.0 \\\\\n",
      "phoneme & 1.0 & 1.0 & 1.0 & 1.0 & 1.0 & 0.0 \\\\\n",
      "qsar-biodeg & 1.0 & 1.0 & 1.0 & 1.0 & 1.0 & 0.0 \\\\\n",
      "satimage & 1.0 & 1.0 & 1.0 & 1.0 & 1.0 & 0.0 \\\\\n",
      "semeion & 0.9 & 0.7 & 1.0 & 0.8 & 0.9 & 0.2 \\\\\n",
      "spambase & 1.0 & 1.0 & 1.0 & 1.0 & 1.0 & 0.0 \\\\\n",
      "wall-robot-navigation & 1.0 & 1.0 & 1.0 & 1.0 & 1.0 & 0.0 \\\\\n",
      "wdbc & 1.0 & 1.0 & 1.0 & 1.0 & 1.0 & 0.0 \\\\\n",
      "wilt & 0.8 & 0.7 & 0.9 & 0.9 & 0.9 & 0.1 \\\\\n",
      "\\bottomrule\n",
      "\\end{tabular}\n",
      "\n"
     ]
    }
   ],
   "source": [
    "print(one_dataset_out_xgb.to_latex(index=False,\n",
    "                  formatters={\"name\": str.upper},\n",
    "                  float_format=\"{:.1f}\".format,\n",
    "))"
   ]
  },
  {
   "cell_type": "markdown",
   "metadata": {},
   "source": [
    "### Hyperparameters tuning"
   ]
  },
  {
   "cell_type": "code",
   "execution_count": 66,
   "metadata": {},
   "outputs": [
    {
     "name": "stderr",
     "output_type": "stream",
     "text": [
      "100%|██████████| 22/22 [00:08<00:00,  2.74it/s]\n"
     ]
    },
    {
     "name": "stdout",
     "output_type": "stream",
     "text": [
      "kappa = 0.8861032471497832, params: {'max_depth': 6, 'learning_rate': 0.1, 'n_estimators': 100}\n"
     ]
    },
    {
     "name": "stderr",
     "output_type": "stream",
     "text": [
      "100%|██████████| 22/22 [00:16<00:00,  1.30it/s]\n"
     ]
    },
    {
     "name": "stdout",
     "output_type": "stream",
     "text": [
      "kappa = 0.9006734053701991, params: {'max_depth': 6, 'learning_rate': 0.1, 'n_estimators': 200}\n"
     ]
    },
    {
     "name": "stderr",
     "output_type": "stream",
     "text": [
      "100%|██████████| 22/22 [00:27<00:00,  1.25s/it]\n"
     ]
    },
    {
     "name": "stdout",
     "output_type": "stream",
     "text": [
      "kappa = 0.8938351109212853, params: {'max_depth': 6, 'learning_rate': 0.1, 'n_estimators': 500}\n"
     ]
    },
    {
     "name": "stderr",
     "output_type": "stream",
     "text": [
      "100%|██████████| 22/22 [00:05<00:00,  3.75it/s]\n"
     ]
    },
    {
     "name": "stdout",
     "output_type": "stream",
     "text": [
      "kappa = 0.9006734053701991, params: {'max_depth': 6, 'learning_rate': 0.3, 'n_estimators': 100}\n"
     ]
    },
    {
     "name": "stderr",
     "output_type": "stream",
     "text": [
      "100%|██████████| 22/22 [00:07<00:00,  2.78it/s]\n"
     ]
    },
    {
     "name": "stdout",
     "output_type": "stream",
     "text": [
      "kappa = 0.8938351109212853, params: {'max_depth': 6, 'learning_rate': 0.3, 'n_estimators': 200}\n"
     ]
    },
    {
     "name": "stderr",
     "output_type": "stream",
     "text": [
      "100%|██████████| 22/22 [00:12<00:00,  1.71it/s]\n"
     ]
    },
    {
     "name": "stdout",
     "output_type": "stream",
     "text": [
      "kappa = 0.9006734053701991, params: {'max_depth': 6, 'learning_rate': 0.3, 'n_estimators': 500}\n"
     ]
    },
    {
     "name": "stderr",
     "output_type": "stream",
     "text": [
      "100%|██████████| 22/22 [00:03<00:00,  6.77it/s]\n"
     ]
    },
    {
     "name": "stdout",
     "output_type": "stream",
     "text": [
      "kappa = 0.8996644766810152, params: {'max_depth': 6, 'learning_rate': 0.5, 'n_estimators': 100}\n"
     ]
    },
    {
     "name": "stderr",
     "output_type": "stream",
     "text": [
      "100%|██████████| 22/22 [00:05<00:00,  4.30it/s]\n"
     ]
    },
    {
     "name": "stdout",
     "output_type": "stream",
     "text": [
      "kappa = 0.8996644766810152, params: {'max_depth': 6, 'learning_rate': 0.5, 'n_estimators': 200}\n"
     ]
    },
    {
     "name": "stderr",
     "output_type": "stream",
     "text": [
      "100%|██████████| 22/22 [00:11<00:00,  1.92it/s]\n"
     ]
    },
    {
     "name": "stdout",
     "output_type": "stream",
     "text": [
      "kappa = 0.8996644766810152, params: {'max_depth': 6, 'learning_rate': 0.5, 'n_estimators': 500}\n"
     ]
    },
    {
     "name": "stderr",
     "output_type": "stream",
     "text": [
      "100%|██████████| 22/22 [00:06<00:00,  3.56it/s]\n"
     ]
    },
    {
     "name": "stdout",
     "output_type": "stream",
     "text": [
      "kappa = 0.8861032471497832, params: {'max_depth': 9, 'learning_rate': 0.1, 'n_estimators': 100}\n"
     ]
    },
    {
     "name": "stderr",
     "output_type": "stream",
     "text": [
      "100%|██████████| 22/22 [00:11<00:00,  2.00it/s]\n"
     ]
    },
    {
     "name": "stdout",
     "output_type": "stream",
     "text": [
      "kappa = 0.9006734053701991, params: {'max_depth': 9, 'learning_rate': 0.1, 'n_estimators': 200}\n"
     ]
    },
    {
     "name": "stderr",
     "output_type": "stream",
     "text": [
      "100%|██████████| 22/22 [00:32<00:00,  1.49s/it]\n"
     ]
    },
    {
     "name": "stdout",
     "output_type": "stream",
     "text": [
      "kappa = 0.8938351109212853, params: {'max_depth': 9, 'learning_rate': 0.1, 'n_estimators': 500}\n"
     ]
    },
    {
     "name": "stderr",
     "output_type": "stream",
     "text": [
      "100%|██████████| 22/22 [00:08<00:00,  2.46it/s]\n"
     ]
    },
    {
     "name": "stdout",
     "output_type": "stream",
     "text": [
      "kappa = 0.9006734053701991, params: {'max_depth': 9, 'learning_rate': 0.3, 'n_estimators': 100}\n"
     ]
    },
    {
     "name": "stderr",
     "output_type": "stream",
     "text": [
      "100%|██████████| 22/22 [00:09<00:00,  2.28it/s]\n"
     ]
    },
    {
     "name": "stdout",
     "output_type": "stream",
     "text": [
      "kappa = 0.8938351109212853, params: {'max_depth': 9, 'learning_rate': 0.3, 'n_estimators': 200}\n"
     ]
    },
    {
     "name": "stderr",
     "output_type": "stream",
     "text": [
      "100%|██████████| 22/22 [00:15<00:00,  1.39it/s]\n"
     ]
    },
    {
     "name": "stdout",
     "output_type": "stream",
     "text": [
      "kappa = 0.9006734053701991, params: {'max_depth': 9, 'learning_rate': 0.3, 'n_estimators': 500}\n"
     ]
    },
    {
     "name": "stderr",
     "output_type": "stream",
     "text": [
      "100%|██████████| 22/22 [00:04<00:00,  5.23it/s]\n"
     ]
    },
    {
     "name": "stdout",
     "output_type": "stream",
     "text": [
      "kappa = 0.8996644766810152, params: {'max_depth': 9, 'learning_rate': 0.5, 'n_estimators': 100}\n"
     ]
    },
    {
     "name": "stderr",
     "output_type": "stream",
     "text": [
      "100%|██████████| 22/22 [00:06<00:00,  3.50it/s]\n"
     ]
    },
    {
     "name": "stdout",
     "output_type": "stream",
     "text": [
      "kappa = 0.8996644766810152, params: {'max_depth': 9, 'learning_rate': 0.5, 'n_estimators': 200}\n"
     ]
    },
    {
     "name": "stderr",
     "output_type": "stream",
     "text": [
      "100%|██████████| 22/22 [00:13<00:00,  1.59it/s]\n"
     ]
    },
    {
     "name": "stdout",
     "output_type": "stream",
     "text": [
      "kappa = 0.8996644766810152, params: {'max_depth': 9, 'learning_rate': 0.5, 'n_estimators': 500}\n"
     ]
    },
    {
     "name": "stderr",
     "output_type": "stream",
     "text": [
      "100%|██████████| 22/22 [00:05<00:00,  3.83it/s]\n"
     ]
    },
    {
     "name": "stdout",
     "output_type": "stream",
     "text": [
      "kappa = 0.8861032471497832, params: {'max_depth': 12, 'learning_rate': 0.1, 'n_estimators': 100}\n"
     ]
    },
    {
     "name": "stderr",
     "output_type": "stream",
     "text": [
      "100%|██████████| 22/22 [00:08<00:00,  2.48it/s]\n"
     ]
    },
    {
     "name": "stdout",
     "output_type": "stream",
     "text": [
      "kappa = 0.9006734053701991, params: {'max_depth': 12, 'learning_rate': 0.1, 'n_estimators': 200}\n"
     ]
    },
    {
     "name": "stderr",
     "output_type": "stream",
     "text": [
      "100%|██████████| 22/22 [00:17<00:00,  1.26it/s]\n"
     ]
    },
    {
     "name": "stdout",
     "output_type": "stream",
     "text": [
      "kappa = 0.8938351109212853, params: {'max_depth': 12, 'learning_rate': 0.1, 'n_estimators': 500}\n"
     ]
    },
    {
     "name": "stderr",
     "output_type": "stream",
     "text": [
      "100%|██████████| 22/22 [00:06<00:00,  3.60it/s]\n"
     ]
    },
    {
     "name": "stdout",
     "output_type": "stream",
     "text": [
      "kappa = 0.9006734053701991, params: {'max_depth': 12, 'learning_rate': 0.3, 'n_estimators': 100}\n"
     ]
    },
    {
     "name": "stderr",
     "output_type": "stream",
     "text": [
      "100%|██████████| 22/22 [00:11<00:00,  1.93it/s]\n"
     ]
    },
    {
     "name": "stdout",
     "output_type": "stream",
     "text": [
      "kappa = 0.8938351109212853, params: {'max_depth': 12, 'learning_rate': 0.3, 'n_estimators': 200}\n"
     ]
    },
    {
     "name": "stderr",
     "output_type": "stream",
     "text": [
      "100%|██████████| 22/22 [00:22<00:00,  1.02s/it]\n"
     ]
    },
    {
     "name": "stdout",
     "output_type": "stream",
     "text": [
      "kappa = 0.9006734053701991, params: {'max_depth': 12, 'learning_rate': 0.3, 'n_estimators': 500}\n"
     ]
    },
    {
     "name": "stderr",
     "output_type": "stream",
     "text": [
      "100%|██████████| 22/22 [00:06<00:00,  3.36it/s]\n"
     ]
    },
    {
     "name": "stdout",
     "output_type": "stream",
     "text": [
      "kappa = 0.8996644766810152, params: {'max_depth': 12, 'learning_rate': 0.5, 'n_estimators': 100}\n"
     ]
    },
    {
     "name": "stderr",
     "output_type": "stream",
     "text": [
      "100%|██████████| 22/22 [00:07<00:00,  2.98it/s]\n"
     ]
    },
    {
     "name": "stdout",
     "output_type": "stream",
     "text": [
      "kappa = 0.8996644766810152, params: {'max_depth': 12, 'learning_rate': 0.5, 'n_estimators': 200}\n"
     ]
    },
    {
     "name": "stderr",
     "output_type": "stream",
     "text": [
      "100%|██████████| 22/22 [00:13<00:00,  1.68it/s]"
     ]
    },
    {
     "name": "stdout",
     "output_type": "stream",
     "text": [
      "kappa = 0.8996644766810152, params: {'max_depth': 12, 'learning_rate': 0.5, 'n_estimators': 500}\n",
      "Params: {'max_depth': 6, 'learning_rate': 0.1, 'n_estimators': 200} give best kappa equal 0.9006734053701991\n"
     ]
    },
    {
     "name": "stderr",
     "output_type": "stream",
     "text": [
      "\n"
     ]
    },
    {
     "data": {
      "application/vnd.microsoft.datawrangler.viewer.v0+json": {
       "columns": [
        {
         "name": "index",
         "rawType": "int64",
         "type": "integer"
        },
        {
         "name": "dataset",
         "rawType": "object",
         "type": "string"
        },
        {
         "name": "bacc",
         "rawType": "float64",
         "type": "float"
        },
        {
         "name": "kappa",
         "rawType": "float64",
         "type": "float"
        },
        {
         "name": "precision",
         "rawType": "float64",
         "type": "float"
        },
        {
         "name": "recall",
         "rawType": "float64",
         "type": "float"
        },
        {
         "name": "f1",
         "rawType": "float64",
         "type": "float"
        },
        {
         "name": "fnr",
         "rawType": "float64",
         "type": "float"
        }
       ],
       "ref": "5e035c65-47fe-4c6b-92e5-3dca1b5fcfeb",
       "rows": [
        [
         "0",
         "Bioresponse",
         "0.9230769230769231",
         "0.721311475409836",
         "1.0",
         "0.8461538461538461",
         "0.9166666666666666",
         "0.15384615384615385"
        ],
        [
         "1",
         "churn",
         "1.0",
         "1.0",
         "1.0",
         "1.0",
         "1.0",
         "0.0"
        ],
        [
         "2",
         "cmc",
         "1.0",
         "1.0",
         "1.0",
         "1.0",
         "1.0",
         "0.0"
        ],
        [
         "3",
         "cnae-9",
         "0.9615384615384616",
         "0.8495575221238938",
         "1.0",
         "0.9230769230769231",
         "0.96",
         "0.07692307692307693"
        ],
        [
         "4",
         "dna",
         "0.9615384615384616",
         "0.8495575221238938",
         "1.0",
         "0.9230769230769231",
         "0.96",
         "0.07692307692307693"
        ],
        [
         "5",
         "har",
         "1.0",
         "1.0",
         "1.0",
         "1.0",
         "1.0",
         "0.0"
        ],
        [
         "6",
         "madelon",
         "0.5",
         "0.0",
         "0.75",
         "1.0",
         "0.8571428571428571",
         "0.0"
        ],
        [
         "7",
         "mfeat-factors",
         "1.0",
         "1.0",
         "1.0",
         "1.0",
         "1.0",
         "0.0"
        ],
        [
         "8",
         "mfeat-fourier",
         "1.0",
         "1.0",
         "1.0",
         "1.0",
         "1.0",
         "0.0"
        ],
        [
         "9",
         "mfeat-karhunen",
         "1.0",
         "1.0",
         "1.0",
         "1.0",
         "1.0",
         "0.0"
        ],
        [
         "10",
         "mfeat-zernike",
         "1.0",
         "1.0",
         "1.0",
         "1.0",
         "1.0",
         "0.0"
        ],
        [
         "11",
         "nomao",
         "1.0",
         "1.0",
         "1.0",
         "1.0",
         "1.0",
         "0.0"
        ],
        [
         "12",
         "optdigits",
         "1.0",
         "1.0",
         "1.0",
         "1.0",
         "1.0",
         "0.0"
        ],
        [
         "13",
         "pendigits",
         "1.0",
         "1.0",
         "1.0",
         "1.0",
         "1.0",
         "0.0"
        ],
        [
         "14",
         "phoneme",
         "1.0",
         "1.0",
         "1.0",
         "1.0",
         "1.0",
         "0.0"
        ],
        [
         "15",
         "qsar-biodeg",
         "1.0",
         "1.0",
         "1.0",
         "1.0",
         "1.0",
         "0.0"
        ],
        [
         "16",
         "satimage",
         "1.0",
         "1.0",
         "1.0",
         "1.0",
         "1.0",
         "0.0"
        ],
        [
         "17",
         "semeion",
         "0.9230769230769231",
         "0.721311475409836",
         "1.0",
         "0.8461538461538461",
         "0.9166666666666666",
         "0.15384615384615385"
        ],
        [
         "18",
         "spambase",
         "1.0",
         "1.0",
         "1.0",
         "1.0",
         "1.0",
         "0.0"
        ],
        [
         "19",
         "wall-robot-navigation",
         "1.0",
         "1.0",
         "1.0",
         "1.0",
         "1.0",
         "0.0"
        ],
        [
         "20",
         "wdbc",
         "1.0",
         "1.0",
         "1.0",
         "1.0",
         "1.0",
         "0.0"
        ],
        [
         "21",
         "wilt",
         "0.8365384615384616",
         "0.6730769230769231",
         "0.9230769230769231",
         "0.9230769230769231",
         "0.9230769230769231",
         "0.07692307692307693"
        ]
       ],
       "shape": {
        "columns": 7,
        "rows": 22
       }
      },
      "text/html": [
       "<div>\n",
       "<style scoped>\n",
       "    .dataframe tbody tr th:only-of-type {\n",
       "        vertical-align: middle;\n",
       "    }\n",
       "\n",
       "    .dataframe tbody tr th {\n",
       "        vertical-align: top;\n",
       "    }\n",
       "\n",
       "    .dataframe thead th {\n",
       "        text-align: right;\n",
       "    }\n",
       "</style>\n",
       "<table border=\"1\" class=\"dataframe\">\n",
       "  <thead>\n",
       "    <tr style=\"text-align: right;\">\n",
       "      <th></th>\n",
       "      <th>dataset</th>\n",
       "      <th>bacc</th>\n",
       "      <th>kappa</th>\n",
       "      <th>precision</th>\n",
       "      <th>recall</th>\n",
       "      <th>f1</th>\n",
       "      <th>fnr</th>\n",
       "    </tr>\n",
       "  </thead>\n",
       "  <tbody>\n",
       "    <tr>\n",
       "      <th>0</th>\n",
       "      <td>Bioresponse</td>\n",
       "      <td>0.923077</td>\n",
       "      <td>0.721311</td>\n",
       "      <td>1.000000</td>\n",
       "      <td>0.846154</td>\n",
       "      <td>0.916667</td>\n",
       "      <td>0.153846</td>\n",
       "    </tr>\n",
       "    <tr>\n",
       "      <th>1</th>\n",
       "      <td>churn</td>\n",
       "      <td>1.000000</td>\n",
       "      <td>1.000000</td>\n",
       "      <td>1.000000</td>\n",
       "      <td>1.000000</td>\n",
       "      <td>1.000000</td>\n",
       "      <td>0.000000</td>\n",
       "    </tr>\n",
       "    <tr>\n",
       "      <th>2</th>\n",
       "      <td>cmc</td>\n",
       "      <td>1.000000</td>\n",
       "      <td>1.000000</td>\n",
       "      <td>1.000000</td>\n",
       "      <td>1.000000</td>\n",
       "      <td>1.000000</td>\n",
       "      <td>0.000000</td>\n",
       "    </tr>\n",
       "    <tr>\n",
       "      <th>3</th>\n",
       "      <td>cnae-9</td>\n",
       "      <td>0.961538</td>\n",
       "      <td>0.849558</td>\n",
       "      <td>1.000000</td>\n",
       "      <td>0.923077</td>\n",
       "      <td>0.960000</td>\n",
       "      <td>0.076923</td>\n",
       "    </tr>\n",
       "    <tr>\n",
       "      <th>4</th>\n",
       "      <td>dna</td>\n",
       "      <td>0.961538</td>\n",
       "      <td>0.849558</td>\n",
       "      <td>1.000000</td>\n",
       "      <td>0.923077</td>\n",
       "      <td>0.960000</td>\n",
       "      <td>0.076923</td>\n",
       "    </tr>\n",
       "    <tr>\n",
       "      <th>5</th>\n",
       "      <td>har</td>\n",
       "      <td>1.000000</td>\n",
       "      <td>1.000000</td>\n",
       "      <td>1.000000</td>\n",
       "      <td>1.000000</td>\n",
       "      <td>1.000000</td>\n",
       "      <td>0.000000</td>\n",
       "    </tr>\n",
       "    <tr>\n",
       "      <th>6</th>\n",
       "      <td>madelon</td>\n",
       "      <td>0.500000</td>\n",
       "      <td>0.000000</td>\n",
       "      <td>0.750000</td>\n",
       "      <td>1.000000</td>\n",
       "      <td>0.857143</td>\n",
       "      <td>0.000000</td>\n",
       "    </tr>\n",
       "    <tr>\n",
       "      <th>7</th>\n",
       "      <td>mfeat-factors</td>\n",
       "      <td>1.000000</td>\n",
       "      <td>1.000000</td>\n",
       "      <td>1.000000</td>\n",
       "      <td>1.000000</td>\n",
       "      <td>1.000000</td>\n",
       "      <td>0.000000</td>\n",
       "    </tr>\n",
       "    <tr>\n",
       "      <th>8</th>\n",
       "      <td>mfeat-fourier</td>\n",
       "      <td>1.000000</td>\n",
       "      <td>1.000000</td>\n",
       "      <td>1.000000</td>\n",
       "      <td>1.000000</td>\n",
       "      <td>1.000000</td>\n",
       "      <td>0.000000</td>\n",
       "    </tr>\n",
       "    <tr>\n",
       "      <th>9</th>\n",
       "      <td>mfeat-karhunen</td>\n",
       "      <td>1.000000</td>\n",
       "      <td>1.000000</td>\n",
       "      <td>1.000000</td>\n",
       "      <td>1.000000</td>\n",
       "      <td>1.000000</td>\n",
       "      <td>0.000000</td>\n",
       "    </tr>\n",
       "    <tr>\n",
       "      <th>10</th>\n",
       "      <td>mfeat-zernike</td>\n",
       "      <td>1.000000</td>\n",
       "      <td>1.000000</td>\n",
       "      <td>1.000000</td>\n",
       "      <td>1.000000</td>\n",
       "      <td>1.000000</td>\n",
       "      <td>0.000000</td>\n",
       "    </tr>\n",
       "    <tr>\n",
       "      <th>11</th>\n",
       "      <td>nomao</td>\n",
       "      <td>1.000000</td>\n",
       "      <td>1.000000</td>\n",
       "      <td>1.000000</td>\n",
       "      <td>1.000000</td>\n",
       "      <td>1.000000</td>\n",
       "      <td>0.000000</td>\n",
       "    </tr>\n",
       "    <tr>\n",
       "      <th>12</th>\n",
       "      <td>optdigits</td>\n",
       "      <td>1.000000</td>\n",
       "      <td>1.000000</td>\n",
       "      <td>1.000000</td>\n",
       "      <td>1.000000</td>\n",
       "      <td>1.000000</td>\n",
       "      <td>0.000000</td>\n",
       "    </tr>\n",
       "    <tr>\n",
       "      <th>13</th>\n",
       "      <td>pendigits</td>\n",
       "      <td>1.000000</td>\n",
       "      <td>1.000000</td>\n",
       "      <td>1.000000</td>\n",
       "      <td>1.000000</td>\n",
       "      <td>1.000000</td>\n",
       "      <td>0.000000</td>\n",
       "    </tr>\n",
       "    <tr>\n",
       "      <th>14</th>\n",
       "      <td>phoneme</td>\n",
       "      <td>1.000000</td>\n",
       "      <td>1.000000</td>\n",
       "      <td>1.000000</td>\n",
       "      <td>1.000000</td>\n",
       "      <td>1.000000</td>\n",
       "      <td>0.000000</td>\n",
       "    </tr>\n",
       "    <tr>\n",
       "      <th>15</th>\n",
       "      <td>qsar-biodeg</td>\n",
       "      <td>1.000000</td>\n",
       "      <td>1.000000</td>\n",
       "      <td>1.000000</td>\n",
       "      <td>1.000000</td>\n",
       "      <td>1.000000</td>\n",
       "      <td>0.000000</td>\n",
       "    </tr>\n",
       "    <tr>\n",
       "      <th>16</th>\n",
       "      <td>satimage</td>\n",
       "      <td>1.000000</td>\n",
       "      <td>1.000000</td>\n",
       "      <td>1.000000</td>\n",
       "      <td>1.000000</td>\n",
       "      <td>1.000000</td>\n",
       "      <td>0.000000</td>\n",
       "    </tr>\n",
       "    <tr>\n",
       "      <th>17</th>\n",
       "      <td>semeion</td>\n",
       "      <td>0.923077</td>\n",
       "      <td>0.721311</td>\n",
       "      <td>1.000000</td>\n",
       "      <td>0.846154</td>\n",
       "      <td>0.916667</td>\n",
       "      <td>0.153846</td>\n",
       "    </tr>\n",
       "    <tr>\n",
       "      <th>18</th>\n",
       "      <td>spambase</td>\n",
       "      <td>1.000000</td>\n",
       "      <td>1.000000</td>\n",
       "      <td>1.000000</td>\n",
       "      <td>1.000000</td>\n",
       "      <td>1.000000</td>\n",
       "      <td>0.000000</td>\n",
       "    </tr>\n",
       "    <tr>\n",
       "      <th>19</th>\n",
       "      <td>wall-robot-navigation</td>\n",
       "      <td>1.000000</td>\n",
       "      <td>1.000000</td>\n",
       "      <td>1.000000</td>\n",
       "      <td>1.000000</td>\n",
       "      <td>1.000000</td>\n",
       "      <td>0.000000</td>\n",
       "    </tr>\n",
       "    <tr>\n",
       "      <th>20</th>\n",
       "      <td>wdbc</td>\n",
       "      <td>1.000000</td>\n",
       "      <td>1.000000</td>\n",
       "      <td>1.000000</td>\n",
       "      <td>1.000000</td>\n",
       "      <td>1.000000</td>\n",
       "      <td>0.000000</td>\n",
       "    </tr>\n",
       "    <tr>\n",
       "      <th>21</th>\n",
       "      <td>wilt</td>\n",
       "      <td>0.836538</td>\n",
       "      <td>0.673077</td>\n",
       "      <td>0.923077</td>\n",
       "      <td>0.923077</td>\n",
       "      <td>0.923077</td>\n",
       "      <td>0.076923</td>\n",
       "    </tr>\n",
       "  </tbody>\n",
       "</table>\n",
       "</div>"
      ],
      "text/plain": [
       "                  dataset      bacc     kappa  precision    recall        f1  \\\n",
       "0             Bioresponse  0.923077  0.721311   1.000000  0.846154  0.916667   \n",
       "1                   churn  1.000000  1.000000   1.000000  1.000000  1.000000   \n",
       "2                     cmc  1.000000  1.000000   1.000000  1.000000  1.000000   \n",
       "3                  cnae-9  0.961538  0.849558   1.000000  0.923077  0.960000   \n",
       "4                     dna  0.961538  0.849558   1.000000  0.923077  0.960000   \n",
       "5                     har  1.000000  1.000000   1.000000  1.000000  1.000000   \n",
       "6                 madelon  0.500000  0.000000   0.750000  1.000000  0.857143   \n",
       "7           mfeat-factors  1.000000  1.000000   1.000000  1.000000  1.000000   \n",
       "8           mfeat-fourier  1.000000  1.000000   1.000000  1.000000  1.000000   \n",
       "9          mfeat-karhunen  1.000000  1.000000   1.000000  1.000000  1.000000   \n",
       "10          mfeat-zernike  1.000000  1.000000   1.000000  1.000000  1.000000   \n",
       "11                  nomao  1.000000  1.000000   1.000000  1.000000  1.000000   \n",
       "12              optdigits  1.000000  1.000000   1.000000  1.000000  1.000000   \n",
       "13              pendigits  1.000000  1.000000   1.000000  1.000000  1.000000   \n",
       "14                phoneme  1.000000  1.000000   1.000000  1.000000  1.000000   \n",
       "15            qsar-biodeg  1.000000  1.000000   1.000000  1.000000  1.000000   \n",
       "16               satimage  1.000000  1.000000   1.000000  1.000000  1.000000   \n",
       "17                semeion  0.923077  0.721311   1.000000  0.846154  0.916667   \n",
       "18               spambase  1.000000  1.000000   1.000000  1.000000  1.000000   \n",
       "19  wall-robot-navigation  1.000000  1.000000   1.000000  1.000000  1.000000   \n",
       "20                   wdbc  1.000000  1.000000   1.000000  1.000000  1.000000   \n",
       "21                   wilt  0.836538  0.673077   0.923077  0.923077  0.923077   \n",
       "\n",
       "         fnr  \n",
       "0   0.153846  \n",
       "1   0.000000  \n",
       "2   0.000000  \n",
       "3   0.076923  \n",
       "4   0.076923  \n",
       "5   0.000000  \n",
       "6   0.000000  \n",
       "7   0.000000  \n",
       "8   0.000000  \n",
       "9   0.000000  \n",
       "10  0.000000  \n",
       "11  0.000000  \n",
       "12  0.000000  \n",
       "13  0.000000  \n",
       "14  0.000000  \n",
       "15  0.000000  \n",
       "16  0.000000  \n",
       "17  0.153846  \n",
       "18  0.000000  \n",
       "19  0.000000  \n",
       "20  0.000000  \n",
       "21  0.076923  "
      ]
     },
     "execution_count": 66,
     "metadata": {},
     "output_type": "execute_result"
    }
   ],
   "source": [
    "model=xgb.XGBClassifier(random_state=123)\n",
    "\n",
    "param_grid = {\n",
    "    'max_depth': [6, 9, 12],\n",
    "    'learning_rate': [0.1, 0.3, 0.5],\n",
    "    'n_estimators': [100, 200, 500]\n",
    "}\n",
    "\n",
    "one_dataset_out_xgb, one_dataset_out_fi_xgb = create_hyperparams_grid(model=model, param_grid=param_grid, exp_function=leave_dataset_out, crit=\"kappa\")\n",
    "one_dataset_out_xgb"
   ]
  },
  {
   "cell_type": "code",
   "execution_count": 67,
   "metadata": {},
   "outputs": [
    {
     "data": {
      "application/vnd.microsoft.datawrangler.viewer.v0+json": {
       "columns": [
        {
         "name": "index",
         "rawType": "object",
         "type": "string"
        },
        {
         "name": "bacc",
         "rawType": "float64",
         "type": "float"
        },
        {
         "name": "precision",
         "rawType": "float64",
         "type": "float"
        },
        {
         "name": "recall",
         "rawType": "float64",
         "type": "float"
        },
        {
         "name": "f1",
         "rawType": "float64",
         "type": "float"
        },
        {
         "name": "fnr",
         "rawType": "float64",
         "type": "float"
        }
       ],
       "ref": "af5a30a8-34fb-4cf2-8d4e-0d3fa91f68d1",
       "rows": [
        [
         "mean",
         "0.96",
         "0.99",
         "0.98",
         "0.98",
         "0.02"
        ],
        [
         "std",
         "0.11",
         "0.06",
         "0.05",
         "0.04",
         "0.05"
        ]
       ],
       "shape": {
        "columns": 5,
        "rows": 2
       }
      },
      "text/html": [
       "<div>\n",
       "<style scoped>\n",
       "    .dataframe tbody tr th:only-of-type {\n",
       "        vertical-align: middle;\n",
       "    }\n",
       "\n",
       "    .dataframe tbody tr th {\n",
       "        vertical-align: top;\n",
       "    }\n",
       "\n",
       "    .dataframe thead th {\n",
       "        text-align: right;\n",
       "    }\n",
       "</style>\n",
       "<table border=\"1\" class=\"dataframe\">\n",
       "  <thead>\n",
       "    <tr style=\"text-align: right;\">\n",
       "      <th></th>\n",
       "      <th>bacc</th>\n",
       "      <th>precision</th>\n",
       "      <th>recall</th>\n",
       "      <th>f1</th>\n",
       "      <th>fnr</th>\n",
       "    </tr>\n",
       "  </thead>\n",
       "  <tbody>\n",
       "    <tr>\n",
       "      <th>mean</th>\n",
       "      <td>0.96</td>\n",
       "      <td>0.99</td>\n",
       "      <td>0.98</td>\n",
       "      <td>0.98</td>\n",
       "      <td>0.02</td>\n",
       "    </tr>\n",
       "    <tr>\n",
       "      <th>std</th>\n",
       "      <td>0.11</td>\n",
       "      <td>0.06</td>\n",
       "      <td>0.05</td>\n",
       "      <td>0.04</td>\n",
       "      <td>0.05</td>\n",
       "    </tr>\n",
       "  </tbody>\n",
       "</table>\n",
       "</div>"
      ],
      "text/plain": [
       "      bacc  precision  recall    f1   fnr\n",
       "mean  0.96       0.99    0.98  0.98  0.02\n",
       "std   0.11       0.06    0.05  0.04  0.05"
      ]
     },
     "execution_count": 67,
     "metadata": {},
     "output_type": "execute_result"
    }
   ],
   "source": [
    "one_dataset_out_xgb[[\"bacc\", \"precision\", \"recall\", \"f1\", \"fnr\"]].agg(['mean', 'std']).round(2)"
   ]
  },
  {
   "cell_type": "code",
   "execution_count": 68,
   "metadata": {},
   "outputs": [
    {
     "name": "stdout",
     "output_type": "stream",
     "text": [
      "\\begin{tabular}{lllll}\n",
      "\\toprule\n",
      "bacc & precision & recall & f1 & fnr \\\\\n",
      "\\midrule\n",
      "0.96 (0.11) & 0.99 (0.06) & 0.98 (0.05) & 0.98 (0.04) & 0.02 (0.05) \\\\\n",
      "\\bottomrule\n",
      "\\end{tabular}\n",
      "\n"
     ]
    }
   ],
   "source": [
    "def format_mean_std(dataset):   \n",
    "    metrics = [\"bacc\", \"precision\", \"recall\", \"f1\", \"fnr\"] \n",
    "    stats = dataset[metrics].agg(['mean', 'std']).round(2)\n",
    "    formatted = {col: f\"{stats.loc['mean',col]:.2f} ({stats.loc['std',col]:.2f})\" for col in metrics}\n",
    "    df = pd.DataFrame([formatted])\n",
    "    print(df.to_latex(index=False, header=True, escape=False))\n",
    "\n",
    "format_mean_std(one_dataset_out_xgb)"
   ]
  },
  {
   "cell_type": "code",
   "execution_count": 69,
   "metadata": {},
   "outputs": [
    {
     "data": {
      "application/vnd.microsoft.datawrangler.viewer.v0+json": {
       "columns": [
        {
         "name": "var",
         "rawType": "object",
         "type": "string"
        },
        {
         "name": "fi_rank_mean",
         "rawType": "float64",
         "type": "float"
        }
       ],
       "ref": "4a58e575-3a70-4437-8051-1769d03879af",
       "rows": [
        [
         "bacc_test_mean",
         "1.0"
        ],
        [
         "target_approx_consistency_in_neighborhood_mean",
         "3.8636363636363638"
        ],
        [
         "neighborhood_size_mean",
         "6.409090909090909"
        ],
        [
         "uncertainty_q0",
         "7.454545454545454"
        ],
        [
         "neighborhood_size_q1",
         "14.409090909090908"
        ],
        [
         "target_approx_consistency_in_neighborhood_q50",
         "14.409090909090908"
        ],
        [
         "neighborhood_size_q0",
         "14.545454545454545"
        ],
        [
         "uncertainty_mean",
         "15.545454545454545"
        ],
        [
         "target_diversity_in_neighborhood_q25",
         "16.0"
        ],
        [
         "pred_targets_consistency_in_neighborhood_q50",
         "16.795454545454547"
        ],
        [
         "neighborhood_size_q75",
         "17.227272727272727"
        ],
        [
         "approx_diversity_in_neighborhood_mean",
         "18.40909090909091"
        ],
        [
         "approx_diversity_in_neighborhood_q1",
         "18.477272727272727"
        ],
        [
         "neighborhood_size_q25",
         "18.545454545454547"
        ],
        [
         "target_targets_consistency_in_neighborhood_mean",
         "18.772727272727273"
        ],
        [
         "uncertainty_q25",
         "20.59090909090909"
        ],
        [
         "target_diversity_in_neighborhood_q75",
         "21.931818181818183"
        ],
        [
         "neighborhood_size_minmax",
         "22.636363636363637"
        ],
        [
         "approx_diversity_in_neighborhood_q50",
         "23.0"
        ],
        [
         "uncertainty_q75",
         "23.25"
        ]
       ],
       "shape": {
        "columns": 1,
        "rows": 20
       }
      },
      "text/html": [
       "<div>\n",
       "<style scoped>\n",
       "    .dataframe tbody tr th:only-of-type {\n",
       "        vertical-align: middle;\n",
       "    }\n",
       "\n",
       "    .dataframe tbody tr th {\n",
       "        vertical-align: top;\n",
       "    }\n",
       "\n",
       "    .dataframe thead th {\n",
       "        text-align: right;\n",
       "    }\n",
       "</style>\n",
       "<table border=\"1\" class=\"dataframe\">\n",
       "  <thead>\n",
       "    <tr style=\"text-align: right;\">\n",
       "      <th></th>\n",
       "      <th>fi_rank_mean</th>\n",
       "    </tr>\n",
       "    <tr>\n",
       "      <th>var</th>\n",
       "      <th></th>\n",
       "    </tr>\n",
       "  </thead>\n",
       "  <tbody>\n",
       "    <tr>\n",
       "      <th>bacc_test_mean</th>\n",
       "      <td>1.000000</td>\n",
       "    </tr>\n",
       "    <tr>\n",
       "      <th>target_approx_consistency_in_neighborhood_mean</th>\n",
       "      <td>3.863636</td>\n",
       "    </tr>\n",
       "    <tr>\n",
       "      <th>neighborhood_size_mean</th>\n",
       "      <td>6.409091</td>\n",
       "    </tr>\n",
       "    <tr>\n",
       "      <th>uncertainty_q0</th>\n",
       "      <td>7.454545</td>\n",
       "    </tr>\n",
       "    <tr>\n",
       "      <th>neighborhood_size_q1</th>\n",
       "      <td>14.409091</td>\n",
       "    </tr>\n",
       "    <tr>\n",
       "      <th>target_approx_consistency_in_neighborhood_q50</th>\n",
       "      <td>14.409091</td>\n",
       "    </tr>\n",
       "    <tr>\n",
       "      <th>neighborhood_size_q0</th>\n",
       "      <td>14.545455</td>\n",
       "    </tr>\n",
       "    <tr>\n",
       "      <th>uncertainty_mean</th>\n",
       "      <td>15.545455</td>\n",
       "    </tr>\n",
       "    <tr>\n",
       "      <th>target_diversity_in_neighborhood_q25</th>\n",
       "      <td>16.000000</td>\n",
       "    </tr>\n",
       "    <tr>\n",
       "      <th>pred_targets_consistency_in_neighborhood_q50</th>\n",
       "      <td>16.795455</td>\n",
       "    </tr>\n",
       "    <tr>\n",
       "      <th>neighborhood_size_q75</th>\n",
       "      <td>17.227273</td>\n",
       "    </tr>\n",
       "    <tr>\n",
       "      <th>approx_diversity_in_neighborhood_mean</th>\n",
       "      <td>18.409091</td>\n",
       "    </tr>\n",
       "    <tr>\n",
       "      <th>approx_diversity_in_neighborhood_q1</th>\n",
       "      <td>18.477273</td>\n",
       "    </tr>\n",
       "    <tr>\n",
       "      <th>neighborhood_size_q25</th>\n",
       "      <td>18.545455</td>\n",
       "    </tr>\n",
       "    <tr>\n",
       "      <th>target_targets_consistency_in_neighborhood_mean</th>\n",
       "      <td>18.772727</td>\n",
       "    </tr>\n",
       "    <tr>\n",
       "      <th>uncertainty_q25</th>\n",
       "      <td>20.590909</td>\n",
       "    </tr>\n",
       "    <tr>\n",
       "      <th>target_diversity_in_neighborhood_q75</th>\n",
       "      <td>21.931818</td>\n",
       "    </tr>\n",
       "    <tr>\n",
       "      <th>neighborhood_size_minmax</th>\n",
       "      <td>22.636364</td>\n",
       "    </tr>\n",
       "    <tr>\n",
       "      <th>approx_diversity_in_neighborhood_q50</th>\n",
       "      <td>23.000000</td>\n",
       "    </tr>\n",
       "    <tr>\n",
       "      <th>uncertainty_q75</th>\n",
       "      <td>23.250000</td>\n",
       "    </tr>\n",
       "  </tbody>\n",
       "</table>\n",
       "</div>"
      ],
      "text/plain": [
       "                                                 fi_rank_mean\n",
       "var                                                          \n",
       "bacc_test_mean                                       1.000000\n",
       "target_approx_consistency_in_neighborhood_mean       3.863636\n",
       "neighborhood_size_mean                               6.409091\n",
       "uncertainty_q0                                       7.454545\n",
       "neighborhood_size_q1                                14.409091\n",
       "target_approx_consistency_in_neighborhood_q50       14.409091\n",
       "neighborhood_size_q0                                14.545455\n",
       "uncertainty_mean                                    15.545455\n",
       "target_diversity_in_neighborhood_q25                16.000000\n",
       "pred_targets_consistency_in_neighborhood_q50        16.795455\n",
       "neighborhood_size_q75                               17.227273\n",
       "approx_diversity_in_neighborhood_mean               18.409091\n",
       "approx_diversity_in_neighborhood_q1                 18.477273\n",
       "neighborhood_size_q25                               18.545455\n",
       "target_targets_consistency_in_neighborhood_mean     18.772727\n",
       "uncertainty_q25                                     20.590909\n",
       "target_diversity_in_neighborhood_q75                21.931818\n",
       "neighborhood_size_minmax                            22.636364\n",
       "approx_diversity_in_neighborhood_q50                23.000000\n",
       "uncertainty_q75                                     23.250000"
      ]
     },
     "execution_count": 69,
     "metadata": {},
     "output_type": "execute_result"
    }
   ],
   "source": [
    "fi_agg = one_dataset_out_fi_xgb[[\"var\", \"fi_rank\"]].groupby([\"var\"]).agg(['mean'])\n",
    "fi_agg.columns = fi_agg.columns.to_flat_index()\n",
    "fi_agg.columns = list(fi_agg.columns.map('_'.join))\n",
    "fi_agg.nsmallest(n=20, columns=[\"fi_rank_mean\"])"
   ]
  },
  {
   "cell_type": "markdown",
   "metadata": {},
   "source": [
    "## Random forest"
   ]
  },
  {
   "cell_type": "markdown",
   "metadata": {},
   "source": [
    "### Default parameters"
   ]
  },
  {
   "cell_type": "code",
   "execution_count": 70,
   "metadata": {},
   "outputs": [
    {
     "name": "stderr",
     "output_type": "stream",
     "text": [
      "100%|██████████| 22/22 [00:06<00:00,  3.38it/s]\n"
     ]
    },
    {
     "data": {
      "application/vnd.microsoft.datawrangler.viewer.v0+json": {
       "columns": [
        {
         "name": "index",
         "rawType": "int64",
         "type": "integer"
        },
        {
         "name": "dataset",
         "rawType": "object",
         "type": "string"
        },
        {
         "name": "bacc",
         "rawType": "float64",
         "type": "float"
        },
        {
         "name": "kappa",
         "rawType": "float64",
         "type": "float"
        },
        {
         "name": "precision",
         "rawType": "float64",
         "type": "float"
        },
        {
         "name": "recall",
         "rawType": "float64",
         "type": "float"
        },
        {
         "name": "f1",
         "rawType": "float64",
         "type": "float"
        },
        {
         "name": "fnr",
         "rawType": "float64",
         "type": "float"
        }
       ],
       "ref": "bc6fbc00-62ff-41ff-a356-f7919a25ed21",
       "rows": [
        [
         "0",
         "Bioresponse",
         "0.9230769230769231",
         "0.721311475409836",
         "1.0",
         "0.8461538461538461",
         "0.9166666666666666",
         "0.15384615384615385"
        ],
        [
         "1",
         "churn",
         "0.875",
         "0.8210526315789474",
         "0.9285714285714286",
         "1.0",
         "0.9629629629629629",
         "0.0"
        ],
        [
         "2",
         "cmc",
         "1.0",
         "1.0",
         "1.0",
         "1.0",
         "1.0",
         "0.0"
        ],
        [
         "3",
         "cnae-9",
         "0.9615384615384616",
         "0.8495575221238938",
         "1.0",
         "0.9230769230769231",
         "0.96",
         "0.07692307692307693"
        ],
        [
         "4",
         "dna",
         "0.9615384615384616",
         "0.8495575221238938",
         "1.0",
         "0.9230769230769231",
         "0.96",
         "0.07692307692307693"
        ],
        [
         "5",
         "har",
         "1.0",
         "1.0",
         "1.0",
         "1.0",
         "1.0",
         "0.0"
        ],
        [
         "6",
         "madelon",
         "0.5",
         "0.0",
         "0.75",
         "1.0",
         "0.8571428571428571",
         "0.0"
        ],
        [
         "7",
         "mfeat-factors",
         "1.0",
         "1.0",
         "1.0",
         "1.0",
         "1.0",
         "0.0"
        ],
        [
         "8",
         "mfeat-fourier",
         "1.0",
         "1.0",
         "1.0",
         "1.0",
         "1.0",
         "0.0"
        ],
        [
         "9",
         "mfeat-karhunen",
         "1.0",
         "1.0",
         "1.0",
         "1.0",
         "1.0",
         "0.0"
        ],
        [
         "10",
         "mfeat-zernike",
         "1.0",
         "1.0",
         "1.0",
         "1.0",
         "1.0",
         "0.0"
        ],
        [
         "11",
         "nomao",
         "0.9615384615384616",
         "0.8495575221238938",
         "1.0",
         "0.9230769230769231",
         "0.96",
         "0.07692307692307693"
        ],
        [
         "12",
         "optdigits",
         "1.0",
         "1.0",
         "1.0",
         "1.0",
         "1.0",
         "0.0"
        ],
        [
         "13",
         "pendigits",
         "1.0",
         "1.0",
         "1.0",
         "1.0",
         "1.0",
         "0.0"
        ],
        [
         "14",
         "phoneme",
         "1.0",
         "1.0",
         "1.0",
         "1.0",
         "1.0",
         "0.0"
        ],
        [
         "15",
         "qsar-biodeg",
         "1.0",
         "1.0",
         "1.0",
         "1.0",
         "1.0",
         "0.0"
        ],
        [
         "16",
         "satimage",
         "1.0",
         "1.0",
         "1.0",
         "1.0",
         "1.0",
         "0.0"
        ],
        [
         "17",
         "semeion",
         "0.8846153846153846",
         "0.6106870229007633",
         "1.0",
         "0.7692307692307693",
         "0.8695652173913043",
         "0.23076923076923078"
        ],
        [
         "18",
         "spambase",
         "1.0",
         "1.0",
         "1.0",
         "1.0",
         "1.0",
         "0.0"
        ],
        [
         "19",
         "wall-robot-navigation",
         "0.875",
         "0.8210526315789474",
         "0.9285714285714286",
         "1.0",
         "0.9629629629629629",
         "0.0"
        ],
        [
         "20",
         "wdbc",
         "1.0",
         "1.0",
         "1.0",
         "1.0",
         "1.0",
         "0.0"
        ],
        [
         "21",
         "wilt",
         "0.8365384615384616",
         "0.6730769230769231",
         "0.9230769230769231",
         "0.9230769230769231",
         "0.9230769230769231",
         "0.07692307692307693"
        ]
       ],
       "shape": {
        "columns": 7,
        "rows": 22
       }
      },
      "text/html": [
       "<div>\n",
       "<style scoped>\n",
       "    .dataframe tbody tr th:only-of-type {\n",
       "        vertical-align: middle;\n",
       "    }\n",
       "\n",
       "    .dataframe tbody tr th {\n",
       "        vertical-align: top;\n",
       "    }\n",
       "\n",
       "    .dataframe thead th {\n",
       "        text-align: right;\n",
       "    }\n",
       "</style>\n",
       "<table border=\"1\" class=\"dataframe\">\n",
       "  <thead>\n",
       "    <tr style=\"text-align: right;\">\n",
       "      <th></th>\n",
       "      <th>dataset</th>\n",
       "      <th>bacc</th>\n",
       "      <th>kappa</th>\n",
       "      <th>precision</th>\n",
       "      <th>recall</th>\n",
       "      <th>f1</th>\n",
       "      <th>fnr</th>\n",
       "    </tr>\n",
       "  </thead>\n",
       "  <tbody>\n",
       "    <tr>\n",
       "      <th>0</th>\n",
       "      <td>Bioresponse</td>\n",
       "      <td>0.923077</td>\n",
       "      <td>0.721311</td>\n",
       "      <td>1.000000</td>\n",
       "      <td>0.846154</td>\n",
       "      <td>0.916667</td>\n",
       "      <td>0.153846</td>\n",
       "    </tr>\n",
       "    <tr>\n",
       "      <th>1</th>\n",
       "      <td>churn</td>\n",
       "      <td>0.875000</td>\n",
       "      <td>0.821053</td>\n",
       "      <td>0.928571</td>\n",
       "      <td>1.000000</td>\n",
       "      <td>0.962963</td>\n",
       "      <td>0.000000</td>\n",
       "    </tr>\n",
       "    <tr>\n",
       "      <th>2</th>\n",
       "      <td>cmc</td>\n",
       "      <td>1.000000</td>\n",
       "      <td>1.000000</td>\n",
       "      <td>1.000000</td>\n",
       "      <td>1.000000</td>\n",
       "      <td>1.000000</td>\n",
       "      <td>0.000000</td>\n",
       "    </tr>\n",
       "    <tr>\n",
       "      <th>3</th>\n",
       "      <td>cnae-9</td>\n",
       "      <td>0.961538</td>\n",
       "      <td>0.849558</td>\n",
       "      <td>1.000000</td>\n",
       "      <td>0.923077</td>\n",
       "      <td>0.960000</td>\n",
       "      <td>0.076923</td>\n",
       "    </tr>\n",
       "    <tr>\n",
       "      <th>4</th>\n",
       "      <td>dna</td>\n",
       "      <td>0.961538</td>\n",
       "      <td>0.849558</td>\n",
       "      <td>1.000000</td>\n",
       "      <td>0.923077</td>\n",
       "      <td>0.960000</td>\n",
       "      <td>0.076923</td>\n",
       "    </tr>\n",
       "    <tr>\n",
       "      <th>5</th>\n",
       "      <td>har</td>\n",
       "      <td>1.000000</td>\n",
       "      <td>1.000000</td>\n",
       "      <td>1.000000</td>\n",
       "      <td>1.000000</td>\n",
       "      <td>1.000000</td>\n",
       "      <td>0.000000</td>\n",
       "    </tr>\n",
       "    <tr>\n",
       "      <th>6</th>\n",
       "      <td>madelon</td>\n",
       "      <td>0.500000</td>\n",
       "      <td>0.000000</td>\n",
       "      <td>0.750000</td>\n",
       "      <td>1.000000</td>\n",
       "      <td>0.857143</td>\n",
       "      <td>0.000000</td>\n",
       "    </tr>\n",
       "    <tr>\n",
       "      <th>7</th>\n",
       "      <td>mfeat-factors</td>\n",
       "      <td>1.000000</td>\n",
       "      <td>1.000000</td>\n",
       "      <td>1.000000</td>\n",
       "      <td>1.000000</td>\n",
       "      <td>1.000000</td>\n",
       "      <td>0.000000</td>\n",
       "    </tr>\n",
       "    <tr>\n",
       "      <th>8</th>\n",
       "      <td>mfeat-fourier</td>\n",
       "      <td>1.000000</td>\n",
       "      <td>1.000000</td>\n",
       "      <td>1.000000</td>\n",
       "      <td>1.000000</td>\n",
       "      <td>1.000000</td>\n",
       "      <td>0.000000</td>\n",
       "    </tr>\n",
       "    <tr>\n",
       "      <th>9</th>\n",
       "      <td>mfeat-karhunen</td>\n",
       "      <td>1.000000</td>\n",
       "      <td>1.000000</td>\n",
       "      <td>1.000000</td>\n",
       "      <td>1.000000</td>\n",
       "      <td>1.000000</td>\n",
       "      <td>0.000000</td>\n",
       "    </tr>\n",
       "    <tr>\n",
       "      <th>10</th>\n",
       "      <td>mfeat-zernike</td>\n",
       "      <td>1.000000</td>\n",
       "      <td>1.000000</td>\n",
       "      <td>1.000000</td>\n",
       "      <td>1.000000</td>\n",
       "      <td>1.000000</td>\n",
       "      <td>0.000000</td>\n",
       "    </tr>\n",
       "    <tr>\n",
       "      <th>11</th>\n",
       "      <td>nomao</td>\n",
       "      <td>0.961538</td>\n",
       "      <td>0.849558</td>\n",
       "      <td>1.000000</td>\n",
       "      <td>0.923077</td>\n",
       "      <td>0.960000</td>\n",
       "      <td>0.076923</td>\n",
       "    </tr>\n",
       "    <tr>\n",
       "      <th>12</th>\n",
       "      <td>optdigits</td>\n",
       "      <td>1.000000</td>\n",
       "      <td>1.000000</td>\n",
       "      <td>1.000000</td>\n",
       "      <td>1.000000</td>\n",
       "      <td>1.000000</td>\n",
       "      <td>0.000000</td>\n",
       "    </tr>\n",
       "    <tr>\n",
       "      <th>13</th>\n",
       "      <td>pendigits</td>\n",
       "      <td>1.000000</td>\n",
       "      <td>1.000000</td>\n",
       "      <td>1.000000</td>\n",
       "      <td>1.000000</td>\n",
       "      <td>1.000000</td>\n",
       "      <td>0.000000</td>\n",
       "    </tr>\n",
       "    <tr>\n",
       "      <th>14</th>\n",
       "      <td>phoneme</td>\n",
       "      <td>1.000000</td>\n",
       "      <td>1.000000</td>\n",
       "      <td>1.000000</td>\n",
       "      <td>1.000000</td>\n",
       "      <td>1.000000</td>\n",
       "      <td>0.000000</td>\n",
       "    </tr>\n",
       "    <tr>\n",
       "      <th>15</th>\n",
       "      <td>qsar-biodeg</td>\n",
       "      <td>1.000000</td>\n",
       "      <td>1.000000</td>\n",
       "      <td>1.000000</td>\n",
       "      <td>1.000000</td>\n",
       "      <td>1.000000</td>\n",
       "      <td>0.000000</td>\n",
       "    </tr>\n",
       "    <tr>\n",
       "      <th>16</th>\n",
       "      <td>satimage</td>\n",
       "      <td>1.000000</td>\n",
       "      <td>1.000000</td>\n",
       "      <td>1.000000</td>\n",
       "      <td>1.000000</td>\n",
       "      <td>1.000000</td>\n",
       "      <td>0.000000</td>\n",
       "    </tr>\n",
       "    <tr>\n",
       "      <th>17</th>\n",
       "      <td>semeion</td>\n",
       "      <td>0.884615</td>\n",
       "      <td>0.610687</td>\n",
       "      <td>1.000000</td>\n",
       "      <td>0.769231</td>\n",
       "      <td>0.869565</td>\n",
       "      <td>0.230769</td>\n",
       "    </tr>\n",
       "    <tr>\n",
       "      <th>18</th>\n",
       "      <td>spambase</td>\n",
       "      <td>1.000000</td>\n",
       "      <td>1.000000</td>\n",
       "      <td>1.000000</td>\n",
       "      <td>1.000000</td>\n",
       "      <td>1.000000</td>\n",
       "      <td>0.000000</td>\n",
       "    </tr>\n",
       "    <tr>\n",
       "      <th>19</th>\n",
       "      <td>wall-robot-navigation</td>\n",
       "      <td>0.875000</td>\n",
       "      <td>0.821053</td>\n",
       "      <td>0.928571</td>\n",
       "      <td>1.000000</td>\n",
       "      <td>0.962963</td>\n",
       "      <td>0.000000</td>\n",
       "    </tr>\n",
       "    <tr>\n",
       "      <th>20</th>\n",
       "      <td>wdbc</td>\n",
       "      <td>1.000000</td>\n",
       "      <td>1.000000</td>\n",
       "      <td>1.000000</td>\n",
       "      <td>1.000000</td>\n",
       "      <td>1.000000</td>\n",
       "      <td>0.000000</td>\n",
       "    </tr>\n",
       "    <tr>\n",
       "      <th>21</th>\n",
       "      <td>wilt</td>\n",
       "      <td>0.836538</td>\n",
       "      <td>0.673077</td>\n",
       "      <td>0.923077</td>\n",
       "      <td>0.923077</td>\n",
       "      <td>0.923077</td>\n",
       "      <td>0.076923</td>\n",
       "    </tr>\n",
       "  </tbody>\n",
       "</table>\n",
       "</div>"
      ],
      "text/plain": [
       "                  dataset      bacc     kappa  precision    recall        f1  \\\n",
       "0             Bioresponse  0.923077  0.721311   1.000000  0.846154  0.916667   \n",
       "1                   churn  0.875000  0.821053   0.928571  1.000000  0.962963   \n",
       "2                     cmc  1.000000  1.000000   1.000000  1.000000  1.000000   \n",
       "3                  cnae-9  0.961538  0.849558   1.000000  0.923077  0.960000   \n",
       "4                     dna  0.961538  0.849558   1.000000  0.923077  0.960000   \n",
       "5                     har  1.000000  1.000000   1.000000  1.000000  1.000000   \n",
       "6                 madelon  0.500000  0.000000   0.750000  1.000000  0.857143   \n",
       "7           mfeat-factors  1.000000  1.000000   1.000000  1.000000  1.000000   \n",
       "8           mfeat-fourier  1.000000  1.000000   1.000000  1.000000  1.000000   \n",
       "9          mfeat-karhunen  1.000000  1.000000   1.000000  1.000000  1.000000   \n",
       "10          mfeat-zernike  1.000000  1.000000   1.000000  1.000000  1.000000   \n",
       "11                  nomao  0.961538  0.849558   1.000000  0.923077  0.960000   \n",
       "12              optdigits  1.000000  1.000000   1.000000  1.000000  1.000000   \n",
       "13              pendigits  1.000000  1.000000   1.000000  1.000000  1.000000   \n",
       "14                phoneme  1.000000  1.000000   1.000000  1.000000  1.000000   \n",
       "15            qsar-biodeg  1.000000  1.000000   1.000000  1.000000  1.000000   \n",
       "16               satimage  1.000000  1.000000   1.000000  1.000000  1.000000   \n",
       "17                semeion  0.884615  0.610687   1.000000  0.769231  0.869565   \n",
       "18               spambase  1.000000  1.000000   1.000000  1.000000  1.000000   \n",
       "19  wall-robot-navigation  0.875000  0.821053   0.928571  1.000000  0.962963   \n",
       "20                   wdbc  1.000000  1.000000   1.000000  1.000000  1.000000   \n",
       "21                   wilt  0.836538  0.673077   0.923077  0.923077  0.923077   \n",
       "\n",
       "         fnr  \n",
       "0   0.153846  \n",
       "1   0.000000  \n",
       "2   0.000000  \n",
       "3   0.076923  \n",
       "4   0.076923  \n",
       "5   0.000000  \n",
       "6   0.000000  \n",
       "7   0.000000  \n",
       "8   0.000000  \n",
       "9   0.000000  \n",
       "10  0.000000  \n",
       "11  0.076923  \n",
       "12  0.000000  \n",
       "13  0.000000  \n",
       "14  0.000000  \n",
       "15  0.000000  \n",
       "16  0.000000  \n",
       "17  0.230769  \n",
       "18  0.000000  \n",
       "19  0.000000  \n",
       "20  0.000000  \n",
       "21  0.076923  "
      ]
     },
     "execution_count": 70,
     "metadata": {},
     "output_type": "execute_result"
    }
   ],
   "source": [
    "one_dataset_out_rf, one_dataset_out_fi_rf = leave_dataset_out(model=RandomForestClassifier(random_state=123))\n",
    "one_dataset_out_rf"
   ]
  },
  {
   "cell_type": "markdown",
   "metadata": {},
   "source": [
    "### Hyperparameters tuning"
   ]
  },
  {
   "cell_type": "code",
   "execution_count": 71,
   "metadata": {},
   "outputs": [
    {
     "name": "stderr",
     "output_type": "stream",
     "text": [
      "100%|██████████| 22/22 [00:06<00:00,  3.39it/s]\n"
     ]
    },
    {
     "name": "stdout",
     "output_type": "stream",
     "text": [
      "kappa = 0.8725387841325953, params: {'max_depth': 50, 'min_samples_split': 2, 'n_estimators': 100}\n"
     ]
    },
    {
     "name": "stderr",
     "output_type": "stream",
     "text": [
      "100%|██████████| 22/22 [00:13<00:00,  1.65it/s]\n"
     ]
    },
    {
     "name": "stdout",
     "output_type": "stream",
     "text": [
      "kappa = 0.8762668167503171, params: {'max_depth': 50, 'min_samples_split': 2, 'n_estimators': 200}\n"
     ]
    },
    {
     "name": "stderr",
     "output_type": "stream",
     "text": [
      "100%|██████████| 22/22 [00:48<00:00,  2.21s/it]\n"
     ]
    },
    {
     "name": "stdout",
     "output_type": "stream",
     "text": [
      "kappa = 0.8844007880421831, params: {'max_depth': 50, 'min_samples_split': 2, 'n_estimators': 500}\n"
     ]
    },
    {
     "name": "stderr",
     "output_type": "stream",
     "text": [
      "100%|██████████| 22/22 [00:10<00:00,  2.16it/s]\n"
     ]
    },
    {
     "name": "stdout",
     "output_type": "stream",
     "text": [
      "kappa = 0.8762668167503171, params: {'max_depth': 50, 'min_samples_split': 5, 'n_estimators': 100}\n"
     ]
    },
    {
     "name": "stderr",
     "output_type": "stream",
     "text": [
      "100%|██████████| 22/22 [00:12<00:00,  1.73it/s]\n"
     ]
    },
    {
     "name": "stdout",
     "output_type": "stream",
     "text": [
      "kappa = 0.8762668167503171, params: {'max_depth': 50, 'min_samples_split': 5, 'n_estimators': 200}\n"
     ]
    },
    {
     "name": "stderr",
     "output_type": "stream",
     "text": [
      "100%|██████████| 22/22 [00:28<00:00,  1.30s/it]\n"
     ]
    },
    {
     "name": "stdout",
     "output_type": "stream",
     "text": [
      "kappa = 0.8762668167503171, params: {'max_depth': 50, 'min_samples_split': 5, 'n_estimators': 500}\n"
     ]
    },
    {
     "name": "stderr",
     "output_type": "stream",
     "text": [
      "100%|██████████| 22/22 [00:04<00:00,  4.63it/s]\n"
     ]
    },
    {
     "name": "stdout",
     "output_type": "stream",
     "text": [
      "kappa = 0.8762668167503171, params: {'max_depth': 50, 'min_samples_split': 8, 'n_estimators': 100}\n"
     ]
    },
    {
     "name": "stderr",
     "output_type": "stream",
     "text": [
      "100%|██████████| 22/22 [00:09<00:00,  2.43it/s]\n"
     ]
    },
    {
     "name": "stdout",
     "output_type": "stream",
     "text": [
      "kappa = 0.8762668167503171, params: {'max_depth': 50, 'min_samples_split': 8, 'n_estimators': 200}\n"
     ]
    },
    {
     "name": "stderr",
     "output_type": "stream",
     "text": [
      "100%|██████████| 22/22 [00:27<00:00,  1.25s/it]\n"
     ]
    },
    {
     "name": "stdout",
     "output_type": "stream",
     "text": [
      "kappa = 0.8762668167503171, params: {'max_depth': 50, 'min_samples_split': 8, 'n_estimators': 500}\n"
     ]
    },
    {
     "name": "stderr",
     "output_type": "stream",
     "text": [
      "100%|██████████| 22/22 [00:12<00:00,  1.80it/s]\n"
     ]
    },
    {
     "name": "stdout",
     "output_type": "stream",
     "text": [
      "kappa = 0.8725387841325953, params: {'max_depth': 80, 'min_samples_split': 2, 'n_estimators': 100}\n"
     ]
    },
    {
     "name": "stderr",
     "output_type": "stream",
     "text": [
      "100%|██████████| 22/22 [00:14<00:00,  1.48it/s]\n"
     ]
    },
    {
     "name": "stdout",
     "output_type": "stream",
     "text": [
      "kappa = 0.8762668167503171, params: {'max_depth': 80, 'min_samples_split': 2, 'n_estimators': 200}\n"
     ]
    },
    {
     "name": "stderr",
     "output_type": "stream",
     "text": [
      "100%|██████████| 22/22 [00:23<00:00,  1.09s/it]\n"
     ]
    },
    {
     "name": "stdout",
     "output_type": "stream",
     "text": [
      "kappa = 0.8844007880421831, params: {'max_depth': 80, 'min_samples_split': 2, 'n_estimators': 500}\n"
     ]
    },
    {
     "name": "stderr",
     "output_type": "stream",
     "text": [
      "100%|██████████| 22/22 [00:04<00:00,  4.80it/s]\n"
     ]
    },
    {
     "name": "stdout",
     "output_type": "stream",
     "text": [
      "kappa = 0.8762668167503171, params: {'max_depth': 80, 'min_samples_split': 5, 'n_estimators': 100}\n"
     ]
    },
    {
     "name": "stderr",
     "output_type": "stream",
     "text": [
      "100%|██████████| 22/22 [00:08<00:00,  2.56it/s]\n"
     ]
    },
    {
     "name": "stdout",
     "output_type": "stream",
     "text": [
      "kappa = 0.8762668167503171, params: {'max_depth': 80, 'min_samples_split': 5, 'n_estimators': 200}\n"
     ]
    },
    {
     "name": "stderr",
     "output_type": "stream",
     "text": [
      "100%|██████████| 22/22 [00:17<00:00,  1.26it/s]\n"
     ]
    },
    {
     "name": "stdout",
     "output_type": "stream",
     "text": [
      "kappa = 0.8762668167503171, params: {'max_depth': 80, 'min_samples_split': 5, 'n_estimators': 500}\n"
     ]
    },
    {
     "name": "stderr",
     "output_type": "stream",
     "text": [
      "100%|██████████| 22/22 [00:03<00:00,  6.03it/s]\n"
     ]
    },
    {
     "name": "stdout",
     "output_type": "stream",
     "text": [
      "kappa = 0.8762668167503171, params: {'max_depth': 80, 'min_samples_split': 8, 'n_estimators': 100}\n"
     ]
    },
    {
     "name": "stderr",
     "output_type": "stream",
     "text": [
      "100%|██████████| 22/22 [00:07<00:00,  2.96it/s]\n"
     ]
    },
    {
     "name": "stdout",
     "output_type": "stream",
     "text": [
      "kappa = 0.8762668167503171, params: {'max_depth': 80, 'min_samples_split': 8, 'n_estimators': 200}\n"
     ]
    },
    {
     "name": "stderr",
     "output_type": "stream",
     "text": [
      "100%|██████████| 22/22 [00:23<00:00,  1.07s/it]\n"
     ]
    },
    {
     "name": "stdout",
     "output_type": "stream",
     "text": [
      "kappa = 0.8762668167503171, params: {'max_depth': 80, 'min_samples_split': 8, 'n_estimators': 500}\n"
     ]
    },
    {
     "name": "stderr",
     "output_type": "stream",
     "text": [
      "100%|██████████| 22/22 [00:06<00:00,  3.34it/s]\n"
     ]
    },
    {
     "name": "stdout",
     "output_type": "stream",
     "text": [
      "kappa = 0.8725387841325953, params: {'max_depth': 110, 'min_samples_split': 2, 'n_estimators': 100}\n"
     ]
    },
    {
     "name": "stderr",
     "output_type": "stream",
     "text": [
      "100%|██████████| 22/22 [00:11<00:00,  1.87it/s]\n"
     ]
    },
    {
     "name": "stdout",
     "output_type": "stream",
     "text": [
      "kappa = 0.8762668167503171, params: {'max_depth': 110, 'min_samples_split': 2, 'n_estimators': 200}\n"
     ]
    },
    {
     "name": "stderr",
     "output_type": "stream",
     "text": [
      "100%|██████████| 22/22 [00:21<00:00,  1.04it/s]\n"
     ]
    },
    {
     "name": "stdout",
     "output_type": "stream",
     "text": [
      "kappa = 0.8844007880421831, params: {'max_depth': 110, 'min_samples_split': 2, 'n_estimators': 500}\n"
     ]
    },
    {
     "name": "stderr",
     "output_type": "stream",
     "text": [
      "100%|██████████| 22/22 [00:03<00:00,  6.07it/s]\n"
     ]
    },
    {
     "name": "stdout",
     "output_type": "stream",
     "text": [
      "kappa = 0.8762668167503171, params: {'max_depth': 110, 'min_samples_split': 5, 'n_estimators': 100}\n"
     ]
    },
    {
     "name": "stderr",
     "output_type": "stream",
     "text": [
      "100%|██████████| 22/22 [00:06<00:00,  3.20it/s]\n"
     ]
    },
    {
     "name": "stdout",
     "output_type": "stream",
     "text": [
      "kappa = 0.8762668167503171, params: {'max_depth': 110, 'min_samples_split': 5, 'n_estimators': 200}\n"
     ]
    },
    {
     "name": "stderr",
     "output_type": "stream",
     "text": [
      "100%|██████████| 22/22 [00:18<00:00,  1.20it/s]\n"
     ]
    },
    {
     "name": "stdout",
     "output_type": "stream",
     "text": [
      "kappa = 0.8762668167503171, params: {'max_depth': 110, 'min_samples_split': 5, 'n_estimators': 500}\n"
     ]
    },
    {
     "name": "stderr",
     "output_type": "stream",
     "text": [
      "100%|██████████| 22/22 [00:03<00:00,  5.52it/s]\n"
     ]
    },
    {
     "name": "stdout",
     "output_type": "stream",
     "text": [
      "kappa = 0.8762668167503171, params: {'max_depth': 110, 'min_samples_split': 8, 'n_estimators': 100}\n"
     ]
    },
    {
     "name": "stderr",
     "output_type": "stream",
     "text": [
      "100%|██████████| 22/22 [00:07<00:00,  2.78it/s]\n"
     ]
    },
    {
     "name": "stdout",
     "output_type": "stream",
     "text": [
      "kappa = 0.8762668167503171, params: {'max_depth': 110, 'min_samples_split': 8, 'n_estimators': 200}\n"
     ]
    },
    {
     "name": "stderr",
     "output_type": "stream",
     "text": [
      "100%|██████████| 22/22 [00:22<00:00,  1.02s/it]"
     ]
    },
    {
     "name": "stdout",
     "output_type": "stream",
     "text": [
      "kappa = 0.8762668167503171, params: {'max_depth': 110, 'min_samples_split': 8, 'n_estimators': 500}\n",
      "Params: {'max_depth': 50, 'min_samples_split': 2, 'n_estimators': 500} give best kappa equal 0.8844007880421831\n"
     ]
    },
    {
     "name": "stderr",
     "output_type": "stream",
     "text": [
      "\n"
     ]
    }
   ],
   "source": [
    "model=RandomForestClassifier(random_state=123)\n",
    "\n",
    "param_grid = {\n",
    "    'max_depth': [50, 80, 110],\n",
    "    'min_samples_split': [2, 5, 8],\n",
    "    'n_estimators': [100, 200, 500]\n",
    "}\n",
    "\n",
    "one_dataset_out_rf, one_dataset_out_fi_rf = create_hyperparams_grid(model=model, param_grid=param_grid, exp_function=leave_dataset_out, crit=\"kappa\")"
   ]
  },
  {
   "cell_type": "code",
   "execution_count": 72,
   "metadata": {},
   "outputs": [
    {
     "data": {
      "application/vnd.microsoft.datawrangler.viewer.v0+json": {
       "columns": [
        {
         "name": "index",
         "rawType": "object",
         "type": "string"
        },
        {
         "name": "bacc",
         "rawType": "float64",
         "type": "float"
        },
        {
         "name": "precision",
         "rawType": "float64",
         "type": "float"
        },
        {
         "name": "recall",
         "rawType": "float64",
         "type": "float"
        },
        {
         "name": "f1",
         "rawType": "float64",
         "type": "float"
        },
        {
         "name": "fnr",
         "rawType": "float64",
         "type": "float"
        }
       ],
       "ref": "f77af2c5-b668-4fda-8f67-07bd9e6f440a",
       "rows": [
        [
         "mean",
         "0.9479895104895104",
         "0.9793290043290045",
         "0.9755244755244756",
         "0.9752231423970553",
         "0.02447552447552448"
        ],
        [
         "std",
         "0.11767638163559492",
         "0.06015038187324342",
         "0.059991375525375944",
         "0.04393392460429458",
         "0.05999137552537595"
        ]
       ],
       "shape": {
        "columns": 5,
        "rows": 2
       }
      },
      "text/html": [
       "<div>\n",
       "<style scoped>\n",
       "    .dataframe tbody tr th:only-of-type {\n",
       "        vertical-align: middle;\n",
       "    }\n",
       "\n",
       "    .dataframe tbody tr th {\n",
       "        vertical-align: top;\n",
       "    }\n",
       "\n",
       "    .dataframe thead th {\n",
       "        text-align: right;\n",
       "    }\n",
       "</style>\n",
       "<table border=\"1\" class=\"dataframe\">\n",
       "  <thead>\n",
       "    <tr style=\"text-align: right;\">\n",
       "      <th></th>\n",
       "      <th>bacc</th>\n",
       "      <th>precision</th>\n",
       "      <th>recall</th>\n",
       "      <th>f1</th>\n",
       "      <th>fnr</th>\n",
       "    </tr>\n",
       "  </thead>\n",
       "  <tbody>\n",
       "    <tr>\n",
       "      <th>mean</th>\n",
       "      <td>0.947990</td>\n",
       "      <td>0.979329</td>\n",
       "      <td>0.975524</td>\n",
       "      <td>0.975223</td>\n",
       "      <td>0.024476</td>\n",
       "    </tr>\n",
       "    <tr>\n",
       "      <th>std</th>\n",
       "      <td>0.117676</td>\n",
       "      <td>0.060150</td>\n",
       "      <td>0.059991</td>\n",
       "      <td>0.043934</td>\n",
       "      <td>0.059991</td>\n",
       "    </tr>\n",
       "  </tbody>\n",
       "</table>\n",
       "</div>"
      ],
      "text/plain": [
       "          bacc  precision    recall        f1       fnr\n",
       "mean  0.947990   0.979329  0.975524  0.975223  0.024476\n",
       "std   0.117676   0.060150  0.059991  0.043934  0.059991"
      ]
     },
     "execution_count": 72,
     "metadata": {},
     "output_type": "execute_result"
    }
   ],
   "source": [
    "one_dataset_out_rf[[\"bacc\", \"precision\", \"recall\", \"f1\", \"fnr\"]].agg(['mean', 'std'])"
   ]
  },
  {
   "cell_type": "code",
   "execution_count": 73,
   "metadata": {},
   "outputs": [
    {
     "name": "stdout",
     "output_type": "stream",
     "text": [
      "\\begin{tabular}{lllll}\n",
      "\\toprule\n",
      "bacc & precision & recall & f1 & fnr \\\\\n",
      "\\midrule\n",
      "0.95 (0.12) & 0.98 (0.06) & 0.98 (0.06) & 0.98 (0.04) & 0.02 (0.06) \\\\\n",
      "\\bottomrule\n",
      "\\end{tabular}\n",
      "\n"
     ]
    }
   ],
   "source": [
    "format_mean_std(one_dataset_out_rf)"
   ]
  },
  {
   "cell_type": "code",
   "execution_count": 74,
   "metadata": {},
   "outputs": [
    {
     "data": {
      "application/vnd.microsoft.datawrangler.viewer.v0+json": {
       "columns": [
        {
         "name": "var",
         "rawType": "object",
         "type": "string"
        },
        {
         "name": "fi_rank_mean",
         "rawType": "float64",
         "type": "float"
        }
       ],
       "ref": "249909e8-d0b5-43e0-ba09-a939328e8447",
       "rows": [
        [
         "bacc_test_q0",
         "1.0"
        ],
        [
         "bacc_test_q75",
         "2.090909090909091"
        ],
        [
         "bacc_test_q50",
         "3.227272727272727"
        ],
        [
         "bacc_test_q25",
         "4.2272727272727275"
        ],
        [
         "bacc_test_mean",
         "4.590909090909091"
        ],
        [
         "bacc_test_q1",
         "5.863636363636363"
        ],
        [
         "target_approx_consistency_in_neighborhood_mean",
         "7.0"
        ],
        [
         "target_approx_consistency_in_neighborhood_q25",
         "8.181818181818182"
        ],
        [
         "target_approx_consistency_in_neighborhood_q50",
         "8.818181818181818"
        ],
        [
         "target_diversity_in_neighborhood_mean",
         "11.545454545454545"
        ],
        [
         "target_diversity_in_neighborhood_q50",
         "12.272727272727273"
        ],
        [
         "target_approx_consistency_in_neighborhood_q75",
         "12.727272727272727"
        ],
        [
         "approx_diversity_in_neighborhood_q75",
         "13.727272727272727"
        ],
        [
         "approx_diversity_in_neighborhood_q50",
         "14.318181818181818"
        ],
        [
         "pred_targets_consistency_in_neighborhood_mean",
         "14.5"
        ],
        [
         "target_targets_consistency_in_neighborhood_mean",
         "15.863636363636363"
        ],
        [
         "target_targets_consistency_in_neighborhood_q50",
         "15.863636363636363"
        ],
        [
         "pred_targets_consistency_in_neighborhood_q25",
         "18.727272727272727"
        ],
        [
         "pred_targets_consistency_in_neighborhood_q50",
         "20.5"
        ],
        [
         "approx_diversity_in_neighborhood_mean",
         "20.545454545454547"
        ]
       ],
       "shape": {
        "columns": 1,
        "rows": 20
       }
      },
      "text/html": [
       "<div>\n",
       "<style scoped>\n",
       "    .dataframe tbody tr th:only-of-type {\n",
       "        vertical-align: middle;\n",
       "    }\n",
       "\n",
       "    .dataframe tbody tr th {\n",
       "        vertical-align: top;\n",
       "    }\n",
       "\n",
       "    .dataframe thead th {\n",
       "        text-align: right;\n",
       "    }\n",
       "</style>\n",
       "<table border=\"1\" class=\"dataframe\">\n",
       "  <thead>\n",
       "    <tr style=\"text-align: right;\">\n",
       "      <th></th>\n",
       "      <th>fi_rank_mean</th>\n",
       "    </tr>\n",
       "    <tr>\n",
       "      <th>var</th>\n",
       "      <th></th>\n",
       "    </tr>\n",
       "  </thead>\n",
       "  <tbody>\n",
       "    <tr>\n",
       "      <th>bacc_test_q0</th>\n",
       "      <td>1.000000</td>\n",
       "    </tr>\n",
       "    <tr>\n",
       "      <th>bacc_test_q75</th>\n",
       "      <td>2.090909</td>\n",
       "    </tr>\n",
       "    <tr>\n",
       "      <th>bacc_test_q50</th>\n",
       "      <td>3.227273</td>\n",
       "    </tr>\n",
       "    <tr>\n",
       "      <th>bacc_test_q25</th>\n",
       "      <td>4.227273</td>\n",
       "    </tr>\n",
       "    <tr>\n",
       "      <th>bacc_test_mean</th>\n",
       "      <td>4.590909</td>\n",
       "    </tr>\n",
       "    <tr>\n",
       "      <th>bacc_test_q1</th>\n",
       "      <td>5.863636</td>\n",
       "    </tr>\n",
       "    <tr>\n",
       "      <th>target_approx_consistency_in_neighborhood_mean</th>\n",
       "      <td>7.000000</td>\n",
       "    </tr>\n",
       "    <tr>\n",
       "      <th>target_approx_consistency_in_neighborhood_q25</th>\n",
       "      <td>8.181818</td>\n",
       "    </tr>\n",
       "    <tr>\n",
       "      <th>target_approx_consistency_in_neighborhood_q50</th>\n",
       "      <td>8.818182</td>\n",
       "    </tr>\n",
       "    <tr>\n",
       "      <th>target_diversity_in_neighborhood_mean</th>\n",
       "      <td>11.545455</td>\n",
       "    </tr>\n",
       "    <tr>\n",
       "      <th>target_diversity_in_neighborhood_q50</th>\n",
       "      <td>12.272727</td>\n",
       "    </tr>\n",
       "    <tr>\n",
       "      <th>target_approx_consistency_in_neighborhood_q75</th>\n",
       "      <td>12.727273</td>\n",
       "    </tr>\n",
       "    <tr>\n",
       "      <th>approx_diversity_in_neighborhood_q75</th>\n",
       "      <td>13.727273</td>\n",
       "    </tr>\n",
       "    <tr>\n",
       "      <th>approx_diversity_in_neighborhood_q50</th>\n",
       "      <td>14.318182</td>\n",
       "    </tr>\n",
       "    <tr>\n",
       "      <th>pred_targets_consistency_in_neighborhood_mean</th>\n",
       "      <td>14.500000</td>\n",
       "    </tr>\n",
       "    <tr>\n",
       "      <th>target_targets_consistency_in_neighborhood_mean</th>\n",
       "      <td>15.863636</td>\n",
       "    </tr>\n",
       "    <tr>\n",
       "      <th>target_targets_consistency_in_neighborhood_q50</th>\n",
       "      <td>15.863636</td>\n",
       "    </tr>\n",
       "    <tr>\n",
       "      <th>pred_targets_consistency_in_neighborhood_q25</th>\n",
       "      <td>18.727273</td>\n",
       "    </tr>\n",
       "    <tr>\n",
       "      <th>pred_targets_consistency_in_neighborhood_q50</th>\n",
       "      <td>20.500000</td>\n",
       "    </tr>\n",
       "    <tr>\n",
       "      <th>approx_diversity_in_neighborhood_mean</th>\n",
       "      <td>20.545455</td>\n",
       "    </tr>\n",
       "  </tbody>\n",
       "</table>\n",
       "</div>"
      ],
      "text/plain": [
       "                                                 fi_rank_mean\n",
       "var                                                          \n",
       "bacc_test_q0                                         1.000000\n",
       "bacc_test_q75                                        2.090909\n",
       "bacc_test_q50                                        3.227273\n",
       "bacc_test_q25                                        4.227273\n",
       "bacc_test_mean                                       4.590909\n",
       "bacc_test_q1                                         5.863636\n",
       "target_approx_consistency_in_neighborhood_mean       7.000000\n",
       "target_approx_consistency_in_neighborhood_q25        8.181818\n",
       "target_approx_consistency_in_neighborhood_q50        8.818182\n",
       "target_diversity_in_neighborhood_mean               11.545455\n",
       "target_diversity_in_neighborhood_q50                12.272727\n",
       "target_approx_consistency_in_neighborhood_q75       12.727273\n",
       "approx_diversity_in_neighborhood_q75                13.727273\n",
       "approx_diversity_in_neighborhood_q50                14.318182\n",
       "pred_targets_consistency_in_neighborhood_mean       14.500000\n",
       "target_targets_consistency_in_neighborhood_mean     15.863636\n",
       "target_targets_consistency_in_neighborhood_q50      15.863636\n",
       "pred_targets_consistency_in_neighborhood_q25        18.727273\n",
       "pred_targets_consistency_in_neighborhood_q50        20.500000\n",
       "approx_diversity_in_neighborhood_mean               20.545455"
      ]
     },
     "execution_count": 74,
     "metadata": {},
     "output_type": "execute_result"
    }
   ],
   "source": [
    "fi_agg = one_dataset_out_fi_rf[[\"var\", \"fi_rank\"]].groupby([\"var\"]).agg(['mean'])\n",
    "fi_agg.columns = fi_agg.columns.to_flat_index()\n",
    "fi_agg.columns = list(fi_agg.columns.map('_'.join))\n",
    "fi_agg.nsmallest(n=20, columns=[\"fi_rank_mean\"])"
   ]
  },
  {
   "cell_type": "markdown",
   "metadata": {},
   "source": [
    "# Leave-one-model-out"
   ]
  },
  {
   "cell_type": "code",
   "execution_count": 75,
   "metadata": {},
   "outputs": [],
   "source": [
    "def leave_model_out(model=xgb.XGBClassifier(random_state=123)):\n",
    "\n",
    "    models = np.unique(attrs_agg_correct_cols[\"model\"])\n",
    "    kappa_list = []\n",
    "    bacc_list = []\n",
    "    precision_list = []\n",
    "    recall_list = []\n",
    "    f1_list = []\n",
    "    fnr_list = []\n",
    "    fi_all = pd.DataFrame()\n",
    "\n",
    "    for selected_model in models:\n",
    "\n",
    "        train = attrs_agg_correct_cols[attrs_agg_correct_cols[\"model\"] != selected_model]\n",
    "        test = attrs_agg_correct_cols[attrs_agg_correct_cols[\"model\"] == selected_model]\n",
    "\n",
    "        x_train = train.drop(columns=[\"dataset\", \"model\", \"attack\", \"attack_binary\"])\n",
    "        y_train = train[\"attack_binary\"]\n",
    "\n",
    "        x_test = test.drop(columns=[\"dataset\", \"model\", \"attack\", \"attack_binary\"])\n",
    "        y_test = test[\"attack_binary\"]\n",
    "\n",
    "        le = LabelEncoder()\n",
    "        y_train_enc = le.fit_transform(y_train)\n",
    "        y_test_enc = le.transform(y_test)\n",
    "\n",
    "        model.fit(x_train, y_train_enc)\n",
    "\n",
    "        fi_dict = {'var': x_train.columns, 'fi': model.feature_importances_}\n",
    "        fi_df = pd.DataFrame(fi_dict)\n",
    "        fi_df[\"fi_rank\"] = fi_df[\"fi\"].rank(ascending=False)\n",
    "        fi_df[\"model\"] = selected_model\n",
    "        fi_all = pd.concat([fi_all, fi_df])\n",
    "\n",
    "        preds = model.predict(x_test)\n",
    "        bacc_list.append(balanced_accuracy_score(y_test_enc, preds))\n",
    "        kappa_list.append(cohen_kappa_score(y_test_enc, preds))\n",
    "        precision_list.append(precision_score(y_test_enc, preds))\n",
    "        recall_list.append(recall_score(y_test_enc, preds))\n",
    "        f1_list.append(f1_score(y_test_enc, preds))\n",
    "        fnr_list.append(false_negative_rate(y_test_enc, preds))\n",
    "\n",
    "    results_dict = {'model': models, 'bacc': bacc_list, 'kappa': kappa_list, 'precision': precision_list,\n",
    "                    'recall': recall_list, 'f1': f1_list, 'fnr': fnr_list}\n",
    "    results_df = pd.DataFrame(results_dict)\n",
    "    return results_df, fi_all"
   ]
  },
  {
   "cell_type": "markdown",
   "metadata": {},
   "source": [
    "## XGBoost"
   ]
  },
  {
   "cell_type": "code",
   "execution_count": 76,
   "metadata": {},
   "outputs": [
    {
     "data": {
      "application/vnd.microsoft.datawrangler.viewer.v0+json": {
       "columns": [
        {
         "name": "index",
         "rawType": "int64",
         "type": "integer"
        },
        {
         "name": "model",
         "rawType": "object",
         "type": "string"
        },
        {
         "name": "bacc",
         "rawType": "float64",
         "type": "float"
        },
        {
         "name": "kappa",
         "rawType": "float64",
         "type": "float"
        },
        {
         "name": "precision",
         "rawType": "float64",
         "type": "float"
        },
        {
         "name": "recall",
         "rawType": "float64",
         "type": "float"
        },
        {
         "name": "f1",
         "rawType": "float64",
         "type": "float"
        },
        {
         "name": "fnr",
         "rawType": "float64",
         "type": "float"
        }
       ],
       "ref": "82e3b0c9-9189-4dfc-91c4-86b464f67b3b",
       "rows": [
        [
         "0",
         "lin",
         "0.9772727272727273",
         "0.9692307692307692",
         "0.9850746268656716",
         "1.0",
         "0.9924812030075187",
         "0.0"
        ],
        [
         "1",
         "nn",
         "0.9261363636363636",
         "0.8108108108108107",
         "0.9764705882352941",
         "0.9431818181818182",
         "0.9595375722543352",
         "0.056818181818181816"
        ],
        [
         "2",
         "svm",
         "0.9848484848484849",
         "0.9411764705882353",
         "1.0",
         "0.9696969696969697",
         "0.9846153846153847",
         "0.030303030303030304"
        ],
        [
         "3",
         "xgb",
         "0.96875",
         "0.8847184986595175",
         "1.0",
         "0.9375",
         "0.967741935483871",
         "0.0625"
        ]
       ],
       "shape": {
        "columns": 7,
        "rows": 4
       }
      },
      "text/html": [
       "<div>\n",
       "<style scoped>\n",
       "    .dataframe tbody tr th:only-of-type {\n",
       "        vertical-align: middle;\n",
       "    }\n",
       "\n",
       "    .dataframe tbody tr th {\n",
       "        vertical-align: top;\n",
       "    }\n",
       "\n",
       "    .dataframe thead th {\n",
       "        text-align: right;\n",
       "    }\n",
       "</style>\n",
       "<table border=\"1\" class=\"dataframe\">\n",
       "  <thead>\n",
       "    <tr style=\"text-align: right;\">\n",
       "      <th></th>\n",
       "      <th>model</th>\n",
       "      <th>bacc</th>\n",
       "      <th>kappa</th>\n",
       "      <th>precision</th>\n",
       "      <th>recall</th>\n",
       "      <th>f1</th>\n",
       "      <th>fnr</th>\n",
       "    </tr>\n",
       "  </thead>\n",
       "  <tbody>\n",
       "    <tr>\n",
       "      <th>0</th>\n",
       "      <td>lin</td>\n",
       "      <td>0.977273</td>\n",
       "      <td>0.969231</td>\n",
       "      <td>0.985075</td>\n",
       "      <td>1.000000</td>\n",
       "      <td>0.992481</td>\n",
       "      <td>0.000000</td>\n",
       "    </tr>\n",
       "    <tr>\n",
       "      <th>1</th>\n",
       "      <td>nn</td>\n",
       "      <td>0.926136</td>\n",
       "      <td>0.810811</td>\n",
       "      <td>0.976471</td>\n",
       "      <td>0.943182</td>\n",
       "      <td>0.959538</td>\n",
       "      <td>0.056818</td>\n",
       "    </tr>\n",
       "    <tr>\n",
       "      <th>2</th>\n",
       "      <td>svm</td>\n",
       "      <td>0.984848</td>\n",
       "      <td>0.941176</td>\n",
       "      <td>1.000000</td>\n",
       "      <td>0.969697</td>\n",
       "      <td>0.984615</td>\n",
       "      <td>0.030303</td>\n",
       "    </tr>\n",
       "    <tr>\n",
       "      <th>3</th>\n",
       "      <td>xgb</td>\n",
       "      <td>0.968750</td>\n",
       "      <td>0.884718</td>\n",
       "      <td>1.000000</td>\n",
       "      <td>0.937500</td>\n",
       "      <td>0.967742</td>\n",
       "      <td>0.062500</td>\n",
       "    </tr>\n",
       "  </tbody>\n",
       "</table>\n",
       "</div>"
      ],
      "text/plain": [
       "  model      bacc     kappa  precision    recall        f1       fnr\n",
       "0   lin  0.977273  0.969231   0.985075  1.000000  0.992481  0.000000\n",
       "1    nn  0.926136  0.810811   0.976471  0.943182  0.959538  0.056818\n",
       "2   svm  0.984848  0.941176   1.000000  0.969697  0.984615  0.030303\n",
       "3   xgb  0.968750  0.884718   1.000000  0.937500  0.967742  0.062500"
      ]
     },
     "execution_count": 76,
     "metadata": {},
     "output_type": "execute_result"
    }
   ],
   "source": [
    "one_model_out_xgb, one_model_out_fi_xgb = leave_model_out()\n",
    "one_model_out_xgb"
   ]
  },
  {
   "cell_type": "code",
   "execution_count": 77,
   "metadata": {},
   "outputs": [
    {
     "data": {
      "application/vnd.microsoft.datawrangler.viewer.v0+json": {
       "columns": [
        {
         "name": "index",
         "rawType": "object",
         "type": "string"
        },
        {
         "name": "bacc",
         "rawType": "float64",
         "type": "float"
        },
        {
         "name": "precision",
         "rawType": "float64",
         "type": "float"
        },
        {
         "name": "recall",
         "rawType": "float64",
         "type": "float"
        },
        {
         "name": "f1",
         "rawType": "float64",
         "type": "float"
        },
        {
         "name": "fnr",
         "rawType": "float64",
         "type": "float"
        }
       ],
       "ref": "5d4afb50-a8df-47b5-8742-d99f005f2f0f",
       "rows": [
        [
         "mean",
         "0.9642518939393939",
         "0.9903863037752414",
         "0.962594696969697",
         "0.9760940238402774",
         "0.03740530303030303"
        ],
        [
         "std",
         "0.02624746505972576",
         "0.011643415317741664",
         "0.02861353206389796",
         "0.015110997094276208",
         "0.028613532063897967"
        ]
       ],
       "shape": {
        "columns": 5,
        "rows": 2
       }
      },
      "text/html": [
       "<div>\n",
       "<style scoped>\n",
       "    .dataframe tbody tr th:only-of-type {\n",
       "        vertical-align: middle;\n",
       "    }\n",
       "\n",
       "    .dataframe tbody tr th {\n",
       "        vertical-align: top;\n",
       "    }\n",
       "\n",
       "    .dataframe thead th {\n",
       "        text-align: right;\n",
       "    }\n",
       "</style>\n",
       "<table border=\"1\" class=\"dataframe\">\n",
       "  <thead>\n",
       "    <tr style=\"text-align: right;\">\n",
       "      <th></th>\n",
       "      <th>bacc</th>\n",
       "      <th>precision</th>\n",
       "      <th>recall</th>\n",
       "      <th>f1</th>\n",
       "      <th>fnr</th>\n",
       "    </tr>\n",
       "  </thead>\n",
       "  <tbody>\n",
       "    <tr>\n",
       "      <th>mean</th>\n",
       "      <td>0.964252</td>\n",
       "      <td>0.990386</td>\n",
       "      <td>0.962595</td>\n",
       "      <td>0.976094</td>\n",
       "      <td>0.037405</td>\n",
       "    </tr>\n",
       "    <tr>\n",
       "      <th>std</th>\n",
       "      <td>0.026247</td>\n",
       "      <td>0.011643</td>\n",
       "      <td>0.028614</td>\n",
       "      <td>0.015111</td>\n",
       "      <td>0.028614</td>\n",
       "    </tr>\n",
       "  </tbody>\n",
       "</table>\n",
       "</div>"
      ],
      "text/plain": [
       "          bacc  precision    recall        f1       fnr\n",
       "mean  0.964252   0.990386  0.962595  0.976094  0.037405\n",
       "std   0.026247   0.011643  0.028614  0.015111  0.028614"
      ]
     },
     "execution_count": 77,
     "metadata": {},
     "output_type": "execute_result"
    }
   ],
   "source": [
    "one_model_out_xgb[[\"bacc\", \"precision\", \"recall\", \"f1\", \"fnr\"]].agg(['mean', 'std'])"
   ]
  },
  {
   "cell_type": "code",
   "execution_count": 78,
   "metadata": {},
   "outputs": [
    {
     "name": "stdout",
     "output_type": "stream",
     "text": [
      "\\begin{tabular}{lllll}\n",
      "\\toprule\n",
      "bacc & precision & recall & f1 & fnr \\\\\n",
      "\\midrule\n",
      "0.96 (0.03) & 0.99 (0.01) & 0.96 (0.03) & 0.98 (0.02) & 0.04 (0.03) \\\\\n",
      "\\bottomrule\n",
      "\\end{tabular}\n",
      "\n"
     ]
    }
   ],
   "source": [
    "format_mean_std(one_model_out_xgb)"
   ]
  },
  {
   "cell_type": "markdown",
   "metadata": {},
   "source": [
    "## Random forest"
   ]
  },
  {
   "cell_type": "code",
   "execution_count": 79,
   "metadata": {},
   "outputs": [
    {
     "data": {
      "application/vnd.microsoft.datawrangler.viewer.v0+json": {
       "columns": [
        {
         "name": "index",
         "rawType": "int64",
         "type": "integer"
        },
        {
         "name": "model",
         "rawType": "object",
         "type": "string"
        },
        {
         "name": "bacc",
         "rawType": "float64",
         "type": "float"
        },
        {
         "name": "kappa",
         "rawType": "float64",
         "type": "float"
        },
        {
         "name": "precision",
         "rawType": "float64",
         "type": "float"
        },
        {
         "name": "recall",
         "rawType": "float64",
         "type": "float"
        },
        {
         "name": "f1",
         "rawType": "float64",
         "type": "float"
        },
        {
         "name": "fnr",
         "rawType": "float64",
         "type": "float"
        }
       ],
       "ref": "00fd55b0-6464-4281-b8b1-3febd0ec52dd",
       "rows": [
        [
         "0",
         "lin",
         "0.8863636363636364",
         "0.8360655737704918",
         "0.9295774647887324",
         "1.0",
         "0.9635036496350365",
         "0.0"
        ],
        [
         "1",
         "nn",
         "0.9602272727272727",
         "0.8901098901098901",
         "0.9883720930232558",
         "0.9659090909090909",
         "0.9770114942528736",
         "0.03409090909090909"
        ],
        [
         "2",
         "svm",
         "0.9621212121212122",
         "0.9104477611940298",
         "0.9846153846153847",
         "0.9696969696969697",
         "0.9770992366412213",
         "0.030303030303030304"
        ],
        [
         "3",
         "xgb",
         "0.9609375",
         "0.8578982154659617",
         "1.0",
         "0.921875",
         "0.959349593495935",
         "0.078125"
        ]
       ],
       "shape": {
        "columns": 7,
        "rows": 4
       }
      },
      "text/html": [
       "<div>\n",
       "<style scoped>\n",
       "    .dataframe tbody tr th:only-of-type {\n",
       "        vertical-align: middle;\n",
       "    }\n",
       "\n",
       "    .dataframe tbody tr th {\n",
       "        vertical-align: top;\n",
       "    }\n",
       "\n",
       "    .dataframe thead th {\n",
       "        text-align: right;\n",
       "    }\n",
       "</style>\n",
       "<table border=\"1\" class=\"dataframe\">\n",
       "  <thead>\n",
       "    <tr style=\"text-align: right;\">\n",
       "      <th></th>\n",
       "      <th>model</th>\n",
       "      <th>bacc</th>\n",
       "      <th>kappa</th>\n",
       "      <th>precision</th>\n",
       "      <th>recall</th>\n",
       "      <th>f1</th>\n",
       "      <th>fnr</th>\n",
       "    </tr>\n",
       "  </thead>\n",
       "  <tbody>\n",
       "    <tr>\n",
       "      <th>0</th>\n",
       "      <td>lin</td>\n",
       "      <td>0.886364</td>\n",
       "      <td>0.836066</td>\n",
       "      <td>0.929577</td>\n",
       "      <td>1.000000</td>\n",
       "      <td>0.963504</td>\n",
       "      <td>0.000000</td>\n",
       "    </tr>\n",
       "    <tr>\n",
       "      <th>1</th>\n",
       "      <td>nn</td>\n",
       "      <td>0.960227</td>\n",
       "      <td>0.890110</td>\n",
       "      <td>0.988372</td>\n",
       "      <td>0.965909</td>\n",
       "      <td>0.977011</td>\n",
       "      <td>0.034091</td>\n",
       "    </tr>\n",
       "    <tr>\n",
       "      <th>2</th>\n",
       "      <td>svm</td>\n",
       "      <td>0.962121</td>\n",
       "      <td>0.910448</td>\n",
       "      <td>0.984615</td>\n",
       "      <td>0.969697</td>\n",
       "      <td>0.977099</td>\n",
       "      <td>0.030303</td>\n",
       "    </tr>\n",
       "    <tr>\n",
       "      <th>3</th>\n",
       "      <td>xgb</td>\n",
       "      <td>0.960938</td>\n",
       "      <td>0.857898</td>\n",
       "      <td>1.000000</td>\n",
       "      <td>0.921875</td>\n",
       "      <td>0.959350</td>\n",
       "      <td>0.078125</td>\n",
       "    </tr>\n",
       "  </tbody>\n",
       "</table>\n",
       "</div>"
      ],
      "text/plain": [
       "  model      bacc     kappa  precision    recall        f1       fnr\n",
       "0   lin  0.886364  0.836066   0.929577  1.000000  0.963504  0.000000\n",
       "1    nn  0.960227  0.890110   0.988372  0.965909  0.977011  0.034091\n",
       "2   svm  0.962121  0.910448   0.984615  0.969697  0.977099  0.030303\n",
       "3   xgb  0.960938  0.857898   1.000000  0.921875  0.959350  0.078125"
      ]
     },
     "execution_count": 79,
     "metadata": {},
     "output_type": "execute_result"
    }
   ],
   "source": [
    "one_model_out_rf, one_model_out_fi_rf = leave_model_out(model=RandomForestClassifier(random_state=123))\n",
    "one_model_out_rf"
   ]
  },
  {
   "cell_type": "code",
   "execution_count": 80,
   "metadata": {},
   "outputs": [
    {
     "data": {
      "application/vnd.microsoft.datawrangler.viewer.v0+json": {
       "columns": [
        {
         "name": "index",
         "rawType": "object",
         "type": "string"
        },
        {
         "name": "bacc",
         "rawType": "float64",
         "type": "float"
        },
        {
         "name": "kappa",
         "rawType": "float64",
         "type": "float"
        }
       ],
       "ref": "b4fc64c4-e353-424b-ba1c-f3a1410ce08b",
       "rows": [
        [
         "mean",
         "0.9424124053030303",
         "0.8736303601350933"
        ],
        [
         "std",
         "0.037374011472737806",
         "0.03309435742153758"
        ]
       ],
       "shape": {
        "columns": 2,
        "rows": 2
       }
      },
      "text/html": [
       "<div>\n",
       "<style scoped>\n",
       "    .dataframe tbody tr th:only-of-type {\n",
       "        vertical-align: middle;\n",
       "    }\n",
       "\n",
       "    .dataframe tbody tr th {\n",
       "        vertical-align: top;\n",
       "    }\n",
       "\n",
       "    .dataframe thead th {\n",
       "        text-align: right;\n",
       "    }\n",
       "</style>\n",
       "<table border=\"1\" class=\"dataframe\">\n",
       "  <thead>\n",
       "    <tr style=\"text-align: right;\">\n",
       "      <th></th>\n",
       "      <th>bacc</th>\n",
       "      <th>kappa</th>\n",
       "    </tr>\n",
       "  </thead>\n",
       "  <tbody>\n",
       "    <tr>\n",
       "      <th>mean</th>\n",
       "      <td>0.942412</td>\n",
       "      <td>0.873630</td>\n",
       "    </tr>\n",
       "    <tr>\n",
       "      <th>std</th>\n",
       "      <td>0.037374</td>\n",
       "      <td>0.033094</td>\n",
       "    </tr>\n",
       "  </tbody>\n",
       "</table>\n",
       "</div>"
      ],
      "text/plain": [
       "          bacc     kappa\n",
       "mean  0.942412  0.873630\n",
       "std   0.037374  0.033094"
      ]
     },
     "execution_count": 80,
     "metadata": {},
     "output_type": "execute_result"
    }
   ],
   "source": [
    "one_model_out_rf[[\"bacc\", \"kappa\"]].agg(['mean', 'std'])"
   ]
  },
  {
   "cell_type": "code",
   "execution_count": 81,
   "metadata": {},
   "outputs": [
    {
     "name": "stdout",
     "output_type": "stream",
     "text": [
      "\\begin{tabular}{lllll}\n",
      "\\toprule\n",
      "bacc & precision & recall & f1 & fnr \\\\\n",
      "\\midrule\n",
      "0.94 (0.04) & 0.98 (0.03) & 0.96 (0.03) & 0.97 (0.01) & 0.04 (0.03) \\\\\n",
      "\\bottomrule\n",
      "\\end{tabular}\n",
      "\n"
     ]
    }
   ],
   "source": [
    "format_mean_std(one_model_out_rf)"
   ]
  },
  {
   "cell_type": "markdown",
   "metadata": {},
   "source": [
    "# 10-fold cross validation"
   ]
  },
  {
   "cell_type": "code",
   "execution_count": 82,
   "metadata": {},
   "outputs": [],
   "source": [
    "def cross_validation(model=xgb.XGBClassifier(random_state=123)):\n",
    "\n",
    "    kappa_list = []\n",
    "    bacc_list = []\n",
    "    precision_list = []\n",
    "    recall_list = []\n",
    "    f1_list = []\n",
    "    fnr_list = []\n",
    "    iter_cv = []\n",
    "    fi_all = pd.DataFrame()\n",
    "\n",
    "    le = LabelEncoder()\n",
    "    x = attrs_agg_correct_cols.drop(columns=[\"dataset\", \"model\", \"attack\", \"attack_binary\"])\n",
    "    y = attrs_agg_correct_cols[\"attack_binary\"]\n",
    "    y_enc = le.fit_transform(y)\n",
    "\n",
    "    skf = StratifiedKFold(n_splits=10, random_state=None)\n",
    "    cv = 0\n",
    "    for train, test in skf.split(x, y_enc):\n",
    "\n",
    "        x_train = x.iloc[train]\n",
    "        y_train = y_enc[train]\n",
    "\n",
    "        x_test = x.iloc[test]\n",
    "        y_test = y_enc[test]\n",
    "\n",
    "        model.fit(x_train, y_train)\n",
    "\n",
    "        fi_dict = {'var': x_train.columns, 'fi': model.feature_importances_}\n",
    "        fi_df = pd.DataFrame(fi_dict)\n",
    "        fi_df[\"fi_rank\"] = fi_df[\"fi\"].rank(ascending=False)\n",
    "        fi_df[\"cv\"] = cv\n",
    "        fi_all = pd.concat([fi_all, fi_df])\n",
    "\n",
    "        preds = model.predict(x_test)\n",
    "        bacc_list.append(balanced_accuracy_score(y_test, preds))\n",
    "        kappa_list.append(cohen_kappa_score(y_test, preds))\n",
    "        precision_list.append(precision_score(y_test, preds))\n",
    "        recall_list.append(recall_score(y_test, preds))\n",
    "        f1_list.append(f1_score(y_test, preds))\n",
    "        fnr_list.append(false_negative_rate(y_test, preds))\n",
    "        iter_cv.append(cv)\n",
    "        cv = cv + 1\n",
    "\n",
    "    results_dict = {'cv': iter_cv, 'bacc': bacc_list, 'kappa': kappa_list, 'precision': precision_list,\n",
    "                    'recall': recall_list, 'f1': f1_list, 'fnr': fnr_list}\n",
    "    results_df = pd.DataFrame(results_dict)\n",
    "    return results_df, fi_all"
   ]
  },
  {
   "cell_type": "markdown",
   "metadata": {},
   "source": [
    "## XGBoost"
   ]
  },
  {
   "cell_type": "code",
   "execution_count": 83,
   "metadata": {},
   "outputs": [
    {
     "data": {
      "application/vnd.microsoft.datawrangler.viewer.v0+json": {
       "columns": [
        {
         "name": "index",
         "rawType": "int64",
         "type": "integer"
        },
        {
         "name": "cv",
         "rawType": "int64",
         "type": "integer"
        },
        {
         "name": "bacc",
         "rawType": "float64",
         "type": "float"
        },
        {
         "name": "kappa",
         "rawType": "float64",
         "type": "float"
        },
        {
         "name": "precision",
         "rawType": "float64",
         "type": "float"
        },
        {
         "name": "recall",
         "rawType": "float64",
         "type": "float"
        },
        {
         "name": "f1",
         "rawType": "float64",
         "type": "float"
        },
        {
         "name": "fnr",
         "rawType": "float64",
         "type": "float"
        }
       ],
       "ref": "0baa84c1-5720-48bc-bb3e-ae7573164823",
       "rows": [
        [
         "0",
         "0",
         "0.9827586206896552",
         "0.929889298892989",
         "1.0",
         "0.9655172413793104",
         "0.9824561403508771",
         "0.034482758620689655"
        ],
        [
         "1",
         "1",
         "0.9482758620689655",
         "0.8041237113402062",
         "1.0",
         "0.896551724137931",
         "0.9454545454545454",
         "0.10344827586206896"
        ],
        [
         "2",
         "2",
         "0.875",
         "0.8246445497630331",
         "0.9354838709677419",
         "1.0",
         "0.9666666666666667",
         "0.0"
        ],
        [
         "3",
         "3",
         "1.0",
         "1.0",
         "1.0",
         "1.0",
         "1.0",
         "0.0"
        ],
        [
         "4",
         "4",
         "1.0",
         "1.0",
         "1.0",
         "1.0",
         "1.0",
         "0.0"
        ],
        [
         "5",
         "5",
         "0.9464285714285714",
         "0.8021390374331551",
         "1.0",
         "0.8928571428571429",
         "0.9433962264150944",
         "0.10714285714285714"
        ],
        [
         "6",
         "6",
         "0.8551587301587301",
         "0.6172413793103448",
         "0.9583333333333334",
         "0.8214285714285714",
         "0.8846153846153846",
         "0.17857142857142858"
        ],
        [
         "7",
         "7",
         "0.8333333333333333",
         "0.7516778523489933",
         "0.9032258064516129",
         "1.0",
         "0.9491525423728814",
         "0.0"
        ],
        [
         "8",
         "8",
         "0.9444444444444444",
         "0.9237113402061856",
         "0.9655172413793104",
         "1.0",
         "0.9824561403508771",
         "0.0"
        ],
        [
         "9",
         "9",
         "1.0",
         "1.0",
         "1.0",
         "1.0",
         "1.0",
         "0.0"
        ]
       ],
       "shape": {
        "columns": 7,
        "rows": 10
       }
      },
      "text/html": [
       "<div>\n",
       "<style scoped>\n",
       "    .dataframe tbody tr th:only-of-type {\n",
       "        vertical-align: middle;\n",
       "    }\n",
       "\n",
       "    .dataframe tbody tr th {\n",
       "        vertical-align: top;\n",
       "    }\n",
       "\n",
       "    .dataframe thead th {\n",
       "        text-align: right;\n",
       "    }\n",
       "</style>\n",
       "<table border=\"1\" class=\"dataframe\">\n",
       "  <thead>\n",
       "    <tr style=\"text-align: right;\">\n",
       "      <th></th>\n",
       "      <th>cv</th>\n",
       "      <th>bacc</th>\n",
       "      <th>kappa</th>\n",
       "      <th>precision</th>\n",
       "      <th>recall</th>\n",
       "      <th>f1</th>\n",
       "      <th>fnr</th>\n",
       "    </tr>\n",
       "  </thead>\n",
       "  <tbody>\n",
       "    <tr>\n",
       "      <th>0</th>\n",
       "      <td>0</td>\n",
       "      <td>0.982759</td>\n",
       "      <td>0.929889</td>\n",
       "      <td>1.000000</td>\n",
       "      <td>0.965517</td>\n",
       "      <td>0.982456</td>\n",
       "      <td>0.034483</td>\n",
       "    </tr>\n",
       "    <tr>\n",
       "      <th>1</th>\n",
       "      <td>1</td>\n",
       "      <td>0.948276</td>\n",
       "      <td>0.804124</td>\n",
       "      <td>1.000000</td>\n",
       "      <td>0.896552</td>\n",
       "      <td>0.945455</td>\n",
       "      <td>0.103448</td>\n",
       "    </tr>\n",
       "    <tr>\n",
       "      <th>2</th>\n",
       "      <td>2</td>\n",
       "      <td>0.875000</td>\n",
       "      <td>0.824645</td>\n",
       "      <td>0.935484</td>\n",
       "      <td>1.000000</td>\n",
       "      <td>0.966667</td>\n",
       "      <td>0.000000</td>\n",
       "    </tr>\n",
       "    <tr>\n",
       "      <th>3</th>\n",
       "      <td>3</td>\n",
       "      <td>1.000000</td>\n",
       "      <td>1.000000</td>\n",
       "      <td>1.000000</td>\n",
       "      <td>1.000000</td>\n",
       "      <td>1.000000</td>\n",
       "      <td>0.000000</td>\n",
       "    </tr>\n",
       "    <tr>\n",
       "      <th>4</th>\n",
       "      <td>4</td>\n",
       "      <td>1.000000</td>\n",
       "      <td>1.000000</td>\n",
       "      <td>1.000000</td>\n",
       "      <td>1.000000</td>\n",
       "      <td>1.000000</td>\n",
       "      <td>0.000000</td>\n",
       "    </tr>\n",
       "    <tr>\n",
       "      <th>5</th>\n",
       "      <td>5</td>\n",
       "      <td>0.946429</td>\n",
       "      <td>0.802139</td>\n",
       "      <td>1.000000</td>\n",
       "      <td>0.892857</td>\n",
       "      <td>0.943396</td>\n",
       "      <td>0.107143</td>\n",
       "    </tr>\n",
       "    <tr>\n",
       "      <th>6</th>\n",
       "      <td>6</td>\n",
       "      <td>0.855159</td>\n",
       "      <td>0.617241</td>\n",
       "      <td>0.958333</td>\n",
       "      <td>0.821429</td>\n",
       "      <td>0.884615</td>\n",
       "      <td>0.178571</td>\n",
       "    </tr>\n",
       "    <tr>\n",
       "      <th>7</th>\n",
       "      <td>7</td>\n",
       "      <td>0.833333</td>\n",
       "      <td>0.751678</td>\n",
       "      <td>0.903226</td>\n",
       "      <td>1.000000</td>\n",
       "      <td>0.949153</td>\n",
       "      <td>0.000000</td>\n",
       "    </tr>\n",
       "    <tr>\n",
       "      <th>8</th>\n",
       "      <td>8</td>\n",
       "      <td>0.944444</td>\n",
       "      <td>0.923711</td>\n",
       "      <td>0.965517</td>\n",
       "      <td>1.000000</td>\n",
       "      <td>0.982456</td>\n",
       "      <td>0.000000</td>\n",
       "    </tr>\n",
       "    <tr>\n",
       "      <th>9</th>\n",
       "      <td>9</td>\n",
       "      <td>1.000000</td>\n",
       "      <td>1.000000</td>\n",
       "      <td>1.000000</td>\n",
       "      <td>1.000000</td>\n",
       "      <td>1.000000</td>\n",
       "      <td>0.000000</td>\n",
       "    </tr>\n",
       "  </tbody>\n",
       "</table>\n",
       "</div>"
      ],
      "text/plain": [
       "   cv      bacc     kappa  precision    recall        f1       fnr\n",
       "0   0  0.982759  0.929889   1.000000  0.965517  0.982456  0.034483\n",
       "1   1  0.948276  0.804124   1.000000  0.896552  0.945455  0.103448\n",
       "2   2  0.875000  0.824645   0.935484  1.000000  0.966667  0.000000\n",
       "3   3  1.000000  1.000000   1.000000  1.000000  1.000000  0.000000\n",
       "4   4  1.000000  1.000000   1.000000  1.000000  1.000000  0.000000\n",
       "5   5  0.946429  0.802139   1.000000  0.892857  0.943396  0.107143\n",
       "6   6  0.855159  0.617241   0.958333  0.821429  0.884615  0.178571\n",
       "7   7  0.833333  0.751678   0.903226  1.000000  0.949153  0.000000\n",
       "8   8  0.944444  0.923711   0.965517  1.000000  0.982456  0.000000\n",
       "9   9  1.000000  1.000000   1.000000  1.000000  1.000000  0.000000"
      ]
     },
     "execution_count": 83,
     "metadata": {},
     "output_type": "execute_result"
    }
   ],
   "source": [
    "cv_xgb, cv_fi_xgb = cross_validation()\n",
    "cv_xgb"
   ]
  },
  {
   "cell_type": "code",
   "execution_count": 84,
   "metadata": {},
   "outputs": [
    {
     "data": {
      "application/vnd.microsoft.datawrangler.viewer.v0+json": {
       "columns": [
        {
         "name": "index",
         "rawType": "object",
         "type": "string"
        },
        {
         "name": "bacc",
         "rawType": "float64",
         "type": "float"
        },
        {
         "name": "precision",
         "rawType": "float64",
         "type": "float"
        },
        {
         "name": "recall",
         "rawType": "float64",
         "type": "float"
        },
        {
         "name": "f1",
         "rawType": "float64",
         "type": "float"
        },
        {
         "name": "fnr",
         "rawType": "float64",
         "type": "float"
        }
       ],
       "ref": "68516076-00ce-4f00-9917-d7137cd53da9",
       "rows": [
        [
         "mean",
         "0.93853995621237",
         "0.9762560252131998",
         "0.9576354679802955",
         "0.9654197646226326",
         "0.04236453201970443"
        ],
        [
         "std",
         "0.06283786077476376",
         "0.03466503811669861",
         "0.06438634916331028",
         "0.036281347452260505",
         "0.06438634916331028"
        ]
       ],
       "shape": {
        "columns": 5,
        "rows": 2
       }
      },
      "text/html": [
       "<div>\n",
       "<style scoped>\n",
       "    .dataframe tbody tr th:only-of-type {\n",
       "        vertical-align: middle;\n",
       "    }\n",
       "\n",
       "    .dataframe tbody tr th {\n",
       "        vertical-align: top;\n",
       "    }\n",
       "\n",
       "    .dataframe thead th {\n",
       "        text-align: right;\n",
       "    }\n",
       "</style>\n",
       "<table border=\"1\" class=\"dataframe\">\n",
       "  <thead>\n",
       "    <tr style=\"text-align: right;\">\n",
       "      <th></th>\n",
       "      <th>bacc</th>\n",
       "      <th>precision</th>\n",
       "      <th>recall</th>\n",
       "      <th>f1</th>\n",
       "      <th>fnr</th>\n",
       "    </tr>\n",
       "  </thead>\n",
       "  <tbody>\n",
       "    <tr>\n",
       "      <th>mean</th>\n",
       "      <td>0.938540</td>\n",
       "      <td>0.976256</td>\n",
       "      <td>0.957635</td>\n",
       "      <td>0.965420</td>\n",
       "      <td>0.042365</td>\n",
       "    </tr>\n",
       "    <tr>\n",
       "      <th>std</th>\n",
       "      <td>0.062838</td>\n",
       "      <td>0.034665</td>\n",
       "      <td>0.064386</td>\n",
       "      <td>0.036281</td>\n",
       "      <td>0.064386</td>\n",
       "    </tr>\n",
       "  </tbody>\n",
       "</table>\n",
       "</div>"
      ],
      "text/plain": [
       "          bacc  precision    recall        f1       fnr\n",
       "mean  0.938540   0.976256  0.957635  0.965420  0.042365\n",
       "std   0.062838   0.034665  0.064386  0.036281  0.064386"
      ]
     },
     "execution_count": 84,
     "metadata": {},
     "output_type": "execute_result"
    }
   ],
   "source": [
    "cv_xgb[[\"bacc\", \"precision\", \"recall\", \"f1\", \"fnr\"]].agg(['mean', 'std'])"
   ]
  },
  {
   "cell_type": "code",
   "execution_count": 85,
   "metadata": {},
   "outputs": [
    {
     "name": "stdout",
     "output_type": "stream",
     "text": [
      "\\begin{tabular}{lllll}\n",
      "\\toprule\n",
      "bacc & precision & recall & f1 & fnr \\\\\n",
      "\\midrule\n",
      "0.94 (0.06) & 0.98 (0.03) & 0.96 (0.06) & 0.97 (0.04) & 0.04 (0.06) \\\\\n",
      "\\bottomrule\n",
      "\\end{tabular}\n",
      "\n"
     ]
    }
   ],
   "source": [
    "format_mean_std(cv_xgb)"
   ]
  },
  {
   "cell_type": "markdown",
   "metadata": {},
   "source": [
    "## Random forest"
   ]
  },
  {
   "cell_type": "code",
   "execution_count": 86,
   "metadata": {},
   "outputs": [
    {
     "data": {
      "application/vnd.microsoft.datawrangler.viewer.v0+json": {
       "columns": [
        {
         "name": "index",
         "rawType": "int64",
         "type": "integer"
        },
        {
         "name": "cv",
         "rawType": "int64",
         "type": "integer"
        },
        {
         "name": "bacc",
         "rawType": "float64",
         "type": "float"
        },
        {
         "name": "kappa",
         "rawType": "float64",
         "type": "float"
        },
        {
         "name": "precision",
         "rawType": "float64",
         "type": "float"
        },
        {
         "name": "recall",
         "rawType": "float64",
         "type": "float"
        },
        {
         "name": "f1",
         "rawType": "float64",
         "type": "float"
        },
        {
         "name": "fnr",
         "rawType": "float64",
         "type": "float"
        }
       ],
       "ref": "7a355a33-20a9-4566-8737-085441258b5f",
       "rows": [
        [
         "0",
         "0",
         "0.9272030651340997",
         "0.8544061302681992",
         "0.9655172413793104",
         "0.9655172413793104",
         "0.9655172413793104",
         "0.034482758620689655"
        ],
        [
         "1",
         "1",
         "0.9655172413793103",
         "0.8647686832740213",
         "1.0",
         "0.9310344827586207",
         "0.9642857142857143",
         "0.06896551724137931"
        ],
        [
         "2",
         "2",
         "0.8125",
         "0.7231920199501247",
         "0.90625",
         "1.0",
         "0.9508196721311475",
         "0.0"
        ],
        [
         "3",
         "3",
         "1.0",
         "1.0",
         "1.0",
         "1.0",
         "1.0",
         "0.0"
        ],
        [
         "4",
         "4",
         "1.0",
         "1.0",
         "1.0",
         "1.0",
         "1.0",
         "0.0"
        ],
        [
         "5",
         "5",
         "0.9464285714285714",
         "0.8021390374331551",
         "1.0",
         "0.8928571428571429",
         "0.9433962264150944",
         "0.10714285714285714"
        ],
        [
         "6",
         "6",
         "0.9087301587301587",
         "0.7877629063097514",
         "0.9629629629629629",
         "0.9285714285714286",
         "0.9454545454545454",
         "0.07142857142857142"
        ],
        [
         "7",
         "7",
         "0.8888888888888888",
         "0.8412017167381974",
         "0.9333333333333333",
         "1.0",
         "0.9655172413793104",
         "0.0"
        ],
        [
         "8",
         "8",
         "0.9444444444444444",
         "0.9237113402061856",
         "0.9655172413793104",
         "1.0",
         "0.9824561403508771",
         "0.0"
        ],
        [
         "9",
         "9",
         "1.0",
         "1.0",
         "1.0",
         "1.0",
         "1.0",
         "0.0"
        ]
       ],
       "shape": {
        "columns": 7,
        "rows": 10
       }
      },
      "text/html": [
       "<div>\n",
       "<style scoped>\n",
       "    .dataframe tbody tr th:only-of-type {\n",
       "        vertical-align: middle;\n",
       "    }\n",
       "\n",
       "    .dataframe tbody tr th {\n",
       "        vertical-align: top;\n",
       "    }\n",
       "\n",
       "    .dataframe thead th {\n",
       "        text-align: right;\n",
       "    }\n",
       "</style>\n",
       "<table border=\"1\" class=\"dataframe\">\n",
       "  <thead>\n",
       "    <tr style=\"text-align: right;\">\n",
       "      <th></th>\n",
       "      <th>cv</th>\n",
       "      <th>bacc</th>\n",
       "      <th>kappa</th>\n",
       "      <th>precision</th>\n",
       "      <th>recall</th>\n",
       "      <th>f1</th>\n",
       "      <th>fnr</th>\n",
       "    </tr>\n",
       "  </thead>\n",
       "  <tbody>\n",
       "    <tr>\n",
       "      <th>0</th>\n",
       "      <td>0</td>\n",
       "      <td>0.927203</td>\n",
       "      <td>0.854406</td>\n",
       "      <td>0.965517</td>\n",
       "      <td>0.965517</td>\n",
       "      <td>0.965517</td>\n",
       "      <td>0.034483</td>\n",
       "    </tr>\n",
       "    <tr>\n",
       "      <th>1</th>\n",
       "      <td>1</td>\n",
       "      <td>0.965517</td>\n",
       "      <td>0.864769</td>\n",
       "      <td>1.000000</td>\n",
       "      <td>0.931034</td>\n",
       "      <td>0.964286</td>\n",
       "      <td>0.068966</td>\n",
       "    </tr>\n",
       "    <tr>\n",
       "      <th>2</th>\n",
       "      <td>2</td>\n",
       "      <td>0.812500</td>\n",
       "      <td>0.723192</td>\n",
       "      <td>0.906250</td>\n",
       "      <td>1.000000</td>\n",
       "      <td>0.950820</td>\n",
       "      <td>0.000000</td>\n",
       "    </tr>\n",
       "    <tr>\n",
       "      <th>3</th>\n",
       "      <td>3</td>\n",
       "      <td>1.000000</td>\n",
       "      <td>1.000000</td>\n",
       "      <td>1.000000</td>\n",
       "      <td>1.000000</td>\n",
       "      <td>1.000000</td>\n",
       "      <td>0.000000</td>\n",
       "    </tr>\n",
       "    <tr>\n",
       "      <th>4</th>\n",
       "      <td>4</td>\n",
       "      <td>1.000000</td>\n",
       "      <td>1.000000</td>\n",
       "      <td>1.000000</td>\n",
       "      <td>1.000000</td>\n",
       "      <td>1.000000</td>\n",
       "      <td>0.000000</td>\n",
       "    </tr>\n",
       "    <tr>\n",
       "      <th>5</th>\n",
       "      <td>5</td>\n",
       "      <td>0.946429</td>\n",
       "      <td>0.802139</td>\n",
       "      <td>1.000000</td>\n",
       "      <td>0.892857</td>\n",
       "      <td>0.943396</td>\n",
       "      <td>0.107143</td>\n",
       "    </tr>\n",
       "    <tr>\n",
       "      <th>6</th>\n",
       "      <td>6</td>\n",
       "      <td>0.908730</td>\n",
       "      <td>0.787763</td>\n",
       "      <td>0.962963</td>\n",
       "      <td>0.928571</td>\n",
       "      <td>0.945455</td>\n",
       "      <td>0.071429</td>\n",
       "    </tr>\n",
       "    <tr>\n",
       "      <th>7</th>\n",
       "      <td>7</td>\n",
       "      <td>0.888889</td>\n",
       "      <td>0.841202</td>\n",
       "      <td>0.933333</td>\n",
       "      <td>1.000000</td>\n",
       "      <td>0.965517</td>\n",
       "      <td>0.000000</td>\n",
       "    </tr>\n",
       "    <tr>\n",
       "      <th>8</th>\n",
       "      <td>8</td>\n",
       "      <td>0.944444</td>\n",
       "      <td>0.923711</td>\n",
       "      <td>0.965517</td>\n",
       "      <td>1.000000</td>\n",
       "      <td>0.982456</td>\n",
       "      <td>0.000000</td>\n",
       "    </tr>\n",
       "    <tr>\n",
       "      <th>9</th>\n",
       "      <td>9</td>\n",
       "      <td>1.000000</td>\n",
       "      <td>1.000000</td>\n",
       "      <td>1.000000</td>\n",
       "      <td>1.000000</td>\n",
       "      <td>1.000000</td>\n",
       "      <td>0.000000</td>\n",
       "    </tr>\n",
       "  </tbody>\n",
       "</table>\n",
       "</div>"
      ],
      "text/plain": [
       "   cv      bacc     kappa  precision    recall        f1       fnr\n",
       "0   0  0.927203  0.854406   0.965517  0.965517  0.965517  0.034483\n",
       "1   1  0.965517  0.864769   1.000000  0.931034  0.964286  0.068966\n",
       "2   2  0.812500  0.723192   0.906250  1.000000  0.950820  0.000000\n",
       "3   3  1.000000  1.000000   1.000000  1.000000  1.000000  0.000000\n",
       "4   4  1.000000  1.000000   1.000000  1.000000  1.000000  0.000000\n",
       "5   5  0.946429  0.802139   1.000000  0.892857  0.943396  0.107143\n",
       "6   6  0.908730  0.787763   0.962963  0.928571  0.945455  0.071429\n",
       "7   7  0.888889  0.841202   0.933333  1.000000  0.965517  0.000000\n",
       "8   8  0.944444  0.923711   0.965517  1.000000  0.982456  0.000000\n",
       "9   9  1.000000  1.000000   1.000000  1.000000  1.000000  0.000000"
      ]
     },
     "execution_count": 86,
     "metadata": {},
     "output_type": "execute_result"
    }
   ],
   "source": [
    "cv_rf, cv_fi_rf = cross_validation(model=RandomForestClassifier(random_state=123))\n",
    "cv_rf"
   ]
  },
  {
   "cell_type": "code",
   "execution_count": 87,
   "metadata": {},
   "outputs": [
    {
     "data": {
      "application/vnd.microsoft.datawrangler.viewer.v0+json": {
       "columns": [
        {
         "name": "index",
         "rawType": "object",
         "type": "string"
        },
        {
         "name": "bacc",
         "rawType": "float64",
         "type": "float"
        },
        {
         "name": "precision",
         "rawType": "float64",
         "type": "float"
        },
        {
         "name": "recall",
         "rawType": "float64",
         "type": "float"
        },
        {
         "name": "f1",
         "rawType": "float64",
         "type": "float"
        },
        {
         "name": "fnr",
         "rawType": "float64",
         "type": "float"
        }
       ],
       "ref": "8e210aff-dad7-4450-bd97-262a91dcca65",
       "rows": [
        [
         "mean",
         "0.9393712370005473",
         "0.9733580779054917",
         "0.9717980295566502",
         "0.9717446781396",
         "0.02820197044334975"
        ],
        [
         "std",
         "0.059178089028478445",
         "0.033141867130756224",
         "0.0402401464745639",
         "0.022547936121902534",
         "0.040240146474563906"
        ]
       ],
       "shape": {
        "columns": 5,
        "rows": 2
       }
      },
      "text/html": [
       "<div>\n",
       "<style scoped>\n",
       "    .dataframe tbody tr th:only-of-type {\n",
       "        vertical-align: middle;\n",
       "    }\n",
       "\n",
       "    .dataframe tbody tr th {\n",
       "        vertical-align: top;\n",
       "    }\n",
       "\n",
       "    .dataframe thead th {\n",
       "        text-align: right;\n",
       "    }\n",
       "</style>\n",
       "<table border=\"1\" class=\"dataframe\">\n",
       "  <thead>\n",
       "    <tr style=\"text-align: right;\">\n",
       "      <th></th>\n",
       "      <th>bacc</th>\n",
       "      <th>precision</th>\n",
       "      <th>recall</th>\n",
       "      <th>f1</th>\n",
       "      <th>fnr</th>\n",
       "    </tr>\n",
       "  </thead>\n",
       "  <tbody>\n",
       "    <tr>\n",
       "      <th>mean</th>\n",
       "      <td>0.939371</td>\n",
       "      <td>0.973358</td>\n",
       "      <td>0.971798</td>\n",
       "      <td>0.971745</td>\n",
       "      <td>0.028202</td>\n",
       "    </tr>\n",
       "    <tr>\n",
       "      <th>std</th>\n",
       "      <td>0.059178</td>\n",
       "      <td>0.033142</td>\n",
       "      <td>0.040240</td>\n",
       "      <td>0.022548</td>\n",
       "      <td>0.040240</td>\n",
       "    </tr>\n",
       "  </tbody>\n",
       "</table>\n",
       "</div>"
      ],
      "text/plain": [
       "          bacc  precision    recall        f1       fnr\n",
       "mean  0.939371   0.973358  0.971798  0.971745  0.028202\n",
       "std   0.059178   0.033142  0.040240  0.022548  0.040240"
      ]
     },
     "execution_count": 87,
     "metadata": {},
     "output_type": "execute_result"
    }
   ],
   "source": [
    "cv_rf[[\"bacc\", \"precision\", \"recall\", \"f1\", \"fnr\"]].agg(['mean', 'std'])"
   ]
  },
  {
   "cell_type": "code",
   "execution_count": 88,
   "metadata": {},
   "outputs": [
    {
     "name": "stdout",
     "output_type": "stream",
     "text": [
      "\\begin{tabular}{lllll}\n",
      "\\toprule\n",
      "bacc & precision & recall & f1 & fnr \\\\\n",
      "\\midrule\n",
      "0.94 (0.06) & 0.97 (0.03) & 0.97 (0.04) & 0.97 (0.02) & 0.03 (0.04) \\\\\n",
      "\\bottomrule\n",
      "\\end{tabular}\n",
      "\n"
     ]
    }
   ],
   "source": [
    "format_mean_std(cv_rf)"
   ]
  },
  {
   "cell_type": "markdown",
   "metadata": {
    "collapsed": false
   },
   "source": [
    "# Leave-one-attack-out"
   ]
  },
  {
   "cell_type": "code",
   "execution_count": 89,
   "metadata": {},
   "outputs": [
    {
     "data": {
      "text/plain": [
       "array(['bim', 'fgm', 'hsj', 'noise', 'org', 'per', 'pgd', 'zoo'],\n",
       "      dtype=object)"
      ]
     },
     "execution_count": 89,
     "metadata": {},
     "output_type": "execute_result"
    }
   ],
   "source": [
    "np.unique(attrs_agg_correct_cols[\"attack\"])"
   ]
  },
  {
   "cell_type": "code",
   "execution_count": 90,
   "metadata": {
    "collapsed": false
   },
   "outputs": [],
   "source": [
    "def leave_attack_out(model=xgb.XGBClassifier(random_state=123)):\n",
    "\n",
    "    # attacks = np.unique(attrs_agg_correct_cols[\"attack\"])\n",
    "    attacks = ['bim', 'fgm', 'hsj', 'noise', 'per', 'pgd', 'zoo'] # [\"hsj\", \"per\", \"zoo\"]\n",
    "    kappa_list = []\n",
    "    bacc_list = []\n",
    "    precision_list = []\n",
    "    recall_list = []\n",
    "    f1_list = []\n",
    "    fnr_list = []\n",
    "    fi_all = pd.DataFrame()\n",
    "\n",
    "    for selected_attack in attacks:\n",
    "\n",
    "        train = attrs_agg_correct_cols[attrs_agg_correct_cols[\"attack\"] != selected_attack]\n",
    "        test = attrs_agg_correct_cols[attrs_agg_correct_cols[\"attack\"] == selected_attack]\n",
    "\n",
    "        # y = attrs_agg_correct_cols[\"attack_binary\"]\n",
    "\n",
    "        x_train = train.drop(columns=[\"dataset\", \"model\", \"attack\", \"attack_binary\"])\n",
    "        y_train = train[\"attack_binary\"]\n",
    "\n",
    "        x_test = test.drop(columns=[\"dataset\", \"model\", \"attack\", \"attack_binary\"])\n",
    "        y_test = test[\"attack_binary\"]\n",
    "\n",
    "        le = LabelEncoder()\n",
    "        # y_enc = le.fit(y)\n",
    "        y_train_enc = le.fit_transform(y_train)\n",
    "        y_test_enc = le.transform(y_test)\n",
    "\n",
    "        model.fit(x_train, y_train_enc)\n",
    "\n",
    "        fi_dict = {'var': x_train.columns, 'fi': model.feature_importances_}\n",
    "        fi_df = pd.DataFrame(fi_dict)\n",
    "        fi_df[\"fi_rank\"] = fi_df[\"fi\"].rank(ascending=False)\n",
    "        fi_df[\"attack\"] = selected_attack\n",
    "        fi_all = pd.concat([fi_all, fi_df])\n",
    "\n",
    "        preds = model.predict(x_test)\n",
    "        bacc_list.append(balanced_accuracy_score(y_test_enc, preds))\n",
    "        kappa_list.append(cohen_kappa_score(y_test_enc, preds))\n",
    "        precision_list.append(precision_score(y_test_enc, preds))\n",
    "        recall_list.append(recall_score(y_test_enc, preds))\n",
    "        f1_list.append(f1_score(y_test_enc, preds))\n",
    "        fnr_list.append(false_negative_rate(y_test_enc, preds))\n",
    "\n",
    "    results_dict = {'attack': attacks, 'bacc': bacc_list, 'kappa': kappa_list, 'precision': precision_list,\n",
    "                    'recall': recall_list, 'f1': f1_list, 'fnr': fnr_list}\n",
    "    results_df = pd.DataFrame(results_dict)\n",
    "    return results_df, fi_all"
   ]
  },
  {
   "cell_type": "markdown",
   "metadata": {
    "collapsed": false
   },
   "source": [
    "## XGBoost"
   ]
  },
  {
   "cell_type": "code",
   "execution_count": 91,
   "metadata": {
    "collapsed": false
   },
   "outputs": [
    {
     "data": {
      "application/vnd.microsoft.datawrangler.viewer.v0+json": {
       "columns": [
        {
         "name": "index",
         "rawType": "int64",
         "type": "integer"
        },
        {
         "name": "attack",
         "rawType": "object",
         "type": "string"
        },
        {
         "name": "bacc",
         "rawType": "float64",
         "type": "float"
        },
        {
         "name": "kappa",
         "rawType": "float64",
         "type": "float"
        },
        {
         "name": "precision",
         "rawType": "float64",
         "type": "float"
        },
        {
         "name": "recall",
         "rawType": "float64",
         "type": "float"
        },
        {
         "name": "f1",
         "rawType": "float64",
         "type": "float"
        },
        {
         "name": "fnr",
         "rawType": "float64",
         "type": "float"
        }
       ],
       "ref": "e3757c33-7a41-4b10-9c71-eb3dc6cc3b40",
       "rows": [
        [
         "0",
         "bim",
         "1.0",
         null,
         "1.0",
         "1.0",
         "1.0",
         null
        ],
        [
         "1",
         "fgm",
         "1.0",
         null,
         "1.0",
         "1.0",
         "1.0",
         null
        ],
        [
         "2",
         "hsj",
         "1.0",
         null,
         "1.0",
         "1.0",
         "1.0",
         null
        ],
        [
         "3",
         "noise",
         "0.8636363636363636",
         "0.0",
         "1.0",
         "0.8636363636363636",
         "0.926829268292683",
         "0.13636363636363635"
        ],
        [
         "4",
         "per",
         "0.9545454545454546",
         "0.0",
         "1.0",
         "0.9545454545454546",
         "0.9767441860465116",
         "0.045454545454545456"
        ],
        [
         "5",
         "pgd",
         "1.0",
         null,
         "1.0",
         "1.0",
         "1.0",
         null
        ],
        [
         "6",
         "zoo",
         "0.9393939393939394",
         "0.0",
         "1.0",
         "0.9393939393939394",
         "0.96875",
         "0.06060606060606061"
        ]
       ],
       "shape": {
        "columns": 7,
        "rows": 7
       }
      },
      "text/html": [
       "<div>\n",
       "<style scoped>\n",
       "    .dataframe tbody tr th:only-of-type {\n",
       "        vertical-align: middle;\n",
       "    }\n",
       "\n",
       "    .dataframe tbody tr th {\n",
       "        vertical-align: top;\n",
       "    }\n",
       "\n",
       "    .dataframe thead th {\n",
       "        text-align: right;\n",
       "    }\n",
       "</style>\n",
       "<table border=\"1\" class=\"dataframe\">\n",
       "  <thead>\n",
       "    <tr style=\"text-align: right;\">\n",
       "      <th></th>\n",
       "      <th>attack</th>\n",
       "      <th>bacc</th>\n",
       "      <th>kappa</th>\n",
       "      <th>precision</th>\n",
       "      <th>recall</th>\n",
       "      <th>f1</th>\n",
       "      <th>fnr</th>\n",
       "    </tr>\n",
       "  </thead>\n",
       "  <tbody>\n",
       "    <tr>\n",
       "      <th>0</th>\n",
       "      <td>bim</td>\n",
       "      <td>1.000000</td>\n",
       "      <td>NaN</td>\n",
       "      <td>1.0</td>\n",
       "      <td>1.000000</td>\n",
       "      <td>1.000000</td>\n",
       "      <td>NaN</td>\n",
       "    </tr>\n",
       "    <tr>\n",
       "      <th>1</th>\n",
       "      <td>fgm</td>\n",
       "      <td>1.000000</td>\n",
       "      <td>NaN</td>\n",
       "      <td>1.0</td>\n",
       "      <td>1.000000</td>\n",
       "      <td>1.000000</td>\n",
       "      <td>NaN</td>\n",
       "    </tr>\n",
       "    <tr>\n",
       "      <th>2</th>\n",
       "      <td>hsj</td>\n",
       "      <td>1.000000</td>\n",
       "      <td>NaN</td>\n",
       "      <td>1.0</td>\n",
       "      <td>1.000000</td>\n",
       "      <td>1.000000</td>\n",
       "      <td>NaN</td>\n",
       "    </tr>\n",
       "    <tr>\n",
       "      <th>3</th>\n",
       "      <td>noise</td>\n",
       "      <td>0.863636</td>\n",
       "      <td>0.0</td>\n",
       "      <td>1.0</td>\n",
       "      <td>0.863636</td>\n",
       "      <td>0.926829</td>\n",
       "      <td>0.136364</td>\n",
       "    </tr>\n",
       "    <tr>\n",
       "      <th>4</th>\n",
       "      <td>per</td>\n",
       "      <td>0.954545</td>\n",
       "      <td>0.0</td>\n",
       "      <td>1.0</td>\n",
       "      <td>0.954545</td>\n",
       "      <td>0.976744</td>\n",
       "      <td>0.045455</td>\n",
       "    </tr>\n",
       "    <tr>\n",
       "      <th>5</th>\n",
       "      <td>pgd</td>\n",
       "      <td>1.000000</td>\n",
       "      <td>NaN</td>\n",
       "      <td>1.0</td>\n",
       "      <td>1.000000</td>\n",
       "      <td>1.000000</td>\n",
       "      <td>NaN</td>\n",
       "    </tr>\n",
       "    <tr>\n",
       "      <th>6</th>\n",
       "      <td>zoo</td>\n",
       "      <td>0.939394</td>\n",
       "      <td>0.0</td>\n",
       "      <td>1.0</td>\n",
       "      <td>0.939394</td>\n",
       "      <td>0.968750</td>\n",
       "      <td>0.060606</td>\n",
       "    </tr>\n",
       "  </tbody>\n",
       "</table>\n",
       "</div>"
      ],
      "text/plain": [
       "  attack      bacc  kappa  precision    recall        f1       fnr\n",
       "0    bim  1.000000    NaN        1.0  1.000000  1.000000       NaN\n",
       "1    fgm  1.000000    NaN        1.0  1.000000  1.000000       NaN\n",
       "2    hsj  1.000000    NaN        1.0  1.000000  1.000000       NaN\n",
       "3  noise  0.863636    0.0        1.0  0.863636  0.926829  0.136364\n",
       "4    per  0.954545    0.0        1.0  0.954545  0.976744  0.045455\n",
       "5    pgd  1.000000    NaN        1.0  1.000000  1.000000       NaN\n",
       "6    zoo  0.939394    0.0        1.0  0.939394  0.968750  0.060606"
      ]
     },
     "execution_count": 91,
     "metadata": {},
     "output_type": "execute_result"
    }
   ],
   "source": [
    "one_attack_out_xgb, one_attack_out_fi_xgb = leave_attack_out()\n",
    "one_attack_out_xgb"
   ]
  },
  {
   "cell_type": "code",
   "execution_count": 92,
   "metadata": {
    "collapsed": false
   },
   "outputs": [
    {
     "data": {
      "application/vnd.microsoft.datawrangler.viewer.v0+json": {
       "columns": [
        {
         "name": "index",
         "rawType": "object",
         "type": "string"
        },
        {
         "name": "bacc",
         "rawType": "float64",
         "type": "float"
        },
        {
         "name": "precision",
         "rawType": "float64",
         "type": "float"
        },
        {
         "name": "recall",
         "rawType": "float64",
         "type": "float"
        },
        {
         "name": "f1",
         "rawType": "float64",
         "type": "float"
        },
        {
         "name": "fnr",
         "rawType": "float64",
         "type": "float"
        }
       ],
       "ref": "d4801c53-9394-473f-a1a9-53c184af99ad",
       "rows": [
        [
         "mean",
         "0.9653679653679654",
         "1.0",
         "0.9653679653679654",
         "0.9817604934770278",
         "0.08080808080808081"
        ],
        [
         "std",
         "0.05154060995580371",
         "0.0",
         "0.05154060995580371",
         "0.027515432560088336",
         "0.04870530687370179"
        ]
       ],
       "shape": {
        "columns": 5,
        "rows": 2
       }
      },
      "text/html": [
       "<div>\n",
       "<style scoped>\n",
       "    .dataframe tbody tr th:only-of-type {\n",
       "        vertical-align: middle;\n",
       "    }\n",
       "\n",
       "    .dataframe tbody tr th {\n",
       "        vertical-align: top;\n",
       "    }\n",
       "\n",
       "    .dataframe thead th {\n",
       "        text-align: right;\n",
       "    }\n",
       "</style>\n",
       "<table border=\"1\" class=\"dataframe\">\n",
       "  <thead>\n",
       "    <tr style=\"text-align: right;\">\n",
       "      <th></th>\n",
       "      <th>bacc</th>\n",
       "      <th>precision</th>\n",
       "      <th>recall</th>\n",
       "      <th>f1</th>\n",
       "      <th>fnr</th>\n",
       "    </tr>\n",
       "  </thead>\n",
       "  <tbody>\n",
       "    <tr>\n",
       "      <th>mean</th>\n",
       "      <td>0.965368</td>\n",
       "      <td>1.0</td>\n",
       "      <td>0.965368</td>\n",
       "      <td>0.981760</td>\n",
       "      <td>0.080808</td>\n",
       "    </tr>\n",
       "    <tr>\n",
       "      <th>std</th>\n",
       "      <td>0.051541</td>\n",
       "      <td>0.0</td>\n",
       "      <td>0.051541</td>\n",
       "      <td>0.027515</td>\n",
       "      <td>0.048705</td>\n",
       "    </tr>\n",
       "  </tbody>\n",
       "</table>\n",
       "</div>"
      ],
      "text/plain": [
       "          bacc  precision    recall        f1       fnr\n",
       "mean  0.965368        1.0  0.965368  0.981760  0.080808\n",
       "std   0.051541        0.0  0.051541  0.027515  0.048705"
      ]
     },
     "execution_count": 92,
     "metadata": {},
     "output_type": "execute_result"
    }
   ],
   "source": [
    "one_attack_out_xgb[[\"bacc\", \"precision\", \"recall\", \"f1\", \"fnr\"]].agg(['mean', 'std'])"
   ]
  },
  {
   "cell_type": "code",
   "execution_count": 93,
   "metadata": {},
   "outputs": [
    {
     "name": "stdout",
     "output_type": "stream",
     "text": [
      "\\begin{tabular}{lllll}\n",
      "\\toprule\n",
      "bacc & precision & recall & f1 & fnr \\\\\n",
      "\\midrule\n",
      "0.97 (0.05) & 1.00 (0.00) & 0.97 (0.05) & 0.98 (0.03) & 0.08 (0.05) \\\\\n",
      "\\bottomrule\n",
      "\\end{tabular}\n",
      "\n"
     ]
    }
   ],
   "source": [
    "format_mean_std(one_attack_out_xgb)"
   ]
  },
  {
   "cell_type": "markdown",
   "metadata": {
    "collapsed": false
   },
   "source": [
    "## Random forest"
   ]
  },
  {
   "cell_type": "code",
   "execution_count": 94,
   "metadata": {
    "collapsed": false
   },
   "outputs": [
    {
     "data": {
      "application/vnd.microsoft.datawrangler.viewer.v0+json": {
       "columns": [
        {
         "name": "index",
         "rawType": "int64",
         "type": "integer"
        },
        {
         "name": "attack",
         "rawType": "object",
         "type": "string"
        },
        {
         "name": "bacc",
         "rawType": "float64",
         "type": "float"
        },
        {
         "name": "kappa",
         "rawType": "float64",
         "type": "float"
        },
        {
         "name": "precision",
         "rawType": "float64",
         "type": "float"
        },
        {
         "name": "recall",
         "rawType": "float64",
         "type": "float"
        },
        {
         "name": "f1",
         "rawType": "float64",
         "type": "float"
        },
        {
         "name": "fnr",
         "rawType": "float64",
         "type": "float"
        }
       ],
       "ref": "41370f57-e649-4d79-a602-5d6e5ed56119",
       "rows": [
        [
         "0",
         "bim",
         "1.0",
         null,
         "1.0",
         "1.0",
         "1.0",
         null
        ],
        [
         "1",
         "fgm",
         "1.0",
         null,
         "1.0",
         "1.0",
         "1.0",
         null
        ],
        [
         "2",
         "hsj",
         "1.0",
         null,
         "1.0",
         "1.0",
         "1.0",
         null
        ],
        [
         "3",
         "noise",
         "0.8181818181818182",
         "0.0",
         "1.0",
         "0.8181818181818182",
         "0.9",
         "0.18181818181818182"
        ],
        [
         "4",
         "per",
         "0.9393939393939394",
         "0.0",
         "1.0",
         "0.9393939393939394",
         "0.96875",
         "0.06060606060606061"
        ],
        [
         "5",
         "pgd",
         "1.0",
         null,
         "1.0",
         "1.0",
         "1.0",
         null
        ],
        [
         "6",
         "zoo",
         "0.9393939393939394",
         "0.0",
         "1.0",
         "0.9393939393939394",
         "0.96875",
         "0.06060606060606061"
        ]
       ],
       "shape": {
        "columns": 7,
        "rows": 7
       }
      },
      "text/html": [
       "<div>\n",
       "<style scoped>\n",
       "    .dataframe tbody tr th:only-of-type {\n",
       "        vertical-align: middle;\n",
       "    }\n",
       "\n",
       "    .dataframe tbody tr th {\n",
       "        vertical-align: top;\n",
       "    }\n",
       "\n",
       "    .dataframe thead th {\n",
       "        text-align: right;\n",
       "    }\n",
       "</style>\n",
       "<table border=\"1\" class=\"dataframe\">\n",
       "  <thead>\n",
       "    <tr style=\"text-align: right;\">\n",
       "      <th></th>\n",
       "      <th>attack</th>\n",
       "      <th>bacc</th>\n",
       "      <th>kappa</th>\n",
       "      <th>precision</th>\n",
       "      <th>recall</th>\n",
       "      <th>f1</th>\n",
       "      <th>fnr</th>\n",
       "    </tr>\n",
       "  </thead>\n",
       "  <tbody>\n",
       "    <tr>\n",
       "      <th>0</th>\n",
       "      <td>bim</td>\n",
       "      <td>1.000000</td>\n",
       "      <td>NaN</td>\n",
       "      <td>1.0</td>\n",
       "      <td>1.000000</td>\n",
       "      <td>1.00000</td>\n",
       "      <td>NaN</td>\n",
       "    </tr>\n",
       "    <tr>\n",
       "      <th>1</th>\n",
       "      <td>fgm</td>\n",
       "      <td>1.000000</td>\n",
       "      <td>NaN</td>\n",
       "      <td>1.0</td>\n",
       "      <td>1.000000</td>\n",
       "      <td>1.00000</td>\n",
       "      <td>NaN</td>\n",
       "    </tr>\n",
       "    <tr>\n",
       "      <th>2</th>\n",
       "      <td>hsj</td>\n",
       "      <td>1.000000</td>\n",
       "      <td>NaN</td>\n",
       "      <td>1.0</td>\n",
       "      <td>1.000000</td>\n",
       "      <td>1.00000</td>\n",
       "      <td>NaN</td>\n",
       "    </tr>\n",
       "    <tr>\n",
       "      <th>3</th>\n",
       "      <td>noise</td>\n",
       "      <td>0.818182</td>\n",
       "      <td>0.0</td>\n",
       "      <td>1.0</td>\n",
       "      <td>0.818182</td>\n",
       "      <td>0.90000</td>\n",
       "      <td>0.181818</td>\n",
       "    </tr>\n",
       "    <tr>\n",
       "      <th>4</th>\n",
       "      <td>per</td>\n",
       "      <td>0.939394</td>\n",
       "      <td>0.0</td>\n",
       "      <td>1.0</td>\n",
       "      <td>0.939394</td>\n",
       "      <td>0.96875</td>\n",
       "      <td>0.060606</td>\n",
       "    </tr>\n",
       "    <tr>\n",
       "      <th>5</th>\n",
       "      <td>pgd</td>\n",
       "      <td>1.000000</td>\n",
       "      <td>NaN</td>\n",
       "      <td>1.0</td>\n",
       "      <td>1.000000</td>\n",
       "      <td>1.00000</td>\n",
       "      <td>NaN</td>\n",
       "    </tr>\n",
       "    <tr>\n",
       "      <th>6</th>\n",
       "      <td>zoo</td>\n",
       "      <td>0.939394</td>\n",
       "      <td>0.0</td>\n",
       "      <td>1.0</td>\n",
       "      <td>0.939394</td>\n",
       "      <td>0.96875</td>\n",
       "      <td>0.060606</td>\n",
       "    </tr>\n",
       "  </tbody>\n",
       "</table>\n",
       "</div>"
      ],
      "text/plain": [
       "  attack      bacc  kappa  precision    recall       f1       fnr\n",
       "0    bim  1.000000    NaN        1.0  1.000000  1.00000       NaN\n",
       "1    fgm  1.000000    NaN        1.0  1.000000  1.00000       NaN\n",
       "2    hsj  1.000000    NaN        1.0  1.000000  1.00000       NaN\n",
       "3  noise  0.818182    0.0        1.0  0.818182  0.90000  0.181818\n",
       "4    per  0.939394    0.0        1.0  0.939394  0.96875  0.060606\n",
       "5    pgd  1.000000    NaN        1.0  1.000000  1.00000       NaN\n",
       "6    zoo  0.939394    0.0        1.0  0.939394  0.96875  0.060606"
      ]
     },
     "execution_count": 94,
     "metadata": {},
     "output_type": "execute_result"
    }
   ],
   "source": [
    "one_attack_out_rf, one_attack_out_fi_rf = leave_attack_out(model=RandomForestClassifier(random_state=123))\n",
    "one_attack_out_rf"
   ]
  },
  {
   "cell_type": "code",
   "execution_count": 95,
   "metadata": {
    "collapsed": false
   },
   "outputs": [
    {
     "data": {
      "application/vnd.microsoft.datawrangler.viewer.v0+json": {
       "columns": [
        {
         "name": "index",
         "rawType": "object",
         "type": "string"
        },
        {
         "name": "bacc",
         "rawType": "float64",
         "type": "float"
        },
        {
         "name": "precision",
         "rawType": "float64",
         "type": "float"
        },
        {
         "name": "recall",
         "rawType": "float64",
         "type": "float"
        },
        {
         "name": "f1",
         "rawType": "float64",
         "type": "float"
        },
        {
         "name": "fnr",
         "rawType": "float64",
         "type": "float"
        }
       ],
       "ref": "87400584-526b-4026-98b0-d7b117eea4bf",
       "rows": [
        [
         "mean",
         "0.9567099567099567",
         "1.0",
         "0.9567099567099567",
         "0.9767857142857144",
         "0.10101010101010101"
        ],
        [
         "std",
         "0.06743619881990141",
         "0.0",
         "0.06743619881990141",
         "0.03692515757454207",
         "0.06998185081086374"
        ]
       ],
       "shape": {
        "columns": 5,
        "rows": 2
       }
      },
      "text/html": [
       "<div>\n",
       "<style scoped>\n",
       "    .dataframe tbody tr th:only-of-type {\n",
       "        vertical-align: middle;\n",
       "    }\n",
       "\n",
       "    .dataframe tbody tr th {\n",
       "        vertical-align: top;\n",
       "    }\n",
       "\n",
       "    .dataframe thead th {\n",
       "        text-align: right;\n",
       "    }\n",
       "</style>\n",
       "<table border=\"1\" class=\"dataframe\">\n",
       "  <thead>\n",
       "    <tr style=\"text-align: right;\">\n",
       "      <th></th>\n",
       "      <th>bacc</th>\n",
       "      <th>precision</th>\n",
       "      <th>recall</th>\n",
       "      <th>f1</th>\n",
       "      <th>fnr</th>\n",
       "    </tr>\n",
       "  </thead>\n",
       "  <tbody>\n",
       "    <tr>\n",
       "      <th>mean</th>\n",
       "      <td>0.956710</td>\n",
       "      <td>1.0</td>\n",
       "      <td>0.956710</td>\n",
       "      <td>0.976786</td>\n",
       "      <td>0.101010</td>\n",
       "    </tr>\n",
       "    <tr>\n",
       "      <th>std</th>\n",
       "      <td>0.067436</td>\n",
       "      <td>0.0</td>\n",
       "      <td>0.067436</td>\n",
       "      <td>0.036925</td>\n",
       "      <td>0.069982</td>\n",
       "    </tr>\n",
       "  </tbody>\n",
       "</table>\n",
       "</div>"
      ],
      "text/plain": [
       "          bacc  precision    recall        f1       fnr\n",
       "mean  0.956710        1.0  0.956710  0.976786  0.101010\n",
       "std   0.067436        0.0  0.067436  0.036925  0.069982"
      ]
     },
     "execution_count": 95,
     "metadata": {},
     "output_type": "execute_result"
    }
   ],
   "source": [
    "one_attack_out_rf[[\"bacc\", \"precision\", \"recall\", \"f1\", \"fnr\"]].agg(['mean', 'std'])"
   ]
  },
  {
   "cell_type": "code",
   "execution_count": 96,
   "metadata": {},
   "outputs": [
    {
     "name": "stdout",
     "output_type": "stream",
     "text": [
      "\\begin{tabular}{lllll}\n",
      "\\toprule\n",
      "bacc & precision & recall & f1 & fnr \\\\\n",
      "\\midrule\n",
      "0.96 (0.07) & 1.00 (0.00) & 0.96 (0.07) & 0.98 (0.04) & 0.10 (0.07) \\\\\n",
      "\\bottomrule\n",
      "\\end{tabular}\n",
      "\n"
     ]
    }
   ],
   "source": [
    "format_mean_std(one_attack_out_rf)"
   ]
  },
  {
   "cell_type": "markdown",
   "metadata": {
    "collapsed": false
   },
   "source": [
    "## Save data"
   ]
  },
  {
   "cell_type": "code",
   "execution_count": 97,
   "metadata": {
    "collapsed": false
   },
   "outputs": [],
   "source": [
    "def preprocess_output(df, scenario, mod):\n",
    "    df[\"scenario\"] = scenario\n",
    "    df[\"model_class\"] = mod\n",
    "\n",
    "    return df\n",
    "\n",
    "one_attack_out_rf = preprocess_output(one_attack_out_rf, \"one-attack-out\", \"RF\")\n",
    "one_attack_out_xgb = preprocess_output(one_attack_out_xgb, \"one-attack-out\", \"XGB\")\n",
    "one_dataset_out_rf = preprocess_output(one_dataset_out_rf, \"one-data-set-out\", \"RF\")\n",
    "one_dataset_out_xgb = preprocess_output(one_dataset_out_xgb, \"one-data-set-out\", \"XGB\")\n",
    "one_model_out_rf = preprocess_output(one_model_out_rf, \"one-model-out\", \"RF\")\n",
    "one_model_out_xgb = preprocess_output(one_model_out_xgb, \"one-model-out\", \"XGB\")\n",
    "cv_rf = preprocess_output(cv_rf, \"10-fold cross-validation\", \"RF\")\n",
    "cv_xgb = preprocess_output(cv_xgb, \"10-fold cross-validation\", \"XGB\")\n",
    "\n",
    "all_bacc = pd.concat([one_attack_out_rf, one_attack_out_xgb,\n",
    "                      one_dataset_out_rf, one_dataset_out_xgb,\n",
    "                      one_model_out_rf, one_model_out_xgb,\n",
    "                      cv_rf, cv_xgb])"
   ]
  },
  {
   "cell_type": "code",
   "execution_count": 98,
   "metadata": {
    "collapsed": false
   },
   "outputs": [],
   "source": [
    "all_bacc.to_csv(\"results/detection_bacc_with_bacc.csv\", index=False)"
   ]
  },
  {
   "cell_type": "code",
   "execution_count": 99,
   "metadata": {
    "collapsed": false
   },
   "outputs": [],
   "source": [
    "one_attack_out_fi_rf = preprocess_output(one_attack_out_fi_rf, \"one-attack-out\", \"RF\")\n",
    "one_attack_out_fi_xgb = preprocess_output(one_attack_out_fi_xgb, \"one-attack-out\", \"XGB\")\n",
    "one_dataset_out_fi_rf = preprocess_output(one_dataset_out_fi_rf, \"one-data-set-out\", \"RF\")\n",
    "one_dataset_out_fi_xgb = preprocess_output(one_dataset_out_fi_xgb, \"one-data-set-out\", \"XGB\")\n",
    "one_model_out_fi_rf = preprocess_output(one_model_out_fi_rf, \"one-model-out\", \"RF\")\n",
    "one_model_out_fi_xgb = preprocess_output(one_model_out_fi_xgb, \"one-model-out\", \"XGB\")\n",
    "cv_fi_rf = preprocess_output(cv_fi_rf, \"10-fold cross-validation\", \"RF\")\n",
    "cv_fi_xgb = preprocess_output(cv_fi_xgb, \"10-fold cross-validation\", \"XGB\")\n",
    "\n",
    "all_fi = pd.concat([one_attack_out_fi_rf, one_attack_out_fi_xgb,\n",
    "                      one_dataset_out_fi_rf, one_dataset_out_fi_xgb,\n",
    "                      one_model_out_fi_rf, one_model_out_fi_xgb,\n",
    "                      cv_fi_rf, cv_fi_xgb])\n",
    "\n",
    "all_fi.to_csv(\"results/detection_fi_without_bacc.csv\", index=False)"
   ]
  }
 ],
 "metadata": {
  "kernelspec": {
   "display_name": "venv",
   "language": "python",
   "name": "python3"
  },
  "language_info": {
   "codemirror_mode": {
    "name": "ipython",
    "version": 3
   },
   "file_extension": ".py",
   "mimetype": "text/x-python",
   "name": "python",
   "nbconvert_exporter": "python",
   "pygments_lexer": "ipython3",
   "version": "3.13.3"
  }
 },
 "nbformat": 4,
 "nbformat_minor": 1
}
