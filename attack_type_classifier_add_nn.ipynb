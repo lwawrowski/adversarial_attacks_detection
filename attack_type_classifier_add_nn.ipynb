{
 "cells": [
  {
   "cell_type": "code",
   "execution_count": 4,
   "metadata": {},
   "outputs": [
    {
     "name": "stdout",
     "output_type": "stream",
     "text": [
      "Collecting tqdm\n",
      "  Using cached tqdm-4.67.1-py3-none-any.whl.metadata (57 kB)\n",
      "Requirement already satisfied: colorama in d:\\qed\\phd_piotrb\\venv\\lib\\site-packages (from tqdm) (0.4.6)\n",
      "Using cached tqdm-4.67.1-py3-none-any.whl (78 kB)\n",
      "Installing collected packages: tqdm\n",
      "Successfully installed tqdm-4.67.1\n"
     ]
    },
    {
     "name": "stderr",
     "output_type": "stream",
     "text": [
      "\n",
      "[notice] A new release of pip is available: 25.0.1 -> 25.2\n",
      "[notice] To update, run: python.exe -m pip install --upgrade pip\n"
     ]
    }
   ],
   "source": [
    "! pip install tqdm"
   ]
  },
  {
   "cell_type": "code",
   "execution_count": 5,
   "metadata": {
    "collapsed": true
   },
   "outputs": [],
   "source": [
    "import pandas as pd\n",
    "import numpy as np\n",
    "import copy\n",
    "\n",
    "import xgboost as xgb\n",
    "from tqdm import tqdm\n",
    "from sklearn.pipeline import Pipeline\n",
    "from sklearn.preprocessing import LabelEncoder\n",
    "from sklearn.ensemble import RandomForestClassifier\n",
    "from sklearn.metrics import balanced_accuracy_score, cohen_kappa_score\n",
    "from sklearn.model_selection import StratifiedKFold"
   ]
  },
  {
   "cell_type": "markdown",
   "metadata": {},
   "source": []
  },
  {
   "cell_type": "code",
   "execution_count": 6,
   "metadata": {},
   "outputs": [],
   "source": [
    "d = pd.read_csv(\"results/attacks_diagnoses.csv\")\n",
    "d = d[(d[\"dataset\"] != \"mfeat-morphological\") & (d[\"attack\"] != \"lpf\")]"
   ]
  },
  {
   "cell_type": "code",
   "execution_count": 7,
   "metadata": {},
   "outputs": [],
   "source": [
    "def q0(x: float) -> float:\n",
    "    return x.quantile(0)\n",
    "\n",
    "\n",
    "def q25(x: float) -> float:\n",
    "    return x.quantile(0.25)\n",
    "\n",
    "\n",
    "def q50(x: float) -> float:\n",
    "    return x.quantile(0.5)\n",
    "\n",
    "\n",
    "def q75(x: float) -> float:\n",
    "    return x.quantile(0.75)\n",
    "\n",
    "\n",
    "def q1(x: float) -> float:\n",
    "    return x.quantile(1)\n",
    "\n",
    "\n",
    "def minmax(x: float) -> float:\n",
    "    return x.max() - x.min()\n",
    "\n",
    "attrs_con = d\n",
    "cols_to_drop = [\"approx\", \"target\", \"pred\", \"error\", \"name\",\n",
    "                    \"overall_mean_target\", \"scores\",\n",
    "                    \"mean_target_in_neighborhood\",\n",
    "                    \"mean_approx_in_neighborhood\",\n",
    "                    \"neighborhood_size_div_model_avg\",\n",
    "                    \"neighborhood_size_pct\",\n",
    "                    \"r_centered_entropy\",\n",
    "                \"entropy\",\n",
    "                    \"logk_r_centered_entropy\"]\n",
    "\n",
    "attrs_cols = attrs_con.drop(columns=cols_to_drop)\n",
    "attrs_agg = attrs_cols \\\n",
    "    .groupby([\"dataset\", \"model\", \"attack\", \"bacc_test\",\n",
    "              \"n_test\", \"n_classes\"]) \\\n",
    "    .agg(['mean', q0, q25, q50, q75, q1, minmax])\n",
    "attrs_agg_correct_cols = copy.deepcopy(attrs_agg)\n",
    "attrs_agg_correct_cols.columns = list(attrs_agg_correct_cols.columns.map('_'.join))\n",
    "attrs_agg_correct_cols = attrs_agg_correct_cols.reset_index()"
   ]
  },
  {
   "cell_type": "code",
   "execution_count": 8,
   "metadata": {},
   "outputs": [],
   "source": [
    "d_nn = pd.read_csv(\"results/attacks_diagnoses_nn.csv\")\n",
    "\n",
    "attrs_cols = d_nn.drop(columns=cols_to_drop)\n",
    "attrs_agg = attrs_cols \\\n",
    "    .groupby([\"dataset\", \"model\", \"attack\", \"bacc_test\",\n",
    "              \"n_test\", \"n_classes\"]) \\\n",
    "    .agg(['mean', q0, q25, q50, q75, q1, minmax])\n",
    "attrs_agg_correct_cols_nn = copy.deepcopy(attrs_agg)\n",
    "attrs_agg_correct_cols_nn.columns = list(attrs_agg_correct_cols_nn.columns.map('_'.join))\n",
    "attrs_agg_correct_cols_nn = attrs_agg_correct_cols_nn.reset_index()"
   ]
  },
  {
   "cell_type": "code",
   "execution_count": 9,
   "metadata": {},
   "outputs": [],
   "source": [
    "attrs_agg_correct_cols = pd.concat([attrs_agg_correct_cols, attrs_agg_correct_cols_nn])"
   ]
  },
  {
   "cell_type": "code",
   "execution_count": 10,
   "metadata": {},
   "outputs": [
    {
     "data": {
      "text/plain": [
       "(array(['bim', 'fgm', 'hsj', 'noise', 'org', 'per', 'pgd', 'zoo'],\n",
       "       dtype=object),\n",
       " array([22, 22, 64, 22, 88, 66, 22, 66]))"
      ]
     },
     "execution_count": 10,
     "metadata": {},
     "output_type": "execute_result"
    }
   ],
   "source": [
    "np.unique(attrs_agg_correct_cols[\"attack\"], return_counts=True)"
   ]
  },
  {
   "cell_type": "code",
   "execution_count": 11,
   "metadata": {},
   "outputs": [
    {
     "data": {
      "application/vnd.microsoft.datawrangler.viewer.v0+json": {
       "columns": [
        {
         "name": "index",
         "rawType": "int64",
         "type": "integer"
        },
        {
         "name": "dataset",
         "rawType": "object",
         "type": "string"
        },
        {
         "name": "model",
         "rawType": "object",
         "type": "string"
        },
        {
         "name": "counts",
         "rawType": "int64",
         "type": "integer"
        }
       ],
       "ref": "9f20e576-e252-4ce8-9f6c-9c20ba9bf48b",
       "rows": [
        [
         "0",
         "Bioresponse",
         "lin",
         "4"
        ],
        [
         "1",
         "Bioresponse",
         "nn",
         "5"
        ],
        [
         "2",
         "Bioresponse",
         "svm",
         "4"
        ],
        [
         "3",
         "Bioresponse",
         "xgb",
         "4"
        ],
        [
         "4",
         "churn",
         "lin",
         "4"
        ],
        [
         "5",
         "churn",
         "nn",
         "5"
        ],
        [
         "6",
         "churn",
         "svm",
         "4"
        ],
        [
         "7",
         "churn",
         "xgb",
         "4"
        ],
        [
         "8",
         "cmc",
         "lin",
         "4"
        ],
        [
         "9",
         "cmc",
         "nn",
         "5"
        ],
        [
         "10",
         "cmc",
         "svm",
         "4"
        ],
        [
         "11",
         "cmc",
         "xgb",
         "4"
        ],
        [
         "12",
         "cnae-9",
         "lin",
         "4"
        ],
        [
         "13",
         "cnae-9",
         "nn",
         "5"
        ],
        [
         "14",
         "cnae-9",
         "svm",
         "4"
        ],
        [
         "15",
         "cnae-9",
         "xgb",
         "4"
        ],
        [
         "16",
         "dna",
         "lin",
         "4"
        ],
        [
         "17",
         "dna",
         "nn",
         "5"
        ],
        [
         "18",
         "dna",
         "svm",
         "4"
        ],
        [
         "19",
         "dna",
         "xgb",
         "4"
        ],
        [
         "20",
         "har",
         "lin",
         "4"
        ],
        [
         "21",
         "har",
         "nn",
         "5"
        ],
        [
         "22",
         "har",
         "svm",
         "4"
        ],
        [
         "23",
         "har",
         "xgb",
         "4"
        ],
        [
         "24",
         "madelon",
         "lin",
         "4"
        ],
        [
         "25",
         "madelon",
         "nn",
         "5"
        ],
        [
         "26",
         "madelon",
         "svm",
         "4"
        ],
        [
         "27",
         "madelon",
         "xgb",
         "3"
        ],
        [
         "28",
         "mfeat-factors",
         "lin",
         "4"
        ],
        [
         "29",
         "mfeat-factors",
         "nn",
         "5"
        ],
        [
         "30",
         "mfeat-factors",
         "svm",
         "4"
        ],
        [
         "31",
         "mfeat-factors",
         "xgb",
         "4"
        ],
        [
         "32",
         "mfeat-fourier",
         "lin",
         "4"
        ],
        [
         "33",
         "mfeat-fourier",
         "nn",
         "5"
        ],
        [
         "34",
         "mfeat-fourier",
         "svm",
         "4"
        ],
        [
         "35",
         "mfeat-fourier",
         "xgb",
         "4"
        ],
        [
         "36",
         "mfeat-karhunen",
         "lin",
         "4"
        ],
        [
         "37",
         "mfeat-karhunen",
         "nn",
         "5"
        ],
        [
         "38",
         "mfeat-karhunen",
         "svm",
         "4"
        ],
        [
         "39",
         "mfeat-karhunen",
         "xgb",
         "4"
        ],
        [
         "40",
         "mfeat-zernike",
         "lin",
         "4"
        ],
        [
         "41",
         "mfeat-zernike",
         "nn",
         "5"
        ],
        [
         "42",
         "mfeat-zernike",
         "svm",
         "4"
        ],
        [
         "43",
         "mfeat-zernike",
         "xgb",
         "4"
        ],
        [
         "44",
         "nomao",
         "lin",
         "4"
        ],
        [
         "45",
         "nomao",
         "nn",
         "5"
        ],
        [
         "46",
         "nomao",
         "svm",
         "4"
        ],
        [
         "47",
         "nomao",
         "xgb",
         "4"
        ],
        [
         "48",
         "optdigits",
         "lin",
         "4"
        ],
        [
         "49",
         "optdigits",
         "nn",
         "5"
        ]
       ],
       "shape": {
        "columns": 3,
        "rows": 88
       }
      },
      "text/html": [
       "<div>\n",
       "<style scoped>\n",
       "    .dataframe tbody tr th:only-of-type {\n",
       "        vertical-align: middle;\n",
       "    }\n",
       "\n",
       "    .dataframe tbody tr th {\n",
       "        vertical-align: top;\n",
       "    }\n",
       "\n",
       "    .dataframe thead th {\n",
       "        text-align: right;\n",
       "    }\n",
       "</style>\n",
       "<table border=\"1\" class=\"dataframe\">\n",
       "  <thead>\n",
       "    <tr style=\"text-align: right;\">\n",
       "      <th></th>\n",
       "      <th>dataset</th>\n",
       "      <th>model</th>\n",
       "      <th>counts</th>\n",
       "    </tr>\n",
       "  </thead>\n",
       "  <tbody>\n",
       "    <tr>\n",
       "      <th>0</th>\n",
       "      <td>Bioresponse</td>\n",
       "      <td>lin</td>\n",
       "      <td>4</td>\n",
       "    </tr>\n",
       "    <tr>\n",
       "      <th>1</th>\n",
       "      <td>Bioresponse</td>\n",
       "      <td>nn</td>\n",
       "      <td>5</td>\n",
       "    </tr>\n",
       "    <tr>\n",
       "      <th>2</th>\n",
       "      <td>Bioresponse</td>\n",
       "      <td>svm</td>\n",
       "      <td>4</td>\n",
       "    </tr>\n",
       "    <tr>\n",
       "      <th>3</th>\n",
       "      <td>Bioresponse</td>\n",
       "      <td>xgb</td>\n",
       "      <td>4</td>\n",
       "    </tr>\n",
       "    <tr>\n",
       "      <th>4</th>\n",
       "      <td>churn</td>\n",
       "      <td>lin</td>\n",
       "      <td>4</td>\n",
       "    </tr>\n",
       "    <tr>\n",
       "      <th>...</th>\n",
       "      <td>...</td>\n",
       "      <td>...</td>\n",
       "      <td>...</td>\n",
       "    </tr>\n",
       "    <tr>\n",
       "      <th>83</th>\n",
       "      <td>wdbc</td>\n",
       "      <td>xgb</td>\n",
       "      <td>4</td>\n",
       "    </tr>\n",
       "    <tr>\n",
       "      <th>84</th>\n",
       "      <td>wilt</td>\n",
       "      <td>lin</td>\n",
       "      <td>4</td>\n",
       "    </tr>\n",
       "    <tr>\n",
       "      <th>85</th>\n",
       "      <td>wilt</td>\n",
       "      <td>nn</td>\n",
       "      <td>5</td>\n",
       "    </tr>\n",
       "    <tr>\n",
       "      <th>86</th>\n",
       "      <td>wilt</td>\n",
       "      <td>svm</td>\n",
       "      <td>4</td>\n",
       "    </tr>\n",
       "    <tr>\n",
       "      <th>87</th>\n",
       "      <td>wilt</td>\n",
       "      <td>xgb</td>\n",
       "      <td>4</td>\n",
       "    </tr>\n",
       "  </tbody>\n",
       "</table>\n",
       "<p>88 rows × 3 columns</p>\n",
       "</div>"
      ],
      "text/plain": [
       "        dataset model  counts\n",
       "0   Bioresponse   lin       4\n",
       "1   Bioresponse    nn       5\n",
       "2   Bioresponse   svm       4\n",
       "3   Bioresponse   xgb       4\n",
       "4         churn   lin       4\n",
       "..          ...   ...     ...\n",
       "83         wdbc   xgb       4\n",
       "84         wilt   lin       4\n",
       "85         wilt    nn       5\n",
       "86         wilt   svm       4\n",
       "87         wilt   xgb       4\n",
       "\n",
       "[88 rows x 3 columns]"
      ]
     },
     "execution_count": 11,
     "metadata": {},
     "output_type": "execute_result"
    }
   ],
   "source": [
    "data_counts = attrs_agg_correct_cols[[\"dataset\", \"model\", \"attack\"]].groupby([\"dataset\", \"model\"]).size().reset_index(name='counts')\n",
    "data_counts"
   ]
  },
  {
   "cell_type": "code",
   "execution_count": 12,
   "metadata": {},
   "outputs": [
    {
     "data": {
      "application/vnd.microsoft.datawrangler.viewer.v0+json": {
       "columns": [
        {
         "name": "index",
         "rawType": "int64",
         "type": "integer"
        },
        {
         "name": "dataset",
         "rawType": "object",
         "type": "string"
        },
        {
         "name": "attack",
         "rawType": "object",
         "type": "string"
        },
        {
         "name": "counts",
         "rawType": "int64",
         "type": "integer"
        }
       ],
       "ref": "b100a8a0-a9b5-499c-90d0-f820cd20e58c",
       "rows": [
        [
         "0",
         "Bioresponse",
         "bim",
         "1"
        ],
        [
         "1",
         "Bioresponse",
         "fgm",
         "1"
        ],
        [
         "2",
         "Bioresponse",
         "hsj",
         "3"
        ],
        [
         "3",
         "Bioresponse",
         "noise",
         "1"
        ],
        [
         "4",
         "Bioresponse",
         "org",
         "4"
        ],
        [
         "5",
         "Bioresponse",
         "per",
         "3"
        ],
        [
         "6",
         "Bioresponse",
         "pgd",
         "1"
        ],
        [
         "7",
         "Bioresponse",
         "zoo",
         "3"
        ],
        [
         "8",
         "churn",
         "bim",
         "1"
        ],
        [
         "9",
         "churn",
         "fgm",
         "1"
        ],
        [
         "10",
         "churn",
         "hsj",
         "3"
        ],
        [
         "11",
         "churn",
         "noise",
         "1"
        ],
        [
         "12",
         "churn",
         "org",
         "4"
        ],
        [
         "13",
         "churn",
         "per",
         "3"
        ],
        [
         "14",
         "churn",
         "pgd",
         "1"
        ],
        [
         "15",
         "churn",
         "zoo",
         "3"
        ],
        [
         "16",
         "cmc",
         "bim",
         "1"
        ],
        [
         "17",
         "cmc",
         "fgm",
         "1"
        ],
        [
         "18",
         "cmc",
         "hsj",
         "3"
        ],
        [
         "19",
         "cmc",
         "noise",
         "1"
        ],
        [
         "20",
         "cmc",
         "org",
         "4"
        ],
        [
         "21",
         "cmc",
         "per",
         "3"
        ],
        [
         "22",
         "cmc",
         "pgd",
         "1"
        ],
        [
         "23",
         "cmc",
         "zoo",
         "3"
        ],
        [
         "24",
         "cnae-9",
         "bim",
         "1"
        ],
        [
         "25",
         "cnae-9",
         "fgm",
         "1"
        ],
        [
         "26",
         "cnae-9",
         "hsj",
         "3"
        ],
        [
         "27",
         "cnae-9",
         "noise",
         "1"
        ],
        [
         "28",
         "cnae-9",
         "org",
         "4"
        ],
        [
         "29",
         "cnae-9",
         "per",
         "3"
        ],
        [
         "30",
         "cnae-9",
         "pgd",
         "1"
        ],
        [
         "31",
         "cnae-9",
         "zoo",
         "3"
        ],
        [
         "32",
         "dna",
         "bim",
         "1"
        ],
        [
         "33",
         "dna",
         "fgm",
         "1"
        ],
        [
         "34",
         "dna",
         "hsj",
         "3"
        ],
        [
         "35",
         "dna",
         "noise",
         "1"
        ],
        [
         "36",
         "dna",
         "org",
         "4"
        ],
        [
         "37",
         "dna",
         "per",
         "3"
        ],
        [
         "38",
         "dna",
         "pgd",
         "1"
        ],
        [
         "39",
         "dna",
         "zoo",
         "3"
        ],
        [
         "40",
         "har",
         "bim",
         "1"
        ],
        [
         "41",
         "har",
         "fgm",
         "1"
        ],
        [
         "42",
         "har",
         "hsj",
         "3"
        ],
        [
         "43",
         "har",
         "noise",
         "1"
        ],
        [
         "44",
         "har",
         "org",
         "4"
        ],
        [
         "45",
         "har",
         "per",
         "3"
        ],
        [
         "46",
         "har",
         "pgd",
         "1"
        ],
        [
         "47",
         "har",
         "zoo",
         "3"
        ],
        [
         "48",
         "madelon",
         "bim",
         "1"
        ],
        [
         "49",
         "madelon",
         "fgm",
         "1"
        ]
       ],
       "shape": {
        "columns": 3,
        "rows": 176
       }
      },
      "text/html": [
       "<div>\n",
       "<style scoped>\n",
       "    .dataframe tbody tr th:only-of-type {\n",
       "        vertical-align: middle;\n",
       "    }\n",
       "\n",
       "    .dataframe tbody tr th {\n",
       "        vertical-align: top;\n",
       "    }\n",
       "\n",
       "    .dataframe thead th {\n",
       "        text-align: right;\n",
       "    }\n",
       "</style>\n",
       "<table border=\"1\" class=\"dataframe\">\n",
       "  <thead>\n",
       "    <tr style=\"text-align: right;\">\n",
       "      <th></th>\n",
       "      <th>dataset</th>\n",
       "      <th>attack</th>\n",
       "      <th>counts</th>\n",
       "    </tr>\n",
       "  </thead>\n",
       "  <tbody>\n",
       "    <tr>\n",
       "      <th>0</th>\n",
       "      <td>Bioresponse</td>\n",
       "      <td>bim</td>\n",
       "      <td>1</td>\n",
       "    </tr>\n",
       "    <tr>\n",
       "      <th>1</th>\n",
       "      <td>Bioresponse</td>\n",
       "      <td>fgm</td>\n",
       "      <td>1</td>\n",
       "    </tr>\n",
       "    <tr>\n",
       "      <th>2</th>\n",
       "      <td>Bioresponse</td>\n",
       "      <td>hsj</td>\n",
       "      <td>3</td>\n",
       "    </tr>\n",
       "    <tr>\n",
       "      <th>3</th>\n",
       "      <td>Bioresponse</td>\n",
       "      <td>noise</td>\n",
       "      <td>1</td>\n",
       "    </tr>\n",
       "    <tr>\n",
       "      <th>4</th>\n",
       "      <td>Bioresponse</td>\n",
       "      <td>org</td>\n",
       "      <td>4</td>\n",
       "    </tr>\n",
       "    <tr>\n",
       "      <th>...</th>\n",
       "      <td>...</td>\n",
       "      <td>...</td>\n",
       "      <td>...</td>\n",
       "    </tr>\n",
       "    <tr>\n",
       "      <th>171</th>\n",
       "      <td>wilt</td>\n",
       "      <td>noise</td>\n",
       "      <td>1</td>\n",
       "    </tr>\n",
       "    <tr>\n",
       "      <th>172</th>\n",
       "      <td>wilt</td>\n",
       "      <td>org</td>\n",
       "      <td>4</td>\n",
       "    </tr>\n",
       "    <tr>\n",
       "      <th>173</th>\n",
       "      <td>wilt</td>\n",
       "      <td>per</td>\n",
       "      <td>3</td>\n",
       "    </tr>\n",
       "    <tr>\n",
       "      <th>174</th>\n",
       "      <td>wilt</td>\n",
       "      <td>pgd</td>\n",
       "      <td>1</td>\n",
       "    </tr>\n",
       "    <tr>\n",
       "      <th>175</th>\n",
       "      <td>wilt</td>\n",
       "      <td>zoo</td>\n",
       "      <td>3</td>\n",
       "    </tr>\n",
       "  </tbody>\n",
       "</table>\n",
       "<p>176 rows × 3 columns</p>\n",
       "</div>"
      ],
      "text/plain": [
       "         dataset attack  counts\n",
       "0    Bioresponse    bim       1\n",
       "1    Bioresponse    fgm       1\n",
       "2    Bioresponse    hsj       3\n",
       "3    Bioresponse  noise       1\n",
       "4    Bioresponse    org       4\n",
       "..           ...    ...     ...\n",
       "171         wilt  noise       1\n",
       "172         wilt    org       4\n",
       "173         wilt    per       3\n",
       "174         wilt    pgd       1\n",
       "175         wilt    zoo       3\n",
       "\n",
       "[176 rows x 3 columns]"
      ]
     },
     "execution_count": 12,
     "metadata": {},
     "output_type": "execute_result"
    }
   ],
   "source": [
    "data_counts_model_type = attrs_agg_correct_cols[[\"dataset\", \"model\", \"attack\"]].groupby([\"dataset\", \"attack\"]).size().reset_index(name='counts')\n",
    "data_counts_model_type"
   ]
  },
  {
   "cell_type": "code",
   "execution_count": 13,
   "metadata": {},
   "outputs": [
    {
     "data": {
      "text/html": [
       "<style>#sk-container-id-1 {\n",
       "  /* Definition of color scheme common for light and dark mode */\n",
       "  --sklearn-color-text: #000;\n",
       "  --sklearn-color-text-muted: #666;\n",
       "  --sklearn-color-line: gray;\n",
       "  /* Definition of color scheme for unfitted estimators */\n",
       "  --sklearn-color-unfitted-level-0: #fff5e6;\n",
       "  --sklearn-color-unfitted-level-1: #f6e4d2;\n",
       "  --sklearn-color-unfitted-level-2: #ffe0b3;\n",
       "  --sklearn-color-unfitted-level-3: chocolate;\n",
       "  /* Definition of color scheme for fitted estimators */\n",
       "  --sklearn-color-fitted-level-0: #f0f8ff;\n",
       "  --sklearn-color-fitted-level-1: #d4ebff;\n",
       "  --sklearn-color-fitted-level-2: #b3dbfd;\n",
       "  --sklearn-color-fitted-level-3: cornflowerblue;\n",
       "\n",
       "  /* Specific color for light theme */\n",
       "  --sklearn-color-text-on-default-background: var(--sg-text-color, var(--theme-code-foreground, var(--jp-content-font-color1, black)));\n",
       "  --sklearn-color-background: var(--sg-background-color, var(--theme-background, var(--jp-layout-color0, white)));\n",
       "  --sklearn-color-border-box: var(--sg-text-color, var(--theme-code-foreground, var(--jp-content-font-color1, black)));\n",
       "  --sklearn-color-icon: #696969;\n",
       "\n",
       "  @media (prefers-color-scheme: dark) {\n",
       "    /* Redefinition of color scheme for dark theme */\n",
       "    --sklearn-color-text-on-default-background: var(--sg-text-color, var(--theme-code-foreground, var(--jp-content-font-color1, white)));\n",
       "    --sklearn-color-background: var(--sg-background-color, var(--theme-background, var(--jp-layout-color0, #111)));\n",
       "    --sklearn-color-border-box: var(--sg-text-color, var(--theme-code-foreground, var(--jp-content-font-color1, white)));\n",
       "    --sklearn-color-icon: #878787;\n",
       "  }\n",
       "}\n",
       "\n",
       "#sk-container-id-1 {\n",
       "  color: var(--sklearn-color-text);\n",
       "}\n",
       "\n",
       "#sk-container-id-1 pre {\n",
       "  padding: 0;\n",
       "}\n",
       "\n",
       "#sk-container-id-1 input.sk-hidden--visually {\n",
       "  border: 0;\n",
       "  clip: rect(1px 1px 1px 1px);\n",
       "  clip: rect(1px, 1px, 1px, 1px);\n",
       "  height: 1px;\n",
       "  margin: -1px;\n",
       "  overflow: hidden;\n",
       "  padding: 0;\n",
       "  position: absolute;\n",
       "  width: 1px;\n",
       "}\n",
       "\n",
       "#sk-container-id-1 div.sk-dashed-wrapped {\n",
       "  border: 1px dashed var(--sklearn-color-line);\n",
       "  margin: 0 0.4em 0.5em 0.4em;\n",
       "  box-sizing: border-box;\n",
       "  padding-bottom: 0.4em;\n",
       "  background-color: var(--sklearn-color-background);\n",
       "}\n",
       "\n",
       "#sk-container-id-1 div.sk-container {\n",
       "  /* jupyter's `normalize.less` sets `[hidden] { display: none; }`\n",
       "     but bootstrap.min.css set `[hidden] { display: none !important; }`\n",
       "     so we also need the `!important` here to be able to override the\n",
       "     default hidden behavior on the sphinx rendered scikit-learn.org.\n",
       "     See: https://github.com/scikit-learn/scikit-learn/issues/21755 */\n",
       "  display: inline-block !important;\n",
       "  position: relative;\n",
       "}\n",
       "\n",
       "#sk-container-id-1 div.sk-text-repr-fallback {\n",
       "  display: none;\n",
       "}\n",
       "\n",
       "div.sk-parallel-item,\n",
       "div.sk-serial,\n",
       "div.sk-item {\n",
       "  /* draw centered vertical line to link estimators */\n",
       "  background-image: linear-gradient(var(--sklearn-color-text-on-default-background), var(--sklearn-color-text-on-default-background));\n",
       "  background-size: 2px 100%;\n",
       "  background-repeat: no-repeat;\n",
       "  background-position: center center;\n",
       "}\n",
       "\n",
       "/* Parallel-specific style estimator block */\n",
       "\n",
       "#sk-container-id-1 div.sk-parallel-item::after {\n",
       "  content: \"\";\n",
       "  width: 100%;\n",
       "  border-bottom: 2px solid var(--sklearn-color-text-on-default-background);\n",
       "  flex-grow: 1;\n",
       "}\n",
       "\n",
       "#sk-container-id-1 div.sk-parallel {\n",
       "  display: flex;\n",
       "  align-items: stretch;\n",
       "  justify-content: center;\n",
       "  background-color: var(--sklearn-color-background);\n",
       "  position: relative;\n",
       "}\n",
       "\n",
       "#sk-container-id-1 div.sk-parallel-item {\n",
       "  display: flex;\n",
       "  flex-direction: column;\n",
       "}\n",
       "\n",
       "#sk-container-id-1 div.sk-parallel-item:first-child::after {\n",
       "  align-self: flex-end;\n",
       "  width: 50%;\n",
       "}\n",
       "\n",
       "#sk-container-id-1 div.sk-parallel-item:last-child::after {\n",
       "  align-self: flex-start;\n",
       "  width: 50%;\n",
       "}\n",
       "\n",
       "#sk-container-id-1 div.sk-parallel-item:only-child::after {\n",
       "  width: 0;\n",
       "}\n",
       "\n",
       "/* Serial-specific style estimator block */\n",
       "\n",
       "#sk-container-id-1 div.sk-serial {\n",
       "  display: flex;\n",
       "  flex-direction: column;\n",
       "  align-items: center;\n",
       "  background-color: var(--sklearn-color-background);\n",
       "  padding-right: 1em;\n",
       "  padding-left: 1em;\n",
       "}\n",
       "\n",
       "\n",
       "/* Toggleable style: style used for estimator/Pipeline/ColumnTransformer box that is\n",
       "clickable and can be expanded/collapsed.\n",
       "- Pipeline and ColumnTransformer use this feature and define the default style\n",
       "- Estimators will overwrite some part of the style using the `sk-estimator` class\n",
       "*/\n",
       "\n",
       "/* Pipeline and ColumnTransformer style (default) */\n",
       "\n",
       "#sk-container-id-1 div.sk-toggleable {\n",
       "  /* Default theme specific background. It is overwritten whether we have a\n",
       "  specific estimator or a Pipeline/ColumnTransformer */\n",
       "  background-color: var(--sklearn-color-background);\n",
       "}\n",
       "\n",
       "/* Toggleable label */\n",
       "#sk-container-id-1 label.sk-toggleable__label {\n",
       "  cursor: pointer;\n",
       "  display: flex;\n",
       "  width: 100%;\n",
       "  margin-bottom: 0;\n",
       "  padding: 0.5em;\n",
       "  box-sizing: border-box;\n",
       "  text-align: center;\n",
       "  align-items: start;\n",
       "  justify-content: space-between;\n",
       "  gap: 0.5em;\n",
       "}\n",
       "\n",
       "#sk-container-id-1 label.sk-toggleable__label .caption {\n",
       "  font-size: 0.6rem;\n",
       "  font-weight: lighter;\n",
       "  color: var(--sklearn-color-text-muted);\n",
       "}\n",
       "\n",
       "#sk-container-id-1 label.sk-toggleable__label-arrow:before {\n",
       "  /* Arrow on the left of the label */\n",
       "  content: \"▸\";\n",
       "  float: left;\n",
       "  margin-right: 0.25em;\n",
       "  color: var(--sklearn-color-icon);\n",
       "}\n",
       "\n",
       "#sk-container-id-1 label.sk-toggleable__label-arrow:hover:before {\n",
       "  color: var(--sklearn-color-text);\n",
       "}\n",
       "\n",
       "/* Toggleable content - dropdown */\n",
       "\n",
       "#sk-container-id-1 div.sk-toggleable__content {\n",
       "  display: none;\n",
       "  text-align: left;\n",
       "  /* unfitted */\n",
       "  background-color: var(--sklearn-color-unfitted-level-0);\n",
       "}\n",
       "\n",
       "#sk-container-id-1 div.sk-toggleable__content.fitted {\n",
       "  /* fitted */\n",
       "  background-color: var(--sklearn-color-fitted-level-0);\n",
       "}\n",
       "\n",
       "#sk-container-id-1 div.sk-toggleable__content pre {\n",
       "  margin: 0.2em;\n",
       "  border-radius: 0.25em;\n",
       "  color: var(--sklearn-color-text);\n",
       "  /* unfitted */\n",
       "  background-color: var(--sklearn-color-unfitted-level-0);\n",
       "}\n",
       "\n",
       "#sk-container-id-1 div.sk-toggleable__content.fitted pre {\n",
       "  /* unfitted */\n",
       "  background-color: var(--sklearn-color-fitted-level-0);\n",
       "}\n",
       "\n",
       "#sk-container-id-1 input.sk-toggleable__control:checked~div.sk-toggleable__content {\n",
       "  /* Expand drop-down */\n",
       "  display: block;\n",
       "  width: 100%;\n",
       "  overflow: visible;\n",
       "}\n",
       "\n",
       "#sk-container-id-1 input.sk-toggleable__control:checked~label.sk-toggleable__label-arrow:before {\n",
       "  content: \"▾\";\n",
       "}\n",
       "\n",
       "/* Pipeline/ColumnTransformer-specific style */\n",
       "\n",
       "#sk-container-id-1 div.sk-label input.sk-toggleable__control:checked~label.sk-toggleable__label {\n",
       "  color: var(--sklearn-color-text);\n",
       "  background-color: var(--sklearn-color-unfitted-level-2);\n",
       "}\n",
       "\n",
       "#sk-container-id-1 div.sk-label.fitted input.sk-toggleable__control:checked~label.sk-toggleable__label {\n",
       "  background-color: var(--sklearn-color-fitted-level-2);\n",
       "}\n",
       "\n",
       "/* Estimator-specific style */\n",
       "\n",
       "/* Colorize estimator box */\n",
       "#sk-container-id-1 div.sk-estimator input.sk-toggleable__control:checked~label.sk-toggleable__label {\n",
       "  /* unfitted */\n",
       "  background-color: var(--sklearn-color-unfitted-level-2);\n",
       "}\n",
       "\n",
       "#sk-container-id-1 div.sk-estimator.fitted input.sk-toggleable__control:checked~label.sk-toggleable__label {\n",
       "  /* fitted */\n",
       "  background-color: var(--sklearn-color-fitted-level-2);\n",
       "}\n",
       "\n",
       "#sk-container-id-1 div.sk-label label.sk-toggleable__label,\n",
       "#sk-container-id-1 div.sk-label label {\n",
       "  /* The background is the default theme color */\n",
       "  color: var(--sklearn-color-text-on-default-background);\n",
       "}\n",
       "\n",
       "/* On hover, darken the color of the background */\n",
       "#sk-container-id-1 div.sk-label:hover label.sk-toggleable__label {\n",
       "  color: var(--sklearn-color-text);\n",
       "  background-color: var(--sklearn-color-unfitted-level-2);\n",
       "}\n",
       "\n",
       "/* Label box, darken color on hover, fitted */\n",
       "#sk-container-id-1 div.sk-label.fitted:hover label.sk-toggleable__label.fitted {\n",
       "  color: var(--sklearn-color-text);\n",
       "  background-color: var(--sklearn-color-fitted-level-2);\n",
       "}\n",
       "\n",
       "/* Estimator label */\n",
       "\n",
       "#sk-container-id-1 div.sk-label label {\n",
       "  font-family: monospace;\n",
       "  font-weight: bold;\n",
       "  display: inline-block;\n",
       "  line-height: 1.2em;\n",
       "}\n",
       "\n",
       "#sk-container-id-1 div.sk-label-container {\n",
       "  text-align: center;\n",
       "}\n",
       "\n",
       "/* Estimator-specific */\n",
       "#sk-container-id-1 div.sk-estimator {\n",
       "  font-family: monospace;\n",
       "  border: 1px dotted var(--sklearn-color-border-box);\n",
       "  border-radius: 0.25em;\n",
       "  box-sizing: border-box;\n",
       "  margin-bottom: 0.5em;\n",
       "  /* unfitted */\n",
       "  background-color: var(--sklearn-color-unfitted-level-0);\n",
       "}\n",
       "\n",
       "#sk-container-id-1 div.sk-estimator.fitted {\n",
       "  /* fitted */\n",
       "  background-color: var(--sklearn-color-fitted-level-0);\n",
       "}\n",
       "\n",
       "/* on hover */\n",
       "#sk-container-id-1 div.sk-estimator:hover {\n",
       "  /* unfitted */\n",
       "  background-color: var(--sklearn-color-unfitted-level-2);\n",
       "}\n",
       "\n",
       "#sk-container-id-1 div.sk-estimator.fitted:hover {\n",
       "  /* fitted */\n",
       "  background-color: var(--sklearn-color-fitted-level-2);\n",
       "}\n",
       "\n",
       "/* Specification for estimator info (e.g. \"i\" and \"?\") */\n",
       "\n",
       "/* Common style for \"i\" and \"?\" */\n",
       "\n",
       ".sk-estimator-doc-link,\n",
       "a:link.sk-estimator-doc-link,\n",
       "a:visited.sk-estimator-doc-link {\n",
       "  float: right;\n",
       "  font-size: smaller;\n",
       "  line-height: 1em;\n",
       "  font-family: monospace;\n",
       "  background-color: var(--sklearn-color-background);\n",
       "  border-radius: 1em;\n",
       "  height: 1em;\n",
       "  width: 1em;\n",
       "  text-decoration: none !important;\n",
       "  margin-left: 0.5em;\n",
       "  text-align: center;\n",
       "  /* unfitted */\n",
       "  border: var(--sklearn-color-unfitted-level-1) 1pt solid;\n",
       "  color: var(--sklearn-color-unfitted-level-1);\n",
       "}\n",
       "\n",
       ".sk-estimator-doc-link.fitted,\n",
       "a:link.sk-estimator-doc-link.fitted,\n",
       "a:visited.sk-estimator-doc-link.fitted {\n",
       "  /* fitted */\n",
       "  border: var(--sklearn-color-fitted-level-1) 1pt solid;\n",
       "  color: var(--sklearn-color-fitted-level-1);\n",
       "}\n",
       "\n",
       "/* On hover */\n",
       "div.sk-estimator:hover .sk-estimator-doc-link:hover,\n",
       ".sk-estimator-doc-link:hover,\n",
       "div.sk-label-container:hover .sk-estimator-doc-link:hover,\n",
       ".sk-estimator-doc-link:hover {\n",
       "  /* unfitted */\n",
       "  background-color: var(--sklearn-color-unfitted-level-3);\n",
       "  color: var(--sklearn-color-background);\n",
       "  text-decoration: none;\n",
       "}\n",
       "\n",
       "div.sk-estimator.fitted:hover .sk-estimator-doc-link.fitted:hover,\n",
       ".sk-estimator-doc-link.fitted:hover,\n",
       "div.sk-label-container:hover .sk-estimator-doc-link.fitted:hover,\n",
       ".sk-estimator-doc-link.fitted:hover {\n",
       "  /* fitted */\n",
       "  background-color: var(--sklearn-color-fitted-level-3);\n",
       "  color: var(--sklearn-color-background);\n",
       "  text-decoration: none;\n",
       "}\n",
       "\n",
       "/* Span, style for the box shown on hovering the info icon */\n",
       ".sk-estimator-doc-link span {\n",
       "  display: none;\n",
       "  z-index: 9999;\n",
       "  position: relative;\n",
       "  font-weight: normal;\n",
       "  right: .2ex;\n",
       "  padding: .5ex;\n",
       "  margin: .5ex;\n",
       "  width: min-content;\n",
       "  min-width: 20ex;\n",
       "  max-width: 50ex;\n",
       "  color: var(--sklearn-color-text);\n",
       "  box-shadow: 2pt 2pt 4pt #999;\n",
       "  /* unfitted */\n",
       "  background: var(--sklearn-color-unfitted-level-0);\n",
       "  border: .5pt solid var(--sklearn-color-unfitted-level-3);\n",
       "}\n",
       "\n",
       ".sk-estimator-doc-link.fitted span {\n",
       "  /* fitted */\n",
       "  background: var(--sklearn-color-fitted-level-0);\n",
       "  border: var(--sklearn-color-fitted-level-3);\n",
       "}\n",
       "\n",
       ".sk-estimator-doc-link:hover span {\n",
       "  display: block;\n",
       "}\n",
       "\n",
       "/* \"?\"-specific style due to the `<a>` HTML tag */\n",
       "\n",
       "#sk-container-id-1 a.estimator_doc_link {\n",
       "  float: right;\n",
       "  font-size: 1rem;\n",
       "  line-height: 1em;\n",
       "  font-family: monospace;\n",
       "  background-color: var(--sklearn-color-background);\n",
       "  border-radius: 1rem;\n",
       "  height: 1rem;\n",
       "  width: 1rem;\n",
       "  text-decoration: none;\n",
       "  /* unfitted */\n",
       "  color: var(--sklearn-color-unfitted-level-1);\n",
       "  border: var(--sklearn-color-unfitted-level-1) 1pt solid;\n",
       "}\n",
       "\n",
       "#sk-container-id-1 a.estimator_doc_link.fitted {\n",
       "  /* fitted */\n",
       "  border: var(--sklearn-color-fitted-level-1) 1pt solid;\n",
       "  color: var(--sklearn-color-fitted-level-1);\n",
       "}\n",
       "\n",
       "/* On hover */\n",
       "#sk-container-id-1 a.estimator_doc_link:hover {\n",
       "  /* unfitted */\n",
       "  background-color: var(--sklearn-color-unfitted-level-3);\n",
       "  color: var(--sklearn-color-background);\n",
       "  text-decoration: none;\n",
       "}\n",
       "\n",
       "#sk-container-id-1 a.estimator_doc_link.fitted:hover {\n",
       "  /* fitted */\n",
       "  background-color: var(--sklearn-color-fitted-level-3);\n",
       "}\n",
       "\n",
       ".estimator-table summary {\n",
       "    padding: .5rem;\n",
       "    font-family: monospace;\n",
       "    cursor: pointer;\n",
       "}\n",
       "\n",
       ".estimator-table details[open] {\n",
       "    padding-left: 0.1rem;\n",
       "    padding-right: 0.1rem;\n",
       "    padding-bottom: 0.3rem;\n",
       "}\n",
       "\n",
       ".estimator-table .parameters-table {\n",
       "    margin-left: auto !important;\n",
       "    margin-right: auto !important;\n",
       "}\n",
       "\n",
       ".estimator-table .parameters-table tr:nth-child(odd) {\n",
       "    background-color: #fff;\n",
       "}\n",
       "\n",
       ".estimator-table .parameters-table tr:nth-child(even) {\n",
       "    background-color: #f6f6f6;\n",
       "}\n",
       "\n",
       ".estimator-table .parameters-table tr:hover {\n",
       "    background-color: #e0e0e0;\n",
       "}\n",
       "\n",
       ".estimator-table table td {\n",
       "    border: 1px solid rgba(106, 105, 104, 0.232);\n",
       "}\n",
       "\n",
       ".user-set td {\n",
       "    color:rgb(255, 94, 0);\n",
       "    text-align: left;\n",
       "}\n",
       "\n",
       ".user-set td.value pre {\n",
       "    color:rgb(255, 94, 0) !important;\n",
       "    background-color: transparent !important;\n",
       "}\n",
       "\n",
       ".default td {\n",
       "    color: black;\n",
       "    text-align: left;\n",
       "}\n",
       "\n",
       ".user-set td i,\n",
       ".default td i {\n",
       "    color: black;\n",
       "}\n",
       "\n",
       ".copy-paste-icon {\n",
       "    background-image: url(data:image/svg+xml;base64,PHN2ZyB4bWxucz0iaHR0cDovL3d3dy53My5vcmcvMjAwMC9zdmciIHZpZXdCb3g9IjAgMCA0NDggNTEyIj48IS0tIUZvbnQgQXdlc29tZSBGcmVlIDYuNy4yIGJ5IEBmb250YXdlc29tZSAtIGh0dHBzOi8vZm9udGF3ZXNvbWUuY29tIExpY2Vuc2UgLSBodHRwczovL2ZvbnRhd2Vzb21lLmNvbS9saWNlbnNlL2ZyZWUgQ29weXJpZ2h0IDIwMjUgRm9udGljb25zLCBJbmMuLS0+PHBhdGggZD0iTTIwOCAwTDMzMi4xIDBjMTIuNyAwIDI0LjkgNS4xIDMzLjkgMTQuMWw2Ny45IDY3LjljOSA5IDE0LjEgMjEuMiAxNC4xIDMzLjlMNDQ4IDMzNmMwIDI2LjUtMjEuNSA0OC00OCA0OGwtMTkyIDBjLTI2LjUgMC00OC0yMS41LTQ4LTQ4bDAtMjg4YzAtMjYuNSAyMS41LTQ4IDQ4LTQ4ek00OCAxMjhsODAgMCAwIDY0LTY0IDAgMCAyNTYgMTkyIDAgMC0zMiA2NCAwIDAgNDhjMCAyNi41LTIxLjUgNDgtNDggNDhMNDggNTEyYy0yNi41IDAtNDgtMjEuNS00OC00OEwwIDE3NmMwLTI2LjUgMjEuNS00OCA0OC00OHoiLz48L3N2Zz4=);\n",
       "    background-repeat: no-repeat;\n",
       "    background-size: 14px 14px;\n",
       "    background-position: 0;\n",
       "    display: inline-block;\n",
       "    width: 14px;\n",
       "    height: 14px;\n",
       "    cursor: pointer;\n",
       "}\n",
       "</style><body><div id=\"sk-container-id-1\" class=\"sk-top-container\"><div class=\"sk-text-repr-fallback\"><pre>RandomForestClassifier(random_state=123)</pre><b>In a Jupyter environment, please rerun this cell to show the HTML representation or trust the notebook. <br />On GitHub, the HTML representation is unable to render, please try loading this page with nbviewer.org.</b></div><div class=\"sk-container\" hidden><div class=\"sk-item\"><div class=\"sk-estimator fitted sk-toggleable\"><input class=\"sk-toggleable__control sk-hidden--visually\" id=\"sk-estimator-id-1\" type=\"checkbox\" checked><label for=\"sk-estimator-id-1\" class=\"sk-toggleable__label fitted sk-toggleable__label-arrow\"><div><div>RandomForestClassifier</div></div><div><a class=\"sk-estimator-doc-link fitted\" rel=\"noreferrer\" target=\"_blank\" href=\"https://scikit-learn.org/1.7/modules/generated/sklearn.ensemble.RandomForestClassifier.html\">?<span>Documentation for RandomForestClassifier</span></a><span class=\"sk-estimator-doc-link fitted\">i<span>Fitted</span></span></div></label><div class=\"sk-toggleable__content fitted\" data-param-prefix=\"\">\n",
       "        <div class=\"estimator-table\">\n",
       "            <details>\n",
       "                <summary>Parameters</summary>\n",
       "                <table class=\"parameters-table\">\n",
       "                  <tbody>\n",
       "                    \n",
       "        <tr class=\"default\">\n",
       "            <td><i class=\"copy-paste-icon\"\n",
       "                 onclick=\"copyToClipboard('n_estimators',\n",
       "                          this.parentElement.nextElementSibling)\"\n",
       "            ></i></td>\n",
       "            <td class=\"param\">n_estimators&nbsp;</td>\n",
       "            <td class=\"value\">100</td>\n",
       "        </tr>\n",
       "    \n",
       "\n",
       "        <tr class=\"default\">\n",
       "            <td><i class=\"copy-paste-icon\"\n",
       "                 onclick=\"copyToClipboard('criterion',\n",
       "                          this.parentElement.nextElementSibling)\"\n",
       "            ></i></td>\n",
       "            <td class=\"param\">criterion&nbsp;</td>\n",
       "            <td class=\"value\">&#x27;gini&#x27;</td>\n",
       "        </tr>\n",
       "    \n",
       "\n",
       "        <tr class=\"default\">\n",
       "            <td><i class=\"copy-paste-icon\"\n",
       "                 onclick=\"copyToClipboard('max_depth',\n",
       "                          this.parentElement.nextElementSibling)\"\n",
       "            ></i></td>\n",
       "            <td class=\"param\">max_depth&nbsp;</td>\n",
       "            <td class=\"value\">None</td>\n",
       "        </tr>\n",
       "    \n",
       "\n",
       "        <tr class=\"default\">\n",
       "            <td><i class=\"copy-paste-icon\"\n",
       "                 onclick=\"copyToClipboard('min_samples_split',\n",
       "                          this.parentElement.nextElementSibling)\"\n",
       "            ></i></td>\n",
       "            <td class=\"param\">min_samples_split&nbsp;</td>\n",
       "            <td class=\"value\">2</td>\n",
       "        </tr>\n",
       "    \n",
       "\n",
       "        <tr class=\"default\">\n",
       "            <td><i class=\"copy-paste-icon\"\n",
       "                 onclick=\"copyToClipboard('min_samples_leaf',\n",
       "                          this.parentElement.nextElementSibling)\"\n",
       "            ></i></td>\n",
       "            <td class=\"param\">min_samples_leaf&nbsp;</td>\n",
       "            <td class=\"value\">1</td>\n",
       "        </tr>\n",
       "    \n",
       "\n",
       "        <tr class=\"default\">\n",
       "            <td><i class=\"copy-paste-icon\"\n",
       "                 onclick=\"copyToClipboard('min_weight_fraction_leaf',\n",
       "                          this.parentElement.nextElementSibling)\"\n",
       "            ></i></td>\n",
       "            <td class=\"param\">min_weight_fraction_leaf&nbsp;</td>\n",
       "            <td class=\"value\">0.0</td>\n",
       "        </tr>\n",
       "    \n",
       "\n",
       "        <tr class=\"default\">\n",
       "            <td><i class=\"copy-paste-icon\"\n",
       "                 onclick=\"copyToClipboard('max_features',\n",
       "                          this.parentElement.nextElementSibling)\"\n",
       "            ></i></td>\n",
       "            <td class=\"param\">max_features&nbsp;</td>\n",
       "            <td class=\"value\">&#x27;sqrt&#x27;</td>\n",
       "        </tr>\n",
       "    \n",
       "\n",
       "        <tr class=\"default\">\n",
       "            <td><i class=\"copy-paste-icon\"\n",
       "                 onclick=\"copyToClipboard('max_leaf_nodes',\n",
       "                          this.parentElement.nextElementSibling)\"\n",
       "            ></i></td>\n",
       "            <td class=\"param\">max_leaf_nodes&nbsp;</td>\n",
       "            <td class=\"value\">None</td>\n",
       "        </tr>\n",
       "    \n",
       "\n",
       "        <tr class=\"default\">\n",
       "            <td><i class=\"copy-paste-icon\"\n",
       "                 onclick=\"copyToClipboard('min_impurity_decrease',\n",
       "                          this.parentElement.nextElementSibling)\"\n",
       "            ></i></td>\n",
       "            <td class=\"param\">min_impurity_decrease&nbsp;</td>\n",
       "            <td class=\"value\">0.0</td>\n",
       "        </tr>\n",
       "    \n",
       "\n",
       "        <tr class=\"default\">\n",
       "            <td><i class=\"copy-paste-icon\"\n",
       "                 onclick=\"copyToClipboard('bootstrap',\n",
       "                          this.parentElement.nextElementSibling)\"\n",
       "            ></i></td>\n",
       "            <td class=\"param\">bootstrap&nbsp;</td>\n",
       "            <td class=\"value\">True</td>\n",
       "        </tr>\n",
       "    \n",
       "\n",
       "        <tr class=\"default\">\n",
       "            <td><i class=\"copy-paste-icon\"\n",
       "                 onclick=\"copyToClipboard('oob_score',\n",
       "                          this.parentElement.nextElementSibling)\"\n",
       "            ></i></td>\n",
       "            <td class=\"param\">oob_score&nbsp;</td>\n",
       "            <td class=\"value\">False</td>\n",
       "        </tr>\n",
       "    \n",
       "\n",
       "        <tr class=\"default\">\n",
       "            <td><i class=\"copy-paste-icon\"\n",
       "                 onclick=\"copyToClipboard('n_jobs',\n",
       "                          this.parentElement.nextElementSibling)\"\n",
       "            ></i></td>\n",
       "            <td class=\"param\">n_jobs&nbsp;</td>\n",
       "            <td class=\"value\">None</td>\n",
       "        </tr>\n",
       "    \n",
       "\n",
       "        <tr class=\"user-set\">\n",
       "            <td><i class=\"copy-paste-icon\"\n",
       "                 onclick=\"copyToClipboard('random_state',\n",
       "                          this.parentElement.nextElementSibling)\"\n",
       "            ></i></td>\n",
       "            <td class=\"param\">random_state&nbsp;</td>\n",
       "            <td class=\"value\">123</td>\n",
       "        </tr>\n",
       "    \n",
       "\n",
       "        <tr class=\"default\">\n",
       "            <td><i class=\"copy-paste-icon\"\n",
       "                 onclick=\"copyToClipboard('verbose',\n",
       "                          this.parentElement.nextElementSibling)\"\n",
       "            ></i></td>\n",
       "            <td class=\"param\">verbose&nbsp;</td>\n",
       "            <td class=\"value\">0</td>\n",
       "        </tr>\n",
       "    \n",
       "\n",
       "        <tr class=\"default\">\n",
       "            <td><i class=\"copy-paste-icon\"\n",
       "                 onclick=\"copyToClipboard('warm_start',\n",
       "                          this.parentElement.nextElementSibling)\"\n",
       "            ></i></td>\n",
       "            <td class=\"param\">warm_start&nbsp;</td>\n",
       "            <td class=\"value\">False</td>\n",
       "        </tr>\n",
       "    \n",
       "\n",
       "        <tr class=\"default\">\n",
       "            <td><i class=\"copy-paste-icon\"\n",
       "                 onclick=\"copyToClipboard('class_weight',\n",
       "                          this.parentElement.nextElementSibling)\"\n",
       "            ></i></td>\n",
       "            <td class=\"param\">class_weight&nbsp;</td>\n",
       "            <td class=\"value\">None</td>\n",
       "        </tr>\n",
       "    \n",
       "\n",
       "        <tr class=\"default\">\n",
       "            <td><i class=\"copy-paste-icon\"\n",
       "                 onclick=\"copyToClipboard('ccp_alpha',\n",
       "                          this.parentElement.nextElementSibling)\"\n",
       "            ></i></td>\n",
       "            <td class=\"param\">ccp_alpha&nbsp;</td>\n",
       "            <td class=\"value\">0.0</td>\n",
       "        </tr>\n",
       "    \n",
       "\n",
       "        <tr class=\"default\">\n",
       "            <td><i class=\"copy-paste-icon\"\n",
       "                 onclick=\"copyToClipboard('max_samples',\n",
       "                          this.parentElement.nextElementSibling)\"\n",
       "            ></i></td>\n",
       "            <td class=\"param\">max_samples&nbsp;</td>\n",
       "            <td class=\"value\">None</td>\n",
       "        </tr>\n",
       "    \n",
       "\n",
       "        <tr class=\"default\">\n",
       "            <td><i class=\"copy-paste-icon\"\n",
       "                 onclick=\"copyToClipboard('monotonic_cst',\n",
       "                          this.parentElement.nextElementSibling)\"\n",
       "            ></i></td>\n",
       "            <td class=\"param\">monotonic_cst&nbsp;</td>\n",
       "            <td class=\"value\">None</td>\n",
       "        </tr>\n",
       "    \n",
       "                  </tbody>\n",
       "                </table>\n",
       "            </details>\n",
       "        </div>\n",
       "    </div></div></div></div></div><script>function copyToClipboard(text, element) {\n",
       "    // Get the parameter prefix from the closest toggleable content\n",
       "    const toggleableContent = element.closest('.sk-toggleable__content');\n",
       "    const paramPrefix = toggleableContent ? toggleableContent.dataset.paramPrefix : '';\n",
       "    const fullParamName = paramPrefix ? `${paramPrefix}${text}` : text;\n",
       "\n",
       "    const originalStyle = element.style;\n",
       "    const computedStyle = window.getComputedStyle(element);\n",
       "    const originalWidth = computedStyle.width;\n",
       "    const originalHTML = element.innerHTML.replace('Copied!', '');\n",
       "\n",
       "    navigator.clipboard.writeText(fullParamName)\n",
       "        .then(() => {\n",
       "            element.style.width = originalWidth;\n",
       "            element.style.color = 'green';\n",
       "            element.innerHTML = \"Copied!\";\n",
       "\n",
       "            setTimeout(() => {\n",
       "                element.innerHTML = originalHTML;\n",
       "                element.style = originalStyle;\n",
       "            }, 2000);\n",
       "        })\n",
       "        .catch(err => {\n",
       "            console.error('Failed to copy:', err);\n",
       "            element.style.color = 'red';\n",
       "            element.innerHTML = \"Failed!\";\n",
       "            setTimeout(() => {\n",
       "                element.innerHTML = originalHTML;\n",
       "                element.style = originalStyle;\n",
       "            }, 2000);\n",
       "        });\n",
       "    return false;\n",
       "}\n",
       "\n",
       "document.querySelectorAll('.fa-regular.fa-copy').forEach(function(element) {\n",
       "    const toggleableContent = element.closest('.sk-toggleable__content');\n",
       "    const paramPrefix = toggleableContent ? toggleableContent.dataset.paramPrefix : '';\n",
       "    const paramName = element.parentElement.nextElementSibling.textContent.trim();\n",
       "    const fullParamName = paramPrefix ? `${paramPrefix}${paramName}` : paramName;\n",
       "\n",
       "    element.setAttribute('title', fullParamName);\n",
       "});\n",
       "</script></body>"
      ],
      "text/plain": [
       "RandomForestClassifier(random_state=123)"
      ]
     },
     "execution_count": 13,
     "metadata": {},
     "output_type": "execute_result"
    }
   ],
   "source": [
    "le = LabelEncoder()\n",
    "x_train = attrs_agg_correct_cols.drop(columns=[\"dataset\", \"model\", \"attack\"])\n",
    "y_train = attrs_agg_correct_cols[\"attack\"]\n",
    "y_train_enc = le.fit_transform(y_train)\n",
    "model = RandomForestClassifier(random_state=123)\n",
    "model.fit(x_train, y_train_enc)"
   ]
  },
  {
   "cell_type": "code",
   "execution_count": 14,
   "metadata": {},
   "outputs": [],
   "source": [
    "fi_dict = {'var': x_train.columns, 'fi': model.feature_importances_}\n",
    "fi_df = pd.DataFrame(fi_dict)\n",
    "fi_df[\"fi_rank\"] = fi_df[\"fi\"].rank(ascending=False)"
   ]
  },
  {
   "cell_type": "code",
   "execution_count": 15,
   "metadata": {},
   "outputs": [],
   "source": [
    "attrs_agg_correct_cols.to_csv(\"results/attr_attacks_type_agr_nn.csv\", index=False)"
   ]
  },
  {
   "cell_type": "code",
   "execution_count": 16,
   "metadata": {},
   "outputs": [],
   "source": [
    "def create_hyperparams_grid(model, param_grid, exp_function, crit=\"kappa\"):\n",
    "\n",
    "    quality_measure = []\n",
    "    params_list = []\n",
    "    results_table = []\n",
    "    results_fi = []\n",
    "\n",
    "    for param1 in param_grid[list(param_grid.keys())[0]]:\n",
    "        for param2 in param_grid[list(param_grid.keys())[1]]:\n",
    "            for param3 in param_grid[list(param_grid.keys())[2]]:\n",
    "                params = {list(param_grid.keys())[0]: param1,\n",
    "                          list(param_grid.keys())[1]: param2,\n",
    "                          list(param_grid.keys())[2]: param3}\n",
    "\n",
    "                model.set_params(**params)\n",
    "                summary, fi = exp_function(model=model)\n",
    "                results_table.append(summary)\n",
    "                results_fi.append(fi)\n",
    "                params_list.append(params)\n",
    "                crit_value = np.mean(summary[\"kappa\"])\n",
    "                quality_measure.append(crit_value)\n",
    "                print(f\"{crit} = {crit_value}, params: {params}\")\n",
    "\n",
    "    best_params_idx = np.argmax(quality_measure)\n",
    "    best_params = params_list[best_params_idx]\n",
    "\n",
    "    print(f\"Params: {best_params} give best {crit} equal {quality_measure[best_params_idx]}\")\n",
    "\n",
    "    return results_table[best_params_idx], results_fi[best_params_idx]"
   ]
  },
  {
   "cell_type": "markdown",
   "metadata": {},
   "source": [
    "# Leave-one-data-set-out"
   ]
  },
  {
   "cell_type": "code",
   "execution_count": 21,
   "metadata": {},
   "outputs": [],
   "source": [
    "from sklearn.metrics import confusion_matrix"
   ]
  },
  {
   "cell_type": "code",
   "execution_count": null,
   "metadata": {},
   "outputs": [],
   "source": [
    "def leave_dataset_out(model=xgb.XGBClassifier(random_state=123)):\n",
    "\n",
    "    datasets = np.unique(attrs_agg_correct_cols[\"dataset\"])\n",
    "    kappa_list = []\n",
    "    bacc_list = []\n",
    "    fi_all = pd.DataFrame()\n",
    "    test_all = []\n",
    "    preds_all = []\n",
    "\n",
    "    for dataset in tqdm(datasets):\n",
    "\n",
    "        train = attrs_agg_correct_cols[attrs_agg_correct_cols[\"dataset\"] != dataset]\n",
    "        test = attrs_agg_correct_cols[attrs_agg_correct_cols[\"dataset\"] == dataset]\n",
    "\n",
    "        x_train = train.drop(columns=[\"dataset\", \"model\", \"attack\"])\n",
    "        y_train = train[\"attack\"]\n",
    "\n",
    "        x_test = test.drop(columns=[\"dataset\", \"model\", \"attack\"])\n",
    "        y_test = test[\"attack\"]\n",
    "\n",
    "        le = LabelEncoder()\n",
    "        y_train_enc = le.fit_transform(y_train)\n",
    "        y_test_enc = le.transform(y_test)\n",
    "\n",
    "        model.fit(x_train, y_train_enc)\n",
    "\n",
    "        fi_dict = {'var': x_train.columns, 'fi': model.feature_importances_}\n",
    "        fi_df = pd.DataFrame(fi_dict)\n",
    "        fi_df[\"fi_rank\"] = fi_df[\"fi\"].rank(ascending=False)\n",
    "        fi_df[\"dataset\"] = dataset\n",
    "        fi_all = pd.concat([fi_all, fi_df])\n",
    "\n",
    "        preds = model.predict(x_test)\n",
    "        test_all.append(le.inverse_transform(y_test_enc))\n",
    "        preds_all.append(le.inverse_transform(preds))\n",
    "        bacc_list.append(balanced_accuracy_score(y_test_enc, preds))\n",
    "        kappa_list.append(cohen_kappa_score(y_test_enc, preds))\n",
    "\n",
    "    test_preds = pd.DataFrame({'true': np.concatenate(test_all), 'pred': np.concatenate(preds_all)})\n",
    "    print(confusion_matrix(test_preds['true'], test_preds['pred'], labels=le.classes_))\n",
    "    print(balanced_accuracy_score(test_preds['true'], test_preds['pred']))\n",
    "    results_dict = {'dataset': datasets, 'bacc': bacc_list, 'kappa': kappa_list}\n",
    "    results_df = pd.DataFrame(results_dict)\n",
    "    return results_df, fi_all"
   ]
  },
  {
   "cell_type": "markdown",
   "metadata": {},
   "source": [
    "## XGBoost"
   ]
  },
  {
   "cell_type": "markdown",
   "metadata": {},
   "source": [
    "### Default parameters"
   ]
  },
  {
   "cell_type": "code",
   "execution_count": 27,
   "metadata": {},
   "outputs": [
    {
     "name": "stderr",
     "output_type": "stream",
     "text": [
      "100%|██████████| 22/22 [00:11<00:00,  1.97it/s]"
     ]
    },
    {
     "name": "stdout",
     "output_type": "stream",
     "text": [
      "[[10  3  0  0  0  0  8  1]\n",
      " [ 0 15  0  4  0  0  3  0]\n",
      " [ 0  0 47  1  0  7  0  9]\n",
      " [ 1  1  0 17  2  1  0  0]\n",
      " [ 0  0  2  0 83  3  0  0]\n",
      " [ 0  0  7  1  4 49  0  5]\n",
      " [ 3  3  0  0  0  0 16  0]\n",
      " [ 0  0  6  0  4  8  0 48]]\n"
     ]
    },
    {
     "name": "stderr",
     "output_type": "stream",
     "text": [
      "\n"
     ]
    },
    {
     "data": {
      "application/vnd.microsoft.datawrangler.viewer.v0+json": {
       "columns": [
        {
         "name": "index",
         "rawType": "int64",
         "type": "integer"
        },
        {
         "name": "dataset",
         "rawType": "object",
         "type": "string"
        },
        {
         "name": "bacc",
         "rawType": "float64",
         "type": "float"
        },
        {
         "name": "kappa",
         "rawType": "float64",
         "type": "float"
        }
       ],
       "ref": "57a2af8a-bd70-4a52-949a-72d86355297c",
       "rows": [
        [
         "0",
         "Bioresponse",
         "0.8333333333333333",
         "0.8571428571428572"
        ],
        [
         "1",
         "churn",
         "0.7083333333333333",
         "0.7892561983471074"
        ],
        [
         "2",
         "cmc",
         "0.875",
         "0.9297520661157025"
        ],
        [
         "3",
         "cnae-9",
         "0.7083333333333333",
         "0.6473029045643153"
        ],
        [
         "4",
         "dna",
         "0.5",
         "0.5767634854771784"
        ],
        [
         "5",
         "har",
         "0.75",
         "0.5767634854771784"
        ],
        [
         "6",
         "madelon",
         "0.5",
         "0.34246575342465757"
        ],
        [
         "7",
         "mfeat-factors",
         "0.875",
         "0.9297520661157025"
        ],
        [
         "8",
         "mfeat-fourier",
         "0.7916666666666666",
         "0.7892561983471075"
        ],
        [
         "9",
         "mfeat-karhunen",
         "1.0",
         "1.0"
        ],
        [
         "10",
         "mfeat-zernike",
         "0.875",
         "0.9297520661157025"
        ],
        [
         "11",
         "nomao",
         "0.49999999999999994",
         "0.5732217573221756"
        ],
        [
         "12",
         "optdigits",
         "1.0",
         "1.0"
        ],
        [
         "13",
         "pendigits",
         "0.6666666666666666",
         "0.5785123966942148"
        ],
        [
         "14",
         "phoneme",
         "0.5416666666666666",
         "0.5082644628099173"
        ],
        [
         "15",
         "qsar-biodeg",
         "0.875",
         "0.7892561983471074"
        ],
        [
         "16",
         "satimage",
         "0.6041666666666667",
         "0.6244131455399061"
        ],
        [
         "17",
         "semeion",
         "0.75",
         "0.7154811715481172"
        ],
        [
         "18",
         "spambase",
         "1.0",
         "1.0"
        ],
        [
         "19",
         "wall-robot-navigation",
         "0.6666666666666666",
         "0.71900826446281"
        ],
        [
         "20",
         "wdbc",
         "0.375",
         "0.5082644628099173"
        ],
        [
         "21",
         "wilt",
         "0.5104166666666666",
         "0.44262295081967207"
        ]
       ],
       "shape": {
        "columns": 3,
        "rows": 22
       }
      },
      "text/html": [
       "<div>\n",
       "<style scoped>\n",
       "    .dataframe tbody tr th:only-of-type {\n",
       "        vertical-align: middle;\n",
       "    }\n",
       "\n",
       "    .dataframe tbody tr th {\n",
       "        vertical-align: top;\n",
       "    }\n",
       "\n",
       "    .dataframe thead th {\n",
       "        text-align: right;\n",
       "    }\n",
       "</style>\n",
       "<table border=\"1\" class=\"dataframe\">\n",
       "  <thead>\n",
       "    <tr style=\"text-align: right;\">\n",
       "      <th></th>\n",
       "      <th>dataset</th>\n",
       "      <th>bacc</th>\n",
       "      <th>kappa</th>\n",
       "    </tr>\n",
       "  </thead>\n",
       "  <tbody>\n",
       "    <tr>\n",
       "      <th>0</th>\n",
       "      <td>Bioresponse</td>\n",
       "      <td>0.833333</td>\n",
       "      <td>0.857143</td>\n",
       "    </tr>\n",
       "    <tr>\n",
       "      <th>1</th>\n",
       "      <td>churn</td>\n",
       "      <td>0.708333</td>\n",
       "      <td>0.789256</td>\n",
       "    </tr>\n",
       "    <tr>\n",
       "      <th>2</th>\n",
       "      <td>cmc</td>\n",
       "      <td>0.875000</td>\n",
       "      <td>0.929752</td>\n",
       "    </tr>\n",
       "    <tr>\n",
       "      <th>3</th>\n",
       "      <td>cnae-9</td>\n",
       "      <td>0.708333</td>\n",
       "      <td>0.647303</td>\n",
       "    </tr>\n",
       "    <tr>\n",
       "      <th>4</th>\n",
       "      <td>dna</td>\n",
       "      <td>0.500000</td>\n",
       "      <td>0.576763</td>\n",
       "    </tr>\n",
       "    <tr>\n",
       "      <th>5</th>\n",
       "      <td>har</td>\n",
       "      <td>0.750000</td>\n",
       "      <td>0.576763</td>\n",
       "    </tr>\n",
       "    <tr>\n",
       "      <th>6</th>\n",
       "      <td>madelon</td>\n",
       "      <td>0.500000</td>\n",
       "      <td>0.342466</td>\n",
       "    </tr>\n",
       "    <tr>\n",
       "      <th>7</th>\n",
       "      <td>mfeat-factors</td>\n",
       "      <td>0.875000</td>\n",
       "      <td>0.929752</td>\n",
       "    </tr>\n",
       "    <tr>\n",
       "      <th>8</th>\n",
       "      <td>mfeat-fourier</td>\n",
       "      <td>0.791667</td>\n",
       "      <td>0.789256</td>\n",
       "    </tr>\n",
       "    <tr>\n",
       "      <th>9</th>\n",
       "      <td>mfeat-karhunen</td>\n",
       "      <td>1.000000</td>\n",
       "      <td>1.000000</td>\n",
       "    </tr>\n",
       "    <tr>\n",
       "      <th>10</th>\n",
       "      <td>mfeat-zernike</td>\n",
       "      <td>0.875000</td>\n",
       "      <td>0.929752</td>\n",
       "    </tr>\n",
       "    <tr>\n",
       "      <th>11</th>\n",
       "      <td>nomao</td>\n",
       "      <td>0.500000</td>\n",
       "      <td>0.573222</td>\n",
       "    </tr>\n",
       "    <tr>\n",
       "      <th>12</th>\n",
       "      <td>optdigits</td>\n",
       "      <td>1.000000</td>\n",
       "      <td>1.000000</td>\n",
       "    </tr>\n",
       "    <tr>\n",
       "      <th>13</th>\n",
       "      <td>pendigits</td>\n",
       "      <td>0.666667</td>\n",
       "      <td>0.578512</td>\n",
       "    </tr>\n",
       "    <tr>\n",
       "      <th>14</th>\n",
       "      <td>phoneme</td>\n",
       "      <td>0.541667</td>\n",
       "      <td>0.508264</td>\n",
       "    </tr>\n",
       "    <tr>\n",
       "      <th>15</th>\n",
       "      <td>qsar-biodeg</td>\n",
       "      <td>0.875000</td>\n",
       "      <td>0.789256</td>\n",
       "    </tr>\n",
       "    <tr>\n",
       "      <th>16</th>\n",
       "      <td>satimage</td>\n",
       "      <td>0.604167</td>\n",
       "      <td>0.624413</td>\n",
       "    </tr>\n",
       "    <tr>\n",
       "      <th>17</th>\n",
       "      <td>semeion</td>\n",
       "      <td>0.750000</td>\n",
       "      <td>0.715481</td>\n",
       "    </tr>\n",
       "    <tr>\n",
       "      <th>18</th>\n",
       "      <td>spambase</td>\n",
       "      <td>1.000000</td>\n",
       "      <td>1.000000</td>\n",
       "    </tr>\n",
       "    <tr>\n",
       "      <th>19</th>\n",
       "      <td>wall-robot-navigation</td>\n",
       "      <td>0.666667</td>\n",
       "      <td>0.719008</td>\n",
       "    </tr>\n",
       "    <tr>\n",
       "      <th>20</th>\n",
       "      <td>wdbc</td>\n",
       "      <td>0.375000</td>\n",
       "      <td>0.508264</td>\n",
       "    </tr>\n",
       "    <tr>\n",
       "      <th>21</th>\n",
       "      <td>wilt</td>\n",
       "      <td>0.510417</td>\n",
       "      <td>0.442623</td>\n",
       "    </tr>\n",
       "  </tbody>\n",
       "</table>\n",
       "</div>"
      ],
      "text/plain": [
       "                  dataset      bacc     kappa\n",
       "0             Bioresponse  0.833333  0.857143\n",
       "1                   churn  0.708333  0.789256\n",
       "2                     cmc  0.875000  0.929752\n",
       "3                  cnae-9  0.708333  0.647303\n",
       "4                     dna  0.500000  0.576763\n",
       "5                     har  0.750000  0.576763\n",
       "6                 madelon  0.500000  0.342466\n",
       "7           mfeat-factors  0.875000  0.929752\n",
       "8           mfeat-fourier  0.791667  0.789256\n",
       "9          mfeat-karhunen  1.000000  1.000000\n",
       "10          mfeat-zernike  0.875000  0.929752\n",
       "11                  nomao  0.500000  0.573222\n",
       "12              optdigits  1.000000  1.000000\n",
       "13              pendigits  0.666667  0.578512\n",
       "14                phoneme  0.541667  0.508264\n",
       "15            qsar-biodeg  0.875000  0.789256\n",
       "16               satimage  0.604167  0.624413\n",
       "17                semeion  0.750000  0.715481\n",
       "18               spambase  1.000000  1.000000\n",
       "19  wall-robot-navigation  0.666667  0.719008\n",
       "20                   wdbc  0.375000  0.508264\n",
       "21                   wilt  0.510417  0.442623"
      ]
     },
     "execution_count": 27,
     "metadata": {},
     "output_type": "execute_result"
    }
   ],
   "source": [
    "one_dataset_out_xgb, one_dataset_out_fi_xgb = leave_dataset_out()\n",
    "one_dataset_out_xgb"
   ]
  },
  {
   "cell_type": "markdown",
   "metadata": {},
   "source": [
    "### Hyperparameters tuning"
   ]
  },
  {
   "cell_type": "code",
   "execution_count": 15,
   "metadata": {},
   "outputs": [
    {
     "name": "stderr",
     "output_type": "stream",
     "text": [
      "100%|██████████| 22/22 [00:46<00:00,  2.13s/it]\n"
     ]
    },
    {
     "name": "stdout",
     "output_type": "stream",
     "text": [
      "kappa = 0.7193746614812835, params: {'max_depth': 6, 'learning_rate': 0.1, 'n_estimators': 100}\n"
     ]
    },
    {
     "name": "stderr",
     "output_type": "stream",
     "text": [
      "100%|██████████| 22/22 [01:09<00:00,  3.16s/it]\n"
     ]
    },
    {
     "name": "stdout",
     "output_type": "stream",
     "text": [
      "kappa = 0.7161335577553092, params: {'max_depth': 6, 'learning_rate': 0.1, 'n_estimators': 200}\n"
     ]
    },
    {
     "name": "stderr",
     "output_type": "stream",
     "text": [
      "100%|██████████| 22/22 [01:49<00:00,  5.00s/it]\n"
     ]
    },
    {
     "name": "stdout",
     "output_type": "stream",
     "text": [
      "kappa = 0.7226527788922988, params: {'max_depth': 6, 'learning_rate': 0.1, 'n_estimators': 500}\n"
     ]
    },
    {
     "name": "stderr",
     "output_type": "stream",
     "text": [
      "100%|██████████| 22/22 [00:28<00:00,  1.31s/it]\n"
     ]
    },
    {
     "name": "stdout",
     "output_type": "stream",
     "text": [
      "kappa = 0.7194205405218793, params: {'max_depth': 6, 'learning_rate': 0.3, 'n_estimators': 100}\n"
     ]
    },
    {
     "name": "stderr",
     "output_type": "stream",
     "text": [
      "100%|██████████| 22/22 [00:42<00:00,  1.94s/it]\n"
     ]
    },
    {
     "name": "stdout",
     "output_type": "stream",
     "text": [
      "kappa = 0.7195350833238546, params: {'max_depth': 6, 'learning_rate': 0.3, 'n_estimators': 200}\n"
     ]
    },
    {
     "name": "stderr",
     "output_type": "stream",
     "text": [
      "100%|██████████| 22/22 [01:21<00:00,  3.69s/it]\n"
     ]
    },
    {
     "name": "stdout",
     "output_type": "stream",
     "text": [
      "kappa = 0.7201531321148997, params: {'max_depth': 6, 'learning_rate': 0.3, 'n_estimators': 500}\n"
     ]
    },
    {
     "name": "stderr",
     "output_type": "stream",
     "text": [
      "100%|██████████| 22/22 [00:25<00:00,  1.16s/it]\n"
     ]
    },
    {
     "name": "stdout",
     "output_type": "stream",
     "text": [
      "kappa = 0.7035192646644147, params: {'max_depth': 6, 'learning_rate': 0.5, 'n_estimators': 100}\n"
     ]
    },
    {
     "name": "stderr",
     "output_type": "stream",
     "text": [
      "100%|██████████| 22/22 [00:39<00:00,  1.78s/it]\n"
     ]
    },
    {
     "name": "stdout",
     "output_type": "stream",
     "text": [
      "kappa = 0.6945774315291675, params: {'max_depth': 6, 'learning_rate': 0.5, 'n_estimators': 200}\n"
     ]
    },
    {
     "name": "stderr",
     "output_type": "stream",
     "text": [
      "100%|██████████| 22/22 [01:22<00:00,  3.74s/it]\n"
     ]
    },
    {
     "name": "stdout",
     "output_type": "stream",
     "text": [
      "kappa = 0.70122661976182, params: {'max_depth': 6, 'learning_rate': 0.5, 'n_estimators': 500}\n"
     ]
    },
    {
     "name": "stderr",
     "output_type": "stream",
     "text": [
      "100%|██████████| 22/22 [00:53<00:00,  2.43s/it]\n"
     ]
    },
    {
     "name": "stdout",
     "output_type": "stream",
     "text": [
      "kappa = 0.7164377390812426, params: {'max_depth': 9, 'learning_rate': 0.1, 'n_estimators': 100}\n"
     ]
    },
    {
     "name": "stderr",
     "output_type": "stream",
     "text": [
      "100%|██████████| 22/22 [01:13<00:00,  3.35s/it]\n"
     ]
    },
    {
     "name": "stdout",
     "output_type": "stream",
     "text": [
      "kappa = 0.7199443604476735, params: {'max_depth': 9, 'learning_rate': 0.1, 'n_estimators': 200}\n"
     ]
    },
    {
     "name": "stderr",
     "output_type": "stream",
     "text": [
      "100%|██████████| 22/22 [02:03<00:00,  5.60s/it]\n"
     ]
    },
    {
     "name": "stdout",
     "output_type": "stream",
     "text": [
      "kappa = 0.722833514240635, params: {'max_depth': 9, 'learning_rate': 0.1, 'n_estimators': 500}\n"
     ]
    },
    {
     "name": "stderr",
     "output_type": "stream",
     "text": [
      "100%|██████████| 22/22 [00:31<00:00,  1.43s/it]\n"
     ]
    },
    {
     "name": "stdout",
     "output_type": "stream",
     "text": [
      "kappa = 0.716631848925691, params: {'max_depth': 9, 'learning_rate': 0.3, 'n_estimators': 100}\n"
     ]
    },
    {
     "name": "stderr",
     "output_type": "stream",
     "text": [
      "100%|██████████| 22/22 [00:46<00:00,  2.11s/it]\n"
     ]
    },
    {
     "name": "stdout",
     "output_type": "stream",
     "text": [
      "kappa = 0.7166056760740203, params: {'max_depth': 9, 'learning_rate': 0.3, 'n_estimators': 200}\n"
     ]
    },
    {
     "name": "stderr",
     "output_type": "stream",
     "text": [
      "100%|██████████| 22/22 [01:22<00:00,  3.76s/it]\n"
     ]
    },
    {
     "name": "stdout",
     "output_type": "stream",
     "text": [
      "kappa = 0.7016378240996715, params: {'max_depth': 9, 'learning_rate': 0.3, 'n_estimators': 500}\n"
     ]
    },
    {
     "name": "stderr",
     "output_type": "stream",
     "text": [
      "100%|██████████| 22/22 [00:25<00:00,  1.16s/it]\n"
     ]
    },
    {
     "name": "stdout",
     "output_type": "stream",
     "text": [
      "kappa = 0.6949172802485738, params: {'max_depth': 9, 'learning_rate': 0.5, 'n_estimators': 100}\n"
     ]
    },
    {
     "name": "stderr",
     "output_type": "stream",
     "text": [
      "100%|██████████| 22/22 [00:38<00:00,  1.76s/it]\n"
     ]
    },
    {
     "name": "stdout",
     "output_type": "stream",
     "text": [
      "kappa = 0.7071990908615706, params: {'max_depth': 9, 'learning_rate': 0.5, 'n_estimators': 200}\n"
     ]
    },
    {
     "name": "stderr",
     "output_type": "stream",
     "text": [
      "100%|██████████| 22/22 [01:12<00:00,  3.32s/it]\n"
     ]
    },
    {
     "name": "stdout",
     "output_type": "stream",
     "text": [
      "kappa = 0.7171343872022177, params: {'max_depth': 9, 'learning_rate': 0.5, 'n_estimators': 500}\n"
     ]
    },
    {
     "name": "stderr",
     "output_type": "stream",
     "text": [
      "100%|██████████| 22/22 [00:49<00:00,  2.27s/it]\n"
     ]
    },
    {
     "name": "stdout",
     "output_type": "stream",
     "text": [
      "kappa = 0.7264255984723959, params: {'max_depth': 12, 'learning_rate': 0.1, 'n_estimators': 100}\n"
     ]
    },
    {
     "name": "stderr",
     "output_type": "stream",
     "text": [
      "100%|██████████| 22/22 [01:14<00:00,  3.39s/it]\n"
     ]
    },
    {
     "name": "stdout",
     "output_type": "stream",
     "text": [
      "kappa = 0.7165611756693075, params: {'max_depth': 12, 'learning_rate': 0.1, 'n_estimators': 200}\n"
     ]
    },
    {
     "name": "stderr",
     "output_type": "stream",
     "text": [
      "100%|██████████| 22/22 [02:06<00:00,  5.75s/it]\n"
     ]
    },
    {
     "name": "stdout",
     "output_type": "stream",
     "text": [
      "kappa = 0.7165792864671788, params: {'max_depth': 12, 'learning_rate': 0.1, 'n_estimators': 500}\n"
     ]
    },
    {
     "name": "stderr",
     "output_type": "stream",
     "text": [
      "100%|██████████| 22/22 [00:31<00:00,  1.45s/it]\n"
     ]
    },
    {
     "name": "stdout",
     "output_type": "stream",
     "text": [
      "kappa = 0.7165924267466184, params: {'max_depth': 12, 'learning_rate': 0.3, 'n_estimators': 100}\n"
     ]
    },
    {
     "name": "stderr",
     "output_type": "stream",
     "text": [
      "100%|██████████| 22/22 [00:47<00:00,  2.16s/it]\n"
     ]
    },
    {
     "name": "stdout",
     "output_type": "stream",
     "text": [
      "kappa = 0.7167740369484411, params: {'max_depth': 12, 'learning_rate': 0.3, 'n_estimators': 200}\n"
     ]
    },
    {
     "name": "stderr",
     "output_type": "stream",
     "text": [
      "100%|██████████| 22/22 [01:25<00:00,  3.88s/it]\n"
     ]
    },
    {
     "name": "stdout",
     "output_type": "stream",
     "text": [
      "kappa = 0.7019663022444587, params: {'max_depth': 12, 'learning_rate': 0.3, 'n_estimators': 500}\n"
     ]
    },
    {
     "name": "stderr",
     "output_type": "stream",
     "text": [
      "100%|██████████| 22/22 [00:29<00:00,  1.33s/it]\n"
     ]
    },
    {
     "name": "stdout",
     "output_type": "stream",
     "text": [
      "kappa = 0.707335192160227, params: {'max_depth': 12, 'learning_rate': 0.5, 'n_estimators': 100}\n"
     ]
    },
    {
     "name": "stderr",
     "output_type": "stream",
     "text": [
      "100%|██████████| 22/22 [00:40<00:00,  1.84s/it]\n"
     ]
    },
    {
     "name": "stdout",
     "output_type": "stream",
     "text": [
      "kappa = 0.7169065778068658, params: {'max_depth': 12, 'learning_rate': 0.5, 'n_estimators': 200}\n"
     ]
    },
    {
     "name": "stderr",
     "output_type": "stream",
     "text": [
      "100%|██████████| 22/22 [01:20<00:00,  3.67s/it]"
     ]
    },
    {
     "name": "stdout",
     "output_type": "stream",
     "text": [
      "kappa = 0.7237723842660898, params: {'max_depth': 12, 'learning_rate': 0.5, 'n_estimators': 500}\n",
      "Params: {'max_depth': 12, 'learning_rate': 0.1, 'n_estimators': 100} give best kappa equal 0.7264255984723959\n"
     ]
    },
    {
     "name": "stderr",
     "output_type": "stream",
     "text": [
      "\n"
     ]
    },
    {
     "data": {
      "text/html": [
       "<div>\n",
       "<style scoped>\n",
       "    .dataframe tbody tr th:only-of-type {\n",
       "        vertical-align: middle;\n",
       "    }\n",
       "\n",
       "    .dataframe tbody tr th {\n",
       "        vertical-align: top;\n",
       "    }\n",
       "\n",
       "    .dataframe thead th {\n",
       "        text-align: right;\n",
       "    }\n",
       "</style>\n",
       "<table border=\"1\" class=\"dataframe\">\n",
       "  <thead>\n",
       "    <tr style=\"text-align: right;\">\n",
       "      <th></th>\n",
       "      <th>dataset</th>\n",
       "      <th>bacc</th>\n",
       "      <th>kappa</th>\n",
       "    </tr>\n",
       "  </thead>\n",
       "  <tbody>\n",
       "    <tr>\n",
       "      <th>0</th>\n",
       "      <td>Bioresponse</td>\n",
       "      <td>0.833333</td>\n",
       "      <td>0.857143</td>\n",
       "    </tr>\n",
       "    <tr>\n",
       "      <th>1</th>\n",
       "      <td>churn</td>\n",
       "      <td>0.708333</td>\n",
       "      <td>0.789256</td>\n",
       "    </tr>\n",
       "    <tr>\n",
       "      <th>2</th>\n",
       "      <td>cmc</td>\n",
       "      <td>1.000000</td>\n",
       "      <td>1.000000</td>\n",
       "    </tr>\n",
       "    <tr>\n",
       "      <th>3</th>\n",
       "      <td>cnae-9</td>\n",
       "      <td>0.750000</td>\n",
       "      <td>0.717842</td>\n",
       "    </tr>\n",
       "    <tr>\n",
       "      <th>4</th>\n",
       "      <td>dna</td>\n",
       "      <td>0.541667</td>\n",
       "      <td>0.650206</td>\n",
       "    </tr>\n",
       "    <tr>\n",
       "      <th>5</th>\n",
       "      <td>har</td>\n",
       "      <td>0.791667</td>\n",
       "      <td>0.647303</td>\n",
       "    </tr>\n",
       "    <tr>\n",
       "      <th>6</th>\n",
       "      <td>madelon</td>\n",
       "      <td>0.500000</td>\n",
       "      <td>0.345455</td>\n",
       "    </tr>\n",
       "    <tr>\n",
       "      <th>7</th>\n",
       "      <td>mfeat-factors</td>\n",
       "      <td>0.875000</td>\n",
       "      <td>0.929752</td>\n",
       "    </tr>\n",
       "    <tr>\n",
       "      <th>8</th>\n",
       "      <td>mfeat-fourier</td>\n",
       "      <td>0.791667</td>\n",
       "      <td>0.789256</td>\n",
       "    </tr>\n",
       "    <tr>\n",
       "      <th>9</th>\n",
       "      <td>mfeat-karhunen</td>\n",
       "      <td>1.000000</td>\n",
       "      <td>1.000000</td>\n",
       "    </tr>\n",
       "    <tr>\n",
       "      <th>10</th>\n",
       "      <td>mfeat-zernike</td>\n",
       "      <td>0.875000</td>\n",
       "      <td>0.929752</td>\n",
       "    </tr>\n",
       "    <tr>\n",
       "      <th>11</th>\n",
       "      <td>nomao</td>\n",
       "      <td>0.500000</td>\n",
       "      <td>0.573222</td>\n",
       "    </tr>\n",
       "    <tr>\n",
       "      <th>12</th>\n",
       "      <td>optdigits</td>\n",
       "      <td>1.000000</td>\n",
       "      <td>1.000000</td>\n",
       "    </tr>\n",
       "    <tr>\n",
       "      <th>13</th>\n",
       "      <td>pendigits</td>\n",
       "      <td>0.666667</td>\n",
       "      <td>0.578512</td>\n",
       "    </tr>\n",
       "    <tr>\n",
       "      <th>14</th>\n",
       "      <td>phoneme</td>\n",
       "      <td>0.541667</td>\n",
       "      <td>0.508264</td>\n",
       "    </tr>\n",
       "    <tr>\n",
       "      <th>15</th>\n",
       "      <td>qsar-biodeg</td>\n",
       "      <td>0.875000</td>\n",
       "      <td>0.789256</td>\n",
       "    </tr>\n",
       "    <tr>\n",
       "      <th>16</th>\n",
       "      <td>satimage</td>\n",
       "      <td>0.666667</td>\n",
       "      <td>0.700935</td>\n",
       "    </tr>\n",
       "    <tr>\n",
       "      <th>17</th>\n",
       "      <td>semeion</td>\n",
       "      <td>0.750000</td>\n",
       "      <td>0.715481</td>\n",
       "    </tr>\n",
       "    <tr>\n",
       "      <th>18</th>\n",
       "      <td>spambase</td>\n",
       "      <td>1.000000</td>\n",
       "      <td>1.000000</td>\n",
       "    </tr>\n",
       "    <tr>\n",
       "      <th>19</th>\n",
       "      <td>wall-robot-navigation</td>\n",
       "      <td>0.541667</td>\n",
       "      <td>0.648760</td>\n",
       "    </tr>\n",
       "    <tr>\n",
       "      <th>20</th>\n",
       "      <td>wdbc</td>\n",
       "      <td>0.333333</td>\n",
       "      <td>0.438017</td>\n",
       "    </tr>\n",
       "    <tr>\n",
       "      <th>21</th>\n",
       "      <td>wilt</td>\n",
       "      <td>0.385417</td>\n",
       "      <td>0.372951</td>\n",
       "    </tr>\n",
       "  </tbody>\n",
       "</table>\n",
       "</div>"
      ],
      "text/plain": [
       "                  dataset      bacc     kappa\n",
       "0             Bioresponse  0.833333  0.857143\n",
       "1                   churn  0.708333  0.789256\n",
       "2                     cmc  1.000000  1.000000\n",
       "3                  cnae-9  0.750000  0.717842\n",
       "4                     dna  0.541667  0.650206\n",
       "5                     har  0.791667  0.647303\n",
       "6                 madelon  0.500000  0.345455\n",
       "7           mfeat-factors  0.875000  0.929752\n",
       "8           mfeat-fourier  0.791667  0.789256\n",
       "9          mfeat-karhunen  1.000000  1.000000\n",
       "10          mfeat-zernike  0.875000  0.929752\n",
       "11                  nomao  0.500000  0.573222\n",
       "12              optdigits  1.000000  1.000000\n",
       "13              pendigits  0.666667  0.578512\n",
       "14                phoneme  0.541667  0.508264\n",
       "15            qsar-biodeg  0.875000  0.789256\n",
       "16               satimage  0.666667  0.700935\n",
       "17                semeion  0.750000  0.715481\n",
       "18               spambase  1.000000  1.000000\n",
       "19  wall-robot-navigation  0.541667  0.648760\n",
       "20                   wdbc  0.333333  0.438017\n",
       "21                   wilt  0.385417  0.372951"
      ]
     },
     "execution_count": 15,
     "metadata": {},
     "output_type": "execute_result"
    }
   ],
   "source": [
    "model=xgb.XGBClassifier(random_state=123)\n",
    "\n",
    "param_grid = {\n",
    "    'max_depth': [6, 9, 12],\n",
    "    'learning_rate': [0.1, 0.3, 0.5],\n",
    "    'n_estimators': [100, 200, 500]\n",
    "}\n",
    "\n",
    "one_dataset_out_xgb, one_dataset_out_fi_xgb = create_hyperparams_grid(model=model, param_grid=param_grid, exp_function=leave_dataset_out, crit=\"kappa\")\n",
    "one_dataset_out_xgb"
   ]
  },
  {
   "cell_type": "code",
   "execution_count": 16,
   "metadata": {},
   "outputs": [
    {
     "data": {
      "text/html": [
       "<div>\n",
       "<style scoped>\n",
       "    .dataframe tbody tr th:only-of-type {\n",
       "        vertical-align: middle;\n",
       "    }\n",
       "\n",
       "    .dataframe tbody tr th {\n",
       "        vertical-align: top;\n",
       "    }\n",
       "\n",
       "    .dataframe thead th {\n",
       "        text-align: right;\n",
       "    }\n",
       "</style>\n",
       "<table border=\"1\" class=\"dataframe\">\n",
       "  <thead>\n",
       "    <tr style=\"text-align: right;\">\n",
       "      <th></th>\n",
       "      <th>bacc</th>\n",
       "      <th>kappa</th>\n",
       "    </tr>\n",
       "  </thead>\n",
       "  <tbody>\n",
       "    <tr>\n",
       "      <th>mean</th>\n",
       "      <td>0.723958</td>\n",
       "      <td>0.726426</td>\n",
       "    </tr>\n",
       "    <tr>\n",
       "      <th>std</th>\n",
       "      <td>0.203509</td>\n",
       "      <td>0.204257</td>\n",
       "    </tr>\n",
       "  </tbody>\n",
       "</table>\n",
       "</div>"
      ],
      "text/plain": [
       "          bacc     kappa\n",
       "mean  0.723958  0.726426\n",
       "std   0.203509  0.204257"
      ]
     },
     "execution_count": 16,
     "metadata": {},
     "output_type": "execute_result"
    }
   ],
   "source": [
    "one_dataset_out_xgb[[\"bacc\", \"kappa\"]].agg(['mean', 'std'])"
   ]
  },
  {
   "cell_type": "code",
   "execution_count": 17,
   "metadata": {},
   "outputs": [
    {
     "data": {
      "text/html": [
       "<div>\n",
       "<style scoped>\n",
       "    .dataframe tbody tr th:only-of-type {\n",
       "        vertical-align: middle;\n",
       "    }\n",
       "\n",
       "    .dataframe tbody tr th {\n",
       "        vertical-align: top;\n",
       "    }\n",
       "\n",
       "    .dataframe thead th {\n",
       "        text-align: right;\n",
       "    }\n",
       "</style>\n",
       "<table border=\"1\" class=\"dataframe\">\n",
       "  <thead>\n",
       "    <tr style=\"text-align: right;\">\n",
       "      <th></th>\n",
       "      <th>fi_rank_mean</th>\n",
       "    </tr>\n",
       "    <tr>\n",
       "      <th>var</th>\n",
       "      <th></th>\n",
       "    </tr>\n",
       "  </thead>\n",
       "  <tbody>\n",
       "    <tr>\n",
       "      <th>bacc_test</th>\n",
       "      <td>1.045455</td>\n",
       "    </tr>\n",
       "    <tr>\n",
       "      <th>uncertainty_q25</th>\n",
       "      <td>3.454545</td>\n",
       "    </tr>\n",
       "    <tr>\n",
       "      <th>uncertainty_mean</th>\n",
       "      <td>3.681818</td>\n",
       "    </tr>\n",
       "    <tr>\n",
       "      <th>uncertainty_q50</th>\n",
       "      <td>5.590909</td>\n",
       "    </tr>\n",
       "    <tr>\n",
       "      <th>target_targets_consistency_in_neighborhood_q75</th>\n",
       "      <td>6.272727</td>\n",
       "    </tr>\n",
       "    <tr>\n",
       "      <th>uncertainty_q0</th>\n",
       "      <td>7.272727</td>\n",
       "    </tr>\n",
       "    <tr>\n",
       "      <th>target_approx_consistency_in_neighborhood_q25</th>\n",
       "      <td>8.681818</td>\n",
       "    </tr>\n",
       "    <tr>\n",
       "      <th>uncertainty_q75</th>\n",
       "      <td>8.727273</td>\n",
       "    </tr>\n",
       "    <tr>\n",
       "      <th>uncertainty_minmax</th>\n",
       "      <td>8.772727</td>\n",
       "    </tr>\n",
       "    <tr>\n",
       "      <th>uncertainty_q1</th>\n",
       "      <td>12.227273</td>\n",
       "    </tr>\n",
       "    <tr>\n",
       "      <th>target_approx_consistency_in_neighborhood_mean</th>\n",
       "      <td>14.136364</td>\n",
       "    </tr>\n",
       "    <tr>\n",
       "      <th>neighborhood_size_q50</th>\n",
       "      <td>14.181818</td>\n",
       "    </tr>\n",
       "    <tr>\n",
       "      <th>neighborhood_size_q25</th>\n",
       "      <td>15.363636</td>\n",
       "    </tr>\n",
       "    <tr>\n",
       "      <th>target_targets_consistency_in_neighborhood_mean</th>\n",
       "      <td>16.727273</td>\n",
       "    </tr>\n",
       "    <tr>\n",
       "      <th>approx_diversity_in_neighborhood_q75</th>\n",
       "      <td>16.818182</td>\n",
       "    </tr>\n",
       "    <tr>\n",
       "      <th>target_approx_consistency_in_neighborhood_q50</th>\n",
       "      <td>17.636364</td>\n",
       "    </tr>\n",
       "    <tr>\n",
       "      <th>target_diversity_in_neighborhood_q1</th>\n",
       "      <td>18.363636</td>\n",
       "    </tr>\n",
       "    <tr>\n",
       "      <th>approx_diversity_in_neighborhood_q0</th>\n",
       "      <td>19.909091</td>\n",
       "    </tr>\n",
       "    <tr>\n",
       "      <th>targets_and_approxs_consistency_in_neighborhood_q1</th>\n",
       "      <td>20.954545</td>\n",
       "    </tr>\n",
       "    <tr>\n",
       "      <th>pred_targets_consistency_in_neighborhood_q50</th>\n",
       "      <td>21.409091</td>\n",
       "    </tr>\n",
       "  </tbody>\n",
       "</table>\n",
       "</div>"
      ],
      "text/plain": [
       "                                                    fi_rank_mean\n",
       "var                                                             \n",
       "bacc_test                                               1.045455\n",
       "uncertainty_q25                                         3.454545\n",
       "uncertainty_mean                                        3.681818\n",
       "uncertainty_q50                                         5.590909\n",
       "target_targets_consistency_in_neighborhood_q75          6.272727\n",
       "uncertainty_q0                                          7.272727\n",
       "target_approx_consistency_in_neighborhood_q25           8.681818\n",
       "uncertainty_q75                                         8.727273\n",
       "uncertainty_minmax                                      8.772727\n",
       "uncertainty_q1                                         12.227273\n",
       "target_approx_consistency_in_neighborhood_mean         14.136364\n",
       "neighborhood_size_q50                                  14.181818\n",
       "neighborhood_size_q25                                  15.363636\n",
       "target_targets_consistency_in_neighborhood_mean        16.727273\n",
       "approx_diversity_in_neighborhood_q75                   16.818182\n",
       "target_approx_consistency_in_neighborhood_q50          17.636364\n",
       "target_diversity_in_neighborhood_q1                    18.363636\n",
       "approx_diversity_in_neighborhood_q0                    19.909091\n",
       "targets_and_approxs_consistency_in_neighborhood_q1     20.954545\n",
       "pred_targets_consistency_in_neighborhood_q50           21.409091"
      ]
     },
     "execution_count": 17,
     "metadata": {},
     "output_type": "execute_result"
    }
   ],
   "source": [
    "fi_agg = one_dataset_out_fi_xgb[[\"var\", \"fi_rank\"]].groupby([\"var\"]).agg(['mean'])\n",
    "fi_agg.columns = fi_agg.columns.to_flat_index()\n",
    "fi_agg.columns = list(fi_agg.columns.map('_'.join))\n",
    "fi_agg.nsmallest(n=20, columns=[\"fi_rank_mean\"])"
   ]
  },
  {
   "cell_type": "markdown",
   "metadata": {},
   "source": [
    "## Random forest"
   ]
  },
  {
   "cell_type": "markdown",
   "metadata": {},
   "source": [
    "### Default parameters"
   ]
  },
  {
   "cell_type": "code",
   "execution_count": 18,
   "metadata": {},
   "outputs": [
    {
     "name": "stderr",
     "output_type": "stream",
     "text": [
      "100%|██████████| 22/22 [00:08<00:00,  2.62it/s]\n"
     ]
    },
    {
     "data": {
      "text/html": [
       "<div>\n",
       "<style scoped>\n",
       "    .dataframe tbody tr th:only-of-type {\n",
       "        vertical-align: middle;\n",
       "    }\n",
       "\n",
       "    .dataframe tbody tr th {\n",
       "        vertical-align: top;\n",
       "    }\n",
       "\n",
       "    .dataframe thead th {\n",
       "        text-align: right;\n",
       "    }\n",
       "</style>\n",
       "<table border=\"1\" class=\"dataframe\">\n",
       "  <thead>\n",
       "    <tr style=\"text-align: right;\">\n",
       "      <th></th>\n",
       "      <th>dataset</th>\n",
       "      <th>bacc</th>\n",
       "      <th>kappa</th>\n",
       "    </tr>\n",
       "  </thead>\n",
       "  <tbody>\n",
       "    <tr>\n",
       "      <th>0</th>\n",
       "      <td>Bioresponse</td>\n",
       "      <td>0.541667</td>\n",
       "      <td>0.500000</td>\n",
       "    </tr>\n",
       "    <tr>\n",
       "      <th>1</th>\n",
       "      <td>churn</td>\n",
       "      <td>0.708333</td>\n",
       "      <td>0.789256</td>\n",
       "    </tr>\n",
       "    <tr>\n",
       "      <th>2</th>\n",
       "      <td>cmc</td>\n",
       "      <td>0.875000</td>\n",
       "      <td>0.929752</td>\n",
       "    </tr>\n",
       "    <tr>\n",
       "      <th>3</th>\n",
       "      <td>cnae-9</td>\n",
       "      <td>0.750000</td>\n",
       "      <td>0.720165</td>\n",
       "    </tr>\n",
       "    <tr>\n",
       "      <th>4</th>\n",
       "      <td>dna</td>\n",
       "      <td>0.625000</td>\n",
       "      <td>0.647303</td>\n",
       "    </tr>\n",
       "    <tr>\n",
       "      <th>5</th>\n",
       "      <td>har</td>\n",
       "      <td>0.625000</td>\n",
       "      <td>0.504167</td>\n",
       "    </tr>\n",
       "    <tr>\n",
       "      <th>6</th>\n",
       "      <td>madelon</td>\n",
       "      <td>0.500000</td>\n",
       "      <td>0.231441</td>\n",
       "    </tr>\n",
       "    <tr>\n",
       "      <th>7</th>\n",
       "      <td>mfeat-factors</td>\n",
       "      <td>0.875000</td>\n",
       "      <td>0.929752</td>\n",
       "    </tr>\n",
       "    <tr>\n",
       "      <th>8</th>\n",
       "      <td>mfeat-fourier</td>\n",
       "      <td>0.750000</td>\n",
       "      <td>0.859504</td>\n",
       "    </tr>\n",
       "    <tr>\n",
       "      <th>9</th>\n",
       "      <td>mfeat-karhunen</td>\n",
       "      <td>1.000000</td>\n",
       "      <td>1.000000</td>\n",
       "    </tr>\n",
       "    <tr>\n",
       "      <th>10</th>\n",
       "      <td>mfeat-zernike</td>\n",
       "      <td>1.000000</td>\n",
       "      <td>1.000000</td>\n",
       "    </tr>\n",
       "    <tr>\n",
       "      <th>11</th>\n",
       "      <td>nomao</td>\n",
       "      <td>0.541667</td>\n",
       "      <td>0.508264</td>\n",
       "    </tr>\n",
       "    <tr>\n",
       "      <th>12</th>\n",
       "      <td>optdigits</td>\n",
       "      <td>1.000000</td>\n",
       "      <td>1.000000</td>\n",
       "    </tr>\n",
       "    <tr>\n",
       "      <th>13</th>\n",
       "      <td>pendigits</td>\n",
       "      <td>0.625000</td>\n",
       "      <td>0.508264</td>\n",
       "    </tr>\n",
       "    <tr>\n",
       "      <th>14</th>\n",
       "      <td>phoneme</td>\n",
       "      <td>0.500000</td>\n",
       "      <td>0.438017</td>\n",
       "    </tr>\n",
       "    <tr>\n",
       "      <th>15</th>\n",
       "      <td>qsar-biodeg</td>\n",
       "      <td>0.625000</td>\n",
       "      <td>0.648760</td>\n",
       "    </tr>\n",
       "    <tr>\n",
       "      <th>16</th>\n",
       "      <td>satimage</td>\n",
       "      <td>0.541667</td>\n",
       "      <td>0.547170</td>\n",
       "    </tr>\n",
       "    <tr>\n",
       "      <th>17</th>\n",
       "      <td>semeion</td>\n",
       "      <td>0.708333</td>\n",
       "      <td>0.642857</td>\n",
       "    </tr>\n",
       "    <tr>\n",
       "      <th>18</th>\n",
       "      <td>spambase</td>\n",
       "      <td>1.000000</td>\n",
       "      <td>1.000000</td>\n",
       "    </tr>\n",
       "    <tr>\n",
       "      <th>19</th>\n",
       "      <td>wall-robot-navigation</td>\n",
       "      <td>0.625000</td>\n",
       "      <td>0.508264</td>\n",
       "    </tr>\n",
       "    <tr>\n",
       "      <th>20</th>\n",
       "      <td>wdbc</td>\n",
       "      <td>0.541667</td>\n",
       "      <td>0.506224</td>\n",
       "    </tr>\n",
       "    <tr>\n",
       "      <th>21</th>\n",
       "      <td>wilt</td>\n",
       "      <td>0.479167</td>\n",
       "      <td>0.383065</td>\n",
       "    </tr>\n",
       "  </tbody>\n",
       "</table>\n",
       "</div>"
      ],
      "text/plain": [
       "                  dataset      bacc     kappa\n",
       "0             Bioresponse  0.541667  0.500000\n",
       "1                   churn  0.708333  0.789256\n",
       "2                     cmc  0.875000  0.929752\n",
       "3                  cnae-9  0.750000  0.720165\n",
       "4                     dna  0.625000  0.647303\n",
       "5                     har  0.625000  0.504167\n",
       "6                 madelon  0.500000  0.231441\n",
       "7           mfeat-factors  0.875000  0.929752\n",
       "8           mfeat-fourier  0.750000  0.859504\n",
       "9          mfeat-karhunen  1.000000  1.000000\n",
       "10          mfeat-zernike  1.000000  1.000000\n",
       "11                  nomao  0.541667  0.508264\n",
       "12              optdigits  1.000000  1.000000\n",
       "13              pendigits  0.625000  0.508264\n",
       "14                phoneme  0.500000  0.438017\n",
       "15            qsar-biodeg  0.625000  0.648760\n",
       "16               satimage  0.541667  0.547170\n",
       "17                semeion  0.708333  0.642857\n",
       "18               spambase  1.000000  1.000000\n",
       "19  wall-robot-navigation  0.625000  0.508264\n",
       "20                   wdbc  0.541667  0.506224\n",
       "21                   wilt  0.479167  0.383065"
      ]
     },
     "execution_count": 18,
     "metadata": {},
     "output_type": "execute_result"
    }
   ],
   "source": [
    "one_dataset_out_rf, one_dataset_out_fi_rf = leave_dataset_out(model=RandomForestClassifier(random_state=123))\n",
    "one_dataset_out_rf"
   ]
  },
  {
   "cell_type": "markdown",
   "metadata": {},
   "source": [
    "### Hyperparameters tuning"
   ]
  },
  {
   "cell_type": "code",
   "execution_count": 19,
   "metadata": {},
   "outputs": [
    {
     "name": "stderr",
     "output_type": "stream",
     "text": [
      "100%|██████████| 22/22 [00:06<00:00,  3.56it/s]\n"
     ]
    },
    {
     "name": "stdout",
     "output_type": "stream",
     "text": [
      "kappa = 0.6728284307163721, params: {'max_depth': 50, 'min_samples_split': 2, 'n_estimators': 100}\n"
     ]
    },
    {
     "name": "stderr",
     "output_type": "stream",
     "text": [
      "100%|██████████| 22/22 [00:12<00:00,  1.82it/s]\n"
     ]
    },
    {
     "name": "stdout",
     "output_type": "stream",
     "text": [
      "kappa = 0.6764363508772088, params: {'max_depth': 50, 'min_samples_split': 2, 'n_estimators': 200}\n"
     ]
    },
    {
     "name": "stderr",
     "output_type": "stream",
     "text": [
      "100%|██████████| 22/22 [00:29<00:00,  1.34s/it]\n"
     ]
    },
    {
     "name": "stdout",
     "output_type": "stream",
     "text": [
      "kappa = 0.6794966734511179, params: {'max_depth': 50, 'min_samples_split': 2, 'n_estimators': 500}\n"
     ]
    },
    {
     "name": "stderr",
     "output_type": "stream",
     "text": [
      "100%|██████████| 22/22 [00:06<00:00,  3.52it/s]\n"
     ]
    },
    {
     "name": "stdout",
     "output_type": "stream",
     "text": [
      "kappa = 0.6667110785535114, params: {'max_depth': 50, 'min_samples_split': 5, 'n_estimators': 100}\n"
     ]
    },
    {
     "name": "stderr",
     "output_type": "stream",
     "text": [
      "100%|██████████| 22/22 [00:11<00:00,  1.92it/s]\n"
     ]
    },
    {
     "name": "stdout",
     "output_type": "stream",
     "text": [
      "kappa = 0.705193072684382, params: {'max_depth': 50, 'min_samples_split': 5, 'n_estimators': 200}\n"
     ]
    },
    {
     "name": "stderr",
     "output_type": "stream",
     "text": [
      "100%|██████████| 22/22 [00:28<00:00,  1.28s/it]\n"
     ]
    },
    {
     "name": "stdout",
     "output_type": "stream",
     "text": [
      "kappa = 0.6864914105327841, params: {'max_depth': 50, 'min_samples_split': 5, 'n_estimators': 500}\n"
     ]
    },
    {
     "name": "stderr",
     "output_type": "stream",
     "text": [
      "100%|██████████| 22/22 [00:07<00:00,  3.08it/s]\n"
     ]
    },
    {
     "name": "stdout",
     "output_type": "stream",
     "text": [
      "kappa = 0.6763163521189756, params: {'max_depth': 50, 'min_samples_split': 8, 'n_estimators': 100}\n"
     ]
    },
    {
     "name": "stderr",
     "output_type": "stream",
     "text": [
      "100%|██████████| 22/22 [00:12<00:00,  1.75it/s]\n"
     ]
    },
    {
     "name": "stdout",
     "output_type": "stream",
     "text": [
      "kappa = 0.6797261511582688, params: {'max_depth': 50, 'min_samples_split': 8, 'n_estimators': 200}\n"
     ]
    },
    {
     "name": "stderr",
     "output_type": "stream",
     "text": [
      "100%|██████████| 22/22 [00:31<00:00,  1.43s/it]\n"
     ]
    },
    {
     "name": "stdout",
     "output_type": "stream",
     "text": [
      "kappa = 0.6799531690147439, params: {'max_depth': 50, 'min_samples_split': 8, 'n_estimators': 500}\n"
     ]
    },
    {
     "name": "stderr",
     "output_type": "stream",
     "text": [
      "100%|██████████| 22/22 [00:06<00:00,  3.48it/s]\n"
     ]
    },
    {
     "name": "stdout",
     "output_type": "stream",
     "text": [
      "kappa = 0.6728284307163721, params: {'max_depth': 80, 'min_samples_split': 2, 'n_estimators': 100}\n"
     ]
    },
    {
     "name": "stderr",
     "output_type": "stream",
     "text": [
      "100%|██████████| 22/22 [00:12<00:00,  1.74it/s]\n"
     ]
    },
    {
     "name": "stdout",
     "output_type": "stream",
     "text": [
      "kappa = 0.6764363508772088, params: {'max_depth': 80, 'min_samples_split': 2, 'n_estimators': 200}\n"
     ]
    },
    {
     "name": "stderr",
     "output_type": "stream",
     "text": [
      "100%|██████████| 22/22 [00:32<00:00,  1.47s/it]\n"
     ]
    },
    {
     "name": "stdout",
     "output_type": "stream",
     "text": [
      "kappa = 0.6794966734511179, params: {'max_depth': 80, 'min_samples_split': 2, 'n_estimators': 500}\n"
     ]
    },
    {
     "name": "stderr",
     "output_type": "stream",
     "text": [
      "100%|██████████| 22/22 [00:06<00:00,  3.56it/s]\n"
     ]
    },
    {
     "name": "stdout",
     "output_type": "stream",
     "text": [
      "kappa = 0.6667110785535114, params: {'max_depth': 80, 'min_samples_split': 5, 'n_estimators': 100}\n"
     ]
    },
    {
     "name": "stderr",
     "output_type": "stream",
     "text": [
      "100%|██████████| 22/22 [00:11<00:00,  1.84it/s]\n"
     ]
    },
    {
     "name": "stdout",
     "output_type": "stream",
     "text": [
      "kappa = 0.705193072684382, params: {'max_depth': 80, 'min_samples_split': 5, 'n_estimators': 200}\n"
     ]
    },
    {
     "name": "stderr",
     "output_type": "stream",
     "text": [
      "100%|██████████| 22/22 [00:29<00:00,  1.34s/it]\n"
     ]
    },
    {
     "name": "stdout",
     "output_type": "stream",
     "text": [
      "kappa = 0.6864914105327841, params: {'max_depth': 80, 'min_samples_split': 5, 'n_estimators': 500}\n"
     ]
    },
    {
     "name": "stderr",
     "output_type": "stream",
     "text": [
      "100%|██████████| 22/22 [00:05<00:00,  3.85it/s]\n"
     ]
    },
    {
     "name": "stdout",
     "output_type": "stream",
     "text": [
      "kappa = 0.6763163521189756, params: {'max_depth': 80, 'min_samples_split': 8, 'n_estimators': 100}\n"
     ]
    },
    {
     "name": "stderr",
     "output_type": "stream",
     "text": [
      "100%|██████████| 22/22 [00:11<00:00,  1.94it/s]\n"
     ]
    },
    {
     "name": "stdout",
     "output_type": "stream",
     "text": [
      "kappa = 0.6797261511582688, params: {'max_depth': 80, 'min_samples_split': 8, 'n_estimators': 200}\n"
     ]
    },
    {
     "name": "stderr",
     "output_type": "stream",
     "text": [
      "100%|██████████| 22/22 [00:27<00:00,  1.25s/it]\n"
     ]
    },
    {
     "name": "stdout",
     "output_type": "stream",
     "text": [
      "kappa = 0.6799531690147439, params: {'max_depth': 80, 'min_samples_split': 8, 'n_estimators': 500}\n"
     ]
    },
    {
     "name": "stderr",
     "output_type": "stream",
     "text": [
      "100%|██████████| 22/22 [00:05<00:00,  3.72it/s]\n"
     ]
    },
    {
     "name": "stdout",
     "output_type": "stream",
     "text": [
      "kappa = 0.6728284307163721, params: {'max_depth': 110, 'min_samples_split': 2, 'n_estimators': 100}\n"
     ]
    },
    {
     "name": "stderr",
     "output_type": "stream",
     "text": [
      "100%|██████████| 22/22 [00:11<00:00,  1.88it/s]\n"
     ]
    },
    {
     "name": "stdout",
     "output_type": "stream",
     "text": [
      "kappa = 0.6764363508772088, params: {'max_depth': 110, 'min_samples_split': 2, 'n_estimators': 200}\n"
     ]
    },
    {
     "name": "stderr",
     "output_type": "stream",
     "text": [
      "100%|██████████| 22/22 [00:29<00:00,  1.35s/it]\n"
     ]
    },
    {
     "name": "stdout",
     "output_type": "stream",
     "text": [
      "kappa = 0.6794966734511179, params: {'max_depth': 110, 'min_samples_split': 2, 'n_estimators': 500}\n"
     ]
    },
    {
     "name": "stderr",
     "output_type": "stream",
     "text": [
      "100%|██████████| 22/22 [00:05<00:00,  3.77it/s]\n"
     ]
    },
    {
     "name": "stdout",
     "output_type": "stream",
     "text": [
      "kappa = 0.6667110785535114, params: {'max_depth': 110, 'min_samples_split': 5, 'n_estimators': 100}\n"
     ]
    },
    {
     "name": "stderr",
     "output_type": "stream",
     "text": [
      "100%|██████████| 22/22 [00:11<00:00,  1.88it/s]\n"
     ]
    },
    {
     "name": "stdout",
     "output_type": "stream",
     "text": [
      "kappa = 0.705193072684382, params: {'max_depth': 110, 'min_samples_split': 5, 'n_estimators': 200}\n"
     ]
    },
    {
     "name": "stderr",
     "output_type": "stream",
     "text": [
      "100%|██████████| 22/22 [00:29<00:00,  1.35s/it]\n"
     ]
    },
    {
     "name": "stdout",
     "output_type": "stream",
     "text": [
      "kappa = 0.6864914105327841, params: {'max_depth': 110, 'min_samples_split': 5, 'n_estimators': 500}\n"
     ]
    },
    {
     "name": "stderr",
     "output_type": "stream",
     "text": [
      "100%|██████████| 22/22 [00:06<00:00,  3.65it/s]\n"
     ]
    },
    {
     "name": "stdout",
     "output_type": "stream",
     "text": [
      "kappa = 0.6763163521189756, params: {'max_depth': 110, 'min_samples_split': 8, 'n_estimators': 100}\n"
     ]
    },
    {
     "name": "stderr",
     "output_type": "stream",
     "text": [
      "100%|██████████| 22/22 [00:11<00:00,  1.92it/s]\n"
     ]
    },
    {
     "name": "stdout",
     "output_type": "stream",
     "text": [
      "kappa = 0.6797261511582688, params: {'max_depth': 110, 'min_samples_split': 8, 'n_estimators': 200}\n"
     ]
    },
    {
     "name": "stderr",
     "output_type": "stream",
     "text": [
      "100%|██████████| 22/22 [00:28<00:00,  1.29s/it]"
     ]
    },
    {
     "name": "stdout",
     "output_type": "stream",
     "text": [
      "kappa = 0.6799531690147439, params: {'max_depth': 110, 'min_samples_split': 8, 'n_estimators': 500}\n",
      "Params: {'max_depth': 50, 'min_samples_split': 5, 'n_estimators': 200} give best kappa equal 0.705193072684382\n"
     ]
    },
    {
     "name": "stderr",
     "output_type": "stream",
     "text": [
      "\n"
     ]
    }
   ],
   "source": [
    "model=RandomForestClassifier(random_state=123)\n",
    "\n",
    "param_grid = {\n",
    "    'max_depth': [50, 80, 110],\n",
    "    'min_samples_split': [2, 5, 8],\n",
    "    'n_estimators': [100, 200, 500]\n",
    "}\n",
    "\n",
    "one_dataset_out_rf, one_dataset_out_fi_rf = create_hyperparams_grid(model=model, param_grid=param_grid, exp_function=leave_dataset_out, crit=\"kappa\")"
   ]
  },
  {
   "cell_type": "code",
   "execution_count": 20,
   "metadata": {},
   "outputs": [
    {
     "data": {
      "text/html": [
       "<div>\n",
       "<style scoped>\n",
       "    .dataframe tbody tr th:only-of-type {\n",
       "        vertical-align: middle;\n",
       "    }\n",
       "\n",
       "    .dataframe tbody tr th {\n",
       "        vertical-align: top;\n",
       "    }\n",
       "\n",
       "    .dataframe thead th {\n",
       "        text-align: right;\n",
       "    }\n",
       "</style>\n",
       "<table border=\"1\" class=\"dataframe\">\n",
       "  <thead>\n",
       "    <tr style=\"text-align: right;\">\n",
       "      <th></th>\n",
       "      <th>bacc</th>\n",
       "      <th>kappa</th>\n",
       "    </tr>\n",
       "  </thead>\n",
       "  <tbody>\n",
       "    <tr>\n",
       "      <th>mean</th>\n",
       "      <td>0.727746</td>\n",
       "      <td>0.705193</td>\n",
       "    </tr>\n",
       "    <tr>\n",
       "      <th>std</th>\n",
       "      <td>0.184059</td>\n",
       "      <td>0.226020</td>\n",
       "    </tr>\n",
       "  </tbody>\n",
       "</table>\n",
       "</div>"
      ],
      "text/plain": [
       "          bacc     kappa\n",
       "mean  0.727746  0.705193\n",
       "std   0.184059  0.226020"
      ]
     },
     "execution_count": 20,
     "metadata": {},
     "output_type": "execute_result"
    }
   ],
   "source": [
    "one_dataset_out_rf[[\"bacc\", \"kappa\"]].agg(['mean', 'std'])"
   ]
  },
  {
   "cell_type": "code",
   "execution_count": 21,
   "metadata": {},
   "outputs": [
    {
     "data": {
      "text/html": [
       "<div>\n",
       "<style scoped>\n",
       "    .dataframe tbody tr th:only-of-type {\n",
       "        vertical-align: middle;\n",
       "    }\n",
       "\n",
       "    .dataframe tbody tr th {\n",
       "        vertical-align: top;\n",
       "    }\n",
       "\n",
       "    .dataframe thead th {\n",
       "        text-align: right;\n",
       "    }\n",
       "</style>\n",
       "<table border=\"1\" class=\"dataframe\">\n",
       "  <thead>\n",
       "    <tr style=\"text-align: right;\">\n",
       "      <th></th>\n",
       "      <th>fi_rank_mean</th>\n",
       "    </tr>\n",
       "    <tr>\n",
       "      <th>var</th>\n",
       "      <th></th>\n",
       "    </tr>\n",
       "  </thead>\n",
       "  <tbody>\n",
       "    <tr>\n",
       "      <th>bacc_test</th>\n",
       "      <td>1.000000</td>\n",
       "    </tr>\n",
       "    <tr>\n",
       "      <th>uncertainty_mean</th>\n",
       "      <td>2.000000</td>\n",
       "    </tr>\n",
       "    <tr>\n",
       "      <th>uncertainty_q25</th>\n",
       "      <td>4.136364</td>\n",
       "    </tr>\n",
       "    <tr>\n",
       "      <th>uncertainty_q75</th>\n",
       "      <td>4.636364</td>\n",
       "    </tr>\n",
       "    <tr>\n",
       "      <th>uncertainty_minmax</th>\n",
       "      <td>5.318182</td>\n",
       "    </tr>\n",
       "    <tr>\n",
       "      <th>uncertainty_q50</th>\n",
       "      <td>5.454545</td>\n",
       "    </tr>\n",
       "    <tr>\n",
       "      <th>uncertainty_q1</th>\n",
       "      <td>6.863636</td>\n",
       "    </tr>\n",
       "    <tr>\n",
       "      <th>target_approx_consistency_in_neighborhood_mean</th>\n",
       "      <td>7.500000</td>\n",
       "    </tr>\n",
       "    <tr>\n",
       "      <th>target_approx_consistency_in_neighborhood_q25</th>\n",
       "      <td>8.909091</td>\n",
       "    </tr>\n",
       "    <tr>\n",
       "      <th>target_approx_consistency_in_neighborhood_q50</th>\n",
       "      <td>9.272727</td>\n",
       "    </tr>\n",
       "    <tr>\n",
       "      <th>target_approx_consistency_in_neighborhood_q75</th>\n",
       "      <td>11.045455</td>\n",
       "    </tr>\n",
       "    <tr>\n",
       "      <th>pred_targets_consistency_in_neighborhood_mean</th>\n",
       "      <td>13.772727</td>\n",
       "    </tr>\n",
       "    <tr>\n",
       "      <th>target_diversity_in_neighborhood_mean</th>\n",
       "      <td>15.136364</td>\n",
       "    </tr>\n",
       "    <tr>\n",
       "      <th>approx_diversity_in_neighborhood_q50</th>\n",
       "      <td>15.181818</td>\n",
       "    </tr>\n",
       "    <tr>\n",
       "      <th>uncertainty_q0</th>\n",
       "      <td>15.409091</td>\n",
       "    </tr>\n",
       "    <tr>\n",
       "      <th>approx_diversity_in_neighborhood_mean</th>\n",
       "      <td>16.227273</td>\n",
       "    </tr>\n",
       "    <tr>\n",
       "      <th>approx_diversity_in_neighborhood_q25</th>\n",
       "      <td>17.181818</td>\n",
       "    </tr>\n",
       "    <tr>\n",
       "      <th>target_targets_consistency_in_neighborhood_mean</th>\n",
       "      <td>18.545455</td>\n",
       "    </tr>\n",
       "    <tr>\n",
       "      <th>target_targets_consistency_in_neighborhood_q50</th>\n",
       "      <td>19.545455</td>\n",
       "    </tr>\n",
       "    <tr>\n",
       "      <th>approx_diversity_in_neighborhood_q75</th>\n",
       "      <td>21.000000</td>\n",
       "    </tr>\n",
       "  </tbody>\n",
       "</table>\n",
       "</div>"
      ],
      "text/plain": [
       "                                                 fi_rank_mean\n",
       "var                                                          \n",
       "bacc_test                                            1.000000\n",
       "uncertainty_mean                                     2.000000\n",
       "uncertainty_q25                                      4.136364\n",
       "uncertainty_q75                                      4.636364\n",
       "uncertainty_minmax                                   5.318182\n",
       "uncertainty_q50                                      5.454545\n",
       "uncertainty_q1                                       6.863636\n",
       "target_approx_consistency_in_neighborhood_mean       7.500000\n",
       "target_approx_consistency_in_neighborhood_q25        8.909091\n",
       "target_approx_consistency_in_neighborhood_q50        9.272727\n",
       "target_approx_consistency_in_neighborhood_q75       11.045455\n",
       "pred_targets_consistency_in_neighborhood_mean       13.772727\n",
       "target_diversity_in_neighborhood_mean               15.136364\n",
       "approx_diversity_in_neighborhood_q50                15.181818\n",
       "uncertainty_q0                                      15.409091\n",
       "approx_diversity_in_neighborhood_mean               16.227273\n",
       "approx_diversity_in_neighborhood_q25                17.181818\n",
       "target_targets_consistency_in_neighborhood_mean     18.545455\n",
       "target_targets_consistency_in_neighborhood_q50      19.545455\n",
       "approx_diversity_in_neighborhood_q75                21.000000"
      ]
     },
     "execution_count": 21,
     "metadata": {},
     "output_type": "execute_result"
    }
   ],
   "source": [
    "fi_agg = one_dataset_out_fi_rf[[\"var\", \"fi_rank\"]].groupby([\"var\"]).agg(['mean'])\n",
    "fi_agg.columns = fi_agg.columns.to_flat_index()\n",
    "fi_agg.columns = list(fi_agg.columns.map('_'.join))\n",
    "fi_agg.nsmallest(n=20, columns=[\"fi_rank_mean\"])"
   ]
  },
  {
   "cell_type": "markdown",
   "metadata": {},
   "source": [
    "# Leave-one-model-out"
   ]
  },
  {
   "cell_type": "code",
   "execution_count": 38,
   "metadata": {},
   "outputs": [],
   "source": [
    "def leave_model_out(model=xgb.XGBClassifier(random_state=123)):\n",
    "\n",
    "    models = np.unique(attrs_agg_correct_cols[\"model\"])\n",
    "    kappa_list = []\n",
    "    bacc_list = []\n",
    "    fi_all = pd.DataFrame()\n",
    "\n",
    "    for selected_model in models:\n",
    "\n",
    "        train = attrs_agg_correct_cols[attrs_agg_correct_cols[\"model\"] != selected_model]\n",
    "        test = attrs_agg_correct_cols[attrs_agg_correct_cols[\"model\"] == selected_model]\n",
    "\n",
    "        y = attrs_agg_correct_cols[\"attack\"]\n",
    "\n",
    "        x_train = train.drop(columns=[\"dataset\", \"model\", \"attack\"])\n",
    "        y_train = train[\"attack\"]\n",
    "\n",
    "        x_test = test.drop(columns=[\"dataset\", \"model\", \"attack\"])\n",
    "        y_test = test[\"attack\"]\n",
    "\n",
    "        le = LabelEncoder()\n",
    "        # le.fit(y)\n",
    "        y_train_enc = le.fit_transform(y_train)\n",
    "        # y_test_enc = le.transform(y_test)\n",
    "\n",
    "        model.fit(x_train, y_train_enc)\n",
    "\n",
    "        fi_dict = {'var': x_train.columns, 'fi': model.feature_importances_}\n",
    "        fi_df = pd.DataFrame(fi_dict)\n",
    "        fi_df[\"fi_rank\"] = fi_df[\"fi\"].rank(ascending=False)\n",
    "        fi_df[\"model\"] = selected_model\n",
    "        fi_all = pd.concat([fi_all, fi_df])\n",
    "\n",
    "        preds = model.predict(x_test)\n",
    "        bacc_list.append(balanced_accuracy_score(y_test, le.inverse_transform(preds)))\n",
    "        kappa_list.append(cohen_kappa_score(y_test, le.inverse_transform(preds)))\n",
    "\n",
    "    results_dict = {'model': models, 'bacc': bacc_list, 'kappa': kappa_list}\n",
    "    results_df = pd.DataFrame(results_dict)\n",
    "    return results_df, fi_all"
   ]
  },
  {
   "cell_type": "markdown",
   "metadata": {},
   "source": [
    "## XGBoost"
   ]
  },
  {
   "cell_type": "code",
   "execution_count": 39,
   "metadata": {},
   "outputs": [
    {
     "name": "stderr",
     "output_type": "stream",
     "text": [
      "c:\\Users\\lukas\\miniconda3\\envs\\attacks\\lib\\site-packages\\sklearn\\metrics\\_classification.py:2480: UserWarning: y_pred contains classes not in y_true\n",
      "  warnings.warn(\"y_pred contains classes not in y_true\")\n",
      "c:\\Users\\lukas\\miniconda3\\envs\\attacks\\lib\\site-packages\\sklearn\\metrics\\_classification.py:2480: UserWarning: y_pred contains classes not in y_true\n",
      "  warnings.warn(\"y_pred contains classes not in y_true\")\n"
     ]
    },
    {
     "data": {
      "text/html": [
       "<div>\n",
       "<style scoped>\n",
       "    .dataframe tbody tr th:only-of-type {\n",
       "        vertical-align: middle;\n",
       "    }\n",
       "\n",
       "    .dataframe tbody tr th {\n",
       "        vertical-align: top;\n",
       "    }\n",
       "\n",
       "    .dataframe thead th {\n",
       "        text-align: right;\n",
       "    }\n",
       "</style>\n",
       "<table border=\"1\" class=\"dataframe\">\n",
       "  <thead>\n",
       "    <tr style=\"text-align: right;\">\n",
       "      <th></th>\n",
       "      <th>model</th>\n",
       "      <th>bacc</th>\n",
       "      <th>kappa</th>\n",
       "    </tr>\n",
       "  </thead>\n",
       "  <tbody>\n",
       "    <tr>\n",
       "      <th>0</th>\n",
       "      <td>lin</td>\n",
       "      <td>0.840909</td>\n",
       "      <td>0.787879</td>\n",
       "    </tr>\n",
       "    <tr>\n",
       "      <th>1</th>\n",
       "      <td>nn</td>\n",
       "      <td>0.181818</td>\n",
       "      <td>0.146110</td>\n",
       "    </tr>\n",
       "    <tr>\n",
       "      <th>2</th>\n",
       "      <td>svm</td>\n",
       "      <td>0.727273</td>\n",
       "      <td>0.636364</td>\n",
       "    </tr>\n",
       "    <tr>\n",
       "      <th>3</th>\n",
       "      <td>xgb</td>\n",
       "      <td>0.561364</td>\n",
       "      <td>0.425839</td>\n",
       "    </tr>\n",
       "  </tbody>\n",
       "</table>\n",
       "</div>"
      ],
      "text/plain": [
       "  model      bacc     kappa\n",
       "0   lin  0.840909  0.787879\n",
       "1    nn  0.181818  0.146110\n",
       "2   svm  0.727273  0.636364\n",
       "3   xgb  0.561364  0.425839"
      ]
     },
     "execution_count": 39,
     "metadata": {},
     "output_type": "execute_result"
    }
   ],
   "source": [
    "one_model_out_xgb, one_model_out_fi_xgb = leave_model_out()\n",
    "one_model_out_xgb"
   ]
  },
  {
   "cell_type": "code",
   "execution_count": 40,
   "metadata": {},
   "outputs": [
    {
     "data": {
      "text/html": [
       "<div>\n",
       "<style scoped>\n",
       "    .dataframe tbody tr th:only-of-type {\n",
       "        vertical-align: middle;\n",
       "    }\n",
       "\n",
       "    .dataframe tbody tr th {\n",
       "        vertical-align: top;\n",
       "    }\n",
       "\n",
       "    .dataframe thead th {\n",
       "        text-align: right;\n",
       "    }\n",
       "</style>\n",
       "<table border=\"1\" class=\"dataframe\">\n",
       "  <thead>\n",
       "    <tr style=\"text-align: right;\">\n",
       "      <th></th>\n",
       "      <th>bacc</th>\n",
       "      <th>kappa</th>\n",
       "    </tr>\n",
       "  </thead>\n",
       "  <tbody>\n",
       "    <tr>\n",
       "      <th>mean</th>\n",
       "      <td>0.577841</td>\n",
       "      <td>0.499048</td>\n",
       "    </tr>\n",
       "    <tr>\n",
       "      <th>std</th>\n",
       "      <td>0.287889</td>\n",
       "      <td>0.278211</td>\n",
       "    </tr>\n",
       "  </tbody>\n",
       "</table>\n",
       "</div>"
      ],
      "text/plain": [
       "          bacc     kappa\n",
       "mean  0.577841  0.499048\n",
       "std   0.287889  0.278211"
      ]
     },
     "execution_count": 40,
     "metadata": {},
     "output_type": "execute_result"
    }
   ],
   "source": [
    "one_model_out_xgb[[\"bacc\", \"kappa\"]].agg(['mean', 'std'])"
   ]
  },
  {
   "cell_type": "markdown",
   "metadata": {},
   "source": [
    "## Random forest"
   ]
  },
  {
   "cell_type": "code",
   "execution_count": 41,
   "metadata": {},
   "outputs": [
    {
     "name": "stderr",
     "output_type": "stream",
     "text": [
      "c:\\Users\\lukas\\miniconda3\\envs\\attacks\\lib\\site-packages\\sklearn\\metrics\\_classification.py:2480: UserWarning: y_pred contains classes not in y_true\n",
      "  warnings.warn(\"y_pred contains classes not in y_true\")\n",
      "c:\\Users\\lukas\\miniconda3\\envs\\attacks\\lib\\site-packages\\sklearn\\metrics\\_classification.py:2480: UserWarning: y_pred contains classes not in y_true\n",
      "  warnings.warn(\"y_pred contains classes not in y_true\")\n",
      "c:\\Users\\lukas\\miniconda3\\envs\\attacks\\lib\\site-packages\\sklearn\\metrics\\_classification.py:2480: UserWarning: y_pred contains classes not in y_true\n",
      "  warnings.warn(\"y_pred contains classes not in y_true\")\n"
     ]
    },
    {
     "data": {
      "text/html": [
       "<div>\n",
       "<style scoped>\n",
       "    .dataframe tbody tr th:only-of-type {\n",
       "        vertical-align: middle;\n",
       "    }\n",
       "\n",
       "    .dataframe tbody tr th {\n",
       "        vertical-align: top;\n",
       "    }\n",
       "\n",
       "    .dataframe thead th {\n",
       "        text-align: right;\n",
       "    }\n",
       "</style>\n",
       "<table border=\"1\" class=\"dataframe\">\n",
       "  <thead>\n",
       "    <tr style=\"text-align: right;\">\n",
       "      <th></th>\n",
       "      <th>model</th>\n",
       "      <th>bacc</th>\n",
       "      <th>kappa</th>\n",
       "    </tr>\n",
       "  </thead>\n",
       "  <tbody>\n",
       "    <tr>\n",
       "      <th>0</th>\n",
       "      <td>lin</td>\n",
       "      <td>0.818182</td>\n",
       "      <td>0.757576</td>\n",
       "    </tr>\n",
       "    <tr>\n",
       "      <th>1</th>\n",
       "      <td>nn</td>\n",
       "      <td>0.200000</td>\n",
       "      <td>0.166667</td>\n",
       "    </tr>\n",
       "    <tr>\n",
       "      <th>2</th>\n",
       "      <td>svm</td>\n",
       "      <td>0.806818</td>\n",
       "      <td>0.744361</td>\n",
       "    </tr>\n",
       "    <tr>\n",
       "      <th>3</th>\n",
       "      <td>xgb</td>\n",
       "      <td>0.550000</td>\n",
       "      <td>0.412019</td>\n",
       "    </tr>\n",
       "  </tbody>\n",
       "</table>\n",
       "</div>"
      ],
      "text/plain": [
       "  model      bacc     kappa\n",
       "0   lin  0.818182  0.757576\n",
       "1    nn  0.200000  0.166667\n",
       "2   svm  0.806818  0.744361\n",
       "3   xgb  0.550000  0.412019"
      ]
     },
     "execution_count": 41,
     "metadata": {},
     "output_type": "execute_result"
    }
   ],
   "source": [
    "one_model_out_rf, one_model_out_fi_rf = leave_model_out(model=RandomForestClassifier(random_state=123))\n",
    "one_model_out_rf"
   ]
  },
  {
   "cell_type": "code",
   "execution_count": 42,
   "metadata": {},
   "outputs": [
    {
     "data": {
      "text/html": [
       "<div>\n",
       "<style scoped>\n",
       "    .dataframe tbody tr th:only-of-type {\n",
       "        vertical-align: middle;\n",
       "    }\n",
       "\n",
       "    .dataframe tbody tr th {\n",
       "        vertical-align: top;\n",
       "    }\n",
       "\n",
       "    .dataframe thead th {\n",
       "        text-align: right;\n",
       "    }\n",
       "</style>\n",
       "<table border=\"1\" class=\"dataframe\">\n",
       "  <thead>\n",
       "    <tr style=\"text-align: right;\">\n",
       "      <th></th>\n",
       "      <th>bacc</th>\n",
       "      <th>kappa</th>\n",
       "    </tr>\n",
       "  </thead>\n",
       "  <tbody>\n",
       "    <tr>\n",
       "      <th>mean</th>\n",
       "      <td>0.593750</td>\n",
       "      <td>0.520156</td>\n",
       "    </tr>\n",
       "    <tr>\n",
       "      <th>std</th>\n",
       "      <td>0.290242</td>\n",
       "      <td>0.284771</td>\n",
       "    </tr>\n",
       "  </tbody>\n",
       "</table>\n",
       "</div>"
      ],
      "text/plain": [
       "          bacc     kappa\n",
       "mean  0.593750  0.520156\n",
       "std   0.290242  0.284771"
      ]
     },
     "execution_count": 42,
     "metadata": {},
     "output_type": "execute_result"
    }
   ],
   "source": [
    "one_model_out_rf[[\"bacc\", \"kappa\"]].agg(['mean', 'std'])"
   ]
  },
  {
   "cell_type": "markdown",
   "metadata": {},
   "source": [
    "# 10-fold cross validation"
   ]
  },
  {
   "cell_type": "code",
   "execution_count": 43,
   "metadata": {},
   "outputs": [],
   "source": [
    "def cross_validation(model=xgb.XGBClassifier(random_state=123)):\n",
    "\n",
    "    kappa_list = []\n",
    "    bacc_list = []\n",
    "    iter_cv = []\n",
    "    fi_all = pd.DataFrame()\n",
    "\n",
    "    le = LabelEncoder()\n",
    "    x = attrs_agg_correct_cols.drop(columns=[\"dataset\", \"model\", \"attack\"])\n",
    "    y = attrs_agg_correct_cols[\"attack\"]\n",
    "    y_enc = le.fit_transform(y)\n",
    "\n",
    "    skf = StratifiedKFold(n_splits=10)\n",
    "    cv = 0\n",
    "    for train, test in skf.split(x, y_enc):\n",
    "\n",
    "        x_train = x.iloc[train]\n",
    "        y_train = y_enc[train]\n",
    "\n",
    "        x_test = x.iloc[test]\n",
    "        y_test = y_enc[test]\n",
    "\n",
    "        model.fit(x_train, y_train)\n",
    "\n",
    "        fi_dict = {'var': x_train.columns, 'fi': model.feature_importances_}\n",
    "        fi_df = pd.DataFrame(fi_dict)\n",
    "        fi_df[\"fi_rank\"] = fi_df[\"fi\"].rank(ascending=False)\n",
    "        fi_df[\"cv\"] = cv\n",
    "        fi_all = pd.concat([fi_all, fi_df])\n",
    "\n",
    "        preds = model.predict(x_test)\n",
    "        bacc_list.append(balanced_accuracy_score(y_test, preds))\n",
    "        kappa_list.append(cohen_kappa_score(y_test, preds))\n",
    "        iter_cv.append(cv)\n",
    "        cv = cv + 1\n",
    "\n",
    "    results_dict = {'cv': iter_cv, 'bacc': bacc_list, 'kappa': kappa_list}\n",
    "    results_df = pd.DataFrame(results_dict)\n",
    "    return results_df, fi_all"
   ]
  },
  {
   "cell_type": "markdown",
   "metadata": {},
   "source": [
    "## XGBoost"
   ]
  },
  {
   "cell_type": "code",
   "execution_count": 44,
   "metadata": {},
   "outputs": [
    {
     "data": {
      "text/html": [
       "<div>\n",
       "<style scoped>\n",
       "    .dataframe tbody tr th:only-of-type {\n",
       "        vertical-align: middle;\n",
       "    }\n",
       "\n",
       "    .dataframe tbody tr th {\n",
       "        vertical-align: top;\n",
       "    }\n",
       "\n",
       "    .dataframe thead th {\n",
       "        text-align: right;\n",
       "    }\n",
       "</style>\n",
       "<table border=\"1\" class=\"dataframe\">\n",
       "  <thead>\n",
       "    <tr style=\"text-align: right;\">\n",
       "      <th></th>\n",
       "      <th>cv</th>\n",
       "      <th>bacc</th>\n",
       "      <th>kappa</th>\n",
       "    </tr>\n",
       "  </thead>\n",
       "  <tbody>\n",
       "    <tr>\n",
       "      <th>0</th>\n",
       "      <td>0</td>\n",
       "      <td>0.779762</td>\n",
       "      <td>0.810316</td>\n",
       "    </tr>\n",
       "    <tr>\n",
       "      <th>1</th>\n",
       "      <td>1</td>\n",
       "      <td>0.733135</td>\n",
       "      <td>0.686727</td>\n",
       "    </tr>\n",
       "    <tr>\n",
       "      <th>2</th>\n",
       "      <td>2</td>\n",
       "      <td>0.553571</td>\n",
       "      <td>0.513158</td>\n",
       "    </tr>\n",
       "    <tr>\n",
       "      <th>3</th>\n",
       "      <td>3</td>\n",
       "      <td>0.758929</td>\n",
       "      <td>0.804749</td>\n",
       "    </tr>\n",
       "    <tr>\n",
       "      <th>4</th>\n",
       "      <td>4</td>\n",
       "      <td>0.895833</td>\n",
       "      <td>0.935484</td>\n",
       "    </tr>\n",
       "    <tr>\n",
       "      <th>5</th>\n",
       "      <td>5</td>\n",
       "      <td>0.586310</td>\n",
       "      <td>0.675439</td>\n",
       "    </tr>\n",
       "    <tr>\n",
       "      <th>6</th>\n",
       "      <td>6</td>\n",
       "      <td>0.643849</td>\n",
       "      <td>0.582103</td>\n",
       "    </tr>\n",
       "    <tr>\n",
       "      <th>7</th>\n",
       "      <td>7</td>\n",
       "      <td>0.644841</td>\n",
       "      <td>0.611208</td>\n",
       "    </tr>\n",
       "    <tr>\n",
       "      <th>8</th>\n",
       "      <td>8</td>\n",
       "      <td>0.780754</td>\n",
       "      <td>0.773601</td>\n",
       "    </tr>\n",
       "    <tr>\n",
       "      <th>9</th>\n",
       "      <td>9</td>\n",
       "      <td>0.300595</td>\n",
       "      <td>0.381162</td>\n",
       "    </tr>\n",
       "  </tbody>\n",
       "</table>\n",
       "</div>"
      ],
      "text/plain": [
       "   cv      bacc     kappa\n",
       "0   0  0.779762  0.810316\n",
       "1   1  0.733135  0.686727\n",
       "2   2  0.553571  0.513158\n",
       "3   3  0.758929  0.804749\n",
       "4   4  0.895833  0.935484\n",
       "5   5  0.586310  0.675439\n",
       "6   6  0.643849  0.582103\n",
       "7   7  0.644841  0.611208\n",
       "8   8  0.780754  0.773601\n",
       "9   9  0.300595  0.381162"
      ]
     },
     "execution_count": 44,
     "metadata": {},
     "output_type": "execute_result"
    }
   ],
   "source": [
    "cv_xgb, cv_fi_xgb = cross_validation()\n",
    "cv_xgb"
   ]
  },
  {
   "cell_type": "code",
   "execution_count": 45,
   "metadata": {},
   "outputs": [
    {
     "data": {
      "text/html": [
       "<div>\n",
       "<style scoped>\n",
       "    .dataframe tbody tr th:only-of-type {\n",
       "        vertical-align: middle;\n",
       "    }\n",
       "\n",
       "    .dataframe tbody tr th {\n",
       "        vertical-align: top;\n",
       "    }\n",
       "\n",
       "    .dataframe thead th {\n",
       "        text-align: right;\n",
       "    }\n",
       "</style>\n",
       "<table border=\"1\" class=\"dataframe\">\n",
       "  <thead>\n",
       "    <tr style=\"text-align: right;\">\n",
       "      <th></th>\n",
       "      <th>bacc</th>\n",
       "      <th>kappa</th>\n",
       "    </tr>\n",
       "  </thead>\n",
       "  <tbody>\n",
       "    <tr>\n",
       "      <th>mean</th>\n",
       "      <td>0.667758</td>\n",
       "      <td>0.677395</td>\n",
       "    </tr>\n",
       "    <tr>\n",
       "      <th>std</th>\n",
       "      <td>0.165158</td>\n",
       "      <td>0.162629</td>\n",
       "    </tr>\n",
       "  </tbody>\n",
       "</table>\n",
       "</div>"
      ],
      "text/plain": [
       "          bacc     kappa\n",
       "mean  0.667758  0.677395\n",
       "std   0.165158  0.162629"
      ]
     },
     "execution_count": 45,
     "metadata": {},
     "output_type": "execute_result"
    }
   ],
   "source": [
    "cv_xgb[[\"bacc\", \"kappa\"]].agg(['mean', 'std'])"
   ]
  },
  {
   "cell_type": "markdown",
   "metadata": {},
   "source": [
    "## Random forest"
   ]
  },
  {
   "cell_type": "code",
   "execution_count": 46,
   "metadata": {},
   "outputs": [
    {
     "data": {
      "text/html": [
       "<div>\n",
       "<style scoped>\n",
       "    .dataframe tbody tr th:only-of-type {\n",
       "        vertical-align: middle;\n",
       "    }\n",
       "\n",
       "    .dataframe tbody tr th {\n",
       "        vertical-align: top;\n",
       "    }\n",
       "\n",
       "    .dataframe thead th {\n",
       "        text-align: right;\n",
       "    }\n",
       "</style>\n",
       "<table border=\"1\" class=\"dataframe\">\n",
       "  <thead>\n",
       "    <tr style=\"text-align: right;\">\n",
       "      <th></th>\n",
       "      <th>cv</th>\n",
       "      <th>bacc</th>\n",
       "      <th>kappa</th>\n",
       "    </tr>\n",
       "  </thead>\n",
       "  <tbody>\n",
       "    <tr>\n",
       "      <th>0</th>\n",
       "      <td>0</td>\n",
       "      <td>0.601190</td>\n",
       "      <td>0.620948</td>\n",
       "    </tr>\n",
       "    <tr>\n",
       "      <th>1</th>\n",
       "      <td>1</td>\n",
       "      <td>0.685516</td>\n",
       "      <td>0.687243</td>\n",
       "    </tr>\n",
       "    <tr>\n",
       "      <th>2</th>\n",
       "      <td>2</td>\n",
       "      <td>0.488839</td>\n",
       "      <td>0.383874</td>\n",
       "    </tr>\n",
       "    <tr>\n",
       "      <th>3</th>\n",
       "      <td>3</td>\n",
       "      <td>0.616071</td>\n",
       "      <td>0.706866</td>\n",
       "    </tr>\n",
       "    <tr>\n",
       "      <th>4</th>\n",
       "      <td>4</td>\n",
       "      <td>0.833333</td>\n",
       "      <td>0.903141</td>\n",
       "    </tr>\n",
       "    <tr>\n",
       "      <th>5</th>\n",
       "      <td>5</td>\n",
       "      <td>0.678571</td>\n",
       "      <td>0.678819</td>\n",
       "    </tr>\n",
       "    <tr>\n",
       "      <th>6</th>\n",
       "      <td>6</td>\n",
       "      <td>0.625992</td>\n",
       "      <td>0.518229</td>\n",
       "    </tr>\n",
       "    <tr>\n",
       "      <th>7</th>\n",
       "      <td>7</td>\n",
       "      <td>0.525794</td>\n",
       "      <td>0.482065</td>\n",
       "    </tr>\n",
       "    <tr>\n",
       "      <th>8</th>\n",
       "      <td>8</td>\n",
       "      <td>0.718254</td>\n",
       "      <td>0.675723</td>\n",
       "    </tr>\n",
       "    <tr>\n",
       "      <th>9</th>\n",
       "      <td>9</td>\n",
       "      <td>0.351190</td>\n",
       "      <td>0.312389</td>\n",
       "    </tr>\n",
       "  </tbody>\n",
       "</table>\n",
       "</div>"
      ],
      "text/plain": [
       "   cv      bacc     kappa\n",
       "0   0  0.601190  0.620948\n",
       "1   1  0.685516  0.687243\n",
       "2   2  0.488839  0.383874\n",
       "3   3  0.616071  0.706866\n",
       "4   4  0.833333  0.903141\n",
       "5   5  0.678571  0.678819\n",
       "6   6  0.625992  0.518229\n",
       "7   7  0.525794  0.482065\n",
       "8   8  0.718254  0.675723\n",
       "9   9  0.351190  0.312389"
      ]
     },
     "execution_count": 46,
     "metadata": {},
     "output_type": "execute_result"
    }
   ],
   "source": [
    "cv_rf, cv_fi_rf = cross_validation(model=RandomForestClassifier(random_state=123))\n",
    "cv_rf"
   ]
  },
  {
   "cell_type": "code",
   "execution_count": 47,
   "metadata": {},
   "outputs": [
    {
     "data": {
      "text/html": [
       "<div>\n",
       "<style scoped>\n",
       "    .dataframe tbody tr th:only-of-type {\n",
       "        vertical-align: middle;\n",
       "    }\n",
       "\n",
       "    .dataframe tbody tr th {\n",
       "        vertical-align: top;\n",
       "    }\n",
       "\n",
       "    .dataframe thead th {\n",
       "        text-align: right;\n",
       "    }\n",
       "</style>\n",
       "<table border=\"1\" class=\"dataframe\">\n",
       "  <thead>\n",
       "    <tr style=\"text-align: right;\">\n",
       "      <th></th>\n",
       "      <th>bacc</th>\n",
       "      <th>kappa</th>\n",
       "    </tr>\n",
       "  </thead>\n",
       "  <tbody>\n",
       "    <tr>\n",
       "      <th>mean</th>\n",
       "      <td>0.612475</td>\n",
       "      <td>0.596930</td>\n",
       "    </tr>\n",
       "    <tr>\n",
       "      <th>std</th>\n",
       "      <td>0.133776</td>\n",
       "      <td>0.174242</td>\n",
       "    </tr>\n",
       "  </tbody>\n",
       "</table>\n",
       "</div>"
      ],
      "text/plain": [
       "          bacc     kappa\n",
       "mean  0.612475  0.596930\n",
       "std   0.133776  0.174242"
      ]
     },
     "execution_count": 47,
     "metadata": {},
     "output_type": "execute_result"
    }
   ],
   "source": [
    "cv_rf[[\"bacc\", \"kappa\"]].agg(['mean', 'std'])"
   ]
  },
  {
   "cell_type": "markdown",
   "metadata": {
    "collapsed": false
   },
   "source": [
    "## Save data"
   ]
  },
  {
   "cell_type": "code",
   "execution_count": 48,
   "metadata": {
    "collapsed": false
   },
   "outputs": [],
   "source": [
    "def preprocess_output(df, scenario, mod):\n",
    "    df[\"scenario\"] = scenario\n",
    "    df[\"model_class\"] = mod\n",
    "\n",
    "    return df\n",
    "\n",
    "one_dataset_out_rf = preprocess_output(one_dataset_out_rf, \"one-data-set-out\", \"RF\")\n",
    "one_dataset_out_xgb = preprocess_output(one_dataset_out_xgb, \"one-data-set-out\", \"XGB\")\n",
    "one_model_out_rf = preprocess_output(one_model_out_rf, \"one-model-out\", \"RF\")\n",
    "one_model_out_xgb = preprocess_output(one_model_out_xgb, \"one-model-out\", \"XGB\")\n",
    "cv_rf = preprocess_output(cv_rf, \"10-fold cross-validation\", \"RF\")\n",
    "cv_xgb = preprocess_output(cv_xgb, \"10-fold cross-validation\", \"XGB\")\n",
    "\n",
    "all_bacc = pd.concat([one_dataset_out_rf, one_dataset_out_xgb,\n",
    "                      one_model_out_rf, one_model_out_xgb,\n",
    "                      cv_rf, cv_xgb])"
   ]
  },
  {
   "cell_type": "code",
   "execution_count": 49,
   "metadata": {
    "collapsed": false
   },
   "outputs": [],
   "source": [
    "all_bacc.to_csv(\"results/isolation_bacc_nn.csv\", index=False)"
   ]
  },
  {
   "cell_type": "code",
   "execution_count": 50,
   "metadata": {
    "collapsed": false
   },
   "outputs": [],
   "source": [
    "one_dataset_out_fi_rf = preprocess_output(one_dataset_out_fi_rf, \"one-data-set-out\", \"RF\")\n",
    "one_dataset_out_fi_xgb = preprocess_output(one_dataset_out_fi_xgb, \"one-data-set-out\", \"XGB\")\n",
    "one_model_out_fi_rf = preprocess_output(one_model_out_fi_rf, \"one-model-out\", \"RF\")\n",
    "one_model_out_fi_xgb = preprocess_output(one_model_out_fi_xgb, \"one-model-out\", \"XGB\")\n",
    "cv_fi_rf = preprocess_output(cv_fi_rf, \"10-fold cross-validation\", \"RF\")\n",
    "cv_fi_xgb = preprocess_output(cv_fi_xgb, \"10-fold cross-validation\", \"XGB\")\n",
    "\n",
    "all_fi = pd.concat([one_dataset_out_fi_rf, one_dataset_out_fi_xgb,\n",
    "                      one_model_out_fi_rf, one_model_out_fi_xgb,\n",
    "                      cv_fi_rf, cv_fi_xgb])\n",
    "\n",
    "all_fi.to_csv(\"results/isolation_fi_nn.csv\", index=False)"
   ]
  }
 ],
 "metadata": {
  "kernelspec": {
   "display_name": "venv",
   "language": "python",
   "name": "python3"
  },
  "language_info": {
   "codemirror_mode": {
    "name": "ipython",
    "version": 3
   },
   "file_extension": ".py",
   "mimetype": "text/x-python",
   "name": "python",
   "nbconvert_exporter": "python",
   "pygments_lexer": "ipython3",
   "version": "3.13.3"
  }
 },
 "nbformat": 4,
 "nbformat_minor": 1
}
